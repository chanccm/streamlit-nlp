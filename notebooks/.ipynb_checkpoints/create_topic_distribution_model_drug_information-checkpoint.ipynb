{
 "cells": [
  {
   "cell_type": "markdown",
   "metadata": {},
   "source": [
    "# Topic Estimation Steps:\n",
    "\n",
    "\n",
    "1. Text preprocessing and tokenization\n",
    "\n",
    "2. Make document-term matrix\n",
    "    - input: tokens \n",
    "    - tool: CountVectorizer\n",
    "    \n",
    "3. Make topic distribution matrix\n",
    "    - input:\n",
    "        i) document-term matrix -> term-document matrix -> corpus\n",
    "        ii) dictionary (from gensim, Not pandas dict)\n",
    "    - tool: Latent Dirichlet Allocation\n",
    "    - visualization: pyLDAvis\n",
    "    - output: each piece of text is expressed in terms of a list of topics, and the probability for each topic\n"
   ]
  },
  {
   "cell_type": "markdown",
   "metadata": {},
   "source": [
    "# Import libraries"
   ]
  },
  {
   "cell_type": "code",
   "execution_count": 2,
   "metadata": {},
   "outputs": [],
   "source": [
    "import pandas as pd\n",
    "import numpy as np\n",
    "import matplotlib.pyplot as plt\n",
    "from collections import Counter\n",
    "\n",
    "from sklearn.feature_extraction.text import CountVectorizer\n",
    "from nltk.tokenize import RegexpTokenizer\n",
    "from nltk.corpus import wordnet \n",
    "from nltk.stem.wordnet import WordNetLemmatizer\n",
    "from nltk.corpus import stopwords\n",
    "\n",
    "import gensim\n",
    "from gensim import corpora\n",
    "from gensim import matutils, models\n",
    "from gensim.models import CoherenceModel\n",
    "\n",
    "import pyLDAvis\n",
    "import pyLDAvis.gensim_models\n"
   ]
  },
  {
   "cell_type": "markdown",
   "metadata": {
    "collapsed": true
   },
   "source": [
    "# Get data"
   ]
  },
  {
   "cell_type": "code",
   "execution_count": 3,
   "metadata": {},
   "outputs": [],
   "source": [
    "pd.set_option('display.max_colwidth', None)"
   ]
  },
  {
   "cell_type": "code",
   "execution_count": 4,
   "metadata": {},
   "outputs": [],
   "source": [
    "df = pd.read_excel('../data/drug_names_kaggle_TASK.xlsx',\n",
    "                  header = 1,\n",
    "                  usecols = [1])"
   ]
  },
  {
   "cell_type": "code",
   "execution_count": 5,
   "metadata": {},
   "outputs": [
    {
     "data": {
      "text/html": [
       "<div>\n",
       "<style scoped>\n",
       "    .dataframe tbody tr th:only-of-type {\n",
       "        vertical-align: middle;\n",
       "    }\n",
       "\n",
       "    .dataframe tbody tr th {\n",
       "        vertical-align: top;\n",
       "    }\n",
       "\n",
       "    .dataframe thead th {\n",
       "        text-align: right;\n",
       "    }\n",
       "</style>\n",
       "<table border=\"1\" class=\"dataframe\">\n",
       "  <thead>\n",
       "    <tr style=\"text-align: right;\">\n",
       "      <th></th>\n",
       "      <th>Introduction</th>\n",
       "    </tr>\n",
       "  </thead>\n",
       "  <tbody>\n",
       "    <tr>\n",
       "      <th>0</th>\n",
       "      <td>Acnesol Gel is an antibiotic that fights bacteria. It is used to treat acne, which appears as spots or pimples on your face, chest or back. This medicine works by attacking the bacteria that cause these pimples.Acnesol Gel is only meant for external use and should be used as advised by your doctor. You should normally wash and dry the affected area before applying a thin layer of the medicine. It should not be applied to broken or damaged skin. Avoid any contact with your eyes, nose, or mouth. Rinse it off with water if you accidentally get it in these areas. It may take several weeks for your symptoms to improve, but you should keep using this medicine regularly. Do not stop using it as soon as your acne starts to get better. Ask your doctor when you should stop treatment.Common side effects like minor itching, burning, or redness of the skin and oily skin may be seen in some people. These are usually temporary and resolve on their own. Consult your doctor if they bother you or do not go away.It is a safe medicine, but you should inform your doctor if you have any problems with your bowels (intestines). Also, inform the doctor if you have ever had bloody diarrhea caused by taking antibiotics or if you are using any other medicines to treat skin conditions. Consult your doctor about using this medicine if you are pregnant or breastfeeding.</td>\n",
       "    </tr>\n",
       "    <tr>\n",
       "      <th>1</th>\n",
       "      <td>Ambrodil Syrup is used for treating various respiratory tract disorders associated with excessive mucus. It works by thinning and loosens mucus in the nose, windpipe and lungs and make it easier to cough out.Ambrodil Syrup should be taken with food. For better results, it is suggested to take it at the same time every day.  The dose and how often you take it depends on what you are taking it for. Your doctor will decide how much you need to improve your symptoms.  It is advised not to use it for more than 14 days without doctor consultation.The most common side effects of this medicine include vomiting, nausea, and stomach upset. Talk to your doctor if you are worried about side effects or they would not go away. Generally, it is advised not to take alcohol while on treatment.Before taking this medicine, tell your doctor if you have liver or kidney disease or if you have stomach problems. Your doctor should also know about all other medicines you are taking as many of these may make this medicine less effective or change the way it works. You must take doctor's advice before using this medicine if you are pregnant or breastfeeding.</td>\n",
       "    </tr>\n",
       "  </tbody>\n",
       "</table>\n",
       "</div>"
      ],
      "text/plain": [
       "                                                                                                                                                                                                                                                                                                                                                                                                                                                                                                                                                                                                                                                                                                                                                                                                                                                                                                                                                                                                                                                                                                                                                                                                                                                                                                                                                                                                        Introduction\n",
       "0  Acnesol Gel is an antibiotic that fights bacteria. It is used to treat acne, which appears as spots or pimples on your face, chest or back. This medicine works by attacking the bacteria that cause these pimples.Acnesol Gel is only meant for external use and should be used as advised by your doctor. You should normally wash and dry the affected area before applying a thin layer of the medicine. It should not be applied to broken or damaged skin. Avoid any contact with your eyes, nose, or mouth. Rinse it off with water if you accidentally get it in these areas. It may take several weeks for your symptoms to improve, but you should keep using this medicine regularly. Do not stop using it as soon as your acne starts to get better. Ask your doctor when you should stop treatment.Common side effects like minor itching, burning, or redness of the skin and oily skin may be seen in some people. These are usually temporary and resolve on their own. Consult your doctor if they bother you or do not go away.It is a safe medicine, but you should inform your doctor if you have any problems with your bowels (intestines). Also, inform the doctor if you have ever had bloody diarrhea caused by taking antibiotics or if you are using any other medicines to treat skin conditions. Consult your doctor about using this medicine if you are pregnant or breastfeeding.\n",
       "1                                                                                                                                                                                                                      Ambrodil Syrup is used for treating various respiratory tract disorders associated with excessive mucus. It works by thinning and loosens mucus in the nose, windpipe and lungs and make it easier to cough out.Ambrodil Syrup should be taken with food. For better results, it is suggested to take it at the same time every day.  The dose and how often you take it depends on what you are taking it for. Your doctor will decide how much you need to improve your symptoms.  It is advised not to use it for more than 14 days without doctor consultation.The most common side effects of this medicine include vomiting, nausea, and stomach upset. Talk to your doctor if you are worried about side effects or they would not go away. Generally, it is advised not to take alcohol while on treatment.Before taking this medicine, tell your doctor if you have liver or kidney disease or if you have stomach problems. Your doctor should also know about all other medicines you are taking as many of these may make this medicine less effective or change the way it works. You must take doctor's advice before using this medicine if you are pregnant or breastfeeding."
      ]
     },
     "execution_count": 5,
     "metadata": {},
     "output_type": "execute_result"
    }
   ],
   "source": [
    "df.head(2)"
   ]
  },
  {
   "cell_type": "markdown",
   "metadata": {},
   "source": [
    "# Topic Estimation"
   ]
  },
  {
   "cell_type": "markdown",
   "metadata": {
    "collapsed": true
   },
   "source": [
    "## 1. Text preprocessing and tokenization"
   ]
  },
  {
   "cell_type": "code",
   "execution_count": 223,
   "metadata": {},
   "outputs": [],
   "source": [
    "list_str_exclude = ['mg', 'ml', 'gm', 'iu']\n",
    "\n",
    "# needs to add words to this list manually, by trial and error"
   ]
  },
  {
   "cell_type": "code",
   "execution_count": 224,
   "metadata": {},
   "outputs": [],
   "source": [
    "def tokenize(text):\n",
    "    \n",
    "    tokenizer = RegexpTokenizer(r'\\w+')\n",
    "    text = text.lower()  # Convert to lowercase.\n",
    "#     print(text)\n",
    "    tokenized_text = tokenizer.tokenize(text)  # Split into words.\n",
    "#     print(tokenized_text)\n",
    "\n",
    "    # Remove numbers, but not words that contain numbers.\n",
    "    tokenized_text = [token for token in tokenized_text if not token.isnumeric()]\n",
    "\n",
    "    # Remove words that are only one character.\n",
    "    tokenized_text = [token for token in tokenized_text if len(token) > 1]\n",
    "    \n",
    "    # Remove words that are dosage\n",
    "    tokenized_text = [token for token in tokenized_text if not any(unimportant in token for unimportant in list_str_exclude)]\n",
    "    \n",
    "    return tokenized_text"
   ]
  },
  {
   "cell_type": "code",
   "execution_count": 225,
   "metadata": {},
   "outputs": [],
   "source": [
    "# testing\n",
    "\n",
    "tokenized_text = tokenize('Allegra 120mg Tablet belongs to a group of medicines called antihistamines. It is used to treat various allergic conditions such as hay fever, conjunctivitis and some skin reactions such as eczema, hives and reactions to bites and stings. ')"
   ]
  },
  {
   "cell_type": "code",
   "execution_count": 226,
   "metadata": {},
   "outputs": [
    {
     "data": {
      "text/plain": [
       "['allegra',\n",
       " 'tablet',\n",
       " 'belongs',\n",
       " 'to',\n",
       " 'group',\n",
       " 'of',\n",
       " 'medicines',\n",
       " 'called',\n",
       " 'antihistamines',\n",
       " 'it',\n",
       " 'is',\n",
       " 'used',\n",
       " 'to',\n",
       " 'treat',\n",
       " 'various',\n",
       " 'allergic',\n",
       " 'conditions',\n",
       " 'such',\n",
       " 'as',\n",
       " 'hay',\n",
       " 'fever',\n",
       " 'conjunctivitis',\n",
       " 'and',\n",
       " 'some',\n",
       " 'skin',\n",
       " 'reactions',\n",
       " 'such',\n",
       " 'as',\n",
       " 'eczema',\n",
       " 'hives',\n",
       " 'and',\n",
       " 'reactions',\n",
       " 'to',\n",
       " 'bites',\n",
       " 'and',\n",
       " 'stings']"
      ]
     },
     "execution_count": 226,
     "metadata": {},
     "output_type": "execute_result"
    }
   ],
   "source": [
    "tokenized_text"
   ]
  },
  {
   "cell_type": "code",
   "execution_count": 139,
   "metadata": {},
   "outputs": [
    {
     "name": "stderr",
     "output_type": "stream",
     "text": [
      "[nltk_data] Downloading package wordnet to /Users/carmen/nltk_data...\n",
      "[nltk_data]   Package wordnet is already up-to-date!\n"
     ]
    },
    {
     "data": {
      "text/plain": [
       "True"
      ]
     },
     "execution_count": 139,
     "metadata": {},
     "output_type": "execute_result"
    }
   ],
   "source": [
    "nltk.download('wordnet')\n",
    "# [nltk_data] Downloading package wordnet to /Users/carmen/nltk_data..."
   ]
  },
  {
   "cell_type": "code",
   "execution_count": 140,
   "metadata": {},
   "outputs": [
    {
     "name": "stdout",
     "output_type": "stream",
     "text": [
      "/Users/carmen/nltk_data/corpora/wordnet.zip\n"
     ]
    }
   ],
   "source": [
    "# import nltk\n",
    "print(nltk.find('corpora/wordnet.zip'))"
   ]
  },
  {
   "cell_type": "markdown",
   "metadata": {},
   "source": [
    "### Lemmatization\n",
    "- https://radimrehurek.com/gensim/auto_examples/tutorials/run_lda.html\n",
    "    - lemmatizer is preferred over a stemmer in this case because it produces more readable words. Output that is easy to read is very desirable in topic modelling.\n",
    "- \n",
    "    - NLTK Lemmatization is the process of grouping the inflected forms of a word in order to analyze them as a single word in linguistics\n",
    "    - Unlike stemming, lemmatization uses the part of speech tags and the meaning of the word in the sentence to see the main context of the document\n",
    "    "
   ]
  },
  {
   "cell_type": "code",
   "execution_count": 227,
   "metadata": {},
   "outputs": [],
   "source": [
    "def lemmatize_tokens(tokens):\n",
    "    \n",
    "    lemmatizer = WordNetLemmatizer()\n",
    "    lemmatized_tokens = [lemmatizer.lemmatize(token) for token in tokens]\n",
    "    \n",
    "    return lemmatized_tokens"
   ]
  },
  {
   "cell_type": "code",
   "execution_count": 228,
   "metadata": {},
   "outputs": [
    {
     "data": {
      "text/plain": [
       "['acnesol',\n",
       " 'gel',\n",
       " 'is',\n",
       " 'an',\n",
       " 'antibiotic',\n",
       " 'that',\n",
       " 'fight',\n",
       " 'bacteria',\n",
       " 'it',\n",
       " 'is',\n",
       " 'used',\n",
       " 'to',\n",
       " 'treat',\n",
       " 'acne',\n",
       " 'which',\n",
       " 'appears',\n",
       " 'a',\n",
       " 'spot',\n",
       " 'or',\n",
       " 'pimple',\n",
       " 'on',\n",
       " 'your',\n",
       " 'face',\n",
       " 'chest',\n",
       " 'or',\n",
       " 'back',\n",
       " 'this',\n",
       " 'medicine',\n",
       " 'work',\n",
       " 'by',\n",
       " 'attacking',\n",
       " 'the',\n",
       " 'bacteria',\n",
       " 'that',\n",
       " 'cause',\n",
       " 'these',\n",
       " 'pimple',\n",
       " 'acnesol',\n",
       " 'gel',\n",
       " 'is',\n",
       " 'only',\n",
       " 'meant',\n",
       " 'for',\n",
       " 'external',\n",
       " 'use',\n",
       " 'and',\n",
       " 'should',\n",
       " 'be',\n",
       " 'used',\n",
       " 'a',\n",
       " 'advised',\n",
       " 'by',\n",
       " 'your',\n",
       " 'doctor',\n",
       " 'you',\n",
       " 'should',\n",
       " 'normally',\n",
       " 'wash',\n",
       " 'and',\n",
       " 'dry',\n",
       " 'the',\n",
       " 'affected',\n",
       " 'area',\n",
       " 'before',\n",
       " 'applying',\n",
       " 'thin',\n",
       " 'layer',\n",
       " 'of',\n",
       " 'the',\n",
       " 'medicine',\n",
       " 'it',\n",
       " 'should',\n",
       " 'not',\n",
       " 'be',\n",
       " 'applied',\n",
       " 'to',\n",
       " 'broken',\n",
       " 'or',\n",
       " 'damaged',\n",
       " 'skin',\n",
       " 'avoid',\n",
       " 'any',\n",
       " 'contact',\n",
       " 'with',\n",
       " 'your',\n",
       " 'eye',\n",
       " 'nose',\n",
       " 'or',\n",
       " 'mouth',\n",
       " 'rinse',\n",
       " 'it',\n",
       " 'off',\n",
       " 'with',\n",
       " 'water',\n",
       " 'if',\n",
       " 'you',\n",
       " 'accidentally',\n",
       " 'get',\n",
       " 'it',\n",
       " 'in',\n",
       " 'these',\n",
       " 'area',\n",
       " 'it',\n",
       " 'may',\n",
       " 'take',\n",
       " 'several',\n",
       " 'week',\n",
       " 'for',\n",
       " 'your',\n",
       " 'symptom',\n",
       " 'to',\n",
       " 'improve',\n",
       " 'but',\n",
       " 'you',\n",
       " 'should',\n",
       " 'keep',\n",
       " 'using',\n",
       " 'this',\n",
       " 'medicine',\n",
       " 'regularly',\n",
       " 'do',\n",
       " 'not',\n",
       " 'stop',\n",
       " 'using',\n",
       " 'it',\n",
       " 'a',\n",
       " 'soon',\n",
       " 'a',\n",
       " 'your',\n",
       " 'acne',\n",
       " 'start',\n",
       " 'to',\n",
       " 'get',\n",
       " 'better',\n",
       " 'ask',\n",
       " 'your',\n",
       " 'doctor',\n",
       " 'when',\n",
       " 'you',\n",
       " 'should',\n",
       " 'stop',\n",
       " 'treatment',\n",
       " 'common',\n",
       " 'side',\n",
       " 'effect',\n",
       " 'like',\n",
       " 'minor',\n",
       " 'itching',\n",
       " 'burning',\n",
       " 'or',\n",
       " 'redness',\n",
       " 'of',\n",
       " 'the',\n",
       " 'skin',\n",
       " 'and',\n",
       " 'oily',\n",
       " 'skin',\n",
       " 'may',\n",
       " 'be',\n",
       " 'seen',\n",
       " 'in',\n",
       " 'some',\n",
       " 'people',\n",
       " 'these',\n",
       " 'are',\n",
       " 'usually',\n",
       " 'temporary',\n",
       " 'and',\n",
       " 'resolve',\n",
       " 'on',\n",
       " 'their',\n",
       " 'own',\n",
       " 'consult',\n",
       " 'your',\n",
       " 'doctor',\n",
       " 'if',\n",
       " 'they',\n",
       " 'bother',\n",
       " 'you',\n",
       " 'or',\n",
       " 'do',\n",
       " 'not',\n",
       " 'go',\n",
       " 'away',\n",
       " 'it',\n",
       " 'is',\n",
       " 'safe',\n",
       " 'medicine',\n",
       " 'but',\n",
       " 'you',\n",
       " 'should',\n",
       " 'inform',\n",
       " 'your',\n",
       " 'doctor',\n",
       " 'if',\n",
       " 'you',\n",
       " 'have',\n",
       " 'any',\n",
       " 'problem',\n",
       " 'with',\n",
       " 'your',\n",
       " 'bowel',\n",
       " 'intestine',\n",
       " 'also',\n",
       " 'inform',\n",
       " 'the',\n",
       " 'doctor',\n",
       " 'if',\n",
       " 'you',\n",
       " 'have',\n",
       " 'ever',\n",
       " 'had',\n",
       " 'bloody',\n",
       " 'diarrhea',\n",
       " 'caused',\n",
       " 'by',\n",
       " 'taking',\n",
       " 'antibiotic',\n",
       " 'or',\n",
       " 'if',\n",
       " 'you',\n",
       " 'are',\n",
       " 'using',\n",
       " 'any',\n",
       " 'other',\n",
       " 'medicine',\n",
       " 'to',\n",
       " 'treat',\n",
       " 'skin',\n",
       " 'condition',\n",
       " 'consult',\n",
       " 'your',\n",
       " 'doctor',\n",
       " 'about',\n",
       " 'using',\n",
       " 'this',\n",
       " 'medicine',\n",
       " 'if',\n",
       " 'you',\n",
       " 'are',\n",
       " 'pregnant',\n",
       " 'or',\n",
       " 'breastfeeding']"
      ]
     },
     "execution_count": 228,
     "metadata": {},
     "output_type": "execute_result"
    }
   ],
   "source": [
    "# test\n",
    "lemmatize_tokens(tokenize(df['Introduction'][0]))"
   ]
  },
  {
   "cell_type": "code",
   "execution_count": 260,
   "metadata": {},
   "outputs": [],
   "source": [
    "df['tokens'] = df['Introduction'].apply(lambda x: lemmatize_tokens(tokenize(x)))"
   ]
  },
  {
   "cell_type": "code",
   "execution_count": 261,
   "metadata": {},
   "outputs": [
    {
     "data": {
      "text/html": [
       "<div>\n",
       "<style scoped>\n",
       "    .dataframe tbody tr th:only-of-type {\n",
       "        vertical-align: middle;\n",
       "    }\n",
       "\n",
       "    .dataframe tbody tr th {\n",
       "        vertical-align: top;\n",
       "    }\n",
       "\n",
       "    .dataframe thead th {\n",
       "        text-align: right;\n",
       "    }\n",
       "</style>\n",
       "<table border=\"1\" class=\"dataframe\">\n",
       "  <thead>\n",
       "    <tr style=\"text-align: right;\">\n",
       "      <th></th>\n",
       "      <th>Introduction</th>\n",
       "      <th>tokens</th>\n",
       "      <th>tokens_dict_only</th>\n",
       "    </tr>\n",
       "  </thead>\n",
       "  <tbody>\n",
       "    <tr>\n",
       "      <th>0</th>\n",
       "      <td>Acnesol Gel is an antibiotic that fights bacteria. It is used to treat acne, which appears as spots or pimples on your face, chest or back. This medicine works by attacking the bacteria that cause these pimples.Acnesol Gel is only meant for external use and should be used as advised by your doctor. You should normally wash and dry the affected area before applying a thin layer of the medicine. It should not be applied to broken or damaged skin. Avoid any contact with your eyes, nose, or mouth. Rinse it off with water if you accidentally get it in these areas. It may take several weeks for your symptoms to improve, but you should keep using this medicine regularly. Do not stop using it as soon as your acne starts to get better. Ask your doctor when you should stop treatment.Common side effects like minor itching, burning, or redness of the skin and oily skin may be seen in some people. These are usually temporary and resolve on their own. Consult your doctor if they bother you or do not go away.It is a safe medicine, but you should inform your doctor if you have any problems with your bowels (intestines). Also, inform the doctor if you have ever had bloody diarrhea caused by taking antibiotics or if you are using any other medicines to treat skin conditions. Consult your doctor about using this medicine if you are pregnant or breastfeeding.</td>\n",
       "      <td>[acnesol, gel, is, an, antibiotic, that, fight, bacteria, it, is, used, to, treat, acne, which, appears, a, spot, or, pimple, on, your, face, chest, or, back, this, medicine, work, by, attacking, the, bacteria, that, cause, these, pimple, acnesol, gel, is, only, meant, for, external, use, and, should, be, used, a, advised, by, your, doctor, you, should, normally, wash, and, dry, the, affected, area, before, applying, thin, layer, of, the, medicine, it, should, not, be, applied, to, broken, or, damaged, skin, avoid, any, contact, with, your, eye, nose, or, mouth, rinse, it, off, with, water, if, you, accidentally, get, it, in, ...]</td>\n",
       "      <td>[acnesol, gel, an, antibiotic, fight, bacteria, acne, which, appears, spot, pimple, face, chest, back, work, attacking, bacteria, cause, pimple, acnesol, gel, only, meant, external, use, normally, wash, dry, affected, area, applying, thin, layer, applied, broken, damaged, skin, contact, eye, nose, mouth, rinse, off, water, accidentally, get, area, several, week, improve, but, keep, using, using, soon, acne, start, get, better, ask, when, like, minor, itching, burning, redness, skin, oily, skin, seen, people, usually, temporary, resolve, their, own, they, bother, go, away, safe, but, inform, problem, bowel, intestine, inform, ever, had, bloody, diarrhea, caused, antibiotic, using, skin, about, using]</td>\n",
       "    </tr>\n",
       "    <tr>\n",
       "      <th>1</th>\n",
       "      <td>Ambrodil Syrup is used for treating various respiratory tract disorders associated with excessive mucus. It works by thinning and loosens mucus in the nose, windpipe and lungs and make it easier to cough out.Ambrodil Syrup should be taken with food. For better results, it is suggested to take it at the same time every day.  The dose and how often you take it depends on what you are taking it for. Your doctor will decide how much you need to improve your symptoms.  It is advised not to use it for more than 14 days without doctor consultation.The most common side effects of this medicine include vomiting, nausea, and stomach upset. Talk to your doctor if you are worried about side effects or they would not go away. Generally, it is advised not to take alcohol while on treatment.Before taking this medicine, tell your doctor if you have liver or kidney disease or if you have stomach problems. Your doctor should also know about all other medicines you are taking as many of these may make this medicine less effective or change the way it works. You must take doctor's advice before using this medicine if you are pregnant or breastfeeding.</td>\n",
       "      <td>[ambrodil, syrup, is, used, for, treating, various, respiratory, tract, disorder, associated, with, excessive, mucus, it, work, by, thinning, and, loosens, mucus, in, the, nose, windpipe, and, lung, and, make, it, easier, to, cough, out, ambrodil, syrup, should, be, taken, with, food, for, better, result, it, is, suggested, to, take, it, at, the, same, time, every, day, the, dose, and, how, often, you, take, it, depends, on, what, you, are, taking, it, for, your, doctor, will, decide, how, much, you, need, to, improve, your, symptom, it, is, advised, not, to, use, it, for, more, than, day, without, doctor, consultation, the, most, ...]</td>\n",
       "      <td>[ambrodil, syrup, treating, various, respiratory, tract, disorder, associated, excessive, mucus, work, thinning, loosens, mucus, nose, windpipe, lung, make, easier, cough, out, ambrodil, syrup, better, result, suggested, same, every, day, how, often, depends, what, decide, how, much, need, improve, use, more, than, day, without, consultation, vomiting, stomach, upset, talk, worried, about, they, would, go, away, generally, alcohol, while, disease, stomach, problem, about, all, many, make, le, effective, change, way, work, must, advice, using]</td>\n",
       "    </tr>\n",
       "  </tbody>\n",
       "</table>\n",
       "</div>"
      ],
      "text/plain": [
       "                                                                                                                                                                                                                                                                                                                                                                                                                                                                                                                                                                                                                                                                                                                                                                                                                                                                                                                                                                                                                                                                                                                                                                                                                                                                                                                                                                                                        Introduction  \\\n",
       "0  Acnesol Gel is an antibiotic that fights bacteria. It is used to treat acne, which appears as spots or pimples on your face, chest or back. This medicine works by attacking the bacteria that cause these pimples.Acnesol Gel is only meant for external use and should be used as advised by your doctor. You should normally wash and dry the affected area before applying a thin layer of the medicine. It should not be applied to broken or damaged skin. Avoid any contact with your eyes, nose, or mouth. Rinse it off with water if you accidentally get it in these areas. It may take several weeks for your symptoms to improve, but you should keep using this medicine regularly. Do not stop using it as soon as your acne starts to get better. Ask your doctor when you should stop treatment.Common side effects like minor itching, burning, or redness of the skin and oily skin may be seen in some people. These are usually temporary and resolve on their own. Consult your doctor if they bother you or do not go away.It is a safe medicine, but you should inform your doctor if you have any problems with your bowels (intestines). Also, inform the doctor if you have ever had bloody diarrhea caused by taking antibiotics or if you are using any other medicines to treat skin conditions. Consult your doctor about using this medicine if you are pregnant or breastfeeding.   \n",
       "1                                                                                                                                                                                                                      Ambrodil Syrup is used for treating various respiratory tract disorders associated with excessive mucus. It works by thinning and loosens mucus in the nose, windpipe and lungs and make it easier to cough out.Ambrodil Syrup should be taken with food. For better results, it is suggested to take it at the same time every day.  The dose and how often you take it depends on what you are taking it for. Your doctor will decide how much you need to improve your symptoms.  It is advised not to use it for more than 14 days without doctor consultation.The most common side effects of this medicine include vomiting, nausea, and stomach upset. Talk to your doctor if you are worried about side effects or they would not go away. Generally, it is advised not to take alcohol while on treatment.Before taking this medicine, tell your doctor if you have liver or kidney disease or if you have stomach problems. Your doctor should also know about all other medicines you are taking as many of these may make this medicine less effective or change the way it works. You must take doctor's advice before using this medicine if you are pregnant or breastfeeding.   \n",
       "\n",
       "                                                                                                                                                                                                                                                                                                                                                                                                                                                                                                                                                                                                                                                                tokens  \\\n",
       "0       [acnesol, gel, is, an, antibiotic, that, fight, bacteria, it, is, used, to, treat, acne, which, appears, a, spot, or, pimple, on, your, face, chest, or, back, this, medicine, work, by, attacking, the, bacteria, that, cause, these, pimple, acnesol, gel, is, only, meant, for, external, use, and, should, be, used, a, advised, by, your, doctor, you, should, normally, wash, and, dry, the, affected, area, before, applying, thin, layer, of, the, medicine, it, should, not, be, applied, to, broken, or, damaged, skin, avoid, any, contact, with, your, eye, nose, or, mouth, rinse, it, off, with, water, if, you, accidentally, get, it, in, ...]   \n",
       "1  [ambrodil, syrup, is, used, for, treating, various, respiratory, tract, disorder, associated, with, excessive, mucus, it, work, by, thinning, and, loosens, mucus, in, the, nose, windpipe, and, lung, and, make, it, easier, to, cough, out, ambrodil, syrup, should, be, taken, with, food, for, better, result, it, is, suggested, to, take, it, at, the, same, time, every, day, the, dose, and, how, often, you, take, it, depends, on, what, you, are, taking, it, for, your, doctor, will, decide, how, much, you, need, to, improve, your, symptom, it, is, advised, not, to, use, it, for, more, than, day, without, doctor, consultation, the, most, ...]   \n",
       "\n",
       "                                                                                                                                                                                                                                                                                                                                                                                                                                                                                                                                                                                                                                                                                                                       tokens_dict_only  \n",
       "0  [acnesol, gel, an, antibiotic, fight, bacteria, acne, which, appears, spot, pimple, face, chest, back, work, attacking, bacteria, cause, pimple, acnesol, gel, only, meant, external, use, normally, wash, dry, affected, area, applying, thin, layer, applied, broken, damaged, skin, contact, eye, nose, mouth, rinse, off, water, accidentally, get, area, several, week, improve, but, keep, using, using, soon, acne, start, get, better, ask, when, like, minor, itching, burning, redness, skin, oily, skin, seen, people, usually, temporary, resolve, their, own, they, bother, go, away, safe, but, inform, problem, bowel, intestine, inform, ever, had, bloody, diarrhea, caused, antibiotic, using, skin, about, using]  \n",
       "1                                                                                                                                                                  [ambrodil, syrup, treating, various, respiratory, tract, disorder, associated, excessive, mucus, work, thinning, loosens, mucus, nose, windpipe, lung, make, easier, cough, out, ambrodil, syrup, better, result, suggested, same, every, day, how, often, depends, what, decide, how, much, need, improve, use, more, than, day, without, consultation, vomiting, stomach, upset, talk, worried, about, they, would, go, away, generally, alcohol, while, disease, stomach, problem, about, all, many, make, le, effective, change, way, work, must, advice, using]  "
      ]
     },
     "execution_count": 261,
     "metadata": {},
     "output_type": "execute_result"
    }
   ],
   "source": [
    "df.head(2)"
   ]
  },
  {
   "cell_type": "markdown",
   "metadata": {},
   "source": [
    "## 2. Make document-term matrix"
   ]
  },
  {
   "cell_type": "code",
   "execution_count": 262,
   "metadata": {},
   "outputs": [],
   "source": [
    "# to use vectorizer when text already tokenized\n",
    "# https://stackoverflow.com/questions/48671270/use-sklearn-tfidfvectorizer-with-already-tokenized-inputs\n",
    "\n",
    "def identity_tokenizer(text):\n",
    "    return text"
   ]
  },
  {
   "cell_type": "code",
   "execution_count": 263,
   "metadata": {},
   "outputs": [],
   "source": [
    "# specify hyperparameters\n",
    "\n",
    "max_df_test = 0.5 # ignoring terms that have a document frequency > 50% of the number of document (by percentage)\n",
    "min_df_test = 2 # ignoring terms that have a document frequency <2 (by count)"
   ]
  },
  {
   "cell_type": "code",
   "execution_count": 264,
   "metadata": {},
   "outputs": [],
   "source": [
    "count_vectorizer = CountVectorizer(tokenizer = identity_tokenizer,\n",
    "                                  lowercase = False,\n",
    "                                  max_df = max_df_test,\n",
    "                                  min_df = min_df_test)"
   ]
  },
  {
   "cell_type": "code",
   "execution_count": 279,
   "metadata": {},
   "outputs": [
    {
     "name": "stderr",
     "output_type": "stream",
     "text": [
      "/Users/carmen/anaconda3/envs/streamlit/lib/python3.11/site-packages/sklearn/feature_extraction/text.py:525: UserWarning: The parameter 'token_pattern' will not be used since 'tokenizer' is not None'\n",
      "  warnings.warn(\n"
     ]
    }
   ],
   "source": [
    "count_matrix = count_vectorizer.fit_transform(df['tokens'])"
   ]
  },
  {
   "cell_type": "code",
   "execution_count": 280,
   "metadata": {},
   "outputs": [
    {
     "data": {
      "text/plain": [
       "(1000, 2033)"
      ]
     },
     "execution_count": 280,
     "metadata": {},
     "output_type": "execute_result"
    }
   ],
   "source": [
    "count_matrix.shape"
   ]
  },
  {
   "cell_type": "code",
   "execution_count": 281,
   "metadata": {},
   "outputs": [
    {
     "data": {
      "text/plain": [
       "scipy.sparse._csr.csr_matrix"
      ]
     },
     "execution_count": 281,
     "metadata": {},
     "output_type": "execute_result"
    }
   ],
   "source": [
    "type(count_matrix)"
   ]
  },
  {
   "cell_type": "markdown",
   "metadata": {
    "collapsed": true
   },
   "source": [
    "### dictionary\n",
    "- also generated from CountVectorizer"
   ]
  },
  {
   "cell_type": "code",
   "execution_count": 282,
   "metadata": {},
   "outputs": [],
   "source": [
    "dictionary = count_vectorizer.get_feature_names_out()"
   ]
  },
  {
   "cell_type": "code",
   "execution_count": 283,
   "metadata": {},
   "outputs": [
    {
     "data": {
      "text/plain": [
       "2033"
      ]
     },
     "execution_count": 283,
     "metadata": {},
     "output_type": "execute_result"
    }
   ],
   "source": [
    "len(dictionary)"
   ]
  },
  {
   "cell_type": "code",
   "execution_count": 284,
   "metadata": {},
   "outputs": [
    {
     "data": {
      "text/plain": [
       "array(['3d', 'ab', 'abd', 'abdomen', 'abdominal', 'abel', 'ability',\n",
       "       'able', 'abnormal', 'abnormality', 'abortion', 'about', 'above',\n",
       "       'abruptly', 'absorb', 'absorbed', 'absorption', 'abstinence',\n",
       "       'abuse', 'acceclowoc', 'accident', 'accidental', 'accidentally',\n",
       "       'according', 'ace', 'aceclo', 'acemiz', 'acenac', 'acera', 'ache',\n",
       "       'acid', 'acidity', 'aciloc', 'acimol', 'acitrom', 'acivir',\n",
       "       'aclind', 'acne', 'acnedap', 'acnesol', 'acnestar', 'acnewar',\n",
       "       'acogut', 'acolate', 'acotrust', 'acrotac', 'actapro', 'actibile',\n",
       "       'actifed', 'acting'], dtype=object)"
      ]
     },
     "execution_count": 284,
     "metadata": {},
     "output_type": "execute_result"
    }
   ],
   "source": [
    "dictionary[:50]"
   ]
  },
  {
   "cell_type": "code",
   "execution_count": 285,
   "metadata": {},
   "outputs": [
    {
     "data": {
      "text/plain": [
       "array(['workload', 'worm', 'worried', 'worry', 'worse', 'worsen',\n",
       "       'worsening', 'worsens', 'would', 'wound', 'wrestling', 'wrinkle',\n",
       "       'xl', 'xp', 'year', 'yellow', 'yellowing', 'yellowness',\n",
       "       'yourself', 'zone'], dtype=object)"
      ]
     },
     "execution_count": 285,
     "metadata": {},
     "output_type": "execute_result"
    }
   ],
   "source": [
    "dictionary[-20:]"
   ]
  },
  {
   "cell_type": "markdown",
   "metadata": {},
   "source": [
    "### transform text"
   ]
  },
  {
   "cell_type": "code",
   "execution_count": 272,
   "metadata": {},
   "outputs": [],
   "source": [
    "# def further_limit_tokens(list_tokens):\n",
    "#     tokens_dict_only = [x for x in list_tokens if x in dictionary]\n",
    "#     return tokens_dict_only"
   ]
  },
  {
   "cell_type": "code",
   "execution_count": 273,
   "metadata": {},
   "outputs": [],
   "source": [
    "# df['tokens_dict_only'] = df['tokens'].apply(lambda x: further_limit_tokens(x))"
   ]
  },
  {
   "cell_type": "code",
   "execution_count": 286,
   "metadata": {},
   "outputs": [],
   "source": [
    "# df.head(2)"
   ]
  },
  {
   "cell_type": "code",
   "execution_count": 275,
   "metadata": {},
   "outputs": [],
   "source": [
    "# count_matrix = count_vectorizer.transform(df['tokens_dict_only'])"
   ]
  },
  {
   "cell_type": "code",
   "execution_count": 287,
   "metadata": {},
   "outputs": [],
   "source": [
    "# count_matrix.shape"
   ]
  },
  {
   "cell_type": "code",
   "execution_count": 288,
   "metadata": {},
   "outputs": [],
   "source": [
    "sample_count_matrix = count_matrix.todense()\n",
    "df_sample_count_matrix = pd.DataFrame(sample_count_matrix)\n",
    "df_sample_count_matrix.columns = dictionary"
   ]
  },
  {
   "cell_type": "code",
   "execution_count": 289,
   "metadata": {},
   "outputs": [
    {
     "data": {
      "text/html": [
       "<div>\n",
       "<style scoped>\n",
       "    .dataframe tbody tr th:only-of-type {\n",
       "        vertical-align: middle;\n",
       "    }\n",
       "\n",
       "    .dataframe tbody tr th {\n",
       "        vertical-align: top;\n",
       "    }\n",
       "\n",
       "    .dataframe thead th {\n",
       "        text-align: right;\n",
       "    }\n",
       "</style>\n",
       "<table border=\"1\" class=\"dataframe\">\n",
       "  <thead>\n",
       "    <tr style=\"text-align: right;\">\n",
       "      <th></th>\n",
       "      <th>3d</th>\n",
       "      <th>ab</th>\n",
       "      <th>abd</th>\n",
       "      <th>abdomen</th>\n",
       "      <th>abdominal</th>\n",
       "      <th>abel</th>\n",
       "      <th>ability</th>\n",
       "      <th>able</th>\n",
       "      <th>abnormal</th>\n",
       "      <th>abnormality</th>\n",
       "      <th>...</th>\n",
       "      <th>wrestling</th>\n",
       "      <th>wrinkle</th>\n",
       "      <th>xl</th>\n",
       "      <th>xp</th>\n",
       "      <th>year</th>\n",
       "      <th>yellow</th>\n",
       "      <th>yellowing</th>\n",
       "      <th>yellowness</th>\n",
       "      <th>yourself</th>\n",
       "      <th>zone</th>\n",
       "    </tr>\n",
       "  </thead>\n",
       "  <tbody>\n",
       "    <tr>\n",
       "      <th>0</th>\n",
       "      <td>0</td>\n",
       "      <td>0</td>\n",
       "      <td>0</td>\n",
       "      <td>0</td>\n",
       "      <td>0</td>\n",
       "      <td>0</td>\n",
       "      <td>0</td>\n",
       "      <td>0</td>\n",
       "      <td>0</td>\n",
       "      <td>0</td>\n",
       "      <td>...</td>\n",
       "      <td>0</td>\n",
       "      <td>0</td>\n",
       "      <td>0</td>\n",
       "      <td>0</td>\n",
       "      <td>0</td>\n",
       "      <td>0</td>\n",
       "      <td>0</td>\n",
       "      <td>0</td>\n",
       "      <td>0</td>\n",
       "      <td>0</td>\n",
       "    </tr>\n",
       "    <tr>\n",
       "      <th>1</th>\n",
       "      <td>0</td>\n",
       "      <td>0</td>\n",
       "      <td>0</td>\n",
       "      <td>0</td>\n",
       "      <td>0</td>\n",
       "      <td>0</td>\n",
       "      <td>0</td>\n",
       "      <td>0</td>\n",
       "      <td>0</td>\n",
       "      <td>0</td>\n",
       "      <td>...</td>\n",
       "      <td>0</td>\n",
       "      <td>0</td>\n",
       "      <td>0</td>\n",
       "      <td>0</td>\n",
       "      <td>0</td>\n",
       "      <td>0</td>\n",
       "      <td>0</td>\n",
       "      <td>0</td>\n",
       "      <td>0</td>\n",
       "      <td>0</td>\n",
       "    </tr>\n",
       "    <tr>\n",
       "      <th>2</th>\n",
       "      <td>0</td>\n",
       "      <td>0</td>\n",
       "      <td>0</td>\n",
       "      <td>0</td>\n",
       "      <td>0</td>\n",
       "      <td>0</td>\n",
       "      <td>0</td>\n",
       "      <td>0</td>\n",
       "      <td>0</td>\n",
       "      <td>0</td>\n",
       "      <td>...</td>\n",
       "      <td>0</td>\n",
       "      <td>0</td>\n",
       "      <td>0</td>\n",
       "      <td>0</td>\n",
       "      <td>0</td>\n",
       "      <td>0</td>\n",
       "      <td>0</td>\n",
       "      <td>0</td>\n",
       "      <td>0</td>\n",
       "      <td>0</td>\n",
       "    </tr>\n",
       "    <tr>\n",
       "      <th>3</th>\n",
       "      <td>0</td>\n",
       "      <td>0</td>\n",
       "      <td>0</td>\n",
       "      <td>0</td>\n",
       "      <td>0</td>\n",
       "      <td>0</td>\n",
       "      <td>0</td>\n",
       "      <td>0</td>\n",
       "      <td>0</td>\n",
       "      <td>0</td>\n",
       "      <td>...</td>\n",
       "      <td>0</td>\n",
       "      <td>0</td>\n",
       "      <td>0</td>\n",
       "      <td>0</td>\n",
       "      <td>0</td>\n",
       "      <td>0</td>\n",
       "      <td>0</td>\n",
       "      <td>0</td>\n",
       "      <td>0</td>\n",
       "      <td>0</td>\n",
       "    </tr>\n",
       "    <tr>\n",
       "      <th>4</th>\n",
       "      <td>0</td>\n",
       "      <td>0</td>\n",
       "      <td>0</td>\n",
       "      <td>0</td>\n",
       "      <td>0</td>\n",
       "      <td>0</td>\n",
       "      <td>0</td>\n",
       "      <td>0</td>\n",
       "      <td>0</td>\n",
       "      <td>0</td>\n",
       "      <td>...</td>\n",
       "      <td>0</td>\n",
       "      <td>0</td>\n",
       "      <td>0</td>\n",
       "      <td>0</td>\n",
       "      <td>0</td>\n",
       "      <td>0</td>\n",
       "      <td>0</td>\n",
       "      <td>0</td>\n",
       "      <td>0</td>\n",
       "      <td>0</td>\n",
       "    </tr>\n",
       "    <tr>\n",
       "      <th>...</th>\n",
       "      <td>...</td>\n",
       "      <td>...</td>\n",
       "      <td>...</td>\n",
       "      <td>...</td>\n",
       "      <td>...</td>\n",
       "      <td>...</td>\n",
       "      <td>...</td>\n",
       "      <td>...</td>\n",
       "      <td>...</td>\n",
       "      <td>...</td>\n",
       "      <td>...</td>\n",
       "      <td>...</td>\n",
       "      <td>...</td>\n",
       "      <td>...</td>\n",
       "      <td>...</td>\n",
       "      <td>...</td>\n",
       "      <td>...</td>\n",
       "      <td>...</td>\n",
       "      <td>...</td>\n",
       "      <td>...</td>\n",
       "      <td>...</td>\n",
       "    </tr>\n",
       "    <tr>\n",
       "      <th>995</th>\n",
       "      <td>0</td>\n",
       "      <td>0</td>\n",
       "      <td>0</td>\n",
       "      <td>0</td>\n",
       "      <td>0</td>\n",
       "      <td>0</td>\n",
       "      <td>0</td>\n",
       "      <td>0</td>\n",
       "      <td>0</td>\n",
       "      <td>0</td>\n",
       "      <td>...</td>\n",
       "      <td>0</td>\n",
       "      <td>0</td>\n",
       "      <td>0</td>\n",
       "      <td>0</td>\n",
       "      <td>0</td>\n",
       "      <td>0</td>\n",
       "      <td>0</td>\n",
       "      <td>0</td>\n",
       "      <td>0</td>\n",
       "      <td>0</td>\n",
       "    </tr>\n",
       "    <tr>\n",
       "      <th>996</th>\n",
       "      <td>0</td>\n",
       "      <td>0</td>\n",
       "      <td>0</td>\n",
       "      <td>0</td>\n",
       "      <td>0</td>\n",
       "      <td>0</td>\n",
       "      <td>0</td>\n",
       "      <td>0</td>\n",
       "      <td>0</td>\n",
       "      <td>0</td>\n",
       "      <td>...</td>\n",
       "      <td>0</td>\n",
       "      <td>0</td>\n",
       "      <td>0</td>\n",
       "      <td>0</td>\n",
       "      <td>0</td>\n",
       "      <td>0</td>\n",
       "      <td>0</td>\n",
       "      <td>0</td>\n",
       "      <td>0</td>\n",
       "      <td>0</td>\n",
       "    </tr>\n",
       "    <tr>\n",
       "      <th>997</th>\n",
       "      <td>0</td>\n",
       "      <td>0</td>\n",
       "      <td>0</td>\n",
       "      <td>0</td>\n",
       "      <td>0</td>\n",
       "      <td>0</td>\n",
       "      <td>0</td>\n",
       "      <td>0</td>\n",
       "      <td>0</td>\n",
       "      <td>0</td>\n",
       "      <td>...</td>\n",
       "      <td>0</td>\n",
       "      <td>0</td>\n",
       "      <td>0</td>\n",
       "      <td>0</td>\n",
       "      <td>0</td>\n",
       "      <td>0</td>\n",
       "      <td>0</td>\n",
       "      <td>0</td>\n",
       "      <td>0</td>\n",
       "      <td>0</td>\n",
       "    </tr>\n",
       "    <tr>\n",
       "      <th>998</th>\n",
       "      <td>0</td>\n",
       "      <td>0</td>\n",
       "      <td>0</td>\n",
       "      <td>0</td>\n",
       "      <td>0</td>\n",
       "      <td>0</td>\n",
       "      <td>0</td>\n",
       "      <td>0</td>\n",
       "      <td>0</td>\n",
       "      <td>0</td>\n",
       "      <td>...</td>\n",
       "      <td>0</td>\n",
       "      <td>0</td>\n",
       "      <td>0</td>\n",
       "      <td>0</td>\n",
       "      <td>0</td>\n",
       "      <td>0</td>\n",
       "      <td>0</td>\n",
       "      <td>0</td>\n",
       "      <td>0</td>\n",
       "      <td>0</td>\n",
       "    </tr>\n",
       "    <tr>\n",
       "      <th>999</th>\n",
       "      <td>0</td>\n",
       "      <td>0</td>\n",
       "      <td>0</td>\n",
       "      <td>0</td>\n",
       "      <td>0</td>\n",
       "      <td>0</td>\n",
       "      <td>0</td>\n",
       "      <td>0</td>\n",
       "      <td>0</td>\n",
       "      <td>0</td>\n",
       "      <td>...</td>\n",
       "      <td>0</td>\n",
       "      <td>0</td>\n",
       "      <td>0</td>\n",
       "      <td>0</td>\n",
       "      <td>0</td>\n",
       "      <td>0</td>\n",
       "      <td>0</td>\n",
       "      <td>0</td>\n",
       "      <td>0</td>\n",
       "      <td>0</td>\n",
       "    </tr>\n",
       "  </tbody>\n",
       "</table>\n",
       "<p>1000 rows × 2033 columns</p>\n",
       "</div>"
      ],
      "text/plain": [
       "     3d  ab  abd  abdomen  abdominal  abel  ability  able  abnormal  \\\n",
       "0     0   0    0        0          0     0        0     0         0   \n",
       "1     0   0    0        0          0     0        0     0         0   \n",
       "2     0   0    0        0          0     0        0     0         0   \n",
       "3     0   0    0        0          0     0        0     0         0   \n",
       "4     0   0    0        0          0     0        0     0         0   \n",
       "..   ..  ..  ...      ...        ...   ...      ...   ...       ...   \n",
       "995   0   0    0        0          0     0        0     0         0   \n",
       "996   0   0    0        0          0     0        0     0         0   \n",
       "997   0   0    0        0          0     0        0     0         0   \n",
       "998   0   0    0        0          0     0        0     0         0   \n",
       "999   0   0    0        0          0     0        0     0         0   \n",
       "\n",
       "     abnormality  ...  wrestling  wrinkle  xl  xp  year  yellow  yellowing  \\\n",
       "0              0  ...          0        0   0   0     0       0          0   \n",
       "1              0  ...          0        0   0   0     0       0          0   \n",
       "2              0  ...          0        0   0   0     0       0          0   \n",
       "3              0  ...          0        0   0   0     0       0          0   \n",
       "4              0  ...          0        0   0   0     0       0          0   \n",
       "..           ...  ...        ...      ...  ..  ..   ...     ...        ...   \n",
       "995            0  ...          0        0   0   0     0       0          0   \n",
       "996            0  ...          0        0   0   0     0       0          0   \n",
       "997            0  ...          0        0   0   0     0       0          0   \n",
       "998            0  ...          0        0   0   0     0       0          0   \n",
       "999            0  ...          0        0   0   0     0       0          0   \n",
       "\n",
       "     yellowness  yourself  zone  \n",
       "0             0         0     0  \n",
       "1             0         0     0  \n",
       "2             0         0     0  \n",
       "3             0         0     0  \n",
       "4             0         0     0  \n",
       "..          ...       ...   ...  \n",
       "995           0         0     0  \n",
       "996           0         0     0  \n",
       "997           0         0     0  \n",
       "998           0         0     0  \n",
       "999           0         0     0  \n",
       "\n",
       "[1000 rows x 2033 columns]"
      ]
     },
     "execution_count": 289,
     "metadata": {},
     "output_type": "execute_result"
    }
   ],
   "source": [
    "df_sample_count_matrix"
   ]
  },
  {
   "cell_type": "markdown",
   "metadata": {
    "collapsed": true
   },
   "source": [
    "## 3. Make topic distribution matrix"
   ]
  },
  {
   "cell_type": "code",
   "execution_count": 290,
   "metadata": {},
   "outputs": [],
   "source": [
    "# transpost to amek term-document matrix\n",
    "\n",
    "count_matrix_T = count_matrix.transpose()"
   ]
  },
  {
   "cell_type": "code",
   "execution_count": 291,
   "metadata": {},
   "outputs": [],
   "source": [
    "# convert from sparse to proper format for LDA\n",
    "\n",
    "corpus = matutils.Sparse2Corpus(count_matrix_T)"
   ]
  },
  {
   "cell_type": "code",
   "execution_count": 292,
   "metadata": {},
   "outputs": [
    {
     "data": {
      "text/plain": [
       "gensim.matutils.Sparse2Corpus"
      ]
     },
     "execution_count": 292,
     "metadata": {},
     "output_type": "execute_result"
    }
   ],
   "source": [
    "type(corpus)"
   ]
  },
  {
   "cell_type": "markdown",
   "metadata": {},
   "source": [
    "### make dictionary for LDA"
   ]
  },
  {
   "cell_type": "code",
   "execution_count": 293,
   "metadata": {},
   "outputs": [],
   "source": [
    "# dictionary, location: term\n",
    "id2word = {v: k for v, k in enumerate(dictionary)}\n",
    "\n",
    "# id2word is enough, if no need to calculate coherence\n",
    "# else:\n",
    "\n",
    "word2id = dict((k, v) for k, v in count_vectorizer.vocabulary_.items())\n",
    "\n",
    "d = corpora.Dictionary()\n",
    "d.id2token = id2word\n",
    "d.token2id = word2id\n"
   ]
  },
  {
   "cell_type": "code",
   "execution_count": 298,
   "metadata": {},
   "outputs": [],
   "source": [
    "# word2id"
   ]
  },
  {
   "cell_type": "markdown",
   "metadata": {},
   "source": [
    "### train LdaModel"
   ]
  },
  {
   "cell_type": "code",
   "execution_count": 294,
   "metadata": {},
   "outputs": [],
   "source": [
    "# set hyperparameters\n",
    "\n",
    "passes = 10\n",
    "iterations = 50 # 50 is the default"
   ]
  },
  {
   "cell_type": "code",
   "execution_count": 295,
   "metadata": {},
   "outputs": [],
   "source": [
    "lda5 = models.LdaModel(corpus,\n",
    "                      id2word = d,\n",
    "                      num_topics = 5,\n",
    "                      passes = passes,\n",
    "                      iterations = iterations)"
   ]
  },
  {
   "cell_type": "code",
   "execution_count": 299,
   "metadata": {},
   "outputs": [
    {
     "name": "stdout",
     "output_type": "stream",
     "text": [
      "Coherence Score:  -1.1366197916915184\n"
     ]
    }
   ],
   "source": [
    "# https://towardsdatascience.com/evaluate-topic-model-in-python-latent-dirichlet-allocation-lda-7d57484bb5d0\n",
    "\n",
    "# from gensim.models import CoherenceModel\n",
    "\n",
    "# Compute Coherence Score\n",
    "coherence_model_lda = CoherenceModel(model = lda5, \n",
    "                                     corpus = corpus, \n",
    "                                     dictionary = word2id, \n",
    "                                     coherence = 'u_mass')\n",
    "coherence_lda = coherence_model_lda.get_coherence()\n",
    "print('Coherence Score: ', coherence_lda)"
   ]
  },
  {
   "cell_type": "code",
   "execution_count": 300,
   "metadata": {},
   "outputs": [],
   "source": [
    "# what parameters to use for each coherence score: https://markroxor.github.io/gensim/static/notebooks/topic_coherence_tutorial.html\n",
    "lda4 = models.LdaModel(corpus,\n",
    "                      id2word = d,\n",
    "                      num_topics = 4,\n",
    "                      passes = passes,\n",
    "                      iterations = iterations)"
   ]
  },
  {
   "cell_type": "code",
   "execution_count": 301,
   "metadata": {},
   "outputs": [
    {
     "name": "stdout",
     "output_type": "stream",
     "text": [
      "Coherence Score:  -1.0267385795638722\n"
     ]
    }
   ],
   "source": [
    "coherence_model_lda = CoherenceModel(model = lda4, \n",
    "                                     corpus = corpus, \n",
    "                                     dictionary = word2id, \n",
    "                                     coherence = 'u_mass')\n",
    "coherence_lda = coherence_model_lda.get_coherence()\n",
    "print('Coherence Score: ', coherence_lda)"
   ]
  },
  {
   "cell_type": "code",
   "execution_count": 302,
   "metadata": {},
   "outputs": [],
   "source": [
    "lda6 = models.LdaModel(corpus,\n",
    "                      id2word = d,\n",
    "                      num_topics = 6,\n",
    "                      passes = passes,\n",
    "                      iterations = iterations)"
   ]
  },
  {
   "cell_type": "code",
   "execution_count": 303,
   "metadata": {},
   "outputs": [
    {
     "name": "stdout",
     "output_type": "stream",
     "text": [
      "Coherence Score:  -0.9749986009848312\n"
     ]
    }
   ],
   "source": [
    "coherence_model_lda = CoherenceModel(model = lda6, \n",
    "                                     corpus = corpus, \n",
    "                                     dictionary = word2id, \n",
    "                                     coherence = 'u_mass')\n",
    "coherence_lda = coherence_model_lda.get_coherence()\n",
    "print('Coherence Score: ', coherence_lda)"
   ]
  },
  {
   "cell_type": "code",
   "execution_count": 218,
   "metadata": {},
   "outputs": [],
   "source": [
    "# save model:\n",
    "# lda4.save('lda4.model')"
   ]
  },
  {
   "cell_type": "markdown",
   "metadata": {},
   "source": [
    "### visualize model using pyLDAvis"
   ]
  },
  {
   "cell_type": "code",
   "execution_count": 219,
   "metadata": {},
   "outputs": [],
   "source": [
    "pyLDAvis.enable_notebook()"
   ]
  },
  {
   "cell_type": "code",
   "execution_count": 220,
   "metadata": {},
   "outputs": [
    {
     "data": {
      "text/html": [
       "\n",
       "<link rel=\"stylesheet\" type=\"text/css\" href=\"https://cdn.jsdelivr.net/gh/bmabey/pyLDAvis@3.4.0/pyLDAvis/js/ldavis.v1.0.0.css\">\n",
       "\n",
       "\n",
       "<div id=\"ldavis_el1578252239418409661704369\" style=\"background-color:white;\"></div>\n",
       "<script type=\"text/javascript\">\n",
       "\n",
       "var ldavis_el1578252239418409661704369_data = {\"mdsDat\": {\"x\": [0.27166370482626107, -0.14208845319955654, 0.02147355321464077, -0.05823351810260286, -0.09281528673874263], \"y\": [-0.05375121052362459, -0.0015806355174697126, 0.15015695283301753, 0.06801387646218393, -0.16283898325410728], \"topics\": [1, 2, 3, 4, 5], \"cluster\": [1, 1, 1, 1, 1], \"Freq\": [12.085405792238681, 26.55361171055992, 20.487391770587138, 20.06219675807087, 20.811393968543392]}, \"tinfo\": {\"Term\": [\"blood\", \"infection\", \"type\", \"antibiotic\", \"pressure\", \"bacteria\", \"level\", \"mental\", \"skin\", \"high\", \"sleepiness\", \"sugar\", \"anything\", \"medication\", \"prescribed\", \"seen\", \"focus\", \"full\", \"early\", \"tract\", \"so\", \"affect\", \"requires\", \"meal\", \"course\", \"how\", \"hour\", \"effective\", \"using\", \"stroke\", \"gram\", \"antibiotic\", \"spectrum\", \"broad\", \"typhoid\", \"previous\", \"transmitted\", \"gonorrhea\", \"negative\", \"positive\", \"completion\", \"penicillin\", \"sexually\", \"orally\", \"pneumonia\", \"survive\", \"sinus\", \"returning\", \"azithral\", \"azee\", \"precise\", \"bacteria\", \"variety\", \"azibact\", \"existing\", \"tissue\", \"endocarditis\", \"valve\", \"advent\", \"pylorus\", \"viral\", \"return\", \"commonly\", \"bacterial\", \"tract\", \"urinary\", \"hour\", \"evenly\", \"spaced\", \"type\", \"infection\", \"interval\", \"seen\", \"ear\", \"full\", \"respiratory\", \"worsening\", \"effective\", \"early\", \"skip\", \"meal\", \"prescribed\", \"course\", \"finish\", \"stopping\", \"dos\", \"diarrhea\", \"better\", \"lung\", \"even\", \"vomiting\", \"usually\", \"skin\", \"problem\", \"stomach\", \"duration\", \"diabetic\", \"ill\", \"working\", \"mellitus\", \"glucose\", \"cessation\", \"reduction\", \"moderation\", \"widely\", \"unexplained\", \"repeated\", \"properly\", \"statin\", \"program\", \"narrowing\", \"build\", \"blindness\", \"blocker\", \"hypoglycemia\", \"thereafter\", \"dyspepsia\", \"workload\", \"lipid\", \"azulix\", \"beating\", \"channel\", \"controlling\", \"recognize\", \"deal\", \"avoided\", \"stroke\", \"checked\", \"lower\", \"diabetes\", \"cholesterol\", \"sugar\", \"blood\", \"part\", \"pressure\", \"intake\", \"high\", \"exercise\", \"level\", \"risk\", \"regular\", \"try\", \"low\", \"weight\", \"attack\", \"diet\", \"people\", \"control\", \"well\", \"each\", \"healthy\", \"day\", \"but\", \"advice\", \"increase\", \"disease\", \"while\", \"same\", \"get\", \"their\", \"woman\", \"pain\", \"headache\", \"problem\", \"osteoarthritis\", \"spondylitis\", \"ankylosing\", \"nail\", \"seek\", \"immediate\", \"faster\", \"clean\", \"sp\", \"impair\", \"application\", \"direct\", \"component\", \"thoroughly\", \"alleviates\", \"pimple\", \"aggravated\", \"toothache\", \"applying\", \"wash\", \"ensure\", \"discontinuation\", \"laboratory\", \"potency\", \"recovery\", \"completed\", \"oil\", \"external\", \"gel\", \"object\", \"acne\", \"layer\", \"cream\", \"ointment\", \"hand\", \"area\", \"redness\", \"burning\", \"rinse\", \"must\", \"prevents\", \"skin\", \"water\", \"itching\", \"reaction\", \"pain\", \"than\", \"use\", \"recommended\", \"inflammation\", \"eye\", \"duration\", \"using\", \"contact\", \"more\", \"only\", \"like\", \"affected\", \"longer\", \"usually\", \"stomach\", \"better\", \"infection\", \"but\", \"get\", \"cause\", \"prevent\", \"combination\", \"swelling\", \"cancer\", \"much\", \"appear\", \"inhaler\", \"alright\", \"breast\", \"gout\", \"stone\", \"system\", \"including\", \"immune\", \"general\", \"organ\", \"testosterone\", \"smoke\", \"obstructive\", \"emergency\", \"osteoporosis\", \"seeking\", \"there\", \"hiv\", \"asthma\", \"whole\", \"call\", \"ab\", \"menstrual\", \"necessary\", \"urgent\", \"sex\", \"consumption\", \"mean\", \"perform\", \"hearing\", \"injection\", \"infusion\", \"pulmonary\", \"them\", \"way\", \"le\", \"swallow\", \"breathing\", \"bone\", \"air\", \"decide\", \"benefit\", \"surgery\", \"get\", \"preventing\", \"work\", \"asthalin\", \"an\", \"make\", \"medical\", \"using\", \"prevent\", \"often\", \"need\", \"improve\", \"reducing\", \"problem\", \"from\", \"all\", \"more\", \"body\", \"which\", \"how\", \"about\", \"use\", \"cause\", \"stomach\", \"blood\", \"pain\", \"prescribed\", \"safe\", \"better\", \"day\", \"even\", \"while\", \"focus\", \"mental\", \"beneficial\", \"recommend\", \"mucus\", \"consistent\", \"concerned\", \"support\", \"anything\", \"thins\", \"mood\", \"behavior\", \"stuffiness\", \"person\", \"suicidal\", \"expectorant\", \"hallucination\", \"habit\", \"schizophrenia\", \"behave\", \"adversely\", \"asthakind\", \"delusion\", \"modifying\", \"free\", \"windpipe\", \"snacking\", \"talking\", \"lightheadedness\", \"tr\", \"requires\", \"recommends\", \"rich\", \"cough\", \"sleepiness\", \"congestion\", \"never\", \"straight\", \"fluid\", \"worsen\", \"medication\", \"affect\", \"respond\", \"so\", \"maintain\", \"how\", \"drive\", \"about\", \"suddenly\", \"all\", \"until\", \"cause\", \"resolve\", \"while\", \"without\", \"dizziness\", \"nose\", \"keep\", \"planning\", \"come\", \"drinking\", \"alcohol\", \"long\", \"duration\", \"blood\", \"headache\", \"temporary\", \"disease\", \"away\"], \"Freq\": [1611.0, 643.0, 414.0, 263.0, 740.0, 212.0, 805.0, 208.0, 496.0, 526.0, 287.0, 376.0, 205.0, 538.0, 457.0, 187.0, 189.0, 228.0, 260.0, 164.0, 480.0, 493.0, 201.0, 214.0, 289.0, 582.0, 151.0, 270.0, 583.0, 248.0, 100.33407965165748, 260.27311757472654, 62.79116657069401, 62.74021214895612, 61.77068995457474, 56.0467119234124, 53.16041612438469, 50.29077850169436, 50.28123543531546, 51.21322773830143, 56.88391593672956, 61.58363387708161, 54.80186164849517, 58.447100695145174, 52.680377565747165, 30.841677146734966, 48.51957884915197, 34.26067257263541, 17.520511877195315, 15.598031758383728, 16.465673689493826, 199.2080538157975, 21.703908008815503, 11.749090706562283, 12.632816487995521, 46.88773082990515, 11.709528898723107, 11.707141771166262, 11.68771675884081, 10.753819108888145, 36.64889978687219, 53.22482773955592, 61.64371763271421, 94.83047949451151, 136.0618503351781, 57.56582872841261, 122.27728562986863, 111.43324834210749, 111.41227863777691, 283.42859239472443, 409.75507784742473, 106.65117586200643, 136.08795903247028, 108.1821602566849, 137.63958650057077, 77.34977575929892, 83.99195682525684, 131.04771748223055, 127.53200392237646, 91.13873909417721, 111.4244619706668, 167.03189342898352, 130.49368613510356, 96.95379815419602, 101.49406577267813, 97.68238105886616, 116.45256373880443, 131.73153017703183, 90.75910687683601, 121.41708135673923, 109.9394998710067, 113.07155276564717, 108.66723981901146, 104.50129122175771, 102.02533094547735, 96.73127540387999, 93.29152017869941, 60.8929673502588, 58.916288388378845, 55.04663371631467, 68.5339929534349, 58.8629840812651, 86.85673402613561, 49.19271380237798, 48.148779478071084, 43.32695247386873, 42.35031984597208, 42.335960635674745, 36.48356874265891, 91.20227003171883, 37.428815641425864, 36.46568103003945, 37.42204869163351, 34.52762720756196, 36.43241442975669, 33.52957537446753, 33.52012915511532, 32.5440885979473, 30.60504201040969, 30.574983955035105, 29.586372360780455, 33.38532840538528, 29.517725049077868, 26.65136711949204, 26.649728459091595, 28.544764455801197, 231.47814897090663, 121.2810478818082, 134.98486578510983, 152.0641207759064, 234.627056209321, 313.73610219344135, 1204.1849771449831, 116.54734073771664, 554.000509011038, 89.30131033746673, 398.17033996006495, 195.9340738740759, 582.4634899596273, 229.40810224927577, 252.94070092264553, 137.98830303965408, 150.44965752867373, 211.84879152729775, 176.38755848837565, 207.22848685953187, 171.4512315838203, 149.70708122472604, 143.9474052156084, 178.86081135671455, 150.05080519500044, 313.51522990910104, 287.5423190297488, 157.4744391720591, 185.1744981134805, 256.589578998568, 269.7355586262787, 183.4946559045775, 232.96732048314175, 184.17298954421287, 169.17172339552815, 197.62935776602248, 161.83399349873224, 152.71464503283343, 48.88032123932017, 45.916650695668935, 45.90108220372878, 53.65290381315104, 47.788325804500055, 49.66554724626303, 54.522206136525945, 65.13957618494398, 27.063952158102524, 30.885267113188288, 96.3558790861498, 47.128561355308534, 23.062621323923235, 40.3565580593201, 23.05343203770544, 40.31832435326907, 23.99336935652196, 25.907456378117754, 83.45969525482232, 122.56980496565514, 36.35200647606724, 21.02293431696549, 22.934933388767885, 21.018587689992273, 21.961877264112445, 42.91358365403753, 27.661779480052555, 62.889583030563955, 89.57598080210279, 23.78610861653315, 110.82903948607651, 33.285304261837496, 100.75427798573538, 33.24726435444132, 98.49070969700801, 138.98624907738255, 115.78373281017484, 71.56850049079164, 52.28785068789139, 195.86030340417682, 50.93024958233636, 294.80271162311914, 128.7289384726737, 129.33200297255854, 113.87525902818936, 365.4779064428558, 133.8204259615788, 272.80250375362823, 99.89444872518003, 82.30778373587566, 215.67747094028704, 208.79350277858194, 227.2779446507641, 119.58880328515528, 111.39083410098424, 127.95374385324652, 139.8527228632473, 135.51417083398294, 102.63912678884307, 147.62302455868627, 160.2812513273717, 143.12285367977873, 145.66999554309845, 141.6834372420983, 147.99149117261328, 135.8072774566928, 125.05167359631763, 118.21099636270458, 106.68266189437112, 49.66746743676368, 65.18509013017237, 49.475196669973286, 48.49635628151201, 31.884371236887144, 34.73696597760549, 28.882282269827837, 26.867636895308785, 22.000837332801268, 20.003479699251855, 19.99973387142545, 25.69100188659779, 19.025305787997333, 18.005421699824165, 19.890128870719614, 30.286698854602726, 18.87501517787543, 16.02931565219097, 16.95992794257607, 91.33306041914403, 17.874051135017243, 68.51512203086848, 36.56846341570992, 15.919766002981966, 14.029630996529857, 13.087426521236862, 13.978365343862247, 13.044342723498884, 13.024707627214628, 13.914540549525762, 21.31813648936865, 19.443322551315077, 19.412147232752606, 186.41281621468553, 29.78938711839523, 40.60695155020116, 113.44618673543629, 186.46985762660418, 76.37141978933968, 23.36813904451693, 42.267930230147655, 42.68791027716935, 37.5418206171177, 65.0001799828382, 113.40946948945634, 30.1619930618633, 283.07671829408156, 92.99078578662369, 155.0972437369752, 31.61851460873735, 215.16040457065176, 199.17745878771478, 74.6765072529682, 213.47862276487564, 173.66485590502793, 108.63305553240782, 153.927641757229, 88.16521066340957, 100.91759005583462, 158.12143263636136, 134.04691134474692, 150.9260633794874, 95.26255580826175, 109.74154042267278, 112.78459853436662, 136.92658991175173, 122.02567778132844, 133.8209326460084, 129.07345509595666, 127.65275161564462, 173.76265409257286, 128.61884986361076, 107.21213516459802, 96.28178245620724, 103.64698366082946, 104.80751251358483, 99.64148727769468, 98.30555066110206, 186.77741891863357, 205.40292073059234, 72.02904514779706, 74.82557119966131, 71.93723643686398, 62.52529912500036, 115.57124455536534, 79.11827878849803, 200.84474267863638, 38.03270415202727, 45.29854546694541, 32.329218641756746, 33.22982239519934, 119.0309991348702, 33.16462072708097, 28.494394518957407, 21.994860879404623, 24.663289710607728, 18.203977164051146, 17.25571837593981, 16.304206652443398, 17.207130583141925, 16.300940827184675, 16.29788241171095, 26.238537732512782, 38.838234541084766, 15.328309631625839, 54.94238332373239, 14.39153103370457, 14.369290142635116, 189.27736069601525, 115.40769783856967, 33.51787591694294, 113.79913535232824, 242.49497111995825, 41.31078885239294, 91.50946900100392, 116.88995831200657, 113.57222670392521, 209.5667530191225, 371.28494515023084, 335.70825642981976, 112.83051993831286, 316.71760090281884, 69.11295262801063, 324.4161646504212, 194.15025790286424, 254.48137242777327, 70.35283191744487, 249.7070007278326, 194.0437453615234, 288.48161553983715, 140.5287303984114, 291.6546055849628, 245.0621464782673, 192.0287065689504, 152.95628411627382, 157.65346656560718, 117.62938708540402, 117.15777707574242, 127.91248767930723, 156.40423625874752, 159.46408602386592, 154.594676113741, 195.7138042631139, 138.12821407547972, 126.63112174564628, 141.34390475656804, 130.13565808980394], \"Total\": [1611.0, 643.0, 414.0, 263.0, 740.0, 212.0, 805.0, 208.0, 496.0, 526.0, 287.0, 376.0, 205.0, 538.0, 457.0, 187.0, 189.0, 228.0, 260.0, 164.0, 480.0, 493.0, 201.0, 214.0, 289.0, 582.0, 151.0, 270.0, 583.0, 248.0, 101.34196121844718, 263.5094503360037, 63.70462054902417, 63.70527809013723, 62.74055006503746, 56.94974450175254, 54.05441767704007, 51.159070954007696, 51.15918243815655, 52.124858560338126, 57.9166742277873, 62.743244533389245, 55.991086445978176, 59.85611581670678, 54.062049955683705, 31.861595071565937, 50.209199782261344, 35.72367464830255, 18.34802620034776, 16.41778984633711, 17.383267857992976, 212.70321844524213, 23.186535536911535, 12.55762198665561, 13.522372675919275, 50.24984381054305, 12.557936013531554, 12.557944188703141, 12.55850171327446, 11.592861735053875, 39.63785534421235, 58.033747631094926, 67.70239518997927, 111.48449062074165, 164.58879607982098, 67.7762903783163, 151.28298005472215, 137.8410736671702, 137.84270695763055, 414.9719771814983, 643.8667244368878, 138.8390313160984, 187.1893441252593, 146.89781262157132, 228.17846823130105, 102.77571980680719, 120.40959649837454, 270.66195747950553, 260.71438728948897, 146.73297585230034, 214.13217771944758, 457.73425554696354, 289.5869161172607, 166.13472943905487, 181.77332948895773, 216.91475031111622, 347.07415760303115, 522.0241423113641, 198.17382163246515, 489.49760292572876, 371.1264029210411, 484.90095592693916, 496.2448749693662, 522.431463455471, 625.2885910292688, 502.94432086196963, 94.29220314152165, 61.875738724970596, 59.9106180496457, 55.98229528895112, 69.73464066975096, 59.90866508121192, 88.40146547513241, 50.08956118460149, 49.10621993499081, 44.19653380637545, 43.21447836097397, 43.212390381231415, 37.32054052285452, 93.29629593847474, 38.30324644397163, 37.320847528244386, 38.301264743433286, 35.35522735214975, 37.319665928430986, 34.373736808465395, 34.373750474543705, 33.390109318846825, 31.42689888666175, 31.42586805654481, 30.44384836410548, 34.366047883705384, 30.442304841666434, 27.496599619045956, 27.49637547488641, 29.460104248886857, 248.55087954394656, 128.7515694658092, 144.3069740945665, 167.13347167654624, 275.1663307424168, 376.44739770844313, 1611.7294645444085, 131.8035332528968, 740.2766216112918, 100.25339894651707, 526.8158933802523, 239.61335136339613, 805.061545154987, 300.30952607250606, 345.9420373592878, 177.13013749523552, 197.92084922744652, 304.29865046557654, 250.68085503471582, 307.2181061151513, 247.32145920957012, 210.18611608011773, 204.3545719119484, 280.8496965867321, 224.69782988738365, 645.4640759048674, 601.0118941898203, 245.56817381355378, 334.875303654991, 621.7959660811193, 699.0307143257996, 394.1713592716819, 709.0049517902443, 423.5581641981492, 382.67200127591667, 858.4985759584098, 422.69198748247834, 522.431463455471, 49.834706346182344, 46.84383216649299, 46.843403777339034, 54.817930979935575, 48.836495407501815, 50.82946897367257, 55.814612036438426, 66.77741588991084, 27.899125803466283, 31.8851579948371, 99.6710397830718, 48.815297309207786, 23.909750254726728, 41.84868589107719, 23.909131434679686, 41.845539075469, 24.90555607666247, 26.89994466106471, 86.7031226806968, 127.55979743458093, 37.864354472420885, 21.914196029426584, 23.907423864598904, 21.914439763530254, 22.909674899466477, 44.8153139298213, 28.890511657784025, 65.76682512912812, 93.67918551992437, 24.90155616448809, 116.60632329306652, 34.86695189714449, 107.65300647363586, 34.857133839657955, 106.487109439492, 155.4386679496319, 136.3343964180953, 81.60814710646628, 58.76972865175993, 262.7670109125442, 58.738838685343616, 496.2448749693662, 187.9738831261606, 193.24927129352875, 173.60715146509992, 858.4985759584098, 217.5609996942633, 590.2238328877584, 148.1685024869979, 114.27794303644964, 505.5158561006543, 502.94432086196963, 583.0088416086821, 243.80598412638693, 220.82627586441527, 284.29200491530975, 350.2643958399495, 332.9429286605728, 193.94928822521427, 484.90095592693916, 625.2885910292688, 522.0241423113641, 643.8667244368878, 601.0118941898203, 709.0049517902443, 627.4149702730647, 445.46377728783415, 328.7461163956265, 263.67697654352344, 50.759306136348805, 66.67801680946282, 50.75583901100272, 49.75725213618296, 32.83840894233067, 35.82334261660383, 29.852993208625037, 27.859938108315337, 22.883024896542157, 20.890455761481288, 20.891293334725642, 26.859035555128834, 19.895605931985415, 18.898331826039136, 20.887964483552587, 31.81545700908021, 19.89237067586729, 16.90668973000296, 17.90016643132686, 96.50126346562475, 18.896004048164723, 72.55561673542915, 38.76657704435795, 16.905313389333426, 14.91237363671183, 13.920845287480411, 14.914073670309328, 13.919474527398508, 13.919283943218995, 14.909830577007133, 22.855058347124867, 20.88196846232233, 20.864006670842176, 220.62019887468395, 32.832260040647, 45.64350561538588, 144.08146354885852, 252.8195104545588, 94.85522949932003, 25.808182370878765, 51.40346226946282, 52.59864818347646, 45.60616747902964, 91.21436157741697, 191.38934344646694, 35.70462777888197, 709.0049517902443, 161.39384022489907, 326.11885439069283, 38.55050073127483, 520.5035007288002, 493.09873282178677, 127.49074862925522, 583.0088416086821, 445.46377728783415, 225.46306710620115, 391.4527248850885, 171.92392538776681, 228.30536483392092, 522.431463455471, 392.6477224941348, 505.15134365035675, 220.82627586441527, 288.0961343490241, 317.49415399403097, 582.1668609567337, 462.2990098436567, 590.2238328877584, 627.4149702730647, 625.2885910292688, 1611.7294645444085, 858.4985759584098, 457.73425554696354, 290.7467074181173, 522.0241423113641, 645.4640759048674, 489.49760292572876, 699.0307143257996, 189.7055863282372, 208.78086955631298, 73.41038316112758, 76.27122931337148, 73.41112965466021, 63.88055813759128, 118.22804002261665, 81.05420595132362, 205.98891618978206, 39.0987964296878, 46.73144922361134, 33.38106959894263, 34.33508659534363, 123.06326409352391, 34.337254811875084, 29.56999090011929, 22.894799954638106, 25.75815506870844, 19.083098809049382, 18.130072902080673, 17.177092845209874, 18.13114237905107, 17.177105587222357, 17.17729556550659, 27.67783373116584, 41.018528904319425, 16.22424060256099, 58.23156145943187, 15.270184381897149, 15.269400967474255, 201.42131615056798, 124.18788958696288, 36.2882177642752, 129.25521151901893, 287.29119419793454, 45.88600809459856, 108.32609787672658, 142.96268615616327, 139.1169962441595, 275.33871113177725, 538.7735515443528, 493.42534305056904, 145.72438092730613, 480.11603986035703, 84.44517862606067, 582.1668609567337, 318.80634696623207, 462.2990098436567, 90.16010942574275, 505.15134365035675, 360.53326397518674, 627.4149702730647, 237.7152596954796, 699.0307143257996, 551.608368530135, 385.9892888106483, 301.5590000613595, 339.5382455388858, 190.74508313208867, 194.80858444708588, 240.54373744595563, 396.61284239083284, 417.25018611426276, 502.94432086196963, 1611.7294645444085, 422.69198748247834, 250.30079526298357, 621.7959660811193, 387.2385601063012], \"Category\": [\"Default\", \"Default\", \"Default\", \"Default\", \"Default\", \"Default\", \"Default\", \"Default\", \"Default\", \"Default\", \"Default\", \"Default\", \"Default\", \"Default\", \"Default\", \"Default\", \"Default\", \"Default\", \"Default\", \"Default\", \"Default\", \"Default\", \"Default\", \"Default\", \"Default\", \"Default\", \"Default\", \"Default\", \"Default\", \"Default\", \"Topic1\", \"Topic1\", \"Topic1\", \"Topic1\", \"Topic1\", \"Topic1\", \"Topic1\", \"Topic1\", \"Topic1\", \"Topic1\", \"Topic1\", \"Topic1\", \"Topic1\", \"Topic1\", \"Topic1\", \"Topic1\", \"Topic1\", \"Topic1\", \"Topic1\", \"Topic1\", \"Topic1\", \"Topic1\", \"Topic1\", \"Topic1\", \"Topic1\", \"Topic1\", \"Topic1\", \"Topic1\", \"Topic1\", \"Topic1\", \"Topic1\", \"Topic1\", \"Topic1\", \"Topic1\", \"Topic1\", \"Topic1\", \"Topic1\", \"Topic1\", \"Topic1\", \"Topic1\", \"Topic1\", \"Topic1\", \"Topic1\", \"Topic1\", \"Topic1\", \"Topic1\", \"Topic1\", \"Topic1\", \"Topic1\", \"Topic1\", \"Topic1\", \"Topic1\", \"Topic1\", \"Topic1\", \"Topic1\", \"Topic1\", \"Topic1\", \"Topic1\", \"Topic1\", \"Topic1\", \"Topic1\", \"Topic1\", \"Topic1\", \"Topic1\", \"Topic1\", \"Topic1\", \"Topic2\", \"Topic2\", \"Topic2\", \"Topic2\", \"Topic2\", \"Topic2\", \"Topic2\", \"Topic2\", \"Topic2\", \"Topic2\", \"Topic2\", \"Topic2\", \"Topic2\", \"Topic2\", \"Topic2\", \"Topic2\", \"Topic2\", \"Topic2\", \"Topic2\", \"Topic2\", \"Topic2\", \"Topic2\", \"Topic2\", \"Topic2\", \"Topic2\", \"Topic2\", \"Topic2\", \"Topic2\", \"Topic2\", \"Topic2\", \"Topic2\", \"Topic2\", \"Topic2\", \"Topic2\", \"Topic2\", \"Topic2\", \"Topic2\", \"Topic2\", \"Topic2\", \"Topic2\", \"Topic2\", \"Topic2\", \"Topic2\", \"Topic2\", \"Topic2\", \"Topic2\", \"Topic2\", \"Topic2\", \"Topic2\", \"Topic2\", \"Topic2\", \"Topic2\", \"Topic2\", \"Topic2\", \"Topic2\", \"Topic2\", \"Topic2\", \"Topic2\", \"Topic2\", \"Topic2\", \"Topic2\", \"Topic2\", \"Topic2\", \"Topic2\", \"Topic2\", \"Topic2\", \"Topic2\", \"Topic2\", \"Topic3\", \"Topic3\", \"Topic3\", \"Topic3\", \"Topic3\", \"Topic3\", \"Topic3\", \"Topic3\", \"Topic3\", \"Topic3\", \"Topic3\", \"Topic3\", \"Topic3\", \"Topic3\", \"Topic3\", \"Topic3\", \"Topic3\", \"Topic3\", \"Topic3\", \"Topic3\", \"Topic3\", \"Topic3\", \"Topic3\", \"Topic3\", \"Topic3\", \"Topic3\", \"Topic3\", \"Topic3\", \"Topic3\", \"Topic3\", \"Topic3\", \"Topic3\", \"Topic3\", \"Topic3\", \"Topic3\", \"Topic3\", \"Topic3\", \"Topic3\", \"Topic3\", \"Topic3\", \"Topic3\", \"Topic3\", \"Topic3\", \"Topic3\", \"Topic3\", \"Topic3\", \"Topic3\", \"Topic3\", \"Topic3\", \"Topic3\", \"Topic3\", \"Topic3\", \"Topic3\", \"Topic3\", \"Topic3\", \"Topic3\", \"Topic3\", \"Topic3\", \"Topic3\", \"Topic3\", \"Topic3\", \"Topic3\", \"Topic3\", \"Topic3\", \"Topic3\", \"Topic3\", \"Topic3\", \"Topic3\", \"Topic3\", \"Topic4\", \"Topic4\", \"Topic4\", \"Topic4\", \"Topic4\", \"Topic4\", \"Topic4\", \"Topic4\", \"Topic4\", \"Topic4\", \"Topic4\", \"Topic4\", \"Topic4\", \"Topic4\", \"Topic4\", \"Topic4\", \"Topic4\", \"Topic4\", \"Topic4\", \"Topic4\", \"Topic4\", \"Topic4\", \"Topic4\", \"Topic4\", \"Topic4\", \"Topic4\", \"Topic4\", \"Topic4\", \"Topic4\", \"Topic4\", \"Topic4\", \"Topic4\", \"Topic4\", \"Topic4\", \"Topic4\", \"Topic4\", \"Topic4\", \"Topic4\", \"Topic4\", \"Topic4\", \"Topic4\", \"Topic4\", \"Topic4\", \"Topic4\", \"Topic4\", \"Topic4\", \"Topic4\", \"Topic4\", \"Topic4\", \"Topic4\", \"Topic4\", \"Topic4\", \"Topic4\", \"Topic4\", \"Topic4\", \"Topic4\", \"Topic4\", \"Topic4\", \"Topic4\", \"Topic4\", \"Topic4\", \"Topic4\", \"Topic4\", \"Topic4\", \"Topic4\", \"Topic4\", \"Topic4\", \"Topic4\", \"Topic4\", \"Topic4\", \"Topic4\", \"Topic4\", \"Topic4\", \"Topic4\", \"Topic4\", \"Topic4\", \"Topic4\", \"Topic4\", \"Topic5\", \"Topic5\", \"Topic5\", \"Topic5\", \"Topic5\", \"Topic5\", \"Topic5\", \"Topic5\", \"Topic5\", \"Topic5\", \"Topic5\", \"Topic5\", \"Topic5\", \"Topic5\", \"Topic5\", \"Topic5\", \"Topic5\", \"Topic5\", \"Topic5\", \"Topic5\", \"Topic5\", \"Topic5\", \"Topic5\", \"Topic5\", \"Topic5\", \"Topic5\", \"Topic5\", \"Topic5\", \"Topic5\", \"Topic5\", \"Topic5\", \"Topic5\", \"Topic5\", \"Topic5\", \"Topic5\", \"Topic5\", \"Topic5\", \"Topic5\", \"Topic5\", \"Topic5\", \"Topic5\", \"Topic5\", \"Topic5\", \"Topic5\", \"Topic5\", \"Topic5\", \"Topic5\", \"Topic5\", \"Topic5\", \"Topic5\", \"Topic5\", \"Topic5\", \"Topic5\", \"Topic5\", \"Topic5\", \"Topic5\", \"Topic5\", \"Topic5\", \"Topic5\", \"Topic5\", \"Topic5\", \"Topic5\", \"Topic5\", \"Topic5\", \"Topic5\", \"Topic5\", \"Topic5\", \"Topic5\", \"Topic5\"], \"logprob\": [30.0, 29.0, 28.0, 27.0, 26.0, 25.0, 24.0, 23.0, 22.0, 21.0, 20.0, 19.0, 18.0, 17.0, 16.0, 15.0, 14.0, 13.0, 12.0, 11.0, 10.0, 9.0, 8.0, 7.0, 6.0, 5.0, 4.0, 3.0, 2.0, 1.0, -4.758, -3.8048, -5.2267, -5.2275, -5.2431, -5.3404, -5.3932, -5.4487, -5.4489, -5.4305, -5.3255, -5.2461, -5.3628, -5.2984, -5.4023, -5.9377, -5.4846, -5.8325, -6.5032, -6.6194, -6.5653, -4.0722, -6.289, -6.9028, -6.8302, -5.5188, -6.9061, -6.9063, -6.908, -6.9913, -5.7652, -5.392, -5.2452, -4.8144, -4.4534, -5.3136, -4.5602, -4.6531, -4.6533, -3.7196, -3.351, -4.697, -4.4532, -4.6827, -4.4419, -5.0182, -4.9358, -4.491, -4.5182, -4.8542, -4.6532, -4.2484, -4.4952, -4.7923, -4.7465, -4.7848, -4.6091, -4.4858, -4.8583, -4.5673, -4.6666, -4.6385, -4.6782, -4.7173, -4.7413, -4.7946, -5.618, -6.0446, -6.0776, -6.1455, -5.9264, -6.0785, -5.6894, -6.258, -6.2794, -6.3849, -6.4077, -6.4081, -6.5568, -5.6406, -6.5313, -6.5573, -6.5314, -6.6119, -6.5582, -6.6413, -6.6416, -6.6711, -6.7325, -6.7335, -6.7664, -6.6456, -6.7687, -6.8709, -6.8709, -6.8022, -4.7092, -5.3556, -5.2485, -5.1294, -4.6957, -4.4052, -3.0601, -5.3954, -3.8365, -5.6617, -4.1668, -4.8759, -3.7864, -4.7182, -4.6206, -5.2265, -5.1401, -4.7978, -4.981, -4.8199, -5.0094, -5.145, -5.1843, -4.9671, -5.1427, -4.4059, -4.4923, -5.0944, -4.9324, -4.6062, -4.5563, -4.9415, -4.7028, -4.9378, -5.0228, -4.8673, -5.0671, -5.1251, -6.005, -6.0675, -6.0679, -5.9118, -6.0276, -5.989, -5.8957, -5.7178, -6.5961, -6.4641, -5.3263, -6.0415, -6.7561, -6.1966, -6.7565, -6.1975, -6.7166, -6.6398, -5.47, -5.0857, -6.3011, -6.8487, -6.7617, -6.8489, -6.805, -6.1352, -6.5743, -5.753, -5.3993, -6.7252, -5.1864, -6.3892, -5.2817, -6.3904, -5.3044, -4.96, -5.1426, -5.6237, -5.9376, -4.6169, -5.9639, -4.208, -5.0366, -5.032, -5.1592, -3.9931, -4.9979, -4.2856, -5.2902, -5.4839, -4.5206, -4.553, -4.4682, -5.1103, -5.1813, -5.0427, -4.9538, -4.9853, -5.2631, -4.8997, -4.8174, -4.9306, -4.913, -4.9408, -4.8972, -4.9831, -5.0656, -5.1219, -5.2245, -5.968, -5.6961, -5.9719, -5.9919, -6.4113, -6.3256, -6.5101, -6.5825, -6.7823, -6.8775, -6.8777, -6.6272, -6.9276, -6.9827, -6.8832, -6.4627, -6.9355, -7.099, -7.0425, -5.3589, -6.99, -5.6463, -6.2742, -7.1058, -7.2322, -7.3017, -7.2359, -7.305, -7.3065, -7.2404, -6.8138, -6.9059, -6.9075, -4.6454, -6.4792, -6.1694, -5.142, -4.6451, -5.5378, -6.722, -6.1293, -6.1195, -6.2479, -5.699, -5.1424, -6.4668, -4.2277, -5.3409, -4.8293, -6.4196, -4.502, -4.5792, -5.5602, -4.5098, -4.7162, -5.1854, -4.8369, -5.3942, -5.2591, -4.81, -4.9752, -4.8566, -5.3167, -5.1752, -5.1479, -4.9539, -5.0691, -4.9769, -5.013, -5.0241, -4.7157, -5.0165, -5.1986, -5.3061, -5.2324, -5.2213, -5.2718, -5.2853, -4.6801, -4.5851, -5.633, -5.5949, -5.6342, -5.7745, -5.1602, -5.5391, -4.6075, -6.2716, -6.0968, -6.4341, -6.4066, -5.1307, -6.4086, -6.5603, -6.8192, -6.7047, -7.0084, -7.0619, -7.1186, -7.0647, -7.1188, -7.119, -6.6428, -6.2506, -7.1803, -5.9038, -7.2434, -7.2449, -4.6668, -5.1616, -6.398, -5.1756, -4.4191, -6.1889, -5.3936, -5.1488, -5.1776, -4.565, -3.9931, -4.0938, -5.1842, -4.152, -5.6743, -4.128, -4.6414, -4.3708, -5.6565, -4.3898, -4.642, -4.2454, -4.9646, -4.2345, -4.4085, -4.6524, -4.8799, -4.8496, -5.1425, -5.1465, -5.0587, -4.8576, -4.8382, -4.8692, -4.6334, -4.9819, -5.0688, -4.9588, -5.0415], \"loglift\": [30.0, 29.0, 28.0, 27.0, 26.0, 25.0, 24.0, 23.0, 22.0, 21.0, 20.0, 19.0, 18.0, 17.0, 16.0, 15.0, 14.0, 13.0, 12.0, 11.0, 10.0, 9.0, 8.0, 7.0, 6.0, 5.0, 4.0, 3.0, 2.0, 1.0, 2.1032, 2.1008, 2.0987, 2.0979, 2.0976, 2.0972, 2.0965, 2.0961, 2.0959, 2.0955, 2.0952, 2.0945, 2.0917, 2.0894, 2.0873, 2.0806, 2.0789, 2.0714, 2.067, 2.062, 2.0589, 2.0476, 2.0471, 2.0466, 2.0451, 2.0439, 2.0432, 2.043, 2.0413, 2.038, 2.0348, 2.0267, 2.0194, 1.9514, 1.9228, 1.9499, 1.9003, 1.9005, 1.9003, 1.7319, 1.6612, 1.8494, 1.7944, 1.8073, 1.6077, 1.829, 1.753, 1.3879, 1.3981, 1.6369, 1.4599, 1.1051, 1.316, 1.5746, 1.5304, 1.3154, 1.0211, 0.7362, 1.3322, 0.719, 0.8966, 0.6572, 0.5944, 0.5039, 0.3002, 0.4646, 1.3153, 1.31, 1.3093, 1.3091, 1.3086, 1.3084, 1.3084, 1.3079, 1.3063, 1.3061, 1.3058, 1.3055, 1.3033, 1.3033, 1.3029, 1.3028, 1.3028, 1.3023, 1.3019, 1.3011, 1.3009, 1.3003, 1.2995, 1.2986, 1.2974, 1.2971, 1.2952, 1.2948, 1.2947, 1.2944, 1.2548, 1.2662, 1.2592, 1.2315, 1.1666, 1.1438, 1.0345, 1.203, 1.0361, 1.2103, 1.046, 1.1248, 1.0024, 1.0567, 1.0129, 1.0763, 1.0518, 0.9639, 0.9745, 0.9323, 0.9596, 0.9867, 0.9756, 0.8748, 0.9222, 0.6039, 0.5888, 0.8817, 0.7335, 0.4409, 0.3738, 0.5614, 0.213, 0.4932, 0.5097, -0.1428, 0.3659, 0.0961, 1.566, 1.5654, 1.565, 1.5639, 1.5637, 1.5622, 1.5619, 1.5605, 1.555, 1.5535, 1.5515, 1.5502, 1.5493, 1.5491, 1.5489, 1.5482, 1.548, 1.5478, 1.5472, 1.5455, 1.5446, 1.5438, 1.5438, 1.5436, 1.5431, 1.542, 1.5419, 1.5406, 1.5406, 1.5395, 1.5345, 1.5389, 1.5191, 1.5381, 1.5073, 1.4735, 1.422, 1.4541, 1.4685, 1.2915, 1.4427, 1.0646, 1.2068, 1.1838, 1.1637, 0.7314, 1.0994, 0.8136, 1.1911, 1.2572, 0.7336, 0.7062, 0.6433, 0.873, 0.901, 0.787, 0.6673, 0.6865, 0.949, 0.3961, 0.2241, 0.2914, 0.0992, 0.1403, 0.0187, 0.055, 0.315, 0.5625, 0.6805, 1.5846, 1.5837, 1.5808, 1.5807, 1.5769, 1.5755, 1.5733, 1.5701, 1.567, 1.5629, 1.5627, 1.5619, 1.5616, 1.5579, 1.5574, 1.5571, 1.5538, 1.553, 1.5524, 1.5513, 1.5507, 1.549, 1.548, 1.5463, 1.5453, 1.5446, 1.5415, 1.5414, 1.5399, 1.5372, 1.5367, 1.535, 1.5342, 1.4379, 1.5091, 1.4894, 1.3673, 1.3019, 1.3896, 1.507, 1.4107, 1.3976, 1.4117, 1.2675, 1.083, 1.4376, 0.6882, 1.055, 0.8631, 1.4081, 0.7229, 0.6998, 1.0715, 0.6017, 0.6643, 0.8762, 0.673, 0.9385, 0.79, 0.4112, 0.5316, 0.3983, 0.7656, 0.6412, 0.5714, 0.159, 0.2744, 0.1223, 0.0251, 0.0174, -0.621, -0.292, 0.1549, 0.5012, -0.0104, -0.2115, 0.0145, -0.3553, 1.5541, 1.5534, 1.5507, 1.5505, 1.5494, 1.5482, 1.5469, 1.5455, 1.5444, 1.542, 1.5385, 1.5377, 1.5369, 1.5364, 1.5349, 1.5326, 1.5296, 1.5262, 1.5225, 1.5202, 1.5175, 1.5174, 1.5173, 1.5171, 1.5163, 1.5151, 1.5129, 1.5115, 1.5104, 1.5089, 1.5075, 1.4963, 1.4903, 1.4423, 1.4002, 1.4646, 1.401, 1.3683, 1.3668, 1.2967, 1.1973, 1.1845, 1.3138, 1.1537, 1.3693, 0.9849, 1.0737, 0.9727, 1.3216, 0.8651, 0.9502, 0.7927, 1.044, 0.6955, 0.7583, 0.8715, 0.8909, 0.8025, 1.0863, 1.0612, 0.9381, 0.6392, 0.6078, 0.39, -0.5387, 0.4512, 0.8883, 0.0883, 0.4792]}, \"token.table\": {\"Topic\": [4, 1, 2, 3, 4, 5, 1, 2, 3, 4, 1, 5, 1, 2, 3, 4, 5, 1, 2, 3, 4, 5, 1, 2, 3, 4, 5, 3, 3, 4, 5, 1, 2, 3, 4, 5, 1, 2, 3, 4, 5, 3, 4, 1, 2, 3, 4, 5, 3, 1, 2, 3, 4, 5, 1, 2, 3, 4, 5, 4, 2, 3, 4, 2, 3, 4, 1, 2, 3, 4, 5, 2, 4, 5, 2, 4, 5, 2, 3, 4, 5, 2, 1, 2, 3, 4, 5, 1, 1, 1, 2, 1, 2, 3, 1, 3, 2, 5, 5, 2, 5, 1, 2, 3, 4, 5, 1, 2, 3, 4, 5, 2, 2, 1, 2, 3, 4, 5, 1, 2, 3, 4, 5, 1, 2, 4, 4, 3, 4, 5, 1, 2, 1, 2, 3, 4, 1, 2, 3, 4, 5, 4, 4, 1, 2, 3, 4, 5, 2, 2, 2, 4, 2, 3, 5, 2, 3, 1, 2, 3, 4, 5, 1, 2, 3, 4, 5, 1, 2, 4, 3, 5, 1, 3, 1, 2, 3, 5, 2, 4, 5, 2, 5, 4, 1, 2, 3, 4, 5, 2, 4, 5, 2, 1, 2, 4, 5, 1, 2, 3, 4, 5, 2, 3, 4, 1, 2, 3, 4, 5, 2, 1, 2, 4, 5, 5, 2, 3, 4, 5, 2, 1, 2, 3, 4, 5, 1, 2, 3, 4, 5, 1, 3, 3, 1, 2, 3, 4, 5, 1, 2, 3, 4, 5, 1, 2, 3, 4, 5, 1, 2, 3, 4, 5, 1, 2, 3, 4, 5, 1, 2, 3, 4, 5, 2, 1, 2, 3, 4, 5, 1, 2, 3, 4, 5, 1, 2, 3, 4, 5, 1, 2, 4, 5, 4, 1, 3, 4, 1, 2, 3, 4, 5, 1, 2, 3, 4, 1, 2, 3, 4, 5, 1, 5, 2, 3, 4, 1, 2, 3, 4, 5, 3, 1, 2, 4, 5, 1, 2, 3, 4, 5, 1, 2, 5, 4, 5, 1, 2, 3, 4, 5, 1, 2, 4, 5, 1, 2, 3, 4, 4, 1, 2, 3, 4, 5, 2, 1, 4, 1, 5, 5, 2, 3, 4, 5, 1, 2, 3, 4, 5, 1, 2, 3, 5, 4, 5, 1, 2, 4, 5, 4, 1, 2, 3, 4, 5, 1, 2, 3, 4, 5, 2, 2, 3, 4, 3, 1, 2, 3, 4, 5, 4, 2, 3, 4, 5, 1, 2, 3, 4, 5, 2, 3, 4, 5, 3, 4, 4, 1, 2, 3, 4, 5, 2, 3, 4, 5, 1, 2, 3, 1, 2, 3, 4, 5, 1, 2, 3, 4, 5, 3, 3, 1, 2, 4, 5, 1, 2, 3, 4, 5, 5, 1, 2, 3, 4, 5, 2, 1, 2, 3, 4, 5, 1, 2, 3, 4, 2, 3, 4, 5, 2, 3, 4, 5, 1, 2, 4, 5, 2, 4, 5, 1, 2, 3, 4, 5, 1, 2, 4, 5, 4, 5, 2, 3, 4, 1, 2, 3, 4, 5, 2, 4, 2, 4, 5, 2, 5, 2, 5, 1, 2, 3, 4, 5, 4, 2, 5, 1, 2, 3, 4, 5, 3, 2, 4, 1, 2, 3, 4, 5, 1, 2, 4, 5, 1, 2, 3, 4, 5, 3, 4, 5, 1, 2, 3, 4, 5, 3, 1, 3, 1, 2, 3, 4, 5, 1, 4, 4, 3, 4, 1, 2, 3, 4, 5, 2, 4, 1, 1, 2, 3, 4, 5, 2, 4, 1, 2, 4, 5, 3, 1, 2, 3, 4, 5, 1, 1, 3, 1, 1, 2, 3, 4, 5, 1, 2, 3, 4, 5, 1, 2, 3, 4, 5, 2, 3, 4, 5, 1, 2, 3, 4, 5, 1, 1, 2, 3, 4, 5, 2, 4, 5, 2, 2, 4, 5, 1, 1, 2, 3, 4, 5, 2, 2, 5, 2, 3, 4, 5, 1, 2, 3, 4, 5, 3, 1, 2, 3, 4, 1, 2, 3, 4, 5, 2, 4, 1, 2, 3, 4, 5, 2, 1, 2, 3, 4, 5, 1, 2, 3, 4, 5, 1, 2, 4, 5, 1, 2, 3, 4, 5, 1, 4, 1, 2, 2, 5, 2, 3, 4, 2, 3, 4, 5, 1, 2, 3, 4, 5, 1, 2, 3, 4, 5, 5, 3, 4, 1, 2, 3, 4, 4, 1, 1, 2, 1, 2, 3, 4, 5, 1, 2, 4, 5, 1, 2, 4, 5, 4, 5, 1, 2, 3, 4, 5, 3, 1, 2, 3, 4, 1, 3, 2, 1, 2, 3, 4, 5, 4, 1, 2, 3, 4, 5, 1, 2, 3, 4, 5, 2, 3, 4, 5, 5, 2, 5, 1, 2, 3, 4, 5, 5, 2, 4, 5, 1, 2, 4, 5, 1, 2, 4, 5, 1, 2, 3, 4, 5, 4, 2, 3, 4, 5, 1, 2, 3, 4, 5, 4, 1, 2, 3, 4, 5, 1, 2, 3, 4, 5, 1, 2, 3, 4, 5, 1, 2, 3, 4, 5, 2, 5, 2, 3, 1, 2, 4, 5, 3, 5, 1, 2, 4, 5, 1, 2, 4, 5, 1, 2, 3, 4, 5, 1, 2, 1, 2, 3, 4, 5, 4, 1, 2, 4, 5, 1, 2, 3, 4, 5, 1, 2, 3, 4, 5, 1, 2, 3, 4, 5, 1, 1, 4, 1, 2, 3, 1, 2, 3, 4, 5, 2, 3, 4, 1, 2, 3, 4, 5, 1, 2, 3, 4, 5, 2, 4, 5, 1, 2, 3, 4, 5, 1, 2, 3, 4, 5, 1, 2, 3, 4, 5, 2, 4, 5, 2, 1, 5, 1, 2, 3, 4, 5, 1, 2, 3, 4, 5, 1, 2, 3, 4, 5, 2, 2, 1, 2, 3, 4, 5, 1, 2, 3, 5], \"Freq\": [0.9388176785977441, 0.06921927003655486, 0.04109894158420444, 0.07570857660248187, 0.26389846701436537, 0.5494279559151541, 0.008575864256406586, 0.008575864256406586, 0.9519209324611311, 0.034303457025626344, 0.9555279980028097, 0.9314731045691398, 0.004072188934219319, 0.6393336626724331, 0.04886626721063182, 0.1995372577767466, 0.10994910122392161, 0.07295936560013805, 0.03445303375562074, 0.12767888980024159, 0.08511925986682772, 0.6809540789346218, 0.11113015719796408, 0.027031659858964236, 0.4084784156465707, 0.08710201510110699, 0.3664291669770708, 0.9636403991994776, 0.06578057674720075, 0.8332206387978762, 0.08770743566293433, 0.0025213505290748338, 0.3050834140180549, 0.13111022751189136, 0.16893048544801387, 0.39333068253567405, 0.07522498054820954, 0.03761249027410477, 0.09304142330962759, 0.2989203174415695, 0.494901187817168, 0.9619755557761077, 0.9744686490809269, 0.16138219989372718, 0.24015208317518924, 0.14409124990511354, 0.4130615830613255, 0.04226676663883331, 0.9819952499321358, 0.9866818805491464, 0.0037949303098044093, 0.0037949303098044093, 0.0037949303098044093, 0.0037949303098044093, 0.004854630134947058, 0.009709260269894117, 0.004854630134947058, 0.009709260269894117, 0.9757806571243588, 0.9654061671481365, 0.010033004593675772, 0.963168440992874, 0.010033004593675772, 0.01153360996792144, 0.9572896273374795, 0.01153360996792144, 0.006433405620305742, 0.01930021686091723, 0.8942433812224982, 0.07720086744366891, 0.9376132868297364, 0.025940000286137164, 0.8300800091563892, 0.15564000171682296, 0.013782530491697916, 0.9509946039271563, 0.027565060983395832, 0.702087919620453, 0.043880494976278314, 0.17951111581204765, 0.07180444632481905, 0.9843821242111103, 0.08521878603964735, 0.2401620333844607, 0.1910966717252698, 0.1471960849775727, 0.33571036924709563, 0.9745526133391016, 0.9555949377001339, 0.9810319542523237, 0.9864484870941816, 0.9355758763529483, 0.004701386313331398, 0.05641663575997678, 0.8521364673331995, 0.13454786326313675, 0.985420753684058, 0.9376685958085154, 0.9586271615758418, 0.013622051226801416, 0.980787688329702, 0.005224951306025603, 0.28737232183140815, 0.10972397742653765, 0.5904194975808931, 0.005224951306025603, 0.2528618684483521, 0.045974885172427656, 0.2739336908190481, 0.19922450241385317, 0.2298744258621383, 0.9660255411368266, 0.9899526214720227, 0.0006204515224164326, 0.7470236329893849, 0.022956706329408005, 0.10795856490045927, 0.12160849839362078, 0.10760297103620269, 0.03123957223631691, 0.2742140229632262, 0.3818169939994289, 0.2047927513269664, 0.038023790897125896, 0.15209516358850358, 0.8175115042882068, 0.9770165887249668, 0.019453942513791886, 0.8170655855792592, 0.1556315401103351, 0.9889290477762405, 0.9646083190569354, 0.012253678529122791, 0.09802942823298233, 0.882264854096841, 0.012253678529122791, 0.11314251956970964, 0.47919184758935846, 0.23626820263086423, 0.154739034117397, 0.01830246640098244, 0.946447997237091, 0.9850410457875612, 0.0031876829447176824, 0.11475658600983657, 0.2167624402408024, 0.2056055499342905, 0.4590263440393463, 0.9848324932632009, 0.9602500733186403, 0.9397943691252036, 0.05436826928823492, 0.8540289045027951, 0.02907332440860579, 0.11629329763442316, 0.014975122751808765, 0.9733829788675697, 0.0030418610293073676, 0.1977209669049789, 0.35893960145826936, 0.09733955293783576, 0.34068843528242515, 0.17453029647795176, 0.01026648802811481, 0.18479678450606657, 0.03079946408434443, 0.6005895496447163, 0.9157726226084348, 0.029541052342207576, 0.05908210468441515, 0.9594934460871122, 0.022313801071793305, 0.9841725333850835, 0.961950658411964, 0.008458230380954494, 0.008458230380954494, 0.008458230380954494, 0.9811547241907213, 0.04358627135044743, 0.04358627135044743, 0.8935185626841723, 0.01565421513453462, 0.986215553475681, 0.9389778057967869, 0.004101622048298899, 0.024609732289793393, 0.49219464579586786, 0.008203244096597798, 0.4716865355543734, 0.7136532269468442, 0.09039607541326694, 0.19506521536547075, 0.9854707176750608, 0.007736631956637644, 0.007736631956637644, 0.10057621543628938, 0.8819760430566914, 0.4489153092377967, 0.00690638937288918, 0.2797087696020118, 0.024172362805112133, 0.23481723867823212, 0.009289104250375945, 0.9381995292879705, 0.05573462550225567, 0.0759143720451174, 0.48647169024830333, 0.13788528800031527, 0.16267365438239442, 0.13788528800031527, 0.9819476034090467, 0.010963185870146813, 0.2631164608835235, 0.7126070815595428, 0.010963185870146813, 0.9314724136004626, 0.9094527773237783, 0.005983241956077488, 0.07778214542900735, 0.005983241956077488, 0.9862957583080098, 0.33422252120734364, 0.10372423071952043, 0.18727986102135633, 0.16134880334147622, 0.21032969007013866, 0.003255016485340811, 0.6737884124655479, 0.12369062644295081, 0.006510032970681622, 0.18879095614976704, 0.020485381737322228, 0.9628129416541447, 0.9582829309275598, 0.1350925457580749, 0.4133188602360149, 0.06754627287903744, 0.15599972545872934, 0.22676248752248288, 0.0025907454662312196, 0.3134802014139776, 0.07254087305447415, 0.11140205504794246, 0.4974231295163942, 0.4517903916605057, 0.05071116641087309, 0.15213349923261926, 0.15213349923261926, 0.19823455960614025, 0.00415724811885687, 0.20786240594284353, 0.20786240594284353, 0.049886977426282446, 0.5321277592136794, 0.003136700412385202, 0.03136700412385202, 0.26661953505274216, 0.09096431195917086, 0.6085198800027293, 0.19286429128726781, 0.017894624964798045, 0.41555295751586574, 0.0676019165336815, 0.30818520772707747, 0.9891268636856925, 0.0035606233944823927, 0.6373515876123482, 0.007121246788964785, 0.07833371467861264, 0.27416800137514424, 0.7352049569194242, 0.013614906609618968, 0.2042235991442845, 0.04765217313366639, 0.006807453304809484, 0.4909587128303467, 0.007671229887974167, 0.0038356149439870836, 0.0690410689917675, 0.42958887372655336, 0.4839985686201183, 0.08128220236368398, 0.29557164495885085, 0.13670188579346854, 0.9551400539227894, 0.9555710418550978, 0.9507622802924366, 0.026410063341456572, 0.24719222173261443, 0.28192170743058503, 0.1001026352470918, 0.20429109234100368, 0.167518695719623, 0.8052752133084772, 0.007254731651427722, 0.15234936467998217, 0.021764194954283167, 0.004173390148378695, 0.8179844690822241, 0.025040340890272166, 0.004173390148378695, 0.150242045341633, 0.9613697471265883, 0.9469059390169459, 0.015205234524193263, 0.9579297750241756, 0.015205234524193263, 0.13847241220078002, 0.24529398732709604, 0.42728630050526406, 0.029672659757310007, 0.16221054000662805, 0.985405039886211, 0.5838634723005561, 0.006019211054644908, 0.006019211054644908, 0.4032871406612089, 0.0071881943040585355, 0.07188194304058534, 0.03594097152029267, 0.07907013734464388, 0.819454150662673, 0.0052713260550469754, 0.010542652110093951, 0.9857379722937845, 0.03612999520529594, 0.9393798753376944, 0.012734060873292567, 0.15535554265416932, 0.21902584702063216, 0.3412728314042408, 0.26996209051380243, 0.6047897554475276, 0.07450308581599978, 0.008765068919529384, 0.31115994664329316, 0.010674729871421786, 0.010674729871421786, 0.9607256884279608, 0.021349459742843573, 0.9680168875250326, 0.0042312821545533235, 0.3286295806703081, 0.20874325295796395, 0.39915094991286354, 0.05923795016374653, 0.989465197458605, 0.9773437841541394, 0.9714268782810498, 0.9867580891240646, 0.9705664063794125, 0.9609168913285554, 0.028172424021939077, 0.9202991847166765, 0.009390808007313026, 0.028172424021939077, 0.004731577742724317, 0.38325779716066966, 0.0686078772695026, 0.21765257616531858, 0.32647886424797784, 0.004450421263530627, 0.6675631895295941, 0.10235968906120443, 0.2225210631765314, 0.9106592180375805, 0.047929432528293715, 0.0018981963387315775, 0.7554821428151678, 0.09680801327531045, 0.1442629217435999, 0.952582353079473, 0.8064357269791361, 0.01983038672899515, 0.00661012890966505, 0.15203296492229615, 0.0132202578193301, 0.024048088166668202, 0.15803029366667676, 0.025765808750001645, 0.2353277199166817, 0.5565414690000355, 0.9646388600862144, 0.985846815843878, 0.9836813370192359, 0.9573366128920258, 0.9722391842944473, 0.005816526104464775, 0.058165261044647754, 0.38970724899913994, 0.5118542971929002, 0.03489915662678865, 0.957374995947999, 0.5524444412019057, 0.15229549460160643, 0.14632312226428854, 0.14632312226428854, 0.636777743652737, 0.04504037699007164, 0.22675500139829172, 0.08852763753220978, 0.00310623289586701, 0.008750595026732708, 0.7175487921920821, 0.2012636856148523, 0.06125416518712896, 0.06091569686411961, 0.9137354529617941, 0.9646834971639218, 0.04079408887267006, 0.036261412331262274, 0.07252282466252455, 0.8430778367018479, 0.004532676541407784, 0.8877504497127274, 0.00997472415407559, 0.07979779323260472, 0.01994944830815118, 0.7706766532848413, 0.08643102653661772, 0.14405171089436286, 0.005174663755813534, 0.010349327511627067, 0.6675316244999459, 0.077619956337203, 0.23285986901160902, 0.0029451763185407475, 0.2002719896607708, 0.18849128438660784, 0.1443136396084966, 0.4653378583294381, 0.9620442641692324, 0.9464549725295205, 0.04216952529779788, 0.01054238132444947, 0.8012209806581597, 0.1370509572178431, 0.0012421410586782955, 0.722926096150768, 0.06831775822730625, 0.054654206581845007, 0.15278335021743036, 0.9168193159865865, 0.191284072248711, 0.13989432149532594, 0.39969806141521697, 0.10563448765973592, 0.16558919687201845, 0.9864161307101499, 0.0023966436284012893, 0.3139603153205689, 0.1366086868188735, 0.16536841035968897, 0.381066336915805, 0.3660750737974076, 0.03093592172935839, 0.5310666563539858, 0.07218381736850292, 0.7578787206375773, 0.04547272323825464, 0.17178584334451752, 0.015157574412751547, 0.9355057220694857, 0.006929672015329524, 0.027718688061318095, 0.03464836007664762, 0.4591928401560998, 0.030276450999303282, 0.2876262844933812, 0.22202730732822407, 0.04736800922303406, 0.13026202536334366, 0.8170981590973375, 0.01013995710633285, 0.2230790563393227, 0.21496709065425643, 0.40357029283204743, 0.1480433737524596, 0.5183714151799752, 0.46233126218754544, 0.014010038248107438, 0.004670012749369146, 0.9188337951734772, 0.04375399024635605, 0.007843706392438036, 0.4000290260143399, 0.5882779794328528, 0.03155314501105485, 0.08909123297239017, 0.09465943503316455, 0.09465943503316455, 0.6886009881824323, 0.982453465262883, 0.9338513381577076, 0.009579421736532975, 0.004789710868266487, 0.9818907279946298, 0.9782477394723824, 0.9314621116568143, 0.02139886557369473, 0.9629489508162627, 0.009056893216946594, 0.03169912625931308, 0.502657573540536, 0.4302024278049632, 0.022642233042366487, 0.9748340324179426, 0.013621912708661322, 0.9807777150236151, 0.003805652758796371, 0.04566783310555645, 0.7459079407240887, 0.19028263793981856, 0.019028263793981856, 0.9850791344125164, 0.9659755617352705, 0.9387106641340354, 0.010218347569746015, 0.3014412533075075, 0.22480364653441234, 0.3934063814352216, 0.07152843298822212, 0.9773416543636556, 0.036925543136908136, 0.1107766294107244, 0.8492874921488871, 0.23544314706426714, 0.016580503314385008, 0.22217874441275912, 0.01989660397726201, 0.5073634014201812, 0.9637951877973879, 0.9429378930951056, 0.03143126310317018, 0.004435316226444149, 0.34151934943619944, 0.026611897358664892, 0.48344946868241223, 0.1463654354726569, 0.9691763279123479, 0.028688532011839466, 0.9467215563907024, 0.003517510104787853, 0.37989109131708815, 0.4502412934128452, 0.15477044461066553, 0.014070040419151412, 0.968990373140973, 0.016706730571396086, 0.9549847370797798, 0.9832505013597559, 0.9463709487497172, 0.0792080521788708, 0.2306352107561238, 0.4251608683130565, 0.1502623342805049, 0.1153176053780619, 0.887684852692889, 0.10621870032222604, 0.9881541903209401, 0.1415162279563555, 0.6914078565867654, 0.07682309517630727, 0.07277977437755424, 0.016173283195012055, 0.04788820564518695, 0.9098759072585519, 0.008125901806407751, 0.008125901806407751, 0.016251803612815502, 0.9669823149625223, 0.9558963962170366, 0.005242599093930574, 0.052425990939305736, 0.23067436013294523, 0.09436678369075033, 0.6186266930838077, 0.9803549817930637, 0.9784199211008693, 0.9582722728302617, 0.920425326854931, 0.3648405116642309, 0.3145930160458039, 0.08520227517907189, 0.2337600883118126, 0.0021846737225403048, 0.0013508463874266248, 0.7483688986343501, 0.0013508463874266248, 0.10266432544442348, 0.1472422562295021, 0.035917622971309925, 0.2581579151062901, 0.2806064294633588, 0.3906041498129954, 0.035917622971309925, 0.39654549337705386, 0.0185880700020494, 0.5762301700635314, 0.0061960233340164666, 0.017024510909329875, 0.03404902181865975, 0.8682500563758235, 0.0680980436373195, 0.017024510909329875, 0.9833231121568365, 0.20098330086306065, 0.2928613812576027, 0.16270076736533481, 0.3024320146320341, 0.04402491352238472, 0.9753870620974164, 0.010718539143927652, 0.010718539143927652, 0.9719434548624739, 0.043817843810091225, 0.89826579810687, 0.06572676571513683, 0.948859759686324, 0.09216210199276534, 0.02880065687273917, 0.6566549766984531, 0.19008433536007852, 0.02880065687273917, 0.9819395988621815, 0.01311110374124631, 0.9833327805934733, 0.07423980006118557, 0.6749072732835051, 0.22271940018355668, 0.026996290931340202, 0.008052314950563254, 0.024156944851689767, 0.008052314950563254, 0.040261574752816276, 0.9260162193147743, 0.9602929808712536, 0.029339624519503064, 0.05134434290913036, 0.8508491110655889, 0.0660141551688819, 0.004380098561097952, 0.4161093633043054, 0.004380098561097952, 0.44238995467089315, 0.13140295683293857, 0.9841465809689925, 0.01131202966631026, 0.002890657659396918, 0.7313363878274203, 0.01445328829698459, 0.11851696403527363, 0.13297025233225823, 0.971896493790129, 0.004964717831813156, 0.049647178318131556, 0.004964717831813156, 0.004964717831813156, 0.9383316702126864, 0.12199469246168661, 0.012620140599484821, 0.14723497366065624, 0.12620140599484822, 0.5931466081757866, 0.7492041908803058, 0.18486856658085468, 0.048649622784435444, 0.009729924556887088, 0.08234723608801015, 0.0754849664140093, 0.006862269674000845, 0.06176042706600761, 0.7754364731620955, 0.9132617169049099, 0.06892541259659697, 0.9517497943514484, 0.027992641010336716, 0.05511430770703067, 0.9369432310195214, 0.034031125306890585, 0.8848092579791552, 0.06806225061378117, 0.7625465731803351, 0.02663918159581957, 0.18980416887021442, 0.01664948849738723, 0.14445563415994458, 0.18228925263040627, 0.33706314637320406, 0.33018430665130194, 0.0068788397219021235, 0.11162657804793238, 0.46426508597208244, 0.06849812743850396, 0.1725138024377137, 0.1826616731693439, 0.943243033016432, 0.9828715103219032, 0.9497118401228108, 0.7265370827358338, 0.24574048386653205, 0.016026553295643394, 0.010684368863762263, 0.9339560894821146, 0.9822992103049402, 0.9759167684905318, 0.01991666874470473, 0.2196496235990925, 0.016121073291676512, 0.5944645776305714, 0.10478697639589733, 0.06649942732816562, 0.6201741597035387, 0.02044530196824853, 0.10222650984124264, 0.2521587242750652, 0.0034807889005850686, 0.12530840042106248, 0.02784631120468055, 0.8423509139415866, 0.9574891807073025, 0.9245425020159191, 0.002082829809832749, 0.08123036258347721, 0.08747885201297546, 0.16870921459645266, 0.6602570497169814, 0.9677722588944141, 0.8052656716478925, 0.0072546456905215545, 0.15234755950095263, 0.021763937071564664, 0.9889392552227523, 0.9819862695371756, 0.9646162540961634, 0.1631246778900937, 0.18391507801334092, 0.2558818476707352, 0.20470547813658815, 0.19191138575305142, 0.9691335240957096, 0.5556370688920869, 0.330081427064606, 0.011002714235486868, 0.055013571177434335, 0.04401085694194747, 0.00699483219633733, 0.05595865757069864, 0.00699483219633733, 0.11891214733773461, 0.8183953669714676, 0.9293871758726029, 0.024139926646041632, 0.024139926646041632, 0.016093284430694424, 0.9611159683073381, 0.21073621273328969, 0.7763965732279093, 0.0026564136346467603, 0.8341138812790828, 0.0026564136346467603, 0.010625654538587041, 0.15407199080951212, 0.9610552789032916, 0.012337422694641423, 0.012337422694641423, 0.9746563928766725, 0.05601514773899784, 0.08402272160849676, 0.8402272160849676, 0.02800757386949892, 0.9729581940379738, 0.03874740133301182, 0.8911902306592718, 0.03874740133301182, 0.011377557643925767, 0.30340153717135376, 0.40579955596668565, 0.18583344151745418, 0.09860549958068997, 0.9614113562112327, 0.017172817883248228, 0.017172817883248228, 0.017172817883248228, 0.9445049835786525, 0.35157698922826447, 0.03995193059412096, 0.0998798264853024, 0.007990386118824192, 0.5073895185453362, 0.9524650199653407, 0.009192824094440565, 0.013789236141660848, 0.6159192143275178, 0.30336319511653864, 0.05975335661386367, 0.1676275090445069, 0.4344149530167503, 0.21720747650837516, 0.07791137744322152, 0.10152088575934926, 0.006940518060887801, 0.11798880703509262, 0.07634569866976582, 0.7842785408803216, 0.006940518060887801, 0.010362558624491125, 0.010362558624491125, 0.02072511724898225, 0.9429928348286923, 0.010362558624491125, 0.9891272569360758, 0.9718969244574116, 0.023895612937590856, 0.9558245175036343, 0.9353262903105544, 0.019900559368309666, 0.03980111873661933, 0.019900559368309666, 0.9665447393143787, 0.9168663544707328, 0.8263016878381186, 0.13366644950322507, 0.03645448622815229, 0.006075747704692049, 0.9804934041961211, 0.7790882000738691, 0.1919492666848663, 0.0225822666688078, 0.6819737610287427, 0.20724290971191475, 0.043376422962958905, 0.06506463444443836, 0.002409801275719939, 0.9881966277906425, 0.9729269763186079, 0.0915310826971882, 0.0332840300717048, 0.14700446615002952, 0.18860950373966054, 0.5380918194925609, 0.9339433018402632, 0.855756484697722, 0.029508844299921448, 0.10328095504972507, 0.014754422149960724, 0.09487925915497453, 0.21008978812887216, 0.4625363883805008, 0.22703251297797475, 0.006777089939641037, 0.14922586724404216, 0.07890103325547057, 0.38935944671721345, 0.3653460887698963, 0.015437158680418154, 0.23303728033282306, 0.15467076128284715, 0.3052169689314851, 0.05361919724472035, 0.255722325320974, 0.9555704197821602, 0.9488265275757716, 0.04312847852617144, 0.9334511082573617, 0.025228408331280042, 0.050456816662560085, 0.296394972532857, 0.026944997502987, 0.2020874812724025, 0.1913094822712077, 0.2829224737813635, 0.023518381655776386, 0.9642536478868319, 0.007839460551925463, 0.005319887972569252, 0.09575798350624654, 0.6862655484614335, 0.20215574295763158, 0.015959663917707756, 0.003955390935620602, 0.07515242777679144, 0.11075094619737687, 0.735702714025432, 0.07515242777679144, 0.6966839967106009, 0.04929367901254251, 0.2530408855977182, 0.06850837673468971, 0.7046575892710941, 0.019573821924197057, 0.17127094183672426, 0.039147643848394115, 0.025197314342204877, 0.4724496439163414, 0.08819060019771707, 0.35591206508364387, 0.05984362156273658, 0.0057222092220338494, 0.3862491224872848, 0.050069330692796184, 0.1401941259398293, 0.417721273208471, 0.025795416470630567, 0.954430409413331, 0.025795416470630567, 0.9774729161304764, 0.024379226332875526, 0.9507898269821455, 0.005438641201173341, 0.2592418972559292, 0.1196501064258135, 0.1722236380371558, 0.44415569809582284, 0.1672450552604038, 0.4416314740470038, 0.18031107520262285, 0.12804699543374667, 0.0810093236417581, 0.1134555684280484, 0.0981237348566905, 0.1809156361420231, 0.4752868407120946, 0.13492013542794945, 0.9848003896589566, 0.988316620496159, 0.105324819313622, 0.025423232248115653, 0.05084646449623131, 0.058110245138550065, 0.7626969674434696, 0.6976188148021404, 0.016609971781003343, 0.033219943562006686, 0.24914957671505014], \"Term\": [\"ab\", \"about\", \"about\", \"about\", \"about\", \"about\", \"acne\", \"acne\", \"acne\", \"acne\", \"advent\", \"adversely\", \"advice\", \"advice\", \"advice\", \"advice\", \"advice\", \"affect\", \"affect\", \"affect\", \"affect\", \"affect\", \"affected\", \"affected\", \"affected\", \"affected\", \"affected\", \"aggravated\", \"air\", \"air\", \"air\", \"alcohol\", \"alcohol\", \"alcohol\", \"alcohol\", \"alcohol\", \"all\", \"all\", \"all\", \"all\", \"all\", \"alleviates\", \"alright\", \"an\", \"an\", \"an\", \"an\", \"an\", \"ankylosing\", \"antibiotic\", \"antibiotic\", \"antibiotic\", \"antibiotic\", \"antibiotic\", \"anything\", \"anything\", \"anything\", \"anything\", \"anything\", \"appear\", \"application\", \"application\", \"application\", \"applying\", \"applying\", \"applying\", \"area\", \"area\", \"area\", \"area\", \"asthakind\", \"asthalin\", \"asthalin\", \"asthalin\", \"asthma\", \"asthma\", \"asthma\", \"attack\", \"attack\", \"attack\", \"attack\", \"avoided\", \"away\", \"away\", \"away\", \"away\", \"away\", \"azee\", \"azibact\", \"azithral\", \"azulix\", \"bacteria\", \"bacteria\", \"bacteria\", \"bacterial\", \"bacterial\", \"beating\", \"behave\", \"behavior\", \"beneficial\", \"beneficial\", \"benefit\", \"benefit\", \"benefit\", \"benefit\", \"benefit\", \"better\", \"better\", \"better\", \"better\", \"better\", \"blindness\", \"blocker\", \"blood\", \"blood\", \"blood\", \"blood\", \"blood\", \"body\", \"body\", \"body\", \"body\", \"body\", \"bone\", \"bone\", \"bone\", \"breast\", \"breathing\", \"breathing\", \"breathing\", \"broad\", \"build\", \"burning\", \"burning\", \"burning\", \"burning\", \"but\", \"but\", \"but\", \"but\", \"but\", \"call\", \"cancer\", \"cause\", \"cause\", \"cause\", \"cause\", \"cause\", \"cessation\", \"channel\", \"checked\", \"checked\", \"cholesterol\", \"cholesterol\", \"cholesterol\", \"clean\", \"clean\", \"combination\", \"combination\", \"combination\", \"combination\", \"combination\", \"come\", \"come\", \"come\", \"come\", \"come\", \"commonly\", \"commonly\", \"commonly\", \"completed\", \"completed\", \"completion\", \"component\", \"concerned\", \"concerned\", \"concerned\", \"concerned\", \"congestion\", \"congestion\", \"congestion\", \"consistent\", \"consistent\", \"consumption\", \"contact\", \"contact\", \"contact\", \"contact\", \"contact\", \"control\", \"control\", \"control\", \"controlling\", \"cough\", \"cough\", \"cough\", \"cough\", \"course\", \"course\", \"course\", \"course\", \"course\", \"cream\", \"cream\", \"cream\", \"day\", \"day\", \"day\", \"day\", \"day\", \"deal\", \"decide\", \"decide\", \"decide\", \"decide\", \"delusion\", \"diabetes\", \"diabetes\", \"diabetes\", \"diabetes\", \"diabetic\", \"diarrhea\", \"diarrhea\", \"diarrhea\", \"diarrhea\", \"diarrhea\", \"diet\", \"diet\", \"diet\", \"diet\", \"diet\", \"direct\", \"direct\", \"discontinuation\", \"disease\", \"disease\", \"disease\", \"disease\", \"disease\", \"dizziness\", \"dizziness\", \"dizziness\", \"dizziness\", \"dizziness\", \"dos\", \"dos\", \"dos\", \"dos\", \"dos\", \"drinking\", \"drinking\", \"drinking\", \"drinking\", \"drinking\", \"drive\", \"drive\", \"drive\", \"drive\", \"drive\", \"duration\", \"duration\", \"duration\", \"duration\", \"duration\", \"dyspepsia\", \"each\", \"each\", \"each\", \"each\", \"each\", \"ear\", \"ear\", \"ear\", \"ear\", \"ear\", \"early\", \"early\", \"early\", \"early\", \"early\", \"effective\", \"effective\", \"effective\", \"effective\", \"emergency\", \"endocarditis\", \"ensure\", \"ensure\", \"even\", \"even\", \"even\", \"even\", \"even\", \"evenly\", \"evenly\", \"evenly\", \"evenly\", \"exercise\", \"exercise\", \"exercise\", \"exercise\", \"exercise\", \"existing\", \"expectorant\", \"external\", \"external\", \"external\", \"eye\", \"eye\", \"eye\", \"eye\", \"eye\", \"faster\", \"finish\", \"finish\", \"finish\", \"finish\", \"fluid\", \"fluid\", \"fluid\", \"fluid\", \"fluid\", \"focus\", \"focus\", \"focus\", \"free\", \"free\", \"from\", \"from\", \"from\", \"from\", \"from\", \"full\", \"full\", \"full\", \"full\", \"gel\", \"gel\", \"gel\", \"gel\", \"general\", \"get\", \"get\", \"get\", \"get\", \"get\", \"glucose\", \"gonorrhea\", \"gout\", \"gram\", \"habit\", \"hallucination\", \"hand\", \"hand\", \"hand\", \"hand\", \"headache\", \"headache\", \"headache\", \"headache\", \"headache\", \"healthy\", \"healthy\", \"healthy\", \"healthy\", \"hearing\", \"hearing\", \"high\", \"high\", \"high\", \"high\", \"hiv\", \"hour\", \"hour\", \"hour\", \"hour\", \"hour\", \"how\", \"how\", \"how\", \"how\", \"how\", \"hypoglycemia\", \"ill\", \"immediate\", \"immune\", \"impair\", \"improve\", \"improve\", \"improve\", \"improve\", \"improve\", \"including\", \"increase\", \"increase\", \"increase\", \"increase\", \"infection\", \"infection\", \"infection\", \"infection\", \"infection\", \"inflammation\", \"inflammation\", \"inflammation\", \"inflammation\", \"infusion\", \"infusion\", \"inhaler\", \"injection\", \"injection\", \"injection\", \"injection\", \"injection\", \"intake\", \"intake\", \"intake\", \"intake\", \"interval\", \"interval\", \"interval\", \"itching\", \"itching\", \"itching\", \"itching\", \"itching\", \"keep\", \"keep\", \"keep\", \"keep\", \"keep\", \"laboratory\", \"layer\", \"le\", \"le\", \"le\", \"le\", \"level\", \"level\", \"level\", \"level\", \"level\", \"lightheadedness\", \"like\", \"like\", \"like\", \"like\", \"like\", \"lipid\", \"long\", \"long\", \"long\", \"long\", \"long\", \"longer\", \"longer\", \"longer\", \"longer\", \"low\", \"low\", \"low\", \"low\", \"lower\", \"lower\", \"lower\", \"lower\", \"lung\", \"lung\", \"lung\", \"lung\", \"maintain\", \"maintain\", \"maintain\", \"make\", \"make\", \"make\", \"make\", \"make\", \"meal\", \"meal\", \"meal\", \"meal\", \"mean\", \"mean\", \"medical\", \"medical\", \"medical\", \"medication\", \"medication\", \"medication\", \"medication\", \"medication\", \"mellitus\", \"menstrual\", \"mental\", \"mental\", \"mental\", \"moderation\", \"modifying\", \"mood\", \"mood\", \"more\", \"more\", \"more\", \"more\", \"more\", \"much\", \"mucus\", \"mucus\", \"must\", \"must\", \"must\", \"must\", \"must\", \"nail\", \"narrowing\", \"necessary\", \"need\", \"need\", \"need\", \"need\", \"need\", \"negative\", \"never\", \"never\", \"never\", \"nose\", \"nose\", \"nose\", \"nose\", \"nose\", \"object\", \"obstructive\", \"obstructive\", \"often\", \"often\", \"often\", \"often\", \"often\", \"oil\", \"ointment\", \"ointment\", \"only\", \"only\", \"only\", \"only\", \"only\", \"orally\", \"orally\", \"organ\", \"osteoarthritis\", \"osteoporosis\", \"pain\", \"pain\", \"pain\", \"pain\", \"pain\", \"part\", \"part\", \"penicillin\", \"people\", \"people\", \"people\", \"people\", \"people\", \"perform\", \"perform\", \"person\", \"person\", \"person\", \"person\", \"pimple\", \"planning\", \"planning\", \"planning\", \"planning\", \"planning\", \"pneumonia\", \"positive\", \"potency\", \"precise\", \"prescribed\", \"prescribed\", \"prescribed\", \"prescribed\", \"prescribed\", \"pressure\", \"pressure\", \"pressure\", \"pressure\", \"pressure\", \"prevent\", \"prevent\", \"prevent\", \"prevent\", \"prevent\", \"preventing\", \"preventing\", \"preventing\", \"preventing\", \"prevents\", \"prevents\", \"prevents\", \"prevents\", \"prevents\", \"previous\", \"problem\", \"problem\", \"problem\", \"problem\", \"problem\", \"program\", \"program\", \"program\", \"properly\", \"pulmonary\", \"pulmonary\", \"pulmonary\", \"pylorus\", \"reaction\", \"reaction\", \"reaction\", \"reaction\", \"reaction\", \"recognize\", \"recommend\", \"recommend\", \"recommended\", \"recommended\", \"recommended\", \"recommended\", \"recommends\", \"recommends\", \"recommends\", \"recommends\", \"recommends\", \"recovery\", \"redness\", \"redness\", \"redness\", \"redness\", \"reducing\", \"reducing\", \"reducing\", \"reducing\", \"reducing\", \"reduction\", \"reduction\", \"regular\", \"regular\", \"regular\", \"regular\", \"regular\", \"repeated\", \"requires\", \"requires\", \"requires\", \"requires\", \"requires\", \"resolve\", \"resolve\", \"resolve\", \"resolve\", \"resolve\", \"respiratory\", \"respiratory\", \"respiratory\", \"respiratory\", \"respond\", \"respond\", \"respond\", \"respond\", \"respond\", \"return\", \"return\", \"returning\", \"returning\", \"rich\", \"rich\", \"rinse\", \"rinse\", \"rinse\", \"risk\", \"risk\", \"risk\", \"risk\", \"safe\", \"safe\", \"safe\", \"safe\", \"safe\", \"same\", \"same\", \"same\", \"same\", \"same\", \"schizophrenia\", \"seek\", \"seeking\", \"seen\", \"seen\", \"seen\", \"seen\", \"sex\", \"sexually\", \"sinus\", \"sinus\", \"skin\", \"skin\", \"skin\", \"skin\", \"skin\", \"skip\", \"skip\", \"skip\", \"skip\", \"sleepiness\", \"sleepiness\", \"sleepiness\", \"sleepiness\", \"smoke\", \"snacking\", \"so\", \"so\", \"so\", \"so\", \"so\", \"sp\", \"spaced\", \"spaced\", \"spaced\", \"spaced\", \"spectrum\", \"spondylitis\", \"statin\", \"stomach\", \"stomach\", \"stomach\", \"stomach\", \"stomach\", \"stone\", \"stopping\", \"stopping\", \"stopping\", \"stopping\", \"stopping\", \"straight\", \"straight\", \"straight\", \"straight\", \"straight\", \"stroke\", \"stroke\", \"stroke\", \"stroke\", \"stuffiness\", \"suddenly\", \"suddenly\", \"sugar\", \"sugar\", \"sugar\", \"sugar\", \"sugar\", \"suicidal\", \"support\", \"support\", \"support\", \"surgery\", \"surgery\", \"surgery\", \"surgery\", \"survive\", \"swallow\", \"swallow\", \"swallow\", \"swelling\", \"swelling\", \"swelling\", \"swelling\", \"swelling\", \"system\", \"talking\", \"talking\", \"talking\", \"talking\", \"temporary\", \"temporary\", \"temporary\", \"temporary\", \"temporary\", \"testosterone\", \"than\", \"than\", \"than\", \"than\", \"than\", \"their\", \"their\", \"their\", \"their\", \"their\", \"them\", \"them\", \"them\", \"them\", \"them\", \"there\", \"there\", \"there\", \"there\", \"there\", \"thereafter\", \"thins\", \"thoroughly\", \"thoroughly\", \"tissue\", \"tissue\", \"tissue\", \"tissue\", \"toothache\", \"tr\", \"tract\", \"tract\", \"tract\", \"tract\", \"transmitted\", \"try\", \"try\", \"try\", \"type\", \"type\", \"type\", \"type\", \"type\", \"typhoid\", \"unexplained\", \"until\", \"until\", \"until\", \"until\", \"until\", \"urgent\", \"urinary\", \"urinary\", \"urinary\", \"urinary\", \"use\", \"use\", \"use\", \"use\", \"use\", \"using\", \"using\", \"using\", \"using\", \"using\", \"usually\", \"usually\", \"usually\", \"usually\", \"usually\", \"valve\", \"variety\", \"variety\", \"viral\", \"viral\", \"viral\", \"vomiting\", \"vomiting\", \"vomiting\", \"vomiting\", \"vomiting\", \"wash\", \"wash\", \"wash\", \"water\", \"water\", \"water\", \"water\", \"water\", \"way\", \"way\", \"way\", \"way\", \"way\", \"weight\", \"weight\", \"weight\", \"well\", \"well\", \"well\", \"well\", \"well\", \"which\", \"which\", \"which\", \"which\", \"which\", \"while\", \"while\", \"while\", \"while\", \"while\", \"whole\", \"whole\", \"whole\", \"widely\", \"windpipe\", \"windpipe\", \"without\", \"without\", \"without\", \"without\", \"without\", \"woman\", \"woman\", \"woman\", \"woman\", \"woman\", \"work\", \"work\", \"work\", \"work\", \"work\", \"working\", \"workload\", \"worsen\", \"worsen\", \"worsen\", \"worsen\", \"worsen\", \"worsening\", \"worsening\", \"worsening\", \"worsening\"]}, \"R\": 30, \"lambda.step\": 0.01, \"plot.opts\": {\"xlab\": \"PC1\", \"ylab\": \"PC2\"}, \"topic.order\": [1, 2, 3, 4, 5]};\n",
       "\n",
       "function LDAvis_load_lib(url, callback){\n",
       "  var s = document.createElement('script');\n",
       "  s.src = url;\n",
       "  s.async = true;\n",
       "  s.onreadystatechange = s.onload = callback;\n",
       "  s.onerror = function(){console.warn(\"failed to load library \" + url);};\n",
       "  document.getElementsByTagName(\"head\")[0].appendChild(s);\n",
       "}\n",
       "\n",
       "if(typeof(LDAvis) !== \"undefined\"){\n",
       "   // already loaded: just create the visualization\n",
       "   !function(LDAvis){\n",
       "       new LDAvis(\"#\" + \"ldavis_el1578252239418409661704369\", ldavis_el1578252239418409661704369_data);\n",
       "   }(LDAvis);\n",
       "}else if(typeof define === \"function\" && define.amd){\n",
       "   // require.js is available: use it to load d3/LDAvis\n",
       "   require.config({paths: {d3: \"https://d3js.org/d3.v5\"}});\n",
       "   require([\"d3\"], function(d3){\n",
       "      window.d3 = d3;\n",
       "      LDAvis_load_lib(\"https://cdn.jsdelivr.net/gh/bmabey/pyLDAvis@3.4.0/pyLDAvis/js/ldavis.v3.0.0.js\", function(){\n",
       "        new LDAvis(\"#\" + \"ldavis_el1578252239418409661704369\", ldavis_el1578252239418409661704369_data);\n",
       "      });\n",
       "    });\n",
       "}else{\n",
       "    // require.js not available: dynamically load d3 & LDAvis\n",
       "    LDAvis_load_lib(\"https://d3js.org/d3.v5.js\", function(){\n",
       "         LDAvis_load_lib(\"https://cdn.jsdelivr.net/gh/bmabey/pyLDAvis@3.4.0/pyLDAvis/js/ldavis.v3.0.0.js\", function(){\n",
       "                 new LDAvis(\"#\" + \"ldavis_el1578252239418409661704369\", ldavis_el1578252239418409661704369_data);\n",
       "            })\n",
       "         });\n",
       "}\n",
       "</script>"
      ],
      "text/plain": [
       "PreparedData(topic_coordinates=              x         y  topics  cluster       Freq\n",
       "topic                                                \n",
       "0      0.271664 -0.053751       1        1  12.085406\n",
       "1     -0.142088 -0.001581       2        1  26.553612\n",
       "2      0.021474  0.150157       3        1  20.487392\n",
       "3     -0.058234  0.068014       4        1  20.062197\n",
       "4     -0.092815 -0.162839       5        1  20.811394, topic_info=           Term         Freq        Total Category  logprob  loglift\n",
       "381       blood  1611.000000  1611.000000  Default  30.0000  30.0000\n",
       "137   infection   643.000000   643.000000  Default  29.0000  29.0000\n",
       "135        type   414.000000   414.000000  Default  28.0000  28.0000\n",
       "3    antibiotic   263.000000   263.000000  Default  27.0000  27.0000\n",
       "382    pressure   740.000000   740.000000  Default  26.0000  26.0000\n",
       "..          ...          ...          ...      ...      ...      ...\n",
       "381       blood   195.713804  1611.729465   Topic5  -4.6334  -0.5387\n",
       "271    headache   138.128214   422.691987   Topic5  -4.9819   0.4512\n",
       "62    temporary   126.631122   250.300795   Topic5  -5.0688   0.8883\n",
       "124     disease   141.343905   621.795966   Topic5  -4.9588   0.0883\n",
       "69         away   130.135658   387.238560   Topic5  -5.0415   0.4792\n",
       "\n",
       "[380 rows x 6 columns], token_table=      Topic      Freq       Term\n",
       "term                            \n",
       "845       4  0.938818         ab\n",
       "80        1  0.069219      about\n",
       "80        2  0.041099      about\n",
       "80        3  0.075709      about\n",
       "80        4  0.263898      about\n",
       "...     ...       ...        ...\n",
       "172       5  0.762697     worsen\n",
       "211       1  0.697619  worsening\n",
       "211       2  0.016610  worsening\n",
       "211       3  0.033220  worsening\n",
       "211       5  0.249150  worsening\n",
       "\n",
       "[935 rows x 3 columns], R=30, lambda_step=0.01, plot_opts={'xlab': 'PC1', 'ylab': 'PC2'}, topic_order=[1, 2, 3, 4, 5])"
      ]
     },
     "execution_count": 220,
     "metadata": {},
     "output_type": "execute_result"
    }
   ],
   "source": [
    "vis5 = pyLDAvis.gensim_models.prepare(lda5, corpus, d, sort_topics = False)\n",
    "vis5"
   ]
  },
  {
   "cell_type": "code",
   "execution_count": 221,
   "metadata": {},
   "outputs": [
    {
     "data": {
      "text/html": [
       "\n",
       "<link rel=\"stylesheet\" type=\"text/css\" href=\"https://cdn.jsdelivr.net/gh/bmabey/pyLDAvis@3.4.0/pyLDAvis/js/ldavis.v1.0.0.css\">\n",
       "\n",
       "\n",
       "<div id=\"ldavis_el157825223943072954933929\" style=\"background-color:white;\"></div>\n",
       "<script type=\"text/javascript\">\n",
       "\n",
       "var ldavis_el157825223943072954933929_data = {\"mdsDat\": {\"x\": [0.16019836309698218, 0.05671300258273609, -0.18061699092381864, -0.03629437475589967], \"y\": [-0.10726825201507312, 0.12678838247502877, -0.06433626162458884, 0.044816131164633136], \"topics\": [1, 2, 3, 4], \"cluster\": [1, 1, 1, 1], \"Freq\": [26.01154828148589, 21.6761460850896, 27.42453400976059, 24.887771623663927]}, \"tinfo\": {\"Term\": [\"blood\", \"pressure\", \"high\", \"pain\", \"cholesterol\", \"level\", \"using\", \"infection\", \"use\", \"but\", \"finish\", \"regular\", \"diabetes\", \"get\", \"temporary\", \"eye\", \"medication\", \"nose\", \"duration\", \"day\", \"risk\", \"what\", \"skin\", \"area\", \"type\", \"control\", \"advice\", \"sleepiness\", \"acne\", \"inflammation\", \"gram\", \"spectrum\", \"typhoid\", \"broad\", \"finish\", \"negative\", \"gonorrhea\", \"transmitted\", \"positive\", \"sexually\", \"previous\", \"returning\", \"behavior\", \"worsening\", \"subside\", \"windpipe\", \"expectorant\", \"suicidal\", \"stuffiness\", \"hallucination\", \"mucus\", \"mood\", \"beneficial\", \"hearing\", \"thins\", \"azithral\", \"schizophrenia\", \"behave\", \"asthakind\", \"delusion\", \"person\", \"completion\", \"recommend\", \"support\", \"orally\", \"congestion\", \"skip\", \"consistent\", \"cough\", \"temporary\", \"bacterial\", \"hour\", \"too\", \"nose\", \"medication\", \"sleepiness\", \"full\", \"mental\", \"type\", \"requires\", \"focus\", \"never\", \"eye\", \"dos\", \"early\", \"seen\", \"affect\", \"anything\", \"bacteria\", \"inform\", \"infection\", \"antibiotic\", \"worsen\", \"so\", \"course\", \"duration\", \"how\", \"vomiting\", \"while\", \"without\", \"better\", \"cause\", \"usually\", \"all\", \"about\", \"disease\", \"drive\", \"inflammation\", \"osteoarthritis\", \"ankylosing\", \"spondylitis\", \"production\", \"relieving\", \"acne\", \"gel\", \"pimple\", \"prescribing\", \"alternative\", \"milk\", \"stone\", \"heartburn\", \"alright\", \"toothache\", \"thin\", \"layer\", \"oil\", \"sp\", \"meant\", \"everybody\", \"rinse\", \"general\", \"alleviates\", \"component\", \"blackhead\", \"whitehead\", \"observed\", \"between\", \"clean\", \"external\", \"applied\", \"application\", \"area\", \"applying\", \"thoroughly\", \"wash\", \"hand\", \"burning\", \"effectively\", \"redness\", \"rheumatoid\", \"using\", \"use\", \"pain\", \"arthritis\", \"relieve\", \"skin\", \"water\", \"stomach\", \"mouth\", \"affected\", \"get\", \"duration\", \"contact\", \"all\", \"about\", \"keep\", \"like\", \"safe\", \"from\", \"cause\", \"more\", \"prevent\", \"diarrhea\", \"make\", \"away\", \"eye\", \"only\", \"an\", \"problem\", \"such\", \"diabetes\", \"ankle\", \"active\", \"those\", \"especially\", \"glucose\", \"working\", \"mellitus\", \"hypertension\", \"pressure\", \"supplement\", \"hence\", \"single\", \"blindness\", \"hypoglycemia\", \"blocker\", \"eating\", \"workload\", \"channel\", \"controlling\", \"beating\", \"azulix\", \"controlled\", \"properly\", \"put\", \"depends\", \"recognize\", \"acting\", \"deal\", \"big\", \"avoided\", \"count\", \"monitoring\", \"blood\", \"asked\", \"decide\", \"control\", \"alone\", \"along\", \"high\", \"regular\", \"low\", \"well\", \"often\", \"advice\", \"level\", \"appear\", \"sugar\", \"weight\", \"reducing\", \"day\", \"what\", \"exercise\", \"each\", \"diet\", \"headache\", \"dizziness\", \"same\", \"get\", \"change\", \"how\", \"problem\", \"attack\", \"need\", \"make\", \"while\", \"without\", \"even\", \"but\", \"finished\", \"yellowing\", \"clot\", \"sleepy\", \"repeated\", \"nail\", \"complete\", \"unexplained\", \"triglyceride\", \"statin\", \"build\", \"survive\", \"dyspepsia\", \"thereafter\", \"narrowing\", \"impair\", \"cv\", \"object\", \"shaving\", \"sharp\", \"happening\", \"earlier\", \"cutting\", \"aggravated\", \"recovery\", \"atorva\", \"laboratory\", \"harm\", \"system\", \"immune\", \"fatty\", \"antifungal\", \"moderation\", \"viral\", \"disappear\", \"lipid\", \"cholesterol\", \"being\", \"per\", \"fat\", \"mild\", \"notice\", \"regarded\", \"group\", \"schedule\", \"but\", \"must\", \"bleeding\", \"called\", \"risk\", \"they\", \"infection\", \"increase\", \"prescribed\", \"body\", \"day\", \"when\", \"usually\", \"an\", \"which\", \"stroke\", \"such\", \"disease\", \"try\", \"level\", \"better\", \"what\", \"pain\", \"safe\", \"while\", \"blood\", \"after\", \"get\", \"alcohol\", \"stomach\", \"need\", \"use\", \"skin\", \"cause\"], \"Freq\": [1624.0, 750.0, 531.0, 846.0, 270.0, 807.0, 573.0, 645.0, 578.0, 591.0, 172.0, 348.0, 168.0, 699.0, 257.0, 505.0, 552.0, 308.0, 504.0, 644.0, 296.0, 334.0, 488.0, 150.0, 423.0, 213.0, 246.0, 298.0, 113.0, 111.0, 103.42882392439158, 64.7472671199534, 63.753677956632295, 64.72271445377723, 169.55150316591758, 51.894043040767436, 51.86521958154845, 54.7437985350978, 52.78522690588776, 56.578482015506246, 57.52903517650567, 35.802843107075404, 33.81106005707015, 120.77037614552052, 74.33751743803016, 41.41930211004143, 29.827874754793235, 34.637306191761034, 34.585046096646614, 23.047618789233987, 73.84751863130742, 46.979602234943805, 73.55930747282424, 20.04669831152405, 39.1182820082325, 18.12762126571336, 19.07722536159216, 18.059600538248553, 18.058710057394634, 17.1052159662066, 122.50273634570156, 56.8123152576336, 75.33734582575538, 79.12811696246555, 57.24248781119694, 44.490172202197435, 133.59599531823497, 60.97213212402686, 116.3835042366577, 197.24214185332977, 95.61222985609639, 124.0269935136922, 176.8003453887188, 222.26156059919583, 363.1779763972925, 213.40301019698768, 173.9693427181608, 163.1900251140475, 274.95063314814024, 151.9543126385936, 144.1313211683742, 92.76394482686034, 282.58338978751436, 152.3786853497531, 174.97558608309023, 135.34118547282446, 263.8374086575137, 145.58187932884965, 145.9116501661335, 197.1797847598487, 291.15850950740247, 165.7387922213263, 170.52732957957366, 239.1697064152393, 169.96858799429896, 235.9724817766534, 256.1272739186753, 193.96893342082714, 255.06671122165676, 209.84567978781794, 201.67380729251542, 209.62080993849648, 190.5935071597772, 192.4399895115001, 186.71316653770137, 190.43257617913787, 163.17585943835817, 109.16583127301654, 47.2964726906001, 44.43759413340303, 44.4349334489841, 60.50396856846773, 52.92619776565084, 110.50916933922154, 88.7013991953472, 39.611295672079216, 34.78582959000939, 34.78302244589768, 30.973686389386664, 26.24099275871672, 81.43100334977852, 30.872612114400745, 25.25230927958585, 31.755092788303333, 32.67687103877506, 27.067062040948226, 26.106047238779354, 27.020514709586223, 25.14000154616331, 54.94663851956069, 25.125275024053764, 22.322912821307607, 22.306760758188283, 20.43382810436444, 20.42989932310548, 24.137343371345857, 20.420063334237515, 61.919359921533285, 60.52538097555292, 32.25225997944208, 89.1777739921002, 133.33566428621188, 76.46824106970213, 37.815919528072314, 104.83159100054814, 87.06834432885408, 67.95814691853298, 51.333414432683895, 103.27625741102636, 46.00891135739743, 330.01731330545925, 324.26660276018845, 435.7712098113731, 45.95690840247918, 70.69485856398818, 238.73238465734084, 110.9384134068363, 263.26299671376364, 118.08678880035589, 164.01720264441025, 257.2978691782554, 184.73892534638503, 120.26783725337395, 184.26238456198018, 175.17446298486576, 138.69299386064128, 135.3401018776901, 118.79628837210481, 136.3816939208396, 167.57195513993744, 104.1288090467083, 141.40758521049617, 121.15763847092093, 134.97126755135946, 122.16430475933093, 126.08161334235805, 109.66894960967211, 122.48870321487055, 116.17667125103134, 109.81954922977334, 166.7988387502085, 80.42741197738833, 77.47212481199428, 69.53108919882698, 74.36075332049249, 69.42081719748144, 59.5699258639286, 55.59771873945059, 90.46808752162524, 734.4291448099536, 52.431974065411154, 50.440944612785486, 37.78720620755996, 37.78765401577693, 36.80091015385163, 34.85901607179134, 86.05646626799683, 32.86615214964237, 33.82509793045774, 29.908066954975393, 29.903595049470763, 30.864162204864815, 37.603095263735014, 42.413648783699806, 50.117756790100046, 89.54714676093415, 26.93113366687281, 40.390997894291054, 26.925028033459377, 25.951320023146675, 28.80831482908226, 30.671058036710114, 60.51308408884641, 1311.2075612525377, 37.90632319327376, 83.12002410770586, 184.31240193259555, 69.12667823058091, 73.15607509686468, 417.40059369733814, 272.8430858076603, 163.70941912633577, 165.90600181554788, 177.76623641363418, 191.1366409126321, 503.0286402999943, 47.54675701818122, 252.95499021563518, 203.0140095795994, 156.83547034588312, 326.3327087615719, 198.2217822248725, 154.58772016330036, 173.14353380818915, 177.54607536417694, 215.8355309145594, 201.14112119960777, 200.92254137640634, 276.0356804447227, 158.071618678, 242.30511019636836, 216.59306182437965, 144.333875554456, 178.03336482422014, 198.51338258243268, 233.2568147209255, 179.76122510856436, 171.13307874394462, 164.4960174219361, 64.03915792381224, 64.60963428280094, 59.875645740180865, 53.31551514196853, 41.150020184261614, 51.41595453792544, 63.53161254997071, 41.99144394634555, 40.11807982926115, 35.43967649321556, 35.43378249384955, 30.743638804335475, 32.5917929716827, 32.58303465117923, 36.23028798306658, 29.701199675381094, 25.012653503526852, 23.11410466066832, 23.114066824723746, 23.104296743035718, 22.16875396682461, 22.151446124178477, 23.989670458071693, 23.058342886352488, 21.182830528414996, 21.172745147188845, 22.092143185716683, 48.78675436804826, 21.167487352224203, 19.30478596485354, 41.188318568159175, 30.298940335764254, 46.6232305960122, 37.456105323394354, 60.26254770141689, 29.21648479076235, 234.19449701908576, 73.51397350570149, 112.77826702832165, 95.00110172035765, 119.69771578284357, 81.88904111458679, 64.68330507088226, 80.73563336418783, 66.42532801236538, 339.79994338671094, 162.43605528841195, 104.40391129572687, 85.59538858657513, 173.14109399617504, 169.04454302645368, 287.4662289665246, 173.6915369231769, 205.7334811323207, 142.92998349975082, 241.15680408949217, 121.45134174732969, 186.0321086057512, 190.7571734707767, 142.31349863215897, 119.60071002627845, 151.0776150418021, 187.70182285315772, 97.85177949646393, 202.69691956451138, 154.61104383909512, 125.88531086810814, 183.98068292817183, 117.22481449867433, 162.3491839596678, 215.38919176655418, 122.43062567813205, 154.2533344110956, 127.97858590304998, 138.06246490206925, 122.35068253123896, 126.39035066162003, 122.25090774406347, 120.66769487394303], \"Total\": [1624.0, 750.0, 531.0, 846.0, 270.0, 807.0, 573.0, 645.0, 578.0, 591.0, 172.0, 348.0, 168.0, 699.0, 257.0, 505.0, 552.0, 308.0, 504.0, 644.0, 296.0, 334.0, 488.0, 150.0, 423.0, 213.0, 246.0, 298.0, 113.0, 111.0, 104.72837225475995, 65.8206802508131, 64.82269201453055, 65.81989299941885, 172.53993886628368, 52.8530957908831, 52.85204881271093, 55.84012354183201, 53.84654751215179, 57.831421493089124, 58.82625836984112, 36.88386230296553, 34.887621749130375, 124.61684221681217, 76.75526861053977, 42.85914800123756, 30.897796820243208, 35.884892236990005, 35.87914362150052, 23.92026744912569, 76.73662684504633, 48.85047710031087, 76.72701303521518, 20.92670486787629, 40.854200411800505, 18.933115778883078, 19.92989296800768, 18.931721850218004, 18.931174495561695, 17.93478251957383, 128.52628693260792, 59.770584292983585, 79.68214901910277, 84.63254806627678, 61.715921959776445, 47.82416083436115, 151.52479813445572, 66.7825998449513, 134.33143970879547, 257.49678902177044, 113.99209013340919, 154.80662139939867, 234.5680942191693, 308.33543802139445, 552.6268258768547, 298.12140205713837, 234.2979990097251, 217.75493763898783, 423.14863752689035, 209.7489033976881, 197.81729475424308, 112.49581966453621, 505.7251037828055, 220.36205856320976, 267.33119841332723, 191.84799886265026, 503.8092846532071, 214.55040879149882, 216.71555453481008, 340.88199393715263, 645.0394374147962, 268.20513386887154, 282.6290733878106, 489.5968407239504, 292.5156577824141, 504.49185564381105, 595.2436999607135, 374.44005051273547, 707.791257789999, 558.7270087905123, 522.9803926816937, 631.4876919356495, 484.785158513347, 509.65609892410487, 467.79149659736555, 623.7267494446428, 323.92744905384194, 111.13370852202146, 48.318663547261544, 45.42015170886258, 45.42010851871327, 61.85650701511782, 54.121604194537646, 113.07484938486465, 90.84405608167485, 40.5891493689241, 35.762562861294796, 35.76287420770393, 31.893460545019867, 27.063724912039465, 84.05680770709698, 31.898507942613453, 26.095920716144562, 32.85786020548982, 33.82386064071206, 28.029239062451428, 27.062432280212303, 28.028032832321404, 26.095846950802585, 57.041457158268436, 26.098962861333995, 23.19738157165928, 23.197295981227466, 21.265776414817502, 21.26616979381498, 25.129199042066716, 21.265978310487846, 64.73903841987699, 63.8176691839742, 33.84057829011217, 96.6613616432567, 150.89447089619483, 84.04296641636103, 40.58919381490814, 123.67628304402623, 103.5892308738557, 79.52118060401806, 58.14355987391637, 132.79147889532996, 52.135409559738136, 573.4235539693847, 578.5146795061202, 846.6958478438943, 52.13555763645704, 92.39245214039272, 488.89008706509173, 183.10507312091693, 621.8591976250864, 202.3295132852589, 331.63967717666435, 699.4029981628099, 504.49185564381105, 244.25679885789654, 509.65609892410487, 467.79149659736555, 342.8889069189784, 349.2978812278091, 284.4255049257513, 391.7552418159467, 631.4876919356495, 214.19705723430684, 438.95047764970093, 348.54770212444726, 489.6993954938391, 388.34257152371185, 505.7251037828055, 278.45406528335116, 514.5766894877765, 520.4455891062316, 384.8504670552038, 168.8926623020744, 81.45550445239903, 78.47482534820658, 70.52571247639752, 75.49038162336397, 70.52620401311546, 60.5889223263395, 56.61665811978319, 92.35659977294628, 750.8707473161861, 53.62551579781453, 51.64891198478831, 38.729301703300834, 38.73194733488891, 37.739350589951144, 35.749936642995586, 88.36470035505187, 33.76230042544689, 34.75543614330025, 30.783403444541285, 30.781934981141355, 31.776478408483197, 38.72454295948433, 43.68466713840565, 51.644606321858916, 92.33744106077401, 27.802638609287662, 41.702543806212354, 27.802611258634986, 26.80925464666732, 29.78645407171434, 31.76770275731069, 64.5446409293487, 1624.1100230033899, 39.68833211464542, 91.2492454346062, 213.03493134176117, 75.36073740434387, 80.25369405562098, 531.00507531014, 348.5311587834417, 198.48635573739273, 205.93839485168402, 226.3653983971084, 246.44808050507004, 807.9490452165619, 50.5898568756731, 379.60885641074276, 308.094547711347, 228.42467418734282, 644.3287785380613, 334.8826446201215, 240.62037776749958, 283.74081083291236, 308.1017632313784, 427.1452062401893, 393.27413040295403, 395.7658814160161, 699.4029981628099, 278.90370235219604, 595.2436999607135, 520.4455891062316, 249.690985068394, 386.9298725699956, 489.6993954938391, 707.791257789999, 558.7270087905123, 492.7332207372539, 591.3502790591981, 65.16731572354544, 66.13591759408443, 61.343411787478395, 54.6334963287694, 42.1709130765992, 52.7111846631205, 65.17403409095562, 43.12979693770142, 41.21786846467725, 36.4224853584696, 36.422422809253334, 31.6337085246765, 33.54877234236278, 33.54892786821783, 37.38447747737539, 30.675230885497193, 25.885653578940392, 23.969517232173565, 23.96962884526178, 23.969907590983148, 23.00945417634866, 23.010931456175815, 24.92971955379467, 23.96803264161916, 22.051542870976483, 22.051857703526526, 23.009515457828464, 50.82452694226594, 22.052136648936948, 20.136014512420275, 43.1365695040989, 31.634456613626256, 48.91770899046384, 39.31822458820971, 64.23150427915158, 30.691546739754926, 270.46336098591445, 81.55213971833658, 129.93990841615346, 112.47502763963124, 147.99145863040985, 99.93655001276488, 77.1065004306817, 100.30547795088259, 80.03168690526485, 591.3502790591981, 254.39993416719133, 149.88882488929303, 115.99341570720141, 296.49247742622504, 289.2446815194411, 645.0394374147962, 331.18167890403606, 456.41529024145143, 285.16110033058317, 644.3287785380613, 225.47031574483105, 484.785158513347, 514.5766894877765, 312.71165619340184, 246.8741676839295, 384.8504670552038, 623.7267494446428, 174.37125610886832, 807.9490452165619, 522.9803926816937, 334.8826446201215, 846.6958478438943, 284.4255049257513, 707.791257789999, 1624.1100230033899, 333.7167234574497, 699.4029981628099, 398.5933879878751, 621.8591976250864, 386.9298725699956, 578.5146795061202, 488.89008706509173, 631.4876919356495], \"Category\": [\"Default\", \"Default\", \"Default\", \"Default\", \"Default\", \"Default\", \"Default\", \"Default\", \"Default\", \"Default\", \"Default\", \"Default\", \"Default\", \"Default\", \"Default\", \"Default\", \"Default\", \"Default\", \"Default\", \"Default\", \"Default\", \"Default\", \"Default\", \"Default\", \"Default\", \"Default\", \"Default\", \"Default\", \"Default\", \"Default\", \"Topic1\", \"Topic1\", \"Topic1\", \"Topic1\", \"Topic1\", \"Topic1\", \"Topic1\", \"Topic1\", \"Topic1\", \"Topic1\", \"Topic1\", \"Topic1\", \"Topic1\", \"Topic1\", \"Topic1\", \"Topic1\", \"Topic1\", \"Topic1\", \"Topic1\", \"Topic1\", \"Topic1\", \"Topic1\", \"Topic1\", \"Topic1\", \"Topic1\", \"Topic1\", \"Topic1\", \"Topic1\", \"Topic1\", \"Topic1\", \"Topic1\", \"Topic1\", \"Topic1\", \"Topic1\", \"Topic1\", \"Topic1\", \"Topic1\", \"Topic1\", \"Topic1\", \"Topic1\", \"Topic1\", \"Topic1\", \"Topic1\", \"Topic1\", \"Topic1\", \"Topic1\", \"Topic1\", \"Topic1\", \"Topic1\", \"Topic1\", \"Topic1\", \"Topic1\", \"Topic1\", \"Topic1\", \"Topic1\", \"Topic1\", \"Topic1\", \"Topic1\", \"Topic1\", \"Topic1\", \"Topic1\", \"Topic1\", \"Topic1\", \"Topic1\", \"Topic1\", \"Topic1\", \"Topic1\", \"Topic1\", \"Topic1\", \"Topic1\", \"Topic1\", \"Topic1\", \"Topic1\", \"Topic1\", \"Topic1\", \"Topic1\", \"Topic1\", \"Topic2\", \"Topic2\", \"Topic2\", \"Topic2\", \"Topic2\", \"Topic2\", \"Topic2\", \"Topic2\", \"Topic2\", \"Topic2\", \"Topic2\", \"Topic2\", \"Topic2\", \"Topic2\", \"Topic2\", \"Topic2\", \"Topic2\", \"Topic2\", \"Topic2\", \"Topic2\", \"Topic2\", \"Topic2\", \"Topic2\", \"Topic2\", \"Topic2\", \"Topic2\", \"Topic2\", \"Topic2\", \"Topic2\", \"Topic2\", \"Topic2\", \"Topic2\", \"Topic2\", \"Topic2\", \"Topic2\", \"Topic2\", \"Topic2\", \"Topic2\", \"Topic2\", \"Topic2\", \"Topic2\", \"Topic2\", \"Topic2\", \"Topic2\", \"Topic2\", \"Topic2\", \"Topic2\", \"Topic2\", \"Topic2\", \"Topic2\", \"Topic2\", \"Topic2\", \"Topic2\", \"Topic2\", \"Topic2\", \"Topic2\", \"Topic2\", \"Topic2\", \"Topic2\", \"Topic2\", \"Topic2\", \"Topic2\", \"Topic2\", \"Topic2\", \"Topic2\", \"Topic2\", \"Topic2\", \"Topic2\", \"Topic2\", \"Topic2\", \"Topic2\", \"Topic2\", \"Topic2\", \"Topic3\", \"Topic3\", \"Topic3\", \"Topic3\", \"Topic3\", \"Topic3\", \"Topic3\", \"Topic3\", \"Topic3\", \"Topic3\", \"Topic3\", \"Topic3\", \"Topic3\", \"Topic3\", \"Topic3\", \"Topic3\", \"Topic3\", \"Topic3\", \"Topic3\", \"Topic3\", \"Topic3\", \"Topic3\", \"Topic3\", \"Topic3\", \"Topic3\", \"Topic3\", \"Topic3\", \"Topic3\", \"Topic3\", \"Topic3\", \"Topic3\", \"Topic3\", \"Topic3\", \"Topic3\", \"Topic3\", \"Topic3\", \"Topic3\", \"Topic3\", \"Topic3\", \"Topic3\", \"Topic3\", \"Topic3\", \"Topic3\", \"Topic3\", \"Topic3\", \"Topic3\", \"Topic3\", \"Topic3\", \"Topic3\", \"Topic3\", \"Topic3\", \"Topic3\", \"Topic3\", \"Topic3\", \"Topic3\", \"Topic3\", \"Topic3\", \"Topic3\", \"Topic3\", \"Topic3\", \"Topic3\", \"Topic3\", \"Topic3\", \"Topic3\", \"Topic3\", \"Topic3\", \"Topic3\", \"Topic3\", \"Topic3\", \"Topic4\", \"Topic4\", \"Topic4\", \"Topic4\", \"Topic4\", \"Topic4\", \"Topic4\", \"Topic4\", \"Topic4\", \"Topic4\", \"Topic4\", \"Topic4\", \"Topic4\", \"Topic4\", \"Topic4\", \"Topic4\", \"Topic4\", \"Topic4\", \"Topic4\", \"Topic4\", \"Topic4\", \"Topic4\", \"Topic4\", \"Topic4\", \"Topic4\", \"Topic4\", \"Topic4\", \"Topic4\", \"Topic4\", \"Topic4\", \"Topic4\", \"Topic4\", \"Topic4\", \"Topic4\", \"Topic4\", \"Topic4\", \"Topic4\", \"Topic4\", \"Topic4\", \"Topic4\", \"Topic4\", \"Topic4\", \"Topic4\", \"Topic4\", \"Topic4\", \"Topic4\", \"Topic4\", \"Topic4\", \"Topic4\", \"Topic4\", \"Topic4\", \"Topic4\", \"Topic4\", \"Topic4\", \"Topic4\", \"Topic4\", \"Topic4\", \"Topic4\", \"Topic4\", \"Topic4\", \"Topic4\", \"Topic4\", \"Topic4\", \"Topic4\", \"Topic4\", \"Topic4\", \"Topic4\", \"Topic4\", \"Topic4\", \"Topic4\", \"Topic4\", \"Topic4\", \"Topic4\", \"Topic4\", \"Topic4\", \"Topic4\", \"Topic4\", \"Topic4\", \"Topic4\"], \"logprob\": [30.0, 29.0, 28.0, 27.0, 26.0, 25.0, 24.0, 23.0, 22.0, 21.0, 20.0, 19.0, 18.0, 17.0, 16.0, 15.0, 14.0, 13.0, 12.0, 11.0, 10.0, 9.0, 8.0, 7.0, 6.0, 5.0, 4.0, 3.0, 2.0, 1.0, -5.4942, -5.9626, -5.9781, -5.963, -4.9999, -6.1839, -6.1844, -6.1304, -6.1668, -6.0975, -6.0808, -6.5551, -6.6123, -5.3392, -5.8245, -6.4093, -6.7376, -6.5881, -6.5897, -6.9955, -5.8311, -6.2834, -5.835, -7.135, -6.4665, -7.2356, -7.1846, -7.2394, -7.2395, -7.2937, -5.3249, -6.0933, -5.8111, -5.762, -6.0858, -6.3378, -5.2383, -6.0227, -5.3762, -4.8486, -5.5728, -5.3126, -4.9581, -4.7292, -4.2382, -4.7699, -4.9742, -5.0382, -4.5165, -5.1095, -5.1624, -5.603, -4.4891, -5.1067, -4.9684, -5.2253, -4.5577, -5.1523, -5.1501, -4.849, -4.4592, -5.0227, -4.9942, -4.6559, -4.9975, -4.6694, -4.5874, -4.8654, -4.5916, -4.7867, -4.8264, -4.7878, -4.8829, -4.8733, -4.9035, -4.8838, -5.0383, -5.2579, -6.0943, -6.1567, -6.1567, -5.848, -5.9819, -5.2457, -5.4655, -6.2716, -6.4015, -6.4016, -6.5176, -6.6834, -5.551, -6.5209, -6.7218, -6.4927, -6.4641, -6.6524, -6.6886, -6.6542, -6.7263, -5.9444, -6.7269, -6.8451, -6.8459, -6.9336, -6.9338, -6.767, -6.9342, -5.8249, -5.8477, -6.4772, -5.4601, -5.0579, -5.6139, -6.318, -5.2984, -5.4841, -5.7319, -6.0124, -5.3133, -6.1219, -4.1516, -4.1692, -3.8736, -6.123, -5.6924, -4.4754, -5.2418, -4.3776, -5.1793, -4.8508, -4.4005, -4.7318, -5.161, -4.7344, -4.785, -5.0185, -5.043, -5.1733, -5.0353, -4.8293, -5.3051, -4.9991, -5.1537, -5.0457, -5.1454, -5.1138, -5.2533, -5.1427, -5.1956, -5.2519, -5.0692, -5.7986, -5.8361, -5.9442, -5.877, -5.9458, -6.0988, -6.1678, -5.681, -3.5869, -6.2265, -6.2652, -6.554, -6.554, -6.5805, -6.6347, -5.731, -6.6935, -6.6648, -6.7878, -6.788, -6.7564, -6.5589, -6.4385, -6.2716, -5.6912, -6.8927, -6.4874, -6.8929, -6.9298, -6.8253, -6.7627, -6.0831, -3.0073, -6.5509, -5.7657, -4.9693, -5.95, -5.8934, -4.1519, -4.5771, -5.0879, -5.0746, -5.0055, -4.933, -3.9653, -6.3243, -4.6528, -4.8727, -5.1308, -4.3981, -4.8966, -5.1452, -5.0319, -5.0067, -4.8115, -4.882, -4.8831, -4.5654, -5.1229, -4.6958, -4.808, -5.2138, -5.004, -4.8951, -4.7338, -4.9943, -5.0435, -5.0831, -5.9294, -5.9206, -5.9966, -6.1127, -6.3717, -6.149, -5.9374, -6.3515, -6.3971, -6.5211, -6.5213, -6.6632, -6.6049, -6.6051, -6.499, -6.6977, -6.8695, -6.9485, -6.9485, -6.9489, -6.9902, -6.991, -6.9113, -6.9509, -7.0357, -7.0362, -6.9937, -6.2015, -7.0364, -7.1286, -6.3708, -6.6778, -6.2468, -6.4657, -5.9902, -6.7142, -4.6328, -5.7914, -5.3635, -5.535, -5.3039, -5.6836, -5.9194, -5.6977, -5.8928, -4.2606, -4.9986, -5.4406, -5.6393, -4.9348, -4.9588, -4.4278, -4.9316, -4.7623, -5.1266, -4.6035, -5.2894, -4.863, -4.8379, -5.1309, -5.3048, -5.0711, -4.8541, -5.5055, -4.7772, -5.048, -5.2535, -4.8741, -5.3248, -4.9992, -4.7165, -5.2814, -5.0503, -5.2371, -5.1612, -5.282, -5.2495, -5.2828, -5.2959], \"loglift\": [30.0, 29.0, 28.0, 27.0, 26.0, 25.0, 24.0, 23.0, 22.0, 21.0, 20.0, 19.0, 18.0, 17.0, 16.0, 15.0, 14.0, 13.0, 12.0, 11.0, 10.0, 9.0, 8.0, 7.0, 6.0, 5.0, 4.0, 3.0, 2.0, 1.0, 1.3341, 1.3302, 1.33, 1.3298, 1.3292, 1.3283, 1.3278, 1.3268, 1.3267, 1.3247, 1.3243, 1.3169, 1.3153, 1.3153, 1.3146, 1.3125, 1.3114, 1.3112, 1.3099, 1.3095, 1.3083, 1.3076, 1.3045, 1.3037, 1.3032, 1.3032, 1.3029, 1.2995, 1.2994, 1.2993, 1.2986, 1.2959, 1.2906, 1.2794, 1.2714, 1.2744, 1.2207, 1.2556, 1.2032, 1.0801, 1.1708, 1.125, 1.0639, 1.0193, 0.9268, 1.0123, 1.0489, 1.0582, 0.9155, 1.0243, 1.03, 1.1538, 0.7646, 0.9777, 0.9228, 0.9977, 0.6998, 0.9588, 0.951, 0.7992, 0.5512, 0.8653, 0.8414, 0.6302, 0.8037, 0.5868, 0.5033, 0.6889, 0.326, 0.3673, 0.3937, 0.2439, 0.4131, 0.3727, 0.4282, 0.1602, 0.6609, 1.5111, 1.5076, 1.5071, 1.507, 1.5068, 1.5066, 1.506, 1.5051, 1.5046, 1.5013, 1.5012, 1.4997, 1.4981, 1.4972, 1.4963, 1.4961, 1.4948, 1.4945, 1.494, 1.493, 1.4923, 1.4916, 1.4915, 1.4909, 1.4905, 1.4898, 1.4891, 1.4888, 1.4887, 1.4884, 1.4844, 1.476, 1.4809, 1.4484, 1.4052, 1.4345, 1.4582, 1.3636, 1.3552, 1.3718, 1.4044, 1.2776, 1.4039, 0.9765, 0.9501, 0.8647, 1.4028, 1.2613, 0.8122, 1.0279, 0.6694, 0.9905, 0.8249, 0.529, 0.5243, 0.8205, 0.5116, 0.5467, 0.6238, 0.5808, 0.6559, 0.4738, 0.2023, 0.8077, 0.3962, 0.4723, 0.2402, 0.3724, 0.1399, 0.5972, 0.0936, 0.0294, 0.2749, 1.2813, 1.281, 1.2809, 1.2795, 1.2787, 1.2779, 1.2768, 1.2756, 1.2731, 1.2716, 1.2712, 1.2701, 1.2691, 1.269, 1.2686, 1.2685, 1.2673, 1.2668, 1.2666, 1.2649, 1.2648, 1.2646, 1.2643, 1.2642, 1.2637, 1.263, 1.2619, 1.2618, 1.2617, 1.2612, 1.2603, 1.2586, 1.2292, 1.0797, 1.2478, 1.2004, 1.1489, 1.2074, 1.2011, 1.053, 1.0489, 1.1011, 1.0776, 1.0521, 1.0396, 0.8199, 1.2317, 0.8878, 0.8766, 0.9177, 0.6134, 0.7693, 0.8513, 0.7998, 0.7425, 0.6111, 0.6232, 0.6158, 0.364, 0.7259, 0.395, 0.4171, 0.7456, 0.5175, 0.3908, 0.1837, 0.1597, 0.2362, 0.0142, 1.3733, 1.3674, 1.3666, 1.3664, 1.3663, 1.3659, 1.3653, 1.364, 1.3637, 1.3634, 1.3633, 1.3623, 1.3619, 1.3616, 1.3594, 1.3585, 1.3565, 1.3545, 1.3544, 1.354, 1.3536, 1.3527, 1.3524, 1.3521, 1.3506, 1.3501, 1.3501, 1.3499, 1.3499, 1.3486, 1.3446, 1.3477, 1.3428, 1.3423, 1.327, 1.3415, 1.2468, 1.287, 1.2491, 1.222, 1.1786, 1.1916, 1.2151, 1.1738, 1.2044, 0.8367, 0.9422, 1.0292, 1.0869, 0.8529, 0.8537, 0.5826, 0.7454, 0.594, 0.7001, 0.408, 0.7721, 0.433, 0.3985, 0.6035, 0.6661, 0.4557, 0.1899, 0.8131, 0.008, 0.1722, 0.4124, -0.1357, 0.5044, -0.0816, -0.6295, 0.388, -0.1208, 0.2547, -0.1142, 0.2394, -0.1303, 0.0047, -0.2642]}, \"token.table\": {\"Topic\": [1, 2, 3, 4, 2, 3, 4, 2, 3, 3, 1, 2, 3, 4, 1, 2, 3, 4, 1, 2, 3, 4, 1, 2, 3, 4, 4, 1, 2, 3, 4, 1, 2, 3, 4, 2, 1, 2, 3, 4, 1, 2, 3, 4, 2, 2, 1, 2, 3, 4, 3, 2, 1, 2, 3, 4, 2, 4, 1, 2, 3, 4, 2, 3, 4, 1, 2, 3, 4, 1, 2, 3, 1, 2, 3, 4, 1, 2, 3, 4, 2, 4, 3, 4, 1, 4, 1, 2, 3, 4, 3, 1, 2, 3, 4, 1, 3, 1, 2, 4, 1, 2, 4, 3, 1, 1, 1, 2, 3, 4, 1, 2, 1, 2, 3, 4, 2, 3, 2, 2, 3, 4, 3, 3, 1, 2, 3, 4, 1, 2, 3, 4, 1, 4, 1, 2, 3, 4, 1, 2, 3, 4, 1, 2, 3, 4, 1, 2, 3, 4, 1, 2, 3, 4, 3, 1, 2, 3, 4, 1, 2, 4, 3, 4, 2, 4, 1, 2, 2, 1, 2, 3, 1, 2, 3, 4, 1, 2, 3, 4, 1, 2, 3, 4, 3, 3, 1, 2, 3, 4, 3, 1, 2, 3, 4, 4, 4, 1, 2, 3, 4, 3, 1, 2, 3, 4, 1, 1, 2, 3, 4, 1, 2, 3, 1, 2, 3, 4, 1, 2, 3, 4, 2, 4, 1, 2, 3, 4, 1, 2, 3, 4, 1, 2, 3, 4, 1, 2, 3, 4, 1, 2, 3, 4, 4, 1, 2, 3, 4, 4, 1, 2, 3, 4, 2, 3, 4, 1, 2, 3, 4, 3, 1, 2, 3, 4, 2, 1, 2, 3, 4, 1, 2, 1, 2, 3, 4, 1, 2, 3, 4, 2, 3, 4, 2, 4, 1, 2, 3, 4, 4, 1, 2, 3, 1, 2, 3, 4, 1, 2, 3, 4, 2, 3, 4, 2, 1, 2, 3, 4, 3, 1, 1, 1, 2, 3, 4, 1, 1, 2, 4, 4, 2, 3, 4, 1, 2, 3, 4, 1, 2, 4, 1, 3, 1, 2, 3, 4, 1, 2, 3, 4, 1, 2, 3, 4, 3, 4, 3, 4, 4, 1, 2, 3, 4, 1, 2, 3, 4, 1, 2, 4, 1, 2, 3, 4, 1, 2, 3, 4, 4, 2, 4, 1, 2, 3, 4, 1, 2, 3, 4, 3, 4, 1, 2, 3, 4, 1, 2, 3, 4, 2, 1, 2, 3, 4, 3, 1, 2, 3, 4, 1, 2, 3, 4, 2, 2, 3, 4, 1, 3, 4, 1, 3, 1, 2, 3, 4, 1, 2, 3, 4, 1, 2, 1, 2, 3, 4, 2, 4, 4, 1, 2, 3, 4, 1, 1, 2, 3, 1, 2, 3, 4, 1, 2, 3, 4, 4, 2, 1, 2, 3, 4, 2, 1, 2, 3, 4, 1, 2, 2, 1, 2, 3, 4, 1, 2, 4, 1, 2, 3, 4, 2, 1, 1, 2, 3, 4, 2, 1, 2, 3, 4, 1, 2, 3, 4, 1, 4, 1, 2, 3, 4, 1, 2, 3, 4, 1, 3, 3, 1, 2, 4, 1, 2, 3, 4, 1, 2, 3, 4, 1, 4, 1, 2, 3, 4, 1, 2, 3, 4, 1, 2, 4, 1, 2, 3, 4, 1, 2, 4, 1, 2, 4, 1, 2, 3, 4, 1, 2, 3, 4, 1, 2, 3, 4, 1, 4, 1, 1, 2, 3, 4, 1, 4, 4, 3, 1, 2, 3, 4, 1, 2, 3, 4, 1, 2, 3, 4, 3, 4, 1, 2, 3, 4, 2, 1, 2, 4, 1, 2, 3, 4, 2, 2, 3, 4, 1, 2, 1, 2, 3, 1, 2, 3, 4, 1, 2, 3, 4, 1, 3, 1, 2, 4, 4, 1, 2, 3, 4, 4, 1, 2, 3, 4, 2, 4, 1, 2, 1, 2, 4, 3, 1, 2, 3, 4, 2, 1, 4, 1, 2, 3, 4, 1, 2, 3, 4, 1, 2, 4, 1, 2, 3, 4, 1, 2, 3, 4, 1, 2, 3, 4, 1, 2, 4, 1, 2, 3, 4, 1, 2, 4, 1, 2, 3, 4, 1, 2, 3, 4, 1, 2, 3, 4, 1, 2, 3, 4, 1, 2, 3, 4, 1, 2, 3, 4, 1, 2, 3, 4, 2, 1, 2, 1, 2, 3, 4, 3, 3, 1, 2, 3, 4, 1, 2, 3, 4, 1, 4], \"Freq\": [0.3997507465616747, 0.37409829223686136, 0.11543604446166009, 0.11116063540752452, 0.9816506553300581, 0.00884369959756809, 0.00884369959756809, 0.023979352546139684, 0.9591741018455874, 0.9812063889067287, 0.008115299562898625, 0.01623059912579725, 0.7750111082568186, 0.1988248392910163, 0.5240078101810335, 0.18260878233581468, 0.1131380499254504, 0.18062390426694713, 0.26534822596972446, 0.4945126029435774, 0.00603064149931192, 0.23217969772350888, 0.239724276239936, 0.29965534529992, 0.0928931570429752, 0.36557952126590243, 0.9596115102105534, 0.30105868189577273, 0.13547640685309773, 0.2433557678657496, 0.32112926068882425, 0.376724619611766, 0.36102776046127577, 0.125574873203922, 0.13538541017297842, 0.9483828996837235, 0.013269509222482196, 0.06634754611241099, 0.9155961363512716, 0.013269509222482196, 0.012460485610879613, 0.012460485610879613, 0.9096154495942118, 0.06230242805439806, 0.9718322893274538, 0.9786685431581001, 0.2584648755317536, 0.23708808131484166, 0.13214745515909207, 0.3711788814027439, 0.9821312941073296, 0.9687330038445143, 0.6189292412320461, 0.029827915240098604, 0.0037284894050123255, 0.3504780040711586, 0.0316111009022124, 0.948333027066372, 0.680492760756674, 0.08389636776452145, 0.21906273805180598, 0.018643637281004766, 0.0395336164898646, 0.9488067957567504, 0.0197668082449323, 0.02069079067374719, 0.9207401849817499, 0.010345395336873595, 0.04138158134749438, 0.029550322439146633, 0.9456103180526922, 0.029550322439146633, 0.01189867567317716, 0.9042993511614642, 0.01189867567317716, 0.07139205403906296, 0.01325429611914584, 0.8814106919231983, 0.05301718447658336, 0.05301718447658336, 0.8823152966111827, 0.11508460390580644, 0.957460240209429, 0.02519632211077445, 0.9508126399775142, 0.9523007214327203, 0.004004950357843658, 0.08810890787256047, 0.5767128515294867, 0.3284059293431799, 0.973596921949123, 0.2420543275262842, 0.31415561657666674, 0.23432918941374323, 0.2085787290386066, 0.9507151495939289, 0.9755643656134059, 0.6736941439824, 0.07382949523094795, 0.2491745464044493, 0.8421636965130442, 0.00877253850534421, 0.14913315459085158, 0.9745976014301762, 0.9507851500465989, 0.9745576882393109, 0.012262093961651814, 0.07357256376991088, 0.024524187923303627, 0.9073949531622343, 0.9644582406203722, 0.0390996584035286, 0.3862477500622955, 0.17973905200918702, 0.1395845829433048, 0.296378224057702, 0.9404693124386618, 0.9698143548810702, 0.9404782411830711, 0.28687929224716746, 0.01334322289521709, 0.6938475905512886, 0.9811022325172485, 0.9790227140684312, 0.02586031697675961, 0.03448042263567948, 0.8072113227745678, 0.132380194047698, 0.15780553500401054, 0.1016969003359179, 0.23846169733939368, 0.5014709223460779, 0.9875433860181739, 0.9609465076855909, 0.08802686211183217, 0.8551180890863697, 0.03772579804792807, 0.012575266015976024, 0.020292541366668942, 0.12682838354168088, 0.27733139867780887, 0.5749553387222867, 0.008621179003162293, 0.017242358006324586, 0.2413930120885442, 0.7414213942719571, 0.3325480491255554, 0.26603843930044435, 0.21219732658487822, 0.19161101878186765, 0.1721024123924544, 0.08963667312107, 0.5665037741251624, 0.1721024123924544, 0.9782642306606222, 0.11461811273436943, 0.0184867923765112, 0.0036973584753022403, 0.8651818832207242, 0.015446630416632315, 0.9576910858312035, 0.03089326083326463, 0.01630166909307974, 0.9781001455847844, 0.015343533877378518, 0.9819861681522252, 0.9536463575560391, 0.03346127570372067, 0.9483863989063043, 0.9200370530785449, 0.020909933024512384, 0.04181986604902477, 0.9134115793877937, 0.014973960317832683, 0.07486980158916341, 0.014973960317832683, 0.38074682233965346, 0.49128622237374636, 0.004094051853114553, 0.12282155559343659, 0.03285846107918449, 0.09388131736909855, 0.8637081197957067, 0.004694065868454928, 0.9812898254153086, 0.9745511101151422, 0.8635357459985951, 0.029777094689606726, 0.06699846305161514, 0.029777094689606726, 0.9758338598426347, 0.5811654708974704, 0.08888413084314253, 0.006837240834087887, 0.32476893961917463, 0.9627063773505967, 0.9657859294052777, 0.08070414007889652, 0.03880006734562333, 0.5059528781869282, 0.3740326492118089, 0.971131803010564, 0.032876984195446865, 0.010958994731815622, 0.9095965627406967, 0.04383597892726249, 0.9478787925890031, 0.010829843111439778, 0.010829843111439778, 0.9746858800295801, 0.010829843111439778, 0.005920920342953926, 0.005920920342953926, 0.9887936972733057, 0.38732144603781926, 0.3471547775598232, 0.08894048020127701, 0.17501191265412575, 0.06815929834270182, 0.04543953222846788, 0.5777311954762345, 0.3115853638523512, 0.04670605232849494, 0.9341210465698987, 0.3046205733026092, 0.16834294840407352, 0.22445726453876472, 0.3014140409520555, 0.27716036111583825, 0.13730880275463547, 0.5110938769200319, 0.0762826681970197, 0.6897739156688789, 0.10891167089508615, 0.058993821734838324, 0.14067757490615293, 0.5031990974402011, 0.07717777568101244, 0.17596532855270838, 0.24079466012475884, 0.46779744283250485, 0.36670562255937883, 0.009910962771875103, 0.15659321179562663, 0.9836425507090811, 0.140973728391701, 0.0140973728391701, 0.6097113752941068, 0.23613099505609916, 0.956067338773264, 0.6546186941092759, 0.17581187784649124, 0.03740678252053005, 0.13092373882185518, 0.011316736162539698, 0.9732393099784141, 0.011316736162539698, 0.06879523731732205, 0.8771392757958562, 0.034397618658661026, 0.017198809329330513, 0.9802573309166752, 0.3166013441646667, 0.10350428559229488, 0.347043781103577, 0.23136252073571797, 0.9580068448106498, 0.029091467917001523, 0.04987108785771689, 0.6441682181621765, 0.278446907205586, 0.970943014951312, 0.03236476716504373, 0.03133928307902284, 0.9558481339101966, 0.01566964153951142, 0.01566964153951142, 0.5595925491599492, 0.2491472127001894, 0.001977358830953884, 0.18982644777157287, 0.07112689961394732, 0.08001776206569072, 0.8446319329156243, 0.02318218651821579, 0.9504696472468475, 0.9852791250363656, 0.005795759559037445, 0.005795759559037445, 0.005795759559037445, 0.98208740515725, 0.7279444407471924, 0.085937885365988, 0.1819861101867981, 0.24249835065291256, 0.3471555335662748, 0.2603666501747061, 0.1506042388265457, 0.7426439864421451, 0.05548489553878096, 0.02560841332559121, 0.17499082439153993, 0.9797008614408749, 0.011007874847650279, 0.011007874847650279, 0.957892470012204, 0.017157490075852648, 0.3674562457911776, 0.39462227174461095, 0.22018778930677566, 0.9783597595465136, 0.98387860391694, 0.9834966187524089, 0.009969545237496184, 0.009969545237496184, 0.17945181427493131, 0.8075331642371909, 0.9615277107129785, 0.08688161813808253, 0.8398556420014645, 0.07722810501162891, 0.9561287213241991, 0.01967553974749138, 0.01967553974749138, 0.9641014476270776, 0.2505002945996601, 0.09832721844098809, 0.5056828376965101, 0.14749082766148214, 0.9557166370086848, 0.9636340257204546, 0.023793432733838386, 0.019361492073531404, 0.9680746036765702, 0.028248317572556282, 0.00941610585751876, 0.7853032285170647, 0.1770227901213527, 0.8009993298676931, 0.045217704105434284, 0.0645967201506204, 0.08397573619580653, 0.4300759504332363, 0.11927887687796788, 0.40655617189391874, 0.043679588715875566, 0.9744836884560513, 0.010827596538400569, 0.9804090272250734, 0.9435829512478967, 0.9779877488773383, 0.11172115596020395, 0.13889657227484817, 0.2234423119204079, 0.5253913820831213, 0.45113520681196867, 0.06666259069730121, 0.035656734559021575, 0.4449340355843127, 0.0089981699818993, 0.9808005280270238, 0.0089981699818993, 0.5779126017325523, 0.1965489559191929, 0.1613461578441136, 0.06453846313764544, 0.265392079369609, 0.4053791102458863, 0.30622163004185654, 0.02333117181271288, 0.9561261748567157, 0.9756426195855235, 0.029564927866227983, 0.0631227925844383, 0.06436049439981945, 0.622564013136715, 0.25125346852237207, 0.2547968504336703, 0.3864896045903987, 0.2089906750748082, 0.14887006991630172, 0.032582261444148546, 0.9448855818803079, 0.005038129680425235, 0.005038129680425235, 0.8262532675897386, 0.16122014977360752, 0.12660828371551466, 0.27567932744507223, 0.4063717493449583, 0.1919544946654577, 0.9633212634482183, 0.6568627923988792, 0.1501917679589724, 0.09771512614198204, 0.09409604739598271, 0.9891081858191182, 0.7485478941021071, 0.07806941226831791, 0.1699157796428096, 0.004592318368724584, 0.027028586899663577, 0.13514293449831788, 0.027028586899663577, 0.8108576069899073, 0.9719860896324284, 0.020442494561528687, 0.020442494561528687, 0.9607972443918483, 0.04647945912789001, 0.9450823356004303, 0.015493153042630005, 0.9621195695487057, 0.020470629139334166, 0.014005794658132705, 0.4855342148152671, 0.07002897329066353, 0.4295110361827363, 0.18781244210489859, 0.5832070570625798, 0.07907892299153625, 0.14827298060913047, 0.9643374102099591, 0.026063173248917812, 0.019654093136337078, 0.25943402939964944, 0.08647800979988315, 0.6367926176173214, 0.01897130573693314, 0.96753659258359, 0.9629665152277905, 0.038766714754716956, 0.18608023082264138, 0.46003168175597453, 0.31530261333836457, 0.9838591140572269, 0.8266973855324317, 0.04444609599636729, 0.12444906878982842, 0.7199950853025078, 0.21729581403273884, 0.003243221104966251, 0.05837797988939252, 0.020012698054360893, 0.12007618832616537, 0.040025396108721786, 0.8205206202287967, 0.9595520751301486, 0.9550642644766983, 0.05742927184124825, 0.061846908136728884, 0.786339260595553, 0.09718799850057397, 0.9632798071985401, 0.028730052807307036, 0.3950382261004718, 0.2298404224584563, 0.3483518902885978, 0.9235866238399539, 0.06481309640982133, 0.9727090227573921, 0.14763270697300776, 0.514942881921851, 0.12046828888997432, 0.2173153446642674, 0.11543797577538756, 0.015391730103385006, 0.8696327508412529, 0.9570026718697195, 0.031122038109584377, 0.007780509527396094, 0.007780509527396094, 0.9854850525797133, 0.9842785182845615, 0.19061587519115655, 0.02190987071162719, 0.335221021887896, 0.45134333665952014, 0.9786770633790314, 0.006658935666186683, 0.009322509932661356, 0.977531755796205, 0.005327148532949346, 0.08201380755468585, 0.3212207462558529, 0.33261155286067035, 0.261988551910802, 0.9859542593267376, 0.016999211367702372, 0.1460287138383012, 0.22288593164793344, 0.4169504066172548, 0.21520020986697022, 0.01616644793336938, 0.9861533239355321, 0.9614357336621534, 0.022891326991956035, 0.01936310626065792, 0.968155313032896, 0.9711308476663961, 0.941239674422181, 0.050199449302516325, 0.9523143175455315, 0.07530603682697355, 0.7756521793178277, 0.060244829461578844, 0.08283664050967092, 0.008755621550584755, 0.24953521419166552, 0.6873162917209032, 0.05691154007880091, 0.15562890201180807, 0.8429898858972937, 0.03729939109426223, 0.017215103581967182, 0.7832872129795068, 0.16067430009836037, 0.14070413436203819, 0.768461041515747, 0.08658715960740812, 0.010823394950926015, 0.018476909819700568, 0.97927622044413, 0.9722341066110579, 0.7246760175513527, 0.08581689681529175, 0.18593660976646548, 0.00476760537862732, 0.9760366120091911, 0.8823178025923433, 0.11508493077291435, 0.017531108948100307, 0.9642109921455168, 0.017531108948100307, 0.006745533705817718, 0.013491067411635436, 0.39461372179033655, 0.5834886655532326, 0.052737886512377714, 0.4183872329981965, 0.11602335032723098, 0.4113555147965462, 0.1490780351982417, 0.040427941748675714, 0.5078760182177386, 0.30320956311506786, 0.16243566145729713, 0.8246733581678162, 0.9533417981972916, 0.7036820858196731, 0.07818689842440812, 0.20849839579842164, 0.0052124598949605415, 0.9856233605949236, 0.9595364484697471, 0.9595476070354985, 0.9811692524464318, 0.2270448981004216, 0.4888624382522591, 0.03477264205141592, 0.24954484295722015, 0.8843436958820096, 0.006599579820014996, 0.10559327712023994, 0.006599579820014996, 0.714474031485925, 0.0972758071037175, 0.1844885996794642, 0.0033543381759902585, 0.0183037891988877, 0.970100827541048, 0.4881567447342976, 0.16135725035150422, 0.1879097092701062, 0.1633997471913967, 0.9607414341323215, 0.9875315744582728, 0.9687339250163134, 0.9609448574288789, 0.22352326785685322, 0.4229253197579309, 0.13025456616118786, 0.22191518679313485, 0.9606955466959295, 0.008101293135540125, 0.5063308209712578, 0.48607758813240753, 0.9754970845799761, 0.027871345273713603, 0.9641031989019523, 0.01302842160678314, 0.01302842160678314, 0.0909444134700232, 0.2858252994772158, 0.23125865139520188, 0.3923601838278144, 0.1106402005398824, 0.013171452445224096, 0.6664754937283391, 0.21074323912358553, 0.9753408138682422, 0.9696876426523663, 0.9334470225111754, 0.05907892547539085, 0.9799673021523175, 0.9522886754382747, 0.7650580838246661, 0.22136198364470033, 0.007767087145428082, 0.003883543572714041, 0.9836379907467072, 0.05531648815788023, 0.19360770855258078, 0.16594946447364067, 0.5842804061676099, 0.9738917811408032, 0.0304341181606501, 0.9546142038490385, 0.024477287278180476, 0.02463709933634372, 0.9362097747810614, 0.04927419867268744, 0.9925458041055104, 0.7545783265588525, 0.19184194743021674, 0.012789463162014448, 0.04263154387338149, 0.9580041368125956, 0.9849548409182398, 0.9704529004035971, 0.011469780310301282, 0.16631181449936858, 0.2580700569817788, 0.5620192352047628, 0.6498898391998822, 0.02126912201017796, 0.20323827698614497, 0.12761473206106777, 0.9873085799283663, 0.02318582676019653, 0.9738047239282543, 0.110628134889571, 0.5600549328784532, 0.110628134889571, 0.21779914056384292, 0.19531810164529748, 0.5754908352048944, 0.09417122757898272, 0.134281194881142, 0.39398895912103593, 0.2083397113676682, 0.014439385936373044, 0.3836751120236266, 0.025433498345188973, 0.025433498345188973, 0.9410394387719919, 0.5181069699524615, 0.23768824910190245, 0.07210767107585804, 0.17092188699462646, 0.03234249850940363, 0.8489905858718453, 0.11319874478291271, 0.016384035400367595, 0.606209309813601, 0.15291766373676421, 0.22391515047169047, 0.15255057367660457, 0.02596605509389014, 0.6588886480074623, 0.16553360122354963, 0.07283731627996294, 0.06798149519463208, 0.8060663001649232, 0.053414031938639486, 0.005972241416896138, 0.026875086376032618, 0.5912519002727176, 0.37625120926445665, 0.1197496881609746, 0.09757381998301634, 0.2483697235931325, 0.5366560099065899, 0.041571843397995786, 0.22065055342013148, 0.2814094014633561, 0.4540924432704155, 0.3602757129216454, 0.08053221818248545, 0.3291931023950721, 0.2288810411502218, 0.9404608443320511, 0.9566219094886377, 0.02333224169484482, 0.3758543916725831, 0.1592906707564757, 0.3221609071479284, 0.14318262539907928, 0.9902800329874248, 0.9774215496029312, 0.6050332966465969, 0.27951830663790145, 0.024767444891965952, 0.09553157315472582, 0.9709762970039035, 0.016049194991800058, 0.008024597495900029, 0.008024597495900029, 0.0151203768901733, 0.9828244978612645], \"Term\": [\"about\", \"about\", \"about\", \"about\", \"acne\", \"acne\", \"acne\", \"acting\", \"acting\", \"active\", \"advice\", \"advice\", \"advice\", \"advice\", \"affect\", \"affect\", \"affect\", \"affect\", \"affected\", \"affected\", \"affected\", \"affected\", \"after\", \"after\", \"after\", \"after\", \"aggravated\", \"alcohol\", \"alcohol\", \"alcohol\", \"alcohol\", \"all\", \"all\", \"all\", \"all\", \"alleviates\", \"alone\", \"alone\", \"alone\", \"alone\", \"along\", \"along\", \"along\", \"along\", \"alright\", \"alternative\", \"an\", \"an\", \"an\", \"an\", \"ankle\", \"ankylosing\", \"antibiotic\", \"antibiotic\", \"antibiotic\", \"antibiotic\", \"antifungal\", \"antifungal\", \"anything\", \"anything\", \"anything\", \"anything\", \"appear\", \"appear\", \"appear\", \"application\", \"application\", \"application\", \"application\", \"applied\", \"applied\", \"applied\", \"applying\", \"applying\", \"applying\", \"applying\", \"area\", \"area\", \"area\", \"area\", \"arthritis\", \"arthritis\", \"asked\", \"asked\", \"asthakind\", \"atorva\", \"attack\", \"attack\", \"attack\", \"attack\", \"avoided\", \"away\", \"away\", \"away\", \"away\", \"azithral\", \"azulix\", \"bacteria\", \"bacteria\", \"bacteria\", \"bacterial\", \"bacterial\", \"bacterial\", \"beating\", \"behave\", \"behavior\", \"being\", \"being\", \"being\", \"being\", \"beneficial\", \"beneficial\", \"better\", \"better\", \"better\", \"better\", \"between\", \"big\", \"blackhead\", \"bleeding\", \"bleeding\", \"bleeding\", \"blindness\", \"blocker\", \"blood\", \"blood\", \"blood\", \"blood\", \"body\", \"body\", \"body\", \"body\", \"broad\", \"build\", \"burning\", \"burning\", \"burning\", \"burning\", \"but\", \"but\", \"but\", \"but\", \"called\", \"called\", \"called\", \"called\", \"cause\", \"cause\", \"cause\", \"cause\", \"change\", \"change\", \"change\", \"change\", \"channel\", \"cholesterol\", \"cholesterol\", \"cholesterol\", \"cholesterol\", \"clean\", \"clean\", \"clean\", \"clot\", \"clot\", \"complete\", \"complete\", \"completion\", \"completion\", \"component\", \"congestion\", \"congestion\", \"congestion\", \"consistent\", \"consistent\", \"consistent\", \"consistent\", \"contact\", \"contact\", \"contact\", \"contact\", \"control\", \"control\", \"control\", \"control\", \"controlled\", \"controlling\", \"cough\", \"cough\", \"cough\", \"cough\", \"count\", \"course\", \"course\", \"course\", \"course\", \"cutting\", \"cv\", \"day\", \"day\", \"day\", \"day\", \"deal\", \"decide\", \"decide\", \"decide\", \"decide\", \"delusion\", \"depends\", \"depends\", \"depends\", \"depends\", \"diabetes\", \"diabetes\", \"diabetes\", \"diarrhea\", \"diarrhea\", \"diarrhea\", \"diarrhea\", \"diet\", \"diet\", \"diet\", \"diet\", \"disappear\", \"disappear\", \"disease\", \"disease\", \"disease\", \"disease\", \"dizziness\", \"dizziness\", \"dizziness\", \"dizziness\", \"dos\", \"dos\", \"dos\", \"dos\", \"drive\", \"drive\", \"drive\", \"drive\", \"duration\", \"duration\", \"duration\", \"duration\", \"dyspepsia\", \"each\", \"each\", \"each\", \"each\", \"earlier\", \"early\", \"early\", \"early\", \"early\", \"eating\", \"eating\", \"eating\", \"effectively\", \"effectively\", \"effectively\", \"effectively\", \"especially\", \"even\", \"even\", \"even\", \"even\", \"everybody\", \"exercise\", \"exercise\", \"exercise\", \"exercise\", \"expectorant\", \"expectorant\", \"external\", \"external\", \"external\", \"external\", \"eye\", \"eye\", \"eye\", \"eye\", \"fat\", \"fat\", \"fat\", \"fatty\", \"fatty\", \"finish\", \"finish\", \"finish\", \"finish\", \"finished\", \"focus\", \"focus\", \"focus\", \"from\", \"from\", \"from\", \"from\", \"full\", \"full\", \"full\", \"full\", \"gel\", \"gel\", \"gel\", \"general\", \"get\", \"get\", \"get\", \"get\", \"glucose\", \"gonorrhea\", \"gram\", \"group\", \"group\", \"group\", \"group\", \"hallucination\", \"hand\", \"hand\", \"hand\", \"happening\", \"harm\", \"harm\", \"harm\", \"headache\", \"headache\", \"headache\", \"headache\", \"hearing\", \"heartburn\", \"heartburn\", \"hence\", \"hence\", \"high\", \"high\", \"high\", \"high\", \"hour\", \"hour\", \"hour\", \"hour\", \"how\", \"how\", \"how\", \"how\", \"hypertension\", \"hypertension\", \"hypoglycemia\", \"immune\", \"impair\", \"increase\", \"increase\", \"increase\", \"increase\", \"infection\", \"infection\", \"infection\", \"infection\", \"inflammation\", \"inflammation\", \"inflammation\", \"inform\", \"inform\", \"inform\", \"inform\", \"keep\", \"keep\", \"keep\", \"keep\", \"laboratory\", \"layer\", \"layer\", \"level\", \"level\", \"level\", \"level\", \"like\", \"like\", \"like\", \"like\", \"lipid\", \"lipid\", \"low\", \"low\", \"low\", \"low\", \"make\", \"make\", \"make\", \"make\", \"meant\", \"medication\", \"medication\", \"medication\", \"medication\", \"mellitus\", \"mental\", \"mental\", \"mental\", \"mental\", \"mild\", \"mild\", \"mild\", \"mild\", \"milk\", \"moderation\", \"moderation\", \"moderation\", \"monitoring\", \"monitoring\", \"monitoring\", \"mood\", \"mood\", \"more\", \"more\", \"more\", \"more\", \"mouth\", \"mouth\", \"mouth\", \"mouth\", \"mucus\", \"mucus\", \"must\", \"must\", \"must\", \"must\", \"nail\", \"nail\", \"narrowing\", \"need\", \"need\", \"need\", \"need\", \"negative\", \"never\", \"never\", \"never\", \"nose\", \"nose\", \"nose\", \"nose\", \"notice\", \"notice\", \"notice\", \"notice\", \"object\", \"observed\", \"often\", \"often\", \"often\", \"often\", \"oil\", \"only\", \"only\", \"only\", \"only\", \"orally\", \"orally\", \"osteoarthritis\", \"pain\", \"pain\", \"pain\", \"pain\", \"per\", \"per\", \"per\", \"person\", \"person\", \"person\", \"person\", \"pimple\", \"positive\", \"prescribed\", \"prescribed\", \"prescribed\", \"prescribed\", \"prescribing\", \"pressure\", \"pressure\", \"pressure\", \"pressure\", \"prevent\", \"prevent\", \"prevent\", \"prevent\", \"previous\", \"previous\", \"problem\", \"problem\", \"problem\", \"problem\", \"production\", \"production\", \"properly\", \"properly\", \"put\", \"put\", \"recognize\", \"recommend\", \"recommend\", \"recovery\", \"redness\", \"redness\", \"redness\", \"redness\", \"reducing\", \"reducing\", \"reducing\", \"reducing\", \"regarded\", \"regarded\", \"regular\", \"regular\", \"regular\", \"regular\", \"relieve\", \"relieve\", \"relieve\", \"relieve\", \"relieving\", \"relieving\", \"repeated\", \"requires\", \"requires\", \"requires\", \"requires\", \"returning\", \"rheumatoid\", \"rheumatoid\", \"rinse\", \"rinse\", \"rinse\", \"risk\", \"risk\", \"risk\", \"risk\", \"safe\", \"safe\", \"safe\", \"safe\", \"same\", \"same\", \"same\", \"same\", \"schedule\", \"schedule\", \"schizophrenia\", \"seen\", \"seen\", \"seen\", \"seen\", \"sexually\", \"sharp\", \"shaving\", \"single\", \"skin\", \"skin\", \"skin\", \"skin\", \"skip\", \"skip\", \"skip\", \"skip\", \"sleepiness\", \"sleepiness\", \"sleepiness\", \"sleepiness\", \"sleepy\", \"sleepy\", \"so\", \"so\", \"so\", \"so\", \"sp\", \"spectrum\", \"spondylitis\", \"statin\", \"stomach\", \"stomach\", \"stomach\", \"stomach\", \"stone\", \"stroke\", \"stroke\", \"stroke\", \"stuffiness\", \"stuffiness\", \"subside\", \"subside\", \"subside\", \"such\", \"such\", \"such\", \"such\", \"sugar\", \"sugar\", \"sugar\", \"sugar\", \"suicidal\", \"supplement\", \"support\", \"support\", \"survive\", \"system\", \"temporary\", \"temporary\", \"temporary\", \"temporary\", \"thereafter\", \"they\", \"they\", \"they\", \"they\", \"thin\", \"thin\", \"thins\", \"thins\", \"thoroughly\", \"thoroughly\", \"thoroughly\", \"those\", \"too\", \"too\", \"too\", \"too\", \"toothache\", \"transmitted\", \"triglyceride\", \"try\", \"try\", \"try\", \"try\", \"type\", \"type\", \"type\", \"type\", \"typhoid\", \"unexplained\", \"unexplained\", \"use\", \"use\", \"use\", \"use\", \"using\", \"using\", \"using\", \"using\", \"usually\", \"usually\", \"usually\", \"usually\", \"viral\", \"viral\", \"viral\", \"vomiting\", \"vomiting\", \"vomiting\", \"vomiting\", \"wash\", \"wash\", \"wash\", \"water\", \"water\", \"water\", \"water\", \"weight\", \"weight\", \"weight\", \"weight\", \"well\", \"well\", \"well\", \"well\", \"what\", \"what\", \"what\", \"what\", \"when\", \"when\", \"when\", \"when\", \"which\", \"which\", \"which\", \"which\", \"while\", \"while\", \"while\", \"while\", \"whitehead\", \"windpipe\", \"windpipe\", \"without\", \"without\", \"without\", \"without\", \"working\", \"workload\", \"worsen\", \"worsen\", \"worsen\", \"worsen\", \"worsening\", \"worsening\", \"worsening\", \"worsening\", \"yellowing\", \"yellowing\"]}, \"R\": 30, \"lambda.step\": 0.01, \"plot.opts\": {\"xlab\": \"PC1\", \"ylab\": \"PC2\"}, \"topic.order\": [1, 2, 3, 4]};\n",
       "\n",
       "function LDAvis_load_lib(url, callback){\n",
       "  var s = document.createElement('script');\n",
       "  s.src = url;\n",
       "  s.async = true;\n",
       "  s.onreadystatechange = s.onload = callback;\n",
       "  s.onerror = function(){console.warn(\"failed to load library \" + url);};\n",
       "  document.getElementsByTagName(\"head\")[0].appendChild(s);\n",
       "}\n",
       "\n",
       "if(typeof(LDAvis) !== \"undefined\"){\n",
       "   // already loaded: just create the visualization\n",
       "   !function(LDAvis){\n",
       "       new LDAvis(\"#\" + \"ldavis_el157825223943072954933929\", ldavis_el157825223943072954933929_data);\n",
       "   }(LDAvis);\n",
       "}else if(typeof define === \"function\" && define.amd){\n",
       "   // require.js is available: use it to load d3/LDAvis\n",
       "   require.config({paths: {d3: \"https://d3js.org/d3.v5\"}});\n",
       "   require([\"d3\"], function(d3){\n",
       "      window.d3 = d3;\n",
       "      LDAvis_load_lib(\"https://cdn.jsdelivr.net/gh/bmabey/pyLDAvis@3.4.0/pyLDAvis/js/ldavis.v3.0.0.js\", function(){\n",
       "        new LDAvis(\"#\" + \"ldavis_el157825223943072954933929\", ldavis_el157825223943072954933929_data);\n",
       "      });\n",
       "    });\n",
       "}else{\n",
       "    // require.js not available: dynamically load d3 & LDAvis\n",
       "    LDAvis_load_lib(\"https://d3js.org/d3.v5.js\", function(){\n",
       "         LDAvis_load_lib(\"https://cdn.jsdelivr.net/gh/bmabey/pyLDAvis@3.4.0/pyLDAvis/js/ldavis.v3.0.0.js\", function(){\n",
       "                 new LDAvis(\"#\" + \"ldavis_el157825223943072954933929\", ldavis_el157825223943072954933929_data);\n",
       "            })\n",
       "         });\n",
       "}\n",
       "</script>"
      ],
      "text/plain": [
       "PreparedData(topic_coordinates=              x         y  topics  cluster       Freq\n",
       "topic                                                \n",
       "0      0.160198 -0.107268       1        1  26.011548\n",
       "1      0.056713  0.126788       2        1  21.676146\n",
       "2     -0.180617 -0.064336       3        1  27.424534\n",
       "3     -0.036294  0.044816       4        1  24.887772, topic_info=            Term         Freq        Total Category  logprob  loglift\n",
       "381        blood  1624.000000  1624.000000  Default  30.0000  30.0000\n",
       "382     pressure   750.000000   750.000000  Default  29.0000  29.0000\n",
       "380         high   531.000000   531.000000  Default  28.0000  28.0000\n",
       "213         pain   846.000000   846.000000  Default  27.0000  27.0000\n",
       "812  cholesterol   270.000000   270.000000  Default  26.0000  26.0000\n",
       "..           ...          ...          ...      ...      ...      ...\n",
       "116      stomach   138.062465   621.859198   Topic4  -5.1612  -0.1142\n",
       "110         need   122.350683   386.929873   Topic4  -5.2820   0.2394\n",
       "20           use   126.390351   578.514680   Topic4  -5.2495  -0.1303\n",
       "32          skin   122.250908   488.890087   Topic4  -5.2828   0.0047\n",
       "16         cause   120.667695   631.487692   Topic4  -5.2959  -0.2642\n",
       "\n",
       "[328 rows x 6 columns], token_table=      Topic      Freq       Term\n",
       "term                            \n",
       "80        1  0.399751      about\n",
       "80        2  0.374098      about\n",
       "80        3  0.115436      about\n",
       "80        4  0.111161      about\n",
       "6         2  0.981651       acne\n",
       "...     ...       ...        ...\n",
       "211       2  0.016049  worsening\n",
       "211       3  0.008025  worsening\n",
       "211       4  0.008025  worsening\n",
       "828       1  0.015120  yellowing\n",
       "828       4  0.982824  yellowing\n",
       "\n",
       "[710 rows x 3 columns], R=30, lambda_step=0.01, plot_opts={'xlab': 'PC1', 'ylab': 'PC2'}, topic_order=[1, 2, 3, 4])"
      ]
     },
     "execution_count": 221,
     "metadata": {},
     "output_type": "execute_result"
    }
   ],
   "source": [
    "vis4 = pyLDAvis.gensim_models.prepare(lda4, corpus, d, sort_topics = False)\n",
    "vis4"
   ]
  },
  {
   "cell_type": "code",
   "execution_count": 62,
   "metadata": {
    "collapsed": true
   },
   "outputs": [],
   "source": [
    "# vis8 = pyLDAvis.gensim.prepare(lda8, corpus, d, sort_topics = False)\n",
    "# vis8"
   ]
  },
  {
   "cell_type": "markdown",
   "metadata": {},
   "source": [
    "### transform tabelog corpus into topic distribution matrices "
   ]
  },
  {
   "cell_type": "code",
   "execution_count": 304,
   "metadata": {},
   "outputs": [],
   "source": [
    "corpus_transformed = lda4[corpus]"
   ]
  },
  {
   "cell_type": "code",
   "execution_count": 305,
   "metadata": {},
   "outputs": [
    {
     "data": {
      "text/plain": [
       "gensim.interfaces.TransformedCorpus"
      ]
     },
     "execution_count": 305,
     "metadata": {},
     "output_type": "execute_result"
    }
   ],
   "source": [
    "type(corpus_transformed)"
   ]
  },
  {
   "cell_type": "code",
   "execution_count": 308,
   "metadata": {},
   "outputs": [
    {
     "data": {
      "text/plain": [
       "<gensim.interfaces.TransformedCorpus at 0x1385a5b90>"
      ]
     },
     "execution_count": 308,
     "metadata": {},
     "output_type": "execute_result"
    }
   ],
   "source": [
    "corpus_transformed"
   ]
  },
  {
   "cell_type": "markdown",
   "metadata": {},
   "source": [
    "### function to show tabelog text, tokens, most likely topics and topic terms"
   ]
  },
  {
   "cell_type": "code",
   "execution_count": 317,
   "metadata": {},
   "outputs": [],
   "source": [
    "def show_prediction(index):\n",
    "    \n",
    "    print(df.iloc[index]['Introduction'])\n",
    "    \n",
    "    df = (pd.DataFrame(corpus_transformed[index], columns = ['topic', 'probability'])\n",
    "                       .sort_values(by = ['probability'], ascending = False)\n",
    "                       .reset_index(drop = True))\n",
    "    print()\n",
    "    \n",
    "    print(df)\n",
    "    \n",
    "    list_topics = []\n",
    "    for i in range(len(df)):\n",
    "        if (float(df.iloc[i]['probability']) > 0.1):\n",
    "            list_topics.append(int(df.iloc[i]['topic']))\n",
    "    print('most likely topics: ', list_topics)\n",
    "    print()\n",
    "    \n",
    "    for t in list_topics:\n",
    "        print(lda4.print_topics()[t])\n",
    "    \n",
    "    return()\n",
    "    "
   ]
  },
  {
   "cell_type": "code",
   "execution_count": 322,
   "metadata": {},
   "outputs": [
    {
     "data": {
      "text/plain": [
       "'Altraday Capsule SR is a combination of two medicines. It is used to reduce pain and inflammation in conditions like rheumatoid arthritis, ankylosing spondylitis, and osteoarthritis. It may also be used to relieve muscle pain, back pain, toothache, or pain in the ear and throat.Altraday Capsule SR can be taken with or without food. The dose will depend on what you are taking it for and how well it helps your symptoms. You should take it as advised by your doctor. Do not take more or use it for a longer duration than recommended by the doctor.The most common side effects of this medicine include nausea, flatulence, indigestion, diarrhea, and constipation. If any of these side effects bother you or get worse, you should speak to your doctor. Your doctor may be able to suggest ways of preventing or reducing the side effects.Before taking it, you should let your doctor know if you have a history of ulcer or bleeding in your stomach, high blood pressure, or have any trouble with your heart, kidneys, or liver. Let your doctor also know about all the other medicines you are taking because they may affect, or be affected by, this medicine.Pregnant or breastfeeding women should consult their doctor before starting treatment. You should also avoid drinking alcohol while you are taking this medicine, as alcohol can cause excessive drowsiness.'"
      ]
     },
     "execution_count": 322,
     "metadata": {},
     "output_type": "execute_result"
    }
   ],
   "source": [
    "# pd.set_option('display.max_colwidth', 500)\n",
    "# df['Introduction'][0]\n",
    "df.iloc[13]['Introduction']"
   ]
  },
  {
   "cell_type": "code",
   "execution_count": 318,
   "metadata": {},
   "outputs": [
    {
     "ename": "UnboundLocalError",
     "evalue": "cannot access local variable 'df' where it is not associated with a value",
     "output_type": "error",
     "traceback": [
      "\u001b[0;31m---------------------------------------------------------------------------\u001b[0m",
      "\u001b[0;31mUnboundLocalError\u001b[0m                         Traceback (most recent call last)",
      "Cell \u001b[0;32mIn[318], line 1\u001b[0m\n\u001b[0;32m----> 1\u001b[0m \u001b[43mshow_prediction\u001b[49m\u001b[43m(\u001b[49m\u001b[38;5;241;43m1\u001b[39;49m\u001b[43m)\u001b[49m\n",
      "Cell \u001b[0;32mIn[317], line 3\u001b[0m, in \u001b[0;36mshow_prediction\u001b[0;34m(index)\u001b[0m\n\u001b[1;32m      1\u001b[0m \u001b[38;5;28;01mdef\u001b[39;00m \u001b[38;5;21mshow_prediction\u001b[39m(index):\n\u001b[0;32m----> 3\u001b[0m     \u001b[38;5;28mprint\u001b[39m(\u001b[43mdf\u001b[49m\u001b[38;5;241m.\u001b[39miloc[index][\u001b[38;5;124m'\u001b[39m\u001b[38;5;124mIntroduction\u001b[39m\u001b[38;5;124m'\u001b[39m])\n\u001b[1;32m      5\u001b[0m     df \u001b[38;5;241m=\u001b[39m (pd\u001b[38;5;241m.\u001b[39mDataFrame(corpus_transformed[index], columns \u001b[38;5;241m=\u001b[39m [\u001b[38;5;124m'\u001b[39m\u001b[38;5;124mtopic\u001b[39m\u001b[38;5;124m'\u001b[39m, \u001b[38;5;124m'\u001b[39m\u001b[38;5;124mprobability\u001b[39m\u001b[38;5;124m'\u001b[39m])\n\u001b[1;32m      6\u001b[0m                        \u001b[38;5;241m.\u001b[39msort_values(by \u001b[38;5;241m=\u001b[39m [\u001b[38;5;124m'\u001b[39m\u001b[38;5;124mprobability\u001b[39m\u001b[38;5;124m'\u001b[39m], ascending \u001b[38;5;241m=\u001b[39m \u001b[38;5;28;01mFalse\u001b[39;00m)\n\u001b[1;32m      7\u001b[0m                        \u001b[38;5;241m.\u001b[39mreset_index(drop \u001b[38;5;241m=\u001b[39m \u001b[38;5;28;01mTrue\u001b[39;00m))\n\u001b[1;32m      8\u001b[0m     \u001b[38;5;28mprint\u001b[39m()\n",
      "\u001b[0;31mUnboundLocalError\u001b[0m: cannot access local variable 'df' where it is not associated with a value"
     ]
    }
   ],
   "source": [
    "show_prediction(1)"
   ]
  },
  {
   "cell_type": "markdown",
   "metadata": {},
   "source": [
    "### transform inf corpus into inf topic distribution matrix"
   ]
  },
  {
   "cell_type": "code",
   "execution_count": 71,
   "metadata": {
    "collapsed": true
   },
   "outputs": [],
   "source": [
    "inf_count_matrix_T = inf_count_matrix.transpose()\n",
    "\n",
    "inf_corpus = matutils.Sparse2Corpus(inf_count_matrix_T)"
   ]
  },
  {
   "cell_type": "code",
   "execution_count": 72,
   "metadata": {
    "collapsed": true
   },
   "outputs": [],
   "source": [
    "inf_corpus_transformed = lda4[inf_corpus]"
   ]
  },
  {
   "cell_type": "markdown",
   "metadata": {},
   "source": [
    "### function to show inf text, tokens, most likely topics and topic terms¶"
   ]
  },
  {
   "cell_type": "code",
   "execution_count": 73,
   "metadata": {
    "collapsed": true
   },
   "outputs": [],
   "source": [
    "def show_inf_prediction(index):\n",
    "    \n",
    "    print(df_inf.iloc[index])\n",
    "    \n",
    "    df = (pd.DataFrame(inf_corpus_transformed[index], columns = ['topic', 'probability'])\n",
    "                       .sort_values(by = ['probability'], ascending = False)\n",
    "                       .reset_index(drop = True))\n",
    "    print()\n",
    "    \n",
    "    print(df)\n",
    "    \n",
    "    list_topics = []\n",
    "    for i in range(len(df)):\n",
    "        if (float(df.iloc[i]['probability']) > 0.1):\n",
    "            list_topics.append(int(df.iloc[i]['topic']))\n",
    "    print('most likely topics: ', list_topics)\n",
    "    print()\n",
    "    \n",
    "    for t in list_topics:\n",
    "        print(lda4.print_topics()[t]) \n",
    "    \n",
    "    return()"
   ]
  },
  {
   "cell_type": "code",
   "execution_count": null,
   "metadata": {
    "collapsed": true
   },
   "outputs": [],
   "source": []
  },
  {
   "cell_type": "code",
   "execution_count": 74,
   "metadata": {},
   "outputs": [
    {
     "name": "stdout",
     "output_type": "stream",
     "text": [
      "name                                                                                                                                                                                                                                                                                                                             kokoronotane\n",
      "text                こころのたね🌱Yasuyo フードコーディネーター/発酵食スペシャリスト/                             時々モノ作り 体に優しい心ほぐれる簡単ごはん❁愉しむ食卓                             #オムのぼり 👀皆さんのカワイイ世界♪                             📕著書【かわいいお菓子】                            📙著書【美しい作りおき】                            📗著書【のほほん曲げわっぱ弁当】                            LINE公式・Ameba公式ブロガー\n",
      "tokens                                                                                                                                                                                       [こころ, フードコーディネーター, 発酵食, スペシャリスト, モノ, 優しい, 簡単, ごはん, 食卓, オム, のぼり, 皆さん, カワイイ, 世界, 著書, かわいい, お菓子, 著書, 美しい, 作りおき, 著書, 曲げわっぱ, 弁当, 公式, ameba, 公式, ブロガー]\n",
      "tokens_dict_only                                                                                                                                                                                                                                                                                  [スペシャリスト, モノ, 優しい, 食卓, 世界, 美しい, 弁当, 公式, 公式]\n",
      "Name: 0, dtype: object\n",
      "\n",
      "   topic  probability\n",
      "0      1     0.667096\n",
      "1      0     0.184498\n",
      "2      3     0.122020\n",
      "3      2     0.026385\n",
      "most likely topics:  [1, 0, 3]\n",
      "\n",
      "(1, '0.020*\"カクテル\" + 0.019*\"カウンター\" + 0.017*\"オシャレ\" + 0.015*\"家族\" + 0.015*\"子供\" + 0.015*\"野菜\" + 0.014*\"お祝い\" + 0.014*\"サプライズ\" + 0.012*\"ソファー\" + 0.011*\"メニュー\"')\n",
      "(0, '0.030*\"日本酒\" + 0.030*\"飲み放題\" + 0.027*\"焼酎\" + 0.026*\"宴会\" + 0.023*\"カクテル\" + 0.021*\"メニュー\" + 0.018*\"コース\" + 0.015*\"家族\" + 0.014*\"カウンター\" + 0.014*\"野菜\"')\n",
      "(3, '0.019*\"日本酒\" + 0.018*\"焼酎\" + 0.015*\"家族\" + 0.014*\"カクテル\" + 0.013*\"子供\" + 0.013*\"飲み放題\" + 0.012*\"友人\" + 0.012*\"知人\" + 0.012*\"カウンター\" + 0.011*\"宴会\"')\n"
     ]
    },
    {
     "data": {
      "text/plain": [
       "()"
      ]
     },
     "execution_count": 74,
     "metadata": {},
     "output_type": "execute_result"
    }
   ],
   "source": [
    "show_inf_prediction(0)"
   ]
  },
  {
   "cell_type": "code",
   "execution_count": 75,
   "metadata": {},
   "outputs": [
    {
     "name": "stdout",
     "output_type": "stream",
     "text": [
      "name                                                                                                                                              marutaro\n",
      "text                Shinjiro Ono My official shop is in 2-12-3 Nezu Bunkyo-ku Japan✨🐶✨                             まるのお店は 根津駅徒歩1分にあるよ！ まるの通販サイトは👇をクリッククリック\n",
      "tokens                                                                           [ono, official, shop, is, in, nezu, bunkyo, japan, 徒歩, 通販サイト, クリック, クリック]\n",
      "tokens_dict_only                                                                                                                                      [徒歩]\n",
      "Name: 1, dtype: object\n",
      "\n",
      "   topic  probability\n",
      "0      0     0.604394\n",
      "1      2     0.133014\n",
      "2      3     0.131461\n",
      "3      1     0.131131\n",
      "most likely topics:  [0, 2, 3, 1]\n",
      "\n",
      "(0, '0.030*\"日本酒\" + 0.030*\"飲み放題\" + 0.027*\"焼酎\" + 0.026*\"宴会\" + 0.023*\"カクテル\" + 0.021*\"メニュー\" + 0.018*\"コース\" + 0.015*\"家族\" + 0.014*\"カウンター\" + 0.014*\"野菜\"')\n",
      "(2, '0.041*\"個室\" + 0.025*\"日本酒\" + 0.022*\"焼酎\" + 0.021*\"飲み放題\" + 0.019*\"宴会\" + 0.017*\"カクテル\" + 0.016*\"メニュー\" + 0.015*\"お祝い\" + 0.014*\"オシャレ\" + 0.014*\"サプライズ\"')\n",
      "(3, '0.019*\"日本酒\" + 0.018*\"焼酎\" + 0.015*\"家族\" + 0.014*\"カクテル\" + 0.013*\"子供\" + 0.013*\"飲み放題\" + 0.012*\"友人\" + 0.012*\"知人\" + 0.012*\"カウンター\" + 0.011*\"宴会\"')\n",
      "(1, '0.020*\"カクテル\" + 0.019*\"カウンター\" + 0.017*\"オシャレ\" + 0.015*\"家族\" + 0.015*\"子供\" + 0.015*\"野菜\" + 0.014*\"お祝い\" + 0.014*\"サプライズ\" + 0.012*\"ソファー\" + 0.011*\"メニュー\"')\n"
     ]
    },
    {
     "data": {
      "text/plain": [
       "()"
      ]
     },
     "execution_count": 75,
     "metadata": {},
     "output_type": "execute_result"
    }
   ],
   "source": [
    "show_inf_prediction(1)"
   ]
  },
  {
   "cell_type": "markdown",
   "metadata": {},
   "source": [
    "## 4. Calculate distance between each piece of text"
   ]
  },
  {
   "cell_type": "markdown",
   "metadata": {},
   "source": [
    "### tabelog topic probabilities"
   ]
  },
  {
   "cell_type": "code",
   "execution_count": 76,
   "metadata": {
    "collapsed": true
   },
   "outputs": [],
   "source": [
    "df_tabelog_topic_prob = pd.DataFrame(columns = range(4))\n",
    "\n",
    "for i in range(len(df_tabelog)):\n",
    "    list_probabilities = corpus_transformed[i]\n",
    "    dict_probabailites = {item[0]: item[1:] for item in list_probabilities}\n",
    "    df_probabilities = pd.DataFrame(dict_probabailites)\n",
    "    df_tabelog_topic_prob = pd.concat([df_tabelog_topic_prob, df_probabilities],\n",
    "                                     axis = 0)"
   ]
  },
  {
   "cell_type": "code",
   "execution_count": 77,
   "metadata": {
    "collapsed": true
   },
   "outputs": [],
   "source": [
    "df_tabelog_topic_prob.fillna(0, inplace = True)"
   ]
  },
  {
   "cell_type": "code",
   "execution_count": 78,
   "metadata": {},
   "outputs": [
    {
     "data": {
      "text/html": [
       "<div>\n",
       "<style scoped>\n",
       "    .dataframe tbody tr th:only-of-type {\n",
       "        vertical-align: middle;\n",
       "    }\n",
       "\n",
       "    .dataframe tbody tr th {\n",
       "        vertical-align: top;\n",
       "    }\n",
       "\n",
       "    .dataframe thead th {\n",
       "        text-align: right;\n",
       "    }\n",
       "</style>\n",
       "<table border=\"1\" class=\"dataframe\">\n",
       "  <thead>\n",
       "    <tr style=\"text-align: right;\">\n",
       "      <th></th>\n",
       "      <th>0</th>\n",
       "      <th>1</th>\n",
       "      <th>2</th>\n",
       "      <th>3</th>\n",
       "    </tr>\n",
       "  </thead>\n",
       "  <tbody>\n",
       "    <tr>\n",
       "      <th>0</th>\n",
       "      <td>0.139310</td>\n",
       "      <td>0.000000</td>\n",
       "      <td>0.000000</td>\n",
       "      <td>0.850293</td>\n",
       "    </tr>\n",
       "    <tr>\n",
       "      <th>0</th>\n",
       "      <td>0.485379</td>\n",
       "      <td>0.000000</td>\n",
       "      <td>0.000000</td>\n",
       "      <td>0.506265</td>\n",
       "    </tr>\n",
       "    <tr>\n",
       "      <th>0</th>\n",
       "      <td>0.121076</td>\n",
       "      <td>0.000000</td>\n",
       "      <td>0.529639</td>\n",
       "      <td>0.344658</td>\n",
       "    </tr>\n",
       "    <tr>\n",
       "      <th>0</th>\n",
       "      <td>0.000000</td>\n",
       "      <td>0.985167</td>\n",
       "      <td>0.000000</td>\n",
       "      <td>0.000000</td>\n",
       "    </tr>\n",
       "    <tr>\n",
       "      <th>0</th>\n",
       "      <td>0.988671</td>\n",
       "      <td>0.000000</td>\n",
       "      <td>0.000000</td>\n",
       "      <td>0.000000</td>\n",
       "    </tr>\n",
       "  </tbody>\n",
       "</table>\n",
       "</div>"
      ],
      "text/plain": [
       "          0         1         2         3\n",
       "0  0.139310  0.000000  0.000000  0.850293\n",
       "0  0.485379  0.000000  0.000000  0.506265\n",
       "0  0.121076  0.000000  0.529639  0.344658\n",
       "0  0.000000  0.985167  0.000000  0.000000\n",
       "0  0.988671  0.000000  0.000000  0.000000"
      ]
     },
     "execution_count": 78,
     "metadata": {},
     "output_type": "execute_result"
    }
   ],
   "source": [
    "df_tabelog_topic_prob.head()"
   ]
  },
  {
   "cell_type": "markdown",
   "metadata": {},
   "source": [
    "### inf topic probabilities"
   ]
  },
  {
   "cell_type": "code",
   "execution_count": 79,
   "metadata": {
    "collapsed": true
   },
   "outputs": [],
   "source": [
    "df_inf_topic_prob = pd.DataFrame(columns = range(4))\n",
    "\n",
    "for i in range(len(df_inf)):\n",
    "    list_probabilities = inf_corpus_transformed[i]\n",
    "    dict_probabailites = {item[0]: item[1:] for item in list_probabilities}\n",
    "    df_probabilities = pd.DataFrame(dict_probabailites)\n",
    "    df_inf_topic_prob = pd.concat([df_inf_topic_prob, df_probabilities],\n",
    "                                     axis = 0)"
   ]
  },
  {
   "cell_type": "code",
   "execution_count": 80,
   "metadata": {},
   "outputs": [
    {
     "data": {
      "text/html": [
       "<div>\n",
       "<style scoped>\n",
       "    .dataframe tbody tr th:only-of-type {\n",
       "        vertical-align: middle;\n",
       "    }\n",
       "\n",
       "    .dataframe tbody tr th {\n",
       "        vertical-align: top;\n",
       "    }\n",
       "\n",
       "    .dataframe thead th {\n",
       "        text-align: right;\n",
       "    }\n",
       "</style>\n",
       "<table border=\"1\" class=\"dataframe\">\n",
       "  <thead>\n",
       "    <tr style=\"text-align: right;\">\n",
       "      <th></th>\n",
       "      <th>0</th>\n",
       "      <th>1</th>\n",
       "      <th>2</th>\n",
       "      <th>3</th>\n",
       "    </tr>\n",
       "  </thead>\n",
       "  <tbody>\n",
       "    <tr>\n",
       "      <th>0</th>\n",
       "      <td>0.184503</td>\n",
       "      <td>0.667091</td>\n",
       "      <td>0.026385</td>\n",
       "      <td>0.122020</td>\n",
       "    </tr>\n",
       "    <tr>\n",
       "      <th>0</th>\n",
       "      <td>0.604554</td>\n",
       "      <td>0.131102</td>\n",
       "      <td>0.132899</td>\n",
       "      <td>0.131445</td>\n",
       "    </tr>\n",
       "  </tbody>\n",
       "</table>\n",
       "</div>"
      ],
      "text/plain": [
       "          0         1         2         3\n",
       "0  0.184503  0.667091  0.026385  0.122020\n",
       "0  0.604554  0.131102  0.132899  0.131445"
      ]
     },
     "execution_count": 80,
     "metadata": {},
     "output_type": "execute_result"
    }
   ],
   "source": [
    "df_inf_topic_prob"
   ]
  },
  {
   "cell_type": "markdown",
   "metadata": {
    "collapsed": true
   },
   "source": [
    "### find Jensen-Shannon distance"
   ]
  },
  {
   "cell_type": "code",
   "execution_count": 81,
   "metadata": {
    "collapsed": true
   },
   "outputs": [],
   "source": [
    "# e.g. tabelog entry 0, inf 0\n",
    "tabelog_inf_distance = distance.jensenshannon(list(df_tabelog_topic_prob.iloc[0]), list(df_inf_topic_prob.iloc[0]))"
   ]
  },
  {
   "cell_type": "code",
   "execution_count": 82,
   "metadata": {},
   "outputs": [
    {
     "data": {
      "text/plain": [
       "0.6305996647815045"
      ]
     },
     "execution_count": 82,
     "metadata": {},
     "output_type": "execute_result"
    }
   ],
   "source": [
    "tabelog_inf_distance"
   ]
  },
  {
   "cell_type": "code",
   "execution_count": null,
   "metadata": {
    "collapsed": true
   },
   "outputs": [],
   "source": []
  },
  {
   "cell_type": "markdown",
   "metadata": {
    "collapsed": true
   },
   "source": [
    "# Part 2. Clustering\n",
    "1. Get average text vectors using pre-trained model vectors\n",
    "2. kMeans clustering"
   ]
  },
  {
   "cell_type": "code",
   "execution_count": 106,
   "metadata": {
    "collapsed": true
   },
   "outputs": [],
   "source": [
    "from sklearn.cluster import KMeans\n",
    "from sklearn.manifold import TSNE\n",
    "from sklearn.metrics.pairwise import cosine_similarity"
   ]
  },
  {
   "cell_type": "markdown",
   "metadata": {},
   "source": [
    "## 1. Get text vectors"
   ]
  },
  {
   "cell_type": "markdown",
   "metadata": {},
   "source": [
    "- to get pretrained word vectors (English)\n",
    "    - https://radimrehurek.com/gensim/auto_examples/howtos/run_downloader_api.html"
   ]
  },
  {
   "cell_type": "code",
   "execution_count": 84,
   "metadata": {
    "collapsed": true
   },
   "outputs": [],
   "source": [
    "import gensim.downloader as api"
   ]
  },
  {
   "cell_type": "code",
   "execution_count": 85,
   "metadata": {
    "collapsed": true
   },
   "outputs": [],
   "source": [
    "gensim_corpus = api.load('text8')"
   ]
  },
  {
   "cell_type": "code",
   "execution_count": 86,
   "metadata": {},
   "outputs": [
    {
     "name": "stdout",
     "output_type": "stream",
     "text": [
      "class Dataset(object):\n",
      "    def __init__(self, fn):\n",
      "        self.fn = fn\n",
      "\n",
      "    def __iter__(self):\n",
      "        corpus = Text8Corpus(self.fn)\n",
      "        for doc in corpus:\n",
      "            yield doc\n",
      "\n"
     ]
    }
   ],
   "source": [
    "import inspect\n",
    "print(inspect.getsource(gensim_corpus.__class__))"
   ]
  },
  {
   "cell_type": "code",
   "execution_count": 87,
   "metadata": {
    "collapsed": true
   },
   "outputs": [],
   "source": [
    "from gensim.models.word2vec import Word2Vec\n",
    "model = Word2Vec(gensim_corpus)"
   ]
  },
  {
   "cell_type": "code",
   "execution_count": 88,
   "metadata": {},
   "outputs": [
    {
     "name": "stdout",
     "output_type": "stream",
     "text": [
      "[('trees', 0.703728199005127), ('leaf', 0.7031598091125488), ('bark', 0.6445038318634033), ('flower', 0.6439023613929749), ('fruit', 0.6172493696212769), ('bird', 0.5987201929092407), ('avl', 0.5986129641532898), ('vine', 0.58962082862854), ('leaves', 0.5853739976882935), ('garden', 0.5781736373901367)]\n"
     ]
    }
   ],
   "source": [
    "print(model.wv.most_similar('tree'))"
   ]
  },
  {
   "cell_type": "markdown",
   "metadata": {},
   "source": [
    "- Japanese pretrained models, word vectors\n",
    "    - https://qiita.com/Hironsan/items/8f7d35f0a36e0f99752c\n",
    "    - https://qiita.com/Hironsan/items/513b9f93752ecee9e670\n",
    "        - download Word vectors (NEologd)"
   ]
  },
  {
   "cell_type": "code",
   "execution_count": 89,
   "metadata": {
    "collapsed": true
   },
   "outputs": [],
   "source": [
    "local_path = '/Users/carmen/Downloads/'\n",
    "model = gensim.models.KeyedVectors.load_word2vec_format(local_path + 'model.vec', binary = False)"
   ]
  },
  {
   "cell_type": "code",
   "execution_count": 90,
   "metadata": {},
   "outputs": [
    {
     "data": {
      "text/plain": [
       "[('韓国人', 0.7338134050369263),\n",
       " ('中国人', 0.717720627784729),\n",
       " ('アメリカ人', 0.6725355386734009),\n",
       " ('日本人女性', 0.6723321676254272),\n",
       " ('外国人', 0.642046332359314),\n",
       " ('フィリピン人', 0.6264426708221436),\n",
       " ('欧米人', 0.621786892414093),\n",
       " ('アジア人', 0.6192302703857422),\n",
       " ('台湾人', 0.6034690737724304),\n",
       " ('日系人', 0.5906497240066528)]"
      ]
     },
     "execution_count": 90,
     "metadata": {},
     "output_type": "execute_result"
    }
   ],
   "source": [
    "# testing\n",
    "model.most_similar('日本人')"
   ]
  },
  {
   "cell_type": "code",
   "execution_count": 91,
   "metadata": {
    "collapsed": true
   },
   "outputs": [],
   "source": [
    "def get_average_vector_from_tokens(list_tokens):\n",
    "    list_vectors = []\n",
    "    \n",
    "    for i in list_tokens:\n",
    "        try:\n",
    "            vector = model[i]\n",
    "            list_vectors.append(vector)\n",
    "        except:\n",
    "            continue\n",
    "            \n",
    "    average_vector = np.mean(list_vectors, axis = 0)\n",
    "    \n",
    "    return average_vector"
   ]
  },
  {
   "cell_type": "code",
   "execution_count": 92,
   "metadata": {
    "collapsed": true
   },
   "outputs": [],
   "source": [
    "df_tabelog['tabelog_vector'] = df_tabelog['tokens'].apply(lambda x: get_average_vector_from_tokens(x))"
   ]
  },
  {
   "cell_type": "markdown",
   "metadata": {},
   "source": [
    "## 2. kMeans clustering"
   ]
  },
  {
   "cell_type": "code",
   "execution_count": 95,
   "metadata": {
    "collapsed": true
   },
   "outputs": [],
   "source": [
    "modelkmeans = KMeans(n_clusters = 4, init = 'k-means++', n_init = 100)"
   ]
  },
  {
   "cell_type": "code",
   "execution_count": 96,
   "metadata": {},
   "outputs": [
    {
     "data": {
      "text/plain": [
       "KMeans(n_clusters=4, n_init=100)"
      ]
     },
     "execution_count": 96,
     "metadata": {},
     "output_type": "execute_result"
    }
   ],
   "source": [
    "modelkmeans.fit(list(df_tabelog['tabelog_vector']))"
   ]
  },
  {
   "cell_type": "code",
   "execution_count": 98,
   "metadata": {
    "collapsed": true
   },
   "outputs": [],
   "source": [
    "df_tabelog['kmeans_cluster'] = modelkmeans.predict(list(df_tabelog['tabelog_vector']))"
   ]
  },
  {
   "cell_type": "code",
   "execution_count": 105,
   "metadata": {},
   "outputs": [
    {
     "data": {
      "text/html": [
       "<div>\n",
       "<style scoped>\n",
       "    .dataframe tbody tr th:only-of-type {\n",
       "        vertical-align: middle;\n",
       "    }\n",
       "\n",
       "    .dataframe tbody tr th {\n",
       "        vertical-align: top;\n",
       "    }\n",
       "\n",
       "    .dataframe thead th {\n",
       "        text-align: right;\n",
       "    }\n",
       "</style>\n",
       "<table border=\"1\" class=\"dataframe\">\n",
       "  <thead>\n",
       "    <tr style=\"text-align: right;\">\n",
       "      <th></th>\n",
       "      <th>tabelog_text</th>\n",
       "      <th>tokens</th>\n",
       "      <th>tabelog_vector</th>\n",
       "      <th>kmeans_cluster</th>\n",
       "    </tr>\n",
       "  </thead>\n",
       "  <tbody>\n",
       "    <tr>\n",
       "      <th>0</th>\n",
       "      <td>日本橋駅2分！チーズダッカルビなど本場韓国料理をリーズナブルに◎掘り炬燵で小～大人数宴会♪    &lt;p class=\"pr-comment__body js-pr-comment-body\"&gt; &lt;span class=\"pr-comment__option\"&gt; &lt;span class=\"pr-comment__first\"&gt;日本橋駅徒歩2分・東京駅徒歩3分の駅近で、仕事帰りのサラリー...</td>\n",
       "      <td>[チーズダッカルビ, 本場, 韓国料理, リーズナブル, 炬燵, 大人, 宴会, 徒歩, 徒歩, 仕事, サラリーマン, ol, 掘りごたつ, 個室, 完備, 隠れ家, 居酒屋, 人気, チーズダッカルビ, サムゲタン, チヂミ, トッポギ, プルコギ, 本場, 韓国料理, リーズナブル, 提供, マッコリ, チャミスル, 料理, 相性, 良い, ドリンク, 多様, 用意, コース, 宴会...</td>\n",
       "      <td>[-0.038046274, -0.18356274, -0.1130571, -0.029704595, 0.19861, -0.09180608, 0.16261463, 0.012332688, -0.031376418, -0.20170623, -0.21369816, -0.052614465, -0.13592677, -0.36274076, 0.06320147, -0....</td>\n",
       "      <td>2</td>\n",
       "    </tr>\n",
       "    <tr>\n",
       "      <th>1</th>\n",
       "      <td>三越前駅直結！イタリアンレストラン品質認証マーク取得！極薄ミラノピッツァをお楽しみください    &lt;p class=\"pr-comment__body js-pr-comment-body\"&gt; &lt;span class=\"pr-comment__option\"&gt; &lt;span class=\"pr-comment__first\"&gt;幹事様、４名様以下にテーブルを分ける、領収書を分けるなどのご...</td>\n",
       "      <td>[直結, イタリアン, レストラン, 品質, 認証, マーク, 取得, ピッツァ, 幹事, テーブル, 領収書, 要望, 対応, 直結, コレド室町, アクセス, 良好, イタリア製, ピザ, 芳ばしく, ピッツァ, 厳選, ワイン, 楽しみ, 女子会, 男子会, 記念日, 誕生日, オススメ, 大人, 各種, パーティー, milano, corso, 飲み放題, 好評, 個室, 予約,...</td>\n",
       "      <td>[-0.04950528, -0.094951995, -0.17631327, 0.015523951, 0.22024715, -0.121522255, 0.17879783, -0.047723148, 0.08931492, -0.15983596, -0.13351385, -0.016696675, -0.1449829, -0.26637095, 0.026721226, ...</td>\n",
       "      <td>1</td>\n",
       "    </tr>\n",
       "  </tbody>\n",
       "</table>\n",
       "</div>"
      ],
      "text/plain": [
       "                                                                                                                                                                                              tabelog_text  \\\n",
       "0     日本橋駅2分！チーズダッカルビなど本場韓国料理をリーズナブルに◎掘り炬燵で小～大人数宴会♪    <p class=\"pr-comment__body js-pr-comment-body\"> <span class=\"pr-comment__option\"> <span class=\"pr-comment__first\">日本橋駅徒歩2分・東京駅徒歩3分の駅近で、仕事帰りのサラリー...   \n",
       "1     三越前駅直結！イタリアンレストラン品質認証マーク取得！極薄ミラノピッツァをお楽しみください    <p class=\"pr-comment__body js-pr-comment-body\"> <span class=\"pr-comment__option\"> <span class=\"pr-comment__first\">幹事様、４名様以下にテーブルを分ける、領収書を分けるなどのご...   \n",
       "\n",
       "                                                                                                                                                                                                    tokens  \\\n",
       "0  [チーズダッカルビ, 本場, 韓国料理, リーズナブル, 炬燵, 大人, 宴会, 徒歩, 徒歩, 仕事, サラリーマン, ol, 掘りごたつ, 個室, 完備, 隠れ家, 居酒屋, 人気, チーズダッカルビ, サムゲタン, チヂミ, トッポギ, プルコギ, 本場, 韓国料理, リーズナブル, 提供, マッコリ, チャミスル, 料理, 相性, 良い, ドリンク, 多様, 用意, コース, 宴会...   \n",
       "1  [直結, イタリアン, レストラン, 品質, 認証, マーク, 取得, ピッツァ, 幹事, テーブル, 領収書, 要望, 対応, 直結, コレド室町, アクセス, 良好, イタリア製, ピザ, 芳ばしく, ピッツァ, 厳選, ワイン, 楽しみ, 女子会, 男子会, 記念日, 誕生日, オススメ, 大人, 各種, パーティー, milano, corso, 飲み放題, 好評, 個室, 予約,...   \n",
       "\n",
       "                                                                                                                                                                                            tabelog_vector  \\\n",
       "0  [-0.038046274, -0.18356274, -0.1130571, -0.029704595, 0.19861, -0.09180608, 0.16261463, 0.012332688, -0.031376418, -0.20170623, -0.21369816, -0.052614465, -0.13592677, -0.36274076, 0.06320147, -0....   \n",
       "1  [-0.04950528, -0.094951995, -0.17631327, 0.015523951, 0.22024715, -0.121522255, 0.17879783, -0.047723148, 0.08931492, -0.15983596, -0.13351385, -0.016696675, -0.1449829, -0.26637095, 0.026721226, ...   \n",
       "\n",
       "   kmeans_cluster  \n",
       "0               2  \n",
       "1               1  "
      ]
     },
     "execution_count": 105,
     "metadata": {},
     "output_type": "execute_result"
    }
   ],
   "source": [
    "df_tabelog.head(2)"
   ]
  },
  {
   "cell_type": "markdown",
   "metadata": {
    "collapsed": true
   },
   "source": [
    "### visualize using TSNE"
   ]
  },
  {
   "cell_type": "code",
   "execution_count": 107,
   "metadata": {
    "collapsed": true
   },
   "outputs": [],
   "source": [
    "tsne = TSNE(n_components = 2,\n",
    "           init = 'random',\n",
    "           random_state = 10,\n",
    "           perplexity = 10)"
   ]
  },
  {
   "cell_type": "code",
   "execution_count": null,
   "metadata": {
    "collapsed": true
   },
   "outputs": [],
   "source": [
    "embedding = tsne.fit_transform(list(df_tabelog['tabelog_vector']))\n",
    "\n",
    "df_embedding = pd.DataFrame(embedding)\n",
    "df_embedding.rename(columns = {0:'x',\n",
    "                              1:'y'},\n",
    "                   inplace = True)"
   ]
  },
  {
   "cell_type": "code",
   "execution_count": 109,
   "metadata": {},
   "outputs": [
    {
     "data": {
      "text/html": [
       "<div>\n",
       "<style scoped>\n",
       "    .dataframe tbody tr th:only-of-type {\n",
       "        vertical-align: middle;\n",
       "    }\n",
       "\n",
       "    .dataframe tbody tr th {\n",
       "        vertical-align: top;\n",
       "    }\n",
       "\n",
       "    .dataframe thead th {\n",
       "        text-align: right;\n",
       "    }\n",
       "</style>\n",
       "<table border=\"1\" class=\"dataframe\">\n",
       "  <thead>\n",
       "    <tr style=\"text-align: right;\">\n",
       "      <th></th>\n",
       "      <th>x</th>\n",
       "      <th>y</th>\n",
       "    </tr>\n",
       "  </thead>\n",
       "  <tbody>\n",
       "    <tr>\n",
       "      <th>0</th>\n",
       "      <td>-10.350980</td>\n",
       "      <td>11.260773</td>\n",
       "    </tr>\n",
       "    <tr>\n",
       "      <th>1</th>\n",
       "      <td>-37.227612</td>\n",
       "      <td>-21.457094</td>\n",
       "    </tr>\n",
       "    <tr>\n",
       "      <th>2</th>\n",
       "      <td>-31.579727</td>\n",
       "      <td>15.445025</td>\n",
       "    </tr>\n",
       "    <tr>\n",
       "      <th>3</th>\n",
       "      <td>9.190306</td>\n",
       "      <td>-48.169094</td>\n",
       "    </tr>\n",
       "    <tr>\n",
       "      <th>4</th>\n",
       "      <td>1.560140</td>\n",
       "      <td>36.927738</td>\n",
       "    </tr>\n",
       "  </tbody>\n",
       "</table>\n",
       "</div>"
      ],
      "text/plain": [
       "           x          y\n",
       "0 -10.350980  11.260773\n",
       "1 -37.227612 -21.457094\n",
       "2 -31.579727  15.445025\n",
       "3   9.190306 -48.169094\n",
       "4   1.560140  36.927738"
      ]
     },
     "execution_count": 109,
     "metadata": {},
     "output_type": "execute_result"
    }
   ],
   "source": [
    "df_embedding.head()"
   ]
  },
  {
   "cell_type": "code",
   "execution_count": 110,
   "metadata": {
    "collapsed": true
   },
   "outputs": [],
   "source": [
    "df_tabelog = pd.concat([df_tabelog, df_embedding],\n",
    "                      axis = 1)"
   ]
  },
  {
   "cell_type": "code",
   "execution_count": 112,
   "metadata": {},
   "outputs": [
    {
     "data": {
      "text/html": [
       "<div>\n",
       "<style scoped>\n",
       "    .dataframe tbody tr th:only-of-type {\n",
       "        vertical-align: middle;\n",
       "    }\n",
       "\n",
       "    .dataframe tbody tr th {\n",
       "        vertical-align: top;\n",
       "    }\n",
       "\n",
       "    .dataframe thead th {\n",
       "        text-align: right;\n",
       "    }\n",
       "</style>\n",
       "<table border=\"1\" class=\"dataframe\">\n",
       "  <thead>\n",
       "    <tr style=\"text-align: right;\">\n",
       "      <th></th>\n",
       "      <th>tabelog_text</th>\n",
       "      <th>tokens</th>\n",
       "      <th>tabelog_vector</th>\n",
       "      <th>kmeans_cluster</th>\n",
       "      <th>x</th>\n",
       "      <th>y</th>\n",
       "    </tr>\n",
       "  </thead>\n",
       "  <tbody>\n",
       "    <tr>\n",
       "      <th>0</th>\n",
       "      <td>日本橋駅2分！チーズダッカルビなど本場韓国料理をリーズナブルに◎掘り炬燵で小～大人数宴会♪    &lt;p class=\"pr-comment__body js-pr-comment-body\"&gt; &lt;span class=\"pr-comment__option\"&gt; &lt;span class=\"pr-comment__first\"&gt;日本橋駅徒歩2分・東京駅徒歩3分の駅近で、仕事帰りのサラリー...</td>\n",
       "      <td>[チーズダッカルビ, 本場, 韓国料理, リーズナブル, 炬燵, 大人, 宴会, 徒歩, 徒歩, 仕事, サラリーマン, ol, 掘りごたつ, 個室, 完備, 隠れ家, 居酒屋, 人気, チーズダッカルビ, サムゲタン, チヂミ, トッポギ, プルコギ, 本場, 韓国料理, リーズナブル, 提供, マッコリ, チャミスル, 料理, 相性, 良い, ドリンク, 多様, 用意, コース, 宴会...</td>\n",
       "      <td>[-0.038046274, -0.18356274, -0.1130571, -0.029704595, 0.19861, -0.09180608, 0.16261463, 0.012332688, -0.031376418, -0.20170623, -0.21369816, -0.052614465, -0.13592677, -0.36274076, 0.06320147, -0....</td>\n",
       "      <td>2</td>\n",
       "      <td>-10.350980</td>\n",
       "      <td>11.260773</td>\n",
       "    </tr>\n",
       "    <tr>\n",
       "      <th>1</th>\n",
       "      <td>三越前駅直結！イタリアンレストラン品質認証マーク取得！極薄ミラノピッツァをお楽しみください    &lt;p class=\"pr-comment__body js-pr-comment-body\"&gt; &lt;span class=\"pr-comment__option\"&gt; &lt;span class=\"pr-comment__first\"&gt;幹事様、４名様以下にテーブルを分ける、領収書を分けるなどのご...</td>\n",
       "      <td>[直結, イタリアン, レストラン, 品質, 認証, マーク, 取得, ピッツァ, 幹事, テーブル, 領収書, 要望, 対応, 直結, コレド室町, アクセス, 良好, イタリア製, ピザ, 芳ばしく, ピッツァ, 厳選, ワイン, 楽しみ, 女子会, 男子会, 記念日, 誕生日, オススメ, 大人, 各種, パーティー, milano, corso, 飲み放題, 好評, 個室, 予約,...</td>\n",
       "      <td>[-0.04950528, -0.094951995, -0.17631327, 0.015523951, 0.22024715, -0.121522255, 0.17879783, -0.047723148, 0.08931492, -0.15983596, -0.13351385, -0.016696675, -0.1449829, -0.26637095, 0.026721226, ...</td>\n",
       "      <td>1</td>\n",
       "      <td>-37.227612</td>\n",
       "      <td>-21.457094</td>\n",
       "    </tr>\n",
       "  </tbody>\n",
       "</table>\n",
       "</div>"
      ],
      "text/plain": [
       "                                                                                                                                                                                              tabelog_text  \\\n",
       "0     日本橋駅2分！チーズダッカルビなど本場韓国料理をリーズナブルに◎掘り炬燵で小～大人数宴会♪    <p class=\"pr-comment__body js-pr-comment-body\"> <span class=\"pr-comment__option\"> <span class=\"pr-comment__first\">日本橋駅徒歩2分・東京駅徒歩3分の駅近で、仕事帰りのサラリー...   \n",
       "1     三越前駅直結！イタリアンレストラン品質認証マーク取得！極薄ミラノピッツァをお楽しみください    <p class=\"pr-comment__body js-pr-comment-body\"> <span class=\"pr-comment__option\"> <span class=\"pr-comment__first\">幹事様、４名様以下にテーブルを分ける、領収書を分けるなどのご...   \n",
       "\n",
       "                                                                                                                                                                                                    tokens  \\\n",
       "0  [チーズダッカルビ, 本場, 韓国料理, リーズナブル, 炬燵, 大人, 宴会, 徒歩, 徒歩, 仕事, サラリーマン, ol, 掘りごたつ, 個室, 完備, 隠れ家, 居酒屋, 人気, チーズダッカルビ, サムゲタン, チヂミ, トッポギ, プルコギ, 本場, 韓国料理, リーズナブル, 提供, マッコリ, チャミスル, 料理, 相性, 良い, ドリンク, 多様, 用意, コース, 宴会...   \n",
       "1  [直結, イタリアン, レストラン, 品質, 認証, マーク, 取得, ピッツァ, 幹事, テーブル, 領収書, 要望, 対応, 直結, コレド室町, アクセス, 良好, イタリア製, ピザ, 芳ばしく, ピッツァ, 厳選, ワイン, 楽しみ, 女子会, 男子会, 記念日, 誕生日, オススメ, 大人, 各種, パーティー, milano, corso, 飲み放題, 好評, 個室, 予約,...   \n",
       "\n",
       "                                                                                                                                                                                            tabelog_vector  \\\n",
       "0  [-0.038046274, -0.18356274, -0.1130571, -0.029704595, 0.19861, -0.09180608, 0.16261463, 0.012332688, -0.031376418, -0.20170623, -0.21369816, -0.052614465, -0.13592677, -0.36274076, 0.06320147, -0....   \n",
       "1  [-0.04950528, -0.094951995, -0.17631327, 0.015523951, 0.22024715, -0.121522255, 0.17879783, -0.047723148, 0.08931492, -0.15983596, -0.13351385, -0.016696675, -0.1449829, -0.26637095, 0.026721226, ...   \n",
       "\n",
       "   kmeans_cluster          x          y  \n",
       "0               2 -10.350980  11.260773  \n",
       "1               1 -37.227612 -21.457094  "
      ]
     },
     "execution_count": 112,
     "metadata": {},
     "output_type": "execute_result"
    }
   ],
   "source": [
    "df_tabelog.head(2)"
   ]
  },
  {
   "cell_type": "code",
   "execution_count": 113,
   "metadata": {},
   "outputs": [
    {
     "name": "stderr",
     "output_type": "stream",
     "text": [
      "WARNING:matplotlib.font_manager:findfont: Font family ['IPAGothic'] not found. Falling back to DejaVu Sans.\n"
     ]
    },
    {
     "data": {
      "image/png": "[encoded data removed]",
      "text/plain": [
       "<Figure size 576x576 with 1 Axes>"
      ]
     },
     "metadata": {},
     "output_type": "display_data"
    }
   ],
   "source": [
    "plt.figure(figsize = (8, 8))\n",
    "sns.scatterplot(df_tabelog['x'],\n",
    "               df_tabelog['y'],\n",
    "               hue = df_tabelog['kmeans_cluster'],\n",
    "               legend = 'full',\n",
    "               palette = 'Accent')\n",
    "plt.show()"
   ]
  },
  {
   "cell_type": "code",
   "execution_count": null,
   "metadata": {
    "collapsed": true
   },
   "outputs": [],
   "source": []
  },
  {
   "cell_type": "code",
   "execution_count": null,
   "metadata": {
    "collapsed": true
   },
   "outputs": [],
   "source": []
  },
  {
   "cell_type": "code",
   "execution_count": null,
   "metadata": {
    "collapsed": true
   },
   "outputs": [],
   "source": []
  },
  {
   "cell_type": "code",
   "execution_count": null,
   "metadata": {
    "collapsed": true
   },
   "outputs": [],
   "source": []
  },
  {
   "cell_type": "code",
   "execution_count": null,
   "metadata": {
    "collapsed": true
   },
   "outputs": [],
   "source": []
  },
  {
   "cell_type": "code",
   "execution_count": null,
   "metadata": {
    "collapsed": true
   },
   "outputs": [],
   "source": []
  },
  {
   "cell_type": "code",
   "execution_count": null,
   "metadata": {
    "collapsed": true
   },
   "outputs": [],
   "source": []
  },
  {
   "cell_type": "code",
   "execution_count": null,
   "metadata": {
    "collapsed": true
   },
   "outputs": [],
   "source": []
  },
  {
   "cell_type": "code",
   "execution_count": null,
   "metadata": {
    "collapsed": true
   },
   "outputs": [],
   "source": []
  },
  {
   "cell_type": "code",
   "execution_count": null,
   "metadata": {
    "collapsed": true
   },
   "outputs": [],
   "source": []
  }
 ],
 "metadata": {
  "kernelspec": {
   "display_name": "streamlit",
   "language": "python",
   "name": "streamlit"
  },
  "language_info": {
   "codemirror_mode": {
    "name": "ipython",
    "version": 3
   },
   "file_extension": ".py",
   "mimetype": "text/x-python",
   "name": "python",
   "nbconvert_exporter": "python",
   "pygments_lexer": "ipython3",
   "version": "3.11.5"
  }
 },
 "nbformat": 4,
 "nbformat_minor": 2
}
