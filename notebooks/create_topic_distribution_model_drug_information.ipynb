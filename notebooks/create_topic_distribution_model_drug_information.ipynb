{
 "cells": [
  {
   "cell_type": "markdown",
   "metadata": {},
   "source": [
    "# Topic Estimation Steps:\n",
    "\n",
    "\n",
    "1. Text preprocessing and tokenization\n",
    "\n",
    "2. Train topic estimation model\n",
    "    - Make document-term matrix\n",
    "        - input: tokens \n",
    "        - tool: CountVectorizer\n",
    "    - Make topic distribution matrix\n",
    "        - input:\n",
    "            i) document-term matrix -> term-document matrix -> corpus\n",
    "            ii) dictionary (from gensim, Not pandas dict)\n",
    "        - tool: Latent Dirichlet Allocation\n",
    "    - Evaluate coherence\n",
    "3. Visualization model\n",
    "    - tool: pyLDAvis\n",
    "    - also, each piece of text is expressed in terms of a list of topics, and the probability for each topic\n"
   ]
  },
  {
   "cell_type": "markdown",
   "metadata": {},
   "source": [
    "# Import libraries"
   ]
  },
  {
   "cell_type": "code",
   "execution_count": 1,
   "metadata": {},
   "outputs": [],
   "source": [
    "import pandas as pd\n",
    "import numpy as np\n",
    "import matplotlib.pyplot as plt\n",
    "from collections import Counter\n",
    "import time\n",
    "\n",
    "from sklearn.feature_extraction.text import CountVectorizer\n",
    "from nltk.tokenize import RegexpTokenizer\n",
    "from nltk.corpus import wordnet \n",
    "from nltk.stem.wordnet import WordNetLemmatizer\n",
    "from nltk.corpus import stopwords\n",
    "\n",
    "import gensim\n",
    "from gensim import corpora\n",
    "from gensim import matutils, models\n",
    "from gensim.models import CoherenceModel\n",
    "\n",
    "import pyLDAvis\n",
    "import pyLDAvis.gensim_models\n"
   ]
  },
  {
   "cell_type": "code",
   "execution_count": 3,
   "metadata": {},
   "outputs": [
    {
     "name": "stdout",
     "output_type": "stream",
     "text": [
      "/Users/carmen/nltk_data/corpora/wordnet.zip\n"
     ]
    }
   ],
   "source": [
    "# in order to use NLTK's lemmatizer, need to download library\n",
    "\n",
    "import nltk\n",
    "# nltk.download('wordnet')\n",
    "\n",
    "# to see where it is downloaded to\n",
    "print(nltk.find('corpora/wordnet.zip'))"
   ]
  },
  {
   "cell_type": "code",
   "execution_count": null,
   "metadata": {},
   "outputs": [],
   "source": []
  },
  {
   "cell_type": "markdown",
   "metadata": {
    "collapsed": true
   },
   "source": [
    "# Text to be grouped into different topics"
   ]
  },
  {
   "cell_type": "code",
   "execution_count": 4,
   "metadata": {},
   "outputs": [],
   "source": [
    "pd.set_option('display.max_colwidth', None)"
   ]
  },
  {
   "cell_type": "code",
   "execution_count": 7,
   "metadata": {},
   "outputs": [],
   "source": [
    "df = pd.read_excel('../data/drug_names_kaggle_TASK.xlsx',\n",
    "                  header = 1,\n",
    "                  usecols = [1])"
   ]
  },
  {
   "cell_type": "code",
   "execution_count": 8,
   "metadata": {},
   "outputs": [
    {
     "data": {
      "text/html": [
       "<div>\n",
       "<style scoped>\n",
       "    .dataframe tbody tr th:only-of-type {\n",
       "        vertical-align: middle;\n",
       "    }\n",
       "\n",
       "    .dataframe tbody tr th {\n",
       "        vertical-align: top;\n",
       "    }\n",
       "\n",
       "    .dataframe thead th {\n",
       "        text-align: right;\n",
       "    }\n",
       "</style>\n",
       "<table border=\"1\" class=\"dataframe\">\n",
       "  <thead>\n",
       "    <tr style=\"text-align: right;\">\n",
       "      <th></th>\n",
       "      <th>Introduction</th>\n",
       "    </tr>\n",
       "  </thead>\n",
       "  <tbody>\n",
       "    <tr>\n",
       "      <th>0</th>\n",
       "      <td>Acnesol Gel is an antibiotic that fights bacteria. It is used to treat acne, which appears as spots or pimples on your face, chest or back. This medicine works by attacking the bacteria that cause these pimples.Acnesol Gel is only meant for external use and should be used as advised by your doctor. You should normally wash and dry the affected area before applying a thin layer of the medicine. It should not be applied to broken or damaged skin. Avoid any contact with your eyes, nose, or mouth. Rinse it off with water if you accidentally get it in these areas. It may take several weeks for your symptoms to improve, but you should keep using this medicine regularly. Do not stop using it as soon as your acne starts to get better. Ask your doctor when you should stop treatment.Common side effects like minor itching, burning, or redness of the skin and oily skin may be seen in some people. These are usually temporary and resolve on their own. Consult your doctor if they bother you or do not go away.It is a safe medicine, but you should inform your doctor if you have any problems with your bowels (intestines). Also, inform the doctor if you have ever had bloody diarrhea caused by taking antibiotics or if you are using any other medicines to treat skin conditions. Consult your doctor about using this medicine if you are pregnant or breastfeeding.</td>\n",
       "    </tr>\n",
       "    <tr>\n",
       "      <th>1</th>\n",
       "      <td>Ambrodil Syrup is used for treating various respiratory tract disorders associated with excessive mucus. It works by thinning and loosens mucus in the nose, windpipe and lungs and make it easier to cough out.Ambrodil Syrup should be taken with food. For better results, it is suggested to take it at the same time every day.  The dose and how often you take it depends on what you are taking it for. Your doctor will decide how much you need to improve your symptoms.  It is advised not to use it for more than 14 days without doctor consultation.The most common side effects of this medicine include vomiting, nausea, and stomach upset. Talk to your doctor if you are worried about side effects or they would not go away. Generally, it is advised not to take alcohol while on treatment.Before taking this medicine, tell your doctor if you have liver or kidney disease or if you have stomach problems. Your doctor should also know about all other medicines you are taking as many of these may make this medicine less effective or change the way it works. You must take doctor's advice before using this medicine if you are pregnant or breastfeeding.</td>\n",
       "    </tr>\n",
       "  </tbody>\n",
       "</table>\n",
       "</div>"
      ],
      "text/plain": [
       "                                                                                                                                                                                                                                                                                                                                                                                                                                                                                                                                                                                                                                                                                                                                                                                                                                                                                                                                                                                                                                                                                                                                                                                                                                                                                                                                                                                                        Introduction\n",
       "0  Acnesol Gel is an antibiotic that fights bacteria. It is used to treat acne, which appears as spots or pimples on your face, chest or back. This medicine works by attacking the bacteria that cause these pimples.Acnesol Gel is only meant for external use and should be used as advised by your doctor. You should normally wash and dry the affected area before applying a thin layer of the medicine. It should not be applied to broken or damaged skin. Avoid any contact with your eyes, nose, or mouth. Rinse it off with water if you accidentally get it in these areas. It may take several weeks for your symptoms to improve, but you should keep using this medicine regularly. Do not stop using it as soon as your acne starts to get better. Ask your doctor when you should stop treatment.Common side effects like minor itching, burning, or redness of the skin and oily skin may be seen in some people. These are usually temporary and resolve on their own. Consult your doctor if they bother you or do not go away.It is a safe medicine, but you should inform your doctor if you have any problems with your bowels (intestines). Also, inform the doctor if you have ever had bloody diarrhea caused by taking antibiotics or if you are using any other medicines to treat skin conditions. Consult your doctor about using this medicine if you are pregnant or breastfeeding.\n",
       "1                                                                                                                                                                                                                      Ambrodil Syrup is used for treating various respiratory tract disorders associated with excessive mucus. It works by thinning and loosens mucus in the nose, windpipe and lungs and make it easier to cough out.Ambrodil Syrup should be taken with food. For better results, it is suggested to take it at the same time every day.  The dose and how often you take it depends on what you are taking it for. Your doctor will decide how much you need to improve your symptoms.  It is advised not to use it for more than 14 days without doctor consultation.The most common side effects of this medicine include vomiting, nausea, and stomach upset. Talk to your doctor if you are worried about side effects or they would not go away. Generally, it is advised not to take alcohol while on treatment.Before taking this medicine, tell your doctor if you have liver or kidney disease or if you have stomach problems. Your doctor should also know about all other medicines you are taking as many of these may make this medicine less effective or change the way it works. You must take doctor's advice before using this medicine if you are pregnant or breastfeeding."
      ]
     },
     "execution_count": 8,
     "metadata": {},
     "output_type": "execute_result"
    }
   ],
   "source": [
    "df.head(2)"
   ]
  },
  {
   "cell_type": "markdown",
   "metadata": {},
   "source": [
    "# Topic Estimation"
   ]
  },
  {
   "cell_type": "markdown",
   "metadata": {
    "collapsed": true
   },
   "source": [
    "## 1. Text preprocessing and tokenization"
   ]
  },
  {
   "cell_type": "code",
   "execution_count": 9,
   "metadata": {},
   "outputs": [],
   "source": [
    "def tokenize(text):\n",
    "    \n",
    "    list_str_exclude = ['mg', 'ml', 'gm', 'iu']\n",
    "    # need to add words to this list manually\n",
    "    \n",
    "    tokenizer = RegexpTokenizer(r'\\w+')\n",
    "    text = text.lower()\n",
    "#     print(text)\n",
    "    tokenized_text = tokenizer.tokenize(text)\n",
    "#     print(tokenized_text)\n",
    "\n",
    "    # Remove numbers, but not words that contain numbers.\n",
    "    tokenized_text = [token for token in tokenized_text if not token.isnumeric()]\n",
    "\n",
    "    # Remove words that are only one character.\n",
    "    tokenized_text = [token for token in tokenized_text if len(token) > 1]\n",
    "    \n",
    "    # Remove words that are dosage\n",
    "    tokenized_text = [token for token in tokenized_text if not any(unimportant in token for unimportant in list_str_exclude)]\n",
    "    \n",
    "    return tokenized_text"
   ]
  },
  {
   "cell_type": "code",
   "execution_count": 10,
   "metadata": {},
   "outputs": [],
   "source": [
    "def lemmatize_tokens(tokens):\n",
    "    \n",
    "    lemmatizer = WordNetLemmatizer()\n",
    "    lemmatized_tokens = [lemmatizer.lemmatize(token) for token in tokens]\n",
    "    \n",
    "    return lemmatized_tokens"
   ]
  },
  {
   "cell_type": "code",
   "execution_count": 11,
   "metadata": {},
   "outputs": [],
   "source": [
    "df['tokens'] = df['Introduction'].apply(lambda x: lemmatize_tokens(tokenize(x)))"
   ]
  },
  {
   "cell_type": "code",
   "execution_count": 12,
   "metadata": {},
   "outputs": [
    {
     "data": {
      "text/html": [
       "<div>\n",
       "<style scoped>\n",
       "    .dataframe tbody tr th:only-of-type {\n",
       "        vertical-align: middle;\n",
       "    }\n",
       "\n",
       "    .dataframe tbody tr th {\n",
       "        vertical-align: top;\n",
       "    }\n",
       "\n",
       "    .dataframe thead th {\n",
       "        text-align: right;\n",
       "    }\n",
       "</style>\n",
       "<table border=\"1\" class=\"dataframe\">\n",
       "  <thead>\n",
       "    <tr style=\"text-align: right;\">\n",
       "      <th></th>\n",
       "      <th>Introduction</th>\n",
       "      <th>tokens</th>\n",
       "    </tr>\n",
       "  </thead>\n",
       "  <tbody>\n",
       "    <tr>\n",
       "      <th>0</th>\n",
       "      <td>Acnesol Gel is an antibiotic that fights bacteria. It is used to treat acne, which appears as spots or pimples on your face, chest or back. This medicine works by attacking the bacteria that cause these pimples.Acnesol Gel is only meant for external use and should be used as advised by your doctor. You should normally wash and dry the affected area before applying a thin layer of the medicine. It should not be applied to broken or damaged skin. Avoid any contact with your eyes, nose, or mouth. Rinse it off with water if you accidentally get it in these areas. It may take several weeks for your symptoms to improve, but you should keep using this medicine regularly. Do not stop using it as soon as your acne starts to get better. Ask your doctor when you should stop treatment.Common side effects like minor itching, burning, or redness of the skin and oily skin may be seen in some people. These are usually temporary and resolve on their own. Consult your doctor if they bother you or do not go away.It is a safe medicine, but you should inform your doctor if you have any problems with your bowels (intestines). Also, inform the doctor if you have ever had bloody diarrhea caused by taking antibiotics or if you are using any other medicines to treat skin conditions. Consult your doctor about using this medicine if you are pregnant or breastfeeding.</td>\n",
       "      <td>[acnesol, gel, is, an, antibiotic, that, fight, bacteria, it, is, used, to, treat, acne, which, appears, a, spot, or, pimple, on, your, face, chest, or, back, this, medicine, work, by, attacking, the, bacteria, that, cause, these, pimple, acnesol, gel, is, only, meant, for, external, use, and, should, be, used, a, advised, by, your, doctor, you, should, normally, wash, and, dry, the, affected, area, before, applying, thin, layer, of, the, medicine, it, should, not, be, applied, to, broken, or, damaged, skin, avoid, any, contact, with, your, eye, nose, or, mouth, rinse, it, off, with, water, if, you, accidentally, get, it, in, ...]</td>\n",
       "    </tr>\n",
       "    <tr>\n",
       "      <th>1</th>\n",
       "      <td>Ambrodil Syrup is used for treating various respiratory tract disorders associated with excessive mucus. It works by thinning and loosens mucus in the nose, windpipe and lungs and make it easier to cough out.Ambrodil Syrup should be taken with food. For better results, it is suggested to take it at the same time every day.  The dose and how often you take it depends on what you are taking it for. Your doctor will decide how much you need to improve your symptoms.  It is advised not to use it for more than 14 days without doctor consultation.The most common side effects of this medicine include vomiting, nausea, and stomach upset. Talk to your doctor if you are worried about side effects or they would not go away. Generally, it is advised not to take alcohol while on treatment.Before taking this medicine, tell your doctor if you have liver or kidney disease or if you have stomach problems. Your doctor should also know about all other medicines you are taking as many of these may make this medicine less effective or change the way it works. You must take doctor's advice before using this medicine if you are pregnant or breastfeeding.</td>\n",
       "      <td>[ambrodil, syrup, is, used, for, treating, various, respiratory, tract, disorder, associated, with, excessive, mucus, it, work, by, thinning, and, loosens, mucus, in, the, nose, windpipe, and, lung, and, make, it, easier, to, cough, out, ambrodil, syrup, should, be, taken, with, food, for, better, result, it, is, suggested, to, take, it, at, the, same, time, every, day, the, dose, and, how, often, you, take, it, depends, on, what, you, are, taking, it, for, your, doctor, will, decide, how, much, you, need, to, improve, your, symptom, it, is, advised, not, to, use, it, for, more, than, day, without, doctor, consultation, the, most, ...]</td>\n",
       "    </tr>\n",
       "  </tbody>\n",
       "</table>\n",
       "</div>"
      ],
      "text/plain": [
       "                                                                                                                                                                                                                                                                                                                                                                                                                                                                                                                                                                                                                                                                                                                                                                                                                                                                                                                                                                                                                                                                                                                                                                                                                                                                                                                                                                                                        Introduction  \\\n",
       "0  Acnesol Gel is an antibiotic that fights bacteria. It is used to treat acne, which appears as spots or pimples on your face, chest or back. This medicine works by attacking the bacteria that cause these pimples.Acnesol Gel is only meant for external use and should be used as advised by your doctor. You should normally wash and dry the affected area before applying a thin layer of the medicine. It should not be applied to broken or damaged skin. Avoid any contact with your eyes, nose, or mouth. Rinse it off with water if you accidentally get it in these areas. It may take several weeks for your symptoms to improve, but you should keep using this medicine regularly. Do not stop using it as soon as your acne starts to get better. Ask your doctor when you should stop treatment.Common side effects like minor itching, burning, or redness of the skin and oily skin may be seen in some people. These are usually temporary and resolve on their own. Consult your doctor if they bother you or do not go away.It is a safe medicine, but you should inform your doctor if you have any problems with your bowels (intestines). Also, inform the doctor if you have ever had bloody diarrhea caused by taking antibiotics or if you are using any other medicines to treat skin conditions. Consult your doctor about using this medicine if you are pregnant or breastfeeding.   \n",
       "1                                                                                                                                                                                                                      Ambrodil Syrup is used for treating various respiratory tract disorders associated with excessive mucus. It works by thinning and loosens mucus in the nose, windpipe and lungs and make it easier to cough out.Ambrodil Syrup should be taken with food. For better results, it is suggested to take it at the same time every day.  The dose and how often you take it depends on what you are taking it for. Your doctor will decide how much you need to improve your symptoms.  It is advised not to use it for more than 14 days without doctor consultation.The most common side effects of this medicine include vomiting, nausea, and stomach upset. Talk to your doctor if you are worried about side effects or they would not go away. Generally, it is advised not to take alcohol while on treatment.Before taking this medicine, tell your doctor if you have liver or kidney disease or if you have stomach problems. Your doctor should also know about all other medicines you are taking as many of these may make this medicine less effective or change the way it works. You must take doctor's advice before using this medicine if you are pregnant or breastfeeding.   \n",
       "\n",
       "                                                                                                                                                                                                                                                                                                                                                                                                                                                                                                                                                                                                                                                                tokens  \n",
       "0       [acnesol, gel, is, an, antibiotic, that, fight, bacteria, it, is, used, to, treat, acne, which, appears, a, spot, or, pimple, on, your, face, chest, or, back, this, medicine, work, by, attacking, the, bacteria, that, cause, these, pimple, acnesol, gel, is, only, meant, for, external, use, and, should, be, used, a, advised, by, your, doctor, you, should, normally, wash, and, dry, the, affected, area, before, applying, thin, layer, of, the, medicine, it, should, not, be, applied, to, broken, or, damaged, skin, avoid, any, contact, with, your, eye, nose, or, mouth, rinse, it, off, with, water, if, you, accidentally, get, it, in, ...]  \n",
       "1  [ambrodil, syrup, is, used, for, treating, various, respiratory, tract, disorder, associated, with, excessive, mucus, it, work, by, thinning, and, loosens, mucus, in, the, nose, windpipe, and, lung, and, make, it, easier, to, cough, out, ambrodil, syrup, should, be, taken, with, food, for, better, result, it, is, suggested, to, take, it, at, the, same, time, every, day, the, dose, and, how, often, you, take, it, depends, on, what, you, are, taking, it, for, your, doctor, will, decide, how, much, you, need, to, improve, your, symptom, it, is, advised, not, to, use, it, for, more, than, day, without, doctor, consultation, the, most, ...]  "
      ]
     },
     "execution_count": 12,
     "metadata": {},
     "output_type": "execute_result"
    }
   ],
   "source": [
    "df.head(2)"
   ]
  },
  {
   "cell_type": "markdown",
   "metadata": {},
   "source": [
    "## 2. Train topic estimation model"
   ]
  },
  {
   "cell_type": "code",
   "execution_count": 13,
   "metadata": {},
   "outputs": [],
   "source": [
    "def create_corpus_dictonary(text_data, max_term_freq, min_term_count):\n",
    "\n",
    "    def identity_tokenizer(text):\n",
    "        return text\n",
    "    \n",
    "    # create document-term matrix\n",
    "    count_vectorizer = CountVectorizer(tokenizer = identity_tokenizer,\n",
    "                                      lowercase = False,\n",
    "                                      max_df = max_term_freq, # ignoring terms that have a document frequency > x% of the number of document (by percentage)\n",
    "                                      min_df = min_term_count) # ignoring terms that have a document frequency < x (count) \n",
    "\n",
    "    count_matrix = count_vectorizer.fit_transform(text_data)\n",
    "    print('count_matrix.shape: ', count_matrix.shape)\n",
    "    \n",
    "    # create dictionary of index: term\n",
    "    dictionary = count_vectorizer.get_feature_names_out()\n",
    "    print('length of dictionary: ', len(dictionary))\n",
    "    id2word = {v: k for v, k in enumerate(dictionary)}    \n",
    "    # for coherence evaluation, create dictionary of term: index\n",
    "    word2id = dict((k, v) for k, v in count_vectorizer.vocabulary_.items())\n",
    "\n",
    "    d = corpora.Dictionary()\n",
    "    d.id2token = id2word\n",
    "    d.token2id = word2id\n",
    "\n",
    "    \n",
    "    # create term-document matrix\n",
    "    count_matrix_T = count_matrix.transpose()\n",
    "    # convert from sparse to proper format for LDA\n",
    "    corpus = matutils.Sparse2Corpus(count_matrix_T)\n",
    "    \n",
    "    return corpus, d, id2word, word2id\n"
   ]
  },
  {
   "cell_type": "code",
   "execution_count": 14,
   "metadata": {},
   "outputs": [],
   "source": [
    "def train_model_get_coherence_score(corpus, id2word, topic_count, word2id):\n",
    "    \n",
    "    passes = 10\n",
    "    iterations = 50 # 50 is the default\n",
    "    \n",
    "    lda = models.LdaModel(corpus = corpus,\n",
    "                          id2word = id2word,\n",
    "                          num_topics = topic_count,\n",
    "                          passes = passes,\n",
    "                          iterations = iterations)\n",
    "    \n",
    "    # evaluation coherence\n",
    "    coherence_model_lda = CoherenceModel(model = lda, \n",
    "                                         corpus = corpus, \n",
    "                                         dictionary = word2id, \n",
    "                                         coherence = 'u_mass'\n",
    "                                        )\n",
    "    coherence_lda = coherence_model_lda.get_coherence()\n",
    "    \n",
    "    return lda, coherence_lda\n",
    "    "
   ]
  },
  {
   "cell_type": "markdown",
   "metadata": {},
   "source": [
    "### fix max_term_freq and min_term_freq, vary topic_count"
   ]
  },
  {
   "cell_type": "code",
   "execution_count": 15,
   "metadata": {},
   "outputs": [
    {
     "name": "stdout",
     "output_type": "stream",
     "text": [
      "count_matrix.shape:  (1000, 2724)\n",
      "length of dictionary:  2724\n",
      "max_term_freq = 0.8, min_term_count = 1\n",
      "time taken to calculate: 0.08755302429199219\n"
     ]
    },
    {
     "name": "stderr",
     "output_type": "stream",
     "text": [
      "/Users/carmen/anaconda3/envs/streamlit_conda391/lib/python3.9/site-packages/sklearn/feature_extraction/text.py:525: UserWarning: The parameter 'token_pattern' will not be used since 'tokenizer' is not None'\n",
      "  warnings.warn(\n"
     ]
    }
   ],
   "source": [
    "starttime = time.time()\n",
    "\n",
    "max_term_freq = 0.8\n",
    "min_term_count = 1\n",
    "\n",
    "Corpus, D, Id2word, Word2id = create_corpus_dictonary(df['tokens'], max_term_freq, min_term_count)\n",
    "print('max_term_freq = {}, min_term_count = {}'.format(max_term_freq, min_term_count))\n",
    "\n",
    "elapsedtime = time.time() - starttime\n",
    "print('time taken to calculate: {}'.format(elapsedtime))"
   ]
  },
  {
   "cell_type": "code",
   "execution_count": 16,
   "metadata": {},
   "outputs": [],
   "source": [
    "dict_coherence_score_topic_count = {}\n",
    "for i in range(3, 10):\n",
    "    Lda, Coherence_score = train_model_get_coherence_score(Corpus, Id2word, i, Word2id)\n",
    "    dict_coherence_score_topic_count[i] = Coherence_score"
   ]
  },
  {
   "cell_type": "code",
   "execution_count": 24,
   "metadata": {},
   "outputs": [],
   "source": [
    "dict_coherence_score_topic_count = dict(sorted(dict_coherence_score_topic_count.items()))"
   ]
  },
  {
   "cell_type": "code",
   "execution_count": 17,
   "metadata": {},
   "outputs": [
    {
     "data": {
      "text/plain": [
       "Text(0.5, 1.0, 'Max_term_freq = 0.8, min_term_count = 1')"
      ]
     },
     "execution_count": 17,
     "metadata": {},
     "output_type": "execute_result"
    },
    {
     "data": {
      "image/png": "[encoded data removed]",
      "text/plain": [
       "<Figure size 600x300 with 1 Axes>"
      ]
     },
     "metadata": {},
     "output_type": "display_data"
    }
   ],
   "source": [
    "plt.figure(figsize = (6,3))\n",
    "plt.plot(dict_coherence_score_topic_count.keys(),\n",
    "        dict_coherence_score_topic_count.values())\n",
    "plt.title('Max_term_freq = {}, min_term_count = {}'.format(max_term_freq, min_term_count))"
   ]
  },
  {
   "cell_type": "code",
   "execution_count": null,
   "metadata": {},
   "outputs": [],
   "source": []
  },
  {
   "cell_type": "markdown",
   "metadata": {},
   "source": [
    "# Visualize model"
   ]
  },
  {
   "cell_type": "markdown",
   "metadata": {},
   "source": [
    "## pyLDAvis"
   ]
  },
  {
   "cell_type": "code",
   "execution_count": 18,
   "metadata": {},
   "outputs": [],
   "source": [
    "pyLDAvis.enable_notebook()"
   ]
  },
  {
   "cell_type": "code",
   "execution_count": 19,
   "metadata": {},
   "outputs": [],
   "source": [
    "Lda5, Coherence_score = train_model_get_coherence_score(Corpus, Id2word, 5, Word2id)"
   ]
  },
  {
   "cell_type": "code",
   "execution_count": 20,
   "metadata": {},
   "outputs": [
    {
     "data": {
      "text/html": [
       "\n",
       "<link rel=\"stylesheet\" type=\"text/css\" href=\"https://cdn.jsdelivr.net/gh/bmabey/pyLDAvis@3.4.0/pyLDAvis/js/ldavis.v1.0.0.css\">\n",
       "\n",
       "\n",
       "<div id=\"ldavis_el282731401830859312006364827131\" style=\"background-color:white;\"></div>\n",
       "<script type=\"text/javascript\">\n",
       "\n",
       "var ldavis_el282731401830859312006364827131_data = {\"mdsDat\": {\"x\": [-0.012584774000121528, -0.07397469614535612, 0.18421196922947075, 0.021258321258258408, -0.11891082034225138], \"y\": [0.0878206092972328, -0.1508020782638882, -0.013015018125443197, 0.00987372348002035, 0.06612276361207838], \"topics\": [1, 2, 3, 4, 5], \"cluster\": [1, 1, 1, 1, 1], \"Freq\": [15.980687778140808, 22.30080101867906, 26.282283282912104, 19.700127115316135, 15.736100804951892]}, \"tinfo\": {\"Term\": [\"blood\", \"pressure\", \"infection\", \"level\", \"high\", \"use\", \"sugar\", \"using\", \"pain\", \"antibiotic\", \"heart\", \"sleepiness\", \"must\", \"skin\", \"regular\", \"bacteria\", \"medication\", \"stroke\", \"injection\", \"get\", \"cholesterol\", \"mental\", \"course\", \"way\", \"temporary\", \"allergic\", \"duration\", \"focus\", \"exercise\", \"early\", \"arthritis\", \"rheumatoid\", \"osteoarthritis\", \"spondylitis\", \"ankylosing\", \"prescribing\", \"alternative\", \"sp\", \"broken\", \"toothache\", \"component\", \"alright\", \"number\", \"alleviates\", \"scalp\", \"moisturizer\", \"applied\", \"dropper\", \"wear\", \"postoperative\", \"effectiveness\", \"spray\", \"wait\", \"least\", \"stone\", \"acenac\", \"acemiz\", \"safely\", \"necessary\", \"hair\", \"adjusting\", \"everybody\", \"production\", \"sun\", \"observed\", \"inflammation\", \"thin\", \"meant\", \"using\", \"first\", \"relieving\", \"pain\", \"use\", \"relieve\", \"several\", \"inhaler\", \"gel\", \"safe\", \"layer\", \"week\", \"get\", \"eye\", \"acne\", \"recommended\", \"more\", \"skin\", \"stomach\", \"regularly\", \"other\", \"let\", \"any\", \"do\", \"these\", \"way\", \"prevent\", \"know\", \"tablet\", \"make\", \"tell\", \"pregnant\", \"an\", \"cause\", \"taken\", \"take\", \"stop\", \"common\", \"condition\", \"symptom\", \"kidney\", \"treatment\", \"that\", \"dose\", \"consult\", \"gram\", \"negative\", \"gonorrhea\", \"positive\", \"mood\", \"behavior\", \"beneficial\", \"suicidal\", \"previous\", \"recommend\", \"thins\", \"expectorant\", \"stuffiness\", \"azithral\", \"support\", \"azee\", \"concerned\", \"asthakind\", \"schizophrenia\", \"completion\", \"azibact\", \"habit\", \"behave\", \"transmitted\", \"sexually\", \"modifying\", \"delusion\", \"snacking\", \"dietitian\", \"adversely\", \"subside\", \"consistent\", \"person\", \"orally\", \"recommends\", \"stuffy\", \"mental\", \"focus\", \"sleepiness\", \"talking\", \"temporary\", \"never\", \"finish\", \"requires\", \"worsen\", \"anything\", \"too\", \"hour\", \"medication\", \"nose\", \"straight\", \"early\", \"affect\", \"resolve\", \"so\", \"cough\", \"about\", \"preferably\", \"these\", \"treatment\", \"type\", \"do\", \"dose\", \"how\", \"all\", \"some\", \"can\", \"any\", \"that\", \"duration\", \"while\", \"without\", \"know\", \"symptom\", \"tablet\", \"cause\", \"time\", \"taken\", \"most\", \"at\", \"condition\", \"diabetic\", \"those\", \"ankle\", \"glucose\", \"mellitus\", \"working\", \"ill\", \"cessation\", \"active\", \"blindness\", \"hypoglycemia\", \"moderation\", \"reduction\", \"azulix\", \"blocker\", \"repeated\", \"workload\", \"program\", \"statin\", \"narrowing\", \"build\", \"widely\", \"deal\", \"recognize\", \"checked\", \"thereafter\", \"dyspepsia\", \"play\", \"lipid\", \"big\", \"especially\", \"channel\", \"diabetes\", \"unexplained\", \"pressure\", \"high\", \"blood\", \"sugar\", \"put\", \"level\", \"stroke\", \"regular\", \"lower\", \"eating\", \"hypertension\", \"part\", \"exercise\", \"cholesterol\", \"healthy\", \"weight\", \"control\", \"heart\", \"diet\", \"advice\", \"each\", \"risk\", \"low\", \"attack\", \"day\", \"try\", \"time\", \"function\", \"at\", \"tablet\", \"take\", \"liver\", \"help\", \"kidney\", \"condition\", \"while\", \"that\", \"but\", \"any\", \"can\", \"do\", \"on\", \"disease\", \"include\", \"food\", \"regularly\", \"consult\", \"clot\", \"much\", \"cutting\", \"object\", \"sharp\", \"shaving\", \"careful\", \"modified\", \"widening\", \"including\", \"tired\", \"sting\", \"avoiding\", \"happening\", \"bite\", \"dosing\", \"earlier\", \"adjusts\", \"couple\", \"hay\", \"conjunctivitis\", \"seeking\", \"sport\", \"wrestling\", \"engaging\", \"football\", \"antihistamine\", \"tr\", \"ab\", \"hive\", \"year\", \"reflux\", \"pulmonary\", \"air\", \"formation\", \"appear\", \"breast\", \"capsule\", \"passage\", \"feeling\", \"le\", \"bleeding\", \"within\", \"way\", \"very\", \"every\", \"need\", \"what\", \"cancer\", \"symptom\", \"take\", \"preventing\", \"work\", \"decide\", \"dose\", \"most\", \"taken\", \"other\", \"on\", \"depends\", \"how\", \"tell\", \"will\", \"make\", \"know\", \"day\", \"get\", \"can\", \"let\", \"common\", \"treatment\", \"prevent\", \"tablet\", \"food\", \"help\", \"pregnant\", \"some\", \"liver\", \"heart\", \"do\", \"at\", \"blood\", \"these\", \"penicillin\", \"immediate\", \"seek\", \"pneumonia\", \"fight\", \"direct\", \"survive\", \"ointment\", \"aggravated\", \"diagnostic\", \"variety\", \"laboratory\", \"hearing\", \"potency\", \"recovery\", \"discontinuation\", \"accidental\", \"precise\", \"anal\", \"aziderm\", \"herpes\", \"ampoxin\", \"blister\", \"valve\", \"endocarditis\", \"advent\", \"acivir\", \"viral\", \"pylorus\", \"eliminate\", \"sinus\", \"urinary\", \"tissue\", \"adequate\", \"completed\", \"returning\", \"site\", \"cream\", \"clean\", \"infection\", \"application\", \"redness\", \"thoroughly\", \"wash\", \"must\", \"ensure\", \"antibiotic\", \"allergic\", \"injection\", \"soft\", \"hand\", \"area\", \"etc\", \"bacteria\", \"reaction\", \"during\", \"water\", \"skin\", \"any\", \"course\", \"use\", \"better\", \"will\", \"but\", \"help\", \"consult\", \"take\", \"on\", \"at\", \"treatment\", \"duration\", \"prescribed\", \"eye\", \"some\", \"dose\", \"affected\", \"do\", \"common\", \"that\", \"feel\", \"know\", \"these\", \"treat\"], \"Freq\": [1617.0, 744.0, 649.0, 808.0, 530.0, 576.0, 380.0, 568.0, 844.0, 270.0, 998.0, 298.0, 258.0, 489.0, 347.0, 217.0, 553.0, 249.0, 217.0, 696.0, 277.0, 217.0, 294.0, 246.0, 257.0, 237.0, 505.0, 197.0, 241.0, 268.0, 50.07191218842436, 50.03872115436402, 46.305552700053056, 43.50906025816795, 43.452557647186666, 34.01254418150018, 34.00206850774539, 25.629750887570353, 29.272114565874638, 24.652320266665708, 21.85447278701834, 30.033103773160732, 20.917668661931323, 21.81929354300501, 18.085844226321502, 18.05363128315501, 31.563099083875468, 16.224412838220147, 17.10115429856867, 14.338462657736924, 25.958820576283063, 14.297143860808035, 13.367995699077792, 12.45482096885959, 24.88615297403663, 12.432301473103314, 12.429717046534927, 12.408438026257377, 13.294082084703957, 48.74265956292612, 22.852448244103897, 23.67169422034715, 54.55124327319726, 43.744388434487405, 22.70058546652971, 93.6866309001784, 29.133176384847406, 24.42174457733426, 297.4632308841469, 65.31087381403978, 41.49832711386308, 366.5756557490964, 268.10997912077306, 61.163255973468516, 50.03823334076961, 36.53259906506384, 57.4041890519632, 118.80652788820515, 28.20711894106763, 61.015359760980225, 199.4699154923379, 159.80392956952542, 62.54806514721948, 72.62350509373086, 91.49032656618432, 149.9557713387307, 172.8633991842189, 176.1654340418586, 213.030404160365, 185.22351163646397, 268.8029503598037, 245.78725455721758, 209.12036632250357, 96.84247935661527, 130.95650601168876, 207.9252722902893, 218.53205457154874, 131.15408529965663, 149.0554842494841, 161.3879145120987, 129.56194056604951, 141.3576871814277, 164.91802932588226, 194.96651893690722, 146.72945106383614, 151.5441022569633, 154.10500536979657, 141.27882891107413, 138.35069578243784, 162.51390654584765, 148.38697267391484, 148.7736462497538, 133.26661380807263, 103.24724363991847, 51.75253539291537, 51.72984762174144, 52.611067608542875, 47.56232856254008, 33.82178026576759, 74.18952057191687, 34.6456430641322, 56.62897252345333, 76.7550230687514, 39.15405972342138, 29.587858476993077, 34.188064515703616, 18.026291994155063, 80.62546950424834, 16.02636444946413, 116.5473452512355, 17.765592347437238, 18.684414418392215, 55.950367844818736, 12.112942238899132, 25.13985716229456, 17.666387068270144, 52.09000524518376, 53.80504121985556, 16.685755518581292, 16.663390925235877, 15.737782119882153, 14.79867892115706, 16.64388164238598, 70.56929628917617, 61.152471960760394, 115.83532260990799, 55.56799690275925, 114.06241717556055, 22.045498215534572, 175.66401005221613, 157.72863073167105, 228.7012048179618, 52.277149274326106, 196.87436346891525, 91.25346119206603, 133.9208214698588, 159.7194061553035, 209.3450119930468, 160.34173663503296, 173.2235361182716, 120.5464714714722, 349.4576318599825, 208.13779840495116, 113.19751079297495, 175.89345255821146, 283.16558037891144, 156.87337842719674, 254.27161220422914, 100.54240336612729, 235.11453817842147, 88.39717428693503, 391.8218719630033, 435.66830185331514, 211.45918633817865, 427.12900847116896, 382.0743335741598, 254.39381468015065, 232.28589329181423, 296.19836579318115, 332.04706582844443, 396.8969740684638, 316.41309770984765, 218.55241708858696, 234.65650580580817, 208.65977873086572, 263.52508733064224, 228.07718281172563, 264.5894563185357, 214.65192199116242, 238.94363160411692, 229.88997664146024, 221.4397428175031, 225.932189678777, 205.67574719386045, 93.2385450897856, 68.81293456817828, 79.45630170678379, 68.75723745655495, 55.18636838041, 59.005441447331556, 60.876667476616674, 58.91195652376298, 76.27740101392139, 37.530550122801095, 36.51555879699479, 49.00119319456882, 86.4450777040634, 30.673156261734693, 34.481682290859396, 42.1325432170984, 32.51864071164086, 90.86118685446196, 36.33349577381922, 37.26562214765341, 36.293609089196785, 47.74309325532672, 26.720752105399676, 26.719735084083116, 124.92472346473757, 33.37531706979499, 33.36623275986777, 25.732189152251827, 30.495489525923553, 25.720394136106364, 72.06851299568058, 33.292891746559306, 157.37386231724304, 42.55519863762376, 665.2990080549409, 467.8769370604207, 1330.5707874913667, 329.9618448898961, 48.642144151044995, 650.4519555091323, 215.04762577717534, 294.0602630772729, 128.7424675157554, 80.20184721374534, 83.28710090792897, 116.29723844315647, 202.54917123838376, 228.49992475456912, 183.82432581322487, 235.33921887770293, 169.10583124483406, 633.817214497718, 231.43175004567337, 184.78974241469598, 202.55184547770222, 202.2468849503329, 147.98039411730304, 173.41761264679107, 340.67377790387553, 132.57781292374196, 427.03135125593707, 158.57205119199637, 422.14556464366376, 438.11482525255974, 470.974775886912, 296.7848105099308, 310.3423934789164, 289.7483196002057, 317.8050446834252, 281.1201214481397, 327.5583682505623, 250.4714263724133, 351.0713824491156, 305.04736721336525, 322.81044272703275, 289.9536363498185, 245.48129580418743, 244.78450249037675, 243.49762611531702, 238.27131969649452, 238.73610249004096, 60.841582359061015, 63.56466615116064, 24.47898802568793, 23.523901160658532, 23.5162460940759, 23.511350253039915, 30.946893640831718, 19.615953984039116, 20.534542232660353, 19.59029789399477, 19.572307500460862, 18.62955135168835, 19.55765794138079, 22.33888136434385, 20.475412499949684, 17.679229731439012, 22.314535792542078, 17.648629206402987, 17.642137357634738, 16.70125966896195, 16.686064946441455, 16.663368532010985, 14.786481661601318, 14.78369358339348, 14.78153722660964, 14.781265404169988, 36.00141823912996, 14.774275467355892, 13.794736731246642, 14.701121822744687, 16.51658137747611, 19.164499431486647, 40.734979760081465, 40.638964177878215, 49.205389139660284, 42.681732590287545, 30.960427057491984, 122.15985927497323, 28.192409041988267, 56.92371290411371, 66.41584968470926, 98.38428849922387, 32.164141859698105, 128.2203516470328, 48.115645386285664, 78.27604889136194, 170.40981835479204, 153.19511798710892, 37.27122385819966, 266.6676414271713, 420.93464488893795, 86.0779056656502, 137.84039986749906, 56.28560137494206, 300.1153227726666, 242.72418460874997, 252.41364929492246, 248.3886362419184, 253.1536623491806, 55.42471693014415, 180.81792690320702, 197.7834253176118, 219.5478076779073, 156.849322712715, 245.81471159681587, 179.18813422324754, 184.45891407286484, 231.4473254689594, 190.26253879513564, 198.67292552806794, 237.94047412552413, 138.99502870021163, 218.0374346440613, 172.40321530821814, 174.93384273879894, 172.77220136227766, 170.37805005625827, 157.55632832256921, 169.34778530465087, 174.79038123310673, 164.20557291330613, 173.479024744798, 161.08912104987843, 62.94765632947276, 49.23076978995939, 47.276255099950035, 54.02224610182745, 60.75325414237717, 47.215872019081154, 31.487219671622526, 33.3217032771743, 23.715087472610747, 23.698260753088586, 22.7145138644389, 22.699443567196738, 19.850317993249792, 20.794096571039105, 21.734857207783786, 20.78543333352272, 17.835489363303846, 16.823006532794302, 15.887222830175878, 14.892572295203765, 18.56106643677057, 13.91362039085851, 12.984358982853019, 11.961456492547098, 11.951760993041576, 11.948982012762938, 13.762432218912013, 37.44779151663456, 10.974417525121233, 10.9721880333045, 47.403993578860025, 63.27020726960945, 47.09935135318593, 22.7300669352083, 39.66144642087661, 32.86589471353233, 84.31909909313612, 88.0662756156519, 55.14621080116654, 436.7028231355816, 79.09065208917879, 100.96499445636944, 35.73148553335541, 92.26027238061162, 165.40921475630734, 32.54300898572348, 159.45924209491588, 142.82835880498172, 129.5751046714487, 46.14503666771428, 70.36924400176103, 92.88298715480795, 62.07406914094737, 109.95229673540595, 93.26805120172766, 93.15335003405066, 95.46181292545042, 173.7902020050878, 346.08893948671675, 122.61608196618609, 177.8177656290299, 154.74975965075396, 185.02550161073597, 155.74980439144372, 181.31686933847507, 168.3429057554422, 221.00723850302862, 184.84929655128767, 179.65009252269368, 189.25091019293515, 131.27174066599002, 126.27842620377528, 129.65137803675674, 150.38269221527653, 161.9444243572603, 112.79280031379612, 160.45428928049955, 140.75146223881683, 147.8590918545537, 127.1489420793083, 144.66387831151908, 139.2352525395901, 123.34752995390362], \"Total\": [1617.0, 744.0, 649.0, 808.0, 530.0, 576.0, 380.0, 568.0, 844.0, 270.0, 998.0, 298.0, 258.0, 489.0, 347.0, 217.0, 553.0, 249.0, 217.0, 696.0, 277.0, 217.0, 294.0, 246.0, 257.0, 237.0, 505.0, 197.0, 241.0, 268.0, 51.209210923330836, 51.21066301294771, 47.418707639743495, 44.5741057966038, 44.57642226999354, 35.09803331055782, 35.098418870719556, 26.565848527560252, 30.360355878311115, 25.61823057109131, 22.77509870387297, 31.312793623862724, 21.824883504233686, 22.77677821072169, 18.98235525722791, 18.983275058670195, 33.22379921249191, 17.08600861820136, 18.03439033591566, 15.191601967928595, 27.5349570788276, 15.191603553005365, 14.243723825856863, 13.295379325739392, 26.586298284316346, 13.297009398937032, 13.296832824312752, 13.296073786342935, 14.24561799581232, 52.26039169612759, 24.690217803927606, 25.643365949513356, 60.85537408505987, 48.49591513138867, 24.72041476189242, 109.66477670762957, 32.33411471125676, 27.595969875929818, 568.2062671744163, 92.86182803737876, 53.46296780041607, 844.5204545655469, 576.048497176527, 91.26593142650185, 70.71224157944384, 47.694670934911635, 90.31981498142588, 284.461937956573, 33.3547369076143, 107.90801537077047, 696.9523212780462, 502.4281299667797, 112.77196196887577, 143.64193771523168, 214.32025972108, 489.9269284437287, 622.2070155857577, 651.7713454323452, 914.5060244690814, 748.8026910486179, 1502.5067377828095, 1330.9713762690255, 1025.4189096757234, 246.1663152058682, 436.88563960821506, 1083.288185285757, 1222.4558533132838, 486.6156726103494, 685.7650599421042, 831.8929624052207, 515.2202339689974, 630.9868209246524, 925.8298918498258, 1439.3949358861819, 721.7257790288015, 822.7720283686554, 877.6191094752911, 751.0838296745158, 730.5644515386032, 1226.1242326655272, 1038.7606240353043, 1120.8193164171093, 776.8980683995424, 104.67102704357438, 52.823973571703576, 52.82264760880498, 53.815980895647876, 48.827099498554276, 34.873565363247785, 76.73255390818234, 35.864896624528356, 58.778667489524075, 79.7151438207627, 40.8482755247931, 30.88198056030772, 35.859594522680524, 18.92190835399377, 84.67411929920492, 16.927492482787077, 123.5087336473942, 18.918374727491777, 19.910519106713434, 59.6644854399708, 12.94040338153231, 26.874707479481607, 18.912398433133205, 55.78099383402032, 57.7596067864135, 17.915598694456094, 17.91503054082652, 16.92114550272352, 15.924620569702874, 17.914770581493727, 76.65514691696971, 66.71385137120878, 128.36088353043183, 61.53981433406523, 129.27167956594693, 23.873640740885786, 217.83221946699607, 197.93646884928708, 298.1578759214763, 60.65484688338567, 257.6706364992813, 112.2080463562875, 172.0021344624683, 209.53754829387566, 284.33813563609465, 214.6859832400881, 235.1064874634696, 154.6144309225745, 553.46429311127, 307.7756129792809, 147.74992811574364, 268.8381698209333, 506.0585493453748, 242.44006560002362, 489.76910650375316, 133.8985296054536, 469.0869301682481, 113.86444935690791, 1025.4189096757234, 1226.1242326655272, 422.47221058236966, 1330.9713762690255, 1120.8193164171093, 592.389790851307, 510.56999740663827, 847.1823742509654, 1048.7297979859522, 1502.5067377828095, 1038.7606240353043, 505.74224472444735, 708.6315498011936, 557.3524788500682, 1083.288185285757, 751.0838296745158, 1222.4558533132838, 630.9868209246524, 1041.5981563293146, 925.8298918498258, 857.1954227237096, 1059.0828876468775, 877.6191094752911, 94.72300473424993, 70.04963962641656, 80.90087272864922, 70.04459409750885, 56.234045802065225, 60.1793006213067, 62.15696981311937, 60.18294947615063, 77.93313245941674, 38.47240275178249, 37.48425928154511, 50.31589333358139, 88.78747345092732, 31.564920784086368, 35.51150023431447, 43.40895276174512, 33.53732969132637, 93.734169983733, 37.48760716575214, 38.4740115101243, 37.48808507446684, 49.32264210307635, 27.617416381351525, 27.6173583785615, 129.19523548922848, 34.52626933941102, 34.526837728496886, 26.630295048566627, 31.564899547405062, 26.630219762393995, 74.95654995760738, 34.521046501400704, 167.5267971737097, 44.375847219161884, 744.5816299043715, 530.0396711192583, 1617.9139959782708, 380.14974367865193, 51.27840966770227, 808.59965540489, 249.2270906285072, 347.7963088139921, 144.71110692186267, 87.7313662564511, 91.66484815383794, 131.98113478779732, 241.43348360827827, 277.10395280888156, 227.07903151549422, 307.4834066609879, 211.3660154111549, 998.148248581802, 309.5948694388566, 245.860213465318, 283.77896515092476, 299.3009358050054, 197.44699163215589, 249.8179242715956, 645.8848161988042, 176.55390063103758, 1041.5981563293146, 233.77487722170932, 1059.0828876468775, 1222.4558533132838, 1439.3949358861819, 735.342037871806, 831.5535862193603, 730.5644515386032, 877.6191094752911, 708.6315498011936, 1038.7606240353043, 597.3302180271936, 1502.5067377828095, 1048.7297979859522, 1330.9713762690255, 966.960429932395, 627.459134612456, 624.572099276474, 736.713075397334, 651.7713454323452, 776.8980683995424, 62.401747091315784, 65.29801206752131, 25.348550447796086, 24.373589577096688, 24.37364167010803, 24.37366536564162, 32.17470837618198, 20.47371614700421, 21.4458411507452, 20.470726077531726, 20.47229194596304, 19.49821528520697, 20.47403865417883, 23.39496567084753, 21.44920463312686, 18.522838068973048, 23.39517986122202, 18.52430195568809, 18.524620269840707, 17.549069503305603, 17.548798989382945, 17.547232254540788, 15.599043382284835, 15.599054084932474, 15.599059456598713, 15.59911299194895, 37.99389247854945, 15.598945046886579, 14.622626114724373, 15.598957229037854, 17.54406307954671, 20.461992827503593, 44.76606980843536, 44.75381033909043, 56.50934803766887, 49.5505634120576, 35.00659334467698, 172.3391800779988, 33.03617256010326, 77.293358257279, 93.37413041107835, 150.9749551031534, 38.98820484174583, 246.1663152058682, 69.02492371812986, 132.97499726708, 385.4329501018074, 334.8251308544562, 49.39597527666789, 751.0838296745158, 1439.3949358861819, 158.41857537575737, 322.6023135558596, 89.95862446737696, 1120.8193164171093, 857.1954227237096, 925.8298918498258, 914.5060244690814, 966.960429932395, 91.05044901304794, 592.389790851307, 685.7650599421042, 820.2658311954305, 486.6156726103494, 1083.288185285757, 645.8848161988042, 696.9523212780462, 1048.7297979859522, 748.8026910486179, 822.7720283686554, 1226.1242326655272, 436.88563960821506, 1222.4558533132838, 736.713075397334, 831.5535862193603, 831.8929624052207, 847.1823742509654, 735.342037871806, 998.148248581802, 1330.9713762690255, 1059.0828876468775, 1617.9139959782708, 1025.4189096757234, 64.02396819131525, 50.22853292480455, 48.259067298762176, 55.15636822893225, 62.04507667177897, 48.255981051181344, 32.497887445600114, 34.458261071115665, 24.61701519623587, 24.61664823104459, 23.63383327825329, 23.63025181836766, 20.677957166034567, 21.66232398914866, 22.644910125778335, 21.662104326869194, 18.70651036896711, 17.720827649987953, 16.73700734210622, 15.751639887731825, 19.686495225617954, 14.766583599627497, 13.782249278024711, 12.797304686253101, 12.79745358785246, 12.796797853618392, 14.762593935704363, 40.303787246498835, 11.812174346970759, 11.812289035007636, 51.10818394667528, 68.91598979675513, 51.15205990810261, 24.601633010418368, 44.18990461782266, 36.46839947474793, 98.13587201841835, 105.72445715489746, 65.61925666348792, 649.8539600133215, 97.80319879099937, 133.81031842551573, 41.1832244257052, 124.83836758834767, 258.44932261567817, 37.271979730165285, 270.2146691802985, 237.69679581516468, 217.983596592545, 59.59271284048325, 104.16801510840799, 151.55499344013845, 88.91928463085515, 217.9908294736059, 171.47092909469302, 172.15074460539694, 184.10032844361484, 489.9269284437287, 1502.5067377828095, 294.49407326449193, 576.048497176527, 524.7597597414848, 820.2658311954305, 597.3302180271936, 831.5535862193603, 776.8980683995424, 1439.3949358861819, 966.960429932395, 1059.0828876468775, 1226.1242326655272, 505.74224472444735, 458.56295489282985, 502.4281299667797, 847.1823742509654, 1120.8193164171093, 334.9734872852567, 1330.9713762690255, 822.7720283686554, 1038.7606240353043, 581.845685922682, 1083.288185285757, 1025.4189096757234, 633.6918809291656], \"Category\": [\"Default\", \"Default\", \"Default\", \"Default\", \"Default\", \"Default\", \"Default\", \"Default\", \"Default\", \"Default\", \"Default\", \"Default\", \"Default\", \"Default\", \"Default\", \"Default\", \"Default\", \"Default\", \"Default\", \"Default\", \"Default\", \"Default\", \"Default\", \"Default\", \"Default\", \"Default\", \"Default\", \"Default\", \"Default\", \"Default\", \"Topic1\", \"Topic1\", \"Topic1\", \"Topic1\", \"Topic1\", \"Topic1\", \"Topic1\", \"Topic1\", \"Topic1\", \"Topic1\", \"Topic1\", \"Topic1\", \"Topic1\", \"Topic1\", \"Topic1\", \"Topic1\", \"Topic1\", \"Topic1\", \"Topic1\", \"Topic1\", \"Topic1\", \"Topic1\", \"Topic1\", \"Topic1\", \"Topic1\", \"Topic1\", \"Topic1\", \"Topic1\", \"Topic1\", \"Topic1\", \"Topic1\", \"Topic1\", \"Topic1\", \"Topic1\", \"Topic1\", \"Topic1\", \"Topic1\", \"Topic1\", \"Topic1\", \"Topic1\", \"Topic1\", \"Topic1\", \"Topic1\", \"Topic1\", \"Topic1\", \"Topic1\", \"Topic1\", \"Topic1\", \"Topic1\", \"Topic1\", \"Topic1\", \"Topic1\", \"Topic1\", \"Topic1\", \"Topic1\", \"Topic1\", \"Topic1\", \"Topic1\", \"Topic1\", \"Topic1\", \"Topic1\", \"Topic1\", \"Topic1\", \"Topic1\", \"Topic1\", \"Topic1\", \"Topic1\", \"Topic1\", \"Topic1\", \"Topic1\", \"Topic1\", \"Topic1\", \"Topic1\", \"Topic1\", \"Topic1\", \"Topic1\", \"Topic1\", \"Topic1\", \"Topic1\", \"Topic1\", \"Topic1\", \"Topic1\", \"Topic1\", \"Topic2\", \"Topic2\", \"Topic2\", \"Topic2\", \"Topic2\", \"Topic2\", \"Topic2\", \"Topic2\", \"Topic2\", \"Topic2\", \"Topic2\", \"Topic2\", \"Topic2\", \"Topic2\", \"Topic2\", \"Topic2\", \"Topic2\", \"Topic2\", \"Topic2\", \"Topic2\", \"Topic2\", \"Topic2\", \"Topic2\", \"Topic2\", \"Topic2\", \"Topic2\", \"Topic2\", \"Topic2\", \"Topic2\", \"Topic2\", \"Topic2\", \"Topic2\", \"Topic2\", \"Topic2\", \"Topic2\", \"Topic2\", \"Topic2\", \"Topic2\", \"Topic2\", \"Topic2\", \"Topic2\", \"Topic2\", \"Topic2\", \"Topic2\", \"Topic2\", \"Topic2\", \"Topic2\", \"Topic2\", \"Topic2\", \"Topic2\", \"Topic2\", \"Topic2\", \"Topic2\", \"Topic2\", \"Topic2\", \"Topic2\", \"Topic2\", \"Topic2\", \"Topic2\", \"Topic2\", \"Topic2\", \"Topic2\", \"Topic2\", \"Topic2\", \"Topic2\", \"Topic2\", \"Topic2\", \"Topic2\", \"Topic2\", \"Topic2\", \"Topic2\", \"Topic2\", \"Topic2\", \"Topic2\", \"Topic2\", \"Topic2\", \"Topic2\", \"Topic2\", \"Topic2\", \"Topic2\", \"Topic2\", \"Topic3\", \"Topic3\", \"Topic3\", \"Topic3\", \"Topic3\", \"Topic3\", \"Topic3\", \"Topic3\", \"Topic3\", \"Topic3\", \"Topic3\", \"Topic3\", \"Topic3\", \"Topic3\", \"Topic3\", \"Topic3\", \"Topic3\", \"Topic3\", \"Topic3\", \"Topic3\", \"Topic3\", \"Topic3\", \"Topic3\", \"Topic3\", \"Topic3\", \"Topic3\", \"Topic3\", \"Topic3\", \"Topic3\", \"Topic3\", \"Topic3\", \"Topic3\", \"Topic3\", \"Topic3\", \"Topic3\", \"Topic3\", \"Topic3\", \"Topic3\", \"Topic3\", \"Topic3\", \"Topic3\", \"Topic3\", \"Topic3\", \"Topic3\", \"Topic3\", \"Topic3\", \"Topic3\", \"Topic3\", \"Topic3\", \"Topic3\", \"Topic3\", \"Topic3\", \"Topic3\", \"Topic3\", \"Topic3\", \"Topic3\", \"Topic3\", \"Topic3\", \"Topic3\", \"Topic3\", \"Topic3\", \"Topic3\", \"Topic3\", \"Topic3\", \"Topic3\", \"Topic3\", \"Topic3\", \"Topic3\", \"Topic3\", \"Topic3\", \"Topic3\", \"Topic3\", \"Topic3\", \"Topic3\", \"Topic3\", \"Topic3\", \"Topic3\", \"Topic3\", \"Topic3\", \"Topic3\", \"Topic3\", \"Topic4\", \"Topic4\", \"Topic4\", \"Topic4\", \"Topic4\", \"Topic4\", \"Topic4\", \"Topic4\", \"Topic4\", \"Topic4\", \"Topic4\", \"Topic4\", \"Topic4\", \"Topic4\", \"Topic4\", \"Topic4\", \"Topic4\", \"Topic4\", \"Topic4\", \"Topic4\", \"Topic4\", \"Topic4\", \"Topic4\", \"Topic4\", \"Topic4\", \"Topic4\", \"Topic4\", \"Topic4\", \"Topic4\", \"Topic4\", \"Topic4\", \"Topic4\", \"Topic4\", \"Topic4\", \"Topic4\", \"Topic4\", \"Topic4\", \"Topic4\", \"Topic4\", \"Topic4\", \"Topic4\", \"Topic4\", \"Topic4\", \"Topic4\", \"Topic4\", \"Topic4\", \"Topic4\", \"Topic4\", \"Topic4\", \"Topic4\", \"Topic4\", \"Topic4\", \"Topic4\", \"Topic4\", \"Topic4\", \"Topic4\", \"Topic4\", \"Topic4\", \"Topic4\", \"Topic4\", \"Topic4\", \"Topic4\", \"Topic4\", \"Topic4\", \"Topic4\", \"Topic4\", \"Topic4\", \"Topic4\", \"Topic4\", \"Topic4\", \"Topic4\", \"Topic4\", \"Topic4\", \"Topic4\", \"Topic4\", \"Topic4\", \"Topic4\", \"Topic4\", \"Topic4\", \"Topic4\", \"Topic4\", \"Topic4\", \"Topic4\", \"Topic5\", \"Topic5\", \"Topic5\", \"Topic5\", \"Topic5\", \"Topic5\", \"Topic5\", \"Topic5\", \"Topic5\", \"Topic5\", \"Topic5\", \"Topic5\", \"Topic5\", \"Topic5\", \"Topic5\", \"Topic5\", \"Topic5\", \"Topic5\", \"Topic5\", \"Topic5\", \"Topic5\", \"Topic5\", \"Topic5\", \"Topic5\", \"Topic5\", \"Topic5\", \"Topic5\", \"Topic5\", \"Topic5\", \"Topic5\", \"Topic5\", \"Topic5\", \"Topic5\", \"Topic5\", \"Topic5\", \"Topic5\", \"Topic5\", \"Topic5\", \"Topic5\", \"Topic5\", \"Topic5\", \"Topic5\", \"Topic5\", \"Topic5\", \"Topic5\", \"Topic5\", \"Topic5\", \"Topic5\", \"Topic5\", \"Topic5\", \"Topic5\", \"Topic5\", \"Topic5\", \"Topic5\", \"Topic5\", \"Topic5\", \"Topic5\", \"Topic5\", \"Topic5\", \"Topic5\", \"Topic5\", \"Topic5\", \"Topic5\", \"Topic5\", \"Topic5\", \"Topic5\", \"Topic5\", \"Topic5\", \"Topic5\", \"Topic5\", \"Topic5\", \"Topic5\", \"Topic5\", \"Topic5\", \"Topic5\", \"Topic5\", \"Topic5\", \"Topic5\", \"Topic5\", \"Topic5\", \"Topic5\", \"Topic5\", \"Topic5\"], \"logprob\": [30.0, 29.0, 28.0, 27.0, 26.0, 25.0, 24.0, 23.0, 22.0, 21.0, 20.0, 19.0, 18.0, 17.0, 16.0, 15.0, 14.0, 13.0, 12.0, 11.0, 10.0, 9.0, 8.0, 7.0, 6.0, 5.0, 4.0, 3.0, 2.0, 1.0, -6.0466, -6.0472, -6.1248, -6.187, -6.1883, -6.4333, -6.4336, -6.7163, -6.5834, -6.7551, -6.8756, -6.5577, -6.9194, -6.8772, -7.0649, -7.0667, -6.508, -7.1735, -7.1209, -7.2971, -6.7035, -7.3, -7.3671, -7.4379, -6.7457, -7.4397, -7.4399, -7.4416, -7.3727, -6.0735, -6.831, -6.7957, -5.9609, -6.1816, -6.8376, -5.4201, -6.5881, -6.7645, -4.2647, -5.7809, -6.2344, -4.0558, -4.3686, -5.8465, -6.0472, -6.3618, -5.9099, -5.1825, -6.6204, -5.8489, -4.6643, -4.8861, -5.8241, -5.6747, -5.4438, -4.9497, -4.8075, -4.7886, -4.5986, -4.7384, -4.366, -4.4555, -4.6171, -5.3869, -5.0851, -4.6228, -4.5731, -5.0836, -4.9557, -4.8762, -5.0959, -5.0087, -4.8546, -4.6872, -4.9714, -4.9391, -4.9224, -5.0093, -5.0302, -4.8692, -4.9602, -4.9576, -5.0677, -5.6561, -6.3468, -6.3472, -6.3303, -6.4312, -6.7721, -5.9866, -6.7481, -6.2567, -5.9526, -6.6258, -6.9059, -6.7614, -7.4014, -5.9034, -7.519, -5.535, -7.416, -7.3656, -6.2688, -7.799, -7.0688, -7.4216, -6.3403, -6.3079, -7.4787, -7.48, -7.5372, -7.5987, -7.4812, -6.0367, -6.1799, -5.5411, -6.2756, -5.5565, -7.2001, -5.1247, -5.2324, -4.8608, -6.3367, -5.0107, -5.7796, -5.396, -5.2198, -4.9493, -5.2159, -5.1387, -5.5012, -4.4369, -4.9551, -5.5641, -5.1234, -4.6472, -5.2378, -4.7549, -5.6827, -4.8332, -5.8114, -4.3224, -4.2164, -4.9392, -4.2362, -4.3476, -4.7544, -4.8453, -4.6022, -4.488, -4.3096, -4.5362, -4.9062, -4.8351, -4.9525, -4.7191, -4.8636, -4.7151, -4.9242, -4.817, -4.8557, -4.8931, -4.873, -4.967, -5.9224, -6.2261, -6.0823, -6.2269, -6.4468, -6.3799, -6.3487, -6.3815, -6.1232, -6.8324, -6.8598, -6.5657, -5.998, -7.0341, -6.9171, -6.7167, -6.9757, -5.9482, -6.8648, -6.8395, -6.8659, -6.5917, -7.1721, -7.1721, -5.6298, -6.9497, -6.95, -7.2098, -7.0399, -7.2102, -6.1799, -6.9522, -5.3989, -6.7067, -3.9573, -4.3093, -3.2642, -4.6585, -6.573, -3.9799, -5.0867, -4.7737, -5.5997, -6.073, -6.0352, -5.7014, -5.1465, -5.026, -5.2435, -4.9965, -5.327, -4.0058, -5.0132, -5.2383, -5.1465, -5.148, -5.4604, -5.3018, -4.6266, -5.5704, -4.4007, -5.3913, -4.4122, -4.375, -4.3027, -4.7645, -4.7199, -4.7885, -4.6961, -4.8187, -4.6659, -4.9342, -4.5965, -4.7371, -4.6805, -4.7878, -4.9543, -4.9571, -4.9624, -4.9841, -4.9822, -6.061, -6.0172, -6.9714, -7.0112, -7.0116, -7.0118, -6.737, -7.1929, -7.1471, -7.1942, -7.1951, -7.2445, -7.1959, -7.0629, -7.15, -7.2969, -7.064, -7.2986, -7.299, -7.3538, -7.3547, -7.356, -7.4755, -7.4757, -7.4759, -7.4759, -6.5857, -7.4764, -7.545, -7.4813, -7.3649, -7.2162, -6.4622, -6.4645, -6.2733, -6.4155, -6.7365, -5.3639, -6.8302, -6.1275, -5.9733, -5.5804, -6.6984, -5.3155, -6.2956, -5.809, -5.0311, -5.1375, -6.551, -4.5833, -4.1268, -5.714, -5.2432, -6.1388, -4.4651, -4.6773, -4.6382, -4.6543, -4.6353, -6.1542, -4.9718, -4.8821, -4.7777, -5.114, -4.6647, -4.9808, -4.9518, -4.7249, -4.9209, -4.8776, -4.6972, -5.2348, -4.7846, -5.0194, -5.0048, -5.0173, -5.0312, -5.1095, -5.0373, -5.0057, -5.0681, -5.0132, -5.0873, -5.8023, -6.0481, -6.0886, -5.9552, -5.8378, -6.0899, -6.495, -6.4384, -6.7785, -6.7792, -6.8216, -6.8222, -6.9564, -6.9099, -6.8657, -6.9103, -7.0634, -7.1218, -7.1791, -7.2437, -7.0235, -7.3117, -7.3808, -7.4629, -7.4637, -7.4639, -7.3226, -6.3216, -7.549, -7.5492, -6.0859, -5.7972, -6.0923, -6.8209, -6.2642, -6.4522, -5.51, -5.4665, -5.9346, -3.8653, -5.574, -5.3298, -6.3686, -5.42, -4.8362, -6.462, -4.8728, -4.9829, -5.0803, -6.1128, -5.6908, -5.4132, -5.8163, -5.2445, -5.4091, -5.4103, -5.3859, -4.7867, -4.0979, -5.1355, -4.7638, -4.9028, -4.7241, -4.8963, -4.7443, -4.8186, -4.5464, -4.725, -4.7536, -4.7015, -5.0673, -5.1061, -5.0797, -4.9314, -4.8573, -5.219, -4.8666, -4.9976, -4.9483, -5.0992, -4.9702, -5.0084, -5.1296], \"loglift\": [30.0, 29.0, 28.0, 27.0, 26.0, 25.0, 24.0, 23.0, 22.0, 21.0, 20.0, 19.0, 18.0, 17.0, 16.0, 15.0, 14.0, 13.0, 12.0, 11.0, 10.0, 9.0, 8.0, 7.0, 6.0, 5.0, 4.0, 3.0, 2.0, 1.0, 1.8113, 1.8106, 1.81, 1.8096, 1.8083, 1.8024, 1.8021, 1.7979, 1.7973, 1.7954, 1.7925, 1.7921, 1.7913, 1.7908, 1.7854, 1.7836, 1.7825, 1.782, 1.7807, 1.776, 1.7748, 1.7731, 1.7703, 1.7685, 1.7677, 1.7665, 1.7664, 1.7647, 1.7647, 1.7641, 1.7564, 1.7538, 1.7244, 1.7307, 1.7486, 1.6763, 1.7295, 1.7116, 1.1866, 1.4818, 1.5805, 0.9992, 1.069, 1.4336, 1.488, 1.5672, 1.3805, 0.9607, 1.6662, 1.2636, 0.5827, 0.6883, 1.2444, 1.1518, 0.9826, 0.6499, 0.553, 0.5255, 0.3768, 0.4369, 0.1129, 0.1446, 0.2438, 0.9009, 0.629, 0.1832, 0.1121, 0.5227, 0.3076, 0.1939, 0.4534, 0.3378, 0.1085, -0.1654, 0.2407, 0.142, 0.0942, 0.163, 0.1698, -0.1871, -0.1122, -0.1856, 0.0708, 1.4869, 1.4801, 1.4796, 1.4779, 1.4743, 1.4699, 1.4668, 1.466, 1.4633, 1.4627, 1.4582, 1.4577, 1.4528, 1.4521, 1.4516, 1.4458, 1.4425, 1.4377, 1.437, 1.4363, 1.4345, 1.4338, 1.4324, 1.4321, 1.4296, 1.4294, 1.4281, 1.428, 1.4272, 1.427, 1.4178, 1.4135, 1.3979, 1.3985, 1.3754, 1.4209, 1.2854, 1.2735, 1.2353, 1.3519, 1.2314, 1.2938, 1.2503, 1.2291, 1.1944, 1.2087, 1.1951, 1.2516, 1.0407, 1.1094, 1.2342, 1.0763, 0.9199, 1.0652, 0.845, 1.214, 0.8098, 1.2474, 0.5385, 0.4658, 0.8085, 0.364, 0.4243, 0.6553, 0.713, 0.4497, 0.3505, 0.1693, 0.3118, 0.6615, 0.3953, 0.5181, 0.0869, 0.3087, -0.0299, 0.4223, 0.0283, 0.1075, 0.147, -0.0444, 0.0496, 1.3205, 1.3185, 1.3183, 1.3177, 1.3175, 1.3166, 1.3155, 1.3149, 1.3148, 1.3115, 1.3101, 1.3098, 1.3095, 1.3076, 1.3068, 1.3064, 1.3054, 1.3051, 1.305, 1.3044, 1.3039, 1.3037, 1.3033, 1.3032, 1.3027, 1.3024, 1.3021, 1.302, 1.3018, 1.3015, 1.297, 1.3, 1.2738, 1.2944, 1.2237, 1.2115, 1.1407, 1.1947, 1.2835, 1.1186, 1.1888, 1.1684, 1.2193, 1.2465, 1.2404, 1.2098, 1.1607, 1.1434, 1.125, 1.0689, 1.1132, 0.8821, 1.0453, 1.0507, 0.9991, 0.9443, 1.0479, 0.9712, 0.6966, 1.0498, 0.4446, 0.9481, 0.4165, 0.3101, 0.2191, 0.4289, 0.3507, 0.4115, 0.3205, 0.4117, 0.1822, 0.4671, -0.1176, 0.1014, -0.0803, 0.1318, 0.3978, 0.3996, 0.2292, 0.33, 0.1563, 1.5992, 1.5976, 1.5896, 1.5891, 1.5887, 1.5885, 1.5856, 1.5817, 1.5811, 1.5806, 1.5796, 1.579, 1.5788, 1.5784, 1.5781, 1.5779, 1.5773, 1.5761, 1.5757, 1.575, 1.5741, 1.5729, 1.571, 1.5709, 1.5707, 1.5707, 1.5707, 1.5702, 1.5663, 1.5653, 1.5642, 1.559, 1.5302, 1.5281, 1.4861, 1.4753, 1.5017, 1.2804, 1.466, 1.3186, 1.2839, 1.1963, 1.4321, 0.9723, 1.2637, 1.0946, 0.8084, 0.8426, 1.3429, 0.589, 0.395, 1.0146, 0.7742, 1.1556, 0.3069, 0.3628, 0.3249, 0.3212, 0.2844, 1.1282, 0.4379, 0.3812, 0.3065, 0.4924, 0.1414, 0.3424, 0.2953, 0.1136, 0.2545, 0.2035, -0.015, 0.4793, -0.0994, 0.1722, 0.0657, 0.0528, 0.0206, 0.084, -0.1494, -0.4055, -0.2395, -0.6083, -0.2264, 1.8323, 1.8291, 1.8286, 1.8284, 1.8282, 1.8274, 1.8176, 1.8157, 1.8119, 1.8112, 1.8095, 1.809, 1.8084, 1.8083, 1.8082, 1.8079, 1.8015, 1.7972, 1.7971, 1.7931, 1.7903, 1.7897, 1.7896, 1.7817, 1.7808, 1.7807, 1.7791, 1.7757, 1.7756, 1.7754, 1.774, 1.7637, 1.7667, 1.7701, 1.7411, 1.7452, 1.6975, 1.6665, 1.6753, 1.4517, 1.6369, 1.5676, 1.7072, 1.5468, 1.4029, 1.7135, 1.3218, 1.3399, 1.3291, 1.5935, 1.457, 1.3596, 1.4898, 1.1648, 1.2403, 1.2351, 1.1925, 0.8128, 0.381, 0.973, 0.6738, 0.6281, 0.3601, 0.505, 0.3262, 0.3199, -0.0246, 0.1946, 0.0751, -0.0193, 0.5005, 0.5596, 0.4946, 0.1205, -0.0853, 0.7607, -0.2664, 0.0835, -0.1003, 0.3284, -0.1641, -0.1475, 0.2127]}, \"token.table\": {\"Topic\": [4, 1, 2, 3, 4, 5, 5, 1, 1, 5, 1, 4, 5, 3, 4, 5, 1, 4, 4, 5, 2, 4, 1, 2, 3, 4, 5, 1, 2, 3, 4, 5, 1, 2, 3, 4, 5, 5, 1, 4, 1, 2, 3, 4, 5, 1, 2, 3, 4, 5, 1, 1, 1, 5, 1, 2, 3, 4, 5, 5, 3, 1, 1, 2, 4, 5, 1, 4, 1, 2, 3, 4, 5, 1, 2, 3, 4, 5, 1, 4, 1, 5, 1, 5, 1, 4, 5, 1, 2, 1, 2, 3, 4, 5, 1, 2, 3, 4, 5, 4, 2, 2, 5, 2, 3, 2, 4, 5, 2, 4, 2, 2, 3, 4, 1, 2, 3, 4, 5, 3, 4, 1, 3, 4, 3, 5, 3, 1, 2, 3, 4, 5, 1, 4, 1, 3, 1, 2, 3, 4, 5, 1, 2, 3, 4, 5, 1, 4, 1, 3, 4, 5, 3, 4, 1, 2, 3, 4, 5, 3, 3, 1, 3, 4, 1, 2, 3, 4, 1, 5, 3, 4, 1, 2, 3, 4, 5, 1, 2, 5, 1, 2, 1, 2, 3, 4, 1, 2, 3, 4, 5, 4, 1, 2, 3, 4, 5, 1, 2, 3, 4, 5, 1, 2, 3, 4, 5, 1, 2, 3, 4, 4, 1, 2, 3, 4, 5, 1, 5, 4, 1, 2, 3, 4, 5, 3, 1, 3, 4, 5, 2, 4, 1, 3, 4, 1, 3, 4, 2, 3, 5, 1, 2, 3, 4, 5, 2, 5, 5, 1, 2, 3, 4, 5, 1, 2, 3, 4, 5, 1, 2, 3, 4, 5, 4, 1, 1, 2, 3, 4, 5, 1, 2, 3, 4, 5, 3, 1, 2, 3, 4, 5, 4, 1, 2, 3, 4, 5, 3, 4, 1, 3, 5, 5, 4, 1, 5, 3, 4, 1, 3, 4, 5, 1, 2, 3, 4, 5, 1, 4, 1, 2, 3, 4, 5, 2, 1, 2, 3, 4, 5, 1, 2, 3, 4, 5, 1, 2, 3, 4, 5, 5, 1, 2, 4, 5, 1, 3, 4, 1, 2, 3, 4, 5, 1, 2, 3, 4, 5, 4, 1, 3, 4, 5, 1, 2, 3, 4, 5, 1, 5, 1, 2, 3, 4, 5, 3, 2, 2, 1, 2, 5, 1, 2, 4, 1, 2, 5, 4, 4, 1, 2, 3, 4, 5, 5, 1, 2, 3, 4, 5, 1, 2, 3, 4, 5, 5, 1, 2, 3, 4, 5, 4, 1, 2, 3, 4, 5, 1, 2, 3, 4, 5, 1, 3, 4, 3, 3, 5, 1, 2, 3, 4, 5, 4, 1, 2, 3, 4, 5, 1, 2, 4, 5, 1, 4, 1, 2, 3, 4, 5, 1, 2, 3, 4, 5, 1, 2, 3, 4, 5, 5, 1, 5, 1, 2, 4, 5, 1, 1, 2, 3, 4, 5, 1, 2, 3, 4, 5, 3, 1, 2, 3, 4, 5, 1, 3, 4, 5, 1, 2, 3, 4, 5, 1, 2, 3, 4, 5, 1, 5, 1, 2, 3, 4, 5, 3, 1, 2, 3, 4, 5, 2, 3, 4, 2, 4, 1, 2, 1, 2, 3, 4, 5, 1, 2, 3, 4, 5, 1, 4, 1, 2, 3, 4, 5, 3, 1, 1, 2, 3, 4, 5, 2, 1, 2, 3, 4, 1, 2, 3, 4, 5, 1, 4, 1, 2, 5, 1, 2, 3, 4, 5, 1, 2, 1, 1, 2, 3, 4, 5, 1, 2, 3, 4, 5, 1, 2, 3, 4, 1, 4, 5, 1, 2, 3, 4, 3, 5, 2, 1, 5, 5, 1, 2, 3, 4, 5, 1, 2, 3, 4, 5, 1, 2, 3, 4, 5, 1, 1, 2, 3, 4, 5, 1, 2, 3, 4, 5, 1, 2, 3, 4, 5, 2, 4, 1, 4, 5, 2, 3, 4, 1, 4, 3, 4, 5, 1, 2, 3, 4, 5, 3, 2, 3, 4, 1, 2, 3, 4, 5, 1, 2, 3, 4, 5, 1, 3, 4, 5, 2, 3, 4, 1, 4, 1, 2, 3, 4, 5, 1, 2, 3, 4, 5, 1, 2, 3, 4, 5, 1, 2, 4, 5, 2, 3, 1, 2, 3, 4, 5, 1, 2, 3, 4, 5, 2, 5, 1, 1, 2, 3, 4, 5, 1, 2, 3, 4, 5, 1, 1, 2, 4, 5, 4, 1, 4, 5, 1, 2, 5, 4, 4, 1, 5, 1, 3, 4, 5, 1, 2, 3, 4, 5, 1, 2, 3, 4, 5, 2, 1, 2, 3, 4, 5, 1, 5, 1, 2, 3, 4, 5, 1, 1, 4, 1, 3, 4, 1, 2, 3, 4, 5, 1, 4, 1, 2, 3, 4, 5, 1, 2, 3, 4, 1, 2, 3, 4, 5, 2, 3, 4, 1, 2, 4, 1, 2, 5, 1, 2, 3, 4, 2, 1, 4, 5, 2, 3, 4, 5, 1, 2, 3, 4, 5, 1, 2, 3, 4, 5, 1, 2, 3, 4, 5, 1, 2, 3, 4, 5, 1, 2, 3, 4, 5, 1, 2, 3, 4, 5, 1, 2, 3, 4, 5, 1, 2, 3, 4, 5, 3, 1, 2, 3, 4, 5, 1, 5, 2, 3, 1, 5, 3, 1, 2, 3, 4, 5, 4, 1, 4, 5, 1, 2, 3, 4, 5, 1, 4, 2, 5, 1, 2, 3, 4, 5, 1, 2, 3, 4, 5, 1, 2, 3, 4, 1, 2, 3, 4, 5, 1, 2, 3, 2, 3, 4, 5, 1, 2, 3, 4, 5, 1, 2, 3, 4, 5, 5, 5, 1, 3, 4, 5, 1, 5, 1, 1, 5, 1, 2, 3, 4, 5, 1, 2, 3, 4, 5, 1, 1, 2, 3, 4, 5, 1, 2, 3, 4, 5, 1, 3, 4, 5, 1, 2, 3, 4, 5, 3, 4, 4, 1, 2, 3, 4, 5, 1, 3, 4, 1, 2, 3, 4, 5, 1, 2, 3, 4, 5, 3, 3, 1, 2, 3, 4, 5, 4, 4], \"Freq\": [0.9574203628103837, 0.12790806168587923, 0.500973241603027, 0.04263602056195974, 0.2664751285122484, 0.061822229814841624, 0.9622318457568032, 0.9024705475771988, 0.9024585634239896, 0.9483428224724127, 0.5586494985108758, 0.008867452357315488, 0.4345051655084589, 0.9751949857729201, 0.04064770820605759, 0.9348972887393245, 0.9315430176699886, 0.04050187033347776, 0.971696533724063, 0.937734590892745, 0.9489376334833615, 0.05581986079313891, 0.020336759370402642, 0.004067351874080529, 0.7524600967048978, 0.2115022974521875, 0.012202055622241586, 0.05335351025079322, 0.5592238296657215, 0.10670702050158644, 0.14425208327066316, 0.13634785952980488, 0.11642712477357464, 0.3283841980793131, 0.011941243566520477, 0.20598645152247821, 0.33734013075420344, 0.9749354179896589, 0.06703339843623629, 0.916123111961896, 0.15277043382139374, 0.4543941108533762, 0.04113050141345216, 0.27028615214554275, 0.08030240752150183, 0.058898564248575466, 0.13041824940755994, 0.008414080606939352, 0.20193793456654444, 0.6016067633961637, 0.9658960453697513, 0.9580748482670586, 0.9687046053337777, 0.9480865973868976, 0.25231928295700934, 0.17080074538628323, 0.21932368441647734, 0.19409175612077642, 0.16497799270265995, 0.9559654048635032, 0.9765036808066958, 0.9646355138049133, 0.003700761335546733, 0.4033829855745939, 0.003700761335546733, 0.5884210523519305, 0.02632001973908251, 0.9475207106069704, 0.17903413890639372, 0.26422510463136917, 0.2336096013239561, 0.0931776187616919, 0.23028182922532425, 0.0046579659505841045, 0.7452745520934567, 0.2096084677762847, 0.03260576165408873, 0.0046579659505841045, 0.1210884314292169, 0.867800425242721, 0.18404306017091643, 0.8077445418612443, 0.9631649828887789, 0.030098905715274342, 0.3431097769836207, 0.039589589651956233, 0.6136386396053216, 0.9763868471798709, 0.9514559394916089, 0.06326228171702775, 0.21339217414997416, 0.3984579535012792, 0.15485095823272463, 0.1699583687920148, 0.12409037538194258, 0.004002915334901373, 0.6925043529379377, 0.17212535940075907, 0.004002915334901373, 0.9768468418866604, 0.9452079223352066, 0.9273281246491596, 0.952281800936978, 0.9512782571003634, 0.9821028923864376, 0.490846336326985, 0.004587348937635374, 0.5046083831398911, 0.9517565983839075, 0.05287536657688374, 0.9749505003532444, 0.9643885968991454, 0.013032278336474938, 0.013032278336474938, 0.09528169618918907, 0.30299579388162123, 0.0705084551799999, 0.23629860654918888, 0.2953732581864861, 0.9763344137593651, 0.9324355071474929, 0.2848154514808123, 0.05961253635644908, 0.6491142847702234, 0.9877209969226421, 0.9432422631281253, 0.9574363171270945, 0.03832094916918729, 0.016688155283355755, 0.8226642474869077, 0.10692780977853872, 0.014833915807427336, 0.08569814178894311, 0.8855474651524121, 0.9551930193518275, 0.9603051190395325, 0.11886222705171716, 0.005022347621903542, 0.4185289684919618, 0.19587155725423813, 0.2611620763389842, 0.10870292826515741, 0.31657344021080935, 0.2908280098322194, 0.22026645990571372, 0.06293327425877535, 0.2226902078233858, 0.7490488808604796, 0.11024771030824686, 0.02321004427542039, 0.7079063504003219, 0.15086528779023253, 0.03108031278195738, 0.9634896962406787, 0.22345950077590787, 0.34073611820439853, 0.2171202241581516, 0.09984360672966096, 0.1188614365829297, 0.9803441093125651, 0.9559385749983278, 0.007740223516860063, 0.9675279396075078, 0.015480447033720125, 0.0036087540068029974, 0.06495757212245395, 0.8227959135510834, 0.10465386619728692, 0.15239428954952233, 0.8381685925223727, 0.016025192348166902, 0.9775367332381811, 0.18474133144921903, 0.21148020836950074, 0.19203375242747767, 0.24186529577891175, 0.17137189298907818, 0.09051841217115279, 0.022629603042788198, 0.905184121711528, 0.0502811677311512, 0.9385817976481556, 0.965967273558241, 0.947301429986514, 0.01619318683737631, 0.03238637367475262, 0.17547475702992973, 0.2347259736893865, 0.36234397880206265, 0.10824741505093068, 0.1196418797931339, 0.9687272622066633, 0.014989390950251194, 0.9143528479653228, 0.059957563801004775, 0.014989390950251194, 0.014989390950251194, 0.1711936293959234, 0.2304034561042879, 0.3076336648543285, 0.0746558684583726, 0.21624458450011377, 0.08042920223921116, 0.04258016589134708, 0.7995608928486285, 0.07569807269572815, 0.004731129543483009, 0.00746834190746237, 0.7543025326536994, 0.04481005144477422, 0.19417688959402163, 0.9716798367686477, 0.02037392445114256, 0.43803937569956497, 0.0033956540751904265, 0.12224354670685535, 0.4176654512484224, 0.16079533967332846, 0.8323523465442886, 0.946799701601346, 0.05418922867080832, 0.046447910289264274, 0.527957913621304, 0.27713919805927684, 0.09289582057852855, 0.9776439485567364, 0.03334866465291424, 0.2890217603252567, 0.6225084068543991, 0.04446488620388565, 0.9489238637499802, 0.055819050808822365, 0.010982922224323084, 0.37341935562698486, 0.6040607223377696, 0.02387677713346583, 0.9371635024885339, 0.02984597141683229, 0.010557097537240816, 0.9818100709633958, 0.974949951542675, 0.003230027686868677, 0.06460055373737353, 0.7461363956666643, 0.10659091366666633, 0.08075069217171692, 0.9419376703102116, 0.9739725309936353, 0.9694349026817337, 0.05896798366455003, 0.28527754259336363, 0.39046367561661505, 0.1832788681465744, 0.08287392298801625, 0.18482741581534712, 0.320818319321761, 0.24267989962746794, 0.1314829177548201, 0.12021295337583551, 0.13293846547568788, 0.3408221061188777, 0.11420217168381243, 0.26766133988393537, 0.1445371235373251, 0.9717733283082124, 0.936438717639153, 0.181910846799294, 0.43302690705484115, 0.011863750878214827, 0.11468292515607666, 0.25902522750769036, 0.1452215618195836, 0.005808862472783344, 0.1452215618195836, 0.16264814923793364, 0.540224209968851, 0.955778234296948, 0.03876256294806688, 0.13743090499769167, 0.7153454798597798, 0.10219221140853997, 0.0035238693589151712, 0.9403646447901622, 0.0037197098933759156, 0.6546689412341612, 0.02603796925363141, 0.08555332754764605, 0.23434172328268268, 0.9118745485639511, 0.06839059114229634, 0.9442542410931205, 0.036317470811273865, 0.9312335625550403, 0.93768654190632, 0.9615964373835821, 0.10731922556726133, 0.8853836109299059, 0.9605564829320521, 0.026682124525890336, 0.20243077837081438, 0.0674769261236048, 0.0337384630618024, 0.6972615699439162, 0.03760105360226111, 0.0075202107204522224, 0.0075202107204522224, 0.5865764361952733, 0.35344990386125447, 0.9359145771756792, 0.038996440715653294, 0.008283855122783906, 0.033135420491135624, 0.8408112949625665, 0.11597397171897468, 0.004141927561391953, 0.9714402851013604, 0.318453506993287, 0.2686951465255859, 0.09951672093540219, 0.05572936372382523, 0.2587434744320457, 0.05156006261767922, 0.21139625673248477, 0.35060842580021867, 0.16842953788441878, 0.21827093174817536, 0.025875444476649488, 0.15525266685989694, 0.051750888953298976, 0.7374501675845104, 0.025875444476649488, 0.9831561708383814, 0.005813881340049329, 0.77906009956661, 0.005813881340049329, 0.20929972824177584, 0.6999646827309515, 0.16153031139945034, 0.1292242491195603, 0.00505212609790175, 0.7982359234684765, 0.17682441342656124, 0.020208504391607, 0.00505212609790175, 0.1398101967233969, 0.2633318268382427, 0.32984347382315965, 0.2334694547225657, 0.03257713321710219, 0.9615931372342668, 0.05308856152437317, 0.017696187174791055, 0.8671131715647618, 0.07078474869916422, 0.21388098068630615, 0.038498576523535104, 0.6801415185824535, 0.025665717682356738, 0.042776196137261226, 0.6310907524746586, 0.3542965627927908, 0.2855288574619867, 0.00860891027523578, 0.32570377207975365, 0.26400658177389724, 0.11478547033647707, 0.9850867278057936, 0.9844262329503557, 0.9840354385471087, 0.0372097073340606, 0.9302426833515149, 0.0372097073340606, 0.9376125667965635, 0.03826990068557402, 0.01913495034278701, 0.29759614760575215, 0.01919975145843562, 0.6719913010452467, 0.9403732542088832, 0.9687123295510239, 0.004403753148523391, 0.07926755667342103, 0.810290579328304, 0.004403753148523391, 0.101286322416038, 0.9672135327203321, 0.060111311205775037, 0.10519479461010631, 0.6351761884076895, 0.16931352656293303, 0.030055655602887518, 0.12867481034682696, 0.0697489626179062, 0.3727961795094986, 0.21044945617471697, 0.21766486610070726, 0.9651286215372343, 0.022639814817370554, 0.013206558643466157, 0.8829527778774516, 0.06603279321733078, 0.015093209878247037, 0.9616027391931763, 0.045273911097634574, 0.7825918918305405, 0.012935403170752735, 0.14228943487828008, 0.0194031047561291, 0.04557809809854935, 0.4287717376678346, 0.1991931694677342, 0.305542065031016, 0.021945010195597834, 0.010909307331440016, 0.9054725085095213, 0.07636515132008011, 0.9870809963748296, 0.9813863221357492, 0.9755411346247412, 0.09286357822770056, 0.15370523292860783, 0.39226856320321785, 0.18892934880808043, 0.1729183870446838, 0.977004915421716, 0.06309109818944479, 0.19388971638707425, 0.030776145458265753, 0.04000898909574548, 0.6724587782631067, 0.8571576291137449, 0.09118698182061116, 0.018237396364122232, 0.036474792728244464, 0.7757680108642215, 0.2096670299633031, 0.004587501149773211, 0.022937505748866053, 0.05046251264750532, 0.325712581633898, 0.5963751494705174, 0.18889503822608053, 0.12456122085922701, 0.3969533411997344, 0.18752623360125387, 0.10266034686200029, 0.19200800195668374, 0.24370246402194473, 0.20400850207897647, 0.22708638692953942, 0.1338517321332651, 0.9733286033846762, 0.839460976039301, 0.119922996577043, 0.16064406633788933, 0.07496723095768168, 0.706833891886713, 0.053548022112629774, 0.9025692088956362, 0.2470610779201759, 0.14556571617999553, 0.1909715359058657, 0.2537384043504509, 0.1615912996126556, 0.07296565068464807, 0.05812517935895693, 0.8038588634749363, 0.061835297190379716, 0.002473411887615189, 0.9504227933608707, 0.13327131450777274, 0.17134883293856495, 0.4038936776409031, 0.21486599685947033, 0.07751494823411272, 0.05571115522738893, 0.749568270332142, 0.19245671805825268, 0.005064650475217176, 0.04146191766219937, 0.006910319610366563, 0.8914312297372866, 0.0552825568829325, 0.006910319610366563, 0.26920629024806686, 0.1315206303502006, 0.16234577808852887, 0.32263654632783584, 0.11508055155642552, 0.8696922089675728, 0.07247435074729773, 0.03613602584472264, 0.6305736509904101, 0.07769245556615369, 0.12286248787205699, 0.13008969304100151, 0.9780551837509812, 0.004590689120493081, 0.8079612852067822, 0.16067411921725783, 0.027544134722958486, 0.004590689120493081, 0.019874435963409372, 0.9738473622070594, 0.9768622294261159, 0.9488937707262096, 0.0558172806309535, 0.9482030863678022, 0.9830606465047393, 0.42459821632555383, 0.004665914465115976, 0.018663657860463905, 0.33594584148835027, 0.21929797986045088, 0.1271588684569222, 0.2578175222842184, 0.2519845466669284, 0.2834826150002944, 0.08049506351860213, 0.015314401898880956, 0.9801217215283812, 0.10059999282204649, 0.003869230493155634, 0.023215382958933804, 0.23215382958933803, 0.6384230313706796, 0.9616881252495229, 0.9125613226341963, 0.20496431345356725, 0.010377939921699608, 0.2853933478467392, 0.4410624466722333, 0.05707866956934784, 0.9844015223393766, 0.017824033702979906, 0.8109935334855858, 0.05347210110893972, 0.10694420221787944, 0.14945953499927453, 0.6758170278228065, 0.00649824065214237, 0.09097536912999318, 0.07797888782570844, 0.9622044486939108, 0.9846723612082259, 0.9304051012710145, 0.04045239570743541, 0.9576803638434895, 0.12203188087877595, 0.12513438632484652, 0.29990885978682225, 0.2616446259519518, 0.19132116917435213, 0.08124821392631763, 0.9099799959747575, 0.9700812672812192, 0.23291262638062735, 0.19354711206277483, 0.22525822081882269, 0.2711846541896506, 0.07654405561804654, 0.4345661469961656, 0.18353611112917073, 0.2155069175839295, 0.13261964159011047, 0.03433901434029646, 0.022730521334154898, 0.007576840444718299, 0.8789134915873227, 0.09092208533661959, 0.12107940145677389, 0.8475558101974172, 0.984006486629266, 0.007790535344538351, 0.9037020999664488, 0.023371606033615055, 0.06232428275630681, 0.9763316535766076, 0.9790347286077171, 0.9848375727420057, 0.9215617964159265, 0.9694250723292459, 0.9593231386126345, 0.08782372423068607, 0.7728487732300374, 0.05269423453841164, 0.07904135180761745, 0.008782372423068606, 0.19353451378469025, 0.2380113896234079, 0.2404155450741494, 0.20795944648913922, 0.11900569481170395, 0.06760249529368322, 0.12212063665955679, 0.29003651206644737, 0.24424127331911358, 0.27477143248400276, 0.9687152467820036, 0.028203757864261412, 0.004029108266323059, 0.8931189990349447, 0.06983787661626635, 0.004029108266323059, 0.2998496359767663, 0.009155714075626452, 0.2517821370797274, 0.3181610641280192, 0.12131321150205049, 0.20830890520083514, 0.0063123910666919745, 0.23987086053429502, 0.5428656317355098, 0.0063123910666919745, 0.9697395744835304, 0.01701297499093913, 0.9037821363668623, 0.03286480495879499, 0.04929720743819249, 0.010668468074913812, 0.9708305948171569, 0.010668468074913812, 0.06701504091910931, 0.915872225894494, 0.9555678562875297, 0.03900276964438897, 0.9312426041883609, 0.0466551388170416, 0.029159461760650998, 0.017495677056390598, 0.3615773258320724, 0.5423659887481086, 0.9776460018333709, 0.9659394226664431, 0.012544667826836923, 0.012544667826836923, 0.5082081261304172, 0.013923510304942939, 0.034808775762357344, 0.1810056339642582, 0.2645466957939158, 0.023206939138356083, 0.8818636872575312, 0.03867823189726014, 0.0541495246561642, 0.9715207469494795, 0.216724691647323, 0.022419795687654103, 0.007473265229218034, 0.7547997881510214, 0.011262850052295926, 0.9686051044974497, 0.011262850052295926, 0.04887109522665208, 0.9285508093063896, 0.020126723092233074, 0.020126723092233074, 0.8453223698737892, 0.06900590774479912, 0.04600393849653274, 0.27003335024379194, 0.13194811432367107, 0.3651587349887641, 0.1104681887360967, 0.12274243192899635, 0.6683764581871872, 0.17531185788516382, 0.0547849555891137, 0.08765592894258191, 0.010956991117822739, 0.766885971483254, 0.03740907177967093, 0.13093175122884823, 0.03740907177967093, 0.023036722527922097, 0.9675423461727282, 0.033406900371777404, 0.7635862942120549, 0.17657933053653768, 0.023862071694126716, 0.004772414338825343, 0.17323869260657349, 0.6475827318864771, 0.012374192329040962, 0.04949676931616385, 0.11549246173771566, 0.08226300148097562, 0.9048930162907319, 0.9763591615159988, 0.060140139393773905, 0.0033411188552096615, 0.6749060087523516, 0.2539250329959343, 0.006682237710419323, 0.4183336472177412, 0.0035154088001490857, 0.18280125760775245, 0.18280125760775245, 0.21092452800894512, 0.9025220672531016, 0.9482490321187168, 0.9542694441147732, 0.050224707584988065, 0.973910243831122, 0.9688137566880852, 0.7070911469243407, 0.2686946358312495, 0.014141822938486814, 0.017313137253476333, 0.934909411687722, 0.051939411760429, 0.9846702566992168, 0.9846692994247652, 0.05869901390215916, 0.9196178844671602, 0.09170958401746163, 0.03056986133915388, 0.010189953779717958, 0.8559561174963085, 0.3061681064898405, 0.18778310531376885, 0.006123362129796811, 0.14696069111512344, 0.355155003528215, 0.0033539278374231604, 0.7680494747699037, 0.17105031970858117, 0.057016773236193724, 0.0033539278374231604, 0.9455624619163485, 0.08983825115899348, 0.5186117225996442, 0.13679915517392188, 0.2511387475580954, 0.004083556870863339, 0.20136690256275785, 0.7719064598239052, 0.11921872204824722, 0.3493934824384275, 0.15226945687350388, 0.20066517572477255, 0.17705750799244638, 0.9787001523036909, 0.9871201948677668, 0.9615974282778684, 0.9215617002610874, 0.9603173614369502, 0.9744481595920751, 0.27804250943254705, 0.2330414096399961, 0.19286185625378988, 0.2137552240146171, 0.08357347104330894, 0.940333992067932, 0.03761335968271728, 0.20367846663009906, 0.17181040722538968, 0.317295026246889, 0.18012381402661823, 0.1274722376188375, 0.013536385604419715, 0.7648057866497139, 0.013536385604419715, 0.19627759126408587, 0.008024809802804138, 0.004012404901402069, 0.8626670538014449, 0.12438455194346415, 0.004012404901402069, 0.9481423438431696, 0.027886539524799105, 0.027886539524799105, 0.04188720148944056, 0.9215184327676924, 0.04188720148944056, 0.01304543843720196, 0.9262261290413392, 0.05218175374880784, 0.002630542349767621, 0.09733006694140199, 0.868078975423315, 0.031566508197211456, 0.975884591733722, 0.907292910769742, 0.020620293426585043, 0.061860880279755136, 0.956608709607926, 0.02361996813846731, 0.02361996813846731, 0.9539081594732117, 0.1877287120681359, 0.3035613216420921, 0.11183838165761288, 0.3554862845545552, 0.041273688468880944, 0.17914757363747186, 0.21677674435584493, 0.3582951472749437, 0.17832954818707245, 0.06789611238315144, 0.13547359042217677, 0.09170519967039659, 0.3272208260966424, 0.29248400803967395, 0.15353673581180033, 0.17821848425127737, 0.24842576592602297, 0.18901960450893054, 0.27218823049285995, 0.11125153865382768, 0.016486728619109183, 0.8573098881936775, 0.016486728619109183, 0.032973457238218366, 0.06594691447643673, 0.21727557833375083, 0.2362325079870311, 0.19540219796458128, 0.288728620873038, 0.06270369039161937, 0.07761846779175316, 0.7645419077487686, 0.011642770168762974, 0.015523693558350633, 0.13195139524598037, 0.14247748381630024, 0.30420868166183024, 0.3157609100793681, 0.09530588444468732, 0.14247748381630024, 0.9557939688065626, 0.20381913969783702, 0.38228278833278523, 0.12092618814608513, 0.15700900235096538, 0.13555435606698252, 0.8968855420650801, 0.06185417531483311, 0.9547526670086408, 0.024480837615606175, 0.12140865776598023, 0.8741423359150576, 0.9850157740708672, 0.11616764033685971, 0.22945509124387992, 0.40994696218048843, 0.13536890320245637, 0.10848713519062106, 0.976930187044535, 0.0195495548331104, 0.0390991096662208, 0.9188290771561888, 0.021266958874441484, 0.7358367770556753, 0.008506783549776593, 0.10633479437220741, 0.1276017532466489, 0.9758675537962818, 0.9616034901663992, 0.9322171662041215, 0.05378175958869932, 0.11993210310437183, 0.17042983072726522, 0.3124546896666529, 0.20356896447978903, 0.1941006405504965, 0.13293922072288458, 0.35559202598268513, 0.16393118629018283, 0.19410757381623636, 0.15414424979524652, 0.12460783886035806, 0.028319963377354106, 0.7533110258376192, 0.09628787548300395, 0.03550529389689985, 0.49944113414972463, 0.16805839111199264, 0.061542509421293086, 0.23670195931266572, 0.022534781027644047, 0.022534781027644047, 0.9689955841886939, 0.014510420628785404, 0.014510420628785404, 0.04353126188635621, 0.9141564996134804, 0.4652386063214966, 0.0034719298979216163, 0.12498947632517819, 0.09721403714180527, 0.30900176091502385, 0.5226975082075838, 0.11087522901372988, 0.04223818248142091, 0.17423250273586124, 0.14959356295503237, 0.9376974522526162, 0.973181105629762, 0.15936272591795383, 0.11590016430396644, 0.6954009858237986, 0.02897504107599161, 0.04962312816331519, 0.9180278710213311, 0.912682677573465, 0.2563314517658501, 0.736952923826819, 0.24443193763112886, 0.005431820836247308, 0.059750029198720384, 0.17381826675991385, 0.5160229794434943, 0.3940425395687431, 0.048747530668298115, 0.028436059556507232, 0.5199736604618466, 0.008124588444716353, 0.9426434541645878, 0.5652962830463041, 0.11120582617304343, 0.009267152181086953, 0.12974013053521735, 0.194610195802826, 0.04227870421096574, 0.12358390461666909, 0.7642688838136115, 0.06504416032456267, 0.0032522080162281338, 0.053759405556162834, 0.3942356407451941, 0.4569549472273841, 0.09258564290228044, 0.059269164648092634, 0.3316250879119469, 0.39653893490747694, 0.17780749394427792, 0.033868094084624364, 0.973183875666834, 0.020274664076392373, 0.9792108340441705, 0.11703522973776992, 0.15117050507795282, 0.23772781040484514, 0.26820573481572274, 0.2255366406404941, 0.051297565715529965, 0.10259513143105993, 0.8207610514484794, 0.12021118150983137, 0.37498711844111576, 0.2314513793248992, 0.22427459236908837, 0.050237508690675794, 0.1890872986235967, 0.09299375342144099, 0.0650956273950087, 0.42777126573862856, 0.2231850082114584, 0.9804035505708558, 0.9839781611633398, 0.0738557279804229, 0.7350403403765899, 0.031652454848752676, 0.04220327313167024, 0.11957594053973233, 0.9615967685174504, 0.9689887640576833], \"Term\": [\"ab\", \"about\", \"about\", \"about\", \"about\", \"about\", \"accidental\", \"acemiz\", \"acenac\", \"acivir\", \"acne\", \"acne\", \"acne\", \"active\", \"adequate\", \"adequate\", \"adjusting\", \"adjusting\", \"adjusts\", \"advent\", \"adversely\", \"adversely\", \"advice\", \"advice\", \"advice\", \"advice\", \"advice\", \"affect\", \"affect\", \"affect\", \"affect\", \"affect\", \"affected\", \"affected\", \"affected\", \"affected\", \"affected\", \"aggravated\", \"air\", \"air\", \"all\", \"all\", \"all\", \"all\", \"all\", \"allergic\", \"allergic\", \"allergic\", \"allergic\", \"allergic\", \"alleviates\", \"alright\", \"alternative\", \"ampoxin\", \"an\", \"an\", \"an\", \"an\", \"an\", \"anal\", \"ankle\", \"ankylosing\", \"antibiotic\", \"antibiotic\", \"antibiotic\", \"antibiotic\", \"antihistamine\", \"antihistamine\", \"any\", \"any\", \"any\", \"any\", \"any\", \"anything\", \"anything\", \"anything\", \"anything\", \"anything\", \"appear\", \"appear\", \"application\", \"application\", \"applied\", \"applied\", \"area\", \"area\", \"area\", \"arthritis\", \"asthakind\", \"at\", \"at\", \"at\", \"at\", \"at\", \"attack\", \"attack\", \"attack\", \"attack\", \"attack\", \"avoiding\", \"azee\", \"azibact\", \"aziderm\", \"azithral\", \"azulix\", \"bacteria\", \"bacteria\", \"bacteria\", \"behave\", \"behave\", \"behavior\", \"beneficial\", \"beneficial\", \"beneficial\", \"better\", \"better\", \"better\", \"better\", \"better\", \"big\", \"bite\", \"bleeding\", \"bleeding\", \"bleeding\", \"blindness\", \"blister\", \"blocker\", \"blood\", \"blood\", \"blood\", \"blood\", \"blood\", \"breast\", \"breast\", \"broken\", \"build\", \"but\", \"but\", \"but\", \"but\", \"but\", \"can\", \"can\", \"can\", \"can\", \"can\", \"cancer\", \"cancer\", \"capsule\", \"capsule\", \"capsule\", \"capsule\", \"careful\", \"careful\", \"cause\", \"cause\", \"cause\", \"cause\", \"cause\", \"cessation\", \"channel\", \"checked\", \"checked\", \"checked\", \"cholesterol\", \"cholesterol\", \"cholesterol\", \"cholesterol\", \"clean\", \"clean\", \"clot\", \"clot\", \"common\", \"common\", \"common\", \"common\", \"common\", \"completed\", \"completed\", \"completed\", \"completion\", \"completion\", \"component\", \"concerned\", \"concerned\", \"concerned\", \"condition\", \"condition\", \"condition\", \"condition\", \"condition\", \"conjunctivitis\", \"consistent\", \"consistent\", \"consistent\", \"consistent\", \"consistent\", \"consult\", \"consult\", \"consult\", \"consult\", \"consult\", \"control\", \"control\", \"control\", \"control\", \"control\", \"cough\", \"cough\", \"cough\", \"cough\", \"couple\", \"course\", \"course\", \"course\", \"course\", \"course\", \"cream\", \"cream\", \"cutting\", \"day\", \"day\", \"day\", \"day\", \"day\", \"deal\", \"decide\", \"decide\", \"decide\", \"decide\", \"delusion\", \"delusion\", \"depends\", \"depends\", \"depends\", \"diabetes\", \"diabetes\", \"diabetes\", \"diabetic\", \"diabetic\", \"diagnostic\", \"diet\", \"diet\", \"diet\", \"diet\", \"diet\", \"dietitian\", \"direct\", \"discontinuation\", \"disease\", \"disease\", \"disease\", \"disease\", \"disease\", \"do\", \"do\", \"do\", \"do\", \"do\", \"dose\", \"dose\", \"dose\", \"dose\", \"dose\", \"dosing\", \"dropper\", \"duration\", \"duration\", \"duration\", \"duration\", \"duration\", \"during\", \"during\", \"during\", \"during\", \"during\", \"dyspepsia\", \"each\", \"each\", \"each\", \"each\", \"each\", \"earlier\", \"early\", \"early\", \"early\", \"early\", \"early\", \"eating\", \"eating\", \"effectiveness\", \"effectiveness\", \"eliminate\", \"endocarditis\", \"engaging\", \"ensure\", \"ensure\", \"especially\", \"especially\", \"etc\", \"etc\", \"etc\", \"etc\", \"every\", \"every\", \"every\", \"every\", \"every\", \"everybody\", \"everybody\", \"exercise\", \"exercise\", \"exercise\", \"exercise\", \"exercise\", \"expectorant\", \"eye\", \"eye\", \"eye\", \"eye\", \"eye\", \"feel\", \"feel\", \"feel\", \"feel\", \"feel\", \"feeling\", \"feeling\", \"feeling\", \"feeling\", \"feeling\", \"fight\", \"finish\", \"finish\", \"finish\", \"finish\", \"first\", \"first\", \"first\", \"focus\", \"focus\", \"focus\", \"focus\", \"focus\", \"food\", \"food\", \"food\", \"food\", \"food\", \"football\", \"formation\", \"formation\", \"formation\", \"formation\", \"function\", \"function\", \"function\", \"function\", \"function\", \"gel\", \"gel\", \"get\", \"get\", \"get\", \"get\", \"get\", \"glucose\", \"gonorrhea\", \"gram\", \"habit\", \"habit\", \"habit\", \"hair\", \"hair\", \"hair\", \"hand\", \"hand\", \"hand\", \"happening\", \"hay\", \"healthy\", \"healthy\", \"healthy\", \"healthy\", \"healthy\", \"hearing\", \"heart\", \"heart\", \"heart\", \"heart\", \"heart\", \"help\", \"help\", \"help\", \"help\", \"help\", \"herpes\", \"high\", \"high\", \"high\", \"high\", \"high\", \"hive\", \"hour\", \"hour\", \"hour\", \"hour\", \"hour\", \"how\", \"how\", \"how\", \"how\", \"how\", \"hypertension\", \"hypertension\", \"hypertension\", \"hypoglycemia\", \"ill\", \"immediate\", \"include\", \"include\", \"include\", \"include\", \"include\", \"including\", \"infection\", \"infection\", \"infection\", \"infection\", \"infection\", \"inflammation\", \"inflammation\", \"inflammation\", \"inflammation\", \"inhaler\", \"inhaler\", \"injection\", \"injection\", \"injection\", \"injection\", \"injection\", \"kidney\", \"kidney\", \"kidney\", \"kidney\", \"kidney\", \"know\", \"know\", \"know\", \"know\", \"know\", \"laboratory\", \"layer\", \"layer\", \"le\", \"le\", \"le\", \"le\", \"least\", \"let\", \"let\", \"let\", \"let\", \"let\", \"level\", \"level\", \"level\", \"level\", \"level\", \"lipid\", \"liver\", \"liver\", \"liver\", \"liver\", \"liver\", \"low\", \"low\", \"low\", \"low\", \"lower\", \"lower\", \"lower\", \"lower\", \"lower\", \"make\", \"make\", \"make\", \"make\", \"make\", \"meant\", \"meant\", \"medication\", \"medication\", \"medication\", \"medication\", \"medication\", \"mellitus\", \"mental\", \"mental\", \"mental\", \"mental\", \"mental\", \"moderation\", \"moderation\", \"modified\", \"modifying\", \"modifying\", \"moisturizer\", \"mood\", \"more\", \"more\", \"more\", \"more\", \"more\", \"most\", \"most\", \"most\", \"most\", \"most\", \"much\", \"much\", \"must\", \"must\", \"must\", \"must\", \"must\", \"narrowing\", \"necessary\", \"need\", \"need\", \"need\", \"need\", \"need\", \"negative\", \"never\", \"never\", \"never\", \"never\", \"nose\", \"nose\", \"nose\", \"nose\", \"nose\", \"number\", \"object\", \"observed\", \"observed\", \"ointment\", \"on\", \"on\", \"on\", \"on\", \"on\", \"orally\", \"orally\", \"osteoarthritis\", \"other\", \"other\", \"other\", \"other\", \"other\", \"pain\", \"pain\", \"pain\", \"pain\", \"pain\", \"part\", \"part\", \"part\", \"part\", \"passage\", \"passage\", \"penicillin\", \"person\", \"person\", \"person\", \"person\", \"play\", \"pneumonia\", \"positive\", \"postoperative\", \"potency\", \"precise\", \"preferably\", \"preferably\", \"preferably\", \"preferably\", \"preferably\", \"pregnant\", \"pregnant\", \"pregnant\", \"pregnant\", \"pregnant\", \"prescribed\", \"prescribed\", \"prescribed\", \"prescribed\", \"prescribed\", \"prescribing\", \"pressure\", \"pressure\", \"pressure\", \"pressure\", \"pressure\", \"prevent\", \"prevent\", \"prevent\", \"prevent\", \"prevent\", \"preventing\", \"preventing\", \"preventing\", \"preventing\", \"preventing\", \"previous\", \"previous\", \"production\", \"production\", \"production\", \"program\", \"program\", \"program\", \"pulmonary\", \"pulmonary\", \"put\", \"put\", \"pylorus\", \"reaction\", \"reaction\", \"reaction\", \"reaction\", \"reaction\", \"recognize\", \"recommend\", \"recommend\", \"recommend\", \"recommended\", \"recommended\", \"recommended\", \"recommended\", \"recommended\", \"recommends\", \"recommends\", \"recommends\", \"recommends\", \"recovery\", \"redness\", \"redness\", \"redness\", \"redness\", \"reduction\", \"reduction\", \"reduction\", \"reflux\", \"reflux\", \"regular\", \"regular\", \"regular\", \"regular\", \"regular\", \"regularly\", \"regularly\", \"regularly\", \"regularly\", \"regularly\", \"relieve\", \"relieve\", \"relieve\", \"relieve\", \"relieve\", \"relieving\", \"relieving\", \"relieving\", \"relieving\", \"repeated\", \"repeated\", \"requires\", \"requires\", \"requires\", \"requires\", \"requires\", \"resolve\", \"resolve\", \"resolve\", \"resolve\", \"resolve\", \"returning\", \"returning\", \"rheumatoid\", \"risk\", \"risk\", \"risk\", \"risk\", \"risk\", \"safe\", \"safe\", \"safe\", \"safe\", \"safe\", \"safely\", \"scalp\", \"schizophrenia\", \"schizophrenia\", \"seek\", \"seeking\", \"several\", \"several\", \"several\", \"sexually\", \"sexually\", \"sexually\", \"sharp\", \"shaving\", \"sinus\", \"sinus\", \"site\", \"site\", \"site\", \"site\", \"skin\", \"skin\", \"skin\", \"skin\", \"skin\", \"sleepiness\", \"sleepiness\", \"sleepiness\", \"sleepiness\", \"sleepiness\", \"snacking\", \"so\", \"so\", \"so\", \"so\", \"so\", \"soft\", \"soft\", \"some\", \"some\", \"some\", \"some\", \"some\", \"sp\", \"spondylitis\", \"sport\", \"spray\", \"statin\", \"sting\", \"stomach\", \"stomach\", \"stomach\", \"stomach\", \"stomach\", \"stone\", \"stone\", \"stop\", \"stop\", \"stop\", \"stop\", \"stop\", \"straight\", \"straight\", \"straight\", \"straight\", \"stroke\", \"stroke\", \"stroke\", \"stroke\", \"stroke\", \"stuffiness\", \"stuffiness\", \"stuffiness\", \"stuffy\", \"stuffy\", \"stuffy\", \"subside\", \"subside\", \"subside\", \"sugar\", \"sugar\", \"sugar\", \"sugar\", \"suicidal\", \"sun\", \"sun\", \"sun\", \"support\", \"support\", \"support\", \"survive\", \"symptom\", \"symptom\", \"symptom\", \"symptom\", \"symptom\", \"tablet\", \"tablet\", \"tablet\", \"tablet\", \"tablet\", \"take\", \"take\", \"take\", \"take\", \"take\", \"taken\", \"taken\", \"taken\", \"taken\", \"taken\", \"talking\", \"talking\", \"talking\", \"talking\", \"talking\", \"tell\", \"tell\", \"tell\", \"tell\", \"tell\", \"temporary\", \"temporary\", \"temporary\", \"temporary\", \"temporary\", \"that\", \"that\", \"that\", \"that\", \"that\", \"thereafter\", \"these\", \"these\", \"these\", \"these\", \"these\", \"thin\", \"thin\", \"thins\", \"thins\", \"thoroughly\", \"thoroughly\", \"those\", \"time\", \"time\", \"time\", \"time\", \"time\", \"tired\", \"tissue\", \"tissue\", \"tissue\", \"too\", \"too\", \"too\", \"too\", \"too\", \"toothache\", \"tr\", \"transmitted\", \"transmitted\", \"treat\", \"treat\", \"treat\", \"treat\", \"treat\", \"treatment\", \"treatment\", \"treatment\", \"treatment\", \"treatment\", \"try\", \"try\", \"try\", \"try\", \"type\", \"type\", \"type\", \"type\", \"type\", \"unexplained\", \"unexplained\", \"unexplained\", \"urinary\", \"urinary\", \"urinary\", \"urinary\", \"use\", \"use\", \"use\", \"use\", \"use\", \"using\", \"using\", \"using\", \"using\", \"using\", \"valve\", \"variety\", \"very\", \"very\", \"very\", \"very\", \"viral\", \"viral\", \"wait\", \"wash\", \"wash\", \"water\", \"water\", \"water\", \"water\", \"water\", \"way\", \"way\", \"way\", \"way\", \"way\", \"wear\", \"week\", \"week\", \"week\", \"week\", \"week\", \"weight\", \"weight\", \"weight\", \"weight\", \"weight\", \"what\", \"what\", \"what\", \"what\", \"while\", \"while\", \"while\", \"while\", \"while\", \"widely\", \"widely\", \"widening\", \"will\", \"will\", \"will\", \"will\", \"will\", \"within\", \"within\", \"within\", \"without\", \"without\", \"without\", \"without\", \"without\", \"work\", \"work\", \"work\", \"work\", \"work\", \"working\", \"workload\", \"worsen\", \"worsen\", \"worsen\", \"worsen\", \"worsen\", \"wrestling\", \"year\"]}, \"R\": 30, \"lambda.step\": 0.01, \"plot.opts\": {\"xlab\": \"PC1\", \"ylab\": \"PC2\"}, \"topic.order\": [1, 2, 3, 4, 5]};\n",
       "\n",
       "function LDAvis_load_lib(url, callback){\n",
       "  var s = document.createElement('script');\n",
       "  s.src = url;\n",
       "  s.async = true;\n",
       "  s.onreadystatechange = s.onload = callback;\n",
       "  s.onerror = function(){console.warn(\"failed to load library \" + url);};\n",
       "  document.getElementsByTagName(\"head\")[0].appendChild(s);\n",
       "}\n",
       "\n",
       "if(typeof(LDAvis) !== \"undefined\"){\n",
       "   // already loaded: just create the visualization\n",
       "   !function(LDAvis){\n",
       "       new LDAvis(\"#\" + \"ldavis_el282731401830859312006364827131\", ldavis_el282731401830859312006364827131_data);\n",
       "   }(LDAvis);\n",
       "}else if(typeof define === \"function\" && define.amd){\n",
       "   // require.js is available: use it to load d3/LDAvis\n",
       "   require.config({paths: {d3: \"https://d3js.org/d3.v5\"}});\n",
       "   require([\"d3\"], function(d3){\n",
       "      window.d3 = d3;\n",
       "      LDAvis_load_lib(\"https://cdn.jsdelivr.net/gh/bmabey/pyLDAvis@3.4.0/pyLDAvis/js/ldavis.v3.0.0.js\", function(){\n",
       "        new LDAvis(\"#\" + \"ldavis_el282731401830859312006364827131\", ldavis_el282731401830859312006364827131_data);\n",
       "      });\n",
       "    });\n",
       "}else{\n",
       "    // require.js not available: dynamically load d3 & LDAvis\n",
       "    LDAvis_load_lib(\"https://d3js.org/d3.v5.js\", function(){\n",
       "         LDAvis_load_lib(\"https://cdn.jsdelivr.net/gh/bmabey/pyLDAvis@3.4.0/pyLDAvis/js/ldavis.v3.0.0.js\", function(){\n",
       "                 new LDAvis(\"#\" + \"ldavis_el282731401830859312006364827131\", ldavis_el282731401830859312006364827131_data);\n",
       "            })\n",
       "         });\n",
       "}\n",
       "</script>"
      ],
      "text/plain": [
       "PreparedData(topic_coordinates=              x         y  topics  cluster       Freq\n",
       "topic                                                \n",
       "0     -0.012585  0.087821       1        1  15.980688\n",
       "1     -0.073975 -0.150802       2        1  22.300801\n",
       "2      0.184212 -0.013015       3        1  26.282283\n",
       "3      0.021258  0.009874       4        1  19.700127\n",
       "4     -0.118911  0.066123       5        1  15.736101, topic_info=          Term         Freq        Total Category  logprob  loglift\n",
       "419      blood  1617.000000  1617.000000  Default  30.0000  30.0000\n",
       "420   pressure   744.000000   744.000000  Default  29.0000  29.0000\n",
       "171  infection   649.000000   649.000000  Default  28.0000  28.0000\n",
       "679      level   808.000000   808.000000  Default  27.0000  27.0000\n",
       "418       high   530.000000   530.000000  Default  26.0000  26.0000\n",
       "..         ...          ...          ...      ...      ...      ...\n",
       "4         that   147.859092  1038.760624   Topic5  -4.9483  -0.1003\n",
       "203       feel   127.148942   581.845686   Topic5  -5.0992   0.3284\n",
       "156       know   144.663878  1083.288185   Topic5  -4.9702  -0.1641\n",
       "20       these   139.235253  1025.418910   Topic5  -5.0084  -0.1475\n",
       "7        treat   123.347530   633.691881   Topic5  -5.1296   0.2127\n",
       "\n",
       "[441 rows x 6 columns], token_table=      Topic      Freq       Term\n",
       "term                            \n",
       "893       4  0.957420         ab\n",
       "98        1  0.127908      about\n",
       "98        2  0.500973      about\n",
       "98        3  0.042636      about\n",
       "98        4  0.266475      about\n",
       "...     ...       ...        ...\n",
       "207       3  0.031652     worsen\n",
       "207       4  0.042203     worsen\n",
       "207       5  0.119576     worsen\n",
       "1531      4  0.961597  wrestling\n",
       "1000      4  0.968989       year\n",
       "\n",
       "[968 rows x 3 columns], R=30, lambda_step=0.01, plot_opts={'xlab': 'PC1', 'ylab': 'PC2'}, topic_order=[1, 2, 3, 4, 5])"
      ]
     },
     "execution_count": 20,
     "metadata": {},
     "output_type": "execute_result"
    }
   ],
   "source": [
    "vis5 = pyLDAvis.gensim_models.prepare(Lda5, Corpus, D, sort_topics = False)\n",
    "vis5"
   ]
  },
  {
   "cell_type": "code",
   "execution_count": 21,
   "metadata": {},
   "outputs": [],
   "source": [
    "Lda4, Coherence_score = train_model_get_coherence_score(Corpus, Id2word, 4, Word2id)"
   ]
  },
  {
   "cell_type": "code",
   "execution_count": 22,
   "metadata": {},
   "outputs": [
    {
     "name": "stdout",
     "output_type": "stream",
     "text": [
      "This model has coherence score = -0.5601648313988095\n"
     ]
    }
   ],
   "source": [
    "print('This model has coherence score = {}'.format(Coherence_score))"
   ]
  },
  {
   "cell_type": "code",
   "execution_count": 23,
   "metadata": {},
   "outputs": [
    {
     "data": {
      "text/html": [
       "\n",
       "<link rel=\"stylesheet\" type=\"text/css\" href=\"https://cdn.jsdelivr.net/gh/bmabey/pyLDAvis@3.4.0/pyLDAvis/js/ldavis.v1.0.0.css\">\n",
       "\n",
       "\n",
       "<div id=\"ldavis_el282731401833618110561338331680\" style=\"background-color:white;\"></div>\n",
       "<script type=\"text/javascript\">\n",
       "\n",
       "var ldavis_el282731401833618110561338331680_data = {\"mdsDat\": {\"x\": [-0.054635516053753996, -0.12137719038133542, 0.04723547162778404, 0.12877723480730527], \"y\": [-0.0709173127819502, 0.0754455031295114, -0.0719372112975382, 0.06740902094997711], \"topics\": [1, 2, 3, 4], \"cluster\": [1, 1, 1, 1], \"Freq\": [26.873866217538268, 32.27272553001265, 16.287559201877777, 24.565849050571302]}, \"tinfo\": {\"Term\": [\"pressure\", \"blood\", \"heart\", \"take\", \"medication\", \"high\", \"type\", \"infection\", \"level\", \"symptom\", \"nose\", \"antibiotic\", \"feel\", \"eye\", \"what\", \"advice\", \"often\", \"duration\", \"cholesterol\", \"dose\", \"skin\", \"contact\", \"meal\", \"advised\", \"course\", \"however\", \"must\", \"full\", \"drive\", \"about\", \"active\", \"those\", \"depends\", \"especially\", \"hypertension\", \"ankle\", \"properly\", \"angina\", \"eating\", \"single\", \"blocker\", \"inhaler\", \"workload\", \"pressure\", \"much\", \"beating\", \"salt\", \"appear\", \"happening\", \"dosing\", \"seeking\", \"men\", \"trouble\", \"prostate\", \"breast\", \"asked\", \"flushing\", \"channel\", \"asthma\", \"tr\", \"electrolyte\", \"often\", \"chest\", \"follow\", \"advice\", \"related\", \"there\", \"no\", \"because\", \"high\", \"blood\", \"need\", \"what\", \"heart\", \"reducing\", \"well\", \"keeping\", \"control\", \"day\", \"take\", \"on\", \"regular\", \"tablet\", \"treat\", \"other\", \"get\", \"symptom\", \"kidney\", \"attack\", \"ha\", \"at\", \"know\", \"make\", \"help\", \"do\", \"most\", \"condition\", \"problem\", \"stop\", \"will\", \"any\", \"time\", \"can\", \"dose\", \"let\", \"but\", \"while\", \"tell\", \"food\", \"gram\", \"diabetic\", \"spectrum\", \"typhoid\", \"broad\", \"transmitted\", \"previous\", \"negative\", \"gonorrhea\", \"regarded\", \"mellitus\", \"triglyceride\", \"spaced\", \"positive\", \"evenly\", \"according\", \"repeated\", \"arthritis\", \"penicillin\", \"spondylitis\", \"rheumatoid\", \"osteoarthritis\", \"eg\", \"ankylosing\", \"sexually\", \"yellowing\", \"dyspepsia\", \"build\", \"thereafter\", \"statin\", \"find\", \"fatty\", \"antibiotic\", \"meal\", \"adult\", \"reduction\", \"program\", \"type\", \"bacteria\", \"interval\", \"cholesterol\", \"tract\", \"part\", \"sugar\", \"monitor\", \"one\", \"fat\", \"seen\", \"ear\", \"level\", \"pain\", \"regularly\", \"infection\", \"lead\", \"stomach\", \"risk\", \"diabetes\", \"hour\", \"stopping\", \"increase\", \"prescribed\", \"time\", \"disease\", \"diarrhea\", \"blood\", \"tablet\", \"an\", \"at\", \"include\", \"some\", \"liver\", \"taken\", \"any\", \"take\", \"treatment\", \"will\", \"heart\", \"kidney\", \"these\", \"consult\", \"let\", \"that\", \"know\", \"do\", \"help\", \"mood\", \"suicidal\", \"behavior\", \"depression\", \"habit\", \"balanced\", \"herpes\", \"aggravated\", \"calorie\", \"potency\", \"discontinuation\", \"recovery\", \"snacking\", \"against\", \"neuropathic\", \"anal\", \"stopped\", \"laboratory\", \"portion\", \"dietitian\", \"calm\", \"adequate\", \"talking\", \"acivir\", \"suddenly\", \"blister\", \"behave\", \"adversely\", \"bedtime\", \"delusion\", \"consistent\", \"schizophrenia\", \"withdrawal\", \"diagnostic\", \"please\", \"anxiety\", \"maintain\", \"prescription\", \"immediate\", \"immediately\", \"ability\", \"seek\", \"however\", \"soon\", \"sudden\", \"must\", \"gain\", \"treating\", \"thought\", \"finish\", \"ointment\", \"inform\", \"course\", \"full\", \"better\", \"take\", \"advised\", \"without\", \"dose\", \"feel\", \"body\", \"do\", \"duration\", \"cause\", \"any\", \"that\", \"treatment\", \"drive\", \"tablet\", \"medication\", \"some\", \"can\", \"infection\", \"even\", \"consult\", \"common\", \"taken\", \"help\", \"food\", \"on\", \"time\", \"at\", \"eye\", \"concerned\", \"recommend\", \"beneficial\", \"thins\", \"mucus\", \"pimple\", \"stuffiness\", \"expectorant\", \"layer\", \"sneezing\", \"meant\", \"broken\", \"thin\", \"watery\", \"oil\", \"peeling\", \"whitehead\", \"procedure\", \"acne\", \"blackhead\", \"runny\", \"minimizes\", \"windpipe\", \"scalp\", \"l\", \"asthakind\", \"stepping\", \"applied\", \"support\", \"fungus\", \"recommends\", \"gel\", \"stuffy\", \"congestion\", \"clean\", \"straight\", \"cough\", \"hair\", \"nose\", \"contact\", \"come\", \"self\", \"relief\", \"about\", \"back\", \"worsen\", \"medication\", \"area\", \"affected\", \"skin\", \"all\", \"resolve\", \"itching\", \"respond\", \"eye\", \"sleepiness\", \"using\", \"symptom\", \"most\", \"affect\", \"these\", \"condition\", \"can\", \"dose\", \"use\", \"do\", \"treatment\", \"any\", \"know\", \"tell\", \"that\", \"so\", \"usually\", \"how\", \"other\", \"pregnant\", \"cause\", \"let\", \"common\", \"on\"], \"Freq\": [740.0, 1609.0, 994.0, 1437.0, 548.0, 526.0, 417.0, 645.0, 803.0, 754.0, 307.0, 267.0, 576.0, 505.0, 335.0, 245.0, 224.0, 504.0, 274.0, 1119.0, 495.0, 246.0, 215.0, 671.0, 290.0, 174.0, 257.0, 230.0, 322.0, 469.0, 76.396759299954, 68.58443788241301, 89.82924012957426, 73.39077195112046, 89.77193303722828, 78.91866081276326, 42.220192385156665, 55.63895133147371, 85.31251983156234, 37.325842709899355, 34.42656040468715, 47.772343127422516, 32.456726467691006, 720.6457347388588, 63.86200119803221, 29.53069436189091, 35.97975578803656, 47.82730523608805, 22.477936359695793, 17.783614620995998, 16.833308948728277, 18.687448392738006, 21.446609636882613, 17.695603157526833, 33.51770314758732, 37.2016497226117, 41.77930645166934, 32.485127285940834, 67.76391732061788, 14.840673567058468, 46.2963250514922, 200.69674578996077, 80.28324244690428, 102.33611529833465, 207.0988163947221, 83.59023289529823, 82.99178974558586, 82.32204417689762, 99.50712035732498, 367.9664866836422, 935.3928769874774, 271.87573410538886, 238.05059572544275, 589.7264393502743, 164.73079474684155, 148.66369575068413, 83.16173891620701, 145.88110331359832, 336.5286908412875, 578.9540980643493, 378.68533251147204, 188.39128234671418, 423.87968095638666, 277.2946516582633, 351.52107470192266, 292.32271572995126, 302.6538354928516, 286.7619390936524, 149.3967061617757, 129.09465778652262, 335.5774063662027, 338.0692539715598, 213.70891936796778, 285.4676406806332, 367.9420259351452, 289.57840535860265, 290.64894426877186, 218.05008905024204, 255.22570365368787, 266.9983503456287, 343.36162526730476, 282.01197992413177, 269.8004981236538, 266.68914394626745, 235.3476664442005, 224.30513000685602, 227.45141864076794, 227.0007177490846, 227.22432810102913, 101.48762995257063, 92.49991971220783, 63.4879250456487, 62.52581506034641, 63.46617752791998, 53.78079040045809, 56.64949247823344, 50.877260451691875, 50.85255754033907, 76.5734029802341, 54.5239823395321, 41.126158107080364, 135.71480972622317, 51.58953519214628, 135.6454226563891, 57.30751534650437, 41.97893842993219, 51.521217835492635, 61.95543404171892, 44.79551811106465, 51.467533160065294, 47.60328634083642, 32.351241183061596, 44.719180393262825, 55.16561123138661, 65.60688754460377, 33.248118565998, 36.09782950326305, 33.24344914358015, 36.09334665872551, 75.68983481942635, 42.68854137514059, 253.93544054225222, 204.4143276328431, 76.86975830990549, 84.11834378774972, 87.8736639527496, 371.640250687266, 196.3992404194117, 129.59361238317345, 242.37921461959445, 150.273715570948, 119.94893903689987, 302.4205735519874, 149.3113020856271, 111.91977141276789, 102.45315804464016, 157.36694884253242, 125.6697253225778, 527.9267991683807, 554.2761334419465, 421.7438249111263, 413.4640657798049, 200.68503881370384, 383.6989333292988, 212.9648286824272, 134.11600148051664, 122.95029549986928, 139.80093496071456, 213.23698361717007, 264.7300704837224, 451.4789854909397, 319.2889851778583, 213.46244930314464, 561.6384269431658, 459.6961340610398, 267.1166951220625, 405.3180058698073, 294.8577909237042, 352.57053850000756, 324.6802201974004, 362.67328790719347, 464.59954006702304, 445.2616333714943, 403.2403143979764, 303.882090330248, 329.9579163575123, 280.9956216135617, 308.5830369467512, 279.00171604851454, 275.7346030282443, 295.55615939281296, 294.89574335226393, 296.2051120883958, 277.251028432827, 46.31807113300342, 33.78877335053873, 32.83557460485222, 60.000906455554755, 25.244079196544106, 20.431948084572152, 18.518877571714647, 23.120805368156905, 18.48851438232973, 20.306801624453477, 20.265878362875515, 21.177794771886308, 15.645725621961233, 21.147383873222665, 16.54009757147546, 15.615770472460124, 63.36505844728164, 22.0315799357883, 14.68370693724772, 14.668696091552793, 14.663100295361568, 22.908310751741187, 55.83610739236416, 13.707105534840448, 85.82376951141455, 12.76904946311902, 17.327619569261127, 16.392105899892677, 21.855738600504875, 16.388972153585005, 60.31931315971994, 18.19518769268461, 21.655040731006988, 22.434168406752146, 86.08229353773888, 54.31988140441377, 72.91914283323929, 98.35506857257091, 41.46277818987555, 61.32901726851667, 50.24942618438975, 39.54373020659703, 118.5806489165212, 79.33383615054683, 39.7414801448728, 144.08733504924243, 50.777688428552885, 47.62669647212917, 36.67428325898863, 89.3026999836893, 28.52478514877052, 141.24918538847604, 122.5047019372483, 102.4032762026222, 175.01651718475097, 340.2046015427721, 206.27439114051143, 177.3672487659701, 263.8673249244386, 172.4711317463437, 112.56234939698759, 272.5225112569401, 155.2165236951235, 175.5328822414095, 281.43665351028903, 222.9738841566917, 241.749865775935, 119.32716353373748, 223.72911701684086, 145.49097216143687, 170.44420052880008, 184.40021918131694, 149.32575358863, 131.56586912153224, 151.11688044057993, 152.0166874813465, 156.91738459173027, 151.41946775232657, 135.73356087362222, 139.311475544173, 139.30660417571394, 130.9399032965746, 122.95890431474598, 121.04559655252216, 78.044162566205, 75.03082226271992, 39.62958415880838, 74.37720193255464, 40.42637803322787, 34.65090632453254, 29.802720397304928, 33.564167465428525, 93.95933132165705, 27.7792749496405, 30.650053351221306, 32.51259330737202, 94.64191660966954, 27.675218111338822, 25.759042991350203, 20.89532930167834, 22.791134648421504, 111.09024813131084, 20.874512631855218, 97.74092471473726, 19.90912891714168, 40.69006973760422, 18.921489374134577, 19.850761573017415, 17.953515174174242, 17.92789247251167, 32.92585523667778, 79.77019834143428, 15.004037527815036, 120.04453306951905, 86.48205472166373, 22.487534700933875, 43.65954600581387, 59.65659909097494, 127.21150437973021, 113.8294438952132, 48.82293225525271, 238.18196907919068, 190.00289738731817, 151.48791116579426, 91.85729645972907, 135.35776243293122, 292.59824753870424, 154.49461619127877, 191.34170863977928, 326.5436329339164, 114.45608379131683, 216.75632313656132, 294.3861671281625, 293.31134298629013, 161.18994497265294, 132.8090885269606, 109.17153933496242, 266.52860385135955, 179.81591262303004, 285.83002159354305, 339.2088334352696, 363.9467253211766, 250.9110682166315, 390.8205404637314, 349.9840401390188, 377.28651241925394, 390.92894696914703, 254.7132037032477, 393.1917282577051, 371.19178234018665, 411.88354876988234, 342.01555602950873, 268.48764695747167, 326.66221959188084, 225.49748385433355, 222.41560930958235, 234.54012554810865, 280.32880046768616, 261.2196845952268, 229.50864574700412, 231.1854320044712, 231.22230475938758, 228.72644039476396], \"Total\": [740.0, 1609.0, 994.0, 1437.0, 548.0, 526.0, 417.0, 645.0, 803.0, 754.0, 307.0, 267.0, 576.0, 505.0, 335.0, 245.0, 224.0, 504.0, 274.0, 1119.0, 495.0, 246.0, 215.0, 671.0, 290.0, 174.0, 257.0, 230.0, 322.0, 469.0, 77.44098790268751, 69.59832330660207, 91.16537590029796, 74.49912300974275, 91.16156815610218, 80.37654156188066, 43.12902046388338, 56.85278438118699, 87.24277077238413, 38.22723682412244, 35.286572855957054, 49.00709918480776, 33.325863827063, 740.9342116130238, 65.67504285007594, 30.384586833011085, 37.24042298071864, 49.97449506528027, 23.52109444200077, 18.620165229195024, 17.640222018416612, 19.599535702674896, 22.540018182623058, 18.618592244819258, 35.27442040703354, 39.20175468614456, 44.09549663141631, 34.29074406065284, 71.5706534163238, 15.678940723523125, 50.009909191871785, 224.3384028901056, 88.26872218057514, 115.65774570209528, 245.01731535227907, 95.04297883877261, 94.99088820143527, 96.00129006369484, 118.55073702708056, 526.8693566132728, 1609.9335959381397, 388.1949137813492, 335.14144304097704, 994.7645786191174, 227.67743743026796, 203.73951499915728, 101.10877970867108, 210.4866898656137, 644.0586551502845, 1437.6756124147232, 967.5289254831104, 345.62172602461175, 1220.9649794029913, 632.5943639334645, 920.0562408643224, 703.7605327708004, 754.7115751286979, 732.7399308272096, 249.74781408349796, 196.09723629131253, 1054.267663701988, 1086.4761433662006, 490.0301405605115, 831.0091891666518, 1329.8613775381862, 859.4701740373944, 879.6936789005802, 520.5028562053237, 724.3684727339323, 821.2884997954166, 1501.281367614499, 1038.2649056241041, 1046.6907541506635, 1119.2915231325305, 754.4957189307696, 597.5104667318832, 705.5441378582673, 689.7964900063985, 735.6848268546717, 102.8144790959119, 94.00182789522061, 64.62363798452026, 63.64500127568214, 64.62356687445438, 54.83144185838634, 57.76964090520318, 51.893903810397056, 51.89429937815207, 78.32918296327135, 55.809849895597104, 42.10204344342232, 139.05462839504344, 52.87183776976606, 139.05490220116522, 58.75042589791583, 43.081815726675686, 52.87796401596736, 63.63834672480504, 46.0223201233647, 52.87820428318308, 48.96135902289231, 33.28901769874011, 46.02337141342476, 56.78940521774046, 67.55969944605091, 34.26856640789525, 37.20637076864377, 34.268514137313836, 37.20637674595419, 78.32322883881027, 44.06031525053383, 267.3005242079938, 215.47836844879475, 80.2873570805082, 88.12916736831733, 93.01061780784146, 417.89288127579266, 215.5246574860388, 140.0252069054369, 274.82497146325807, 166.45567599733323, 131.2119562901169, 376.8941837460099, 173.16579684159748, 126.35876194991988, 114.59795185813023, 189.16124633082055, 147.7551920122357, 803.8905344276717, 853.6347155752767, 654.2783872143586, 645.224887037604, 274.8186082735642, 625.951925682588, 298.64331873535934, 166.4460840935245, 152.6910971239421, 182.82542131389542, 333.4007995148323, 457.48698472347945, 1038.2649056241041, 625.0038211644967, 348.99308410803127, 1609.9335959381397, 1220.9649794029913, 516.6674070445923, 1054.267663701988, 621.999411750286, 844.0297320965304, 735.4326350032395, 926.6658012411078, 1501.281367614499, 1437.6756124147232, 1223.0971409995414, 821.2884997954166, 994.7645786191174, 732.7399308272096, 1027.1620510794712, 775.4145617287652, 754.4957189307696, 1035.8224994470718, 1086.4761433662006, 1329.8613775381862, 831.0091891666518, 47.415142829780805, 34.83848982467612, 33.87085169751541, 61.93595162634231, 26.130062221175994, 21.292925671734718, 19.3577948557542, 24.197547951454375, 19.357997066805975, 21.29433800863353, 21.294766247200858, 22.262591943768193, 16.455442985092414, 22.262844385904327, 17.423245680465783, 16.4555647035228, 66.79161679575775, 23.23113477953865, 15.48790174738312, 15.488041135709196, 15.488189150370076, 24.199767160075094, 59.0489422704639, 14.520504039787113, 90.99955045479832, 13.553129992703996, 18.393078470713583, 17.42529328742229, 23.23405269426425, 17.425352921588804, 64.87130896292678, 19.361365564998582, 23.2343708370279, 24.207803462806776, 99.84660051638596, 62.0084503419068, 85.31900266402427, 120.39844776802272, 49.500071133450824, 77.60879471902697, 62.080970671537486, 47.565227126558504, 174.96790405552355, 115.69920937458886, 49.479660391266506, 257.22767926113994, 69.88965216360411, 66.0690093880045, 47.56188938666799, 168.31165518555838, 33.96663544786474, 336.7457298376825, 290.58949359180724, 230.85971561924464, 521.6500174230132, 1437.6756124147232, 671.5779303065872, 554.7024590599573, 1119.2915231325305, 576.8545980568034, 285.7559459155137, 1329.8613775381862, 504.21495140334486, 630.9616397372299, 1501.281367614499, 1035.8224994470718, 1223.0971409995414, 322.0924962349955, 1220.9649794029913, 548.9556832218364, 844.0297320965304, 1046.6907541506635, 645.224887037604, 489.2373286589437, 775.4145617287652, 824.2097553761289, 926.6658012411078, 831.0091891666518, 735.6848268546717, 967.5289254831104, 1038.2649056241041, 1054.267663701988, 505.49207608621737, 122.6407961686338, 79.12008791895661, 76.15199475650905, 40.542032487683734, 76.14470517085505, 41.52774885600068, 35.59564452498474, 30.650574747832543, 34.604422518042576, 96.90647500681592, 28.6713439150587, 31.63765529427436, 33.613756367472355, 97.88954938214144, 28.66979857401502, 26.69127411819258, 21.747182799310334, 23.72358432227798, 115.67199593918592, 21.746851800979375, 101.84108301279325, 20.757971889249887, 42.507250738831225, 19.76872625012119, 20.755508867956912, 18.78005437949867, 18.779589697074826, 34.592223901346415, 83.99549575706575, 15.811858721208337, 128.50623129663398, 92.85351674432398, 23.719751825118504, 47.43239947900375, 66.13574501209777, 147.11018966094537, 133.35521660789593, 54.304184902429775, 307.8320750586496, 246.2549724580604, 199.32749471760948, 113.39177459593182, 183.13019045387017, 469.8645897514244, 217.9093978251978, 282.4080923688183, 548.9556832218364, 153.53213046413953, 335.75048051817475, 495.01519162740635, 511.97679386630426, 242.00347214795423, 192.7514673843383, 149.95301509546806, 505.49207608621737, 294.9224452177412, 579.2290882632025, 754.7115751286979, 859.4701740373944, 502.63032914849316, 1027.1620510794712, 879.6936789005802, 1046.6907541506635, 1119.2915231325305, 585.297436200672, 1329.8613775381862, 1223.0971409995414, 1501.281367614499, 1086.4761433662006, 689.7964900063985, 1035.8224994470718, 487.91490043818783, 488.2825808650822, 590.1369930402386, 920.0562408643224, 834.0029596769774, 630.9616397372299, 754.4957189307696, 824.2097553761289, 967.5289254831104], \"Category\": [\"Default\", \"Default\", \"Default\", \"Default\", \"Default\", \"Default\", \"Default\", \"Default\", \"Default\", \"Default\", \"Default\", \"Default\", \"Default\", \"Default\", \"Default\", \"Default\", \"Default\", \"Default\", \"Default\", \"Default\", \"Default\", \"Default\", \"Default\", \"Default\", \"Default\", \"Default\", \"Default\", \"Default\", \"Default\", \"Default\", \"Topic1\", \"Topic1\", \"Topic1\", \"Topic1\", \"Topic1\", \"Topic1\", \"Topic1\", \"Topic1\", \"Topic1\", \"Topic1\", \"Topic1\", \"Topic1\", \"Topic1\", \"Topic1\", \"Topic1\", \"Topic1\", \"Topic1\", \"Topic1\", \"Topic1\", \"Topic1\", \"Topic1\", \"Topic1\", \"Topic1\", \"Topic1\", \"Topic1\", \"Topic1\", \"Topic1\", \"Topic1\", \"Topic1\", \"Topic1\", \"Topic1\", \"Topic1\", \"Topic1\", \"Topic1\", \"Topic1\", \"Topic1\", \"Topic1\", \"Topic1\", \"Topic1\", \"Topic1\", \"Topic1\", \"Topic1\", \"Topic1\", \"Topic1\", \"Topic1\", \"Topic1\", \"Topic1\", \"Topic1\", \"Topic1\", \"Topic1\", \"Topic1\", \"Topic1\", \"Topic1\", \"Topic1\", \"Topic1\", \"Topic1\", \"Topic1\", \"Topic1\", \"Topic1\", \"Topic1\", \"Topic1\", \"Topic1\", \"Topic1\", \"Topic1\", \"Topic1\", \"Topic1\", \"Topic1\", \"Topic1\", \"Topic1\", \"Topic1\", \"Topic1\", \"Topic1\", \"Topic1\", \"Topic1\", \"Topic1\", \"Topic1\", \"Topic1\", \"Topic1\", \"Topic1\", \"Topic2\", \"Topic2\", \"Topic2\", \"Topic2\", \"Topic2\", \"Topic2\", \"Topic2\", \"Topic2\", \"Topic2\", \"Topic2\", \"Topic2\", \"Topic2\", \"Topic2\", \"Topic2\", \"Topic2\", \"Topic2\", \"Topic2\", \"Topic2\", \"Topic2\", \"Topic2\", \"Topic2\", \"Topic2\", \"Topic2\", \"Topic2\", \"Topic2\", \"Topic2\", \"Topic2\", \"Topic2\", \"Topic2\", \"Topic2\", \"Topic2\", \"Topic2\", \"Topic2\", \"Topic2\", \"Topic2\", \"Topic2\", \"Topic2\", \"Topic2\", \"Topic2\", \"Topic2\", \"Topic2\", \"Topic2\", \"Topic2\", \"Topic2\", \"Topic2\", \"Topic2\", \"Topic2\", \"Topic2\", \"Topic2\", \"Topic2\", \"Topic2\", \"Topic2\", \"Topic2\", \"Topic2\", \"Topic2\", \"Topic2\", \"Topic2\", \"Topic2\", \"Topic2\", \"Topic2\", \"Topic2\", \"Topic2\", \"Topic2\", \"Topic2\", \"Topic2\", \"Topic2\", \"Topic2\", \"Topic2\", \"Topic2\", \"Topic2\", \"Topic2\", \"Topic2\", \"Topic2\", \"Topic2\", \"Topic2\", \"Topic2\", \"Topic2\", \"Topic2\", \"Topic2\", \"Topic2\", \"Topic2\", \"Topic2\", \"Topic2\", \"Topic2\", \"Topic2\", \"Topic3\", \"Topic3\", \"Topic3\", \"Topic3\", \"Topic3\", \"Topic3\", \"Topic3\", \"Topic3\", \"Topic3\", \"Topic3\", \"Topic3\", \"Topic3\", \"Topic3\", \"Topic3\", \"Topic3\", \"Topic3\", \"Topic3\", \"Topic3\", \"Topic3\", \"Topic3\", \"Topic3\", \"Topic3\", \"Topic3\", \"Topic3\", \"Topic3\", \"Topic3\", \"Topic3\", \"Topic3\", \"Topic3\", \"Topic3\", \"Topic3\", \"Topic3\", \"Topic3\", \"Topic3\", \"Topic3\", \"Topic3\", \"Topic3\", \"Topic3\", \"Topic3\", \"Topic3\", \"Topic3\", \"Topic3\", \"Topic3\", \"Topic3\", \"Topic3\", \"Topic3\", \"Topic3\", \"Topic3\", \"Topic3\", \"Topic3\", \"Topic3\", \"Topic3\", \"Topic3\", \"Topic3\", \"Topic3\", \"Topic3\", \"Topic3\", \"Topic3\", \"Topic3\", \"Topic3\", \"Topic3\", \"Topic3\", \"Topic3\", \"Topic3\", \"Topic3\", \"Topic3\", \"Topic3\", \"Topic3\", \"Topic3\", \"Topic3\", \"Topic3\", \"Topic3\", \"Topic3\", \"Topic3\", \"Topic3\", \"Topic3\", \"Topic3\", \"Topic3\", \"Topic3\", \"Topic3\", \"Topic3\", \"Topic3\", \"Topic3\", \"Topic4\", \"Topic4\", \"Topic4\", \"Topic4\", \"Topic4\", \"Topic4\", \"Topic4\", \"Topic4\", \"Topic4\", \"Topic4\", \"Topic4\", \"Topic4\", \"Topic4\", \"Topic4\", \"Topic4\", \"Topic4\", \"Topic4\", \"Topic4\", \"Topic4\", \"Topic4\", \"Topic4\", \"Topic4\", \"Topic4\", \"Topic4\", \"Topic4\", \"Topic4\", \"Topic4\", \"Topic4\", \"Topic4\", \"Topic4\", \"Topic4\", \"Topic4\", \"Topic4\", \"Topic4\", \"Topic4\", \"Topic4\", \"Topic4\", \"Topic4\", \"Topic4\", \"Topic4\", \"Topic4\", \"Topic4\", \"Topic4\", \"Topic4\", \"Topic4\", \"Topic4\", \"Topic4\", \"Topic4\", \"Topic4\", \"Topic4\", \"Topic4\", \"Topic4\", \"Topic4\", \"Topic4\", \"Topic4\", \"Topic4\", \"Topic4\", \"Topic4\", \"Topic4\", \"Topic4\", \"Topic4\", \"Topic4\", \"Topic4\", \"Topic4\", \"Topic4\", \"Topic4\", \"Topic4\", \"Topic4\", \"Topic4\", \"Topic4\", \"Topic4\", \"Topic4\", \"Topic4\", \"Topic4\", \"Topic4\", \"Topic4\", \"Topic4\", \"Topic4\", \"Topic4\", \"Topic4\"], \"logprob\": [30.0, 29.0, 28.0, 27.0, 26.0, 25.0, 24.0, 23.0, 22.0, 21.0, 20.0, 19.0, 18.0, 17.0, 16.0, 15.0, 14.0, 13.0, 12.0, 11.0, 10.0, 9.0, 8.0, 7.0, 6.0, 5.0, 4.0, 3.0, 2.0, 1.0, -6.1438, -6.2517, -5.9819, -6.184, -5.9825, -6.1114, -6.7369, -6.4609, -6.0335, -6.8601, -6.941, -6.6133, -6.9999, -3.8996, -6.3231, -7.0944, -6.8968, -6.6122, -7.3673, -7.6015, -7.6564, -7.5519, -7.4142, -7.6065, -6.9677, -6.8634, -6.7474, -6.999, -6.2638, -7.7824, -6.6447, -5.178, -6.0942, -5.8515, -5.1466, -6.0539, -6.061, -6.0691, -5.8796, -4.5718, -3.6388, -4.8744, -5.0073, -4.1001, -5.3755, -5.4781, -6.059, -5.497, -4.6611, -4.1186, -4.5431, -5.2413, -4.4303, -4.8547, -4.6175, -4.8019, -4.7672, -4.8211, -5.4732, -5.6192, -4.6639, -4.6565, -5.1152, -4.8257, -4.5719, -4.8114, -4.8077, -5.0951, -4.9376, -4.8925, -4.641, -4.8378, -4.8821, -4.8937, -5.0187, -5.0668, -5.0528, -5.0548, -5.0538, -6.0429, -6.1356, -6.512, -6.5273, -6.5123, -6.6779, -6.626, -6.7334, -6.7339, -6.3246, -6.6642, -6.9462, -5.7523, -6.7195, -5.7528, -6.6144, -6.9257, -6.7209, -6.5364, -6.8607, -6.7219, -6.8, -7.1862, -6.8625, -6.6525, -6.4792, -7.1589, -7.0766, -7.159, -7.0767, -6.3362, -6.9089, -5.1258, -5.3427, -6.3207, -6.2306, -6.187, -4.7449, -5.3827, -5.7985, -5.1724, -5.6504, -5.8758, -4.951, -5.6568, -5.9451, -6.0334, -5.6043, -5.8292, -4.3939, -4.3452, -4.6185, -4.6383, -5.3611, -4.713, -5.3017, -5.7641, -5.8511, -5.7226, -5.3005, -5.0841, -4.5503, -4.8968, -5.2994, -4.332, -4.5323, -5.0752, -4.6582, -4.9764, -4.7976, -4.88, -4.7694, -4.5217, -4.5642, -4.6633, -4.9462, -4.8639, -5.0245, -4.9309, -5.0316, -5.0434, -4.974, -4.9762, -4.9718, -5.0379, -6.1435, -6.4589, -6.4875, -5.8847, -6.7504, -6.9619, -7.0602, -6.8383, -7.0619, -6.9681, -6.9701, -6.9261, -7.2288, -6.9275, -7.1732, -7.2308, -5.8301, -6.8866, -7.2923, -7.2933, -7.2937, -6.8475, -5.9566, -7.3611, -5.5267, -7.432, -7.1267, -7.1822, -6.8946, -7.1824, -5.8794, -7.0779, -6.9038, -6.8684, -5.5237, -5.9841, -5.6897, -5.3904, -6.2542, -5.8628, -6.062, -6.3016, -5.2034, -5.6054, -6.2966, -5.0086, -6.0516, -6.1156, -6.377, -5.487, -6.6283, -5.0285, -5.1709, -5.3501, -4.8142, -4.1495, -4.6498, -4.8008, -4.4036, -4.8288, -5.2555, -4.3713, -4.9342, -4.8112, -4.3391, -4.572, -4.4911, -5.1972, -4.5686, -4.9989, -4.8406, -4.7619, -4.9729, -5.0995, -4.961, -4.955, -4.9233, -4.959, -5.0683, -5.0423, -5.0424, -5.1043, -5.1672, -5.5938, -6.0327, -6.0721, -6.7104, -6.0808, -6.6905, -6.8447, -6.9954, -6.8765, -5.8471, -7.0657, -6.9674, -6.9084, -5.8399, -7.0695, -7.1412, -7.3505, -7.2636, -5.6796, -7.3515, -5.8077, -7.3988, -6.684, -7.4497, -7.4017, -7.5022, -7.5036, -6.8957, -6.0108, -7.6817, -5.6021, -5.9301, -7.277, -6.6136, -6.3014, -5.5441, -5.6553, -6.5018, -4.917, -5.1429, -5.3695, -5.8698, -5.4821, -4.7112, -5.3498, -5.1359, -4.6014, -5.6498, -5.0112, -4.7051, -4.7088, -5.3074, -5.5011, -5.6971, -4.8045, -5.1981, -4.7346, -4.5634, -4.493, -4.8649, -4.4217, -4.5321, -4.457, -4.4215, -4.8499, -4.4157, -4.4733, -4.3692, -4.5551, -4.7972, -4.6011, -4.9717, -4.9854, -4.9324, -4.754, -4.8246, -4.954, -4.9468, -4.9466, -4.9575], \"loglift\": [30.0, 29.0, 28.0, 27.0, 26.0, 25.0, 24.0, 23.0, 22.0, 21.0, 20.0, 19.0, 18.0, 17.0, 16.0, 15.0, 14.0, 13.0, 12.0, 11.0, 10.0, 9.0, 8.0, 7.0, 6.0, 5.0, 4.0, 3.0, 2.0, 1.0, 1.3004, 1.2993, 1.2993, 1.299, 1.2987, 1.2957, 1.2927, 1.2924, 1.2916, 1.2902, 1.2893, 1.2885, 1.2876, 1.2863, 1.286, 1.2855, 1.2796, 1.2701, 1.2687, 1.268, 1.2672, 1.2664, 1.2643, 1.2632, 1.2629, 1.2616, 1.2601, 1.2599, 1.2594, 1.2591, 1.2369, 1.2027, 1.2192, 1.1916, 1.1459, 1.1856, 1.179, 1.1603, 1.1389, 0.9551, 0.771, 0.9579, 0.9719, 0.7912, 0.9904, 0.9989, 1.1186, 0.9474, 0.6649, 0.4045, 0.376, 0.7072, 0.2561, 0.4893, 0.3519, 0.4354, 0.4003, 0.3759, 0.8002, 0.896, 0.1693, 0.1466, 0.4842, 0.2455, 0.0291, 0.2261, 0.2066, 0.4439, 0.2709, 0.1904, -0.1613, 0.0107, -0.0417, -0.1204, 0.149, 0.3343, 0.182, 0.2026, 0.1392, 1.118, 1.1148, 1.1132, 1.1132, 1.1129, 1.1116, 1.1114, 1.1112, 1.1107, 1.1083, 1.1076, 1.1075, 1.1066, 1.1064, 1.1061, 1.1061, 1.105, 1.105, 1.1041, 1.1039, 1.1039, 1.1028, 1.1024, 1.1022, 1.1019, 1.1016, 1.1007, 1.1007, 1.1006, 1.1006, 1.0967, 1.0993, 1.0797, 1.0782, 1.0874, 1.0844, 1.0741, 1.0136, 1.038, 1.0535, 1.0053, 1.0287, 1.0412, 0.9108, 0.9827, 1.0096, 1.0189, 0.9469, 0.969, 0.7104, 0.6991, 0.6918, 0.6859, 0.8166, 0.6415, 0.7928, 0.915, 0.9143, 0.8626, 0.684, 0.5839, 0.2982, 0.4593, 0.6394, 0.0779, 0.1541, 0.4712, 0.175, 0.3845, 0.258, 0.3133, 0.1929, -0.042, -0.0412, 0.0213, 0.1367, 0.0274, 0.1725, -0.0716, 0.1088, 0.1243, -0.1231, -0.1731, -0.3708, 0.0332, 1.7914, 1.7842, 1.7837, 1.783, 1.7803, 1.7735, 1.7705, 1.7693, 1.7688, 1.7673, 1.7652, 1.7648, 1.7643, 1.7634, 1.7628, 1.7624, 1.7621, 1.7618, 1.7614, 1.7604, 1.76, 1.7599, 1.7588, 1.7571, 1.7562, 1.7552, 1.7551, 1.7536, 1.7536, 1.7535, 1.742, 1.7526, 1.7444, 1.7387, 1.6664, 1.6824, 1.6577, 1.6125, 1.6376, 1.5793, 1.6033, 1.6301, 1.4258, 1.4374, 1.5956, 1.2352, 1.4953, 1.4875, 1.5548, 1.181, 1.6402, 0.946, 0.951, 1.0019, 0.7227, 0.3735, 0.6343, 0.6746, 0.3698, 0.6074, 0.8831, 0.2297, 0.6366, 0.5353, 0.1406, 0.2789, 0.1935, 0.8218, 0.1178, 0.4869, 0.215, 0.0785, 0.3513, 0.5014, 0.1794, 0.1243, 0.0389, 0.1122, 0.1247, -0.1233, -0.1939, -0.2711, 0.4011, 1.3907, 1.3901, 1.389, 1.381, 1.3803, 1.3769, 1.3769, 1.3758, 1.3733, 1.3729, 1.3722, 1.3721, 1.3705, 1.3701, 1.3685, 1.3683, 1.3639, 1.3637, 1.3634, 1.3629, 1.3627, 1.3621, 1.3601, 1.36, 1.3592, 1.3588, 1.3574, 1.3544, 1.3522, 1.3514, 1.3357, 1.3327, 1.3505, 1.3209, 1.3007, 1.2585, 1.2455, 1.2974, 1.1473, 1.1445, 1.1294, 1.1932, 1.1015, 0.9302, 1.0599, 1.0145, 0.8844, 1.1101, 0.9662, 0.8841, 0.8468, 0.9974, 1.0313, 1.0864, 0.7638, 0.909, 0.6975, 0.6041, 0.5445, 0.7091, 0.4375, 0.4821, 0.3834, 0.3519, 0.5718, 0.1853, 0.2114, 0.1105, 0.248, 0.4602, 0.2498, 0.632, 0.6175, 0.4811, 0.2153, 0.2429, 0.3925, 0.221, 0.1328, -0.0384]}, \"token.table\": {\"Topic\": [1, 3, 4, 1, 2, 3, 4, 2, 4, 3, 1, 2, 3, 4, 1, 1, 3, 1, 2, 3, 3, 1, 2, 3, 4, 1, 2, 3, 4, 1, 2, 3, 4, 1, 2, 3, 4, 1, 3, 1, 3, 1, 2, 3, 4, 1, 2, 3, 4, 3, 1, 2, 1, 3, 2, 4, 1, 2, 3, 4, 1, 3, 1, 2, 3, 4, 1, 3, 1, 3, 4, 1, 2, 3, 4, 2, 4, 1, 2, 4, 1, 2, 3, 4, 1, 2, 3, 4, 1, 2, 3, 1, 2, 3, 4, 1, 2, 3, 4, 3, 1, 1, 2, 3, 4, 1, 3, 1, 3, 3, 4, 1, 2, 3, 4, 4, 3, 1, 1, 2, 3, 4, 1, 2, 3, 4, 1, 3, 2, 4, 1, 2, 1, 2, 3, 4, 3, 3, 1, 2, 3, 4, 1, 2, 3, 4, 1, 3, 1, 2, 3, 4, 1, 2, 3, 4, 3, 4, 1, 2, 3, 4, 1, 2, 3, 4, 1, 2, 4, 1, 2, 3, 4, 1, 2, 4, 1, 3, 1, 2, 3, 4, 1, 2, 3, 4, 1, 2, 3, 4, 1, 2, 4, 1, 2, 3, 4, 1, 2, 3, 4, 3, 1, 2, 1, 3, 1, 2, 3, 4, 1, 2, 1, 3, 4, 1, 2, 3, 4, 3, 3, 1, 2, 3, 4, 1, 2, 3, 4, 1, 2, 3, 4, 1, 1, 2, 3, 4, 1, 2, 3, 4, 2, 1, 2, 3, 4, 1, 2, 2, 1, 4, 1, 1, 2, 3, 4, 1, 2, 3, 4, 4, 1, 2, 3, 4, 1, 2, 4, 1, 2, 1, 2, 3, 4, 1, 2, 3, 1, 2, 3, 4, 1, 3, 4, 1, 2, 3, 4, 1, 2, 3, 4, 1, 2, 3, 4, 4, 1, 2, 3, 1, 2, 3, 4, 1, 2, 3, 4, 2, 2, 1, 2, 3, 4, 3, 1, 2, 3, 4, 1, 1, 2, 3, 4, 1, 2, 3, 4, 3, 1, 2, 3, 4, 1, 2, 3, 4, 1, 2, 3, 4, 1, 2, 3, 4, 1, 3, 3, 4, 1, 2, 3, 4, 1, 2, 3, 4, 1, 2, 3, 4, 1, 2, 3, 4, 1, 2, 3, 4, 1, 3, 1, 2, 3, 1, 2, 3, 4, 1, 2, 3, 4, 1, 2, 3, 4, 1, 2, 3, 4, 4, 1, 3, 4, 1, 2, 3, 4, 1, 2, 3, 4, 1, 2, 3, 4, 1, 2, 3, 4, 1, 3, 4, 1, 2, 3, 4, 1, 2, 3, 4, 4, 1, 2, 3, 4, 2, 1, 4, 1, 2, 3, 4, 3, 1, 2, 3, 4, 1, 2, 1, 4, 1, 2, 3, 4, 1, 2, 3, 4, 2, 3, 1, 2, 3, 4, 1, 2, 3, 4, 1, 2, 3, 4, 4, 3, 4, 1, 2, 3, 4, 1, 2, 3, 4, 2, 4, 1, 2, 3, 4, 1, 2, 3, 4, 1, 2, 3, 4, 4, 2, 3, 4, 1, 2, 3, 4, 3, 1, 2, 3, 1, 2, 3, 4, 1, 2, 3, 4, 1, 2, 3, 4, 1, 2, 3, 4, 2, 1, 2, 3, 4, 4, 1, 2, 3, 1, 1, 4, 1, 2, 4, 1, 3, 1, 2, 3, 4, 1, 2, 4, 1, 2, 3, 1, 2, 3, 4, 1, 2, 3, 4, 1, 2, 3, 1, 2, 3, 4, 1, 2, 1, 2, 3, 4, 1, 2, 4, 2, 4, 1, 2, 3, 4, 1, 2, 4, 1, 3, 4, 1, 3, 3, 4, 1, 1, 2, 3, 4, 1, 2, 3, 4, 1, 2, 1, 1, 2, 3, 4, 1, 2, 3, 4, 3, 1, 4, 1, 2, 3, 4, 1, 2, 3, 4, 1, 3, 4, 1, 2, 3, 4, 2, 2, 4, 1, 2, 4, 1, 2, 3, 4, 1, 2, 3, 4, 1, 3, 1, 2, 3, 4, 1, 2, 3, 4, 4, 2, 4, 1, 3, 4, 1, 3, 1, 2, 3, 4, 3, 1, 3, 4, 1, 2, 3, 4, 1, 2, 3, 4, 1, 2, 3, 4, 1, 2, 3, 4, 1, 3, 1, 2, 3, 4, 1, 2, 3, 4, 1, 2, 3, 2, 1, 2, 3, 4, 4, 4, 1, 1, 3, 4, 1, 2, 3, 4, 1, 1, 2, 3, 4, 2, 1, 2, 3, 4, 1, 3, 4, 1, 2, 3, 4, 2, 1, 2, 1, 2, 3, 4, 2, 1, 2, 3, 4, 1, 2, 3, 4, 1, 2, 3, 4, 1, 3, 4, 1, 2, 3, 4, 1, 2, 3, 4, 1, 2, 3, 4, 4, 1, 2, 3, 4, 1, 2, 4, 1, 3, 1, 2, 3, 4, 1, 1, 2, 3, 4, 1, 2], \"Freq\": [0.14497196004904392, 0.805399778050244, 0.03221599112200976, 0.19580109249916317, 0.13408118290703566, 0.04895027312479079, 0.6235839141549436, 0.9702057326195838, 0.01702115320385235, 0.9641538586841821, 0.025935404465374987, 0.008645134821791663, 0.008645134821791663, 0.9596099652188745, 0.9813924390466421, 0.04132271163541629, 0.9504223676145745, 0.024910522312927782, 0.9590551090477196, 0.012455261156463891, 0.9182054922168181, 0.8448382503186812, 0.14284704715533258, 0.008162688408876148, 0.004081344204438074, 0.2352668139762577, 0.1355017726065788, 0.3067402764500575, 0.32163058113209914, 0.15120456445346567, 0.1313092270253781, 0.21884871170896347, 0.4993729694449985, 0.07743845953659796, 0.18466094197188745, 0.08935206869607458, 0.6463132969016061, 0.04491789021501439, 0.9432756945153022, 0.04132650142924485, 0.9505095328726315, 0.16016350932775517, 0.22461955576453466, 0.042970697624519674, 0.5722915638174666, 0.21483840181623814, 0.5167734530174377, 0.1625804121852613, 0.10451597926195369, 0.9723154621715733, 0.9850001298886395, 0.017589288033725704, 0.9828738393674119, 0.012441441004650784, 0.9777640928511758, 0.02172809095224835, 0.0037411075154565455, 0.9502413089259626, 0.02618775260819582, 0.022446645092739276, 0.1128878396638342, 0.8708490488352923, 0.22847149601611255, 0.30973541005099803, 0.18717344134264613, 0.2744322342817445, 0.9604899446667536, 0.020010207180557366, 0.028908231018968326, 0.028908231018968326, 0.9539716236259548, 0.039079767745432405, 0.01302658924847747, 0.20191213335140076, 0.7425155871632158, 0.9833964103515361, 0.018911469429837235, 0.9438353026855008, 0.025509062234743266, 0.9584636783400255, 0.9501100905764625, 0.013972207214359742, 0.013972207214359742, 0.04191662164307922, 0.3187046435818388, 0.38415291860310924, 0.12425686996791929, 0.17263168194016268, 0.5966018183053444, 0.36036351441262415, 0.04004039049029157, 0.022945316034560802, 0.24780941317325667, 0.022945316034560802, 0.7067157338644727, 0.0046398403396826085, 0.9094087065777912, 0.018559361358730434, 0.06959760509523913, 0.9392790971204577, 0.9873426999312278, 0.8435206942421369, 0.02530562082726411, 0.07591686248179233, 0.05904644859694958, 0.04304027425430038, 0.9468860335946084, 0.05436827780581984, 0.9242607226989372, 0.9742890522714759, 0.9848724283560466, 0.14952553895296572, 0.36231188284757077, 0.3354739655996026, 0.15335952713124687, 0.9656570151939997, 0.9591880257179146, 0.9635393082459733, 0.5807692953044795, 0.3490827208140294, 0.05900864497746049, 0.010559441732808717, 0.3009561173765626, 0.25546275079638453, 0.3954423402738555, 0.045493366580178066, 0.9638712587668932, 0.028349154669614504, 0.9748765511874558, 0.9798450520955717, 0.026877117529634603, 0.9675762310668456, 0.37488883035837095, 0.35982633271004355, 0.1255208137360617, 0.1405833113843891, 0.9684799077780883, 0.9298482657002468, 0.25795584696751367, 0.2054092855482053, 0.17579213274823152, 0.36018279372871354, 0.25199630213053376, 0.10618712102355826, 0.2789393029872575, 0.3645229527674388, 0.9331964317659304, 0.029162388492685324, 0.9063233048320394, 0.011329041310400493, 0.011329041310400493, 0.06797424786240296, 0.010916038611873654, 0.8805604480244748, 0.10552170658144532, 0.0036386795372912177, 0.09072249808182338, 0.9072249808182338, 0.07525304033570855, 0.155522950027131, 0.005016869355713904, 0.7575472727127994, 0.22688399255194738, 0.3081739791882066, 0.18441907415987166, 0.28026846138769973, 0.008153893575715034, 0.008153893575715034, 0.986621122661519, 0.3307969660117198, 0.21825779200773268, 0.05342768866855956, 0.3978657666807627, 0.04216527145933894, 0.02108263572966947, 0.9276359721054567, 0.061660540907012604, 0.9249081136051891, 0.2540576482866068, 0.3598075323449914, 0.19473454259531792, 0.19215527713047928, 0.008121663412667207, 0.06903413900767126, 0.15431160484067694, 0.7715580242033847, 0.6936305573203438, 0.19478666335708286, 0.09501788456443067, 0.019003576912886132, 0.13497784682038622, 0.007498769267799234, 0.8548596965291126, 0.010323841935641754, 0.4714554483943067, 0.42327751936131186, 0.09635585806598969, 0.5232442686782378, 0.3353731811112741, 0.10868575313791291, 0.03260572594137387, 0.9182023498747683, 0.9872169023734135, 0.010969076693037929, 0.016145711396072016, 0.9687426837643208, 0.16221469040286315, 0.8050655005179134, 0.024031805985609354, 0.006007951496402339, 0.010638091007279695, 0.978704372669732, 0.041308993669599746, 0.9087978607311945, 0.041308993669599746, 0.04584618070840389, 0.6103272806806268, 0.106019292888184, 0.2378270624248452, 0.968489163256161, 0.9391979121925769, 0.1583990315699908, 0.5103968795033037, 0.06879957936878389, 0.262398395732106, 0.27672057119309273, 0.222579589872705, 0.2052845541731367, 0.29551952304044954, 0.23854375243793002, 0.17689761416745373, 0.23586348555660497, 0.3493281168660324, 0.9666938922634988, 0.220433573678162, 0.003104698220819183, 0.3694590882774828, 0.4036107687064938, 0.023799373593744635, 0.3133584189843044, 0.3074085755858682, 0.35500732277335745, 0.9629816318314681, 0.013535903359892616, 0.8527619116732348, 0.08798337183930201, 0.040607710079677846, 0.9742927608496581, 0.01146226777470186, 0.961277989323521, 0.919817706997086, 0.05998811132589692, 0.9798773066154525, 0.30455566505611154, 0.40879955041088795, 0.26980770327118603, 0.01839597976848996, 0.007191404144482009, 0.9780309636495532, 0.007191404144482009, 0.014382808288964018, 0.9787744682380369, 0.02571751490281067, 0.20376184884534607, 0.2433272563881317, 0.5281981906961883, 0.078535435006219, 0.8900682634038153, 0.026178478335406333, 0.02269616080397618, 0.9759349145709758, 0.3207047332606732, 0.3727109062218635, 0.29816872497749075, 0.006934156394825367, 0.01276760438538619, 0.9703379332893504, 0.01276760438538619, 0.005941359194035202, 0.4574846579407106, 0.528780968269133, 0.005941359194035202, 0.9524782167908876, 0.02267805278073542, 0.02267805278073542, 0.8819123992155775, 0.103754399907715, 0.008646199992309584, 0.008646199992309584, 0.3085560442649199, 0.2786519342480554, 0.18486177101334408, 0.2283586583106015, 0.012994904684660876, 0.524127822281322, 0.4418267592784698, 0.017326539579547835, 0.9486550736682591, 0.20031577732319392, 0.07154134904399784, 0.7297217602487779, 0.010769651328915646, 0.010769651328915646, 0.05384825664457823, 0.9261900142867456, 0.4149138611828039, 0.1889847381414826, 0.0937819001303598, 0.3012388307217617, 0.9827669052503177, 0.982351910821634, 0.6578369100947647, 0.010199021861934337, 0.12238826234321205, 0.20907994816965392, 0.9567524098637552, 0.018414787033388585, 0.03682957406677717, 0.055244361100165756, 0.9023245646360407, 0.9353306264828984, 0.5931051554117543, 0.3317367818404728, 0.02613683735712816, 0.04925788578843384, 0.3429564964086645, 0.33332964738666687, 0.18170677529020468, 0.14079266694671488, 0.9815167554765235, 0.6984653697939688, 0.23725046528327745, 0.06073611911251903, 0.003796007444532439, 0.08513921403975287, 0.8055479482222772, 0.07204087341825244, 0.039295021864501324, 0.35076601270763863, 0.11522748243535956, 0.13556174404159949, 0.39821262312219846, 0.2400440253697724, 0.011430667874751067, 0.6801247385476885, 0.0685840072485064, 0.987258137616576, 0.010969534862406401, 0.8282816380094714, 0.14141393819673903, 0.16750678898010063, 0.02577027522770779, 0.7859933944450876, 0.02577027522770779, 0.26848899990124986, 0.47427697587346535, 0.18649535322482028, 0.07073961674044907, 0.16796600392528058, 0.6388706935015136, 0.1649666109980434, 0.02999392927237153, 0.010848930567664289, 0.640086903492193, 0.23092723636885415, 0.11623854179640308, 0.15738878121942912, 0.24647677058891732, 0.41871355003659444, 0.17520637909332676, 0.979449932733012, 0.020405206931937748, 0.06427414176990263, 0.9284042700097046, 0.007141571307766959, 0.08300844718394114, 0.005188027948996321, 0.22308520180684183, 0.6900077172165108, 0.8208980490037694, 0.00989033793980445, 0.00989033793980445, 0.16813574497667566, 0.39168057850484284, 0.38349213435491586, 0.045036442824598656, 0.18014577129839462, 0.311097488945117, 0.2715199977479572, 0.10216515169499406, 0.31477911603322495, 0.9635995979302009, 0.04304568026873886, 0.947004965912255, 0.9825333736539764, 0.058220220604832666, 0.7313915213482103, 0.15282807908768575, 0.058220220604832666, 0.3114663133318096, 0.365807244593955, 0.015904662808432828, 0.3061647590623319, 0.20898367726099334, 0.6568058428202648, 0.12937084782823396, 0.00497580183954746, 0.277387744696836, 0.4419167501297633, 0.07886514310008083, 0.20260183313641456, 0.09376574678800473, 0.8556124394405431, 0.046882873394002364, 0.43670783139016767, 0.14897042846487027, 0.17141802727464525, 0.24488289610663605, 0.01856334827850964, 0.9467307622039917, 0.00464083706962741, 0.02784502241776446, 0.9765848466312701, 0.1001902369918159, 0.04007609479672636, 0.2641378975238783, 0.59567649993316, 0.9854891224916017, 0.9694107191226436, 0.9634852627562125, 0.040423687169604365, 0.8604470554672928, 0.08662218679200935, 0.011549624905601246, 0.9701542008454739, 0.3374171771868636, 0.20361381381965907, 0.03606873273376818, 0.4235167327448909, 0.9744949865674278, 0.01522648416511606, 0.013132889512884442, 0.9718338239534487, 0.17105468636340176, 0.09719016270647828, 0.5598153371893149, 0.17105468636340176, 0.7006789381923845, 0.12107319887883114, 0.06697666320956616, 0.11334512235465043, 0.9827743965136428, 0.9757079887279378, 0.854155188389601, 0.010416526687678061, 0.08333221350142449, 0.052082633438390306, 0.012994097509942399, 0.19166293827165037, 0.022739670642399196, 0.7731488018415726, 0.8959678655573823, 0.013372654709811676, 0.06686327354905838, 0.026745309419623352, 0.9766374858795801, 0.8537789986444784, 0.14720327562835833, 0.39171955485543364, 0.2284169435964402, 0.1436649554746841, 0.23668543024246516, 0.07122576908095218, 0.8863651263407382, 0.007913974342328019, 0.031655897369312076, 0.9803649440685905, 0.020424269668095636, 0.38258530768654203, 0.24998471809063827, 0.06303962456198704, 0.3043292220233857, 0.11363174227822999, 0.6489895383725712, 0.07497352067841978, 0.162833115223443, 0.045727540154448035, 0.9145508030889606, 0.022863770077224017, 0.022863770077224017, 0.9741011195220008, 0.9742553537430846, 0.015713796028114266, 0.9632113731640447, 0.010015363515915483, 0.08012290812732387, 0.8613212623687315, 0.050076817579577416, 0.9684978794841879, 0.018913660696920857, 0.9835103562398846, 0.9392167998785049, 0.2613899596764439, 0.30575431063070274, 0.11990365122772656, 0.3129485297043663, 0.3737811253873335, 0.5792514516236454, 0.021858545344288507, 0.02623025441314621, 0.02491726476225208, 0.008305754920750693, 0.8139639822335679, 0.14950358857351248, 0.9730958413033369, 0.0026992949828109204, 0.022944007353892824, 0.0026992949828109204, 0.9866774157993102, 0.41882575167657704, 0.4284318468985169, 0.04418803802092327, 0.10950948553011418, 0.9694993676988984, 0.032254382034080833, 0.946128539666371, 0.010751460678026943, 0.9738222558328485, 0.9667755630132893, 0.9858431916796664, 0.04669034286866648, 0.015563447622888827, 0.9338068573733296, 0.04491839955230023, 0.9432863905983049, 0.7247094919123704, 0.06149050234407991, 0.03513742991090281, 0.1800793282933769, 0.0340409434195847, 0.9531464157483714, 0.011346981139861566, 0.012766633867085033, 0.9830308077655475, 0.012766633867085033, 0.5439472864232282, 0.3761337618884025, 0.06654674248794813, 0.008680009889732365, 0.18646497023908207, 0.6449853888597756, 0.0748916683747133, 0.09323248511954103, 0.8838106825596711, 0.08417244595806392, 0.031564667234273966, 0.08736953726933595, 0.005460596079333497, 0.1692784784593384, 0.737180470710022, 0.02321164934979315, 0.9748892726913123, 0.008264344235430042, 0.15702254047317077, 0.16941905682631583, 0.6652797109521184, 0.1400438663179282, 0.13337511077897926, 0.7268943537454369, 0.9644805585090489, 0.01891138350017743, 0.2377417994839394, 0.7132253984518182, 0.03683323653976526, 0.013393904196278275, 0.029457660025307673, 0.009819220008435891, 0.9622835608267173, 0.9666914905515205, 0.026852541404208903, 0.9611140221987505, 0.05164924946243445, 0.9296864903238202, 0.8409504677349814, 0.14716633185362174, 0.963706691574051, 0.05815144599313068, 0.8299797291746833, 0.010572990180569215, 0.10044340671540754, 0.008818981831472962, 0.0881898183147296, 0.09700880014620257, 0.8113463284955125, 0.01760891835661645, 0.9684905096139048, 0.9678962717140983, 0.04242294045756583, 0.27675918298507235, 0.08686602093692052, 0.5939211664059216, 0.18988042757700319, 0.003390721921017914, 0.20005259334005693, 0.6103299457832245, 0.972322654242428, 0.020638455788009314, 0.9700074220364377, 0.2561922168963065, 0.08608058487715897, 0.1967556225763634, 0.4611459904133517, 0.15994697208671346, 0.41823171219711003, 0.20141470559067623, 0.22037138376391632, 0.19879133249333608, 0.6828050116075456, 0.11236031836579864, 0.007191418304747666, 0.9780328894456827, 0.007191418304747666, 0.014382836609495332, 0.9748754784602318, 0.9777864279631203, 0.02172858728806934, 0.026877113211749105, 0.9675760756229678, 0.9584873945783673, 0.1469761434149689, 0.6134656420798701, 0.030353768748743574, 0.21087881446495535, 0.3520307821205576, 0.3106153959887273, 0.06488410493986747, 0.271961035599019, 0.04491581644405626, 0.9432321453251814, 0.05469698867987765, 0.7657578415182871, 0.15315156830365742, 0.027348494339938825, 0.08157150791292703, 0.006797625659410585, 0.0475833796158741, 0.8632984587451443, 0.9832663649462322, 0.04215895711611241, 0.927497056554473, 0.12126194789039095, 0.8084129859359397, 0.060630973945195475, 0.0439562611024864, 0.9450596137034576, 0.047758763006356855, 0.8012859126622094, 0.08225120295539236, 0.068984879898071, 0.9759320846312284, 0.011905400295418572, 0.03571620088625571, 0.9524320236334857, 0.40147787576774696, 0.030475218292601258, 0.1192508541884397, 0.44917821744312286, 0.3472663075130304, 0.3767511826792311, 0.1834614454785821, 0.09336877135963553, 0.4027334087051183, 0.3095274039270771, 0.23649284794428363, 0.05077640558803737, 0.22446064128126897, 0.39172698454375304, 0.16942461865941938, 0.21474840199506023, 0.033870208730231464, 0.948365844446481, 0.3290825675234943, 0.21310633227292364, 0.06958574115034241, 0.3885203880894118, 0.18439452715301796, 0.2857632462685514, 0.21528785107394244, 0.31569115381694696, 0.8737680168227536, 0.05263662751944299, 0.07369127852722018, 0.9629831006903041, 0.21515592380749013, 0.3008288708439568, 0.10417051514661287, 0.38066048058248253, 0.9817409169994973, 0.9866303573248727, 0.991403193666516, 0.1471766595118099, 0.7779337717052809, 0.0630757112193471, 0.27160698437600467, 0.4343785459346741, 0.13387720151866897, 0.15891898022000273, 0.9566972836051029, 0.07809886879560822, 0.9011407937954794, 0.012015210583939727, 0.006007605291969863, 0.9848364035267627, 0.4378793359422572, 0.26241144320005305, 0.15649839082412803, 0.14385205621207728, 0.1816282718805032, 0.7265130875220128, 0.0908141359402516, 0.16924248537678302, 0.32949140872871285, 0.1978583645467705, 0.30332831920186715, 0.9738244666223085, 0.9316762670666204, 0.04436553652698193, 0.04068028138718323, 0.8901802750607154, 0.05743098548778809, 0.011964788643289186, 0.989865641248269, 0.1469338402680351, 0.28019941632509016, 0.13668264210980008, 0.43567592172498776, 0.15365250434308003, 0.2814085191901353, 0.07251017058886923, 0.49375973305753806, 0.07577579346461163, 0.356351028725471, 0.11263969298793622, 0.45465476078766986, 0.02043119017937651, 0.010215595089688254, 0.9704815335203841, 0.731325977685852, 0.22087026171720361, 0.044174052343440726, 0.004908228038160081, 0.7101479239346125, 0.2745109621932115, 0.008951444419343854, 0.005967629612895903, 0.3217374900017959, 0.2480355099132788, 0.11622235321650778, 0.3132334153761978, 0.9656423176185364, 0.3250989147741748, 0.37015007524849863, 0.06331514445040108, 0.242302187415958, 0.02352539819957069, 0.02352539819957069, 0.9645413261823983, 0.04303968491396939, 0.9468730681073265, 0.28664015708431145, 0.12979931641553727, 0.3190899861881958, 0.2650069376817219, 0.9602151699969947, 0.024786825127015712, 0.13455705068951387, 0.1628848508346747, 0.6763262284657144, 0.014801723634051089, 0.9769137598473718], \"Term\": [\"ability\", \"ability\", \"ability\", \"about\", \"about\", \"about\", \"about\", \"according\", \"according\", \"acivir\", \"acne\", \"acne\", \"acne\", \"acne\", \"active\", \"adequate\", \"adequate\", \"adult\", \"adult\", \"adult\", \"adversely\", \"advice\", \"advice\", \"advice\", \"advice\", \"advised\", \"advised\", \"advised\", \"advised\", \"affect\", \"affect\", \"affect\", \"affect\", \"affected\", \"affected\", \"affected\", \"affected\", \"against\", \"against\", \"aggravated\", \"aggravated\", \"all\", \"all\", \"all\", \"all\", \"an\", \"an\", \"an\", \"an\", \"anal\", \"angina\", \"angina\", \"ankle\", \"ankle\", \"ankylosing\", \"ankylosing\", \"antibiotic\", \"antibiotic\", \"antibiotic\", \"antibiotic\", \"anxiety\", \"anxiety\", \"any\", \"any\", \"any\", \"any\", \"appear\", \"appear\", \"applied\", \"applied\", \"applied\", \"area\", \"area\", \"area\", \"area\", \"arthritis\", \"arthritis\", \"asked\", \"asked\", \"asthakind\", \"asthma\", \"asthma\", \"asthma\", \"asthma\", \"at\", \"at\", \"at\", \"at\", \"attack\", \"attack\", \"attack\", \"back\", \"back\", \"back\", \"back\", \"bacteria\", \"bacteria\", \"bacteria\", \"bacteria\", \"balanced\", \"beating\", \"because\", \"because\", \"because\", \"because\", \"bedtime\", \"bedtime\", \"behave\", \"behave\", \"behavior\", \"beneficial\", \"better\", \"better\", \"better\", \"better\", \"blackhead\", \"blister\", \"blocker\", \"blood\", \"blood\", \"blood\", \"blood\", \"body\", \"body\", \"body\", \"body\", \"breast\", \"breast\", \"broad\", \"broken\", \"build\", \"build\", \"but\", \"but\", \"but\", \"but\", \"calm\", \"calorie\", \"can\", \"can\", \"can\", \"can\", \"cause\", \"cause\", \"cause\", \"cause\", \"channel\", \"channel\", \"chest\", \"chest\", \"chest\", \"chest\", \"cholesterol\", \"cholesterol\", \"cholesterol\", \"cholesterol\", \"clean\", \"clean\", \"come\", \"come\", \"come\", \"come\", \"common\", \"common\", \"common\", \"common\", \"concerned\", \"concerned\", \"concerned\", \"condition\", \"condition\", \"condition\", \"condition\", \"congestion\", \"congestion\", \"congestion\", \"consistent\", \"consistent\", \"consult\", \"consult\", \"consult\", \"consult\", \"contact\", \"contact\", \"contact\", \"contact\", \"control\", \"control\", \"control\", \"control\", \"cough\", \"cough\", \"cough\", \"course\", \"course\", \"course\", \"course\", \"day\", \"day\", \"day\", \"day\", \"delusion\", \"depends\", \"depends\", \"depression\", \"depression\", \"diabetes\", \"diabetes\", \"diabetes\", \"diabetes\", \"diabetic\", \"diabetic\", \"diagnostic\", \"diagnostic\", \"diagnostic\", \"diarrhea\", \"diarrhea\", \"diarrhea\", \"diarrhea\", \"dietitian\", \"discontinuation\", \"disease\", \"disease\", \"disease\", \"disease\", \"do\", \"do\", \"do\", \"do\", \"dose\", \"dose\", \"dose\", \"dose\", \"dosing\", \"drive\", \"drive\", \"drive\", \"drive\", \"duration\", \"duration\", \"duration\", \"duration\", \"dyspepsia\", \"ear\", \"ear\", \"ear\", \"ear\", \"eating\", \"eating\", \"eg\", \"electrolyte\", \"electrolyte\", \"especially\", \"even\", \"even\", \"even\", \"even\", \"evenly\", \"evenly\", \"evenly\", \"evenly\", \"expectorant\", \"eye\", \"eye\", \"eye\", \"eye\", \"fat\", \"fat\", \"fat\", \"fatty\", \"fatty\", \"feel\", \"feel\", \"feel\", \"feel\", \"find\", \"find\", \"find\", \"finish\", \"finish\", \"finish\", \"finish\", \"flushing\", \"flushing\", \"flushing\", \"follow\", \"follow\", \"follow\", \"follow\", \"food\", \"food\", \"food\", \"food\", \"full\", \"full\", \"full\", \"full\", \"fungus\", \"gain\", \"gain\", \"gain\", \"gel\", \"gel\", \"gel\", \"gel\", \"get\", \"get\", \"get\", \"get\", \"gonorrhea\", \"gram\", \"ha\", \"ha\", \"ha\", \"ha\", \"habit\", \"hair\", \"hair\", \"hair\", \"hair\", \"happening\", \"heart\", \"heart\", \"heart\", \"heart\", \"help\", \"help\", \"help\", \"help\", \"herpes\", \"high\", \"high\", \"high\", \"high\", \"hour\", \"hour\", \"hour\", \"hour\", \"how\", \"how\", \"how\", \"how\", \"however\", \"however\", \"however\", \"however\", \"hypertension\", \"hypertension\", \"immediate\", \"immediate\", \"immediately\", \"immediately\", \"immediately\", \"immediately\", \"include\", \"include\", \"include\", \"include\", \"increase\", \"increase\", \"increase\", \"increase\", \"infection\", \"infection\", \"infection\", \"infection\", \"inform\", \"inform\", \"inform\", \"inform\", \"inhaler\", \"inhaler\", \"interval\", \"interval\", \"interval\", \"itching\", \"itching\", \"itching\", \"itching\", \"keeping\", \"keeping\", \"keeping\", \"keeping\", \"kidney\", \"kidney\", \"kidney\", \"kidney\", \"know\", \"know\", \"know\", \"know\", \"l\", \"laboratory\", \"laboratory\", \"layer\", \"lead\", \"lead\", \"lead\", \"lead\", \"let\", \"let\", \"let\", \"let\", \"level\", \"level\", \"level\", \"level\", \"liver\", \"liver\", \"liver\", \"liver\", \"maintain\", \"maintain\", \"maintain\", \"make\", \"make\", \"make\", \"make\", \"meal\", \"meal\", \"meal\", \"meal\", \"meant\", \"medication\", \"medication\", \"medication\", \"medication\", \"mellitus\", \"men\", \"minimizes\", \"monitor\", \"monitor\", \"monitor\", \"monitor\", \"mood\", \"most\", \"most\", \"most\", \"most\", \"much\", \"much\", \"mucus\", \"mucus\", \"must\", \"must\", \"must\", \"must\", \"need\", \"need\", \"need\", \"need\", \"negative\", \"neuropathic\", \"no\", \"no\", \"no\", \"no\", \"nose\", \"nose\", \"nose\", \"nose\", \"often\", \"often\", \"often\", \"often\", \"oil\", \"ointment\", \"ointment\", \"on\", \"on\", \"on\", \"on\", \"one\", \"one\", \"one\", \"one\", \"osteoarthritis\", \"osteoarthritis\", \"other\", \"other\", \"other\", \"other\", \"pain\", \"pain\", \"pain\", \"pain\", \"part\", \"part\", \"part\", \"part\", \"peeling\", \"penicillin\", \"penicillin\", \"pimple\", \"please\", \"please\", \"please\", \"please\", \"portion\", \"positive\", \"positive\", \"potency\", \"pregnant\", \"pregnant\", \"pregnant\", \"pregnant\", \"prescribed\", \"prescribed\", \"prescribed\", \"prescribed\", \"prescription\", \"prescription\", \"prescription\", \"prescription\", \"pressure\", \"pressure\", \"pressure\", \"pressure\", \"previous\", \"problem\", \"problem\", \"problem\", \"problem\", \"procedure\", \"program\", \"program\", \"program\", \"properly\", \"prostate\", \"recommend\", \"recommends\", \"recommends\", \"recommends\", \"recovery\", \"recovery\", \"reducing\", \"reducing\", \"reducing\", \"reducing\", \"reduction\", \"reduction\", \"reduction\", \"regarded\", \"regarded\", \"regarded\", \"regular\", \"regular\", \"regular\", \"regular\", \"regularly\", \"regularly\", \"regularly\", \"regularly\", \"related\", \"related\", \"related\", \"relief\", \"relief\", \"relief\", \"relief\", \"repeated\", \"repeated\", \"resolve\", \"resolve\", \"resolve\", \"resolve\", \"respond\", \"respond\", \"respond\", \"rheumatoid\", \"rheumatoid\", \"risk\", \"risk\", \"risk\", \"risk\", \"runny\", \"runny\", \"runny\", \"salt\", \"salt\", \"scalp\", \"schizophrenia\", \"schizophrenia\", \"seek\", \"seek\", \"seeking\", \"seen\", \"seen\", \"seen\", \"seen\", \"self\", \"self\", \"self\", \"self\", \"sexually\", \"sexually\", \"single\", \"skin\", \"skin\", \"skin\", \"skin\", \"sleepiness\", \"sleepiness\", \"sleepiness\", \"sleepiness\", \"snacking\", \"sneezing\", \"sneezing\", \"so\", \"so\", \"so\", \"so\", \"some\", \"some\", \"some\", \"some\", \"soon\", \"soon\", \"soon\", \"spaced\", \"spaced\", \"spaced\", \"spaced\", \"spectrum\", \"spondylitis\", \"spondylitis\", \"statin\", \"statin\", \"stepping\", \"stomach\", \"stomach\", \"stomach\", \"stomach\", \"stop\", \"stop\", \"stop\", \"stop\", \"stopped\", \"stopped\", \"stopping\", \"stopping\", \"stopping\", \"stopping\", \"straight\", \"straight\", \"straight\", \"straight\", \"stuffiness\", \"stuffy\", \"stuffy\", \"sudden\", \"sudden\", \"sudden\", \"suddenly\", \"suddenly\", \"sugar\", \"sugar\", \"sugar\", \"sugar\", \"suicidal\", \"support\", \"support\", \"support\", \"symptom\", \"symptom\", \"symptom\", \"symptom\", \"tablet\", \"tablet\", \"tablet\", \"tablet\", \"take\", \"take\", \"take\", \"take\", \"taken\", \"taken\", \"taken\", \"taken\", \"talking\", \"talking\", \"tell\", \"tell\", \"tell\", \"tell\", \"that\", \"that\", \"that\", \"that\", \"there\", \"there\", \"there\", \"thereafter\", \"these\", \"these\", \"these\", \"these\", \"thin\", \"thins\", \"those\", \"thought\", \"thought\", \"thought\", \"time\", \"time\", \"time\", \"time\", \"tr\", \"tract\", \"tract\", \"tract\", \"tract\", \"transmitted\", \"treat\", \"treat\", \"treat\", \"treat\", \"treating\", \"treating\", \"treating\", \"treatment\", \"treatment\", \"treatment\", \"treatment\", \"triglyceride\", \"trouble\", \"trouble\", \"type\", \"type\", \"type\", \"type\", \"typhoid\", \"use\", \"use\", \"use\", \"use\", \"using\", \"using\", \"using\", \"using\", \"usually\", \"usually\", \"usually\", \"usually\", \"watery\", \"watery\", \"watery\", \"well\", \"well\", \"well\", \"well\", \"what\", \"what\", \"what\", \"what\", \"while\", \"while\", \"while\", \"while\", \"whitehead\", \"will\", \"will\", \"will\", \"will\", \"windpipe\", \"windpipe\", \"windpipe\", \"withdrawal\", \"withdrawal\", \"without\", \"without\", \"without\", \"without\", \"workload\", \"worsen\", \"worsen\", \"worsen\", \"worsen\", \"yellowing\", \"yellowing\"]}, \"R\": 30, \"lambda.step\": 0.01, \"plot.opts\": {\"xlab\": \"PC1\", \"ylab\": \"PC2\"}, \"topic.order\": [1, 2, 3, 4]};\n",
       "\n",
       "function LDAvis_load_lib(url, callback){\n",
       "  var s = document.createElement('script');\n",
       "  s.src = url;\n",
       "  s.async = true;\n",
       "  s.onreadystatechange = s.onload = callback;\n",
       "  s.onerror = function(){console.warn(\"failed to load library \" + url);};\n",
       "  document.getElementsByTagName(\"head\")[0].appendChild(s);\n",
       "}\n",
       "\n",
       "if(typeof(LDAvis) !== \"undefined\"){\n",
       "   // already loaded: just create the visualization\n",
       "   !function(LDAvis){\n",
       "       new LDAvis(\"#\" + \"ldavis_el282731401833618110561338331680\", ldavis_el282731401833618110561338331680_data);\n",
       "   }(LDAvis);\n",
       "}else if(typeof define === \"function\" && define.amd){\n",
       "   // require.js is available: use it to load d3/LDAvis\n",
       "   require.config({paths: {d3: \"https://d3js.org/d3.v5\"}});\n",
       "   require([\"d3\"], function(d3){\n",
       "      window.d3 = d3;\n",
       "      LDAvis_load_lib(\"https://cdn.jsdelivr.net/gh/bmabey/pyLDAvis@3.4.0/pyLDAvis/js/ldavis.v3.0.0.js\", function(){\n",
       "        new LDAvis(\"#\" + \"ldavis_el282731401833618110561338331680\", ldavis_el282731401833618110561338331680_data);\n",
       "      });\n",
       "    });\n",
       "}else{\n",
       "    // require.js not available: dynamically load d3 & LDAvis\n",
       "    LDAvis_load_lib(\"https://d3js.org/d3.v5.js\", function(){\n",
       "         LDAvis_load_lib(\"https://cdn.jsdelivr.net/gh/bmabey/pyLDAvis@3.4.0/pyLDAvis/js/ldavis.v3.0.0.js\", function(){\n",
       "                 new LDAvis(\"#\" + \"ldavis_el282731401833618110561338331680\", ldavis_el282731401833618110561338331680_data);\n",
       "            })\n",
       "         });\n",
       "}\n",
       "</script>"
      ],
      "text/plain": [
       "PreparedData(topic_coordinates=              x         y  topics  cluster       Freq\n",
       "topic                                                \n",
       "0     -0.054636 -0.070917       1        1  26.873866\n",
       "1     -0.121377  0.075446       2        1  32.272726\n",
       "2      0.047235 -0.071937       3        1  16.287559\n",
       "3      0.128777  0.067409       4        1  24.565849, topic_info=           Term         Freq        Total Category  logprob  loglift\n",
       "420    pressure   740.000000   740.000000  Default  30.0000  30.0000\n",
       "419       blood  1609.000000  1609.000000  Default  29.0000  29.0000\n",
       "260       heart   994.000000   994.000000  Default  28.0000  28.0000\n",
       "49         take  1437.000000  1437.000000  Default  27.0000  27.0000\n",
       "332  medication   548.000000   548.000000  Default  26.0000  26.0000\n",
       "..          ...          ...          ...      ...      ...      ...\n",
       "99     pregnant   261.219685   834.002960   Topic4  -4.8246   0.2429\n",
       "19        cause   229.508646   630.961640   Topic4  -4.9540   0.3925\n",
       "209         let   231.185432   754.495719   Topic4  -4.9468   0.2210\n",
       "66       common   231.222305   824.209755   Topic4  -4.9466   0.1328\n",
       "13           on   228.726440   967.528925   Topic4  -4.9575  -0.0384\n",
       "\n",
       "[357 rows x 6 columns], token_table=      Topic      Freq       Term\n",
       "term                            \n",
       "318       1  0.144972    ability\n",
       "318       3  0.805400    ability\n",
       "318       4  0.032216    ability\n",
       "98        1  0.195801      about\n",
       "98        2  0.134081      about\n",
       "...     ...       ...        ...\n",
       "207       2  0.134557     worsen\n",
       "207       3  0.162885     worsen\n",
       "207       4  0.676326     worsen\n",
       "876       1  0.014802  yellowing\n",
       "876       2  0.976914  yellowing\n",
       "\n",
       "[780 rows x 3 columns], R=30, lambda_step=0.01, plot_opts={'xlab': 'PC1', 'ylab': 'PC2'}, topic_order=[1, 2, 3, 4])"
      ]
     },
     "execution_count": 23,
     "metadata": {},
     "output_type": "execute_result"
    }
   ],
   "source": [
    "vis4 = pyLDAvis.gensim_models.prepare(Lda4, Corpus, D, sort_topics = False)\n",
    "vis4"
   ]
  },
  {
   "cell_type": "markdown",
   "metadata": {},
   "source": [
    "# Save model\n",
    "- best coherence score (and visually best separations) with LDA model with 5 topics"
   ]
  },
  {
   "cell_type": "code",
   "execution_count": 24,
   "metadata": {},
   "outputs": [],
   "source": [
    "Lda4.save('../models/lda4.model')"
   ]
  },
  {
   "cell_type": "code",
   "execution_count": 25,
   "metadata": {},
   "outputs": [],
   "source": [
    "pyLDAvis.save_html(vis4, '../models/vis4.html')"
   ]
  },
  {
   "cell_type": "code",
   "execution_count": null,
   "metadata": {},
   "outputs": [],
   "source": []
  },
  {
   "cell_type": "code",
   "execution_count": null,
   "metadata": {},
   "outputs": [],
   "source": []
  },
  {
   "cell_type": "code",
   "execution_count": null,
   "metadata": {},
   "outputs": [],
   "source": []
  },
  {
   "cell_type": "code",
   "execution_count": null,
   "metadata": {},
   "outputs": [],
   "source": []
  },
  {
   "cell_type": "markdown",
   "metadata": {},
   "source": [
    "## transform corpus into topic distribution matrices "
   ]
  },
  {
   "cell_type": "code",
   "execution_count": null,
   "metadata": {},
   "outputs": [],
   "source": [
    "corpus_transformed = lda4[corpus]"
   ]
  },
  {
   "cell_type": "markdown",
   "metadata": {},
   "source": [
    "### function to show original text, tokens, most likely topics and topic terms"
   ]
  },
  {
   "cell_type": "code",
   "execution_count": null,
   "metadata": {},
   "outputs": [],
   "source": [
    "def show_prediction(index):\n",
    "    \n",
    "    print(df.iloc[index]['Introduction'])\n",
    "    \n",
    "    df = (pd.DataFrame(corpus_transformed[index], columns = ['topic', 'probability'])\n",
    "                       .sort_values(by = ['probability'], ascending = False)\n",
    "                       .reset_index(drop = True))\n",
    "    print()\n",
    "    \n",
    "    print(df)\n",
    "    \n",
    "    list_topics = []\n",
    "    for i in range(len(df)):\n",
    "        if (float(df.iloc[i]['probability']) > 0.1):\n",
    "            list_topics.append(int(df.iloc[i]['topic']))\n",
    "    print('most likely topics: ', list_topics)\n",
    "    print()\n",
    "    \n",
    "    for t in list_topics:\n",
    "        print(lda4.print_topics()[t])\n",
    "    \n",
    "    return()\n",
    "    "
   ]
  },
  {
   "cell_type": "code",
   "execution_count": null,
   "metadata": {},
   "outputs": [],
   "source": [
    "# pd.set_option('display.max_colwidth', 500)\n",
    "# df['Introduction'][0]\n",
    "df.iloc[13]['Introduction']"
   ]
  },
  {
   "cell_type": "code",
   "execution_count": null,
   "metadata": {},
   "outputs": [],
   "source": [
    "show_prediction(1)"
   ]
  },
  {
   "cell_type": "markdown",
   "metadata": {},
   "source": [
    "### transform inf corpus into inf topic distribution matrix"
   ]
  },
  {
   "cell_type": "code",
   "execution_count": null,
   "metadata": {},
   "outputs": [],
   "source": [
    "inf_count_matrix_T = inf_count_matrix.transpose()\n",
    "\n",
    "inf_corpus = matutils.Sparse2Corpus(inf_count_matrix_T)"
   ]
  },
  {
   "cell_type": "code",
   "execution_count": null,
   "metadata": {},
   "outputs": [],
   "source": [
    "inf_corpus_transformed = lda4[inf_corpus]"
   ]
  },
  {
   "cell_type": "markdown",
   "metadata": {},
   "source": [
    "### function to show inf text, tokens, most likely topics and topic terms¶"
   ]
  },
  {
   "cell_type": "code",
   "execution_count": null,
   "metadata": {},
   "outputs": [],
   "source": [
    "def show_inf_prediction(index):\n",
    "    \n",
    "    print(df_inf.iloc[index])\n",
    "    \n",
    "    df = (pd.DataFrame(inf_corpus_transformed[index], columns = ['topic', 'probability'])\n",
    "                       .sort_values(by = ['probability'], ascending = False)\n",
    "                       .reset_index(drop = True))\n",
    "    print()\n",
    "    \n",
    "    print(df)\n",
    "    \n",
    "    list_topics = []\n",
    "    for i in range(len(df)):\n",
    "        if (float(df.iloc[i]['probability']) > 0.1):\n",
    "            list_topics.append(int(df.iloc[i]['topic']))\n",
    "    print('most likely topics: ', list_topics)\n",
    "    print()\n",
    "    \n",
    "    for t in list_topics:\n",
    "        print(lda4.print_topics()[t]) \n",
    "    \n",
    "    return()"
   ]
  },
  {
   "cell_type": "markdown",
   "metadata": {},
   "source": [
    "## 4. Calculate distance between each piece of text"
   ]
  },
  {
   "cell_type": "markdown",
   "metadata": {},
   "source": [
    "### tabelog topic probabilities"
   ]
  },
  {
   "cell_type": "code",
   "execution_count": null,
   "metadata": {},
   "outputs": [],
   "source": [
    "df_tabelog_topic_prob = pd.DataFrame(columns = range(4))\n",
    "\n",
    "for i in range(len(df_tabelog)):\n",
    "    list_probabilities = corpus_transformed[i]\n",
    "    dict_probabailites = {item[0]: item[1:] for item in list_probabilities}\n",
    "    df_probabilities = pd.DataFrame(dict_probabailites)\n",
    "    df_tabelog_topic_prob = pd.concat([df_tabelog_topic_prob, df_probabilities],\n",
    "                                     axis = 0)"
   ]
  },
  {
   "cell_type": "code",
   "execution_count": null,
   "metadata": {},
   "outputs": [],
   "source": [
    "df_tabelog_topic_prob.fillna(0, inplace = True)"
   ]
  },
  {
   "cell_type": "code",
   "execution_count": null,
   "metadata": {},
   "outputs": [],
   "source": [
    "df_tabelog_topic_prob.head()"
   ]
  },
  {
   "cell_type": "markdown",
   "metadata": {},
   "source": [
    "### inf topic probabilities"
   ]
  },
  {
   "cell_type": "code",
   "execution_count": null,
   "metadata": {},
   "outputs": [],
   "source": [
    "df_inf_topic_prob = pd.DataFrame(columns = range(4))\n",
    "\n",
    "for i in range(len(df_inf)):\n",
    "    list_probabilities = inf_corpus_transformed[i]\n",
    "    dict_probabailites = {item[0]: item[1:] for item in list_probabilities}\n",
    "    df_probabilities = pd.DataFrame(dict_probabailites)\n",
    "    df_inf_topic_prob = pd.concat([df_inf_topic_prob, df_probabilities],\n",
    "                                     axis = 0)"
   ]
  },
  {
   "cell_type": "code",
   "execution_count": null,
   "metadata": {},
   "outputs": [],
   "source": [
    "df_inf_topic_prob"
   ]
  },
  {
   "cell_type": "markdown",
   "metadata": {
    "collapsed": true
   },
   "source": [
    "### find Jensen-Shannon distance"
   ]
  },
  {
   "cell_type": "code",
   "execution_count": null,
   "metadata": {},
   "outputs": [],
   "source": [
    "# e.g. tabelog entry 0, inf 0\n",
    "tabelog_inf_distance = distance.jensenshannon(list(df_tabelog_topic_prob.iloc[0]), list(df_inf_topic_prob.iloc[0]))"
   ]
  },
  {
   "cell_type": "code",
   "execution_count": null,
   "metadata": {},
   "outputs": [],
   "source": [
    "tabelog_inf_distance"
   ]
  },
  {
   "cell_type": "code",
   "execution_count": null,
   "metadata": {},
   "outputs": [],
   "source": []
  },
  {
   "cell_type": "markdown",
   "metadata": {
    "collapsed": true
   },
   "source": [
    "# Part 2. Clustering\n",
    "1. Get average text vectors using pre-trained model vectors\n",
    "2. kMeans clustering"
   ]
  },
  {
   "cell_type": "code",
   "execution_count": null,
   "metadata": {},
   "outputs": [],
   "source": [
    "from sklearn.cluster import KMeans\n",
    "from sklearn.manifold import TSNE\n",
    "from sklearn.metrics.pairwise import cosine_similarity"
   ]
  },
  {
   "cell_type": "markdown",
   "metadata": {},
   "source": [
    "## 1. Get text vectors"
   ]
  },
  {
   "cell_type": "markdown",
   "metadata": {},
   "source": [
    "- to get pretrained word vectors (English)\n",
    "    - https://radimrehurek.com/gensim/auto_examples/howtos/run_downloader_api.html"
   ]
  },
  {
   "cell_type": "code",
   "execution_count": null,
   "metadata": {},
   "outputs": [],
   "source": [
    "import gensim.downloader as api"
   ]
  },
  {
   "cell_type": "code",
   "execution_count": null,
   "metadata": {},
   "outputs": [],
   "source": [
    "gensim_corpus = api.load('text8')"
   ]
  },
  {
   "cell_type": "code",
   "execution_count": null,
   "metadata": {},
   "outputs": [],
   "source": [
    "import inspect\n",
    "print(inspect.getsource(gensim_corpus.__class__))"
   ]
  },
  {
   "cell_type": "code",
   "execution_count": null,
   "metadata": {},
   "outputs": [],
   "source": [
    "from gensim.models.word2vec import Word2Vec\n",
    "model = Word2Vec(gensim_corpus)"
   ]
  },
  {
   "cell_type": "code",
   "execution_count": null,
   "metadata": {},
   "outputs": [],
   "source": [
    "print(model.wv.most_similar('tree'))"
   ]
  },
  {
   "cell_type": "markdown",
   "metadata": {},
   "source": [
    "- Japanese pretrained models, word vectors\n",
    "    - https://qiita.com/Hironsan/items/8f7d35f0a36e0f99752c\n",
    "    - https://qiita.com/Hironsan/items/513b9f93752ecee9e670\n",
    "        - download Word vectors (NEologd)"
   ]
  },
  {
   "cell_type": "code",
   "execution_count": null,
   "metadata": {},
   "outputs": [],
   "source": [
    "local_path = '/Users/carmen/Downloads/'\n",
    "model = gensim.models.KeyedVectors.load_word2vec_format(local_path + 'model.vec', binary = False)"
   ]
  },
  {
   "cell_type": "code",
   "execution_count": null,
   "metadata": {},
   "outputs": [],
   "source": [
    "# testing\n",
    "model.most_similar('日本人')"
   ]
  },
  {
   "cell_type": "code",
   "execution_count": null,
   "metadata": {},
   "outputs": [],
   "source": [
    "def get_average_vector_from_tokens(list_tokens):\n",
    "    list_vectors = []\n",
    "    \n",
    "    for i in list_tokens:\n",
    "        try:\n",
    "            vector = model[i]\n",
    "            list_vectors.append(vector)\n",
    "        except:\n",
    "            continue\n",
    "            \n",
    "    average_vector = np.mean(list_vectors, axis = 0)\n",
    "    \n",
    "    return average_vector"
   ]
  },
  {
   "cell_type": "code",
   "execution_count": null,
   "metadata": {},
   "outputs": [],
   "source": [
    "df_tabelog['tabelog_vector'] = df_tabelog['tokens'].apply(lambda x: get_average_vector_from_tokens(x))"
   ]
  },
  {
   "cell_type": "markdown",
   "metadata": {},
   "source": [
    "## 2. kMeans clustering"
   ]
  },
  {
   "cell_type": "code",
   "execution_count": null,
   "metadata": {},
   "outputs": [],
   "source": [
    "modelkmeans = KMeans(n_clusters = 4, init = 'k-means++', n_init = 100)"
   ]
  },
  {
   "cell_type": "code",
   "execution_count": null,
   "metadata": {},
   "outputs": [],
   "source": [
    "modelkmeans.fit(list(df_tabelog['tabelog_vector']))"
   ]
  },
  {
   "cell_type": "code",
   "execution_count": null,
   "metadata": {},
   "outputs": [],
   "source": [
    "df_tabelog['kmeans_cluster'] = modelkmeans.predict(list(df_tabelog['tabelog_vector']))"
   ]
  },
  {
   "cell_type": "code",
   "execution_count": null,
   "metadata": {},
   "outputs": [],
   "source": [
    "df_tabelog.head(2)"
   ]
  },
  {
   "cell_type": "markdown",
   "metadata": {
    "collapsed": true
   },
   "source": [
    "### visualize using TSNE"
   ]
  },
  {
   "cell_type": "code",
   "execution_count": null,
   "metadata": {},
   "outputs": [],
   "source": [
    "tsne = TSNE(n_components = 2,\n",
    "           init = 'random',\n",
    "           random_state = 10,\n",
    "           perplexity = 10)"
   ]
  },
  {
   "cell_type": "code",
   "execution_count": null,
   "metadata": {},
   "outputs": [],
   "source": [
    "embedding = tsne.fit_transform(list(df_tabelog['tabelog_vector']))\n",
    "\n",
    "df_embedding = pd.DataFrame(embedding)\n",
    "df_embedding.rename(columns = {0:'x',\n",
    "                              1:'y'},\n",
    "                   inplace = True)"
   ]
  },
  {
   "cell_type": "code",
   "execution_count": null,
   "metadata": {},
   "outputs": [],
   "source": [
    "df_embedding.head()"
   ]
  },
  {
   "cell_type": "code",
   "execution_count": null,
   "metadata": {},
   "outputs": [],
   "source": [
    "df_tabelog = pd.concat([df_tabelog, df_embedding],\n",
    "                      axis = 1)"
   ]
  },
  {
   "cell_type": "code",
   "execution_count": null,
   "metadata": {},
   "outputs": [],
   "source": [
    "df_tabelog.head(2)"
   ]
  },
  {
   "cell_type": "code",
   "execution_count": null,
   "metadata": {},
   "outputs": [],
   "source": [
    "plt.figure(figsize = (8, 8))\n",
    "sns.scatterplot(df_tabelog['x'],\n",
    "               df_tabelog['y'],\n",
    "               hue = df_tabelog['kmeans_cluster'],\n",
    "               legend = 'full',\n",
    "               palette = 'Accent')\n",
    "plt.show()"
   ]
  },
  {
   "cell_type": "code",
   "execution_count": null,
   "metadata": {},
   "outputs": [],
   "source": []
  },
  {
   "cell_type": "code",
   "execution_count": null,
   "metadata": {},
   "outputs": [],
   "source": []
  },
  {
   "cell_type": "code",
   "execution_count": null,
   "metadata": {},
   "outputs": [],
   "source": []
  },
  {
   "cell_type": "code",
   "execution_count": null,
   "metadata": {},
   "outputs": [],
   "source": []
  },
  {
   "cell_type": "code",
   "execution_count": null,
   "metadata": {},
   "outputs": [],
   "source": []
  },
  {
   "cell_type": "code",
   "execution_count": null,
   "metadata": {},
   "outputs": [],
   "source": []
  },
  {
   "cell_type": "code",
   "execution_count": null,
   "metadata": {},
   "outputs": [],
   "source": []
  },
  {
   "cell_type": "code",
   "execution_count": null,
   "metadata": {},
   "outputs": [],
   "source": []
  },
  {
   "cell_type": "code",
   "execution_count": null,
   "metadata": {},
   "outputs": [],
   "source": []
  },
  {
   "cell_type": "code",
   "execution_count": null,
   "metadata": {},
   "outputs": [],
   "source": []
  }
 ],
 "metadata": {
  "kernelspec": {
   "display_name": "streamlit_conda391",
   "language": "python",
   "name": "streamlit_conda391"
  },
  "language_info": {
   "codemirror_mode": {
    "name": "ipython",
    "version": 3
   },
   "file_extension": ".py",
   "mimetype": "text/x-python",
   "name": "python",
   "nbconvert_exporter": "python",
   "pygments_lexer": "ipython3",
   "version": "3.9.18"
  }
 },
 "nbformat": 4,
 "nbformat_minor": 2
}
