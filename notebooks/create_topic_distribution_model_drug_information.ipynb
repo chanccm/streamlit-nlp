{
 "cells": [
  {
   "cell_type": "markdown",
   "metadata": {},
   "source": [
    "# Topic Estimation Steps:\n",
    "\n",
    "\n",
    "1. Text preprocessing and tokenization\n",
    "\n",
    "2. Train topic estimation model\n",
    "    - Make document-term matrix\n",
    "        - input: tokens \n",
    "        - tool: CountVectorizer\n",
    "    - Make topic distribution matrix\n",
    "        - input:\n",
    "            i) document-term matrix -> term-document matrix -> corpus\n",
    "            ii) dictionary (from gensim, Not pandas dict)\n",
    "        - tool: Latent Dirichlet Allocation\n",
    "    - Evaluate coherence\n",
    "3. Visualization model\n",
    "    - tool: pyLDAvis\n",
    "    - also, each piece of text is expressed in terms of a list of topics, and the probability for each topic\n"
   ]
  },
  {
   "cell_type": "markdown",
   "metadata": {},
   "source": [
    "# Import libraries"
   ]
  },
  {
   "cell_type": "code",
   "execution_count": 19,
   "metadata": {},
   "outputs": [],
   "source": [
    "import pandas as pd\n",
    "import numpy as np\n",
    "import matplotlib.pyplot as plt\n",
    "from collections import Counter\n",
    "import time\n",
    "import re\n",
    "\n",
    "from sklearn.feature_extraction.text import CountVectorizer\n",
    "from nltk.tokenize import RegexpTokenizer\n",
    "from nltk.corpus import wordnet \n",
    "from nltk.stem.wordnet import WordNetLemmatizer\n",
    "from nltk.corpus import stopwords\n",
    "\n",
    "import gensim\n",
    "from gensim import corpora\n",
    "from gensim import matutils, models\n",
    "from gensim.models import CoherenceModel\n",
    "from gensim.test.utils import datapath\n",
    "\n",
    "import pyLDAvis\n",
    "import pyLDAvis.gensim_models\n"
   ]
  },
  {
   "cell_type": "code",
   "execution_count": 2,
   "metadata": {},
   "outputs": [
    {
     "name": "stdout",
     "output_type": "stream",
     "text": [
      "/Users/carmen/nltk_data/corpora/wordnet.zip\n"
     ]
    }
   ],
   "source": [
    "# in order to use NLTK's lemmatizer, need to download library\n",
    "\n",
    "import nltk\n",
    "# nltk.download('wordnet')\n",
    "\n",
    "# to see where it is downloaded to\n",
    "print(nltk.find('corpora/wordnet.zip'))"
   ]
  },
  {
   "cell_type": "code",
   "execution_count": null,
   "metadata": {},
   "outputs": [],
   "source": []
  },
  {
   "cell_type": "markdown",
   "metadata": {
    "collapsed": true
   },
   "source": [
    "# Text to be grouped into different topics"
   ]
  },
  {
   "cell_type": "code",
   "execution_count": 3,
   "metadata": {},
   "outputs": [],
   "source": [
    "pd.set_option('display.max_colwidth', None)"
   ]
  },
  {
   "cell_type": "code",
   "execution_count": 10,
   "metadata": {},
   "outputs": [],
   "source": [
    "df = pd.read_excel('../data/drug_names_kaggle_TASK.xlsx',\n",
    "                  header = 1,\n",
    "                  usecols = [1])"
   ]
  },
  {
   "cell_type": "code",
   "execution_count": 11,
   "metadata": {},
   "outputs": [
    {
     "data": {
      "text/html": [
       "<div>\n",
       "<style scoped>\n",
       "    .dataframe tbody tr th:only-of-type {\n",
       "        vertical-align: middle;\n",
       "    }\n",
       "\n",
       "    .dataframe tbody tr th {\n",
       "        vertical-align: top;\n",
       "    }\n",
       "\n",
       "    .dataframe thead th {\n",
       "        text-align: right;\n",
       "    }\n",
       "</style>\n",
       "<table border=\"1\" class=\"dataframe\">\n",
       "  <thead>\n",
       "    <tr style=\"text-align: right;\">\n",
       "      <th></th>\n",
       "      <th>Introduction</th>\n",
       "    </tr>\n",
       "  </thead>\n",
       "  <tbody>\n",
       "    <tr>\n",
       "      <th>0</th>\n",
       "      <td>Acnesol Gel is an antibiotic that fights bacte...</td>\n",
       "    </tr>\n",
       "    <tr>\n",
       "      <th>1</th>\n",
       "      <td>Ambrodil Syrup is used for treating various re...</td>\n",
       "    </tr>\n",
       "  </tbody>\n",
       "</table>\n",
       "</div>"
      ],
      "text/plain": [
       "                                        Introduction\n",
       "0  Acnesol Gel is an antibiotic that fights bacte...\n",
       "1  Ambrodil Syrup is used for treating various re..."
      ]
     },
     "execution_count": 11,
     "metadata": {},
     "output_type": "execute_result"
    }
   ],
   "source": [
    "df.head(2)"
   ]
  },
  {
   "cell_type": "markdown",
   "metadata": {},
   "source": [
    "# Topic Estimation"
   ]
  },
  {
   "cell_type": "markdown",
   "metadata": {
    "collapsed": true
   },
   "source": [
    "## 1. Text preprocessing and tokenization"
   ]
  },
  {
   "cell_type": "code",
   "execution_count": 6,
   "metadata": {},
   "outputs": [],
   "source": [
    "def tokenize(text):\n",
    "    \n",
    "    list_str_exclude = ['mg', 'ml', 'gm', 'iu', 'mcg']\n",
    "    # need to add words to this list manually\n",
    "    \n",
    "    tokenizer = RegexpTokenizer(r'\\w+')\n",
    "    text = text.lower()\n",
    "#     print(text)\n",
    "    tokenized_text = tokenizer.tokenize(text)\n",
    "#     print(tokenized_text)\n",
    "\n",
    "    # Remove numbers, but not words that contain numbers.\n",
    "    tokenized_text = [token for token in tokenized_text if not token.isnumeric()]\n",
    "\n",
    "    # Remove words that are only one character.\n",
    "    tokenized_text = [token for token in tokenized_text if len(token) > 1]\n",
    "    \n",
    "    # Remove words that are dosage\n",
    "    tokenized_text = [token for token in tokenized_text if not any(unimportant in token for unimportant in list_str_exclude)]\n",
    "    \n",
    "    return tokenized_text"
   ]
  },
  {
   "cell_type": "code",
   "execution_count": 7,
   "metadata": {},
   "outputs": [],
   "source": [
    "def lemmatize_tokens(tokens):\n",
    "    \n",
    "    lemmatizer = WordNetLemmatizer()\n",
    "    lemmatized_tokens = [lemmatizer.lemmatize(token) for token in tokens]\n",
    "    \n",
    "    return lemmatized_tokens"
   ]
  },
  {
   "cell_type": "code",
   "execution_count": 8,
   "metadata": {},
   "outputs": [],
   "source": [
    "df['tokens'] = df['Introduction'].apply(lambda x: lemmatize_tokens(tokenize(x)))"
   ]
  },
  {
   "cell_type": "code",
   "execution_count": 9,
   "metadata": {},
   "outputs": [
    {
     "data": {
      "text/html": [
       "<div>\n",
       "<style scoped>\n",
       "    .dataframe tbody tr th:only-of-type {\n",
       "        vertical-align: middle;\n",
       "    }\n",
       "\n",
       "    .dataframe tbody tr th {\n",
       "        vertical-align: top;\n",
       "    }\n",
       "\n",
       "    .dataframe thead th {\n",
       "        text-align: right;\n",
       "    }\n",
       "</style>\n",
       "<table border=\"1\" class=\"dataframe\">\n",
       "  <thead>\n",
       "    <tr style=\"text-align: right;\">\n",
       "      <th></th>\n",
       "      <th>Introduction</th>\n",
       "      <th>tokens</th>\n",
       "    </tr>\n",
       "  </thead>\n",
       "  <tbody>\n",
       "    <tr>\n",
       "      <th>0</th>\n",
       "      <td>Acnesol Gel is an antibiotic that fights bacteria. It is used to treat acne, which appears as spots or pimples on your face, chest or back. This medicine works by attacking the bacteria that cause these pimples.Acnesol Gel is only meant for external use and should be used as advised by your doctor. You should normally wash and dry the affected area before applying a thin layer of the medicine. It should not be applied to broken or damaged skin. Avoid any contact with your eyes, nose, or mouth. Rinse it off with water if you accidentally get it in these areas. It may take several weeks for your symptoms to improve, but you should keep using this medicine regularly. Do not stop using it as soon as your acne starts to get better. Ask your doctor when you should stop treatment.Common side effects like minor itching, burning, or redness of the skin and oily skin may be seen in some people. These are usually temporary and resolve on their own. Consult your doctor if they bother you or do not go away.It is a safe medicine, but you should inform your doctor if you have any problems with your bowels (intestines). Also, inform the doctor if you have ever had bloody diarrhea caused by taking antibiotics or if you are using any other medicines to treat skin conditions. Consult your doctor about using this medicine if you are pregnant or breastfeeding.</td>\n",
       "      <td>[acnesol, gel, is, an, antibiotic, that, fight, bacteria, it, is, used, to, treat, acne, which, appears, a, spot, or, pimple, on, your, face, chest, or, back, this, medicine, work, by, attacking, the, bacteria, that, cause, these, pimple, acnesol, gel, is, only, meant, for, external, use, and, should, be, used, a, advised, by, your, doctor, you, should, normally, wash, and, dry, the, affected, area, before, applying, thin, layer, of, the, medicine, it, should, not, be, applied, to, broken, or, damaged, skin, avoid, any, contact, with, your, eye, nose, or, mouth, rinse, it, off, with, water, if, you, accidentally, get, it, in, ...]</td>\n",
       "    </tr>\n",
       "    <tr>\n",
       "      <th>1</th>\n",
       "      <td>Ambrodil Syrup is used for treating various respiratory tract disorders associated with excessive mucus. It works by thinning and loosens mucus in the nose, windpipe and lungs and make it easier to cough out.Ambrodil Syrup should be taken with food. For better results, it is suggested to take it at the same time every day.  The dose and how often you take it depends on what you are taking it for. Your doctor will decide how much you need to improve your symptoms.  It is advised not to use it for more than 14 days without doctor consultation.The most common side effects of this medicine include vomiting, nausea, and stomach upset. Talk to your doctor if you are worried about side effects or they would not go away. Generally, it is advised not to take alcohol while on treatment.Before taking this medicine, tell your doctor if you have liver or kidney disease or if you have stomach problems. Your doctor should also know about all other medicines you are taking as many of these may make this medicine less effective or change the way it works. You must take doctor's advice before using this medicine if you are pregnant or breastfeeding.</td>\n",
       "      <td>[ambrodil, syrup, is, used, for, treating, various, respiratory, tract, disorder, associated, with, excessive, mucus, it, work, by, thinning, and, loosens, mucus, in, the, nose, windpipe, and, lung, and, make, it, easier, to, cough, out, ambrodil, syrup, should, be, taken, with, food, for, better, result, it, is, suggested, to, take, it, at, the, same, time, every, day, the, dose, and, how, often, you, take, it, depends, on, what, you, are, taking, it, for, your, doctor, will, decide, how, much, you, need, to, improve, your, symptom, it, is, advised, not, to, use, it, for, more, than, day, without, doctor, consultation, the, most, ...]</td>\n",
       "    </tr>\n",
       "  </tbody>\n",
       "</table>\n",
       "</div>"
      ],
      "text/plain": [
       "                                                                                                                                                                                                                                                                                                                                                                                                                                                                                                                                                                                                                                                                                                                                                                                                                                                                                                                                                                                                                                                                                                                                                                                                                                                                                                                                                                                                        Introduction  \\\n",
       "0  Acnesol Gel is an antibiotic that fights bacteria. It is used to treat acne, which appears as spots or pimples on your face, chest or back. This medicine works by attacking the bacteria that cause these pimples.Acnesol Gel is only meant for external use and should be used as advised by your doctor. You should normally wash and dry the affected area before applying a thin layer of the medicine. It should not be applied to broken or damaged skin. Avoid any contact with your eyes, nose, or mouth. Rinse it off with water if you accidentally get it in these areas. It may take several weeks for your symptoms to improve, but you should keep using this medicine regularly. Do not stop using it as soon as your acne starts to get better. Ask your doctor when you should stop treatment.Common side effects like minor itching, burning, or redness of the skin and oily skin may be seen in some people. These are usually temporary and resolve on their own. Consult your doctor if they bother you or do not go away.It is a safe medicine, but you should inform your doctor if you have any problems with your bowels (intestines). Also, inform the doctor if you have ever had bloody diarrhea caused by taking antibiotics or if you are using any other medicines to treat skin conditions. Consult your doctor about using this medicine if you are pregnant or breastfeeding.   \n",
       "1                                                                                                                                                                                                                      Ambrodil Syrup is used for treating various respiratory tract disorders associated with excessive mucus. It works by thinning and loosens mucus in the nose, windpipe and lungs and make it easier to cough out.Ambrodil Syrup should be taken with food. For better results, it is suggested to take it at the same time every day.  The dose and how often you take it depends on what you are taking it for. Your doctor will decide how much you need to improve your symptoms.  It is advised not to use it for more than 14 days without doctor consultation.The most common side effects of this medicine include vomiting, nausea, and stomach upset. Talk to your doctor if you are worried about side effects or they would not go away. Generally, it is advised not to take alcohol while on treatment.Before taking this medicine, tell your doctor if you have liver or kidney disease or if you have stomach problems. Your doctor should also know about all other medicines you are taking as many of these may make this medicine less effective or change the way it works. You must take doctor's advice before using this medicine if you are pregnant or breastfeeding.   \n",
       "\n",
       "                                                                                                                                                                                                                                                                                                                                                                                                                                                                                                                                                                                                                                                                tokens  \n",
       "0       [acnesol, gel, is, an, antibiotic, that, fight, bacteria, it, is, used, to, treat, acne, which, appears, a, spot, or, pimple, on, your, face, chest, or, back, this, medicine, work, by, attacking, the, bacteria, that, cause, these, pimple, acnesol, gel, is, only, meant, for, external, use, and, should, be, used, a, advised, by, your, doctor, you, should, normally, wash, and, dry, the, affected, area, before, applying, thin, layer, of, the, medicine, it, should, not, be, applied, to, broken, or, damaged, skin, avoid, any, contact, with, your, eye, nose, or, mouth, rinse, it, off, with, water, if, you, accidentally, get, it, in, ...]  \n",
       "1  [ambrodil, syrup, is, used, for, treating, various, respiratory, tract, disorder, associated, with, excessive, mucus, it, work, by, thinning, and, loosens, mucus, in, the, nose, windpipe, and, lung, and, make, it, easier, to, cough, out, ambrodil, syrup, should, be, taken, with, food, for, better, result, it, is, suggested, to, take, it, at, the, same, time, every, day, the, dose, and, how, often, you, take, it, depends, on, what, you, are, taking, it, for, your, doctor, will, decide, how, much, you, need, to, improve, your, symptom, it, is, advised, not, to, use, it, for, more, than, day, without, doctor, consultation, the, most, ...]  "
      ]
     },
     "execution_count": 9,
     "metadata": {},
     "output_type": "execute_result"
    }
   ],
   "source": [
    "df.head(2)"
   ]
  },
  {
   "cell_type": "markdown",
   "metadata": {},
   "source": [
    "## 2. Train topic estimation model"
   ]
  },
  {
   "cell_type": "code",
   "execution_count": 10,
   "metadata": {},
   "outputs": [],
   "source": [
    "def create_corpus_dictonary(text_data, max_term_freq, min_term_count):\n",
    "\n",
    "    def identity_tokenizer(text):\n",
    "        return text\n",
    "    \n",
    "    # create document-term matrix\n",
    "    count_vectorizer = CountVectorizer(tokenizer = identity_tokenizer,\n",
    "                                      lowercase = False,\n",
    "                                      max_df = max_term_freq, # ignoring terms that have a document frequency > x% of the number of document (by percentage)\n",
    "                                      min_df = min_term_count) # ignoring terms that have a document frequency < x (count) \n",
    "\n",
    "    count_matrix = count_vectorizer.fit_transform(text_data)\n",
    "    print('count_matrix.shape: ', count_matrix.shape)\n",
    "    \n",
    "    # create dictionary of index: term\n",
    "    dictionary = count_vectorizer.get_feature_names_out()\n",
    "    print('length of dictionary: ', len(dictionary))\n",
    "    id2word = {v: k for v, k in enumerate(dictionary)}    \n",
    "    # for coherence evaluation, create dictionary of term: index\n",
    "    word2id = dict((k, v) for k, v in count_vectorizer.vocabulary_.items())\n",
    "\n",
    "    d = corpora.Dictionary()\n",
    "    d.id2token = id2word\n",
    "    d.token2id = word2id\n",
    "\n",
    "    \n",
    "    # create term-document matrix\n",
    "    count_matrix_T = count_matrix.transpose()\n",
    "    # convert from sparse to proper format for LDA\n",
    "    corpus = matutils.Sparse2Corpus(count_matrix_T)\n",
    "    \n",
    "    return corpus, d, id2word, word2id\n"
   ]
  },
  {
   "cell_type": "code",
   "execution_count": 11,
   "metadata": {},
   "outputs": [],
   "source": [
    "def train_model_get_coherence_score(corpus, id2word, topic_count, word2id):\n",
    "    \n",
    "    passes = 10\n",
    "    iterations = 50 # 50 is the default\n",
    "    \n",
    "    lda = models.LdaModel(corpus = corpus,\n",
    "                          id2word = id2word,\n",
    "                          num_topics = topic_count,\n",
    "                          passes = passes,\n",
    "                          iterations = iterations)\n",
    "    \n",
    "    # evaluation coherence\n",
    "    coherence_model_lda = CoherenceModel(model = lda, \n",
    "                                         corpus = corpus, \n",
    "                                         dictionary = word2id, \n",
    "                                         coherence = 'u_mass'\n",
    "                                        )\n",
    "    coherence_lda = coherence_model_lda.get_coherence()\n",
    "    \n",
    "    return lda, coherence_lda\n",
    "    "
   ]
  },
  {
   "cell_type": "markdown",
   "metadata": {},
   "source": [
    "### fix max_term_freq and min_term_freq, vary topic_count"
   ]
  },
  {
   "cell_type": "code",
   "execution_count": 12,
   "metadata": {},
   "outputs": [
    {
     "name": "stdout",
     "output_type": "stream",
     "text": [
      "count_matrix.shape:  (1000, 2710)\n",
      "length of dictionary:  2710\n",
      "max_term_freq = 0.7, min_term_count = 1\n",
      "time taken to calculate: 0.08605408668518066\n"
     ]
    },
    {
     "name": "stderr",
     "output_type": "stream",
     "text": [
      "/Users/carmen/anaconda3/envs/streamlit_conda391/lib/python3.9/site-packages/sklearn/feature_extraction/text.py:525: UserWarning: The parameter 'token_pattern' will not be used since 'tokenizer' is not None'\n",
      "  warnings.warn(\n"
     ]
    }
   ],
   "source": [
    "starttime = time.time()\n",
    "\n",
    "max_term_freq = 0.7\n",
    "min_term_count = 1\n",
    "\n",
    "Corpus, D, Id2word, Word2id = create_corpus_dictonary(df['tokens'], max_term_freq, min_term_count)\n",
    "print('max_term_freq = {}, min_term_count = {}'.format(max_term_freq, min_term_count))\n",
    "\n",
    "elapsedtime = time.time() - starttime\n",
    "print('time taken to calculate: {}'.format(elapsedtime))"
   ]
  },
  {
   "cell_type": "code",
   "execution_count": 13,
   "metadata": {},
   "outputs": [],
   "source": [
    "dict_coherence_score_topic_count = {}\n",
    "for i in range(3, 10):\n",
    "    Lda, Coherence_score = train_model_get_coherence_score(Corpus, Id2word, i, Word2id)\n",
    "    dict_coherence_score_topic_count[i] = Coherence_score"
   ]
  },
  {
   "cell_type": "code",
   "execution_count": 14,
   "metadata": {},
   "outputs": [],
   "source": [
    "dict_coherence_score_topic_count = dict(sorted(dict_coherence_score_topic_count.items()))"
   ]
  },
  {
   "cell_type": "code",
   "execution_count": 15,
   "metadata": {},
   "outputs": [
    {
     "data": {
      "text/plain": [
       "Text(0.5, 1.0, 'Max_term_freq = 0.7, min_term_count = 1')"
      ]
     },
     "execution_count": 15,
     "metadata": {},
     "output_type": "execute_result"
    },
    {
     "data": {
      "image/png": "[encoded data removed]",
      "text/plain": [
       "<Figure size 600x300 with 1 Axes>"
      ]
     },
     "metadata": {},
     "output_type": "display_data"
    }
   ],
   "source": [
    "plt.figure(figsize = (6,3))\n",
    "plt.plot(dict_coherence_score_topic_count.keys(),\n",
    "        dict_coherence_score_topic_count.values())\n",
    "plt.title('Max_term_freq = {}, min_term_count = {}'.format(max_term_freq, min_term_count))"
   ]
  },
  {
   "cell_type": "code",
   "execution_count": null,
   "metadata": {},
   "outputs": [],
   "source": []
  },
  {
   "cell_type": "markdown",
   "metadata": {},
   "source": [
    "# Visualize model"
   ]
  },
  {
   "cell_type": "markdown",
   "metadata": {},
   "source": [
    "## pyLDAvis"
   ]
  },
  {
   "cell_type": "code",
   "execution_count": 16,
   "metadata": {},
   "outputs": [],
   "source": [
    "pyLDAvis.enable_notebook()"
   ]
  },
  {
   "cell_type": "code",
   "execution_count": 17,
   "metadata": {},
   "outputs": [],
   "source": [
    "Lda3, Coherence_score = train_model_get_coherence_score(Corpus, Id2word, 3, Word2id)"
   ]
  },
  {
   "cell_type": "code",
   "execution_count": 18,
   "metadata": {},
   "outputs": [
    {
     "data": {
      "text/html": [
       "\n",
       "<link rel=\"stylesheet\" type=\"text/css\" href=\"https://cdn.jsdelivr.net/gh/bmabey/pyLDAvis@3.4.0/pyLDAvis/js/ldavis.v1.0.0.css\">\n",
       "\n",
       "\n",
       "<div id=\"ldavis_el32321403285687587847773001223\" style=\"background-color:white;\"></div>\n",
       "<script type=\"text/javascript\">\n",
       "\n",
       "var ldavis_el32321403285687587847773001223_data = {\"mdsDat\": {\"x\": [-0.07026240026496326, -0.07867904230018576, 0.148941442565149], \"y\": [0.09411087918810451, -0.09063097454676709, -0.003479904641337377], \"topics\": [1, 2, 3], \"cluster\": [1, 1, 1], \"Freq\": [29.23482370447335, 36.05216969447214, 34.71300660105451]}, \"tinfo\": {\"Term\": [\"blood\", \"level\", \"pressure\", \"infection\", \"high\", \"antibiotic\", \"sugar\", \"heart\", \"cholesterol\", \"regular\", \"stroke\", \"bacteria\", \"type\", \"exercise\", \"weight\", \"diet\", \"risk\", \"each\", \"pain\", \"dos\", \"low\", \"full\", \"ear\", \"about\", \"vomiting\", \"diabetes\", \"attack\", \"nose\", \"skip\", \"worsening\", \"gram\", \"antibiotic\", \"penicillin\", \"broad\", \"spectrum\", \"typhoid\", \"pneumonia\", \"transmitted\", \"gonorrhea\", \"negative\", \"sinus\", \"osteoarthritis\", \"previous\", \"positive\", \"spondylitis\", \"sexually\", \"ear\", \"completion\", \"viral\", \"ankylosing\", \"returning\", \"survive\", \"worsening\", \"orally\", \"return\", \"subside\", \"sp\", \"variety\", \"everybody\", \"toothache\", \"urinary\", \"bacteria\", \"tissue\", \"child\", \"skip\", \"infection\", \"dos\", \"full\", \"hour\", \"type\", \"tract\", \"finish\", \"bacterial\", \"longer\", \"pain\", \"evenly\", \"spaced\", \"seen\", \"effective\", \"inform\", \"throat\", \"vomiting\", \"duration\", \"eye\", \"many\", \"these\", \"injection\", \"course\", \"using\", \"use\", \"some\", \"an\", \"prescribed\", \"tablet\", \"problem\", \"nausea\", \"let\", \"stomach\", \"include\", \"consult\", \"know\", \"dose\", \"take\", \"will\", \"better\", \"regularly\", \"help\", \"on\", \"treat\", \"beneficial\", \"recommend\", \"sun\", \"mucus\", \"acne\", \"thins\", \"sneezing\", \"support\", \"concerned\", \"asthalin\", \"pimple\", \"impair\", \"gout\", \"expectorant\", \"stuffiness\", \"rest\", \"vary\", \"faster\", \"oil\", \"stone\", \"earlier\", \"aggravated\", \"happening\", \"re\", \"potency\", \"discontinuation\", \"recovery\", \"applied\", \"blackhead\", \"whitehead\", \"recommends\", \"runny\", \"harmful\", \"inhaler\", \"watery\", \"gel\", \"potential\", \"easier\", \"cough\", \"itching\", \"straight\", \"production\", \"plenty\", \"breath\", \"asthma\", \"etc\", \"person\", \"out\", \"must\", \"another\", \"about\", \"relief\", \"come\", \"symptom\", \"nose\", \"drinking\", \"worsen\", \"medication\", \"sleepiness\", \"respond\", \"all\", \"dose\", \"so\", \"can\", \"most\", \"tell\", \"affect\", \"cause\", \"how\", \"contact\", \"these\", \"skin\", \"drive\", \"condition\", \"know\", \"make\", \"avoid\", \"on\", \"usually\", \"away\", \"get\", \"that\", \"advised\", \"take\", \"some\", \"stop\", \"food\", \"will\", \"while\", \"let\", \"tablet\", \"diabetic\", \"reduction\", \"program\", \"glucose\", \"pr\", \"mellitus\", \"yellowing\", \"cessation\", \"put\", \"triglyceride\", \"moderation\", \"ill\", \"blindness\", \"repeated\", \"those\", \"lipid\", \"azulix\", \"cholesterol\", \"build\", \"statin\", \"advise\", \"widely\", \"narrowing\", \"checked\", \"raise\", \"working\", \"hypoglycemia\", \"dyspepsia\", \"play\", \"rise\", \"stroke\", \"exercise\", \"active\", \"especially\", \"fat\", \"part\", \"diabetes\", \"low\", \"pressure\", \"monitoring\", \"blood\", \"level\", \"high\", \"sugar\", \"ankle\", \"lower\", \"regular\", \"weight\", \"each\", \"risk\", \"diet\", \"smoking\", \"heart\", \"healthy\", \"attack\", \"control\", \"advice\", \"intake\", \"day\", \"try\", \"increase\", \"take\", \"same\", \"tablet\", \"liver\", \"help\", \"while\", \"that\", \"kidney\", \"food\", \"disease\", \"can\", \"on\", \"regularly\", \"condition\", \"include\", \"know\", \"stop\", \"feel\", \"will\"], \"Freq\": [1638.0, 818.0, 754.0, 624.0, 536.0, 256.0, 384.0, 1004.0, 280.0, 351.0, 252.0, 206.0, 406.0, 244.0, 311.0, 313.0, 304.0, 286.0, 839.0, 210.0, 200.0, 224.0, 141.0, 467.0, 365.0, 169.0, 254.0, 305.0, 143.0, 117.0, 97.26517438100338, 252.7601158347162, 60.142051095641655, 60.99482894000689, 60.95591954291074, 60.009036607981024, 51.685070483887955, 51.64061690444584, 48.82828556373825, 48.82536120570626, 47.900183598651665, 46.009750912911436, 54.29163298019032, 49.66780993382725, 43.224973616142954, 53.309386588716805, 138.768264295096, 55.0988225441367, 37.636608850899485, 43.1059509927324, 33.913650774486214, 30.2449372451343, 114.24410557881929, 56.643213148915684, 54.72374963928867, 70.22092822925907, 25.481201813812593, 21.80078250894317, 24.51966788685954, 24.467949300979893, 63.39227272100577, 196.44739268866866, 47.06825171303945, 69.86523284660592, 131.55391057542192, 525.2220781023101, 183.80231837731884, 188.5557142631594, 128.26878437993844, 302.63165882590215, 134.6293590485031, 134.66400080185213, 94.50046710776117, 148.23651795051524, 455.8150892391311, 107.55405045752023, 107.50464090469438, 133.88527888299893, 176.12599952248522, 206.5182142796901, 118.4280567855113, 218.15171935704586, 267.2523164684252, 265.9563210851854, 110.53727110268227, 408.4773335290291, 140.36918553566892, 170.66815457143142, 266.8647493377486, 266.7223610519455, 328.84695585379296, 239.93202093052818, 222.3344607722553, 393.3867783714331, 234.16924177875174, 241.19427564648873, 286.1233615449726, 256.50080778558595, 255.23948752925332, 277.2937526415046, 316.08540782453554, 309.47740993931257, 343.9762243388311, 268.4824157611181, 217.75807823878785, 228.77700924300066, 232.7947517867673, 213.2696183442395, 203.3390157577421, 75.20338875289178, 78.00705560690825, 49.70376803756972, 74.91793569705553, 113.76200704778788, 39.791400770486746, 95.06400105322642, 82.37983198570439, 120.10385236214441, 37.77446994826871, 40.66581971690794, 30.922845510713472, 28.983578682898305, 29.907814427239554, 34.69738817618982, 28.904605412399945, 28.901734779546185, 53.7976866137886, 27.859571585551237, 26.893724526088757, 23.048444939932818, 24.00774819116952, 23.041821391905547, 25.87737130526105, 21.07499417366778, 21.07031910627377, 22.019873523714995, 33.48643382819506, 21.053302375409924, 21.04121793710619, 124.04285450982331, 98.19427698965636, 63.82901537569302, 47.55857188627213, 93.34312353593992, 88.50542810291425, 42.80389587560768, 81.40416664165159, 124.04041601524862, 174.99219425824256, 134.33412473558946, 59.663685948859346, 154.38959024375393, 67.27964467849671, 66.96505315584378, 82.00903676425695, 112.01074609388075, 81.47831951253708, 210.1606157308603, 102.33013870146074, 340.779596236331, 148.63900269621234, 158.9142117826067, 495.6986176059742, 226.62903514162758, 187.10642952521997, 208.03688244742273, 360.4720553010777, 215.18432611500836, 123.35115546014667, 325.965093487609, 599.9103275304922, 314.7621349611044, 561.036731875194, 475.4634751747802, 392.1681633893889, 308.8600726577454, 364.6770488485252, 341.1171991223439, 178.80647306737922, 462.3552807099365, 281.11798866681374, 212.690558996615, 407.27658190191204, 461.83087061928956, 276.4242878817751, 293.3100294020354, 408.8310861817601, 268.22335282387917, 236.0049953363164, 331.30263915242165, 410.41567551703616, 311.75836236136615, 434.17970029106704, 314.7323379978625, 275.9180687548754, 274.5762999764049, 269.61673125967747, 261.5891248077114, 263.252754292029, 270.71565890332903, 94.63210427097128, 88.4729748396823, 93.37767300285081, 69.70296880364782, 54.958267193770304, 55.90062372525475, 67.6571559873439, 59.77220402556233, 50.93267051642353, 42.11570474323141, 49.88523729867102, 61.6169381164448, 38.05989969501744, 42.935697187558006, 69.26760864559448, 31.194790457304652, 31.16441367049756, 273.567521727923, 36.95916283228637, 36.953580339219656, 28.18206953286575, 48.58348115143845, 37.87740368720003, 127.2343294010912, 33.97592212744508, 59.23647292073816, 36.87986864505311, 33.9414612540954, 26.178501873721917, 39.744024420154595, 244.1196578044035, 235.75697421545357, 76.48673314238857, 73.52575306207416, 112.63909693787556, 128.51253703719766, 162.73704356864118, 190.88337920178802, 694.8397854767692, 62.740847031142216, 1482.2870976768634, 749.8728045808055, 492.7285316482404, 346.8055113896268, 78.47653279844552, 137.08142117750603, 315.2103442323732, 280.0195561991593, 256.22424637334746, 267.4393213886558, 271.96331036626873, 105.70731480160208, 712.6809379769713, 194.34668458990626, 207.78536516654373, 178.57502715920418, 199.21977009047342, 93.44136394859326, 420.28602000478764, 147.0329110230193, 244.20770962051157, 667.0721578515391, 258.757459873134, 555.9245722910642, 381.8641226304786, 408.1559907220987, 360.8719277083742, 428.64345297914065, 343.258235795238, 342.6145302592975, 312.1820274965585, 375.0146661683566, 347.93274899584225, 295.1909395927753, 329.4196961499963, 287.57497265406516, 304.87541091898595, 281.7494256656195, 272.25078646885925, 279.18950337912867], \"Total\": [1638.0, 818.0, 754.0, 624.0, 536.0, 256.0, 384.0, 1004.0, 280.0, 351.0, 252.0, 206.0, 406.0, 244.0, 311.0, 313.0, 304.0, 286.0, 839.0, 210.0, 200.0, 224.0, 141.0, 467.0, 365.0, 169.0, 254.0, 305.0, 143.0, 117.0, 98.49835662559438, 256.10699233334583, 60.97881324182284, 61.920883371840056, 61.92317080531163, 60.98622199967861, 52.54318872419397, 52.54516701518764, 49.73283855348161, 49.732941477999056, 48.79385987616532, 46.92058641066583, 55.3673108489986, 50.6757893914893, 44.10662857929427, 54.43165971362223, 141.72727879519474, 56.31166002585899, 38.4794890739213, 44.113636716063525, 34.729108318658845, 30.97416873466843, 117.36279244623624, 58.20583470497176, 56.337857783126694, 72.30157398906722, 26.291304376128025, 22.537671302955143, 25.35443272829785, 25.357573619214925, 65.75929232365222, 206.81325043025294, 48.84647303531711, 74.30084580993719, 143.19290808439183, 624.4533847105226, 210.61185644336706, 224.3304723086079, 147.3381088149394, 406.6049084280702, 160.98985844549708, 163.9384385081389, 108.59029703252668, 186.84529443450714, 839.7210534905995, 134.8158450912369, 134.81856757686037, 183.97149368508104, 265.98314669332103, 330.6958422159233, 157.8441446190983, 365.4969394772531, 495.98070695291557, 496.03946676549236, 147.41384800489013, 1015.5777532275536, 212.4570592054277, 286.1762592556858, 569.5021283405478, 576.6127409258643, 837.9240961457627, 511.0852764566416, 451.88852808286316, 1220.0270095658263, 514.6762629906574, 542.7129344857291, 747.132113646058, 619.4531433189994, 618.5136452993794, 771.9285341809232, 1082.7916893628112, 1117.2537243374609, 1445.2280824814375, 817.2886503999241, 518.3435967139443, 651.9209551186475, 832.2487898728958, 970.0334535218419, 631.16147604177, 76.42924698161768, 79.39962029648869, 50.61803859214379, 76.40857221475713, 116.10401928748489, 40.687383317153476, 97.23252521394353, 84.33570930634313, 123.03615162106843, 38.69735881934194, 41.67200363664838, 31.75414056752767, 29.766497271956855, 30.757397831874247, 35.71680624621615, 29.767099530056147, 29.767333566529214, 55.538426597531455, 28.767216052128646, 27.77304157274052, 23.808444551837454, 24.80319995560701, 23.810515952050633, 26.78935669561351, 21.82488390876464, 21.824097050612256, 22.817380990484015, 34.7086078692269, 21.82207947783856, 21.821581393302814, 128.9867905304453, 102.09448727728193, 66.5099395811406, 49.56236096110283, 98.0686908963969, 93.11673845037308, 44.64820350154694, 86.24693657111344, 133.85952571328394, 193.61889448036527, 147.3452582311034, 63.36518608050109, 172.47234232676877, 72.34501200957466, 72.22555176391671, 90.3188798778806, 127.6147446065837, 90.33844480244673, 262.1653889232343, 118.30212402391491, 467.729170080221, 182.7663426512721, 198.3574023343194, 755.3694634862736, 305.24311701307397, 245.99615280587756, 281.60520720006076, 548.9089455245262, 297.4797782040406, 150.26878655635025, 509.3877001370022, 1117.2537243374609, 492.10735435986095, 1055.2691232749848, 860.8077504828606, 693.1649034998787, 503.9131067719381, 635.8472202776393, 592.0212126856961, 245.4264765575623, 1015.5777532275536, 489.24811825501234, 324.62436365060194, 882.5388773035032, 1082.7916893628112, 489.83501339514595, 545.4636074544701, 970.0334535218419, 485.41469857113407, 389.71470365009634, 707.2972527968077, 1040.8151195838984, 671.6577855158854, 1445.2280824814375, 837.9240961457627, 724.9973587183263, 740.9328168461795, 817.2886503999241, 711.3549120373852, 747.132113646058, 1220.0270095658263, 95.95929863096706, 89.94886525374724, 94.95346058700183, 70.95689358233196, 55.9667033782578, 56.96550279200631, 68.95373714499964, 60.95628432449041, 51.96784757627311, 42.9748159560398, 50.95964941739474, 62.94825982412063, 38.96865075874275, 43.960970593449495, 70.95923753805025, 31.973346268656332, 31.972739913757646, 280.6667338407837, 37.96035597307443, 37.95970302752353, 28.972170622526175, 49.955578035807626, 38.95498214741815, 130.89627015062442, 34.96326546440854, 60.96241796546004, 37.95875872141919, 34.95806992615647, 26.971729180462358, 40.9512906420338, 252.87135599346223, 244.76703844650223, 78.94672421897353, 75.92789882999699, 116.94210865595105, 133.72482252747662, 169.8508768396513, 200.82393714743117, 754.2481645232925, 64.94680503184482, 1638.6135812522407, 818.1254187427301, 536.5309025052222, 384.1918855309693, 81.92419585435374, 146.5119984187607, 351.6609664479993, 311.3131249875932, 286.97956973673183, 304.2899554326401, 313.44680342798824, 113.77354621557733, 1004.1825974508158, 229.49666464380445, 254.62662700860938, 213.19530338443974, 248.31957801014798, 101.58484169824243, 650.4428561024854, 178.62713043185778, 337.81007639851373, 1445.2280824814375, 396.338213861789, 1220.0270095658263, 738.8161079574179, 832.2487898728958, 711.3549120373852, 1040.8151195838984, 733.4207947121263, 740.9328168461795, 627.9005409798787, 1055.2691232749848, 970.0334535218419, 651.9209551186475, 882.5388773035032, 618.5136452993794, 1082.7916893628112, 724.9973587183263, 577.4327383284597, 817.2886503999241], \"Category\": [\"Default\", \"Default\", \"Default\", \"Default\", \"Default\", \"Default\", \"Default\", \"Default\", \"Default\", \"Default\", \"Default\", \"Default\", \"Default\", \"Default\", \"Default\", \"Default\", \"Default\", \"Default\", \"Default\", \"Default\", \"Default\", \"Default\", \"Default\", \"Default\", \"Default\", \"Default\", \"Default\", \"Default\", \"Default\", \"Default\", \"Topic1\", \"Topic1\", \"Topic1\", \"Topic1\", \"Topic1\", \"Topic1\", \"Topic1\", \"Topic1\", \"Topic1\", \"Topic1\", \"Topic1\", \"Topic1\", \"Topic1\", \"Topic1\", \"Topic1\", \"Topic1\", \"Topic1\", \"Topic1\", \"Topic1\", \"Topic1\", \"Topic1\", \"Topic1\", \"Topic1\", \"Topic1\", \"Topic1\", \"Topic1\", \"Topic1\", \"Topic1\", \"Topic1\", \"Topic1\", \"Topic1\", \"Topic1\", \"Topic1\", \"Topic1\", \"Topic1\", \"Topic1\", \"Topic1\", \"Topic1\", \"Topic1\", \"Topic1\", \"Topic1\", \"Topic1\", \"Topic1\", \"Topic1\", \"Topic1\", \"Topic1\", \"Topic1\", \"Topic1\", \"Topic1\", \"Topic1\", \"Topic1\", \"Topic1\", \"Topic1\", \"Topic1\", \"Topic1\", \"Topic1\", \"Topic1\", \"Topic1\", \"Topic1\", \"Topic1\", \"Topic1\", \"Topic1\", \"Topic1\", \"Topic1\", \"Topic1\", \"Topic1\", \"Topic1\", \"Topic1\", \"Topic1\", \"Topic1\", \"Topic1\", \"Topic1\", \"Topic1\", \"Topic1\", \"Topic1\", \"Topic1\", \"Topic1\", \"Topic1\", \"Topic1\", \"Topic2\", \"Topic2\", \"Topic2\", \"Topic2\", \"Topic2\", \"Topic2\", \"Topic2\", \"Topic2\", \"Topic2\", \"Topic2\", \"Topic2\", \"Topic2\", \"Topic2\", \"Topic2\", \"Topic2\", \"Topic2\", \"Topic2\", \"Topic2\", \"Topic2\", \"Topic2\", \"Topic2\", \"Topic2\", \"Topic2\", \"Topic2\", \"Topic2\", \"Topic2\", \"Topic2\", \"Topic2\", \"Topic2\", \"Topic2\", \"Topic2\", \"Topic2\", \"Topic2\", \"Topic2\", \"Topic2\", \"Topic2\", \"Topic2\", \"Topic2\", \"Topic2\", \"Topic2\", \"Topic2\", \"Topic2\", \"Topic2\", \"Topic2\", \"Topic2\", \"Topic2\", \"Topic2\", \"Topic2\", \"Topic2\", \"Topic2\", \"Topic2\", \"Topic2\", \"Topic2\", \"Topic2\", \"Topic2\", \"Topic2\", \"Topic2\", \"Topic2\", \"Topic2\", \"Topic2\", \"Topic2\", \"Topic2\", \"Topic2\", \"Topic2\", \"Topic2\", \"Topic2\", \"Topic2\", \"Topic2\", \"Topic2\", \"Topic2\", \"Topic2\", \"Topic2\", \"Topic2\", \"Topic2\", \"Topic2\", \"Topic2\", \"Topic2\", \"Topic2\", \"Topic2\", \"Topic2\", \"Topic2\", \"Topic2\", \"Topic2\", \"Topic2\", \"Topic2\", \"Topic2\", \"Topic2\", \"Topic2\", \"Topic2\", \"Topic2\", \"Topic2\", \"Topic3\", \"Topic3\", \"Topic3\", \"Topic3\", \"Topic3\", \"Topic3\", \"Topic3\", \"Topic3\", \"Topic3\", \"Topic3\", \"Topic3\", \"Topic3\", \"Topic3\", \"Topic3\", \"Topic3\", \"Topic3\", \"Topic3\", \"Topic3\", \"Topic3\", \"Topic3\", \"Topic3\", \"Topic3\", \"Topic3\", \"Topic3\", \"Topic3\", \"Topic3\", \"Topic3\", \"Topic3\", \"Topic3\", \"Topic3\", \"Topic3\", \"Topic3\", \"Topic3\", \"Topic3\", \"Topic3\", \"Topic3\", \"Topic3\", \"Topic3\", \"Topic3\", \"Topic3\", \"Topic3\", \"Topic3\", \"Topic3\", \"Topic3\", \"Topic3\", \"Topic3\", \"Topic3\", \"Topic3\", \"Topic3\", \"Topic3\", \"Topic3\", \"Topic3\", \"Topic3\", \"Topic3\", \"Topic3\", \"Topic3\", \"Topic3\", \"Topic3\", \"Topic3\", \"Topic3\", \"Topic3\", \"Topic3\", \"Topic3\", \"Topic3\", \"Topic3\", \"Topic3\", \"Topic3\", \"Topic3\", \"Topic3\", \"Topic3\", \"Topic3\", \"Topic3\", \"Topic3\", \"Topic3\", \"Topic3\", \"Topic3\", \"Topic3\", \"Topic3\", \"Topic3\", \"Topic3\"], \"logprob\": [30.0, 29.0, 28.0, 27.0, 26.0, 25.0, 24.0, 23.0, 22.0, 21.0, 20.0, 19.0, 18.0, 17.0, 16.0, 15.0, 14.0, 13.0, 12.0, 11.0, 10.0, 9.0, 8.0, 7.0, 6.0, 5.0, 4.0, 3.0, 2.0, 1.0, -5.9092, -4.9542, -6.39, -6.3759, -6.3765, -6.3922, -6.5415, -6.5424, -6.5984, -6.5984, -6.6175, -6.6578, -6.4923, -6.5813, -6.7203, -6.5106, -5.5539, -6.4775, -6.8587, -6.723, -6.9629, -7.0773, -5.7483, -6.4499, -6.4844, -6.235, -7.2487, -7.4047, -7.2872, -7.2893, -6.3373, -5.2063, -6.6351, -6.2401, -5.6073, -4.2228, -5.2728, -5.2473, -5.6325, -4.7742, -5.5841, -5.5839, -5.9381, -5.4879, -4.3646, -5.8087, -5.8091, -5.5897, -5.3155, -5.1563, -5.7124, -5.1015, -4.8985, -4.9033, -5.7813, -4.4742, -5.5424, -5.3469, -4.8999, -4.9005, -4.6911, -5.0063, -5.0825, -4.5119, -5.0306, -5.0011, -4.8302, -4.9395, -4.9445, -4.8616, -4.7307, -4.7518, -4.6461, -4.8939, -5.1033, -5.0539, -5.0365, -5.1241, -5.1718, -6.3761, -6.3395, -6.7902, -6.3799, -5.9622, -7.0126, -6.1417, -6.2849, -5.9079, -7.0646, -6.9909, -7.2648, -7.3295, -7.2982, -7.1496, -7.3323, -7.3324, -6.711, -7.3691, -7.4044, -7.5587, -7.5179, -7.559, -7.4429, -7.6482, -7.6484, -7.6043, -7.1851, -7.6492, -7.6498, -5.8756, -6.1093, -6.5401, -6.8343, -6.16, -6.2132, -6.9396, -6.2968, -5.8757, -5.5315, -5.7959, -6.6076, -5.6568, -6.4874, -6.4921, -6.2894, -5.9777, -6.2959, -5.3484, -6.0681, -4.865, -5.6948, -5.6279, -4.4903, -5.273, -5.4646, -5.3586, -4.8089, -5.3248, -5.8812, -4.9095, -4.2995, -4.9445, -4.3665, -4.532, -4.7246, -4.9634, -4.7973, -4.864, -5.51, -4.5599, -5.0575, -5.3364, -4.6868, -4.5611, -5.0743, -5.015, -4.683, -5.1045, -5.2324, -4.8932, -4.6791, -4.954, -4.6228, -4.9446, -5.0762, -5.081, -5.0993, -5.1295, -5.1232, -5.0952, -6.1084, -6.1757, -6.1218, -6.4142, -6.6518, -6.6348, -6.444, -6.5679, -6.7279, -6.918, -6.7487, -6.5375, -7.0193, -6.8987, -6.4204, -7.2182, -7.2191, -5.0469, -7.0486, -7.0488, -7.3197, -6.7751, -7.0241, -5.8124, -7.1328, -6.5769, -7.0508, -7.1338, -7.3935, -6.976, -5.1608, -5.1956, -6.3213, -6.3608, -5.9342, -5.8024, -5.5663, -5.4068, -4.1147, -6.5194, -3.3571, -4.0385, -4.4585, -4.8097, -6.2956, -5.7378, -4.9052, -5.0236, -5.1124, -5.0695, -5.0528, -5.9977, -4.0894, -5.3888, -5.3219, -5.4734, -5.364, -6.1211, -4.6175, -5.6678, -5.1604, -4.1555, -5.1025, -4.3378, -4.7134, -4.6468, -4.7699, -4.5978, -4.8199, -4.8218, -4.9148, -4.7315, -4.8064, -4.9708, -4.8611, -4.9969, -4.9385, -5.0174, -5.0517, -5.0265], \"loglift\": [30.0, 29.0, 28.0, 27.0, 26.0, 25.0, 24.0, 23.0, 22.0, 21.0, 20.0, 19.0, 18.0, 17.0, 16.0, 15.0, 14.0, 13.0, 12.0, 11.0, 10.0, 9.0, 8.0, 7.0, 6.0, 5.0, 4.0, 3.0, 2.0, 1.0, 1.2172, 1.2167, 1.216, 1.2147, 1.2141, 1.2137, 1.2133, 1.2124, 1.2115, 1.2114, 1.2113, 1.2102, 1.2102, 1.2097, 1.2096, 1.209, 1.2087, 1.208, 1.2077, 1.2067, 1.206, 1.206, 1.2029, 1.2026, 1.2007, 1.2006, 1.1985, 1.1966, 1.1963, 1.1941, 1.1932, 1.1784, 1.1927, 1.1683, 1.145, 1.0568, 1.0937, 1.0561, 1.0912, 0.9345, 1.051, 1.0331, 1.0908, 0.9983, 0.6188, 1.0039, 1.0034, 0.912, 0.8176, 0.759, 0.9425, 0.7137, 0.6115, 0.6065, 0.9419, 0.319, 0.8153, 0.7129, 0.4718, 0.4588, 0.2945, 0.4736, 0.5206, 0.098, 0.4423, 0.4188, 0.27, 0.3481, 0.3447, 0.206, -0.0015, -0.0539, -0.2056, 0.1166, 0.3626, 0.1826, -0.0442, -0.285, 0.0971, 1.004, 1.0025, 1.002, 1.0005, 0.9998, 0.9979, 0.9976, 0.9967, 0.9961, 0.9961, 0.9958, 0.9937, 0.9935, 0.9922, 0.9912, 0.9908, 0.9907, 0.9884, 0.9881, 0.988, 0.9878, 0.9876, 0.9874, 0.9856, 0.9852, 0.9851, 0.9846, 0.9844, 0.9843, 0.9838, 0.9811, 0.9813, 0.9791, 0.9789, 0.9708, 0.9694, 0.978, 0.9624, 0.944, 0.9191, 0.9278, 0.96, 0.9094, 0.9476, 0.9446, 0.9237, 0.8898, 0.917, 0.7991, 0.8752, 0.7035, 0.8135, 0.7985, 0.599, 0.7224, 0.7466, 0.7174, 0.5997, 0.6964, 0.8228, 0.5738, 0.3984, 0.5733, 0.3884, 0.4266, 0.4506, 0.5307, 0.4643, 0.4689, 0.7035, 0.2333, 0.4661, 0.5974, 0.2469, 0.1681, 0.4481, 0.3998, 0.1562, 0.427, 0.5186, 0.2618, 0.0896, 0.2527, -0.1824, 0.041, 0.0541, 0.0275, -0.0888, 0.0198, -0.0229, -0.4854, 1.0441, 1.0415, 1.0413, 1.0402, 1.0399, 1.0392, 1.0391, 1.0384, 1.0379, 1.0379, 1.0367, 1.0367, 1.0345, 1.0345, 1.0339, 1.0334, 1.0324, 1.0324, 1.0313, 1.0312, 1.0304, 1.0302, 1.03, 1.0297, 1.0294, 1.0293, 1.0292, 1.0285, 1.0282, 1.0281, 1.0228, 1.0206, 1.0264, 1.0259, 1.0206, 1.0183, 1.0153, 1.0073, 0.976, 1.0235, 0.9578, 0.9709, 0.9729, 0.9557, 1.0151, 0.9915, 0.9486, 0.9521, 0.9447, 0.929, 0.9161, 0.9845, 0.7152, 0.8918, 0.8548, 0.8809, 0.8377, 0.9745, 0.6213, 0.8634, 0.7336, 0.2849, 0.6317, 0.2721, 0.3981, 0.3456, 0.3794, 0.1709, 0.2988, 0.2868, 0.3593, 0.0235, 0.0327, 0.2658, 0.0726, 0.2922, -0.2093, 0.1129, 0.3062, -0.016]}, \"token.table\": {\"Topic\": [1, 2, 3, 1, 2, 3, 1, 2, 3, 1, 2, 3, 3, 1, 2, 3, 1, 2, 3, 2, 1, 2, 3, 1, 2, 3, 1, 2, 3, 1, 2, 1, 2, 3, 1, 2, 3, 1, 2, 1, 2, 1, 2, 3, 1, 2, 3, 1, 2, 3, 1, 2, 3, 3, 1, 2, 3, 1, 2, 3, 1, 2, 3, 1, 2, 3, 2, 1, 3, 1, 2, 3, 1, 2, 3, 1, 2, 1, 3, 1, 2, 3, 1, 2, 3, 1, 3, 1, 2, 3, 1, 2, 3, 1, 2, 3, 1, 2, 3, 1, 2, 1, 2, 3, 1, 2, 3, 1, 2, 3, 1, 2, 3, 1, 2, 3, 1, 2, 3, 1, 2, 3, 1, 2, 3, 1, 2, 3, 1, 3, 1, 2, 3, 2, 1, 2, 3, 1, 2, 3, 1, 2, 3, 1, 2, 3, 1, 2, 3, 1, 2, 3, 1, 3, 1, 2, 3, 1, 2, 3, 2, 1, 2, 3, 1, 2, 3, 1, 2, 3, 1, 2, 3, 1, 2, 3, 1, 1, 2, 3, 2, 1, 2, 3, 1, 2, 1, 2, 3, 1, 2, 3, 1, 2, 3, 1, 2, 3, 1, 2, 3, 1, 2, 3, 1, 2, 3, 1, 3, 1, 2, 2, 1, 2, 2, 1, 2, 3, 1, 2, 3, 1, 2, 3, 1, 2, 3, 1, 2, 3, 1, 2, 3, 1, 2, 3, 1, 3, 1, 3, 2, 1, 2, 3, 1, 2, 3, 1, 2, 3, 1, 2, 3, 1, 2, 1, 2, 3, 1, 2, 3, 1, 2, 3, 1, 2, 3, 1, 2, 3, 1, 2, 3, 1, 2, 3, 3, 1, 2, 3, 1, 2, 3, 1, 2, 3, 1, 2, 3, 1, 2, 3, 1, 2, 3, 1, 2, 3, 1, 3, 1, 3, 1, 2, 3, 1, 2, 3, 1, 2, 1, 2, 3, 1, 3, 1, 2, 3, 1, 2, 1, 2, 3, 1, 2, 1, 2, 3, 1, 2, 1, 2, 1, 2, 3, 1, 2, 3, 1, 2, 3, 1, 1, 2, 3, 1, 2, 3, 1, 2, 3, 1, 1, 2, 2, 1, 2, 3, 1, 3, 1, 2, 3, 1, 2, 3, 1, 2, 3, 1, 2, 3, 1, 2, 1, 2, 3, 1, 3, 1, 3, 2, 3, 1, 2, 3, 1, 2, 3, 2, 1, 3, 1, 2, 3, 1, 2, 3, 1, 2, 3, 1, 3, 1, 2, 3, 2, 1, 2, 3, 1, 1, 3, 1, 2, 3, 1, 2, 3, 1, 2, 3, 1, 2, 3, 1, 2, 1, 1, 2, 3, 1, 2, 3, 1, 2, 3, 1, 2, 3, 1, 2, 3, 1, 2, 3, 1, 2, 3, 1, 1, 2, 3, 1, 2, 1, 2, 1, 3, 1, 2, 3, 1, 2, 1, 2, 3, 1, 2, 3, 1, 2, 3, 1, 2, 1, 2, 3, 1, 2, 3, 1, 2, 1, 2, 3, 1, 1, 2, 3, 1, 2, 3, 1, 2, 3, 1, 2, 3, 1, 2, 3, 1, 2, 3, 2, 1, 2, 3, 1, 2, 3, 1, 3, 1, 2, 1, 2, 3, 1, 2, 1, 2, 3, 3, 1, 2, 3, 1, 2, 3, 1, 2, 1, 3, 1, 2, 3, 1, 2, 3, 1, 2, 3, 1, 2, 1, 1, 2, 3, 1, 2, 3, 1, 2, 3, 1, 2, 3, 2, 1, 2, 3, 1, 2, 3, 1, 2, 3, 1, 2, 3, 1, 2, 3, 1, 3], \"Freq\": [0.22235089588738455, 0.7290543797845974, 0.049173755821248506, 0.0172259325066758, 0.9818781528805206, 0.0086129662533379, 0.012666770026154761, 0.025333540052309523, 0.9626745219877618, 0.0926225800813018, 0.1047037861788629, 0.8013866711382199, 0.9664446742637122, 0.2724601783026185, 0.46452227120446427, 0.2635270577025326, 0.17661775175909403, 0.6132009583546073, 0.21035372681420186, 0.9676170833987314, 0.24539265468400723, 0.6399840434158909, 0.11386219177337936, 0.46958895326416356, 0.26218716557249133, 0.26805702748829335, 0.01220640605100131, 0.02441281210200262, 0.9520996719781022, 0.9747552729957083, 0.022668727278969958, 0.12679400411245137, 0.8621992279646693, 0.008452933607496759, 0.9878683814719834, 0.011713854325754744, 0.0039046181085849144, 0.02881129671831675, 0.9507727917044527, 0.025841556904916574, 0.9819791623868297, 0.06922757774621749, 0.9276495417993144, 0.013845515549243499, 0.007854638077314579, 0.17672935673957801, 0.8168823600407162, 0.15216413866240933, 0.5371577425070595, 0.3098281859511708, 0.21810827049604184, 0.605571198083128, 0.1770525960497281, 0.9695759601341177, 0.9477149050761635, 0.0483528012793961, 0.00483528012793961, 0.8748479615222353, 0.1289249627506452, 0.009208925910760371, 0.013083996499932993, 0.9812997374949745, 0.013083996499932993, 0.4205704505313038, 0.32025089352383684, 0.2585157815192418, 0.9623280870792619, 0.025661653162976052, 0.9751428201930901, 0.04821148860467006, 0.046990944589361955, 0.9044231153433042, 0.041467959112412044, 0.9261177535105356, 0.02764530607494136, 0.9851280646900646, 0.01614964040475516, 0.02634327245796398, 0.9747010809446672, 0.11276744232853922, 0.5316179424059706, 0.35535958716976646, 0.13367991128888668, 0.5740372661228663, 0.2925230999968579, 0.016405199415972765, 0.984311964958366, 0.015279274174111823, 0.015279274174111823, 0.9702339100561008, 0.9421157893553618, 0.053835187963163535, 0.013458796990790884, 0.02137766709254426, 0.003562944515424043, 0.9762467972261878, 0.19157339001623594, 0.8015833950679346, 0.005041405000427261, 0.9767071326745356, 0.017758311503173373, 0.016255384890123015, 0.9753230934073809, 0.008127692445061507, 0.16543180561754553, 0.4611694855228837, 0.3727881099189896, 0.35884150894087463, 0.3057277837907813, 0.3355232881432727, 0.20372700085711007, 0.7293426630684541, 0.06926718029141743, 0.1266444409017437, 0.03752427878570184, 0.8396057378300786, 0.02988207211018863, 0.9263442354158475, 0.04482310816528295, 0.5975338431103716, 0.22014404746171587, 0.18170619790490833, 0.15681623534339906, 0.19832641528724, 0.6457139102375256, 0.011775034884795511, 0.02943758721198878, 0.9596653431108342, 0.010421084921073919, 0.9900030675020224, 0.0191420041116433, 0.1148520246698598, 0.8677708530611629, 0.9622391227137098, 0.18633524318583014, 0.3169291743075231, 0.4968939818288804, 0.8736450222092652, 0.07596913236602307, 0.05222877850164086, 0.2765710180856538, 0.5370311030789395, 0.18617078240069904, 0.04471614647030845, 0.7601744899952436, 0.1951250027795278, 0.13554127455250975, 0.6561429881746494, 0.2094728788538787, 0.5383273910800462, 0.34678768264332566, 0.11492382506203234, 0.028605698258294746, 0.9725937407820213, 0.05226852912826038, 0.05575309773681108, 0.8920495637889773, 0.9807568534556016, 0.0070558047011194365, 0.014111609402238873, 0.9660437896277831, 0.03478384414878784, 0.9391637920172716, 0.023189229432525226, 0.6616960592729895, 0.14286619461575908, 0.19550110842156507, 0.013170389480143601, 0.013170389480143601, 0.9746088215306264, 0.022143764434459142, 0.9078943418128248, 0.077503175520607, 0.8010927790194897, 0.007417525731661942, 0.20027319475487243, 0.986020877213227, 0.016342069689560198, 0.020427587111950248, 0.9641821116840518, 0.9753751004550408, 0.5362476533056878, 0.35481047737519195, 0.10886230555829753, 0.01800555149404336, 0.9722997806783414, 0.008551239681696224, 0.02565371904508867, 0.9662900840316733, 0.334238063049027, 0.19569378821005207, 0.4710505344525147, 0.823479845413422, 0.06099850706766089, 0.11589716342855569, 0.16735660397364052, 0.3711537588125092, 0.46292996099160244, 0.8425070301639435, 0.05349250985167895, 0.1069850197033579, 0.042956831033464676, 0.9557894904945892, 0.010739207758366169, 0.15834926483473188, 0.46797863089550223, 0.37325183853901084, 0.014093063401087175, 0.9865144380761023, 0.9852644937470534, 0.02010743864789905, 0.9742496651536163, 0.9847880038111718, 0.010152453647537854, 0.9659597484706824, 0.01503534669100132, 0.9622621882240845, 0.03007069338200264, 0.021786809005526788, 0.13072085403316072, 0.8453281894144393, 0.14937522357067823, 0.14041271015643755, 0.7100302293726239, 0.2799643602192376, 0.22949868155310896, 0.49023802132810707, 0.041004161917375985, 0.041004161917375985, 0.9188659920575618, 0.8687501219441565, 0.08823243425995339, 0.040722661966132334, 0.1689128663926608, 0.5759928743989733, 0.2550584282529178, 0.0263443809461484, 0.9747420950074908, 0.015886062661526, 0.984935885014612, 0.9762506383719021, 0.41227869738681716, 0.1228752196133259, 0.4656324111662876, 0.12729045994848598, 0.14801216273079765, 0.7222993541262925, 0.8407352940257884, 0.11369943976348758, 0.04483921568137538, 0.6259528351277008, 0.22981843222079837, 0.14514848350787266, 0.040353202737247025, 0.9684768656939287, 0.658956687641205, 0.11767083707878659, 0.2212211737081188, 0.05906393020548271, 0.0196879767351609, 0.915490918184982, 0.08780134834270503, 0.9038374094101989, 0.005164785196629708, 0.249515695927096, 0.28223906588474795, 0.46767149564477556, 0.2918382206885574, 0.42667486695605544, 0.2816792952848418, 0.38279709140636403, 0.35201270992962846, 0.26501337097363664, 0.07333838874265287, 0.009778451832353716, 0.9167298592831609, 0.9695575727207975, 0.1989669667685053, 0.2842385239550076, 0.5170434102419662, 0.7920991558707776, 0.19267276764424318, 0.0107040426469024, 0.014938458246626277, 0.03485640257546131, 0.9510818417018729, 0.054603036518104095, 0.013650759129526024, 0.9350770003725326, 0.2531464607654949, 0.5634550255748113, 0.1837353344265689, 0.7529821757065714, 0.1967250729323475, 0.054268985636509656, 0.20768471880352382, 0.6558464804321805, 0.13481288764439267, 0.017554483871602466, 0.983051096809738, 0.01962336890917967, 0.9811684454589836, 0.01539721622194777, 0.01539721622194777, 0.9700246219827094, 0.17309323703976887, 0.5518072992878538, 0.2741611002777547, 0.013087536790889878, 0.9815652593167409, 0.02288631624732464, 0.8010210686563625, 0.1754617578961556, 0.025670657381273575, 0.9754849804883958, 0.4440653330445678, 0.32429667475453916, 0.23216693760836327, 0.9852624546986971, 0.02010739703466729, 0.2555340174850172, 0.743669512424345, 0.0032760771472438105, 0.03476179266662144, 0.9733301946654002, 0.21958005595237334, 0.4216349431198155, 0.35875051395035645, 0.9792832675438162, 0.017180408202523093, 0.9803799039805572, 0.021312606608272982, 0.011069484339550153, 0.8966282315035624, 0.08855587471640122, 0.5430374742951527, 0.1583859300027529, 0.2989087851931652, 0.029912172806795947, 0.007478043201698987, 0.9646675730191693, 0.9839483061446084, 0.07052476598801802, 0.8776415322953354, 0.05485259576845846, 0.023996926298992534, 0.9838739782586939, 0.963972306930686, 0.04058621750922645, 0.8928967852029818, 0.06377834180021298, 0.9896620525441416, 0.9866644525994736, 0.01973328905198947, 0.9622044308591545, 0.02239731773228799, 0.9630846624883836, 0.02239731773228799, 0.017867766719104, 0.9827271695507199, 0.4912715995288371, 0.09958208098557508, 0.40718006447435146, 0.03447141302151233, 0.04507800164351612, 0.9214473865365795, 0.9753047271389499, 0.018061198650721293, 0.018061198650721293, 0.4546547350761495, 0.2059547090515891, 0.33807659787713684, 0.04734460964398822, 0.9468921928797644, 0.010531475038592641, 0.010531475038592641, 0.9794271785891158, 0.01924266727676766, 0.9813760311151506, 0.02860144745398473, 0.9724492134354809, 0.9705346901539162, 0.03732825731361217, 0.012594518667291704, 0.9823724560487528, 0.012594518667291704, 0.015505463712797254, 0.9613387501934297, 0.02325819556919588, 0.9641772650934433, 0.011117427631565816, 0.9783336315777919, 0.05687295977717628, 0.04834201581059984, 0.8957491164905265, 0.3512695798500951, 0.19634282192494398, 0.4525088474051443, 0.18055840873812173, 0.8152485727872769, 0.005471466931458234, 0.022747450442984696, 0.978140369048342, 0.08651164555138699, 0.8185332617554308, 0.09316638751687831, 0.9742299538024658, 0.97625295253013, 0.017750053682366, 0.017750053682366, 0.9790058439747755, 0.024419254785917933, 0.9767701914367173, 0.029577052542545418, 0.0920174967990302, 0.8774525587621808, 0.02938454445490477, 0.9598951188602224, 0.009794848151634922, 0.24221737052455183, 0.10344700199486068, 0.6534822808943638, 0.7283737133176659, 0.07066312144126609, 0.2011181148712958, 0.9736980330720296, 0.01837166100135905, 0.98373033250126, 0.36177962345834047, 0.5743507016485518, 0.06336253292208223, 0.9218333628799884, 0.020950758247272463, 0.06285227474181738, 0.05378516851328846, 0.7227382018973137, 0.22522539314939544, 0.026368168170794473, 0.043946946951324124, 0.9316752753680714, 0.020569248773487495, 0.977039316740656, 0.010284624386743747, 0.08331515397353345, 0.6401042317478789, 0.276362461960989, 0.39263699601588753, 0.3759290387386157, 0.2315245508421951, 0.9508847352092389, 0.8010766019927408, 0.007417375944377229, 0.2002691504981852, 0.9850916741939119, 0.016149043839244457, 0.9749101526246835, 0.022672329130806593, 0.026343725589078704, 0.974717846795912, 0.4148820661769616, 0.3406230193126027, 0.2453777200735337, 0.036006139168477266, 0.9721657575488862, 0.2303456667693631, 0.38069104208589355, 0.3889669343051521, 0.07465459107443465, 0.9094286549067493, 0.013573562013533573, 0.007909159944757476, 0.027682059806651168, 0.9649175132604122, 0.027998024042419533, 0.9799308414846837, 0.9681670278794312, 0.01383095754113473, 0.01383095754113473, 0.028631526105236553, 0.0702773822583079, 0.9031945053197349, 0.019755803026220098, 0.9877901513110049, 0.011857373445067914, 0.9723046224955689, 0.011857373445067914, 0.9685489950347538, 0.1826920555711711, 0.6566323156760933, 0.16018651249356305, 0.32212401604113483, 0.22212622989096065, 0.4557276155696462, 0.23802471330985803, 0.30029862086185577, 0.4615188481909166, 0.13416720830848625, 0.5655219963110388, 0.3000728960017757, 0.19407865642916144, 0.3939220254255257, 0.41217694855500125, 0.4017417659094608, 0.45491347022100714, 0.14277587268841133, 0.983105737918917, 0.014092597873022144, 0.014092597873022144, 0.972389253238528, 0.747572868697485, 0.2217377152916269, 0.02534145317618593, 0.9621984368455412, 0.02047230716692641, 0.9464627949187452, 0.03943594978828105, 0.8385621386561073, 0.01863471419235794, 0.14286614214141086, 0.9896247924184909, 0.0190312460080479, 0.3216292624085402, 0.3042010757755651, 0.37391382230746545, 0.9773165763633063, 0.11196507468740617, 0.0671790448124437, 0.8229432989524353, 0.7451951359155856, 0.07378169662530551, 0.18199485167575358, 0.983828773658355, 0.01639714622763925, 0.9580395070240171, 0.03041395260393705, 0.4630490813839448, 0.40061549737712077, 0.13700703157053049, 0.4688305569252251, 0.4302003237703376, 0.1018433419537942, 0.30077375165969505, 0.5521052427725909, 0.1462666874509476, 0.9761434402104958, 0.9742222942201308, 0.9875390997785815, 0.5964482228272321, 0.37209613901148425, 0.0328320122657192, 0.04078773728330621, 0.9483148918368693, 0.010196934320826552, 0.028909799419342432, 0.07066839858061484, 0.8994159819350979, 0.12511335550505429, 0.3683112263182497, 0.5074822622171303, 0.9623500525239219, 0.02001778458620198, 0.02001778458620198, 0.980871444723897, 0.32791352219177333, 0.3303606380290254, 0.34137265929665955, 0.01640354883178318, 0.01640354883178318, 0.9678093810752076, 0.2095131712464558, 0.738622705411234, 0.0497149897872946, 0.9713470310637272, 0.008520587991787081, 0.017041175983574162, 0.014502477188395839, 0.986168448810917], \"Term\": [\"about\", \"about\", \"about\", \"acne\", \"acne\", \"acne\", \"active\", \"active\", \"active\", \"advice\", \"advice\", \"advice\", \"advise\", \"advised\", \"advised\", \"advised\", \"affect\", \"affect\", \"affect\", \"aggravated\", \"all\", \"all\", \"all\", \"an\", \"an\", \"an\", \"ankle\", \"ankle\", \"ankle\", \"ankylosing\", \"ankylosing\", \"another\", \"another\", \"another\", \"antibiotic\", \"antibiotic\", \"antibiotic\", \"applied\", \"applied\", \"asthalin\", \"asthalin\", \"asthma\", \"asthma\", \"asthma\", \"attack\", \"attack\", \"attack\", \"avoid\", \"avoid\", \"avoid\", \"away\", \"away\", \"away\", \"azulix\", \"bacteria\", \"bacteria\", \"bacteria\", \"bacterial\", \"bacterial\", \"bacterial\", \"beneficial\", \"beneficial\", \"beneficial\", \"better\", \"better\", \"better\", \"blackhead\", \"blindness\", \"blindness\", \"blood\", \"blood\", \"blood\", \"breath\", \"breath\", \"breath\", \"broad\", \"broad\", \"build\", \"build\", \"can\", \"can\", \"can\", \"cause\", \"cause\", \"cause\", \"cessation\", \"cessation\", \"checked\", \"checked\", \"checked\", \"child\", \"child\", \"child\", \"cholesterol\", \"cholesterol\", \"cholesterol\", \"come\", \"come\", \"come\", \"completion\", \"completion\", \"concerned\", \"concerned\", \"concerned\", \"condition\", \"condition\", \"condition\", \"consult\", \"consult\", \"consult\", \"contact\", \"contact\", \"contact\", \"control\", \"control\", \"control\", \"cough\", \"cough\", \"cough\", \"course\", \"course\", \"course\", \"day\", \"day\", \"day\", \"diabetes\", \"diabetes\", \"diabetes\", \"diabetic\", \"diabetic\", \"diet\", \"diet\", \"diet\", \"discontinuation\", \"disease\", \"disease\", \"disease\", \"dos\", \"dos\", \"dos\", \"dose\", \"dose\", \"dose\", \"drinking\", \"drinking\", \"drinking\", \"drive\", \"drive\", \"drive\", \"duration\", \"duration\", \"duration\", \"dyspepsia\", \"dyspepsia\", \"each\", \"each\", \"each\", \"ear\", \"ear\", \"ear\", \"earlier\", \"easier\", \"easier\", \"easier\", \"effective\", \"effective\", \"effective\", \"especially\", \"especially\", \"especially\", \"etc\", \"etc\", \"etc\", \"evenly\", \"evenly\", \"evenly\", \"everybody\", \"exercise\", \"exercise\", \"exercise\", \"expectorant\", \"eye\", \"eye\", \"eye\", \"faster\", \"faster\", \"fat\", \"fat\", \"fat\", \"feel\", \"feel\", \"feel\", \"finish\", \"finish\", \"finish\", \"food\", \"food\", \"food\", \"full\", \"full\", \"full\", \"gel\", \"gel\", \"gel\", \"get\", \"get\", \"get\", \"glucose\", \"glucose\", \"gonorrhea\", \"gonorrhea\", \"gout\", \"gram\", \"gram\", \"happening\", \"harmful\", \"harmful\", \"harmful\", \"healthy\", \"healthy\", \"healthy\", \"heart\", \"heart\", \"heart\", \"help\", \"help\", \"help\", \"high\", \"high\", \"high\", \"hour\", \"hour\", \"hour\", \"how\", \"how\", \"how\", \"hypoglycemia\", \"hypoglycemia\", \"ill\", \"ill\", \"impair\", \"include\", \"include\", \"include\", \"increase\", \"increase\", \"increase\", \"infection\", \"infection\", \"infection\", \"inform\", \"inform\", \"inform\", \"inhaler\", \"inhaler\", \"injection\", \"injection\", \"injection\", \"intake\", \"intake\", \"intake\", \"itching\", \"itching\", \"itching\", \"kidney\", \"kidney\", \"kidney\", \"know\", \"know\", \"know\", \"let\", \"let\", \"let\", \"level\", \"level\", \"level\", \"lipid\", \"liver\", \"liver\", \"liver\", \"longer\", \"longer\", \"longer\", \"low\", \"low\", \"low\", \"lower\", \"lower\", \"lower\", \"make\", \"make\", \"make\", \"many\", \"many\", \"many\", \"medication\", \"medication\", \"medication\", \"mellitus\", \"mellitus\", \"moderation\", \"moderation\", \"monitoring\", \"monitoring\", \"monitoring\", \"most\", \"most\", \"most\", \"mucus\", \"mucus\", \"must\", \"must\", \"must\", \"narrowing\", \"narrowing\", \"nausea\", \"nausea\", \"nausea\", \"negative\", \"negative\", \"nose\", \"nose\", \"nose\", \"oil\", \"oil\", \"on\", \"on\", \"on\", \"orally\", \"orally\", \"osteoarthritis\", \"osteoarthritis\", \"out\", \"out\", \"out\", \"pain\", \"pain\", \"pain\", \"part\", \"part\", \"part\", \"penicillin\", \"person\", \"person\", \"person\", \"pimple\", \"pimple\", \"play\", \"plenty\", \"plenty\", \"plenty\", \"pneumonia\", \"positive\", \"positive\", \"potency\", \"potential\", \"potential\", \"potential\", \"pr\", \"pr\", \"prescribed\", \"prescribed\", \"prescribed\", \"pressure\", \"pressure\", \"pressure\", \"previous\", \"previous\", \"previous\", \"problem\", \"problem\", \"problem\", \"production\", \"production\", \"program\", \"program\", \"program\", \"put\", \"put\", \"raise\", \"raise\", \"re\", \"re\", \"recommend\", \"recommend\", \"recommend\", \"recommends\", \"recommends\", \"recommends\", \"recovery\", \"reduction\", \"reduction\", \"regular\", \"regular\", \"regular\", \"regularly\", \"regularly\", \"regularly\", \"relief\", \"relief\", \"relief\", \"repeated\", \"repeated\", \"respond\", \"respond\", \"respond\", \"rest\", \"return\", \"return\", \"return\", \"returning\", \"rise\", \"rise\", \"risk\", \"risk\", \"risk\", \"runny\", \"runny\", \"runny\", \"same\", \"same\", \"same\", \"seen\", \"seen\", \"seen\", \"sexually\", \"sexually\", \"sinus\", \"skin\", \"skin\", \"skin\", \"skip\", \"skip\", \"skip\", \"sleepiness\", \"sleepiness\", \"sleepiness\", \"smoking\", \"smoking\", \"smoking\", \"sneezing\", \"sneezing\", \"sneezing\", \"so\", \"so\", \"so\", \"some\", \"some\", \"some\", \"sp\", \"spaced\", \"spaced\", \"spaced\", \"spectrum\", \"spectrum\", \"spondylitis\", \"spondylitis\", \"statin\", \"statin\", \"stomach\", \"stomach\", \"stomach\", \"stone\", \"stone\", \"stop\", \"stop\", \"stop\", \"straight\", \"straight\", \"straight\", \"stroke\", \"stroke\", \"stroke\", \"stuffiness\", \"stuffiness\", \"subside\", \"subside\", \"subside\", \"sugar\", \"sugar\", \"sugar\", \"sun\", \"sun\", \"support\", \"support\", \"support\", \"survive\", \"symptom\", \"symptom\", \"symptom\", \"tablet\", \"tablet\", \"tablet\", \"take\", \"take\", \"take\", \"tell\", \"tell\", \"tell\", \"that\", \"that\", \"that\", \"these\", \"these\", \"these\", \"thins\", \"those\", \"those\", \"those\", \"throat\", \"throat\", \"throat\", \"tissue\", \"tissue\", \"toothache\", \"toothache\", \"tract\", \"tract\", \"tract\", \"transmitted\", \"transmitted\", \"treat\", \"treat\", \"treat\", \"triglyceride\", \"try\", \"try\", \"try\", \"type\", \"type\", \"type\", \"typhoid\", \"typhoid\", \"urinary\", \"urinary\", \"use\", \"use\", \"use\", \"using\", \"using\", \"using\", \"usually\", \"usually\", \"usually\", \"variety\", \"vary\", \"viral\", \"vomiting\", \"vomiting\", \"vomiting\", \"watery\", \"watery\", \"watery\", \"weight\", \"weight\", \"weight\", \"while\", \"while\", \"while\", \"whitehead\", \"widely\", \"widely\", \"widely\", \"will\", \"will\", \"will\", \"working\", \"working\", \"working\", \"worsen\", \"worsen\", \"worsen\", \"worsening\", \"worsening\", \"worsening\", \"yellowing\", \"yellowing\"]}, \"R\": 30, \"lambda.step\": 0.01, \"plot.opts\": {\"xlab\": \"PC1\", \"ylab\": \"PC2\"}, \"topic.order\": [1, 2, 3]};\n",
       "\n",
       "function LDAvis_load_lib(url, callback){\n",
       "  var s = document.createElement('script');\n",
       "  s.src = url;\n",
       "  s.async = true;\n",
       "  s.onreadystatechange = s.onload = callback;\n",
       "  s.onerror = function(){console.warn(\"failed to load library \" + url);};\n",
       "  document.getElementsByTagName(\"head\")[0].appendChild(s);\n",
       "}\n",
       "\n",
       "if(typeof(LDAvis) !== \"undefined\"){\n",
       "   // already loaded: just create the visualization\n",
       "   !function(LDAvis){\n",
       "       new LDAvis(\"#\" + \"ldavis_el32321403285687587847773001223\", ldavis_el32321403285687587847773001223_data);\n",
       "   }(LDAvis);\n",
       "}else if(typeof define === \"function\" && define.amd){\n",
       "   // require.js is available: use it to load d3/LDAvis\n",
       "   require.config({paths: {d3: \"https://d3js.org/d3.v5\"}});\n",
       "   require([\"d3\"], function(d3){\n",
       "      window.d3 = d3;\n",
       "      LDAvis_load_lib(\"https://cdn.jsdelivr.net/gh/bmabey/pyLDAvis@3.4.0/pyLDAvis/js/ldavis.v3.0.0.js\", function(){\n",
       "        new LDAvis(\"#\" + \"ldavis_el32321403285687587847773001223\", ldavis_el32321403285687587847773001223_data);\n",
       "      });\n",
       "    });\n",
       "}else{\n",
       "    // require.js not available: dynamically load d3 & LDAvis\n",
       "    LDAvis_load_lib(\"https://d3js.org/d3.v5.js\", function(){\n",
       "         LDAvis_load_lib(\"https://cdn.jsdelivr.net/gh/bmabey/pyLDAvis@3.4.0/pyLDAvis/js/ldavis.v3.0.0.js\", function(){\n",
       "                 new LDAvis(\"#\" + \"ldavis_el32321403285687587847773001223\", ldavis_el32321403285687587847773001223_data);\n",
       "            })\n",
       "         });\n",
       "}\n",
       "</script>"
      ],
      "text/plain": [
       "PreparedData(topic_coordinates=              x         y  topics  cluster       Freq\n",
       "topic                                                \n",
       "0     -0.070262  0.094111       1        1  29.234824\n",
       "1     -0.078679 -0.090631       2        1  36.052170\n",
       "2      0.148941 -0.003480       3        1  34.713007, topic_info=          Term         Freq        Total Category  logprob  loglift\n",
       "410      blood  1638.000000  1638.000000  Default  30.0000  30.0000\n",
       "670      level   818.000000   818.000000  Default  29.0000  29.0000\n",
       "411   pressure   754.000000   754.000000  Default  28.0000  28.0000\n",
       "162  infection   624.000000   624.000000  Default  27.0000  27.0000\n",
       "409       high   536.000000   536.000000  Default  26.0000  26.0000\n",
       "..         ...          ...          ...      ...      ...      ...\n",
       "132    include   287.574973   618.513645   Topic3  -4.9969   0.2922\n",
       "147       know   304.875411  1082.791689   Topic3  -4.9385  -0.2093\n",
       "57        stop   281.749426   724.997359   Topic3  -5.0174   0.1129\n",
       "194       feel   272.250786   577.432738   Topic3  -5.0517   0.3062\n",
       "123       will   279.189503   817.288650   Topic3  -5.0265  -0.0160\n",
       "\n",
       "[280 rows x 6 columns], token_table=      Topic      Freq       Term\n",
       "term                            \n",
       "93        1  0.222351      about\n",
       "93        2  0.729054      about\n",
       "93        3  0.049174      about\n",
       "8         1  0.017226       acne\n",
       "8         2  0.981878       acne\n",
       "...     ...       ...        ...\n",
       "238       1  0.971347  worsening\n",
       "238       2  0.008521  worsening\n",
       "238       3  0.017041  worsening\n",
       "867       1  0.014502  yellowing\n",
       "867       3  0.986168  yellowing\n",
       "\n",
       "[577 rows x 3 columns], R=30, lambda_step=0.01, plot_opts={'xlab': 'PC1', 'ylab': 'PC2'}, topic_order=[1, 2, 3])"
      ]
     },
     "execution_count": 18,
     "metadata": {},
     "output_type": "execute_result"
    }
   ],
   "source": [
    "vis3 = pyLDAvis.gensim_models.prepare(Lda3, Corpus, D, sort_topics = False)\n",
    "vis3"
   ]
  },
  {
   "cell_type": "code",
   "execution_count": 19,
   "metadata": {},
   "outputs": [],
   "source": [
    "Lda4, Coherence_score = train_model_get_coherence_score(Corpus, Id2word, 4, Word2id)"
   ]
  },
  {
   "cell_type": "code",
   "execution_count": 20,
   "metadata": {},
   "outputs": [
    {
     "name": "stdout",
     "output_type": "stream",
     "text": [
      "This model has coherence score = -0.5575674702638906\n"
     ]
    }
   ],
   "source": [
    "print('This model has coherence score = {}'.format(Coherence_score))"
   ]
  },
  {
   "cell_type": "code",
   "execution_count": 21,
   "metadata": {},
   "outputs": [
    {
     "data": {
      "text/html": [
       "\n",
       "<link rel=\"stylesheet\" type=\"text/css\" href=\"https://cdn.jsdelivr.net/gh/bmabey/pyLDAvis@3.4.0/pyLDAvis/js/ldavis.v1.0.0.css\">\n",
       "\n",
       "\n",
       "<div id=\"ldavis_el32321403285687599048917961487\" style=\"background-color:white;\"></div>\n",
       "<script type=\"text/javascript\">\n",
       "\n",
       "var ldavis_el32321403285687599048917961487_data = {\"mdsDat\": {\"x\": [-0.03484654269275054, 0.17282417535463523, -0.03280778514120059, -0.1051698475206841], \"y\": [0.012301546876293756, 0.03619671321543274, -0.15101221542239185, 0.1025139553306653], \"topics\": [1, 2, 3, 4], \"cluster\": [1, 1, 1, 1], \"Freq\": [23.86923274165524, 23.182344785549763, 24.58519846659047, 28.36322400620453]}, \"tinfo\": {\"Term\": [\"blood\", \"pressure\", \"infection\", \"all\", \"high\", \"type\", \"about\", \"skin\", \"let\", \"heart\", \"know\", \"stroke\", \"antibiotic\", \"back\", \"seen\", \"worsen\", \"nose\", \"cholesterol\", \"affect\", \"dose\", \"bacteria\", \"area\", \"so\", \"depend\", \"medication\", \"advice\", \"attack\", \"concerned\", \"level\", \"redness\", \"depression\", \"consistent\", \"maintain\", \"cancer\", \"stopped\", \"mood\", \"new\", \"suicidal\", \"anxiety\", \"behavior\", \"whole\", \"hallucination\", \"exercising\", \"forming\", \"habit\", \"calorie\", \"schizophrenia\", \"balanced\", \"organ\", \"behave\", \"adversely\", \"delusion\", \"modifying\", \"sleep\", \"suddenly\", \"immune\", \"year\", \"neuropathic\", \"snacking\", \"appear\", \"missed\", \"swallow\", \"system\", \"talking\", \"le\", \"much\", \"bedtime\", \"vitamin\", \"difficulty\", \"withdrawal\", \"thought\", \"however\", \"soon\", \"gain\", \"hair\", \"driving\", \"way\", \"there\", \"take\", \"them\", \"without\", \"body\", \"change\", \"work\", \"often\", \"dose\", \"tablet\", \"how\", \"inform\", \"preventing\", \"advised\", \"can\", \"symptom\", \"so\", \"food\", \"most\", \"that\", \"get\", \"blood\", \"know\", \"need\", \"cause\", \"better\", \"treat\", \"will\", \"some\", \"medication\", \"on\", \"feel\", \"these\", \"liver\", \"day\", \"include\", \"help\", \"gram\", \"microorganism\", \"spectrum\", \"typhoid\", \"broad\", \"negative\", \"positive\", \"gonorrhea\", \"gel\", \"acne\", \"mellitus\", \"return\", \"completion\", \"bacterial\", \"transmitted\", \"sexually\", \"external\", \"killing\", \"azulix\", \"meant\", \"oil\", \"pimple\", \"orally\", \"application\", \"previous\", \"blindness\", \"hypoglycemia\", \"layer\", \"applying\", \"amaryl\", \"adult\", \"find\", \"kill\", \"area\", \"redness\", \"seek\", \"clean\", \"wash\", \"seen\", \"site\", \"type\", \"respiratory\", \"infection\", \"hand\", \"hour\", \"skin\", \"cream\", \"bacteria\", \"burning\", \"longer\", \"tract\", \"eye\", \"consult\", \"antibiotic\", \"persist\", \"must\", \"water\", \"using\", \"use\", \"diabetes\", \"these\", \"duration\", \"some\", \"course\", \"sugar\", \"after\", \"treat\", \"better\", \"include\", \"usually\", \"on\", \"that\", \"inform\", \"level\", \"advised\", \"blood\", \"regularly\", \"take\", \"feel\", \"disease\", \"help\", \"concerned\", \"support\", \"recommend\", \"beneficial\", \"mucus\", \"thins\", \"viral\", \"survive\", \"stuffiness\", \"expectorant\", \"windpipe\", \"toothache\", \"object\", \"sharp\", \"shaving\", \"cutting\", \"modification\", \"asthakind\", \"stuffy\", \"sport\", \"engaging\", \"football\", \"reflux\", \"wrestling\", \"recommends\", \"cold\", \"say\", \"smallest\", \"hearing\", \"anafortan\", \"complete\", \"team\", \"bloating\", \"sneezing\", \"back\", \"runny\", \"watery\", \"adjusting\", \"healthcare\", \"all\", \"cough\", \"straight\", \"come\", \"depend\", \"given\", \"about\", \"syrup\", \"worsen\", \"heartburn\", \"self\", \"let\", \"pregnancy\", \"affect\", \"know\", \"prescribe\", \"respond\", \"medication\", \"dose\", \"affected\", \"sleepiness\", \"pain\", \"stomach\", \"these\", \"will\", \"nose\", \"resolve\", \"tell\", \"early\", \"until\", \"so\", \"most\", \"condition\", \"symptom\", \"while\", \"can\", \"how\", \"stop\", \"kidney\", \"some\", \"that\", \"liver\", \"away\", \"food\", \"tablet\", \"help\", \"duration\", \"on\", \"those\", \"ill\", \"cessation\", \"moderation\", \"repeated\", \"widely\", \"statin\", \"build\", \"fatty\", \"dyspepsia\", \"narrowing\", \"thereafter\", \"properly\", \"blocker\", \"workload\", \"eating\", \"sp\", \"unexplained\", \"component\", \"alleviates\", \"lipid\", \"especially\", \"ankle\", \"earlier\", \"active\", \"foot\", \"contains\", \"beating\", \"couple\", \"adjusts\", \"stroke\", \"channel\", \"lower\", \"pressure\", \"baby\", \"high\", \"keeping\", \"checked\", \"cholesterol\", \"attack\", \"blood\", \"term\", \"function\", \"hypertension\", \"heart\", \"try\", \"advice\", \"exercise\", \"regular\", \"day\", \"control\", \"level\", \"monitor\", \"but\", \"diet\", \"condition\", \"each\", \"regularly\", \"tablet\", \"kidney\", \"weight\", \"risk\", \"take\", \"can\", \"on\", \"stop\", \"liver\", \"get\", \"while\", \"pain\", \"help\", \"that\", \"consult\", \"food\", \"know\", \"include\", \"disease\", \"most\"], \"Freq\": [1620.0, 748.0, 641.0, 507.0, 531.0, 414.0, 465.0, 488.0, 751.0, 1000.0, 1083.0, 250.0, 265.0, 215.0, 187.0, 279.0, 303.0, 277.0, 500.0, 1115.0, 213.0, 151.0, 485.0, 238.0, 545.0, 246.0, 252.0, 120.0, 807.0, 132.0, 61.24653766896473, 64.10928524524601, 83.98848861541892, 48.58466396148647, 65.65687672788664, 46.601425575257835, 37.97700723217979, 34.0816793539639, 60.37563215102916, 32.86376927877725, 36.61498735205499, 22.524977303129393, 20.616993799557477, 24.321824932786708, 25.23687280647738, 18.685840668283088, 18.6813038150527, 20.52571687666372, 18.649205237843127, 17.713198260283704, 16.75446273797476, 16.75381729226368, 16.74979304895159, 16.74516423248005, 87.30159040178131, 19.497750063993802, 16.711195736033627, 16.707670478455963, 15.772482654952025, 47.26881984656012, 76.49216291533138, 24.067769667000043, 21.290093197857438, 55.35584588087143, 84.52499535223377, 59.809901539802354, 22.084429099392345, 37.42995197099968, 52.28203585404412, 22.024208503641724, 42.07967134665187, 129.1077392269121, 85.77841345664473, 55.94123278338393, 44.38627633110841, 40.356304049701556, 159.68756053901697, 71.36071624017985, 583.2606306318654, 93.33946765432255, 243.8764608992376, 149.40180580817162, 143.9927050777389, 156.19355683916191, 120.22925369688649, 353.86945652529675, 369.80945192703825, 215.13624501485882, 149.59314384651256, 92.946832299228, 220.6252652079025, 287.81388168049114, 232.7497261703382, 177.44176588974153, 220.6096927657333, 237.82394446112264, 260.36251359069036, 209.59971729264294, 319.6628365931069, 250.50233749154938, 151.42976557797004, 188.19511623536184, 162.9070096854224, 176.28496368528036, 190.50418379105378, 191.72011495353257, 159.81115913513125, 193.3490496259991, 158.36067402305991, 186.44797814359555, 164.52945924636438, 158.21614868051358, 155.03134583370235, 156.99192039005487, 100.60293403295606, 102.11537185041112, 62.97846884960864, 62.00214356544965, 62.93454483059698, 50.39595096217851, 51.3396954613363, 50.38867329672997, 89.30513911912608, 110.84623491965027, 53.96398854178058, 56.76317715507216, 56.73608439142511, 108.63459208619743, 52.89039725890192, 54.76639416186832, 62.30933382403232, 66.08236669917088, 30.1124026708637, 27.273605363368468, 27.25982576544762, 39.418419640500574, 58.15573859047086, 93.64893283115526, 55.21354385111557, 36.501160829395765, 35.55582516792854, 32.73579927524591, 81.36977781188781, 23.349661825080158, 76.33306434038461, 74.4253169678841, 47.43681580247687, 141.4261184306006, 124.39746631478617, 45.6046602177784, 61.761127133972664, 115.5241661006002, 164.68697950508965, 88.78395241605898, 340.64015562384367, 93.26296515212195, 465.7805392597353, 92.7544349708758, 126.70369233483197, 331.7120479727707, 91.52268347765173, 154.57922844540414, 71.63340602004106, 136.64753713649745, 122.15697746191913, 258.77631695283327, 338.66073647879404, 162.8559718067142, 139.54165297147594, 155.9059865530291, 125.24907226133575, 254.73340177862502, 243.88523426832455, 114.14131704054553, 277.1256404015339, 195.72261027460578, 246.5881327516725, 146.70767903203054, 161.72045751495776, 152.34761834438433, 195.96582985389583, 173.4331852163062, 183.45939995873013, 167.28714381654228, 203.9567065163874, 207.39302165940074, 147.19197458733308, 180.7389689177107, 168.3224777353699, 188.61137841881913, 161.47105853609597, 177.69960411249846, 155.40966300155802, 153.95956831275888, 156.2815670186495, 119.17120729338332, 81.57740962101147, 76.72596010799047, 73.82540594518967, 73.39617627161032, 39.024667327910045, 39.01149399383329, 31.32185579334635, 34.13592552694341, 29.343408704332084, 40.60513062881888, 25.470227468444538, 23.55411603496762, 23.551797107184736, 23.544314092115304, 24.41992859337131, 16.750022328307722, 17.655458381180086, 22.288204236940974, 14.806678403280662, 14.801514315994117, 14.79605027662673, 19.413395084026252, 14.790226645583479, 120.23394277812422, 66.22588317277983, 11.907765206395808, 11.895743442734688, 19.20614398311596, 13.714961583570917, 61.70975552866003, 132.19636855040986, 27.33212475594141, 86.68631274110476, 189.34704189368892, 89.94093665491228, 84.94829566299569, 23.559950190645285, 149.37119669763095, 394.73817327868795, 109.82838407638782, 120.21053599118412, 158.30303294070066, 187.80522505035384, 145.82624723526004, 331.55135547404, 123.44823629285148, 209.26270936824392, 72.25218359275871, 90.80507930465537, 442.81781858054063, 167.40016207547745, 301.6131768755127, 548.1961556840922, 78.09405733566308, 109.2472839281926, 291.18099084870505, 478.11225025719466, 196.45690955812847, 177.994427472284, 369.26286065771495, 290.11348419636244, 396.2154390309412, 340.5084929382446, 179.78666045047888, 153.1817037355741, 289.3940482534097, 161.84298670993567, 193.85439199270618, 227.13046541253655, 306.71111332654505, 301.39145791049253, 274.23938860013175, 264.5785881117518, 304.47012396971854, 236.1007235876458, 257.06214680341805, 239.63405385362202, 247.72789063883675, 261.7923384951264, 235.05797087544852, 193.50237805362195, 230.4312012579299, 241.90737488737292, 225.54631147315934, 205.1762323830801, 213.9204775423277, 69.17577288411475, 61.256979062491844, 59.293567026429024, 49.53917961041041, 42.673170856644994, 48.4635271794099, 36.76755088167662, 36.75356738793165, 43.511933594767626, 33.818067791980674, 37.679452755968676, 33.78792941682238, 42.47393743751624, 34.72066689916048, 32.78568526883183, 85.78533032850109, 26.878642660563493, 43.06219934253977, 22.96421957970691, 22.95865248979484, 30.610408125079307, 72.69561455478768, 78.26277731863505, 22.813574248105898, 75.09506066179709, 49.31071643966771, 26.534577886321316, 29.37354887856245, 17.931222229596454, 17.916384751139418, 228.77156040677815, 32.77770799931769, 133.15028509859565, 640.4136100449158, 48.0092801643671, 435.3066540540452, 91.28511329383436, 113.8125662375099, 231.8653648891528, 207.8675202587776, 1096.0164452140905, 111.88815418573841, 187.60962679945922, 80.8596355503636, 668.5770706811223, 144.64733152626846, 190.92700528891697, 176.70128748211008, 232.65263356333412, 379.36736898913375, 153.07220235451103, 440.1870431219132, 129.2511608907799, 318.3935728760914, 191.20921688134803, 406.38585872910966, 176.19263637939147, 311.06351854335946, 469.4742666927806, 329.3471126733664, 185.33548574783163, 182.3009178542996, 475.4363589364099, 377.69640826740493, 356.10291509698243, 298.3236855676967, 299.6028008681772, 291.0426523858299, 284.83480681652924, 305.4924622567964, 293.16814343506525, 305.14724197243436, 266.3919425140615, 244.01072736951565, 233.85237280612247, 212.8204211280739, 210.19230138963442, 216.38120549707506], \"Total\": [1620.0, 748.0, 641.0, 507.0, 531.0, 414.0, 465.0, 488.0, 751.0, 1000.0, 1083.0, 250.0, 265.0, 215.0, 187.0, 279.0, 303.0, 277.0, 500.0, 1115.0, 213.0, 151.0, 485.0, 238.0, 545.0, 246.0, 252.0, 120.0, 807.0, 132.0, 62.38467250318939, 65.3086080800401, 85.77878919039567, 49.71233685133117, 67.259826257957, 47.763058638852726, 38.98953575494199, 35.090947399562346, 62.382027055399455, 34.11606638849287, 38.01581070753908, 23.393409291456415, 21.44401794939962, 25.344859590439476, 26.31779922436728, 19.49479043335015, 19.49445545144139, 21.442705649259725, 19.495170883661938, 18.51991898820206, 17.54529193970652, 17.545311873603843, 17.545274816084696, 17.54533956210996, 91.609992904841, 20.46817678192456, 17.54471897810394, 17.544648475082596, 16.57048393704257, 49.70771567885371, 80.89263004254272, 25.344212433293375, 22.417013576367193, 59.440644075639035, 93.58375413053552, 65.32757724379081, 23.39172455829985, 40.928943857538016, 58.4904937251769, 23.39604272461677, 47.82919539887659, 175.65439788061812, 115.84206833977078, 70.33669116219967, 53.56558730219044, 47.86228526386783, 248.6377754623157, 94.85246540608254, 1441.3276862790476, 141.54306831174463, 554.3610591330606, 286.1221059198772, 276.4230582569062, 322.98995875334595, 224.8690024288245, 1115.15291944853, 1224.0715938331468, 587.3446330938891, 335.6178471996647, 159.54783661301872, 669.9397731760253, 1046.4587867727685, 751.7116240780658, 485.98778914554464, 736.2409980680152, 855.4248008783815, 1034.6951157176518, 703.1903072651263, 1620.553006077624, 1083.2857973684163, 389.27975495010287, 630.8583038349562, 520.4406246569196, 632.0739862714971, 819.3422254161463, 841.7902736158152, 545.4954019397003, 967.3291487816966, 578.753627719232, 1021.1991133592535, 736.2604986414019, 647.782834264247, 622.6901426450787, 831.9879423169289, 101.80081678035043, 103.7423092331617, 63.99087973188175, 63.02142967412416, 63.99134246540203, 51.38757417322003, 52.35747248542044, 51.38773341667233, 91.15276504461208, 113.4620211525644, 55.270375342866785, 58.175331602604054, 58.17485102071119, 111.50521606211414, 54.298069134855, 56.23615056175443, 64.00254611931946, 67.87815632675402, 31.028280837527355, 28.120220650774204, 28.119957862159367, 40.73184565955433, 60.115983158566586, 96.99810488574832, 57.20727296339898, 37.820054168881505, 36.85035206502034, 33.936332597480494, 84.38523623046295, 24.241756572414612, 79.51209424680806, 77.60081869659545, 49.46455009412727, 151.3214571658597, 132.9443814769462, 47.52786853125148, 65.00224083787695, 124.26577456819169, 187.53621614071017, 97.02476504191034, 414.5323814405013, 102.82820297451343, 641.0551049388656, 103.90279405019767, 151.53688328217163, 488.7374230628435, 104.86136308261024, 213.65002083719045, 79.65007744301806, 191.4082320518502, 165.09567369161314, 503.0597151597434, 774.8544843481409, 265.30026910149905, 214.85301371370053, 256.64966357279485, 183.87096928891893, 574.1920456183007, 582.7641986293016, 165.81795422076166, 1021.1991133592535, 501.48561205266003, 841.7902736158152, 289.7238557644616, 376.98224989497066, 335.16753373617513, 632.0739862714971, 520.4406246569196, 622.6901426450787, 485.3994625721268, 967.3291487816966, 1034.6951157176518, 335.6178471996647, 807.9381075329502, 669.9397731760253, 1620.553006077624, 655.7346116886595, 1441.3276862790476, 578.753627719232, 623.8517580284279, 831.9879423169289, 120.96809623272898, 82.92084299486636, 78.04357416292106, 75.11697424947457, 75.11623241698639, 39.99672241592401, 39.996234345286425, 32.19203271723245, 35.11849788133136, 30.241408550528522, 41.945997348150655, 26.339099378899483, 24.387332298782706, 24.38743726016692, 24.387277206559762, 25.362053909615767, 17.558881281046354, 18.534243165594248, 23.409707072129795, 15.607342460464535, 15.607221213898429, 15.60729878424861, 20.484420049840118, 15.607174980335738, 126.89756519300427, 70.23108730938208, 12.680864475310786, 12.680807189901833, 20.47956095686307, 14.631668327659876, 66.31175367951855, 143.40659905968155, 29.261725321634156, 95.69140779495511, 215.66989774286017, 100.589638647593, 96.71501734139403, 25.361870343430095, 177.51320306471914, 507.3093936975714, 131.74160449716325, 145.43276754092432, 197.38529825234104, 238.3183347825914, 184.415600054595, 465.2729535395682, 154.0533420334854, 279.8937103336836, 85.06221224738205, 112.09500823213388, 751.9221032037432, 240.99001919397273, 500.01160622026543, 1083.2857973684163, 95.76612413131598, 148.5958537639086, 545.4954019397003, 1115.15291944853, 332.1325842540927, 293.36297023165264, 854.0984923944118, 625.2345611195142, 1021.1991133592535, 819.3422254161463, 303.7297624299835, 239.66163348404754, 687.5886911556402, 263.84856752056277, 364.26717549856465, 485.98778914554464, 855.4248008783815, 879.1009396192353, 751.7116240780658, 705.9372725212305, 1046.4587867727685, 587.3446330938891, 724.3187314700835, 733.7852704752671, 841.7902736158152, 1034.6951157176518, 736.2604986414019, 388.71448340984824, 736.2409980680152, 1224.0715938331468, 831.9879423169289, 501.48561205266003, 967.3291487816966, 70.40564076148247, 62.46907684452441, 60.485551799487055, 50.56880653274574, 43.62631466505519, 49.575244256666664, 37.67514153749274, 37.67489698918728, 44.61416203269096, 34.699623897651165, 38.665433037570644, 34.69907204162304, 43.622355493142585, 35.68998254277178, 33.70693445348576, 88.2382716182132, 27.755299950642428, 44.605143046654675, 23.788060082387567, 23.787987759551285, 31.718125071585604, 75.33718380682822, 81.28376716503212, 23.784387501638253, 78.30363702029227, 51.53462036036626, 27.746811525862608, 30.721447881574033, 18.82576747081274, 18.82551455440127, 250.58349808819023, 34.67851757808275, 145.58497126649985, 748.0229353223638, 51.502001739772204, 531.8995537090963, 101.94548917149339, 129.6140184291536, 277.94030819390554, 252.17290439255834, 1620.553006077624, 130.6007506250755, 236.12602002953275, 92.05039904261781, 1000.5033205331214, 177.96907424803018, 246.99499151484346, 241.82071338491644, 347.8800243456314, 647.782834264247, 212.16281732235555, 807.9381075329502, 174.65119294071118, 599.6610938199019, 309.2011744123853, 879.1009396192353, 283.7395335353586, 655.7346116886595, 1224.0715938331468, 733.7852704752671, 307.1813135077795, 300.2940807514783, 1441.3276862790476, 1046.4587867727685, 967.3291487816966, 724.3187314700835, 736.2604986414019, 703.1903072651263, 705.9372725212305, 854.0984923944118, 831.9879423169289, 1034.6951157176518, 774.8544843481409, 736.2409980680152, 1083.2857973684163, 622.6901426450787, 623.8517580284279, 855.4248008783815], \"Category\": [\"Default\", \"Default\", \"Default\", \"Default\", \"Default\", \"Default\", \"Default\", \"Default\", \"Default\", \"Default\", \"Default\", \"Default\", \"Default\", \"Default\", \"Default\", \"Default\", \"Default\", \"Default\", \"Default\", \"Default\", \"Default\", \"Default\", \"Default\", \"Default\", \"Default\", \"Default\", \"Default\", \"Default\", \"Default\", \"Default\", \"Topic1\", \"Topic1\", \"Topic1\", \"Topic1\", \"Topic1\", \"Topic1\", \"Topic1\", \"Topic1\", \"Topic1\", \"Topic1\", \"Topic1\", \"Topic1\", \"Topic1\", \"Topic1\", \"Topic1\", \"Topic1\", \"Topic1\", \"Topic1\", \"Topic1\", \"Topic1\", \"Topic1\", \"Topic1\", \"Topic1\", \"Topic1\", \"Topic1\", \"Topic1\", \"Topic1\", \"Topic1\", \"Topic1\", \"Topic1\", \"Topic1\", \"Topic1\", \"Topic1\", \"Topic1\", \"Topic1\", \"Topic1\", \"Topic1\", \"Topic1\", \"Topic1\", \"Topic1\", \"Topic1\", \"Topic1\", \"Topic1\", \"Topic1\", \"Topic1\", \"Topic1\", \"Topic1\", \"Topic1\", \"Topic1\", \"Topic1\", \"Topic1\", \"Topic1\", \"Topic1\", \"Topic1\", \"Topic1\", \"Topic1\", \"Topic1\", \"Topic1\", \"Topic1\", \"Topic1\", \"Topic1\", \"Topic1\", \"Topic1\", \"Topic1\", \"Topic1\", \"Topic1\", \"Topic1\", \"Topic1\", \"Topic1\", \"Topic1\", \"Topic1\", \"Topic1\", \"Topic1\", \"Topic1\", \"Topic1\", \"Topic1\", \"Topic1\", \"Topic1\", \"Topic1\", \"Topic1\", \"Topic1\", \"Topic1\", \"Topic1\", \"Topic1\", \"Topic2\", \"Topic2\", \"Topic2\", \"Topic2\", \"Topic2\", \"Topic2\", \"Topic2\", \"Topic2\", \"Topic2\", \"Topic2\", \"Topic2\", \"Topic2\", \"Topic2\", \"Topic2\", \"Topic2\", \"Topic2\", \"Topic2\", \"Topic2\", \"Topic2\", \"Topic2\", \"Topic2\", \"Topic2\", \"Topic2\", \"Topic2\", \"Topic2\", \"Topic2\", \"Topic2\", \"Topic2\", \"Topic2\", \"Topic2\", \"Topic2\", \"Topic2\", \"Topic2\", \"Topic2\", \"Topic2\", \"Topic2\", \"Topic2\", \"Topic2\", \"Topic2\", \"Topic2\", \"Topic2\", \"Topic2\", \"Topic2\", \"Topic2\", \"Topic2\", \"Topic2\", \"Topic2\", \"Topic2\", \"Topic2\", \"Topic2\", \"Topic2\", \"Topic2\", \"Topic2\", \"Topic2\", \"Topic2\", \"Topic2\", \"Topic2\", \"Topic2\", \"Topic2\", \"Topic2\", \"Topic2\", \"Topic2\", \"Topic2\", \"Topic2\", \"Topic2\", \"Topic2\", \"Topic2\", \"Topic2\", \"Topic2\", \"Topic2\", \"Topic2\", \"Topic2\", \"Topic2\", \"Topic2\", \"Topic2\", \"Topic2\", \"Topic2\", \"Topic2\", \"Topic2\", \"Topic2\", \"Topic2\", \"Topic3\", \"Topic3\", \"Topic3\", \"Topic3\", \"Topic3\", \"Topic3\", \"Topic3\", \"Topic3\", \"Topic3\", \"Topic3\", \"Topic3\", \"Topic3\", \"Topic3\", \"Topic3\", \"Topic3\", \"Topic3\", \"Topic3\", \"Topic3\", \"Topic3\", \"Topic3\", \"Topic3\", \"Topic3\", \"Topic3\", \"Topic3\", \"Topic3\", \"Topic3\", \"Topic3\", \"Topic3\", \"Topic3\", \"Topic3\", \"Topic3\", \"Topic3\", \"Topic3\", \"Topic3\", \"Topic3\", \"Topic3\", \"Topic3\", \"Topic3\", \"Topic3\", \"Topic3\", \"Topic3\", \"Topic3\", \"Topic3\", \"Topic3\", \"Topic3\", \"Topic3\", \"Topic3\", \"Topic3\", \"Topic3\", \"Topic3\", \"Topic3\", \"Topic3\", \"Topic3\", \"Topic3\", \"Topic3\", \"Topic3\", \"Topic3\", \"Topic3\", \"Topic3\", \"Topic3\", \"Topic3\", \"Topic3\", \"Topic3\", \"Topic3\", \"Topic3\", \"Topic3\", \"Topic3\", \"Topic3\", \"Topic3\", \"Topic3\", \"Topic3\", \"Topic3\", \"Topic3\", \"Topic3\", \"Topic3\", \"Topic3\", \"Topic3\", \"Topic3\", \"Topic3\", \"Topic3\", \"Topic3\", \"Topic3\", \"Topic3\", \"Topic3\", \"Topic3\", \"Topic3\", \"Topic3\", \"Topic4\", \"Topic4\", \"Topic4\", \"Topic4\", \"Topic4\", \"Topic4\", \"Topic4\", \"Topic4\", \"Topic4\", \"Topic4\", \"Topic4\", \"Topic4\", \"Topic4\", \"Topic4\", \"Topic4\", \"Topic4\", \"Topic4\", \"Topic4\", \"Topic4\", \"Topic4\", \"Topic4\", \"Topic4\", \"Topic4\", \"Topic4\", \"Topic4\", \"Topic4\", \"Topic4\", \"Topic4\", \"Topic4\", \"Topic4\", \"Topic4\", \"Topic4\", \"Topic4\", \"Topic4\", \"Topic4\", \"Topic4\", \"Topic4\", \"Topic4\", \"Topic4\", \"Topic4\", \"Topic4\", \"Topic4\", \"Topic4\", \"Topic4\", \"Topic4\", \"Topic4\", \"Topic4\", \"Topic4\", \"Topic4\", \"Topic4\", \"Topic4\", \"Topic4\", \"Topic4\", \"Topic4\", \"Topic4\", \"Topic4\", \"Topic4\", \"Topic4\", \"Topic4\", \"Topic4\", \"Topic4\", \"Topic4\", \"Topic4\", \"Topic4\", \"Topic4\", \"Topic4\", \"Topic4\", \"Topic4\", \"Topic4\", \"Topic4\", \"Topic4\", \"Topic4\", \"Topic4\", \"Topic4\", \"Topic4\", \"Topic4\", \"Topic4\", \"Topic4\"], \"logprob\": [30.0, 29.0, 28.0, 27.0, 26.0, 25.0, 24.0, 23.0, 22.0, 21.0, 20.0, 19.0, 18.0, 17.0, 16.0, 15.0, 14.0, 13.0, 12.0, 11.0, 10.0, 9.0, 8.0, 7.0, 6.0, 5.0, 4.0, 3.0, 2.0, 1.0, -6.169, -6.1233, -5.8532, -6.4006, -6.0995, -6.4423, -6.6469, -6.7551, -6.1833, -6.7915, -6.6834, -7.1693, -7.2578, -7.0925, -7.0556, -7.3561, -7.3564, -7.2622, -7.3581, -7.4096, -7.4652, -7.4653, -7.4655, -7.4658, -5.8145, -7.3136, -7.4678, -7.468, -7.5256, -6.428, -5.9467, -7.103, -7.2257, -6.2701, -5.8469, -6.1927, -7.189, -6.6614, -6.3272, -7.1918, -6.5443, -5.4233, -5.8321, -6.2596, -6.491, -6.5862, -5.2107, -6.0162, -3.9153, -5.7477, -4.7872, -5.2773, -5.3141, -5.2328, -5.4945, -4.415, -4.3709, -4.9126, -5.276, -5.7519, -4.8874, -4.6216, -4.8339, -5.1053, -4.8875, -4.8124, -4.7218, -4.9387, -4.5166, -4.7604, -5.2638, -5.0464, -5.1907, -5.1118, -5.0342, -5.0279, -5.2099, -5.0194, -5.219, -5.0557, -5.1808, -5.2199, -5.2403, -5.2277, -5.6435, -5.6286, -6.1119, -6.1275, -6.1126, -6.3348, -6.3162, -6.3349, -5.7626, -5.5466, -6.2664, -6.2158, -6.2163, -5.5667, -6.2865, -6.2516, -6.1226, -6.0638, -6.8498, -6.9488, -6.9493, -6.5805, -6.1916, -5.7151, -6.2435, -6.6574, -6.6836, -6.7662, -5.8557, -7.1041, -5.9196, -5.9449, -6.3953, -5.3029, -5.4312, -6.4347, -6.1314, -5.5052, -5.1507, -5.7685, -4.4239, -5.7193, -4.111, -5.7247, -5.4128, -4.4504, -5.7381, -5.214, -5.9831, -5.3373, -5.4494, -4.6987, -4.4297, -5.1618, -5.3163, -5.2054, -5.4244, -4.7145, -4.758, -5.5173, -4.6302, -4.978, -4.747, -5.2663, -5.1688, -5.2285, -4.9768, -5.0989, -5.0427, -5.135, -4.9368, -4.9201, -5.263, -5.0576, -5.1288, -5.015, -5.1704, -5.0746, -5.2086, -5.218, -5.203, -5.5329, -5.9119, -5.9732, -6.0117, -6.0176, -6.6493, -6.6496, -6.8691, -6.7831, -6.9344, -6.6096, -7.0759, -7.1542, -7.1543, -7.1546, -7.1181, -7.4951, -7.4424, -7.2094, -7.6184, -7.6187, -7.6191, -7.3475, -7.6195, -5.524, -6.1204, -7.8363, -7.8373, -7.3582, -7.695, -6.191, -5.4292, -7.0054, -5.8512, -5.0699, -5.8143, -5.8714, -7.1539, -5.307, -4.3352, -5.6145, -5.5242, -5.2489, -5.078, -5.331, -4.5097, -5.4976, -4.9699, -6.0333, -5.8047, -4.2203, -5.1931, -4.6043, -4.0068, -5.9555, -5.6198, -4.6395, -4.1436, -5.033, -5.1317, -4.4019, -4.6432, -4.3315, -4.483, -5.1217, -5.2818, -4.6457, -5.2268, -5.0463, -4.8879, -4.5875, -4.605, -4.6995, -4.7353, -4.5949, -4.8492, -4.7641, -4.8343, -4.8011, -4.7459, -4.8536, -5.0482, -4.8735, -4.8249, -4.8949, -4.9896, -4.9478, -6.2198, -6.3413, -6.3739, -6.5536, -6.7028, -6.5756, -6.8518, -6.8522, -6.6834, -6.9354, -6.8273, -6.9363, -6.7075, -6.9091, -6.9664, -6.0046, -7.1651, -6.6938, -7.3225, -7.3227, -7.0351, -6.1701, -6.0963, -7.329, -6.1376, -6.5583, -7.178, -7.0763, -7.5699, -7.5707, -5.0237, -6.9667, -5.5649, -3.9943, -6.585, -4.3804, -5.9424, -5.7218, -5.0102, -5.1195, -3.457, -5.7389, -5.222, -6.0637, -3.9512, -5.4821, -5.2045, -5.2819, -5.0069, -4.5179, -5.4255, -4.3692, -5.5946, -4.6931, -5.203, -4.4491, -5.2848, -4.7164, -4.3048, -4.6593, -5.2342, -5.2507, -4.2922, -4.5223, -4.5812, -4.7582, -4.7539, -4.7829, -4.8045, -4.7345, -4.7757, -4.7356, -4.8714, -4.9592, -5.0017, -5.096, -5.1084, -5.0794], \"loglift\": [30.0, 29.0, 28.0, 27.0, 26.0, 25.0, 24.0, 23.0, 22.0, 21.0, 20.0, 19.0, 18.0, 17.0, 16.0, 15.0, 14.0, 13.0, 12.0, 11.0, 10.0, 9.0, 8.0, 7.0, 6.0, 5.0, 4.0, 3.0, 2.0, 1.0, 1.4142, 1.414, 1.4115, 1.4096, 1.4085, 1.408, 1.4063, 1.4034, 1.3999, 1.3952, 1.395, 1.3948, 1.3932, 1.3914, 1.3906, 1.3902, 1.39, 1.3889, 1.3882, 1.388, 1.3865, 1.3864, 1.3862, 1.3859, 1.3844, 1.384, 1.3839, 1.3837, 1.3832, 1.3823, 1.3766, 1.3809, 1.381, 1.3614, 1.3308, 1.3443, 1.3751, 1.3432, 1.3204, 1.3722, 1.3045, 1.1247, 1.1321, 1.2036, 1.2446, 1.262, 0.9898, 1.148, 0.5279, 1.0162, 0.6114, 0.7828, 0.7804, 0.7061, 0.8065, 0.2848, 0.2356, 0.4282, 0.6245, 0.8923, 0.3219, 0.1417, 0.2602, 0.425, 0.2274, 0.1525, 0.0528, 0.2222, -0.1907, -0.0317, 0.4884, 0.223, 0.2711, 0.1557, -0.0262, -0.0469, 0.2049, -0.1775, 0.1366, -0.268, -0.0659, 0.023, 0.0422, -0.235, 1.4499, 1.446, 1.4458, 1.4455, 1.4451, 1.4423, 1.4421, 1.4421, 1.4413, 1.4385, 1.4379, 1.4372, 1.4367, 1.4357, 1.4355, 1.4353, 1.435, 1.435, 1.4318, 1.4312, 1.4307, 1.429, 1.4286, 1.4266, 1.4263, 1.4263, 1.426, 1.4258, 1.4254, 1.4243, 1.421, 1.42, 1.4199, 1.3942, 1.3953, 1.4205, 1.4106, 1.3888, 1.3319, 1.373, 1.2655, 1.3641, 1.1424, 1.3483, 1.2828, 1.0742, 1.3257, 1.1381, 1.3557, 1.1248, 1.1606, 0.797, 0.6341, 0.9738, 1.0302, 0.9633, 1.0778, 0.649, 0.5907, 1.0883, 0.1575, 0.5209, 0.234, 0.7813, 0.6155, 0.6733, 0.2907, 0.3629, 0.2397, 0.3965, -0.0949, -0.1455, 0.6375, -0.0357, 0.0805, -0.6891, 0.0603, -0.6314, 0.147, 0.0626, -0.2104, 1.3881, 1.3867, 1.386, 1.3857, 1.3799, 1.3784, 1.3781, 1.3756, 1.3746, 1.3729, 1.3705, 1.3695, 1.3683, 1.3682, 1.3678, 1.3652, 1.3559, 1.3545, 1.3539, 1.3504, 1.35, 1.3496, 1.3493, 1.3493, 1.3491, 1.3443, 1.3401, 1.3391, 1.3388, 1.3383, 1.3311, 1.3216, 1.3348, 1.3042, 1.2729, 1.2911, 1.2733, 1.3293, 1.2304, 1.1521, 1.2211, 1.2126, 1.1824, 1.1648, 1.1682, 1.0642, 1.1815, 1.1122, 1.2398, 1.1924, 0.8736, 1.0387, 0.8975, 0.7219, 1.199, 1.0954, 0.7753, 0.5561, 0.8779, 0.9034, 0.5645, 0.6352, 0.4563, 0.525, 0.8787, 0.9554, 0.5376, 0.9143, 0.7722, 0.6424, 0.3773, 0.3325, 0.3947, 0.4216, 0.1684, 0.4917, 0.3671, 0.2839, 0.1798, 0.0287, 0.2613, 0.7055, 0.2414, -0.2184, 0.0977, 0.5093, -0.1059, 1.2425, 1.2405, 1.2402, 1.2395, 1.238, 1.2374, 1.2357, 1.2353, 1.2351, 1.2343, 1.2342, 1.2335, 1.2334, 1.2325, 1.2324, 1.2319, 1.228, 1.2249, 1.2248, 1.2246, 1.2245, 1.2244, 1.2222, 1.2184, 1.2182, 1.216, 1.2154, 1.2152, 1.2114, 1.2106, 1.169, 1.2037, 1.1708, 1.1048, 1.1899, 1.0597, 1.1496, 1.1301, 1.0788, 1.0669, 0.869, 1.1054, 1.0301, 1.1305, 0.857, 1.0528, 1.0026, 0.9463, 0.8578, 0.725, 0.9336, 0.6528, 0.959, 0.627, 0.7795, 0.4885, 0.7836, 0.5143, 0.3018, 0.459, 0.7548, 0.761, 0.151, 0.241, 0.2608, 0.373, 0.361, 0.3779, 0.3525, 0.232, 0.217, 0.039, 0.1924, 0.1557, -0.273, 0.1865, 0.1722, -0.1145]}, \"token.table\": {\"Topic\": [1, 2, 3, 4, 1, 2, 4, 1, 4, 1, 3, 4, 1, 2, 1, 1, 2, 3, 4, 1, 2, 3, 4, 1, 2, 3, 4, 1, 2, 3, 4, 1, 2, 3, 4, 1, 2, 3, 4, 4, 2, 3, 1, 4, 1, 2, 3, 1, 3, 1, 2, 3, 1, 2, 4, 1, 2, 4, 1, 2, 3, 4, 3, 1, 2, 3, 4, 1, 2, 3, 4, 2, 1, 2, 4, 1, 2, 3, 4, 1, 2, 3, 4, 1, 2, 3, 1, 1, 4, 1, 3, 1, 1, 3, 1, 3, 1, 2, 3, 4, 2, 4, 1, 3, 4, 1, 2, 3, 4, 1, 2, 3, 4, 2, 4, 1, 2, 4, 1, 2, 3, 4, 1, 1, 2, 3, 4, 1, 1, 2, 3, 4, 2, 4, 1, 2, 3, 4, 1, 4, 1, 2, 4, 1, 2, 3, 4, 1, 2, 4, 1, 3, 1, 2, 3, 4, 1, 2, 3, 1, 2, 3, 4, 1, 3, 1, 2, 3, 4, 1, 1, 2, 3, 4, 2, 4, 1, 2, 3, 4, 1, 2, 3, 4, 4, 1, 2, 3, 4, 1, 2, 4, 3, 1, 2, 3, 4, 1, 1, 2, 3, 4, 1, 1, 2, 4, 1, 2, 3, 4, 1, 3, 4, 1, 2, 3, 4, 1, 2, 3, 4, 1, 2, 3, 4, 1, 2, 3, 4, 4, 1, 2, 3, 4, 4, 1, 2, 3, 4, 1, 2, 3, 4, 3, 1, 2, 4, 1, 2, 3, 4, 1, 3, 1, 2, 4, 1, 2, 3, 4, 4, 1, 2, 3, 4, 1, 2, 4, 1, 2, 3, 4, 1, 2, 4, 3, 1, 1, 2, 3, 4, 1, 2, 4, 2, 4, 1, 2, 3, 4, 1, 2, 3, 4, 2, 2, 1, 3, 1, 2, 4, 1, 1, 2, 4, 1, 2, 3, 4, 1, 3, 1, 2, 3, 4, 1, 3, 4, 1, 2, 3, 4, 1, 2, 3, 4, 1, 2, 3, 4, 1, 2, 3, 4, 1, 2, 3, 4, 1, 2, 4, 2, 4, 2, 4, 1, 1, 2, 3, 4, 1, 2, 3, 4, 1, 2, 3, 4, 1, 2, 4, 1, 2, 3, 4, 1, 2, 4, 1, 2, 4, 1, 2, 3, 4, 2, 1, 2, 3, 4, 1, 2, 3, 4, 1, 2, 3, 4, 2, 4, 1, 2, 3, 4, 1, 2, 3, 4, 1, 2, 3, 4, 1, 3, 2, 1, 2, 3, 4, 2, 4, 1, 2, 1, 2, 3, 4, 3, 1, 1, 2, 3, 4, 1, 3, 1, 2, 3, 4, 1, 2, 3, 4, 1, 3, 1, 2, 3, 4, 4, 1, 2, 3, 4, 2, 1, 1, 1, 2, 3, 4, 3, 1, 2, 3, 4, 2, 1, 2, 3, 4, 1, 2, 3, 1, 1, 2, 3, 4, 1, 2, 3, 4, 2, 4, 2, 1, 2, 3, 4, 1, 2, 3, 4, 1, 2, 3, 4, 1, 2, 3, 4, 2, 3, 4, 1, 3, 1, 3, 4, 1, 2, 3, 4, 3, 1, 2, 3, 4, 1, 2, 3, 4, 4, 1, 2, 3, 4, 1, 2, 3, 4, 1, 2, 3, 4, 1, 2, 1, 2, 3, 4, 1, 3, 4, 3, 1, 2, 4, 1, 2, 3, 4, 1, 2, 3, 4, 2, 3, 3, 3, 1, 2, 3, 4, 1, 2, 3, 4, 1, 1, 2, 3, 4, 3, 1, 1, 3, 4, 1, 2, 3, 4, 1, 2, 3, 4, 1, 2, 3, 4, 2, 3, 4, 1, 2, 3, 4, 1, 2, 3, 4, 1, 3, 1, 2, 3, 4, 1, 2, 3, 4, 3, 3, 1, 2, 3, 1, 2, 3, 4, 1, 1, 3, 3, 1, 1, 2, 3, 4, 1, 2, 3, 4, 1, 1, 2, 3, 4, 1, 2, 3, 4, 1, 2, 1, 3, 4, 1, 2, 3, 4, 1, 2, 3, 4, 1, 2, 3, 4, 1, 2, 3, 4, 1, 2, 3, 4, 4, 1, 2, 3, 4, 3, 4, 1, 3, 4, 3, 1, 2, 3, 4, 2, 3, 1, 2, 3, 4, 1, 2, 3, 4, 1, 2, 3, 4, 2, 1, 4, 1, 2, 3, 4, 1, 2, 3, 4, 1, 2, 3, 4, 1, 2, 3, 4, 3, 1, 2, 3, 1, 2, 4, 1, 2, 3, 4, 1, 3, 4, 1, 2, 3, 4, 1, 2, 3, 4, 1, 2, 3, 4, 1, 4, 1, 2, 3, 4, 1, 3, 1, 3, 4, 1, 2, 3, 4, 1, 2, 3, 4, 4, 1, 2, 3, 4, 3, 1], \"Freq\": [0.23642036177511286, 0.03438841625819824, 0.7135596373576134, 0.01719420812909912, 0.008813521827320266, 0.9783009228325494, 0.01762704365464053, 0.025541597761055506, 0.9578099160395814, 0.03942926868006194, 0.9463024483214866, 0.9561491638374224, 0.025153406144629225, 0.9558294334959105, 0.9689208967522235, 0.2145792498663476, 0.00809733018363576, 0.00809733018363576, 0.7732950325372149, 0.32988039947574915, 0.250768810461203, 0.24330545300700052, 0.1761352359191783, 0.23799447556738923, 0.05799865370969989, 0.6039859800113575, 0.0999976788098274, 0.07226029946414166, 0.31011711853360796, 0.5901257789571569, 0.027097612299053123, 0.18796569971359464, 0.4535045453407363, 0.07458956337841058, 0.2834403408379602, 0.2050031032187013, 0.0019711836847952045, 0.7786175554941058, 0.013798285793566433, 0.9668745516637953, 0.9487761306114408, 0.95682868737082, 0.024605158812821243, 0.9596011937000285, 0.003769313930161971, 0.6143981706164013, 0.3807007069463591, 0.9618154912907197, 0.016030258188178662, 0.9455272558419817, 0.020117601188127273, 0.020117601188127273, 0.010309479769505553, 0.9690910983335219, 0.020618959539011106, 0.01185041417990368, 0.9598835485721982, 0.02370082835980736, 0.0462591368805514, 0.9317911857368212, 0.006608448125793058, 0.013216896251586115, 0.9711753449643964, 0.11896599308424868, 0.00793106620561658, 0.05155193033650776, 0.8248308853841242, 0.19551625484422203, 0.054024228312219244, 0.4990809663128825, 0.2521130654570231, 0.9668598836361023, 0.01941672102480153, 0.03883344204960306, 0.9320026091904735, 0.018546862783646964, 0.0556405883509409, 0.8763392665273191, 0.04636715695911741, 0.004680551848679848, 0.7254855365453766, 0.27147200722343123, 0.004680551848679848, 0.008968190326118453, 0.9775327455469114, 0.017936380652236905, 0.9793540210596041, 0.032550549175117995, 0.9439659260784218, 0.9405035505256906, 0.04275016138753139, 0.9719264977058879, 0.9672861936723951, 0.029311702838557427, 0.013312570294416444, 0.9851302017868168, 0.31319615010348484, 0.33241063783989494, 0.2690028283097416, 0.0845437460402045, 0.978316948854181, 0.026440998617680567, 0.03417433486947084, 0.9227070414757127, 0.980667333139071, 0.19746345772084672, 0.1166268547163751, 0.009873172886042336, 0.6763123426939001, 0.5207566871527378, 0.1607705208659459, 0.1677605435122914, 0.1502854868964277, 0.9845081783377492, 0.9820862950366931, 0.01255491560212736, 0.9039539233531699, 0.08788440921489152, 0.19511020675811758, 0.16009042605794263, 0.11339738512437603, 0.5302995363169349, 0.974619350998321, 0.27521389627601, 0.0726258892950582, 0.2905035571802328, 0.3612182388622632, 0.9856708234525069, 0.29800669794969387, 0.12205593479854482, 0.26947414176302104, 0.31068783403265954, 0.01653287388887606, 0.9754395594436877, 0.5209406223491209, 0.15194101485182693, 0.16641158769485806, 0.15917630127334248, 0.028836296065666095, 0.9515977701669811, 0.04629128911144416, 0.0771521485190736, 0.879534493117439, 0.11153473996428326, 0.003597894837557524, 0.05037052772580534, 0.8347116023133456, 0.015384085027070293, 0.9538132716783582, 0.030768170054140585, 0.04271612636131342, 0.9397547799488952, 0.04052986757794216, 0.04052986757794216, 0.8004648846643576, 0.12158960273382648, 0.015080282823358148, 0.06032113129343259, 0.9349775350482051, 0.01718955841664268, 0.9798048297486328, 0.01718955841664268, 0.9668716120752092, 0.008266642454851175, 0.9837304521272899, 0.067114022225428, 0.1274028896482701, 0.3423952659297259, 0.4618354749749791, 0.9799627014185279, 0.09679236748961322, 0.4375015010530517, 0.1226036654868434, 0.34329026336316154, 0.03604017705125892, 0.9730847803839908, 0.15554092096100194, 0.061273696136152286, 0.061273696136152286, 0.7211442699100999, 0.12904048090871745, 0.007590616524042203, 0.8349678176446423, 0.030362466096168814, 0.9561363183682684, 0.28302812615701206, 0.5073796895741558, 0.2105453133607041, 0.003451562514109903, 0.06675480648182466, 0.8773488851896957, 0.05721840555584971, 0.9462955991470644, 0.24390890224724265, 0.0710114525529947, 0.09879854268242741, 0.5850726199474998, 0.9689197959242752, 0.11748991123802253, 0.00839213651700161, 0.7888608325981513, 0.0839213651700161, 0.9778042835262363, 0.054276390287735995, 0.687500943644656, 0.25932053137473865, 0.1617070183999832, 0.12613147435198688, 0.09379007067199026, 0.6177208102879358, 0.8890333571866722, 0.08548397665256463, 0.017096795330512927, 0.1618974358895653, 0.24685351610884212, 0.25326529574803286, 0.336618431057512, 0.3174452524188894, 0.13002701017157897, 0.428640764565619, 0.12374984416329586, 0.8357310934794995, 0.02089327733698749, 0.02089327733698749, 0.12535966402192492, 0.1535437869988469, 0.3908387305425194, 0.408785406944982, 0.04586372858407115, 0.9798377094888765, 0.3348141121412024, 0.03171923167653496, 0.014097436300682204, 0.620287197230017, 0.9670209080816471, 0.05306073908818521, 0.3259445401131377, 0.6139885523061431, 0.0075801055840264584, 0.011332950902832402, 0.011332950902832402, 0.011332950902832402, 0.9746337776435865, 0.9610935729316318, 0.026547315667230037, 0.013273657833615018, 0.9689770218538964, 0.09924708129447193, 0.06202942580904496, 0.1075176714023446, 0.7319472245467306, 0.9792940879620906, 0.9589500420109622, 0.015624378413566667, 0.9687114616411333, 0.015624378413566667, 0.05764723178199875, 0.5148494148806095, 0.15107550398041053, 0.2763091454378561, 0.986233922039353, 0.2730004486065179, 0.26781689578487516, 0.11231031113559281, 0.34557018810951634, 0.012886461983214522, 0.9535981867578747, 0.025772923966429044, 0.3001734494274708, 0.05568828699785658, 0.3123977075489515, 0.33141322018236596, 0.019404431293124847, 0.019404431293124847, 0.9508171333631176, 0.9610887961687826, 0.9469375797628494, 0.11011069426718889, 0.07623048064651539, 0.016940106810336752, 0.7961850200858274, 0.7961705203172182, 0.04265199215985098, 0.1563906379194536, 0.9763828881816314, 0.010970594249231814, 0.29863892865181796, 0.2104693401927098, 0.07821495750404756, 0.41382822970323346, 0.16809857729401775, 0.010845069502839855, 0.7916900737073094, 0.027112673757099637, 0.9729948506305963, 0.992133493564415, 0.9499274535407524, 0.037997098141630097, 0.8214228988431296, 0.1493496179714781, 0.018668702246434764, 0.9831829005103547, 0.03849752103940068, 0.8950673641660657, 0.06737066181895118, 0.11830105951242206, 0.03380030271783487, 0.839374184159566, 0.011266767572611625, 0.048829171782849276, 0.9277542638741362, 0.14692604910263624, 0.10394768099778347, 0.08095925154635059, 0.6686634479568956, 0.011756101488305424, 0.8464393071579905, 0.1410732178596651, 0.18870465786172902, 0.18750271736579444, 0.271638552081215, 0.35216856530883184, 0.14476417485793275, 0.03196092172188125, 0.005640162656802575, 0.8178235852363733, 0.07258958849983259, 0.8380797944980672, 0.026396213999939126, 0.06599053499984782, 0.36605425143236386, 0.07661600611375058, 0.40180838761878085, 0.15493459014114006, 0.7343966422501624, 0.14232493066863613, 0.005692997226745445, 0.11385994453490891, 0.10863613959316097, 0.010863613959316098, 0.8799527307046039, 0.9769241807101343, 0.02713678279750373, 0.016007920246505977, 0.9764831350368646, 0.928270270597765, 0.24891995132858075, 0.2938861360847115, 0.1140213970601886, 0.3420641911805658, 0.0358783508980767, 0.7269265877610323, 0.22306974688804207, 0.014039354699247403, 0.4469368993680556, 0.4379981613806945, 0.09534653853185186, 0.020857055303842593, 0.03923665512331961, 0.058854982684979414, 0.8926339040555211, 0.1553588012555268, 0.06813982511207316, 0.32707116053795116, 0.4483600492374414, 0.02021649844377592, 0.9501754268574683, 0.02021649844377592, 0.014732279927966344, 0.9723304752457786, 0.014732279927966344, 0.23170247464680555, 0.047078988872458497, 0.5058683510217109, 0.21600947835598605, 0.9724091401216993, 0.908277305069826, 0.010685615353762659, 0.0747993074763386, 0.010685615353762659, 0.16225084949649698, 0.017289024946348038, 0.5891567731717062, 0.23140694928188912, 0.19060865995074927, 0.22402706137068581, 0.04084471284658913, 0.5445961712878551, 0.03152771476066348, 0.977359157580568, 0.22410546308605345, 0.050253952328387745, 0.3191805080316519, 0.407464478338279, 0.04179548556633079, 0.7157476903234148, 0.20897742783165396, 0.03134661417474809, 0.06181956778715225, 0.020606522595717415, 0.006868840865239139, 0.9135558350768055, 0.9792630648300776, 0.011657893628929496, 0.9601631628468974, 0.2933113632691749, 0.10082578112377887, 0.5334600419458119, 0.07149464479686138, 0.977015257541023, 0.018092875139648575, 0.009639268755358931, 0.983205413046611, 0.9395169864056885, 0.02472413122120233, 0.02472413122120233, 0.9887518299966718, 0.9681710200040119, 0.96892184238774, 0.11451396158965485, 0.12596535774862033, 0.017177094238448227, 0.7386150522532738, 0.9840240834528127, 0.02093668262665559, 0.27822433924713535, 0.11105593373310024, 0.3588860174322292, 0.2525061230142069, 0.9184482653641165, 0.01530747108940194, 0.04592241326820582, 0.03061494217880388, 0.013312701766627279, 0.9718272289637914, 0.25326353089710446, 0.6078324741530508, 0.1052017743726434, 0.03506725812421447, 0.9827899758183478, 0.3878958463158581, 0.035963853300808035, 0.08220309325898979, 0.4932185595539388, 0.9729978658159126, 0.9689564327346813, 0.9746204786545435, 0.013169601714359781, 0.3753336488592538, 0.5926320771461902, 0.01646200214294973, 0.9841174797621453, 0.5336440269840321, 0.022235167791001337, 0.008894067116400535, 0.4313622551454259, 0.9601721358314523, 0.19951843717629514, 0.2108899543210581, 0.22122769717993349, 0.3680236457759641, 0.016634511280674266, 0.9648016542791074, 0.016634511280674266, 0.9746003311991013, 0.09834931304528034, 0.11122838975359087, 0.43203448230605296, 0.35710167236679174, 0.01861737906702182, 0.6516082673457636, 0.01861737906702182, 0.3164954441393709, 0.957481777918205, 0.024550814818415513, 0.9740729943409999, 0.1576828788474174, 0.09543963719712106, 0.692974757039966, 0.05394414276359017, 0.0626526347852682, 0.0104421057975447, 0.8144842522084866, 0.1148631637729917, 0.13234888306912077, 0.009358001833170154, 0.002673714809477187, 0.8555887390326998, 0.5828972800525671, 0.018803138066211846, 0.15669281721843203, 0.2381730821720167, 0.9614162177454048, 0.017480294868098267, 0.9628090809218769, 0.012813354728121942, 0.9866283140653895, 0.007880371845425518, 0.9456446214510621, 0.03940185922712759, 0.015043885102785022, 0.9327208763726713, 0.007521942551392511, 0.03760971275696255, 0.9275341920235762, 0.18684602578796, 0.13222949517301785, 0.01149821697156677, 0.6697711385937644, 0.1296256114666671, 0.24552615818980475, 0.14945070498509855, 0.4742772372486291, 0.9856436494839462, 0.1376941295119586, 0.21280001833666332, 0.63840005500999, 0.008345098758300522, 0.04862479218118087, 0.9044211345699642, 0.02917487530870852, 0.009724958436236174, 0.020188988615836123, 0.08075595446334449, 0.7335332530420459, 0.16151190892668899, 0.01718941641503661, 0.9797967356570866, 0.23310482785683548, 0.10989227598965101, 0.04995103454075046, 0.6060725524277722, 0.02982414531292072, 0.8947243593876216, 0.06958967239681502, 0.9463077240012772, 0.97463609831662, 0.9678532074240433, 0.021040287117913985, 0.02132921353707362, 0.879830058404287, 0.005332303384268405, 0.0959814609168313, 0.062447026949709744, 0.12489405389941949, 0.8118113503462266, 0.008921003849958534, 0.9780185779181849, 0.017782155962148816, 0.9841132442071009, 0.9841197029385638, 0.041226587853855454, 0.9172915797482838, 0.020613293926927727, 0.020613293926927727, 0.09207398058039387, 0.6793013678375727, 0.2087010226488928, 0.02046088457342086, 0.9689182668605829, 0.23520350896881936, 0.0034087465067944834, 0.606756878209418, 0.15680233931254625, 0.9463119989361574, 0.9655722826677814, 0.03135077714007841, 0.909172537062274, 0.06270155428015682, 0.3642066816353521, 0.006172994603989019, 0.46708992503516905, 0.16255552457171082, 0.22808531533072443, 0.2934222546181715, 0.2946101989688524, 0.1853193187062136, 0.7423900594364178, 0.2417083914444151, 0.017264885103172506, 0.9727871811154776, 0.9845152975543784, 0.9610861066191753, 0.9820799203416165, 0.04958139221301671, 0.1519429761366641, 0.46382592715402726, 0.33427454750066105, 0.12149347542261463, 0.11182922169581573, 0.35481617254104497, 0.41142108722658133, 0.9812692608939357, 0.014867716074150541, 0.12376853101509505, 0.006876029500838614, 0.8251235401006337, 0.04125617700503168, 0.04788822923916852, 0.00798137153986142, 0.03192548615944568, 0.9138670413141325, 0.9681507482150613, 0.9397810887685943, 0.9496780563051721, 0.03274751918293697, 0.010915839727645656, 0.1114110810567379, 0.42972845550456046, 0.0663161196766297, 0.3925914284856478, 0.9689108593410062, 0.012059694087551788, 0.9888949151792467, 0.9629711883153513, 0.9469617595405114, 0.3099592882919192, 0.07981784247860581, 0.3645014806522998, 0.24610501430903456, 0.07789509686451107, 0.10386012915268143, 0.7984247428612385, 0.012982516144085179, 0.9367884766835731, 0.3022699014208434, 0.1168232321707584, 0.19770085444282193, 0.38314752369290694, 0.4044881712534651, 0.12349724611169259, 0.14222997445447744, 0.32955725788232576, 0.9252928001589577, 0.05047051637230678, 0.06973179801745594, 0.9204597338304183, 0.006973179801745593, 0.18324908716609342, 0.10616812192956207, 0.4203094142142937, 0.290871566930307, 0.1071969336546216, 0.007656923832472972, 0.030627695329891888, 0.8575754692369728, 0.2512817505856952, 0.20005893219707271, 0.2532146871286621, 0.29477282280245015, 0.6570438320241165, 0.1271697739401516, 0.08477984929343439, 0.1271697739401516, 0.7485308863194506, 0.04217075415884229, 0.010542688539710573, 0.2003110822545009, 0.9798532928838998, 0.18213881853867805, 0.27124974588824635, 0.3877794201146049, 0.1576577945415439, 0.9750798976586346, 0.9800351115865212, 0.87812474472415, 0.020907732017241668, 0.08363092806896667, 0.9491592571319182, 0.012114187823818184, 0.7389654572529092, 0.23622666256445457, 0.012114187823818184, 0.9760936409795511, 0.01841686115055757, 0.2784484155695059, 0.3100902809751316, 0.10125396929800215, 0.3100902809751316, 0.08428430649189617, 0.011237907532252822, 0.09552221402414898, 0.8147482960883295, 0.06995834655720962, 0.8226136612416718, 0.0844324872242185, 0.02171121100051333, 0.9837923436614205, 0.02241893942485627, 0.9640143952688196, 0.22236425746881266, 0.005490475493057103, 0.532576122826539, 0.23883568394798396, 0.1286969930143354, 0.4186942172733045, 0.14928851189662906, 0.3037249035138315, 0.15151725048074602, 0.44410228589184175, 0.2716861043103032, 0.1341014745634189, 0.06798524214496104, 0.34404652843056044, 0.3852497054881126, 0.20395572643488316, 0.9750917964754892, 0.9040057356179639, 0.04886517489826832, 0.02443258744913416, 0.008047268070994425, 0.9334830962353533, 0.0643781445679554, 0.18491227914600994, 0.6798245556838601, 0.027192982227354404, 0.10333333246394674, 0.03101896771015725, 0.8788707517877887, 0.09305690313047175, 0.6435064008375111, 0.052284895068047774, 0.2815340503664111, 0.024131490031406667, 0.29949738462092373, 0.09440678428268248, 0.0032554063545752582, 0.6022501755964227, 0.2025675730214392, 0.01983179036573531, 0.37538746049427546, 0.4037185895881831, 0.9732792570082524, 0.9682251841562065, 0.23311382481598644, 0.09641880712284255, 0.416187509226447, 0.2550826669452417, 0.0238401769708806, 0.9774472558061046, 0.9403299634451476, 0.04274227106568853, 0.04274227106568853, 0.44014635584537665, 0.09019392537815096, 0.279601168672268, 0.189407243294117, 0.4829871510622742, 0.12693893072790538, 0.3003189336733371, 0.0897860729538843, 0.9790270321241672, 0.20007595002130607, 0.042873417861708445, 0.7467120277580888, 0.010718354465427111, 0.9610964200054943, 0.9689525390071076], \"Term\": [\"about\", \"about\", \"about\", \"about\", \"acne\", \"acne\", \"acne\", \"active\", \"active\", \"adjusting\", \"adjusting\", \"adjusts\", \"adult\", \"adult\", \"adversely\", \"advice\", \"advice\", \"advice\", \"advice\", \"advised\", \"advised\", \"advised\", \"advised\", \"affect\", \"affect\", \"affect\", \"affect\", \"affected\", \"affected\", \"affected\", \"affected\", \"after\", \"after\", \"after\", \"after\", \"all\", \"all\", \"all\", \"all\", \"alleviates\", \"amaryl\", \"anafortan\", \"ankle\", \"ankle\", \"antibiotic\", \"antibiotic\", \"antibiotic\", \"anxiety\", \"anxiety\", \"appear\", \"appear\", \"appear\", \"application\", \"application\", \"application\", \"applying\", \"applying\", \"applying\", \"area\", \"area\", \"area\", \"area\", \"asthakind\", \"attack\", \"attack\", \"attack\", \"attack\", \"away\", \"away\", \"away\", \"away\", \"azulix\", \"baby\", \"baby\", \"baby\", \"back\", \"back\", \"back\", \"back\", \"bacteria\", \"bacteria\", \"bacteria\", \"bacteria\", \"bacterial\", \"bacterial\", \"bacterial\", \"balanced\", \"beating\", \"beating\", \"bedtime\", \"bedtime\", \"behave\", \"behavior\", \"behavior\", \"beneficial\", \"beneficial\", \"better\", \"better\", \"better\", \"better\", \"blindness\", \"blindness\", \"bloating\", \"bloating\", \"blocker\", \"blood\", \"blood\", \"blood\", \"blood\", \"body\", \"body\", \"body\", \"body\", \"broad\", \"build\", \"burning\", \"burning\", \"burning\", \"but\", \"but\", \"but\", \"but\", \"calorie\", \"can\", \"can\", \"can\", \"can\", \"cancer\", \"cause\", \"cause\", \"cause\", \"cause\", \"cessation\", \"cessation\", \"change\", \"change\", \"change\", \"change\", \"channel\", \"channel\", \"checked\", \"checked\", \"checked\", \"cholesterol\", \"cholesterol\", \"cholesterol\", \"cholesterol\", \"clean\", \"clean\", \"clean\", \"cold\", \"cold\", \"come\", \"come\", \"come\", \"come\", \"complete\", \"complete\", \"complete\", \"completion\", \"completion\", \"completion\", \"component\", \"concerned\", \"concerned\", \"condition\", \"condition\", \"condition\", \"condition\", \"consistent\", \"consult\", \"consult\", \"consult\", \"consult\", \"contains\", \"contains\", \"control\", \"control\", \"control\", \"control\", \"cough\", \"cough\", \"cough\", \"cough\", \"couple\", \"course\", \"course\", \"course\", \"course\", \"cream\", \"cream\", \"cream\", \"cutting\", \"day\", \"day\", \"day\", \"day\", \"delusion\", \"depend\", \"depend\", \"depend\", \"depend\", \"depression\", \"diabetes\", \"diabetes\", \"diabetes\", \"diet\", \"diet\", \"diet\", \"diet\", \"difficulty\", \"difficulty\", \"difficulty\", \"disease\", \"disease\", \"disease\", \"disease\", \"dose\", \"dose\", \"dose\", \"dose\", \"driving\", \"driving\", \"driving\", \"driving\", \"duration\", \"duration\", \"duration\", \"duration\", \"dyspepsia\", \"each\", \"each\", \"each\", \"each\", \"earlier\", \"early\", \"early\", \"early\", \"early\", \"eating\", \"eating\", \"eating\", \"eating\", \"engaging\", \"especially\", \"especially\", \"especially\", \"exercise\", \"exercise\", \"exercise\", \"exercise\", \"exercising\", \"expectorant\", \"external\", \"external\", \"external\", \"eye\", \"eye\", \"eye\", \"eye\", \"fatty\", \"feel\", \"feel\", \"feel\", \"feel\", \"find\", \"find\", \"find\", \"food\", \"food\", \"food\", \"food\", \"foot\", \"foot\", \"foot\", \"football\", \"forming\", \"function\", \"function\", \"function\", \"function\", \"gain\", \"gain\", \"gain\", \"gel\", \"gel\", \"get\", \"get\", \"get\", \"get\", \"given\", \"given\", \"given\", \"given\", \"gonorrhea\", \"gram\", \"habit\", \"habit\", \"hair\", \"hair\", \"hair\", \"hallucination\", \"hand\", \"hand\", \"hand\", \"healthcare\", \"healthcare\", \"healthcare\", \"healthcare\", \"hearing\", \"hearing\", \"heart\", \"heart\", \"heart\", \"heart\", \"heartburn\", \"heartburn\", \"heartburn\", \"help\", \"help\", \"help\", \"help\", \"high\", \"high\", \"high\", \"high\", \"hour\", \"hour\", \"hour\", \"hour\", \"how\", \"how\", \"how\", \"how\", \"however\", \"however\", \"however\", \"however\", \"hypertension\", \"hypertension\", \"hypertension\", \"hypoglycemia\", \"hypoglycemia\", \"ill\", \"ill\", \"immune\", \"include\", \"include\", \"include\", \"include\", \"infection\", \"infection\", \"infection\", \"infection\", \"inform\", \"inform\", \"inform\", \"inform\", \"keeping\", \"keeping\", \"keeping\", \"kidney\", \"kidney\", \"kidney\", \"kidney\", \"kill\", \"kill\", \"kill\", \"killing\", \"killing\", \"killing\", \"know\", \"know\", \"know\", \"know\", \"layer\", \"le\", \"le\", \"le\", \"le\", \"let\", \"let\", \"let\", \"let\", \"level\", \"level\", \"level\", \"level\", \"lipid\", \"lipid\", \"liver\", \"liver\", \"liver\", \"liver\", \"longer\", \"longer\", \"longer\", \"longer\", \"lower\", \"lower\", \"lower\", \"lower\", \"maintain\", \"maintain\", \"meant\", \"medication\", \"medication\", \"medication\", \"medication\", \"mellitus\", \"mellitus\", \"microorganism\", \"microorganism\", \"missed\", \"missed\", \"missed\", \"moderation\", \"modification\", \"modifying\", \"monitor\", \"monitor\", \"monitor\", \"monitor\", \"mood\", \"mood\", \"most\", \"most\", \"most\", \"most\", \"much\", \"much\", \"much\", \"much\", \"mucus\", \"mucus\", \"must\", \"must\", \"must\", \"must\", \"narrowing\", \"need\", \"need\", \"need\", \"need\", \"negative\", \"neuropathic\", \"new\", \"nose\", \"nose\", \"nose\", \"nose\", \"object\", \"often\", \"often\", \"often\", \"often\", \"oil\", \"on\", \"on\", \"on\", \"on\", \"orally\", \"orally\", \"orally\", \"organ\", \"pain\", \"pain\", \"pain\", \"pain\", \"persist\", \"persist\", \"persist\", \"persist\", \"pimple\", \"pimple\", \"positive\", \"pregnancy\", \"pregnancy\", \"pregnancy\", \"pregnancy\", \"prescribe\", \"prescribe\", \"prescribe\", \"prescribe\", \"pressure\", \"pressure\", \"pressure\", \"pressure\", \"preventing\", \"preventing\", \"preventing\", \"preventing\", \"previous\", \"previous\", \"properly\", \"recommend\", \"recommend\", \"recommends\", \"recommends\", \"recommends\", \"redness\", \"redness\", \"redness\", \"redness\", \"reflux\", \"regular\", \"regular\", \"regular\", \"regular\", \"regularly\", \"regularly\", \"regularly\", \"regularly\", \"repeated\", \"resolve\", \"resolve\", \"resolve\", \"resolve\", \"respiratory\", \"respiratory\", \"respiratory\", \"respiratory\", \"respond\", \"respond\", \"respond\", \"respond\", \"return\", \"return\", \"risk\", \"risk\", \"risk\", \"risk\", \"runny\", \"runny\", \"runny\", \"say\", \"schizophrenia\", \"seek\", \"seek\", \"seen\", \"seen\", \"seen\", \"seen\", \"self\", \"self\", \"self\", \"self\", \"sexually\", \"sexually\", \"sharp\", \"shaving\", \"site\", \"site\", \"site\", \"site\", \"skin\", \"skin\", \"skin\", \"skin\", \"sleep\", \"sleepiness\", \"sleepiness\", \"sleepiness\", \"sleepiness\", \"smallest\", \"snacking\", \"sneezing\", \"sneezing\", \"sneezing\", \"so\", \"so\", \"so\", \"so\", \"some\", \"some\", \"some\", \"some\", \"soon\", \"soon\", \"soon\", \"sp\", \"spectrum\", \"sport\", \"statin\", \"stomach\", \"stomach\", \"stomach\", \"stomach\", \"stop\", \"stop\", \"stop\", \"stop\", \"stopped\", \"stopped\", \"straight\", \"straight\", \"straight\", \"straight\", \"stroke\", \"stroke\", \"stroke\", \"stroke\", \"stuffiness\", \"stuffy\", \"suddenly\", \"suddenly\", \"suddenly\", \"sugar\", \"sugar\", \"sugar\", \"sugar\", \"suicidal\", \"support\", \"support\", \"survive\", \"swallow\", \"symptom\", \"symptom\", \"symptom\", \"symptom\", \"syrup\", \"syrup\", \"syrup\", \"syrup\", \"system\", \"tablet\", \"tablet\", \"tablet\", \"tablet\", \"take\", \"take\", \"take\", \"take\", \"talking\", \"talking\", \"team\", \"team\", \"team\", \"tell\", \"tell\", \"tell\", \"tell\", \"term\", \"term\", \"term\", \"term\", \"that\", \"that\", \"that\", \"that\", \"them\", \"them\", \"them\", \"them\", \"there\", \"there\", \"there\", \"there\", \"thereafter\", \"these\", \"these\", \"these\", \"these\", \"thins\", \"those\", \"thought\", \"thought\", \"thought\", \"toothache\", \"tract\", \"tract\", \"tract\", \"tract\", \"transmitted\", \"transmitted\", \"treat\", \"treat\", \"treat\", \"treat\", \"try\", \"try\", \"try\", \"try\", \"type\", \"type\", \"type\", \"type\", \"typhoid\", \"unexplained\", \"unexplained\", \"until\", \"until\", \"until\", \"until\", \"use\", \"use\", \"use\", \"use\", \"using\", \"using\", \"using\", \"using\", \"usually\", \"usually\", \"usually\", \"usually\", \"viral\", \"vitamin\", \"vitamin\", \"vitamin\", \"wash\", \"wash\", \"wash\", \"water\", \"water\", \"water\", \"water\", \"watery\", \"watery\", \"watery\", \"way\", \"way\", \"way\", \"way\", \"weight\", \"weight\", \"weight\", \"weight\", \"while\", \"while\", \"while\", \"while\", \"whole\", \"widely\", \"will\", \"will\", \"will\", \"will\", \"windpipe\", \"windpipe\", \"withdrawal\", \"withdrawal\", \"withdrawal\", \"without\", \"without\", \"without\", \"without\", \"work\", \"work\", \"work\", \"work\", \"workload\", \"worsen\", \"worsen\", \"worsen\", \"worsen\", \"wrestling\", \"year\"]}, \"R\": 30, \"lambda.step\": 0.01, \"plot.opts\": {\"xlab\": \"PC1\", \"ylab\": \"PC2\"}, \"topic.order\": [1, 2, 3, 4]};\n",
       "\n",
       "function LDAvis_load_lib(url, callback){\n",
       "  var s = document.createElement('script');\n",
       "  s.src = url;\n",
       "  s.async = true;\n",
       "  s.onreadystatechange = s.onload = callback;\n",
       "  s.onerror = function(){console.warn(\"failed to load library \" + url);};\n",
       "  document.getElementsByTagName(\"head\")[0].appendChild(s);\n",
       "}\n",
       "\n",
       "if(typeof(LDAvis) !== \"undefined\"){\n",
       "   // already loaded: just create the visualization\n",
       "   !function(LDAvis){\n",
       "       new LDAvis(\"#\" + \"ldavis_el32321403285687599048917961487\", ldavis_el32321403285687599048917961487_data);\n",
       "   }(LDAvis);\n",
       "}else if(typeof define === \"function\" && define.amd){\n",
       "   // require.js is available: use it to load d3/LDAvis\n",
       "   require.config({paths: {d3: \"https://d3js.org/d3.v5\"}});\n",
       "   require([\"d3\"], function(d3){\n",
       "      window.d3 = d3;\n",
       "      LDAvis_load_lib(\"https://cdn.jsdelivr.net/gh/bmabey/pyLDAvis@3.4.0/pyLDAvis/js/ldavis.v3.0.0.js\", function(){\n",
       "        new LDAvis(\"#\" + \"ldavis_el32321403285687599048917961487\", ldavis_el32321403285687599048917961487_data);\n",
       "      });\n",
       "    });\n",
       "}else{\n",
       "    // require.js not available: dynamically load d3 & LDAvis\n",
       "    LDAvis_load_lib(\"https://d3js.org/d3.v5.js\", function(){\n",
       "         LDAvis_load_lib(\"https://cdn.jsdelivr.net/gh/bmabey/pyLDAvis@3.4.0/pyLDAvis/js/ldavis.v3.0.0.js\", function(){\n",
       "                 new LDAvis(\"#\" + \"ldavis_el32321403285687599048917961487\", ldavis_el32321403285687599048917961487_data);\n",
       "            })\n",
       "         });\n",
       "}\n",
       "</script>"
      ],
      "text/plain": [
       "PreparedData(topic_coordinates=              x         y  topics  cluster       Freq\n",
       "topic                                                \n",
       "0     -0.034847  0.012302       1        1  23.869233\n",
       "1      0.172824  0.036197       2        1  23.182345\n",
       "2     -0.032808 -0.151012       3        1  24.585198\n",
       "3     -0.105170  0.102514       4        1  28.363224, topic_info=          Term         Freq        Total Category  logprob  loglift\n",
       "410      blood  1620.000000  1620.000000  Default  30.0000  30.0000\n",
       "411   pressure   748.000000   748.000000  Default  29.0000  29.0000\n",
       "162  infection   641.000000   641.000000  Default  28.0000  28.0000\n",
       "148        all   507.000000   507.000000  Default  27.0000  27.0000\n",
       "409       high   531.000000   531.000000  Default  26.0000  26.0000\n",
       "..         ...          ...          ...      ...      ...      ...\n",
       "112       food   244.010727   736.240998   Topic4  -4.9592   0.1557\n",
       "147       know   233.852373  1083.285797   Topic4  -5.0017  -0.2730\n",
       "132    include   212.820421   622.690143   Topic4  -5.0960   0.1865\n",
       "146    disease   210.192301   623.851758   Topic4  -5.1084   0.1722\n",
       "131       most   216.381205   855.424801   Topic4  -5.0794  -0.1145\n",
       "\n",
       "[360 rows x 6 columns], token_table=      Topic      Freq       Term\n",
       "term                            \n",
       "93        1  0.236420      about\n",
       "93        2  0.034388      about\n",
       "93        3  0.713560      about\n",
       "93        4  0.017194      about\n",
       "8         1  0.008814       acne\n",
       "...     ...       ...        ...\n",
       "198       2  0.042873     worsen\n",
       "198       3  0.746712     worsen\n",
       "198       4  0.010718     worsen\n",
       "1521      3  0.961096  wrestling\n",
       "990       1  0.968953       year\n",
       "\n",
       "[758 rows x 3 columns], R=30, lambda_step=0.01, plot_opts={'xlab': 'PC1', 'ylab': 'PC2'}, topic_order=[1, 2, 3, 4])"
      ]
     },
     "execution_count": 21,
     "metadata": {},
     "output_type": "execute_result"
    }
   ],
   "source": [
    "vis4 = pyLDAvis.gensim_models.prepare(Lda4, Corpus, D, sort_topics = False)\n",
    "vis4"
   ]
  },
  {
   "cell_type": "code",
   "execution_count": 43,
   "metadata": {},
   "outputs": [],
   "source": [
    "# Lda5, Coherence_score = train_model_get_coherence_score(Corpus, Id2word, 5, Word2id)"
   ]
  },
  {
   "cell_type": "code",
   "execution_count": 44,
   "metadata": {},
   "outputs": [],
   "source": [
    "# print('This model has coherence score = {}'.format(Coherence_score))"
   ]
  },
  {
   "cell_type": "code",
   "execution_count": 45,
   "metadata": {},
   "outputs": [],
   "source": [
    "# vis5 = pyLDAvis.gensim_models.prepare(Lda5, Corpus, D, sort_topics = False)\n",
    "# vis5"
   ]
  },
  {
   "cell_type": "code",
   "execution_count": null,
   "metadata": {},
   "outputs": [],
   "source": []
  },
  {
   "cell_type": "markdown",
   "metadata": {},
   "source": [
    "# Save model\n",
    "- best coherence score (and visually best separations) with LDA model with 4 topics\n",
    "- to show on streamlit\n",
    "    - good instr: https://medium.com/@lelwonger/incorporating-functions-with-html-output-in-streamlit-pyldavis-lime-25b13717d913\n",
    "    "
   ]
  },
  {
   "cell_type": "code",
   "execution_count": 35,
   "metadata": {},
   "outputs": [],
   "source": [
    "Lda4.save('../models/lda4.model')"
   ]
  },
  {
   "cell_type": "code",
   "execution_count": 36,
   "metadata": {},
   "outputs": [],
   "source": [
    "# for visualization\n",
    "pyLDAvis.save_html(vis3, '../models/vis4.html')"
   ]
  },
  {
   "cell_type": "code",
   "execution_count": 3,
   "metadata": {},
   "outputs": [],
   "source": [
    "tempfile = datapath('/Users/carmen/Documents/machine_learning_exercises/streamlit_app/models/lda4.model')"
   ]
  },
  {
   "cell_type": "code",
   "execution_count": 38,
   "metadata": {},
   "outputs": [],
   "source": [
    "Lda4.save(tempfile)"
   ]
  },
  {
   "cell_type": "code",
   "execution_count": 81,
   "metadata": {},
   "outputs": [],
   "source": [
    "# save Corpus as well\n",
    "corpora.MmCorpus.serialize('/Users/carmen/Documents/machine_learning_exercises/streamlit_app/models/lda4_corpus', Corpus)"
   ]
  },
  {
   "cell_type": "code",
   "execution_count": 98,
   "metadata": {},
   "outputs": [],
   "source": [
    "# corpora.Dictionary.save('/Users/carmen/Documents/machine_learning_exercises/streamlit_app/models/lda4_dictionary')"
   ]
  },
  {
   "cell_type": "code",
   "execution_count": null,
   "metadata": {},
   "outputs": [],
   "source": []
  },
  {
   "cell_type": "markdown",
   "metadata": {},
   "source": [
    "# Check how to use model"
   ]
  },
  {
   "cell_type": "markdown",
   "metadata": {},
   "source": [
    "## from model, get topic-term matrix"
   ]
  },
  {
   "cell_type": "code",
   "execution_count": 4,
   "metadata": {},
   "outputs": [],
   "source": [
    "lda_fromload = models.LdaModel.load(tempfile)"
   ]
  },
  {
   "cell_type": "code",
   "execution_count": 5,
   "metadata": {},
   "outputs": [
    {
     "data": {
      "text/plain": [
       "<gensim.models.ldamodel.LdaModel at 0x7fbad920eee0>"
      ]
     },
     "execution_count": 5,
     "metadata": {},
     "output_type": "execute_result"
    }
   ],
   "source": [
    "lda_fromload"
   ]
  },
  {
   "cell_type": "code",
   "execution_count": 6,
   "metadata": {},
   "outputs": [],
   "source": [
    "# topics-term matrix\n",
    "#https://stackoverflow.com/questions/47424335/access-term-topic-matrix-generated-by-gensim-lda\n",
    "\n",
    "df_topic_term_matrix = pd.DataFrame(lda_fromload.get_topics(), \n",
    "                                     columns = lda_fromload.id2word.values(), \n",
    "                                     index=[f'topic {i}' for i in range(lda_fromload.num_topics)])"
   ]
  },
  {
   "cell_type": "code",
   "execution_count": 7,
   "metadata": {},
   "outputs": [
    {
     "data": {
      "text/html": [
       "<div>\n",
       "<style scoped>\n",
       "    .dataframe tbody tr th:only-of-type {\n",
       "        vertical-align: middle;\n",
       "    }\n",
       "\n",
       "    .dataframe tbody tr th {\n",
       "        vertical-align: top;\n",
       "    }\n",
       "\n",
       "    .dataframe thead th {\n",
       "        text-align: right;\n",
       "    }\n",
       "</style>\n",
       "<table border=\"1\" class=\"dataframe\">\n",
       "  <thead>\n",
       "    <tr style=\"text-align: right;\">\n",
       "      <th></th>\n",
       "      <th>2</th>\n",
       "      <th>3d</th>\n",
       "      <th>3l</th>\n",
       "      <th>6l</th>\n",
       "      <th>ab</th>\n",
       "      <th>abd</th>\n",
       "      <th>abdomen</th>\n",
       "      <th>abdominal</th>\n",
       "      <th>abel</th>\n",
       "      <th>abhayrab</th>\n",
       "      <th>...</th>\n",
       "      <th>xl</th>\n",
       "      <th>xp</th>\n",
       "      <th>xps</th>\n",
       "      <th>xr</th>\n",
       "      <th>year</th>\n",
       "      <th>yellow</th>\n",
       "      <th>yellowing</th>\n",
       "      <th>yellowness</th>\n",
       "      <th>yourself</th>\n",
       "      <th>zone</th>\n",
       "    </tr>\n",
       "  </thead>\n",
       "  <tbody>\n",
       "    <tr>\n",
       "      <th>topic 0</th>\n",
       "      <td>0.000009</td>\n",
       "      <td>0.000008</td>\n",
       "      <td>0.000105</td>\n",
       "      <td>0.000095</td>\n",
       "      <td>0.000319</td>\n",
       "      <td>0.000060</td>\n",
       "      <td>0.000047</td>\n",
       "      <td>0.000544</td>\n",
       "      <td>0.000078</td>\n",
       "      <td>0.000009</td>\n",
       "      <td>...</td>\n",
       "      <td>0.000009</td>\n",
       "      <td>0.000119</td>\n",
       "      <td>0.000008</td>\n",
       "      <td>0.000009</td>\n",
       "      <td>0.000571</td>\n",
       "      <td>0.000243</td>\n",
       "      <td>0.000039</td>\n",
       "      <td>0.000009</td>\n",
       "      <td>0.000300</td>\n",
       "      <td>0.000075</td>\n",
       "    </tr>\n",
       "    <tr>\n",
       "      <th>topic 1</th>\n",
       "      <td>0.000009</td>\n",
       "      <td>0.000009</td>\n",
       "      <td>0.000010</td>\n",
       "      <td>0.000010</td>\n",
       "      <td>0.000009</td>\n",
       "      <td>0.000091</td>\n",
       "      <td>0.000171</td>\n",
       "      <td>0.000014</td>\n",
       "      <td>0.000010</td>\n",
       "      <td>0.000009</td>\n",
       "      <td>...</td>\n",
       "      <td>0.000280</td>\n",
       "      <td>0.000009</td>\n",
       "      <td>0.000009</td>\n",
       "      <td>0.000110</td>\n",
       "      <td>0.000009</td>\n",
       "      <td>0.000040</td>\n",
       "      <td>0.000014</td>\n",
       "      <td>0.000011</td>\n",
       "      <td>0.000052</td>\n",
       "      <td>0.000009</td>\n",
       "    </tr>\n",
       "    <tr>\n",
       "      <th>topic 2</th>\n",
       "      <td>0.000072</td>\n",
       "      <td>0.000009</td>\n",
       "      <td>0.000009</td>\n",
       "      <td>0.000019</td>\n",
       "      <td>0.000158</td>\n",
       "      <td>0.000008</td>\n",
       "      <td>0.000344</td>\n",
       "      <td>0.001265</td>\n",
       "      <td>0.000008</td>\n",
       "      <td>0.000072</td>\n",
       "      <td>...</td>\n",
       "      <td>0.000009</td>\n",
       "      <td>0.000094</td>\n",
       "      <td>0.000008</td>\n",
       "      <td>0.000008</td>\n",
       "      <td>0.000010</td>\n",
       "      <td>0.000008</td>\n",
       "      <td>0.000578</td>\n",
       "      <td>0.000009</td>\n",
       "      <td>0.000054</td>\n",
       "      <td>0.000008</td>\n",
       "    </tr>\n",
       "    <tr>\n",
       "      <th>topic 3</th>\n",
       "      <td>0.000007</td>\n",
       "      <td>0.000149</td>\n",
       "      <td>0.000007</td>\n",
       "      <td>0.000008</td>\n",
       "      <td>0.000008</td>\n",
       "      <td>0.000007</td>\n",
       "      <td>0.000027</td>\n",
       "      <td>0.001174</td>\n",
       "      <td>0.000060</td>\n",
       "      <td>0.000007</td>\n",
       "      <td>...</td>\n",
       "      <td>0.000007</td>\n",
       "      <td>0.000008</td>\n",
       "      <td>0.000092</td>\n",
       "      <td>0.000007</td>\n",
       "      <td>0.000008</td>\n",
       "      <td>0.000008</td>\n",
       "      <td>0.001414</td>\n",
       "      <td>0.000176</td>\n",
       "      <td>0.000907</td>\n",
       "      <td>0.000007</td>\n",
       "    </tr>\n",
       "  </tbody>\n",
       "</table>\n",
       "<p>4 rows × 2710 columns</p>\n",
       "</div>"
      ],
      "text/plain": [
       "                2        3d        3l        6l        ab       abd   abdomen  \\\n",
       "topic 0  0.000009  0.000008  0.000105  0.000095  0.000319  0.000060  0.000047   \n",
       "topic 1  0.000009  0.000009  0.000010  0.000010  0.000009  0.000091  0.000171   \n",
       "topic 2  0.000072  0.000009  0.000009  0.000019  0.000158  0.000008  0.000344   \n",
       "topic 3  0.000007  0.000149  0.000007  0.000008  0.000008  0.000007  0.000027   \n",
       "\n",
       "         abdominal      abel  abhayrab  ...        xl        xp       xps  \\\n",
       "topic 0   0.000544  0.000078  0.000009  ...  0.000009  0.000119  0.000008   \n",
       "topic 1   0.000014  0.000010  0.000009  ...  0.000280  0.000009  0.000009   \n",
       "topic 2   0.001265  0.000008  0.000072  ...  0.000009  0.000094  0.000008   \n",
       "topic 3   0.001174  0.000060  0.000007  ...  0.000007  0.000008  0.000092   \n",
       "\n",
       "               xr      year    yellow  yellowing  yellowness  yourself  \\\n",
       "topic 0  0.000009  0.000571  0.000243   0.000039    0.000009  0.000300   \n",
       "topic 1  0.000110  0.000009  0.000040   0.000014    0.000011  0.000052   \n",
       "topic 2  0.000008  0.000010  0.000008   0.000578    0.000009  0.000054   \n",
       "topic 3  0.000007  0.000008  0.000008   0.001414    0.000176  0.000907   \n",
       "\n",
       "             zone  \n",
       "topic 0  0.000075  \n",
       "topic 1  0.000009  \n",
       "topic 2  0.000008  \n",
       "topic 3  0.000007  \n",
       "\n",
       "[4 rows x 2710 columns]"
      ]
     },
     "execution_count": 7,
     "metadata": {},
     "output_type": "execute_result"
    }
   ],
   "source": [
    "df_topic_term_matrix"
   ]
  },
  {
   "cell_type": "code",
   "execution_count": 8,
   "metadata": {},
   "outputs": [
    {
     "data": {
      "text/plain": [
       "take       0.019935\n",
       "tablet     0.012640\n",
       "dose       0.012095\n",
       "blood      0.010926\n",
       "can        0.009837\n",
       "             ...   \n",
       "which      0.003089\n",
       "prevent    0.003084\n",
       "full       0.003029\n",
       "stop       0.003009\n",
       "dos        0.002988\n",
       "Name: topic 0, Length: 80, dtype: float32"
      ]
     },
     "execution_count": 8,
     "metadata": {},
     "output_type": "execute_result"
    }
   ],
   "source": [
    "pd.set_option('display.max_columns', None)\n",
    "df_topic_term_matrix.loc['topic 0'].sort_values(ascending = False)[:80]"
   ]
  },
  {
   "cell_type": "markdown",
   "metadata": {},
   "source": [
    "## from model, get topic probabilities for each entry"
   ]
  },
  {
   "cell_type": "code",
   "execution_count": 12,
   "metadata": {},
   "outputs": [
    {
     "data": {
      "text/plain": [
       "\"Ambrodil Syrup is used for treating various respiratory tract disorders associated with excessive mucus. It works by thinning and loosens mucus in the nose, windpipe and lungs and make it easier to cough out.Ambrodil Syrup should be taken with food. For better results, it is suggested to take it at the same time every day.\\xa0 The dose and how often you take it depends on what you are taking it for. Your doctor will decide how much you need to improve your symptoms.\\xa0 It is advised not to use it for more than 14 days without doctor consultation.The most common side effects of this medicine include vomiting, nausea, and stomach upset. Talk to your doctor if you are worried about side effects or they would not go away. Generally, it is advised not to take alcohol while on treatment.Before taking this medicine, tell your doctor if you have liver or kidney disease or if you have stomach problems. Your doctor should also know about all other medicines you are taking as many of these may make this medicine less effective or change the way it works. You must take doctor's advice before using this medicine if you are pregnant or breastfeeding.\""
      ]
     },
     "execution_count": 12,
     "metadata": {},
     "output_type": "execute_result"
    }
   ],
   "source": [
    "df.iloc[1]['Introduction']"
   ]
  },
  {
   "cell_type": "code",
   "execution_count": 13,
   "metadata": {
    "scrolled": true
   },
   "outputs": [
    {
     "data": {
      "text/plain": [
       "take          0.019935\n",
       "tablet        0.012640\n",
       "dose          0.012095\n",
       "blood         0.010926\n",
       "can           0.009837\n",
       "that          0.008899\n",
       "know          0.008562\n",
       "without       0.008335\n",
       "most          0.008129\n",
       "symptom       0.007955\n",
       "advised       0.007541\n",
       "food          0.007540\n",
       "how           0.007353\n",
       "get           0.007164\n",
       "on            0.006608\n",
       "some          0.006553\n",
       "will          0.006511\n",
       "cause         0.006432\n",
       "these         0.006373\n",
       "so            0.006065\n",
       "treat         0.006025\n",
       "liver         0.005623\n",
       "better        0.005568\n",
       "medication    0.005462\n",
       "way           0.005458\n",
       "feel          0.005413\n",
       "day           0.005408\n",
       "help          0.005366\n",
       "work          0.005339\n",
       "include       0.005299\n",
       "level         0.005253\n",
       "need          0.005176\n",
       "inform        0.005113\n",
       "body          0.005106\n",
       "even          0.005095\n",
       "make          0.005084\n",
       "heart         0.005036\n",
       "change        0.004922\n",
       "while         0.004873\n",
       "same          0.004462\n",
       "an            0.004455\n",
       "dizziness     0.004448\n",
       "however       0.004413\n",
       "nausea        0.004412\n",
       "tell          0.004294\n",
       "let           0.004155\n",
       "avoid         0.004111\n",
       "often         0.004109\n",
       "affect        0.004084\n",
       "but           0.004005\n",
       "Name: topic 0, dtype: float32"
      ]
     },
     "execution_count": 13,
     "metadata": {},
     "output_type": "execute_result"
    }
   ],
   "source": [
    "df_topic_term_matrix.loc['topic 0'].sort_values(ascending = False)[:50]"
   ]
  },
  {
   "cell_type": "code",
   "execution_count": 14,
   "metadata": {},
   "outputs": [
    {
     "data": {
      "text/html": [
       "<div>\n",
       "<style scoped>\n",
       "    .dataframe tbody tr th:only-of-type {\n",
       "        vertical-align: middle;\n",
       "    }\n",
       "\n",
       "    .dataframe tbody tr th {\n",
       "        vertical-align: top;\n",
       "    }\n",
       "\n",
       "    .dataframe thead th {\n",
       "        text-align: right;\n",
       "    }\n",
       "</style>\n",
       "<table border=\"1\" class=\"dataframe\">\n",
       "  <thead>\n",
       "    <tr style=\"text-align: right;\">\n",
       "      <th></th>\n",
       "      <th>Introduction</th>\n",
       "    </tr>\n",
       "  </thead>\n",
       "  <tbody>\n",
       "    <tr>\n",
       "      <th>0</th>\n",
       "      <td>Acnesol Gel is an antibiotic that fights bacte...</td>\n",
       "    </tr>\n",
       "    <tr>\n",
       "      <th>1</th>\n",
       "      <td>Ambrodil Syrup is used for treating various re...</td>\n",
       "    </tr>\n",
       "  </tbody>\n",
       "</table>\n",
       "</div>"
      ],
      "text/plain": [
       "                                        Introduction\n",
       "0  Acnesol Gel is an antibiotic that fights bacte...\n",
       "1  Ambrodil Syrup is used for treating various re..."
      ]
     },
     "execution_count": 14,
     "metadata": {},
     "output_type": "execute_result"
    }
   ],
   "source": [
    "df.head(2)"
   ]
  },
  {
   "cell_type": "code",
   "execution_count": 66,
   "metadata": {},
   "outputs": [
    {
     "data": {
      "text/plain": [
       "1000"
      ]
     },
     "execution_count": 66,
     "metadata": {},
     "output_type": "execute_result"
    }
   ],
   "source": [
    "len(Corpus)"
   ]
  },
  {
   "cell_type": "code",
   "execution_count": 15,
   "metadata": {},
   "outputs": [],
   "source": [
    "lda_corpus = corpora.MmCorpus('/Users/carmen/Documents/machine_learning_exercises/streamlit_app/models/lda4_corpus')"
   ]
  },
  {
   "cell_type": "code",
   "execution_count": 16,
   "metadata": {},
   "outputs": [
    {
     "data": {
      "text/plain": [
       "1000"
      ]
     },
     "execution_count": 16,
     "metadata": {},
     "output_type": "execute_result"
    }
   ],
   "source": [
    "len(lda_corpus)"
   ]
  },
  {
   "cell_type": "code",
   "execution_count": 20,
   "metadata": {},
   "outputs": [],
   "source": [
    "def get_medication_name(text):\n",
    "    \n",
    "    first_sentence = text.partition('.')[0]\n",
    "    name = ' '.join(re.findall(r'\\b[A-Z][a-z]+|\\b[A-Z]\\b', first_sentence))\n",
    "    \n",
    "    return name"
   ]
  },
  {
   "cell_type": "code",
   "execution_count": 21,
   "metadata": {},
   "outputs": [],
   "source": [
    "df['medication_name'] = df['Introduction'].apply(lambda x: get_medication_name(x))"
   ]
  },
  {
   "cell_type": "code",
   "execution_count": 22,
   "metadata": {},
   "outputs": [
    {
     "data": {
      "text/html": [
       "<div>\n",
       "<style scoped>\n",
       "    .dataframe tbody tr th:only-of-type {\n",
       "        vertical-align: middle;\n",
       "    }\n",
       "\n",
       "    .dataframe tbody tr th {\n",
       "        vertical-align: top;\n",
       "    }\n",
       "\n",
       "    .dataframe thead th {\n",
       "        text-align: right;\n",
       "    }\n",
       "</style>\n",
       "<table border=\"1\" class=\"dataframe\">\n",
       "  <thead>\n",
       "    <tr style=\"text-align: right;\">\n",
       "      <th></th>\n",
       "      <th>Introduction</th>\n",
       "      <th>medication_name</th>\n",
       "    </tr>\n",
       "  </thead>\n",
       "  <tbody>\n",
       "    <tr>\n",
       "      <th>0</th>\n",
       "      <td>Acnesol Gel is an antibiotic that fights bacte...</td>\n",
       "      <td>Acnesol Gel</td>\n",
       "    </tr>\n",
       "    <tr>\n",
       "      <th>1</th>\n",
       "      <td>Ambrodil Syrup is used for treating various re...</td>\n",
       "      <td>Ambrodil Syrup</td>\n",
       "    </tr>\n",
       "  </tbody>\n",
       "</table>\n",
       "</div>"
      ],
      "text/plain": [
       "                                        Introduction medication_name\n",
       "0  Acnesol Gel is an antibiotic that fights bacte...     Acnesol Gel\n",
       "1  Ambrodil Syrup is used for treating various re...  Ambrodil Syrup"
      ]
     },
     "execution_count": 22,
     "metadata": {},
     "output_type": "execute_result"
    }
   ],
   "source": [
    "df.head(2)"
   ]
  },
  {
   "cell_type": "code",
   "execution_count": 23,
   "metadata": {},
   "outputs": [],
   "source": [
    "list_topic_estimation = []\n",
    "for i in range(len(lda_corpus)):   \n",
    "    topic_estimation = lda_fromload.get_document_topics(lda_corpus[i])\n",
    "    list_topic_estimation.append(topic_estimation)"
   ]
  },
  {
   "cell_type": "code",
   "execution_count": 24,
   "metadata": {},
   "outputs": [
    {
     "data": {
      "text/plain": [
       "[[(1, 0.99324274)], [(0, 0.5467407), (2, 0.44747737)]]"
      ]
     },
     "execution_count": 24,
     "metadata": {},
     "output_type": "execute_result"
    }
   ],
   "source": [
    "list_topic_estimation[:2]"
   ]
  },
  {
   "cell_type": "code",
   "execution_count": 25,
   "metadata": {},
   "outputs": [],
   "source": [
    "topic_count = 4\n",
    "for i in range(topic_count):\n",
    "    column_name = 'topic' + str(i)\n",
    "    df[column_name] = 0.0"
   ]
  },
  {
   "cell_type": "code",
   "execution_count": 26,
   "metadata": {},
   "outputs": [],
   "source": [
    "df['topic_estimation'] = list_topic_estimation"
   ]
  },
  {
   "cell_type": "code",
   "execution_count": 27,
   "metadata": {},
   "outputs": [],
   "source": [
    "for i in range(len(df)):\n",
    "# for i in range(2):\n",
    "#     print('i: ', i)\n",
    "    for j in df.iloc[i].loc['topic_estimation']:\n",
    "#         print('j: ', j)\n",
    "        for k in range(topic_count):\n",
    "#             print('k: ', k)\n",
    "            if k == j[0]:\n",
    "                estimation = j[1]\n",
    "#                 print('estimation: ', estimation)\n",
    "                column_name = 'topic' + str(k)\n",
    "#                 print('column_name: ', column_name)\n",
    "                df.at[i, column_name] = estimation"
   ]
  },
  {
   "cell_type": "code",
   "execution_count": 28,
   "metadata": {},
   "outputs": [
    {
     "data": {
      "text/html": [
       "<div>\n",
       "<style scoped>\n",
       "    .dataframe tbody tr th:only-of-type {\n",
       "        vertical-align: middle;\n",
       "    }\n",
       "\n",
       "    .dataframe tbody tr th {\n",
       "        vertical-align: top;\n",
       "    }\n",
       "\n",
       "    .dataframe thead th {\n",
       "        text-align: right;\n",
       "    }\n",
       "</style>\n",
       "<table border=\"1\" class=\"dataframe\">\n",
       "  <thead>\n",
       "    <tr style=\"text-align: right;\">\n",
       "      <th></th>\n",
       "      <th>Introduction</th>\n",
       "      <th>medication_name</th>\n",
       "      <th>topic0</th>\n",
       "      <th>topic1</th>\n",
       "      <th>topic2</th>\n",
       "      <th>topic3</th>\n",
       "      <th>topic_estimation</th>\n",
       "    </tr>\n",
       "  </thead>\n",
       "  <tbody>\n",
       "    <tr>\n",
       "      <th>0</th>\n",
       "      <td>Acnesol Gel is an antibiotic that fights bacte...</td>\n",
       "      <td>Acnesol Gel</td>\n",
       "      <td>0.000000</td>\n",
       "      <td>0.993243</td>\n",
       "      <td>0.000000</td>\n",
       "      <td>0.000000</td>\n",
       "      <td>[(1, 0.99324274)]</td>\n",
       "    </tr>\n",
       "    <tr>\n",
       "      <th>1</th>\n",
       "      <td>Ambrodil Syrup is used for treating various re...</td>\n",
       "      <td>Ambrodil Syrup</td>\n",
       "      <td>0.546741</td>\n",
       "      <td>0.000000</td>\n",
       "      <td>0.447477</td>\n",
       "      <td>0.000000</td>\n",
       "      <td>[(0, 0.5467407), (2, 0.44747737)]</td>\n",
       "    </tr>\n",
       "    <tr>\n",
       "      <th>2</th>\n",
       "      <td>Augmentin 625 Duo Tablet is a penicillin-type ...</td>\n",
       "      <td>Augmentin Duo Tablet</td>\n",
       "      <td>0.000000</td>\n",
       "      <td>0.000000</td>\n",
       "      <td>0.993552</td>\n",
       "      <td>0.000000</td>\n",
       "      <td>[(2, 0.9935516)]</td>\n",
       "    </tr>\n",
       "    <tr>\n",
       "      <th>3</th>\n",
       "      <td>Azithral 500 Tablet is an antibiotic used to t...</td>\n",
       "      <td>Azithral Tablet</td>\n",
       "      <td>0.000000</td>\n",
       "      <td>0.992813</td>\n",
       "      <td>0.000000</td>\n",
       "      <td>0.000000</td>\n",
       "      <td>[(1, 0.9928131)]</td>\n",
       "    </tr>\n",
       "    <tr>\n",
       "      <th>4</th>\n",
       "      <td>Alkasol Oral Solution is a medicine used in th...</td>\n",
       "      <td>Alkasol Oral Solution</td>\n",
       "      <td>0.000000</td>\n",
       "      <td>0.000000</td>\n",
       "      <td>0.455564</td>\n",
       "      <td>0.538127</td>\n",
       "      <td>[(2, 0.455564), (3, 0.5381267)]</td>\n",
       "    </tr>\n",
       "  </tbody>\n",
       "</table>\n",
       "</div>"
      ],
      "text/plain": [
       "                                        Introduction        medication_name  \\\n",
       "0  Acnesol Gel is an antibiotic that fights bacte...            Acnesol Gel   \n",
       "1  Ambrodil Syrup is used for treating various re...         Ambrodil Syrup   \n",
       "2  Augmentin 625 Duo Tablet is a penicillin-type ...   Augmentin Duo Tablet   \n",
       "3  Azithral 500 Tablet is an antibiotic used to t...        Azithral Tablet   \n",
       "4  Alkasol Oral Solution is a medicine used in th...  Alkasol Oral Solution   \n",
       "\n",
       "     topic0    topic1    topic2    topic3                   topic_estimation  \n",
       "0  0.000000  0.993243  0.000000  0.000000                  [(1, 0.99324274)]  \n",
       "1  0.546741  0.000000  0.447477  0.000000  [(0, 0.5467407), (2, 0.44747737)]  \n",
       "2  0.000000  0.000000  0.993552  0.000000                   [(2, 0.9935516)]  \n",
       "3  0.000000  0.992813  0.000000  0.000000                   [(1, 0.9928131)]  \n",
       "4  0.000000  0.000000  0.455564  0.538127    [(2, 0.455564), (3, 0.5381267)]  "
      ]
     },
     "execution_count": 28,
     "metadata": {},
     "output_type": "execute_result"
    }
   ],
   "source": [
    "df.head()"
   ]
  },
  {
   "cell_type": "code",
   "execution_count": 33,
   "metadata": {},
   "outputs": [
    {
     "data": {
      "text/plain": [
       "\"['Acnesol Gel is an antibiotic that fights bacteria. It is used to treat acne, which appears as spots or pimples on your face, chest or back. This medicine works by attacking the bacteria that cause these pimples.Acnesol Gel is only meant for external use and should be used as advised by your doctor. You should normally wash and dry the affected area before applying a thin layer of the medicine. It should not be applied to broken or damaged skin. Avoid any contact with your eyes, nose, or mouth. Rinse it off with water if you accidentally get it in these areas. It may take several weeks for your symptoms to improve, but you should keep using this medicine regularly. Do not stop using it as soon as your acne starts to get better. Ask your doctor when you should stop treatment.Common side effects like minor itching, burning, or redness of the skin and oily skin may be seen in some people. These are usually temporary and resolve on their own. Consult your doctor if they bother you or do not go away.It is a safe medicine, but you should inform your doctor if you have any problems with your bowels (intestines). Also, inform the doctor if you have ever had bloody diarrhea caused by taking antibiotics or if you are using any other medicines to treat skin conditions. Consult your doctor about using this medicine if you are pregnant or breastfeeding.'\\n 'Acnesol Gel' 0.0 0.9932427406311035 0.0 0.0 list([(1, 0.99324274)])]\""
      ]
     },
     "execution_count": 33,
     "metadata": {},
     "output_type": "execute_result"
    }
   ],
   "source": [
    "str(df.iloc[0].values)"
   ]
  },
  {
   "cell_type": "code",
   "execution_count": null,
   "metadata": {},
   "outputs": [],
   "source": []
  },
  {
   "cell_type": "code",
   "execution_count": null,
   "metadata": {},
   "outputs": [],
   "source": []
  },
  {
   "cell_type": "code",
   "execution_count": null,
   "metadata": {},
   "outputs": [],
   "source": []
  },
  {
   "cell_type": "code",
   "execution_count": null,
   "metadata": {},
   "outputs": [],
   "source": []
  },
  {
   "cell_type": "code",
   "execution_count": null,
   "metadata": {},
   "outputs": [],
   "source": []
  },
  {
   "cell_type": "code",
   "execution_count": 113,
   "metadata": {},
   "outputs": [],
   "source": [
    "import re\n",
    "# s = 'Everyday HOLDS the poSSibility Of A Miracle. This is great!'\n",
    "s = df.iloc[0]['Introduction']\n",
    "text = s.partition('.')[0]\n",
    "new_s = ' '.join(re.findall(r'\\b[A-Z][a-z]+|\\b[A-Z]\\b', text))"
   ]
  },
  {
   "cell_type": "code",
   "execution_count": 114,
   "metadata": {},
   "outputs": [
    {
     "data": {
      "text/plain": [
       "'Acnesol Gel is an antibiotic that fights bacteria'"
      ]
     },
     "execution_count": 114,
     "metadata": {},
     "output_type": "execute_result"
    }
   ],
   "source": [
    "text"
   ]
  },
  {
   "cell_type": "code",
   "execution_count": 115,
   "metadata": {},
   "outputs": [
    {
     "data": {
      "text/plain": [
       "'Acnesol Gel'"
      ]
     },
     "execution_count": 115,
     "metadata": {},
     "output_type": "execute_result"
    }
   ],
   "source": [
    "new_s"
   ]
  },
  {
   "cell_type": "code",
   "execution_count": null,
   "metadata": {},
   "outputs": [],
   "source": []
  },
  {
   "cell_type": "code",
   "execution_count": null,
   "metadata": {},
   "outputs": [],
   "source": []
  },
  {
   "cell_type": "code",
   "execution_count": null,
   "metadata": {},
   "outputs": [],
   "source": []
  }
 ],
 "metadata": {
  "kernelspec": {
   "display_name": "streamlit_conda391",
   "language": "python",
   "name": "streamlit_conda391"
  },
  "language_info": {
   "codemirror_mode": {
    "name": "ipython",
    "version": 3
   },
   "file_extension": ".py",
   "mimetype": "text/x-python",
   "name": "python",
   "nbconvert_exporter": "python",
   "pygments_lexer": "ipython3",
   "version": "3.9.18"
  }
 },
 "nbformat": 4,
 "nbformat_minor": 2
}
