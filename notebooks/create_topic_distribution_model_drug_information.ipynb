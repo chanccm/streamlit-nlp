{
 "cells": [
  {
   "cell_type": "markdown",
   "metadata": {},
   "source": [
    "# Topic Estimation Steps:\n",
    "\n",
    "\n",
    "1. Text preprocessing and tokenization\n",
    "\n",
    "2. Train topic estimation model\n",
    "    - Make document-term matrix\n",
    "        - input: tokens \n",
    "        - tool: CountVectorizer\n",
    "    - Make topic distribution matrix\n",
    "        - input:\n",
    "            i) document-term matrix -> term-document matrix -> corpus\n",
    "            ii) dictionary (from gensim, Not pandas dict)\n",
    "        - tool: Latent Dirichlet Allocation\n",
    "    - Evaluate coherence\n",
    "3. Visualization model\n",
    "    - tool: pyLDAvis\n",
    "    - also, each piece of text is expressed in terms of a list of topics, and the probability for each topic\n"
   ]
  },
  {
   "cell_type": "markdown",
   "metadata": {},
   "source": [
    "# Import libraries"
   ]
  },
  {
   "cell_type": "code",
   "execution_count": 45,
   "metadata": {},
   "outputs": [],
   "source": [
    "import pandas as pd\n",
    "import numpy as np\n",
    "import matplotlib.pyplot as plt\n",
    "from collections import Counter\n",
    "import time\n",
    "\n",
    "from sklearn.feature_extraction.text import CountVectorizer\n",
    "from nltk.tokenize import RegexpTokenizer\n",
    "from nltk.corpus import wordnet \n",
    "from nltk.stem.wordnet import WordNetLemmatizer\n",
    "from nltk.corpus import stopwords\n",
    "\n",
    "import gensim\n",
    "from gensim import corpora\n",
    "from gensim import matutils, models\n",
    "from gensim.models import CoherenceModel\n",
    "from gensim.test.utils import datapath\n",
    "\n",
    "import pyLDAvis\n",
    "import pyLDAvis.gensim_models\n"
   ]
  },
  {
   "cell_type": "code",
   "execution_count": 46,
   "metadata": {},
   "outputs": [
    {
     "name": "stdout",
     "output_type": "stream",
     "text": [
      "/Users/carmen/nltk_data/corpora/wordnet.zip\n"
     ]
    }
   ],
   "source": [
    "# in order to use NLTK's lemmatizer, need to download library\n",
    "\n",
    "import nltk\n",
    "# nltk.download('wordnet')\n",
    "\n",
    "# to see where it is downloaded to\n",
    "print(nltk.find('corpora/wordnet.zip'))"
   ]
  },
  {
   "cell_type": "code",
   "execution_count": null,
   "metadata": {},
   "outputs": [],
   "source": []
  },
  {
   "cell_type": "markdown",
   "metadata": {
    "collapsed": true
   },
   "source": [
    "# Text to be grouped into different topics"
   ]
  },
  {
   "cell_type": "code",
   "execution_count": 47,
   "metadata": {},
   "outputs": [],
   "source": [
    "pd.set_option('display.max_colwidth', None)"
   ]
  },
  {
   "cell_type": "code",
   "execution_count": 48,
   "metadata": {},
   "outputs": [],
   "source": [
    "df = pd.read_excel('../data/drug_names_kaggle_TASK.xlsx',\n",
    "                  header = 1,\n",
    "                  usecols = [1])"
   ]
  },
  {
   "cell_type": "code",
   "execution_count": 49,
   "metadata": {},
   "outputs": [
    {
     "data": {
      "text/html": [
       "<div>\n",
       "<style scoped>\n",
       "    .dataframe tbody tr th:only-of-type {\n",
       "        vertical-align: middle;\n",
       "    }\n",
       "\n",
       "    .dataframe tbody tr th {\n",
       "        vertical-align: top;\n",
       "    }\n",
       "\n",
       "    .dataframe thead th {\n",
       "        text-align: right;\n",
       "    }\n",
       "</style>\n",
       "<table border=\"1\" class=\"dataframe\">\n",
       "  <thead>\n",
       "    <tr style=\"text-align: right;\">\n",
       "      <th></th>\n",
       "      <th>Introduction</th>\n",
       "    </tr>\n",
       "  </thead>\n",
       "  <tbody>\n",
       "    <tr>\n",
       "      <th>0</th>\n",
       "      <td>Acnesol Gel is an antibiotic that fights bacteria. It is used to treat acne, which appears as spots or pimples on your face, chest or back. This medicine works by attacking the bacteria that cause these pimples.Acnesol Gel is only meant for external use and should be used as advised by your doctor. You should normally wash and dry the affected area before applying a thin layer of the medicine. It should not be applied to broken or damaged skin. Avoid any contact with your eyes, nose, or mouth. Rinse it off with water if you accidentally get it in these areas. It may take several weeks for your symptoms to improve, but you should keep using this medicine regularly. Do not stop using it as soon as your acne starts to get better. Ask your doctor when you should stop treatment.Common side effects like minor itching, burning, or redness of the skin and oily skin may be seen in some people. These are usually temporary and resolve on their own. Consult your doctor if they bother you or do not go away.It is a safe medicine, but you should inform your doctor if you have any problems with your bowels (intestines). Also, inform the doctor if you have ever had bloody diarrhea caused by taking antibiotics or if you are using any other medicines to treat skin conditions. Consult your doctor about using this medicine if you are pregnant or breastfeeding.</td>\n",
       "    </tr>\n",
       "    <tr>\n",
       "      <th>1</th>\n",
       "      <td>Ambrodil Syrup is used for treating various respiratory tract disorders associated with excessive mucus. It works by thinning and loosens mucus in the nose, windpipe and lungs and make it easier to cough out.Ambrodil Syrup should be taken with food. For better results, it is suggested to take it at the same time every day.  The dose and how often you take it depends on what you are taking it for. Your doctor will decide how much you need to improve your symptoms.  It is advised not to use it for more than 14 days without doctor consultation.The most common side effects of this medicine include vomiting, nausea, and stomach upset. Talk to your doctor if you are worried about side effects or they would not go away. Generally, it is advised not to take alcohol while on treatment.Before taking this medicine, tell your doctor if you have liver or kidney disease or if you have stomach problems. Your doctor should also know about all other medicines you are taking as many of these may make this medicine less effective or change the way it works. You must take doctor's advice before using this medicine if you are pregnant or breastfeeding.</td>\n",
       "    </tr>\n",
       "  </tbody>\n",
       "</table>\n",
       "</div>"
      ],
      "text/plain": [
       "                                                                                                                                                                                                                                                                                                                                                                                                                                                                                                                                                                                                                                                                                                                                                                                                                                                                                                                                                                                                                                                                                                                                                                                                                                                                                                                                                                                                        Introduction\n",
       "0  Acnesol Gel is an antibiotic that fights bacteria. It is used to treat acne, which appears as spots or pimples on your face, chest or back. This medicine works by attacking the bacteria that cause these pimples.Acnesol Gel is only meant for external use and should be used as advised by your doctor. You should normally wash and dry the affected area before applying a thin layer of the medicine. It should not be applied to broken or damaged skin. Avoid any contact with your eyes, nose, or mouth. Rinse it off with water if you accidentally get it in these areas. It may take several weeks for your symptoms to improve, but you should keep using this medicine regularly. Do not stop using it as soon as your acne starts to get better. Ask your doctor when you should stop treatment.Common side effects like minor itching, burning, or redness of the skin and oily skin may be seen in some people. These are usually temporary and resolve on their own. Consult your doctor if they bother you or do not go away.It is a safe medicine, but you should inform your doctor if you have any problems with your bowels (intestines). Also, inform the doctor if you have ever had bloody diarrhea caused by taking antibiotics or if you are using any other medicines to treat skin conditions. Consult your doctor about using this medicine if you are pregnant or breastfeeding.\n",
       "1                                                                                                                                                                                                                      Ambrodil Syrup is used for treating various respiratory tract disorders associated with excessive mucus. It works by thinning and loosens mucus in the nose, windpipe and lungs and make it easier to cough out.Ambrodil Syrup should be taken with food. For better results, it is suggested to take it at the same time every day.  The dose and how often you take it depends on what you are taking it for. Your doctor will decide how much you need to improve your symptoms.  It is advised not to use it for more than 14 days without doctor consultation.The most common side effects of this medicine include vomiting, nausea, and stomach upset. Talk to your doctor if you are worried about side effects or they would not go away. Generally, it is advised not to take alcohol while on treatment.Before taking this medicine, tell your doctor if you have liver or kidney disease or if you have stomach problems. Your doctor should also know about all other medicines you are taking as many of these may make this medicine less effective or change the way it works. You must take doctor's advice before using this medicine if you are pregnant or breastfeeding."
      ]
     },
     "execution_count": 49,
     "metadata": {},
     "output_type": "execute_result"
    }
   ],
   "source": [
    "df.head(2)"
   ]
  },
  {
   "cell_type": "markdown",
   "metadata": {},
   "source": [
    "# Topic Estimation"
   ]
  },
  {
   "cell_type": "markdown",
   "metadata": {
    "collapsed": true
   },
   "source": [
    "## 1. Text preprocessing and tokenization"
   ]
  },
  {
   "cell_type": "code",
   "execution_count": 50,
   "metadata": {},
   "outputs": [],
   "source": [
    "def tokenize(text):\n",
    "    \n",
    "    list_str_exclude = ['mg', 'ml', 'gm', 'iu', 'mcg']\n",
    "    # need to add words to this list manually\n",
    "    \n",
    "    tokenizer = RegexpTokenizer(r'\\w+')\n",
    "    text = text.lower()\n",
    "#     print(text)\n",
    "    tokenized_text = tokenizer.tokenize(text)\n",
    "#     print(tokenized_text)\n",
    "\n",
    "    # Remove numbers, but not words that contain numbers.\n",
    "    tokenized_text = [token for token in tokenized_text if not token.isnumeric()]\n",
    "\n",
    "    # Remove words that are only one character.\n",
    "    tokenized_text = [token for token in tokenized_text if len(token) > 1]\n",
    "    \n",
    "    # Remove words that are dosage\n",
    "    tokenized_text = [token for token in tokenized_text if not any(unimportant in token for unimportant in list_str_exclude)]\n",
    "    \n",
    "    return tokenized_text"
   ]
  },
  {
   "cell_type": "code",
   "execution_count": 51,
   "metadata": {},
   "outputs": [],
   "source": [
    "def lemmatize_tokens(tokens):\n",
    "    \n",
    "    lemmatizer = WordNetLemmatizer()\n",
    "    lemmatized_tokens = [lemmatizer.lemmatize(token) for token in tokens]\n",
    "    \n",
    "    return lemmatized_tokens"
   ]
  },
  {
   "cell_type": "code",
   "execution_count": 52,
   "metadata": {},
   "outputs": [],
   "source": [
    "df['tokens'] = df['Introduction'].apply(lambda x: lemmatize_tokens(tokenize(x)))"
   ]
  },
  {
   "cell_type": "code",
   "execution_count": 53,
   "metadata": {},
   "outputs": [
    {
     "data": {
      "text/html": [
       "<div>\n",
       "<style scoped>\n",
       "    .dataframe tbody tr th:only-of-type {\n",
       "        vertical-align: middle;\n",
       "    }\n",
       "\n",
       "    .dataframe tbody tr th {\n",
       "        vertical-align: top;\n",
       "    }\n",
       "\n",
       "    .dataframe thead th {\n",
       "        text-align: right;\n",
       "    }\n",
       "</style>\n",
       "<table border=\"1\" class=\"dataframe\">\n",
       "  <thead>\n",
       "    <tr style=\"text-align: right;\">\n",
       "      <th></th>\n",
       "      <th>Introduction</th>\n",
       "      <th>tokens</th>\n",
       "    </tr>\n",
       "  </thead>\n",
       "  <tbody>\n",
       "    <tr>\n",
       "      <th>0</th>\n",
       "      <td>Acnesol Gel is an antibiotic that fights bacteria. It is used to treat acne, which appears as spots or pimples on your face, chest or back. This medicine works by attacking the bacteria that cause these pimples.Acnesol Gel is only meant for external use and should be used as advised by your doctor. You should normally wash and dry the affected area before applying a thin layer of the medicine. It should not be applied to broken or damaged skin. Avoid any contact with your eyes, nose, or mouth. Rinse it off with water if you accidentally get it in these areas. It may take several weeks for your symptoms to improve, but you should keep using this medicine regularly. Do not stop using it as soon as your acne starts to get better. Ask your doctor when you should stop treatment.Common side effects like minor itching, burning, or redness of the skin and oily skin may be seen in some people. These are usually temporary and resolve on their own. Consult your doctor if they bother you or do not go away.It is a safe medicine, but you should inform your doctor if you have any problems with your bowels (intestines). Also, inform the doctor if you have ever had bloody diarrhea caused by taking antibiotics or if you are using any other medicines to treat skin conditions. Consult your doctor about using this medicine if you are pregnant or breastfeeding.</td>\n",
       "      <td>[acnesol, gel, is, an, antibiotic, that, fight, bacteria, it, is, used, to, treat, acne, which, appears, a, spot, or, pimple, on, your, face, chest, or, back, this, medicine, work, by, attacking, the, bacteria, that, cause, these, pimple, acnesol, gel, is, only, meant, for, external, use, and, should, be, used, a, advised, by, your, doctor, you, should, normally, wash, and, dry, the, affected, area, before, applying, thin, layer, of, the, medicine, it, should, not, be, applied, to, broken, or, damaged, skin, avoid, any, contact, with, your, eye, nose, or, mouth, rinse, it, off, with, water, if, you, accidentally, get, it, in, ...]</td>\n",
       "    </tr>\n",
       "    <tr>\n",
       "      <th>1</th>\n",
       "      <td>Ambrodil Syrup is used for treating various respiratory tract disorders associated with excessive mucus. It works by thinning and loosens mucus in the nose, windpipe and lungs and make it easier to cough out.Ambrodil Syrup should be taken with food. For better results, it is suggested to take it at the same time every day.  The dose and how often you take it depends on what you are taking it for. Your doctor will decide how much you need to improve your symptoms.  It is advised not to use it for more than 14 days without doctor consultation.The most common side effects of this medicine include vomiting, nausea, and stomach upset. Talk to your doctor if you are worried about side effects or they would not go away. Generally, it is advised not to take alcohol while on treatment.Before taking this medicine, tell your doctor if you have liver or kidney disease or if you have stomach problems. Your doctor should also know about all other medicines you are taking as many of these may make this medicine less effective or change the way it works. You must take doctor's advice before using this medicine if you are pregnant or breastfeeding.</td>\n",
       "      <td>[ambrodil, syrup, is, used, for, treating, various, respiratory, tract, disorder, associated, with, excessive, mucus, it, work, by, thinning, and, loosens, mucus, in, the, nose, windpipe, and, lung, and, make, it, easier, to, cough, out, ambrodil, syrup, should, be, taken, with, food, for, better, result, it, is, suggested, to, take, it, at, the, same, time, every, day, the, dose, and, how, often, you, take, it, depends, on, what, you, are, taking, it, for, your, doctor, will, decide, how, much, you, need, to, improve, your, symptom, it, is, advised, not, to, use, it, for, more, than, day, without, doctor, consultation, the, most, ...]</td>\n",
       "    </tr>\n",
       "  </tbody>\n",
       "</table>\n",
       "</div>"
      ],
      "text/plain": [
       "                                                                                                                                                                                                                                                                                                                                                                                                                                                                                                                                                                                                                                                                                                                                                                                                                                                                                                                                                                                                                                                                                                                                                                                                                                                                                                                                                                                                        Introduction  \\\n",
       "0  Acnesol Gel is an antibiotic that fights bacteria. It is used to treat acne, which appears as spots or pimples on your face, chest or back. This medicine works by attacking the bacteria that cause these pimples.Acnesol Gel is only meant for external use and should be used as advised by your doctor. You should normally wash and dry the affected area before applying a thin layer of the medicine. It should not be applied to broken or damaged skin. Avoid any contact with your eyes, nose, or mouth. Rinse it off with water if you accidentally get it in these areas. It may take several weeks for your symptoms to improve, but you should keep using this medicine regularly. Do not stop using it as soon as your acne starts to get better. Ask your doctor when you should stop treatment.Common side effects like minor itching, burning, or redness of the skin and oily skin may be seen in some people. These are usually temporary and resolve on their own. Consult your doctor if they bother you or do not go away.It is a safe medicine, but you should inform your doctor if you have any problems with your bowels (intestines). Also, inform the doctor if you have ever had bloody diarrhea caused by taking antibiotics or if you are using any other medicines to treat skin conditions. Consult your doctor about using this medicine if you are pregnant or breastfeeding.   \n",
       "1                                                                                                                                                                                                                      Ambrodil Syrup is used for treating various respiratory tract disorders associated with excessive mucus. It works by thinning and loosens mucus in the nose, windpipe and lungs and make it easier to cough out.Ambrodil Syrup should be taken with food. For better results, it is suggested to take it at the same time every day.  The dose and how often you take it depends on what you are taking it for. Your doctor will decide how much you need to improve your symptoms.  It is advised not to use it for more than 14 days without doctor consultation.The most common side effects of this medicine include vomiting, nausea, and stomach upset. Talk to your doctor if you are worried about side effects or they would not go away. Generally, it is advised not to take alcohol while on treatment.Before taking this medicine, tell your doctor if you have liver or kidney disease or if you have stomach problems. Your doctor should also know about all other medicines you are taking as many of these may make this medicine less effective or change the way it works. You must take doctor's advice before using this medicine if you are pregnant or breastfeeding.   \n",
       "\n",
       "                                                                                                                                                                                                                                                                                                                                                                                                                                                                                                                                                                                                                                                                tokens  \n",
       "0       [acnesol, gel, is, an, antibiotic, that, fight, bacteria, it, is, used, to, treat, acne, which, appears, a, spot, or, pimple, on, your, face, chest, or, back, this, medicine, work, by, attacking, the, bacteria, that, cause, these, pimple, acnesol, gel, is, only, meant, for, external, use, and, should, be, used, a, advised, by, your, doctor, you, should, normally, wash, and, dry, the, affected, area, before, applying, thin, layer, of, the, medicine, it, should, not, be, applied, to, broken, or, damaged, skin, avoid, any, contact, with, your, eye, nose, or, mouth, rinse, it, off, with, water, if, you, accidentally, get, it, in, ...]  \n",
       "1  [ambrodil, syrup, is, used, for, treating, various, respiratory, tract, disorder, associated, with, excessive, mucus, it, work, by, thinning, and, loosens, mucus, in, the, nose, windpipe, and, lung, and, make, it, easier, to, cough, out, ambrodil, syrup, should, be, taken, with, food, for, better, result, it, is, suggested, to, take, it, at, the, same, time, every, day, the, dose, and, how, often, you, take, it, depends, on, what, you, are, taking, it, for, your, doctor, will, decide, how, much, you, need, to, improve, your, symptom, it, is, advised, not, to, use, it, for, more, than, day, without, doctor, consultation, the, most, ...]  "
      ]
     },
     "execution_count": 53,
     "metadata": {},
     "output_type": "execute_result"
    }
   ],
   "source": [
    "df.head(2)"
   ]
  },
  {
   "cell_type": "markdown",
   "metadata": {},
   "source": [
    "## 2. Train topic estimation model"
   ]
  },
  {
   "cell_type": "code",
   "execution_count": 54,
   "metadata": {},
   "outputs": [],
   "source": [
    "def create_corpus_dictonary(text_data, max_term_freq, min_term_count):\n",
    "\n",
    "    def identity_tokenizer(text):\n",
    "        return text\n",
    "    \n",
    "    # create document-term matrix\n",
    "    count_vectorizer = CountVectorizer(tokenizer = identity_tokenizer,\n",
    "                                      lowercase = False,\n",
    "                                      max_df = max_term_freq, # ignoring terms that have a document frequency > x% of the number of document (by percentage)\n",
    "                                      min_df = min_term_count) # ignoring terms that have a document frequency < x (count) \n",
    "\n",
    "    count_matrix = count_vectorizer.fit_transform(text_data)\n",
    "    print('count_matrix.shape: ', count_matrix.shape)\n",
    "    \n",
    "    # create dictionary of index: term\n",
    "    dictionary = count_vectorizer.get_feature_names_out()\n",
    "    print('length of dictionary: ', len(dictionary))\n",
    "    id2word = {v: k for v, k in enumerate(dictionary)}    \n",
    "    # for coherence evaluation, create dictionary of term: index\n",
    "    word2id = dict((k, v) for k, v in count_vectorizer.vocabulary_.items())\n",
    "\n",
    "    d = corpora.Dictionary()\n",
    "    d.id2token = id2word\n",
    "    d.token2id = word2id\n",
    "\n",
    "    \n",
    "    # create term-document matrix\n",
    "    count_matrix_T = count_matrix.transpose()\n",
    "    # convert from sparse to proper format for LDA\n",
    "    corpus = matutils.Sparse2Corpus(count_matrix_T)\n",
    "    \n",
    "    return corpus, d, id2word, word2id\n"
   ]
  },
  {
   "cell_type": "code",
   "execution_count": 55,
   "metadata": {},
   "outputs": [],
   "source": [
    "def train_model_get_coherence_score(corpus, id2word, topic_count, word2id):\n",
    "    \n",
    "    passes = 10\n",
    "    iterations = 50 # 50 is the default\n",
    "    \n",
    "    lda = models.LdaModel(corpus = corpus,\n",
    "                          id2word = id2word,\n",
    "                          num_topics = topic_count,\n",
    "                          passes = passes,\n",
    "                          iterations = iterations)\n",
    "    \n",
    "    # evaluation coherence\n",
    "    coherence_model_lda = CoherenceModel(model = lda, \n",
    "                                         corpus = corpus, \n",
    "                                         dictionary = word2id, \n",
    "                                         coherence = 'u_mass'\n",
    "                                        )\n",
    "    coherence_lda = coherence_model_lda.get_coherence()\n",
    "    \n",
    "    return lda, coherence_lda\n",
    "    "
   ]
  },
  {
   "cell_type": "markdown",
   "metadata": {},
   "source": [
    "### fix max_term_freq and min_term_freq, vary topic_count"
   ]
  },
  {
   "cell_type": "code",
   "execution_count": 56,
   "metadata": {},
   "outputs": [
    {
     "name": "stdout",
     "output_type": "stream",
     "text": [
      "count_matrix.shape:  (1000, 2719)\n",
      "length of dictionary:  2719\n",
      "max_term_freq = 0.8, min_term_count = 1\n",
      "time taken to calculate: 0.08388400077819824\n"
     ]
    },
    {
     "name": "stderr",
     "output_type": "stream",
     "text": [
      "/Users/carmen/anaconda3/envs/streamlit_conda391/lib/python3.9/site-packages/sklearn/feature_extraction/text.py:525: UserWarning: The parameter 'token_pattern' will not be used since 'tokenizer' is not None'\n",
      "  warnings.warn(\n"
     ]
    }
   ],
   "source": [
    "starttime = time.time()\n",
    "\n",
    "max_term_freq = 0.8\n",
    "min_term_count = 1\n",
    "\n",
    "Corpus, D, Id2word, Word2id = create_corpus_dictonary(df['tokens'], max_term_freq, min_term_count)\n",
    "print('max_term_freq = {}, min_term_count = {}'.format(max_term_freq, min_term_count))\n",
    "\n",
    "elapsedtime = time.time() - starttime\n",
    "print('time taken to calculate: {}'.format(elapsedtime))"
   ]
  },
  {
   "cell_type": "code",
   "execution_count": 57,
   "metadata": {},
   "outputs": [],
   "source": [
    "dict_coherence_score_topic_count = {}\n",
    "for i in range(3, 10):\n",
    "    Lda, Coherence_score = train_model_get_coherence_score(Corpus, Id2word, i, Word2id)\n",
    "    dict_coherence_score_topic_count[i] = Coherence_score"
   ]
  },
  {
   "cell_type": "code",
   "execution_count": 58,
   "metadata": {},
   "outputs": [],
   "source": [
    "dict_coherence_score_topic_count = dict(sorted(dict_coherence_score_topic_count.items()))"
   ]
  },
  {
   "cell_type": "code",
   "execution_count": 59,
   "metadata": {},
   "outputs": [
    {
     "data": {
      "text/plain": [
       "Text(0.5, 1.0, 'Max_term_freq = 0.8, min_term_count = 1')"
      ]
     },
     "execution_count": 59,
     "metadata": {},
     "output_type": "execute_result"
    },
    {
     "data": {
      "image/png": "[encoded data removed]",
      "text/plain": [
       "<Figure size 600x300 with 1 Axes>"
      ]
     },
     "metadata": {},
     "output_type": "display_data"
    }
   ],
   "source": [
    "plt.figure(figsize = (6,3))\n",
    "plt.plot(dict_coherence_score_topic_count.keys(),\n",
    "        dict_coherence_score_topic_count.values())\n",
    "plt.title('Max_term_freq = {}, min_term_count = {}'.format(max_term_freq, min_term_count))"
   ]
  },
  {
   "cell_type": "code",
   "execution_count": null,
   "metadata": {},
   "outputs": [],
   "source": []
  },
  {
   "cell_type": "markdown",
   "metadata": {},
   "source": [
    "# Visualize model"
   ]
  },
  {
   "cell_type": "markdown",
   "metadata": {},
   "source": [
    "## pyLDAvis"
   ]
  },
  {
   "cell_type": "code",
   "execution_count": 60,
   "metadata": {},
   "outputs": [],
   "source": [
    "pyLDAvis.enable_notebook()"
   ]
  },
  {
   "cell_type": "code",
   "execution_count": 76,
   "metadata": {},
   "outputs": [],
   "source": [
    "Lda3, Coherence_score = train_model_get_coherence_score(Corpus, Id2word, 3, Word2id)"
   ]
  },
  {
   "cell_type": "code",
   "execution_count": 78,
   "metadata": {},
   "outputs": [
    {
     "data": {
      "text/html": [
       "\n",
       "<link rel=\"stylesheet\" type=\"text/css\" href=\"https://cdn.jsdelivr.net/gh/bmabey/pyLDAvis@3.4.0/pyLDAvis/js/ldavis.v1.0.0.css\">\n",
       "\n",
       "\n",
       "<div id=\"ldavis_el282731401835983332803743494085\" style=\"background-color:white;\"></div>\n",
       "<script type=\"text/javascript\">\n",
       "\n",
       "var ldavis_el282731401835983332803743494085_data = {\"mdsDat\": {\"x\": [0.0935710260734452, -0.13818047702621603, 0.04460945095277081], \"y\": [0.08165411523972815, 0.021871632323646105, -0.10352574756337424], \"topics\": [1, 2, 3], \"cluster\": [1, 1, 1], \"Freq\": [35.26929810522936, 36.154723950188725, 28.575977944581915]}, \"tinfo\": {\"Term\": [\"blood\", \"pressure\", \"level\", \"high\", \"infection\", \"antibiotic\", \"heart\", \"sugar\", \"cholesterol\", \"type\", \"stroke\", \"weight\", \"bacteria\", \"regular\", \"risk\", \"exercise\", \"dos\", \"finish\", \"full\", \"each\", \"diet\", \"contact\", \"low\", \"itching\", \"skip\", \"vomiting\", \"diabetes\", \"about\", \"hour\", \"nose\", \"concerned\", \"recommend\", \"beneficial\", \"mucus\", \"support\", \"clean\", \"seek\", \"completed\", \"thins\", \"immediate\", \"faster\", \"stuffiness\", \"applying\", \"ensure\", \"pimple\", \"rinse\", \"acne\", \"thoroughly\", \"ascoril\", \"expectorant\", \"free\", \"efficacy\", \"layer\", \"thin\", \"application\", \"impair\", \"gel\", \"sneezing\", \"oil\", \"causing\", \"itching\", \"runny\", \"watery\", \"external\", \"wash\", \"recommends\", \"production\", \"cough\", \"contact\", \"cream\", \"area\", \"hand\", \"plenty\", \"irritation\", \"straight\", \"relief\", \"must\", \"medication\", \"affected\", \"about\", \"nose\", \"all\", \"symptom\", \"skin\", \"come\", \"dose\", \"resolve\", \"worsen\", \"advised\", \"avoid\", \"most\", \"drinking\", \"any\", \"affect\", \"these\", \"condition\", \"treatment\", \"tell\", \"can\", \"know\", \"on\", \"eye\", \"cause\", \"how\", \"duration\", \"that\", \"from\", \"using\", \"pregnant\", \"do\", \"other\", \"get\", \"common\", \"let\", \"taken\", \"take\", \"checked\", \"stroke\", \"those\", \"active\", \"diabetic\", \"especially\", \"working\", \"glucose\", \"ill\", \"mellitus\", \"reduction\", \"diabetes\", \"ankle\", \"put\", \"cessation\", \"yellowing\", \"program\", \"hypertension\", \"moderation\", \"properly\", \"pressure\", \"widely\", \"eating\", \"repeated\", \"triglyceride\", \"unexplained\", \"hypoglycemia\", \"raise\", \"blindness\", \"narrowing\", \"cholesterol\", \"low\", \"exercise\", \"part\", \"fat\", \"high\", \"blood\", \"smoking\", \"monitoring\", \"weight\", \"risk\", \"lower\", \"level\", \"sugar\", \"each\", \"regular\", \"diet\", \"attack\", \"control\", \"heart\", \"healthy\", \"well\", \"advice\", \"day\", \"increase\", \"at\", \"time\", \"take\", \"tablet\", \"help\", \"liver\", \"same\", \"while\", \"can\", \"that\", \"kidney\", \"food\", \"do\", \"but\", \"get\", \"on\", \"condition\", \"any\", \"will\", \"disease\", \"stop\", \"regularly\", \"know\", \"other\", \"gram\", \"antibiotic\", \"spectrum\", \"broad\", \"penicillin\", \"typhoid\", \"orally\", \"pneumonia\", \"completion\", \"gonorrhea\", \"sexually\", \"transmitted\", \"sinus\", \"positive\", \"negative\", \"previous\", \"viral\", \"subside\", \"arthritis\", \"rheumatoid\", \"survive\", \"ankylosing\", \"finish\", \"variety\", \"spondylitis\", \"behavior\", \"return\", \"sp\", \"returning\", \"hearing\", \"skip\", \"thought\", \"bacteria\", \"tissue\", \"ear\", \"worsening\", \"hour\", \"history\", \"dos\", \"many\", \"full\", \"infection\", \"tract\", \"type\", \"worry\", \"bacterial\", \"effective\", \"course\", \"spaced\", \"evenly\", \"seen\", \"pain\", \"vomiting\", \"throat\", \"some\", \"inform\", \"tablet\", \"these\", \"prescribed\", \"any\", \"take\", \"nausea\", \"do\", \"treatment\", \"an\", \"taken\", \"regularly\", \"stomach\", \"better\", \"include\", \"know\", \"problem\", \"at\", \"dose\", \"time\", \"consult\", \"other\", \"will\", \"common\", \"let\"], \"Freq\": [1607.0, 739.0, 802.0, 526.0, 642.0, 264.0, 992.0, 376.0, 274.0, 414.0, 247.0, 304.0, 213.0, 344.0, 298.0, 239.0, 215.0, 167.0, 229.0, 281.0, 307.0, 247.0, 196.0, 194.0, 147.0, 372.0, 166.0, 470.0, 150.0, 307.0, 121.88494444902378, 78.4811873710399, 75.49486893835322, 75.45943778368003, 83.25884778962734, 65.34739058933319, 47.71080890678061, 43.80267697581195, 39.892595977948965, 49.591291480685335, 54.42774467303923, 34.939236829029525, 84.42361777709694, 36.868546654755626, 40.747170745922425, 57.162163199408106, 113.34897744249112, 40.67768936542167, 30.00241348752738, 29.991928758083276, 28.03733271164442, 37.706134366909474, 33.832060816859986, 32.85919644511148, 96.58093476310889, 30.890386073999757, 90.72661740351316, 94.54972978610384, 27.953835447033267, 35.65419642867284, 188.5236013701232, 99.03510628473033, 95.11500811600877, 63.56859113432561, 121.98778559092928, 123.62890535268168, 61.39020850070585, 127.24787404541142, 226.7359684853313, 100.96691700521625, 142.55243660517593, 98.12862979539925, 152.96379197172215, 109.62948365387258, 131.10485180508653, 158.1735363273438, 215.06220493785597, 398.7624936865697, 257.46089590569494, 341.18885174825715, 234.46110191691233, 357.53987566316914, 486.08947630451604, 329.1698559893735, 160.85324506247804, 616.1594904783605, 185.42842877465202, 206.03978128017422, 378.0244654247355, 322.38155773481657, 440.46658831851073, 180.80508987292794, 640.7926079613183, 298.44682055026294, 481.5598557155519, 432.4869507880251, 537.8509953272131, 365.98968140849865, 481.5836468361365, 482.13484404119816, 447.17864190326003, 292.54203404706874, 335.9935147211431, 314.0575143755389, 281.76061149680385, 415.8903607546109, 242.587639830898, 298.75134254436375, 363.1925067338418, 460.39811064067334, 365.71049456566027, 315.4989431274484, 329.4988432582985, 319.916588871906, 320.37396990310845, 336.0317892844236, 126.92092675852618, 244.78517807569625, 68.57655238178684, 76.2752749113216, 92.67888038825583, 73.30861898647655, 58.80323390915165, 68.44304043689877, 60.72485066644341, 54.930300730421, 86.73193088081231, 163.75347046254643, 78.96247867634959, 50.05685280088906, 58.7087344711185, 66.40600796468436, 91.4057406663371, 89.48033412266514, 48.9942189927442, 42.25680364462154, 726.0484339460126, 47.99145823619112, 85.36521687459441, 42.19733743774412, 41.23704458151025, 43.145511337384264, 36.40015137090136, 33.519629487976715, 37.34869867596427, 37.330833734432346, 268.8064938250734, 191.68784096734686, 232.64123118473023, 127.88209460955665, 111.75077971082396, 505.10660770985186, 1503.2341943631222, 108.18817987769367, 62.072448544302404, 283.3127260311186, 276.4311427505212, 136.52863713956222, 710.6607420136568, 342.0819911932301, 256.05948045671346, 308.1513649455368, 269.1987144225622, 220.22196745967375, 187.008056695058, 754.8312818891854, 193.9074965573644, 168.97863843423653, 195.26167640245134, 423.18056624312925, 247.18005555364505, 536.2125947040826, 519.3087652910392, 647.066878153811, 559.1078088698771, 412.6792911122271, 377.229094283243, 252.32281796442706, 359.8950572374647, 453.87917349435037, 411.2976241694532, 343.44319328955095, 343.6980898629105, 454.27843863593415, 301.09576359150543, 321.2073573681877, 360.866758465346, 347.41821105229036, 391.7101355562904, 318.30536188684704, 300.2479660853953, 304.36189066539936, 299.0861067526726, 312.00976875207164, 300.46088520137897, 100.33624409774639, 260.2356741783229, 62.87228808931685, 62.86191000592355, 61.904818135226186, 61.88389457999776, 58.98397792451719, 53.240818815991645, 57.03554562693277, 50.36078614541658, 55.108644768918154, 53.19974257335899, 49.3765465124302, 51.25454792063623, 50.29912552939815, 55.955017995264654, 38.734694174480566, 72.67934783811904, 50.968842280190756, 50.952887518709204, 31.08328920928617, 44.14063605206775, 162.3071806674944, 22.478552005897036, 44.02662249838828, 32.767181694398296, 56.10350035308359, 26.179873863818955, 34.59649288834802, 19.620920754293383, 141.6964391971674, 45.7403982253256, 198.77520187680463, 48.30966544373002, 136.95600733453216, 113.90852183717914, 141.00081688252249, 77.68045636418755, 192.2811998876671, 135.00639010297797, 199.00459452145216, 479.4151218576654, 141.85063919176244, 308.0289859236462, 75.47837331276762, 96.05620092948055, 195.16683566608438, 195.74436103006101, 109.93741606310083, 109.83842782455487, 137.8904224763209, 409.19602290777215, 217.7485231794216, 118.71717770473603, 364.00417422615106, 191.00718002716445, 448.3076890681251, 398.64269262579523, 230.19290235814907, 470.2019915401389, 455.4391414834135, 246.07068277629713, 414.7449321345159, 391.7275765566918, 235.79974560560115, 322.9489696776576, 266.7507142516227, 259.15164900921235, 229.84047039884038, 239.3835321451267, 292.5132931349248, 220.0705356444519, 275.70266574039044, 281.0513960105446, 273.5158502768487, 246.20258486845717, 252.89584958271328, 245.3388957482995, 236.70711429915775, 225.35712075309812], \"Total\": [1607.0, 739.0, 802.0, 526.0, 642.0, 264.0, 992.0, 376.0, 274.0, 414.0, 247.0, 304.0, 213.0, 344.0, 298.0, 239.0, 215.0, 167.0, 229.0, 281.0, 307.0, 247.0, 196.0, 194.0, 147.0, 372.0, 166.0, 470.0, 150.0, 307.0, 123.12573478280169, 79.43064539489737, 76.45114831013949, 76.44998130352673, 84.39100974269819, 66.51512266875339, 48.64229950065273, 44.66969680200474, 40.698723405671366, 50.62536662368087, 55.589238687655204, 35.73274542174155, 86.3565687408033, 37.717779090568534, 41.688419547003626, 58.56200708377241, 116.13064866393071, 41.687700036024786, 30.76730055502467, 30.767213557883895, 28.78135340500793, 38.70736679212109, 34.736429781326116, 33.74378922803447, 99.24777953489108, 31.757926574933, 93.29142088951612, 97.25982818205883, 28.779699539525012, 36.71776538438837, 194.51277449801708, 102.21272523319725, 98.24210244599428, 65.4980570764385, 126.99651041691732, 129.0133194056137, 63.50684332957482, 133.95975757159263, 247.91124172101738, 107.0990888581883, 154.622442430842, 106.05905647927186, 172.42265739887998, 120.86628687456215, 147.7040175177835, 184.0737012420963, 261.3931276202238, 551.9698335668454, 336.9235888001181, 470.5794494729061, 307.88880016859, 512.8756479758764, 757.2050955428499, 495.4465297303087, 199.59067929080652, 1123.074708932771, 242.83042649653814, 283.07672639636354, 674.993965915213, 545.2460307092346, 860.110329213117, 245.22679585087704, 1502.7047350577477, 504.18643831965034, 1025.7884516830836, 880.7458794620578, 1224.2771760656458, 691.1507303483836, 1049.558746743169, 1086.6579059281946, 970.2464567639818, 506.2822589366449, 633.8038433120896, 591.4508627325476, 505.87661070627234, 1037.675303216027, 394.61488613452354, 578.372748132736, 834.4906482000816, 1329.4214814111233, 919.0672293497526, 705.2419738860707, 824.8123973902696, 753.4042967600913, 926.3775365736714, 1438.537808921648, 128.1074354491434, 247.41029835872695, 69.43126944186143, 77.25613373082777, 93.87580586750428, 74.32199413999615, 59.65061139143172, 69.4302418974603, 61.60558500048918, 55.738854431911626, 88.01322700881471, 166.2408952017803, 80.19172318627591, 50.84888319399585, 59.64901703864928, 67.47329194136162, 92.89646732068087, 90.95124620737613, 49.87022750395873, 43.02548681520645, 739.3692954305575, 48.89239379176839, 87.03091949287828, 43.024936759377105, 42.04774333005825, 44.00241854046095, 37.15776236288728, 34.22422367779628, 38.13590226715033, 38.135118992909796, 274.75754970575747, 196.54911090402504, 239.5668667069349, 131.0164191277765, 114.43876262973221, 526.0397047906933, 1607.2187938652146, 111.50387853323618, 63.55444714969303, 304.91654304587377, 298.11479107451237, 143.740975652549, 802.9196229653187, 376.92234392075824, 281.42809912982364, 344.93975397122415, 307.4960621829494, 249.51894527671186, 210.44606732197502, 992.2251124164698, 225.30991178517021, 203.18301326060066, 244.4417014459394, 642.9603165028664, 333.2672196054945, 1052.8288230700664, 1037.2601556633526, 1438.537808921648, 1218.6196921379128, 830.8990090023306, 734.9701753861261, 393.32690108492807, 706.5584218367827, 1049.558746743169, 1037.675303216027, 731.7048269938514, 736.7673182234759, 1329.4214814111233, 597.417507756619, 705.2419738860707, 970.2464567639818, 880.7458794620578, 1502.7047350577477, 819.6750984233614, 624.5522464950902, 723.7336357998521, 651.5421310356105, 1086.6579059281946, 919.0672293497526, 101.54946628578266, 264.05544631519933, 63.83321250119862, 63.83302749532813, 62.865316739771025, 62.86688775787242, 59.966345363175634, 54.161562357714544, 58.03190064134893, 51.26161691363885, 56.0973426650211, 54.16288817500975, 50.293384525370016, 52.22907112699215, 51.2622120639855, 57.066010654846764, 39.65679380722787, 74.48555858411896, 52.23571195852716, 52.236683247876414, 31.919824359041176, 45.46970299356857, 167.36202515923839, 23.21623855383477, 45.47271138665353, 33.85652885536426, 58.04054296448523, 27.08695838462522, 35.79683205875542, 20.314817006644045, 147.05946356592358, 47.403587523637874, 213.0869050253694, 50.31571912667889, 146.21428608288926, 121.0296967012484, 150.9745522222754, 82.25008541433417, 215.96545880792428, 150.20166791643817, 229.6576993549015, 642.0068197579076, 164.6458287609618, 414.41197579008315, 83.32713041920385, 111.59086487477927, 270.03461306083943, 290.1014011414637, 137.61912652159702, 137.6201385608193, 187.3414845545847, 849.9367019662086, 372.28234094918764, 161.54272200038523, 843.1655880322264, 337.16945589882454, 1218.6196921379128, 1025.7884516830836, 454.7821835240337, 1502.7047350577477, 1438.537808921648, 547.5460090515696, 1329.4214814111233, 1224.2771760656458, 515.6725046640373, 926.3775365736714, 651.5421310356105, 624.0591620601841, 522.2644506571138, 620.5862275256593, 1086.6579059281946, 518.0696840689149, 1052.8288230700664, 1123.074708932771, 1037.2601556633526, 776.0082815812048, 919.0672293497526, 819.6750984233614, 824.8123973902696, 753.4042967600913], \"Category\": [\"Default\", \"Default\", \"Default\", \"Default\", \"Default\", \"Default\", \"Default\", \"Default\", \"Default\", \"Default\", \"Default\", \"Default\", \"Default\", \"Default\", \"Default\", \"Default\", \"Default\", \"Default\", \"Default\", \"Default\", \"Default\", \"Default\", \"Default\", \"Default\", \"Default\", \"Default\", \"Default\", \"Default\", \"Default\", \"Default\", \"Topic1\", \"Topic1\", \"Topic1\", \"Topic1\", \"Topic1\", \"Topic1\", \"Topic1\", \"Topic1\", \"Topic1\", \"Topic1\", \"Topic1\", \"Topic1\", \"Topic1\", \"Topic1\", \"Topic1\", \"Topic1\", \"Topic1\", \"Topic1\", \"Topic1\", \"Topic1\", \"Topic1\", \"Topic1\", \"Topic1\", \"Topic1\", \"Topic1\", \"Topic1\", \"Topic1\", \"Topic1\", \"Topic1\", \"Topic1\", \"Topic1\", \"Topic1\", \"Topic1\", \"Topic1\", \"Topic1\", \"Topic1\", \"Topic1\", \"Topic1\", \"Topic1\", \"Topic1\", \"Topic1\", \"Topic1\", \"Topic1\", \"Topic1\", \"Topic1\", \"Topic1\", \"Topic1\", \"Topic1\", \"Topic1\", \"Topic1\", \"Topic1\", \"Topic1\", \"Topic1\", \"Topic1\", \"Topic1\", \"Topic1\", \"Topic1\", \"Topic1\", \"Topic1\", \"Topic1\", \"Topic1\", \"Topic1\", \"Topic1\", \"Topic1\", \"Topic1\", \"Topic1\", \"Topic1\", \"Topic1\", \"Topic1\", \"Topic1\", \"Topic1\", \"Topic1\", \"Topic1\", \"Topic1\", \"Topic1\", \"Topic1\", \"Topic1\", \"Topic1\", \"Topic1\", \"Topic1\", \"Topic1\", \"Topic1\", \"Topic1\", \"Topic1\", \"Topic1\", \"Topic1\", \"Topic2\", \"Topic2\", \"Topic2\", \"Topic2\", \"Topic2\", \"Topic2\", \"Topic2\", \"Topic2\", \"Topic2\", \"Topic2\", \"Topic2\", \"Topic2\", \"Topic2\", \"Topic2\", \"Topic2\", \"Topic2\", \"Topic2\", \"Topic2\", \"Topic2\", \"Topic2\", \"Topic2\", \"Topic2\", \"Topic2\", \"Topic2\", \"Topic2\", \"Topic2\", \"Topic2\", \"Topic2\", \"Topic2\", \"Topic2\", \"Topic2\", \"Topic2\", \"Topic2\", \"Topic2\", \"Topic2\", \"Topic2\", \"Topic2\", \"Topic2\", \"Topic2\", \"Topic2\", \"Topic2\", \"Topic2\", \"Topic2\", \"Topic2\", \"Topic2\", \"Topic2\", \"Topic2\", \"Topic2\", \"Topic2\", \"Topic2\", \"Topic2\", \"Topic2\", \"Topic2\", \"Topic2\", \"Topic2\", \"Topic2\", \"Topic2\", \"Topic2\", \"Topic2\", \"Topic2\", \"Topic2\", \"Topic2\", \"Topic2\", \"Topic2\", \"Topic2\", \"Topic2\", \"Topic2\", \"Topic2\", \"Topic2\", \"Topic2\", \"Topic2\", \"Topic2\", \"Topic2\", \"Topic2\", \"Topic2\", \"Topic2\", \"Topic2\", \"Topic2\", \"Topic2\", \"Topic3\", \"Topic3\", \"Topic3\", \"Topic3\", \"Topic3\", \"Topic3\", \"Topic3\", \"Topic3\", \"Topic3\", \"Topic3\", \"Topic3\", \"Topic3\", \"Topic3\", \"Topic3\", \"Topic3\", \"Topic3\", \"Topic3\", \"Topic3\", \"Topic3\", \"Topic3\", \"Topic3\", \"Topic3\", \"Topic3\", \"Topic3\", \"Topic3\", \"Topic3\", \"Topic3\", \"Topic3\", \"Topic3\", \"Topic3\", \"Topic3\", \"Topic3\", \"Topic3\", \"Topic3\", \"Topic3\", \"Topic3\", \"Topic3\", \"Topic3\", \"Topic3\", \"Topic3\", \"Topic3\", \"Topic3\", \"Topic3\", \"Topic3\", \"Topic3\", \"Topic3\", \"Topic3\", \"Topic3\", \"Topic3\", \"Topic3\", \"Topic3\", \"Topic3\", \"Topic3\", \"Topic3\", \"Topic3\", \"Topic3\", \"Topic3\", \"Topic3\", \"Topic3\", \"Topic3\", \"Topic3\", \"Topic3\", \"Topic3\", \"Topic3\", \"Topic3\", \"Topic3\", \"Topic3\", \"Topic3\", \"Topic3\", \"Topic3\", \"Topic3\", \"Topic3\", \"Topic3\", \"Topic3\", \"Topic3\", \"Topic3\", \"Topic3\", \"Topic3\", \"Topic3\", \"Topic3\"], \"logprob\": [30.0, 29.0, 28.0, 27.0, 26.0, 25.0, 24.0, 23.0, 22.0, 21.0, 20.0, 19.0, 18.0, 17.0, 16.0, 15.0, 14.0, 13.0, 12.0, 11.0, 10.0, 9.0, 8.0, 7.0, 6.0, 5.0, 4.0, 3.0, 2.0, 1.0, -5.9484, -6.3887, -6.4275, -6.4279, -6.3296, -6.5718, -6.8864, -6.9718, -7.0653, -6.8477, -6.7546, -7.1979, -6.3157, -7.1442, -7.0441, -6.7056, -6.0211, -7.0458, -7.3502, -7.3506, -7.418, -7.1217, -7.2301, -7.2593, -6.1811, -7.3211, -6.2437, -6.2024, -7.421, -7.1777, -5.5123, -6.156, -6.1964, -6.5994, -5.9476, -5.9342, -6.6343, -5.9054, -5.3277, -6.1367, -5.7918, -6.1652, -5.7213, -6.0544, -5.8755, -5.6878, -5.3806, -4.7632, -5.2007, -4.9191, -5.2942, -4.8723, -4.5651, -4.9549, -5.671, -4.328, -5.5289, -5.4235, -4.8166, -4.9758, -4.6637, -5.5541, -4.2888, -5.0529, -4.5745, -4.682, -4.4639, -4.8489, -4.5744, -4.5733, -4.6486, -5.0729, -4.9344, -5.0019, -5.1105, -4.7211, -5.2602, -5.0519, -4.8566, -4.6194, -4.8497, -4.9974, -4.954, -4.9835, -4.982, -4.9343, -5.9328, -5.2759, -6.5484, -6.442, -6.2472, -6.4816, -6.7021, -6.5503, -6.67, -6.7703, -6.3135, -5.678, -6.4073, -6.8632, -6.7037, -6.5805, -6.261, -6.2823, -6.8846, -7.0326, -4.1887, -6.9053, -6.3294, -7.034, -7.057, -7.0117, -7.1817, -7.2642, -7.156, -7.1565, -5.1823, -5.5205, -5.3268, -5.9252, -6.06, -4.5515, -3.4609, -6.0924, -6.648, -5.1298, -5.1544, -5.8598, -4.2101, -4.9413, -5.2309, -5.0457, -5.1809, -5.3817, -5.5452, -4.1498, -5.5089, -5.6465, -5.502, -4.7285, -5.2662, -4.4918, -4.5238, -4.3039, -4.45, -4.7536, -4.8435, -5.2456, -4.8905, -4.6585, -4.757, -4.9373, -4.9366, -4.6576, -5.0689, -5.0042, -4.8878, -4.9258, -4.8058, -5.0133, -5.0717, -5.0581, -5.0756, -5.0333, -5.071, -5.9326, -4.9795, -6.4, -6.4001, -6.4155, -6.4158, -6.4638, -6.5663, -6.4974, -6.6219, -6.5318, -6.567, -6.6416, -6.6043, -6.6231, -6.5165, -6.8843, -6.255, -6.6099, -6.6102, -7.1044, -6.7537, -5.4516, -7.4285, -6.7563, -7.0516, -6.5139, -7.2761, -6.9973, -7.5645, -5.5874, -6.7181, -5.2489, -6.6634, -5.6214, -5.8057, -5.5923, -6.1885, -5.2821, -5.6358, -5.2477, -4.3685, -5.5863, -4.8109, -6.2172, -5.9761, -5.2672, -5.2643, -5.8412, -5.8421, -5.6146, -4.5269, -5.1577, -5.7643, -4.6439, -5.2888, -4.4356, -4.553, -5.1022, -4.3879, -4.4198, -5.0355, -4.5134, -4.5705, -5.0781, -4.7636, -4.9548, -4.9837, -5.1037, -5.063, -4.8626, -5.1471, -4.9218, -4.9025, -4.9297, -5.0349, -5.0081, -5.0384, -5.0743, -5.1234], \"loglift\": [30.0, 29.0, 28.0, 27.0, 26.0, 25.0, 24.0, 23.0, 22.0, 21.0, 20.0, 19.0, 18.0, 17.0, 16.0, 15.0, 14.0, 13.0, 12.0, 11.0, 10.0, 9.0, 8.0, 7.0, 6.0, 5.0, 4.0, 3.0, 2.0, 1.0, 1.032, 1.0301, 1.0296, 1.0291, 1.0287, 1.0244, 1.0228, 1.0226, 1.0222, 1.0215, 1.021, 1.0197, 1.0195, 1.0194, 1.0193, 1.018, 1.0179, 1.0176, 1.017, 1.0166, 1.016, 1.016, 1.0158, 1.0156, 1.0149, 1.0145, 1.0143, 1.0139, 1.013, 1.0128, 1.0109, 1.0106, 1.0098, 1.0123, 1.0019, 0.9995, 1.0083, 0.9908, 0.9529, 0.9832, 0.9609, 0.9644, 0.9224, 0.9446, 0.9229, 0.8905, 0.8471, 0.717, 0.7732, 0.7206, 0.7697, 0.6814, 0.5989, 0.6333, 0.8264, 0.4418, 0.7725, 0.7245, 0.4624, 0.5167, 0.3729, 0.7374, 0.1898, 0.5178, 0.286, 0.3309, 0.2196, 0.4064, 0.2631, 0.2295, 0.2676, 0.4937, 0.4075, 0.4092, 0.4569, 0.1278, 0.5556, 0.3816, 0.2103, -0.0183, 0.1206, 0.2378, 0.1246, 0.1856, -0.0196, -0.412, 1.0081, 1.0067, 1.005, 1.0046, 1.0045, 1.0036, 1.0031, 1.003, 1.003, 1.0028, 1.0027, 1.0023, 1.0019, 1.0017, 1.0015, 1.0014, 1.0012, 1.0011, 0.9996, 0.9993, 0.9992, 0.9988, 0.998, 0.9979, 0.9979, 0.9977, 0.9968, 0.9966, 0.9965, 0.996, 0.9955, 0.9923, 0.988, 0.9931, 0.9936, 0.9768, 0.9505, 0.9872, 0.9938, 0.9439, 0.9418, 0.9659, 0.8953, 0.9204, 0.9229, 0.9046, 0.8844, 0.8925, 0.8993, 0.7439, 0.8673, 0.833, 0.7927, 0.5991, 0.7185, 0.3427, 0.3255, 0.2184, 0.2382, 0.3175, 0.3504, 0.5734, 0.3428, 0.1791, 0.0919, 0.261, 0.2549, -0.0564, 0.3322, 0.2309, 0.0283, 0.0871, -0.3271, 0.0715, 0.2849, 0.1512, 0.2388, -0.2305, -0.1007, 1.2406, 1.238, 1.2374, 1.2373, 1.2372, 1.2368, 1.2361, 1.2355, 1.2353, 1.2349, 1.2348, 1.2347, 1.2342, 1.2338, 1.2336, 1.2329, 1.2291, 1.2281, 1.2281, 1.2277, 1.226, 1.2229, 1.2219, 1.2203, 1.2203, 1.2199, 1.2187, 1.2185, 1.2185, 1.2178, 1.2155, 1.2169, 1.1831, 1.2119, 1.1872, 1.192, 1.1843, 1.1954, 1.1364, 1.1459, 1.1093, 0.9606, 1.1036, 0.9559, 1.1537, 1.1027, 0.9279, 0.8592, 1.028, 1.0271, 0.9461, 0.5216, 0.7163, 0.9446, 0.4126, 0.6843, 0.2526, 0.3075, 0.5717, 0.0907, 0.1025, 0.4528, 0.0878, 0.1131, 0.4701, 0.1988, 0.3596, 0.3738, 0.4318, 0.3, -0.0597, 0.3964, -0.0873, -0.1327, -0.0804, 0.1046, -0.0378, 0.0463, 0.0043, 0.0457]}, \"token.table\": {\"Topic\": [1, 2, 3, 1, 2, 3, 1, 2, 1, 2, 3, 1, 2, 3, 1, 2, 3, 1, 2, 3, 1, 2, 3, 1, 2, 3, 1, 2, 1, 3, 1, 2, 3, 1, 2, 3, 1, 2, 3, 1, 2, 3, 1, 2, 3, 1, 2, 3, 1, 1, 2, 3, 1, 2, 3, 1, 2, 3, 1, 2, 3, 1, 2, 3, 2, 3, 1, 2, 1, 2, 3, 2, 1, 2, 3, 2, 3, 1, 2, 3, 1, 2, 3, 1, 2, 3, 1, 2, 3, 2, 3, 1, 2, 3, 1, 2, 3, 1, 2, 1, 2, 3, 1, 2, 3, 1, 2, 3, 1, 2, 3, 1, 2, 3, 1, 2, 3, 1, 2, 3, 1, 2, 3, 1, 2, 3, 1, 2, 3, 1, 2, 3, 1, 2, 3, 1, 2, 3, 2, 3, 1, 2, 3, 1, 2, 3, 1, 2, 3, 1, 2, 3, 1, 2, 3, 1, 2, 3, 1, 2, 3, 1, 2, 3, 1, 2, 3, 1, 2, 3, 1, 2, 3, 1, 2, 1, 1, 2, 1, 2, 3, 1, 2, 3, 1, 1, 2, 3, 1, 2, 3, 1, 2, 1, 2, 3, 1, 2, 3, 1, 2, 3, 1, 1, 2, 3, 1, 2, 3, 1, 2, 3, 1, 2, 3, 2, 3, 1, 2, 3, 1, 2, 3, 1, 2, 3, 3, 1, 2, 3, 1, 2, 3, 1, 2, 3, 1, 2, 3, 1, 2, 3, 1, 2, 3, 1, 2, 3, 2, 2, 1, 2, 1, 1, 2, 3, 1, 2, 3, 1, 2, 3, 1, 2, 3, 1, 2, 3, 1, 2, 3, 1, 2, 3, 1, 2, 3, 1, 1, 2, 3, 1, 2, 3, 1, 2, 3, 1, 2, 3, 1, 2, 3, 1, 2, 3, 1, 2, 3, 2, 2, 2, 3, 1, 2, 3, 1, 2, 1, 2, 3, 2, 1, 2, 3, 2, 3, 1, 2, 3, 1, 1, 2, 3, 1, 3, 1, 2, 3, 1, 2, 3, 1, 2, 3, 2, 3, 1, 1, 2, 3, 2, 3, 2, 3, 1, 2, 3, 1, 2, 3, 1, 2, 3, 1, 2, 3, 1, 2, 3, 1, 2, 3, 1, 2, 3, 2, 2, 2, 1, 2, 1, 2, 3, 1, 2, 3, 1, 2, 3, 1, 2, 3, 1, 2, 3, 2, 1, 2, 3, 2, 3, 1, 3, 1, 2, 3, 1, 2, 3, 1, 2, 3, 1, 2, 3, 1, 2, 3, 1, 2, 1, 2, 3, 2, 3, 2, 3, 1, 2, 3, 1, 2, 3, 1, 2, 3, 1, 2, 3, 1, 2, 3, 3, 1, 2, 3, 3, 1, 3, 1, 2, 3, 1, 2, 3, 1, 2, 3, 1, 2, 3, 1, 1, 2, 3, 1, 2, 3, 1, 2, 3, 3, 1, 2, 3, 1, 2, 3, 1, 2, 3, 1, 2, 3, 1, 2, 3, 1, 2, 3, 1, 2, 3, 1, 1, 1, 2, 2, 1, 2, 3, 1, 2, 3, 1, 2, 3, 1, 2, 3, 1, 2, 3, 2, 3, 1, 2, 3, 2, 1, 2, 3, 3, 2, 1, 2, 3, 3, 2, 3, 1, 2, 3, 1, 2, 3, 1, 2, 3, 1, 2, 3, 1, 2, 3, 1, 2, 3, 2, 1, 2, 3, 2, 1, 2, 3, 1, 2, 3, 1, 2, 3, 1, 2, 3], \"Freq\": [0.7246385289071857, 0.06375119022643862, 0.21037892774724745, 0.9730420117346416, 0.008610991254288863, 0.017221982508577725, 0.012943956055116005, 0.9837406601888165, 0.08181909993955426, 0.797736224410654, 0.11863769491235367, 0.5600050061002784, 0.22222420876995175, 0.21777972459455272, 0.5910512012048017, 0.2181732621896919, 0.19040575609282204, 0.7627842292528433, 0.10684915273580683, 0.13059340889931947, 0.6980249528572643, 0.10723847041103222, 0.19497903711096767, 0.25403720154780607, 0.28894307656964197, 0.45765480584184903, 0.012470114873041423, 0.9851390749702725, 0.021992666196685832, 0.9676773126541766, 0.00757416681954224, 0.00378708340977112, 0.9846416865404912, 0.4265641712876927, 0.2608629565441116, 0.3127693611625828, 0.9773518405608171, 0.010075792170730074, 0.02015158434146015, 0.9727111813824323, 0.011579895016457528, 0.011579895016457528, 0.9248334054997199, 0.012934732944052027, 0.06467366472026014, 0.019143991007415685, 0.019143991007415685, 0.9763435413782, 0.9750611674998131, 0.22890710694758526, 0.509104603003758, 0.2621508776661142, 0.07213881086279174, 0.8816965772118991, 0.044084828860594956, 0.5905590905103061, 0.3282921652215677, 0.08069751547345798, 0.06100797230337671, 0.004692920946413593, 0.9338912683363051, 0.13441960519646587, 0.008961307013097724, 0.8602854732573816, 0.029536400623703014, 0.9747012205821994, 0.9810186198348178, 0.013080248264464236, 0.3312498099044099, 0.22785391548338021, 0.4403899206821634, 0.9702143597077346, 0.015554820597808765, 0.935155814340263, 0.049153233089075696, 0.015665871402906418, 0.9869498983831042, 0.266145531283584, 0.5038352510462816, 0.22932036343302517, 0.4592406108716345, 0.432562733061664, 0.10861707394059404, 0.5301324748113766, 0.31082171886262255, 0.15777752226529065, 0.9804518227927468, 0.027234772855354077, 0.027234772855354077, 0.9891194009411964, 0.016764735609172823, 0.0078059481597926765, 0.99135541629367, 0.0078059481597926765, 0.0036395724196511326, 0.9790449808861547, 0.018197862098255663, 0.9772213805227612, 0.015034175084965557, 0.8066508945812076, 0.01002050800721997, 0.18036914412995947, 0.3988785826218975, 0.3140107990853236, 0.287338067116686, 0.9850078050680953, 0.017231901573933273, 0.9822183897141966, 0.9908570309465562, 0.008121778942184887, 0.008121778942184887, 0.49049335350153106, 0.3939842445949798, 0.11467552940660795, 0.3595322454955067, 0.32345015634183577, 0.3170069261358231, 0.9156502884828859, 0.06857292909343198, 0.016134806845513407, 0.08078079204013161, 0.8885887124414477, 0.028510867778869978, 0.9480459079819318, 0.0447895704558393, 0.00746492840930655, 0.2033771631845015, 0.12064746968572124, 0.6756258302400389, 0.9430519071337367, 0.009337147595383531, 0.046685737976917656, 0.11509263962431514, 0.6578944129876393, 0.22707466736689202, 0.006015367029792624, 0.9865201928859904, 0.012030734059585248, 0.9906705901546092, 0.010652371937146337, 0.10406637331492434, 0.8748079506785827, 0.019512444996548313, 0.31702712000661504, 0.48034412122214404, 0.2017445309133005, 0.34601517008114685, 0.3415019287322623, 0.3121658599645129, 0.023151850428298853, 0.08797703162753565, 0.8890310564466759, 0.5484942320403323, 0.20123327344336867, 0.2502059727326841, 0.7380922601544184, 0.23651575187268659, 0.024467146745450336, 0.557448188020177, 0.08104743159158602, 0.3617482922258596, 0.010659916366830488, 0.9096461966362016, 0.07817272002342358, 0.04787493881433502, 0.013678553946952863, 0.9369809453662712, 0.011490169307953017, 0.9766643911760065, 0.011490169307953017, 0.0962839530284295, 0.1814582191689633, 0.7221296477132213, 0.9817252670293998, 0.0258348754481421, 0.9809697413825721, 0.01345496728890719, 0.9822126120902248, 0.0072663783836990105, 0.19619221635987327, 0.7993016222068912, 0.008348399874706484, 0.9725885854033053, 0.020870999686766208, 0.9750639245754089, 0.9771282211518089, 0.015267628455497013, 0.015267628455497013, 0.5787285547303079, 0.10270950459377477, 0.31997961046522144, 0.9714110370069139, 0.017989093277905814, 0.0174765958145757, 0.9786893656162392, 0.00873829790728785, 0.011950142202791097, 0.017925213304186647, 0.9679615184260789, 0.34610655724369893, 0.46690453212483307, 0.18730472509659002, 0.972852096494115, 0.6157902515546808, 0.32436688147736276, 0.06081879027700552, 0.043543064430626825, 0.08708612886125365, 0.8665069821694737, 0.9754380320540962, 0.010719099253341717, 0.021438198506683433, 0.4466552072393909, 0.45516292547252213, 0.09783875968100943, 0.979400303695145, 0.975388663300178, 0.009847417584507818, 0.009847417584507818, 0.9847417584507818, 0.9240135001498253, 0.009428709185202298, 0.0660009642964161, 0.12427327221492857, 0.8610362432034336, 0.01331499345159949, 0.9845030842984663, 0.08768171548099582, 0.7609160366454235, 0.15218320732908472, 0.2431101708046849, 0.49705198288284586, 0.26116290626047833, 0.011405983132751069, 0.9600035803398816, 0.02851495783187767, 0.012158042085458122, 0.04863216834183249, 0.9483272826657335, 0.013247265652130955, 0.05298906260852382, 0.9339322284752323, 0.5308978645314613, 0.30433635546389504, 0.1640034804444323, 0.010994901573090268, 0.9785462400050338, 0.010994901573090268, 0.9688419783844777, 0.9901699659132468, 0.9876471684969814, 0.01975294336993963, 0.9761342550766132, 0.1418014066326689, 0.4737456085227802, 0.38511972937736216, 0.08701725910615747, 0.7411469999731344, 0.17103392307072332, 0.20404767670442878, 0.048286091433872455, 0.7460979934459647, 0.3796310661022906, 0.05635148637455876, 0.5664807314495117, 0.9100966269788743, 0.008273605699807948, 0.08273605699807948, 0.9716585478139212, 0.005141050517533974, 0.025705252587669872, 0.2870009766954355, 0.46876826193587795, 0.24463416584991882, 0.4435618582172724, 0.28711887917798545, 0.26963407563830044, 0.9787994970708818, 0.42473875099480424, 0.2760801881466228, 0.29864443429322174, 0.004981818709607968, 0.8855182756328163, 0.1096000116113753, 0.28436528038732883, 0.5129459842393443, 0.20272931472589473, 0.010175573884822101, 0.9768550929429216, 0.01526336082723315, 0.020870875450655118, 0.9531033122465837, 0.027827833934206826, 0.07323487250567444, 0.0332885784116702, 0.8987916171150954, 0.7228655910806759, 0.1485588432797379, 0.1304419111724528, 0.9867443556305201, 0.9825501597342894, 0.9755414889215893, 0.0157345401438966, 0.5115622787631672, 0.3476298212504249, 0.1395169851172274, 0.9810335950538703, 0.013080447934051605, 0.8225158861573895, 0.15302621137811898, 0.02677958699117082, 0.9702342873737764, 0.3214341755587954, 0.22829131786846263, 0.44927731356513445, 0.01950754678225356, 0.975377339112678, 0.7600146542253863, 0.003247925872758061, 0.2338506628385804, 0.9729080027936289, 0.46070768605624024, 0.37207041312371975, 0.16696788622172465, 0.01667602042351715, 0.983885204987512, 0.3982298446860606, 0.3264179054803775, 0.2752791002884517, 0.21531015142263574, 0.30355201675978155, 0.4812123056385684, 0.007632631136290859, 0.9769767854452299, 0.022897893408872574, 0.015907022375143166, 0.9862353872588764, 0.9834865520332947, 0.8873543785260896, 0.07539612366561545, 0.040597912743023705, 0.018463278318956472, 0.9785537509046931, 0.019146425131102835, 0.9764676816862445, 0.434995887351113, 0.31875731690191755, 0.2456588344544853, 0.10114732209505972, 0.39139615941131806, 0.5057366104752986, 0.009467528667015696, 0.9819179731790565, 0.00811502457172774, 0.017523565928733227, 0.017523565928733227, 0.9813196920090607, 0.16214035019433046, 0.413071844542699, 0.42465329812800834, 0.960526406318681, 0.015746334529814443, 0.031492669059628886, 0.010764671992832361, 0.9795851513477448, 0.010764671992832361, 0.9761655964612116, 0.9833057652267948, 0.9934483925798512, 0.9819887476957442, 0.012589599329432618, 0.9611410711024962, 0.038755688350907105, 0.007751137670181422, 0.011361928587163925, 0.9884877870832616, 0.011361928587163925, 0.017394341855130266, 0.8929095485633536, 0.08987076625150636, 0.13199453405001618, 0.4589112288483121, 0.40979698362039907, 0.8583518391483649, 0.027163032884441926, 0.11408473811465608, 0.9761780763302639, 0.7618485157280627, 0.024708600510099328, 0.2100231043358443, 0.017229335718170244, 0.9648428002175335, 0.027935432899722577, 0.9777401514902901, 0.019143635043877966, 0.019143635043877966, 0.9763253872377763, 0.9733272959456808, 0.017075917472731243, 0.017075917472731243, 0.013417650246680377, 0.925817867020946, 0.060379426110061696, 0.9685682460195886, 0.0097835176365615, 0.029350552909684503, 0.07881484819495325, 0.6406884433912329, 0.279665590369189, 0.986795453602186, 0.02055823861671221, 0.06405415238664677, 0.20283814922438143, 0.7366227524464378, 0.017826156329211282, 0.9804385981066205, 0.019883330768792454, 0.9742832076708303, 0.664047440556477, 0.06862496346176358, 0.26642632873390565, 0.013599940809680999, 0.027199881619361998, 0.9655957974873509, 0.01793659580553385, 0.968576173498828, 0.008968297902766926, 0.9767650403635436, 0.01028173726698467, 0.02056347453396934, 0.3332678704971768, 0.23482931800156945, 0.4317064229927842, 0.9598715230705938, 0.007266431820020793, 0.1961936591405614, 0.7993075002022871, 0.9869470379360435, 0.02199121120130754, 0.9676132928575317, 0.32208484743088445, 0.26279559690878135, 0.41502475365472175, 0.3509578489042942, 0.420044039633486, 0.22798442940633287, 0.8869088478532932, 0.10155444822747631, 0.006770296548498421, 0.004041868938495328, 0.9902578899313553, 0.008083737876990656, 0.9794937273054952, 0.013425421236126833, 0.013425421236126833, 0.9800557502372588, 0.08224505790115018, 0.9073487032965599, 0.01061226553563228, 0.9835170861571716, 0.011849603447676766, 0.011849603447676766, 0.9711832888334601, 0.6418340326296674, 0.2060208005971772, 0.1518743081325345, 0.17314671784913258, 0.4587157122164223, 0.36762905021995923, 0.23357050326808665, 0.4497622488525359, 0.3162933898422007, 0.34543151940359207, 0.30549099997255175, 0.34866993989800077, 0.5295516360309898, 0.3458001120530234, 0.12443016584334733, 0.40089611722540497, 0.3960776542779842, 0.20237544379167077, 0.46988245891162894, 0.14232954149605356, 0.38896908943099573, 0.9779577443716212, 0.9828318102583532, 0.9835035265694556, 0.02398789089193794, 0.9937885415990765, 0.021095449780068828, 0.021095449780068828, 0.970390689883166, 0.22904157823904792, 0.03714187755227804, 0.7366472381201812, 0.23523510342875956, 0.5003566339324845, 0.2641574522109841, 0.01987450477419034, 0.01987450477419034, 0.9539762291611364, 0.006073643089080822, 0.13362014795977809, 0.8624573186494767, 0.018462826368653484, 0.9785297975386347, 0.4394429713448749, 0.24095850659245002, 0.32018893079403526, 0.9750820556091707, 0.05308726891412017, 0.20269684494482246, 0.7432217647976823, 0.9862107416353871, 0.9772190126426981, 0.5169676492630663, 0.14696404744936667, 0.3371528147367823, 0.9476125923234935, 0.02521636027514003, 0.9834380507304611, 0.3787447979415304, 0.03491973314354536, 0.5855770634840682, 0.9606563172443537, 0.007874232108560277, 0.03149692843424111, 0.9669988491158714, 0.010178935253851279, 0.020357870507702557, 0.006559171831156127, 0.928122814108592, 0.06559171831156127, 0.029530027651989074, 0.8317624455310255, 0.13780679570928234, 0.39062587249686326, 0.5095120076046042, 0.10048709038868583, 0.9817477991450148, 0.31231886938180015, 0.3879585955602049, 0.2988989179630509, 0.9890929635714485, 0.07200535971675823, 0.024001786572252742, 0.9000669964594777, 0.727717896919435, 0.03885872265103779, 0.23315233590622675, 0.04957460989768894, 0.008262434982948158, 0.9419175880560899, 0.01482067898612477, 0.9781648130842349, 0.01482067898612477], \"Term\": [\"about\", \"about\", \"about\", \"acne\", \"acne\", \"acne\", \"active\", \"active\", \"advice\", \"advice\", \"advice\", \"advised\", \"advised\", \"advised\", \"affect\", \"affect\", \"affect\", \"affected\", \"affected\", \"affected\", \"all\", \"all\", \"all\", \"an\", \"an\", \"an\", \"ankle\", \"ankle\", \"ankylosing\", \"ankylosing\", \"antibiotic\", \"antibiotic\", \"antibiotic\", \"any\", \"any\", \"any\", \"application\", \"application\", \"application\", \"applying\", \"applying\", \"applying\", \"area\", \"area\", \"area\", \"arthritis\", \"arthritis\", \"arthritis\", \"ascoril\", \"at\", \"at\", \"at\", \"attack\", \"attack\", \"attack\", \"avoid\", \"avoid\", \"avoid\", \"bacteria\", \"bacteria\", \"bacteria\", \"bacterial\", \"bacterial\", \"bacterial\", \"behavior\", \"behavior\", \"beneficial\", \"beneficial\", \"better\", \"better\", \"better\", \"blindness\", \"blood\", \"blood\", \"blood\", \"broad\", \"broad\", \"but\", \"but\", \"but\", \"can\", \"can\", \"can\", \"cause\", \"cause\", \"cause\", \"causing\", \"causing\", \"causing\", \"cessation\", \"cessation\", \"checked\", \"checked\", \"checked\", \"cholesterol\", \"cholesterol\", \"cholesterol\", \"clean\", \"clean\", \"come\", \"come\", \"come\", \"common\", \"common\", \"common\", \"completed\", \"completion\", \"completion\", \"concerned\", \"concerned\", \"concerned\", \"condition\", \"condition\", \"condition\", \"consult\", \"consult\", \"consult\", \"contact\", \"contact\", \"contact\", \"control\", \"control\", \"control\", \"cough\", \"cough\", \"cough\", \"course\", \"course\", \"course\", \"cream\", \"cream\", \"cream\", \"day\", \"day\", \"day\", \"diabetes\", \"diabetes\", \"diabetes\", \"diabetic\", \"diabetic\", \"diet\", \"diet\", \"diet\", \"disease\", \"disease\", \"disease\", \"do\", \"do\", \"do\", \"dos\", \"dos\", \"dos\", \"dose\", \"dose\", \"dose\", \"drinking\", \"drinking\", \"drinking\", \"duration\", \"duration\", \"duration\", \"each\", \"each\", \"each\", \"ear\", \"ear\", \"ear\", \"eating\", \"eating\", \"eating\", \"effective\", \"effective\", \"effective\", \"efficacy\", \"efficacy\", \"ensure\", \"especially\", \"especially\", \"evenly\", \"evenly\", \"evenly\", \"exercise\", \"exercise\", \"exercise\", \"expectorant\", \"external\", \"external\", \"external\", \"eye\", \"eye\", \"eye\", \"faster\", \"faster\", \"fat\", \"fat\", \"fat\", \"finish\", \"finish\", \"finish\", \"food\", \"food\", \"food\", \"free\", \"from\", \"from\", \"from\", \"full\", \"full\", \"full\", \"gel\", \"gel\", \"gel\", \"get\", \"get\", \"get\", \"glucose\", \"gonorrhea\", \"gram\", \"gram\", \"gram\", \"hand\", \"hand\", \"hand\", \"healthy\", \"healthy\", \"healthy\", \"hearing\", \"heart\", \"heart\", \"heart\", \"help\", \"help\", \"help\", \"high\", \"high\", \"high\", \"history\", \"history\", \"history\", \"hour\", \"hour\", \"hour\", \"how\", \"how\", \"how\", \"hypertension\", \"hypertension\", \"hypertension\", \"hypoglycemia\", \"ill\", \"immediate\", \"immediate\", \"impair\", \"include\", \"include\", \"include\", \"increase\", \"increase\", \"increase\", \"infection\", \"infection\", \"infection\", \"inform\", \"inform\", \"inform\", \"irritation\", \"irritation\", \"irritation\", \"itching\", \"itching\", \"itching\", \"kidney\", \"kidney\", \"kidney\", \"know\", \"know\", \"know\", \"layer\", \"let\", \"let\", \"let\", \"level\", \"level\", \"level\", \"liver\", \"liver\", \"liver\", \"low\", \"low\", \"low\", \"lower\", \"lower\", \"lower\", \"many\", \"many\", \"many\", \"medication\", \"medication\", \"medication\", \"mellitus\", \"moderation\", \"monitoring\", \"monitoring\", \"most\", \"most\", \"most\", \"mucus\", \"mucus\", \"must\", \"must\", \"must\", \"narrowing\", \"nausea\", \"nausea\", \"nausea\", \"negative\", \"negative\", \"nose\", \"nose\", \"nose\", \"oil\", \"on\", \"on\", \"on\", \"orally\", \"orally\", \"other\", \"other\", \"other\", \"pain\", \"pain\", \"pain\", \"part\", \"part\", \"part\", \"penicillin\", \"penicillin\", \"pimple\", \"plenty\", \"plenty\", \"plenty\", \"pneumonia\", \"pneumonia\", \"positive\", \"positive\", \"pregnant\", \"pregnant\", \"pregnant\", \"prescribed\", \"prescribed\", \"prescribed\", \"pressure\", \"pressure\", \"pressure\", \"previous\", \"previous\", \"previous\", \"problem\", \"problem\", \"problem\", \"production\", \"production\", \"production\", \"program\", \"program\", \"program\", \"properly\", \"put\", \"raise\", \"recommend\", \"recommend\", \"recommends\", \"recommends\", \"recommends\", \"reduction\", \"reduction\", \"reduction\", \"regular\", \"regular\", \"regular\", \"regularly\", \"regularly\", \"regularly\", \"relief\", \"relief\", \"relief\", \"repeated\", \"resolve\", \"resolve\", \"resolve\", \"return\", \"return\", \"returning\", \"returning\", \"rheumatoid\", \"rheumatoid\", \"rheumatoid\", \"rinse\", \"rinse\", \"rinse\", \"risk\", \"risk\", \"risk\", \"runny\", \"runny\", \"runny\", \"same\", \"same\", \"same\", \"seek\", \"seek\", \"seen\", \"seen\", \"seen\", \"sexually\", \"sexually\", \"sinus\", \"sinus\", \"skin\", \"skin\", \"skin\", \"skip\", \"skip\", \"skip\", \"smoking\", \"smoking\", \"smoking\", \"sneezing\", \"sneezing\", \"sneezing\", \"some\", \"some\", \"some\", \"sp\", \"spaced\", \"spaced\", \"spaced\", \"spectrum\", \"spondylitis\", \"spondylitis\", \"stomach\", \"stomach\", \"stomach\", \"stop\", \"stop\", \"stop\", \"straight\", \"straight\", \"straight\", \"stroke\", \"stroke\", \"stroke\", \"stuffiness\", \"subside\", \"subside\", \"subside\", \"sugar\", \"sugar\", \"sugar\", \"support\", \"support\", \"support\", \"survive\", \"symptom\", \"symptom\", \"symptom\", \"tablet\", \"tablet\", \"tablet\", \"take\", \"take\", \"take\", \"taken\", \"taken\", \"taken\", \"tell\", \"tell\", \"tell\", \"that\", \"that\", \"that\", \"these\", \"these\", \"these\", \"thin\", \"thins\", \"thoroughly\", \"thoroughly\", \"those\", \"thought\", \"thought\", \"thought\", \"throat\", \"throat\", \"throat\", \"time\", \"time\", \"time\", \"tissue\", \"tissue\", \"tissue\", \"tract\", \"tract\", \"tract\", \"transmitted\", \"transmitted\", \"treatment\", \"treatment\", \"treatment\", \"triglyceride\", \"type\", \"type\", \"type\", \"typhoid\", \"unexplained\", \"using\", \"using\", \"using\", \"variety\", \"viral\", \"viral\", \"vomiting\", \"vomiting\", \"vomiting\", \"wash\", \"wash\", \"wash\", \"watery\", \"watery\", \"watery\", \"weight\", \"weight\", \"weight\", \"well\", \"well\", \"well\", \"while\", \"while\", \"while\", \"widely\", \"will\", \"will\", \"will\", \"working\", \"worry\", \"worry\", \"worry\", \"worsen\", \"worsen\", \"worsen\", \"worsening\", \"worsening\", \"worsening\", \"yellowing\", \"yellowing\", \"yellowing\"]}, \"R\": 30, \"lambda.step\": 0.01, \"plot.opts\": {\"xlab\": \"PC1\", \"ylab\": \"PC2\"}, \"topic.order\": [1, 2, 3]};\n",
       "\n",
       "function LDAvis_load_lib(url, callback){\n",
       "  var s = document.createElement('script');\n",
       "  s.src = url;\n",
       "  s.async = true;\n",
       "  s.onreadystatechange = s.onload = callback;\n",
       "  s.onerror = function(){console.warn(\"failed to load library \" + url);};\n",
       "  document.getElementsByTagName(\"head\")[0].appendChild(s);\n",
       "}\n",
       "\n",
       "if(typeof(LDAvis) !== \"undefined\"){\n",
       "   // already loaded: just create the visualization\n",
       "   !function(LDAvis){\n",
       "       new LDAvis(\"#\" + \"ldavis_el282731401835983332803743494085\", ldavis_el282731401835983332803743494085_data);\n",
       "   }(LDAvis);\n",
       "}else if(typeof define === \"function\" && define.amd){\n",
       "   // require.js is available: use it to load d3/LDAvis\n",
       "   require.config({paths: {d3: \"https://d3js.org/d3.v5\"}});\n",
       "   require([\"d3\"], function(d3){\n",
       "      window.d3 = d3;\n",
       "      LDAvis_load_lib(\"https://cdn.jsdelivr.net/gh/bmabey/pyLDAvis@3.4.0/pyLDAvis/js/ldavis.v3.0.0.js\", function(){\n",
       "        new LDAvis(\"#\" + \"ldavis_el282731401835983332803743494085\", ldavis_el282731401835983332803743494085_data);\n",
       "      });\n",
       "    });\n",
       "}else{\n",
       "    // require.js not available: dynamically load d3 & LDAvis\n",
       "    LDAvis_load_lib(\"https://d3js.org/d3.v5.js\", function(){\n",
       "         LDAvis_load_lib(\"https://cdn.jsdelivr.net/gh/bmabey/pyLDAvis@3.4.0/pyLDAvis/js/ldavis.v3.0.0.js\", function(){\n",
       "                 new LDAvis(\"#\" + \"ldavis_el282731401835983332803743494085\", ldavis_el282731401835983332803743494085_data);\n",
       "            })\n",
       "         });\n",
       "}\n",
       "</script>"
      ],
      "text/plain": [
       "PreparedData(topic_coordinates=              x         y  topics  cluster       Freq\n",
       "topic                                                \n",
       "0      0.093571  0.081654       1        1  35.269298\n",
       "1     -0.138180  0.021872       2        1  36.154724\n",
       "2      0.044609 -0.103526       3        1  28.575978, topic_info=          Term         Freq        Total Category  logprob  loglift\n",
       "419      blood  1607.000000  1607.000000  Default  30.0000  30.0000\n",
       "420   pressure   739.000000   739.000000  Default  29.0000  29.0000\n",
       "679      level   802.000000   802.000000  Default  28.0000  28.0000\n",
       "418       high   526.000000   526.000000  Default  27.0000  27.0000\n",
       "171  infection   642.000000   642.000000  Default  26.0000  26.0000\n",
       "..         ...          ...          ...      ...      ...      ...\n",
       "81     consult   246.202585   776.008282   Topic3  -5.0349   0.1046\n",
       "96       other   252.895850   919.067229   Topic3  -5.0081  -0.0378\n",
       "132       will   245.338896   819.675098   Topic3  -5.0384   0.0463\n",
       "66      common   236.707114   824.812397   Topic3  -5.0743   0.0043\n",
       "209        let   225.357121   753.404297   Topic3  -5.1234   0.0457\n",
       "\n",
       "[275 rows x 6 columns], token_table=      Topic      Freq       Term\n",
       "term                            \n",
       "98        1  0.724639      about\n",
       "98        2  0.063751      about\n",
       "98        3  0.210379      about\n",
       "8         1  0.973042       acne\n",
       "8         2  0.008611       acne\n",
       "...     ...       ...        ...\n",
       "247       2  0.008262  worsening\n",
       "247       3  0.941918  worsening\n",
       "876       1  0.014821  yellowing\n",
       "876       2  0.978165  yellowing\n",
       "876       3  0.014821  yellowing\n",
       "\n",
       "[556 rows x 3 columns], R=30, lambda_step=0.01, plot_opts={'xlab': 'PC1', 'ylab': 'PC2'}, topic_order=[1, 2, 3])"
      ]
     },
     "execution_count": 78,
     "metadata": {},
     "output_type": "execute_result"
    }
   ],
   "source": [
    "vis3 = pyLDAvis.gensim_models.prepare(Lda3, Corpus, D, sort_topics = False)\n",
    "vis3"
   ]
  },
  {
   "cell_type": "code",
   "execution_count": 63,
   "metadata": {},
   "outputs": [],
   "source": [
    "Lda4, Coherence_score = train_model_get_coherence_score(Corpus, Id2word, 4, Word2id)"
   ]
  },
  {
   "cell_type": "code",
   "execution_count": 64,
   "metadata": {},
   "outputs": [
    {
     "name": "stdout",
     "output_type": "stream",
     "text": [
      "This model has coherence score = -0.5560241282079252\n"
     ]
    }
   ],
   "source": [
    "print('This model has coherence score = {}'.format(Coherence_score))"
   ]
  },
  {
   "cell_type": "code",
   "execution_count": 65,
   "metadata": {},
   "outputs": [
    {
     "data": {
      "text/html": [
       "\n",
       "<link rel=\"stylesheet\" type=\"text/css\" href=\"https://cdn.jsdelivr.net/gh/bmabey/pyLDAvis@3.4.0/pyLDAvis/js/ldavis.v1.0.0.css\">\n",
       "\n",
       "\n",
       "<div id=\"ldavis_el282731401825475596961419197943\" style=\"background-color:white;\"></div>\n",
       "<script type=\"text/javascript\">\n",
       "\n",
       "var ldavis_el282731401825475596961419197943_data = {\"mdsDat\": {\"x\": [-0.1575702863322078, 0.01444245621003272, 0.05101663893888109, 0.09211119118329394], \"y\": [-0.038054078110845935, 0.08024050466756893, 0.07955360938394618, -0.12174003594066918], \"topics\": [1, 2, 3, 4], \"cluster\": [1, 1, 1, 1], \"Freq\": [30.04821120040887, 25.37481353859076, 25.124724546250192, 19.452250714750175]}, \"tinfo\": {\"Term\": [\"blood\", \"pressure\", \"level\", \"high\", \"infection\", \"antibiotic\", \"type\", \"heart\", \"bacteria\", \"use\", \"sugar\", \"all\", \"stroke\", \"using\", \"regular\", \"about\", \"dose\", \"ear\", \"skin\", \"early\", \"let\", \"exercise\", \"these\", \"hour\", \"risk\", \"tract\", \"weight\", \"medication\", \"diabetes\", \"pain\", \"hypertension\", \"active\", \"ankle\", \"those\", \"glucose\", \"working\", \"especially\", \"mellitus\", \"pr\", \"properly\", \"eating\", \"controlled\", \"put\", \"hypoglycemia\", \"blindness\", \"diabetic\", \"pressure\", \"blocker\", \"workload\", \"checked\", \"azulix\", \"reduction\", \"beating\", \"controlling\", \"angina\", \"deal\", \"big\", \"recognize\", \"advise\", \"avoided\", \"stroke\", \"diabetes\", \"program\", \"cessation\", \"high\", \"blood\", \"ill\", \"lower\", \"exercise\", \"sugar\", \"regular\", \"level\", \"low\", \"risk\", \"cholesterol\", \"part\", \"heart\", \"advice\", \"attack\", \"diet\", \"control\", \"healthy\", \"each\", \"weight\", \"well\", \"day\", \"time\", \"at\", \"tablet\", \"take\", \"try\", \"liver\", \"while\", \"kidney\", \"help\", \"but\", \"condition\", \"that\", \"can\", \"on\", \"any\", \"do\", \"disease\", \"food\", \"regularly\", \"other\", \"most\", \"stop\", \"know\", \"gel\", \"depression\", \"clean\", \"acne\", \"pimple\", \"external\", \"mood\", \"behavior\", \"thoroughly\", \"suicidal\", \"burning\", \"potential\", \"thin\", \"hand\", \"rinse\", \"broken\", \"sp\", \"oil\", \"meant\", \"think\", \"damaged\", \"clear\", \"component\", \"alleviates\", \"applied\", \"blackhead\", \"number\", \"observed\", \"whitehead\", \"talking\", \"wash\", \"week\", \"sun\", \"application\", \"suddenly\", \"exposure\", \"applying\", \"area\", \"hair\", \"consistent\", \"cream\", \"gradually\", \"redness\", \"several\", \"maintain\", \"use\", \"however\", \"eye\", \"skin\", \"vision\", \"mouth\", \"dry\", \"using\", \"advised\", \"do\", \"that\", \"get\", \"cause\", \"only\", \"treatment\", \"any\", \"can\", \"take\", \"water\", \"duration\", \"tablet\", \"pregnant\", \"dose\", \"common\", \"symptom\", \"without\", \"taken\", \"pain\", \"regularly\", \"some\", \"these\", \"other\", \"on\", \"consult\", \"better\", \"help\", \"at\", \"recommend\", \"beneficial\", \"mucus\", \"sneezing\", \"concerned\", \"runny\", \"thins\", \"impair\", \"stuffiness\", \"expectorant\", \"ascoril\", \"free\", \"antihistamine\", \"aggravated\", \"support\", \"shaving\", \"sharp\", \"object\", \"discontinuation\", \"potency\", \"cutting\", \"recovery\", \"alex\", \"bite\", \"dark\", \"sting\", \"earlier\", \"stuffy\", \"couple\", \"recommends\", \"watery\", \"cough\", \"windpipe\", \"nail\", \"air\", \"congestion\", \"straight\", \"bloating\", \"ambrodil\", \"easier\", \"never\", \"prescribe\", \"about\", \"all\", \"respond\", \"another\", \"come\", \"syrup\", \"dose\", \"medication\", \"sleepiness\", \"must\", \"affect\", \"how\", \"back\", \"symptom\", \"nose\", \"worsen\", \"contact\", \"given\", \"know\", \"drinking\", \"tell\", \"so\", \"on\", \"can\", \"most\", \"treatment\", \"these\", \"while\", \"condition\", \"avoid\", \"alcohol\", \"any\", \"taken\", \"take\", \"let\", \"do\", \"common\", \"food\", \"advised\", \"some\", \"pregnant\", \"that\", \"at\", \"gram\", \"completion\", \"transmitted\", \"sexually\", \"typhoid\", \"broad\", \"orally\", \"spectrum\", \"previous\", \"positive\", \"penicillin\", \"negative\", \"sinus\", \"gonorrhea\", \"antibiotic\", \"pneumonia\", \"survive\", \"return\", \"stone\", \"tissue\", \"hearing\", \"alright\", \"variety\", \"viral\", \"everybody\", \"alternative\", \"prescribing\", \"osteoporosis\", \"azithral\", \"azee\", \"bacteria\", \"ear\", \"urinary\", \"commonly\", \"hour\", \"nasal\", \"bacterial\", \"tract\", \"type\", \"spaced\", \"evenly\", \"infection\", \"injection\", \"interval\", \"seen\", \"throat\", \"pain\", \"diarrhea\", \"prescribed\", \"let\", \"these\", \"effective\", \"any\", \"an\", \"using\", \"stomach\", \"vomiting\", \"some\", \"dos\", \"full\", \"know\", \"consult\", \"other\", \"will\", \"treatment\", \"tablet\", \"nausea\", \"problem\", \"do\", \"time\", \"taken\", \"take\", \"regularly\", \"even\", \"at\", \"include\"], \"Freq\": [1608.0, 739.0, 804.0, 526.0, 642.0, 264.0, 414.0, 992.0, 213.0, 584.0, 376.0, 509.0, 247.0, 576.0, 345.0, 468.0, 1122.0, 146.0, 493.0, 264.0, 750.0, 239.0, 1023.0, 151.0, 298.0, 164.0, 305.0, 550.0, 166.0, 850.0, 89.81791266497348, 76.28817694030793, 79.09714315111202, 68.48262021265788, 68.47304607056324, 58.728602823336885, 73.11823731793172, 54.7786601141424, 53.71834356274575, 42.15617509681955, 85.2423898603943, 37.254256031484175, 49.67293734674402, 36.283138339007486, 37.232416612047196, 91.60822628574584, 721.2815337502691, 34.32836902637723, 32.41390652773226, 124.81460266538961, 30.45191144748341, 85.58589173641684, 29.463373170382656, 29.405455863778208, 55.007309340247794, 26.538127683746982, 25.58755247805778, 26.530577682966012, 27.452395723103894, 28.384174669180105, 238.1938907736803, 160.40828002817148, 89.7377900186488, 57.36554050442798, 490.27166789148146, 1452.944161089693, 59.18586885223145, 134.82177204408677, 216.66189995746, 330.8494087015, 304.33119356582506, 667.4691301471189, 175.8681618727362, 253.70766943363606, 234.88087632055354, 116.56187745590177, 710.4069387603732, 203.21948948722613, 204.6032795690153, 240.24363724337422, 167.91077601895154, 177.5779267121705, 212.6052613783332, 223.92733518752223, 156.02114595473563, 361.99913707699363, 465.98060108434163, 469.7047987701851, 499.5654131473025, 544.2112820599375, 137.00216595060772, 338.9883651262135, 323.9426494594594, 323.44807345738036, 346.6945907086195, 273.17383181530874, 328.85561561182703, 352.5075910645159, 341.9989534130881, 327.48801866054725, 376.0983883513673, 357.58423011724943, 268.72996620226223, 278.0738656964, 264.0667707505774, 281.08393521021475, 261.63192792203085, 257.7161918114667, 263.79510041572746, 91.01031679154558, 61.938840012059984, 64.80919061999427, 112.90101789412837, 40.499526315099004, 63.64486144965949, 47.24324633208363, 33.662630393527586, 40.37235162949258, 34.60132062208854, 78.66240700112047, 43.11929824037347, 32.5695375094249, 102.37149527788247, 56.43057201806545, 30.58660124183409, 26.74982980731323, 27.70019782703089, 27.62868577986208, 28.568021406360018, 22.8204515918409, 29.469959156036897, 22.81320357743347, 22.79533583333572, 33.22334517709982, 20.868007443145455, 21.813120359055034, 24.64850604481555, 20.853855626563654, 57.82178398801625, 120.60084997246979, 105.11540656270822, 48.21629128840521, 93.83094828931645, 88.18889517023975, 41.52972223661592, 80.00247998544648, 140.3290846589069, 51.00974566577521, 61.426871253420224, 95.81041114255551, 42.61242616968453, 113.89601029180996, 65.23470734709977, 75.32082593462918, 374.8900544515934, 128.9898105874009, 295.34858416828376, 279.9079744018778, 76.97613474039258, 134.79074112104908, 116.48569885021581, 267.2338609365893, 276.84310867874274, 434.3825077162732, 353.90656380425753, 274.44545143135593, 240.80269538278472, 141.53645600438435, 317.27186808792743, 334.846312071093, 276.66558904254913, 316.98648485470244, 110.4850782833631, 181.52876994806402, 270.2178993689984, 223.71862866363992, 254.47403862526969, 219.72967826283295, 210.1056919787004, 176.9908479735637, 212.17121571320888, 201.57913252360495, 184.87773593155543, 197.2116112504782, 200.99563020453184, 193.31487843610915, 188.69371968525152, 175.85738838212984, 161.23475204955088, 175.94951209250425, 181.5129674773646, 77.45907223354322, 74.50259260505149, 74.41750385674732, 94.62701496034215, 119.65724323538352, 99.06712942476331, 39.40047077317679, 30.68047360104091, 34.437953222046104, 29.644656548459988, 29.643789007284745, 27.670237403297378, 37.19000296931401, 23.798796179249383, 80.77437308883901, 23.736263501501583, 23.71773530068742, 23.71064005321845, 20.863205315617847, 20.85612749643142, 24.607879021908992, 21.759501220575476, 21.75188118815452, 20.800304707460903, 29.272818331075584, 18.84850166360563, 22.615435159649994, 22.60574697103448, 17.885854350548456, 122.3759236310179, 93.15794242271149, 126.17895303667514, 40.28596695238812, 51.054476708184886, 42.43755427193281, 44.02436066753793, 126.33980446564959, 27.880010021357148, 23.525710483679262, 74.11323702724016, 92.54764269773327, 79.68456321695412, 312.22239896945774, 334.98571891587363, 113.02554935241955, 91.77919486404987, 141.8105423093418, 114.96905072435902, 569.9978518133064, 311.4053920676707, 186.74607682569763, 168.65169307457717, 281.43361052891646, 317.4938580027676, 144.3943277981289, 375.2332778064988, 187.2476705430563, 172.665558223529, 153.5644549057634, 125.3183212072186, 423.9003857701044, 150.69716935435153, 301.51656906357243, 239.7274825456038, 370.15614799644385, 388.0279299770805, 339.38889316721674, 417.17749936699613, 360.4962009445433, 282.5901668499718, 316.5435595961268, 239.90357791237187, 199.83790832422088, 392.27925353914225, 298.7779584586175, 361.73226121758717, 255.6254224508774, 312.6402439797919, 256.80503058030354, 239.98370153662844, 230.38279376006466, 246.8488027252501, 235.5969021249681, 233.47196845885213, 224.11724098257088, 99.70396712412598, 56.63743090879146, 52.8452485147814, 54.70741716777633, 61.29990512003876, 62.23723841513138, 58.463976842539495, 62.198785069035246, 55.5225237556348, 50.8061656837085, 61.12185149471214, 49.82586023461528, 48.868856481756694, 49.807128321556746, 256.3699936781804, 52.55874349974759, 30.857484885086414, 55.95385851306127, 26.023191024380704, 48.10303698449259, 19.423373127909603, 30.51988465658737, 22.156895083210234, 37.583537044706944, 24.691307627447575, 33.82253652421947, 33.81879733811671, 15.531304689102178, 17.342168230454487, 15.487842272930123, 196.33017928204706, 133.3234481515474, 62.61909117651305, 62.085464041612816, 129.59437314383956, 61.66344876326205, 94.79741731512968, 131.69050030243372, 296.33237573368626, 111.42099313823071, 111.37807795659253, 413.82545927154496, 150.9913333751158, 104.78967402315286, 128.96724536655242, 109.74442245076655, 325.82551646870763, 178.68635438669727, 204.24714272485377, 269.6174232861121, 322.58094642530216, 143.2135863977295, 396.6903795814396, 208.89994962576, 222.7630645617663, 229.71606762640695, 165.898577798866, 244.47733086633428, 117.60236252609381, 120.4294031150537, 264.2862734526379, 220.5802434588231, 234.9939393053712, 219.7330224498254, 252.48066441058774, 248.43716193316365, 180.47005710389652, 171.98612869853073, 226.38895362547382, 207.44447968125783, 200.56964269787375, 218.99257364511584, 176.09811795268874, 160.81617529686017, 178.41131580923923, 166.08948918682987], \"Total\": [1608.0, 739.0, 804.0, 526.0, 642.0, 264.0, 414.0, 992.0, 213.0, 584.0, 376.0, 509.0, 247.0, 576.0, 345.0, 468.0, 1122.0, 146.0, 493.0, 264.0, 750.0, 239.0, 1023.0, 151.0, 298.0, 164.0, 305.0, 550.0, 166.0, 850.0, 90.96321487278716, 77.26880112578108, 80.20265357865316, 69.4438129953254, 69.4441535797323, 59.66221347258777, 74.33095316706503, 55.75040953940728, 54.771969080761636, 43.03388533880056, 87.04366001178147, 38.14314170123214, 50.86040698116434, 37.165608081648855, 38.143692298788594, 93.8844304546538, 739.5264766941199, 35.20897848643354, 33.25280719986457, 128.10780304520992, 31.29685551145405, 88.02083971756532, 30.318419183793686, 30.317753599730683, 56.730475778859216, 27.384217360917496, 26.406042798072477, 27.384377383331152, 28.361811980674453, 29.338514733242196, 247.48756579721461, 166.31221937072925, 92.9021202273501, 59.64732791052499, 526.3272283498391, 1608.7150620097057, 61.60189127633768, 143.81441836193872, 239.76658508370295, 376.9028287885788, 345.4011904075137, 804.6525343490547, 196.69234818379354, 298.48006114710563, 274.94654650125796, 131.0807099616964, 992.1268677248553, 244.67682140350345, 249.5241360884686, 307.6270670928021, 210.38556528165304, 225.331731355206, 282.21786585855807, 305.8303833811976, 203.39456860740447, 644.6628229172909, 1037.3952124720695, 1053.7463230393596, 1221.800676551172, 1441.922601777343, 175.81369120325994, 734.3662200600075, 705.6720668609355, 730.861109260058, 831.1951713282593, 597.6901568991982, 878.4241247267571, 1037.7181285495092, 1048.6706086361535, 969.0170063019328, 1499.9143335430422, 1330.9959354387884, 623.5378661654216, 737.0438749594613, 653.1952865811612, 917.1043565397936, 857.8866239924245, 722.5952728222284, 1084.189532162663, 92.75833228919501, 63.14827276566881, 66.11203979875143, 115.4532547175288, 41.43930848812242, 65.12450153835817, 48.34567806694533, 34.53057372143336, 41.438487292929366, 35.51690561226457, 80.90785251358164, 44.39569110572211, 33.54310632560223, 105.58701899396208, 58.205709074240566, 31.567796082261957, 27.62130644812599, 28.608984809152354, 28.60888508360643, 29.59391866639457, 23.674333122916877, 30.5811618878695, 23.673580235532214, 23.673205350464695, 34.52825978905768, 21.70093475598657, 22.686473198223073, 25.643897963600352, 21.70087554889293, 60.176164142509734, 126.30906817743178, 110.45323515763194, 50.31682302688697, 98.67573534514221, 92.72517919826963, 43.40885718168265, 85.83932183711497, 153.7952689309887, 54.23300594084839, 66.07559573695039, 106.56368845265273, 45.36886530467862, 134.93300080752144, 72.91327045551692, 86.74567354929702, 584.984923219217, 177.33719973733116, 506.50417759761086, 493.9454793436533, 96.58889105581689, 204.9459584830922, 173.27308545228323, 576.2350652725694, 674.889602167019, 1330.9959354387884, 1037.7181285495092, 703.4271501891776, 633.0788302960575, 282.1499234687586, 1223.8465366174885, 1499.9143335430422, 1048.6706086361535, 1441.922601777343, 186.0923048494362, 505.39580930724037, 1221.800676551172, 833.4846585081694, 1122.286227877117, 824.6854968402677, 755.3473179400005, 556.9742888505695, 927.1910831051608, 850.9297501642133, 653.1952865811612, 843.975011717997, 1023.9637868912909, 917.1043565397936, 969.0170063019328, 774.7171137432161, 523.2591340612572, 831.1951713282593, 1053.7463230393596, 78.85155429379947, 75.89390849331849, 75.89338437359329, 96.58844580800343, 122.21972554372873, 101.50930195004027, 40.40690962640871, 31.535787848943215, 35.47703012135448, 30.549235147458045, 30.549209363046845, 28.577523104666863, 38.4347764422796, 24.6347669567369, 83.7692062391533, 24.63325312285822, 24.632988053053158, 24.63279536135538, 21.677474518739576, 21.67738143218344, 25.617051417340345, 22.661957674804857, 22.661118330255263, 21.676851464137084, 30.544303326347354, 19.705410479200737, 23.649025576809937, 23.645765636661736, 18.71991549725606, 128.1098746209785, 97.57903071308567, 133.02870843052972, 42.35507848462807, 54.20318463396775, 45.33520519280608, 47.28574903393177, 146.86169881725306, 29.55596038970636, 24.63223686081075, 85.68648914200318, 111.31719567103035, 96.41693981532875, 468.44564518868395, 509.9653990221945, 149.40284323243094, 118.088111420736, 198.50022752675744, 154.99638318818717, 1122.286227877117, 550.2361781411148, 295.36809139252614, 260.11620297623506, 503.4464553555702, 591.0218925375842, 216.7886835824749, 755.3473179400005, 306.29492936385594, 282.1250511474973, 246.51663858292125, 185.33643215951278, 1084.189532162663, 244.03095016388153, 689.104421921817, 489.31271520238045, 969.0170063019328, 1048.6706086361535, 857.8866239924245, 1223.8465366174885, 1023.9637868912909, 705.6720668609355, 878.4241247267571, 543.9898702491247, 399.9346739054152, 1499.9143335430422, 927.1910831051608, 1441.922601777343, 750.5269209622443, 1330.9959354387884, 824.6854968402677, 737.0438749594613, 674.889602167019, 843.975011717997, 833.4846585081694, 1037.7181285495092, 1053.7463230393596, 101.54813471066888, 58.03167733771586, 54.162857213412146, 56.0977566561757, 62.86861407683721, 63.836226018942966, 59.96719043224926, 63.836813057778436, 57.06762751537279, 52.231091355682025, 62.86868577056897, 51.264855936700236, 50.29435892671159, 51.26496526764183, 264.08409434995565, 54.16539257291717, 31.91934434722404, 58.04364614790502, 27.08634879964028, 50.30457741078719, 20.315501464194497, 31.926308779173663, 23.21854622236089, 39.67175019251853, 26.12735315021059, 35.80652840010234, 35.80647000672476, 16.446854559503308, 18.384457494132583, 16.449439462647174, 213.02584038176624, 146.22822975171445, 67.74106949344113, 67.7656616147152, 151.201712590593, 68.76502125576907, 111.49806938059977, 164.79990821132498, 414.55332118589536, 137.77930308858112, 137.78219568770874, 642.4622036311621, 215.69172295544314, 138.8065413331627, 187.4461408251914, 161.4787183373557, 850.9297501642133, 347.1678065419434, 455.1386897858714, 750.5269209622443, 1023.9637868912909, 270.8402920052028, 1499.9143335430422, 515.507717470604, 576.2350652725694, 623.3981042275726, 372.27499254109523, 843.975011717997, 217.55887917613748, 231.30013220844, 1084.189532162663, 774.7171137432161, 917.1043565397936, 819.0288448196775, 1223.8465366174885, 1221.800676551172, 547.8312491946785, 518.7682077484416, 1330.9959354387884, 1037.3952124720695, 927.1910831051608, 1441.922601777343, 653.1952865811612, 489.57146704510933, 1053.7463230393596, 621.8870740029503], \"Category\": [\"Default\", \"Default\", \"Default\", \"Default\", \"Default\", \"Default\", \"Default\", \"Default\", \"Default\", \"Default\", \"Default\", \"Default\", \"Default\", \"Default\", \"Default\", \"Default\", \"Default\", \"Default\", \"Default\", \"Default\", \"Default\", \"Default\", \"Default\", \"Default\", \"Default\", \"Default\", \"Default\", \"Default\", \"Default\", \"Default\", \"Topic1\", \"Topic1\", \"Topic1\", \"Topic1\", \"Topic1\", \"Topic1\", \"Topic1\", \"Topic1\", \"Topic1\", \"Topic1\", \"Topic1\", \"Topic1\", \"Topic1\", \"Topic1\", \"Topic1\", \"Topic1\", \"Topic1\", \"Topic1\", \"Topic1\", \"Topic1\", \"Topic1\", \"Topic1\", \"Topic1\", \"Topic1\", \"Topic1\", \"Topic1\", \"Topic1\", \"Topic1\", \"Topic1\", \"Topic1\", \"Topic1\", \"Topic1\", \"Topic1\", \"Topic1\", \"Topic1\", \"Topic1\", \"Topic1\", \"Topic1\", \"Topic1\", \"Topic1\", \"Topic1\", \"Topic1\", \"Topic1\", \"Topic1\", \"Topic1\", \"Topic1\", \"Topic1\", \"Topic1\", \"Topic1\", \"Topic1\", \"Topic1\", \"Topic1\", \"Topic1\", \"Topic1\", \"Topic1\", \"Topic1\", \"Topic1\", \"Topic1\", \"Topic1\", \"Topic1\", \"Topic1\", \"Topic1\", \"Topic1\", \"Topic1\", \"Topic1\", \"Topic1\", \"Topic1\", \"Topic1\", \"Topic1\", \"Topic1\", \"Topic1\", \"Topic1\", \"Topic1\", \"Topic1\", \"Topic1\", \"Topic1\", \"Topic1\", \"Topic1\", \"Topic1\", \"Topic2\", \"Topic2\", \"Topic2\", \"Topic2\", \"Topic2\", \"Topic2\", \"Topic2\", \"Topic2\", \"Topic2\", \"Topic2\", \"Topic2\", \"Topic2\", \"Topic2\", \"Topic2\", \"Topic2\", \"Topic2\", \"Topic2\", \"Topic2\", \"Topic2\", \"Topic2\", \"Topic2\", \"Topic2\", \"Topic2\", \"Topic2\", \"Topic2\", \"Topic2\", \"Topic2\", \"Topic2\", \"Topic2\", \"Topic2\", \"Topic2\", \"Topic2\", \"Topic2\", \"Topic2\", \"Topic2\", \"Topic2\", \"Topic2\", \"Topic2\", \"Topic2\", \"Topic2\", \"Topic2\", \"Topic2\", \"Topic2\", \"Topic2\", \"Topic2\", \"Topic2\", \"Topic2\", \"Topic2\", \"Topic2\", \"Topic2\", \"Topic2\", \"Topic2\", \"Topic2\", \"Topic2\", \"Topic2\", \"Topic2\", \"Topic2\", \"Topic2\", \"Topic2\", \"Topic2\", \"Topic2\", \"Topic2\", \"Topic2\", \"Topic2\", \"Topic2\", \"Topic2\", \"Topic2\", \"Topic2\", \"Topic2\", \"Topic2\", \"Topic2\", \"Topic2\", \"Topic2\", \"Topic2\", \"Topic2\", \"Topic2\", \"Topic2\", \"Topic2\", \"Topic2\", \"Topic2\", \"Topic2\", \"Topic2\", \"Topic3\", \"Topic3\", \"Topic3\", \"Topic3\", \"Topic3\", \"Topic3\", \"Topic3\", \"Topic3\", \"Topic3\", \"Topic3\", \"Topic3\", \"Topic3\", \"Topic3\", \"Topic3\", \"Topic3\", \"Topic3\", \"Topic3\", \"Topic3\", \"Topic3\", \"Topic3\", \"Topic3\", \"Topic3\", \"Topic3\", \"Topic3\", \"Topic3\", \"Topic3\", \"Topic3\", \"Topic3\", \"Topic3\", \"Topic3\", \"Topic3\", \"Topic3\", \"Topic3\", \"Topic3\", \"Topic3\", \"Topic3\", \"Topic3\", \"Topic3\", \"Topic3\", \"Topic3\", \"Topic3\", \"Topic3\", \"Topic3\", \"Topic3\", \"Topic3\", \"Topic3\", \"Topic3\", \"Topic3\", \"Topic3\", \"Topic3\", \"Topic3\", \"Topic3\", \"Topic3\", \"Topic3\", \"Topic3\", \"Topic3\", \"Topic3\", \"Topic3\", \"Topic3\", \"Topic3\", \"Topic3\", \"Topic3\", \"Topic3\", \"Topic3\", \"Topic3\", \"Topic3\", \"Topic3\", \"Topic3\", \"Topic3\", \"Topic3\", \"Topic3\", \"Topic3\", \"Topic3\", \"Topic3\", \"Topic3\", \"Topic3\", \"Topic3\", \"Topic3\", \"Topic3\", \"Topic3\", \"Topic3\", \"Topic3\", \"Topic3\", \"Topic3\", \"Topic3\", \"Topic4\", \"Topic4\", \"Topic4\", \"Topic4\", \"Topic4\", \"Topic4\", \"Topic4\", \"Topic4\", \"Topic4\", \"Topic4\", \"Topic4\", \"Topic4\", \"Topic4\", \"Topic4\", \"Topic4\", \"Topic4\", \"Topic4\", \"Topic4\", \"Topic4\", \"Topic4\", \"Topic4\", \"Topic4\", \"Topic4\", \"Topic4\", \"Topic4\", \"Topic4\", \"Topic4\", \"Topic4\", \"Topic4\", \"Topic4\", \"Topic4\", \"Topic4\", \"Topic4\", \"Topic4\", \"Topic4\", \"Topic4\", \"Topic4\", \"Topic4\", \"Topic4\", \"Topic4\", \"Topic4\", \"Topic4\", \"Topic4\", \"Topic4\", \"Topic4\", \"Topic4\", \"Topic4\", \"Topic4\", \"Topic4\", \"Topic4\", \"Topic4\", \"Topic4\", \"Topic4\", \"Topic4\", \"Topic4\", \"Topic4\", \"Topic4\", \"Topic4\", \"Topic4\", \"Topic4\", \"Topic4\", \"Topic4\", \"Topic4\", \"Topic4\", \"Topic4\", \"Topic4\", \"Topic4\", \"Topic4\", \"Topic4\", \"Topic4\", \"Topic4\", \"Topic4\", \"Topic4\", \"Topic4\", \"Topic4\", \"Topic4\"], \"logprob\": [30.0, 29.0, 28.0, 27.0, 26.0, 25.0, 24.0, 23.0, 22.0, 21.0, 20.0, 19.0, 18.0, 17.0, 16.0, 15.0, 14.0, 13.0, 12.0, 11.0, 10.0, 9.0, 8.0, 7.0, 6.0, 5.0, 4.0, 3.0, 2.0, 1.0, -6.0935, -6.2568, -6.2206, -6.3647, -6.3649, -6.5184, -6.2992, -6.588, -6.6076, -6.8499, -6.1458, -6.9735, -6.6859, -7.0, -6.9741, -6.0738, -4.0103, -7.0553, -7.1127, -5.7645, -7.1752, -6.1418, -7.2082, -7.2101, -6.5838, -7.3127, -7.3492, -7.313, -7.2789, -7.2455, -5.1182, -5.5136, -6.0944, -6.5419, -4.3964, -3.31, -6.5106, -5.6874, -5.213, -4.7897, -4.8732, -4.0878, -5.4216, -5.0551, -5.1322, -5.8329, -4.0255, -5.277, -5.2702, -5.1097, -5.4679, -5.4119, -5.2319, -5.18, -5.5413, -4.6997, -4.4472, -4.4392, -4.3776, -4.292, -5.6713, -4.7653, -4.8107, -4.8123, -4.7429, -4.9812, -4.7957, -4.7262, -4.7565, -4.7999, -4.6615, -4.7119, -4.9976, -4.9634, -5.0151, -4.9527, -5.0244, -5.0395, -5.0161, -5.9113, -6.2961, -6.2508, -5.6958, -6.721, -6.2689, -6.567, -6.9059, -6.7241, -6.8784, -6.0571, -6.6583, -6.9389, -5.7937, -6.3893, -7.0017, -7.1357, -7.1008, -7.1034, -7.07, -7.2946, -7.0389, -7.2949, -7.2957, -6.919, -7.3841, -7.3398, -7.2176, -7.3847, -6.3649, -5.6298, -5.7672, -6.5466, -5.8808, -5.9428, -6.6959, -6.0402, -5.4783, -6.4903, -6.3044, -5.8599, -6.6701, -5.687, -6.2443, -6.1005, -4.4956, -5.5625, -4.7341, -4.7878, -6.0788, -5.5185, -5.6645, -4.8341, -4.7988, -4.3483, -4.5532, -4.8075, -4.9383, -5.4697, -4.6625, -4.6086, -4.7995, -4.6634, -5.7174, -5.2209, -4.823, -5.0119, -4.8831, -5.0299, -5.0747, -5.2462, -5.0649, -5.1161, -5.2026, -5.138, -5.119, -5.1579, -5.1821, -5.2526, -5.3394, -5.2521, -5.2209, -6.0626, -6.1015, -6.1027, -5.8624, -5.6277, -5.8166, -6.7386, -6.9887, -6.8732, -7.0231, -7.0231, -7.092, -6.7963, -7.2427, -6.0207, -7.2454, -7.2461, -7.2464, -7.3744, -7.3747, -7.2093, -7.3323, -7.3327, -7.3774, -7.0357, -7.4759, -7.2937, -7.2942, -7.5284, -5.6053, -5.8781, -5.5747, -6.7164, -6.4795, -6.6643, -6.6276, -5.5734, -7.0845, -7.2543, -6.1068, -5.8846, -6.0343, -4.6686, -4.5983, -5.6847, -5.893, -5.4579, -5.6677, -4.0667, -4.6713, -5.1826, -5.2845, -4.7725, -4.6519, -5.4398, -4.4848, -5.1799, -5.261, -5.3782, -5.5815, -4.3629, -5.3971, -4.7035, -4.9329, -4.4984, -4.4513, -4.5852, -4.3789, -4.5249, -4.7684, -4.6549, -4.9321, -5.1149, -4.4404, -4.7127, -4.5215, -4.8687, -4.6673, -4.864, -4.9318, -4.9726, -4.9036, -4.9502, -4.9593, -5.0002, -5.5543, -6.1198, -6.1891, -6.1545, -6.0407, -6.0255, -6.0881, -6.0261, -6.1397, -6.2285, -6.0436, -6.2479, -6.2673, -6.2483, -4.6099, -6.1945, -6.7271, -6.1319, -6.8975, -6.2831, -7.19, -6.7381, -7.0583, -6.5299, -6.95, -6.6353, -6.6355, -7.4136, -7.3033, -7.4164, -4.8767, -5.2637, -6.0194, -6.028, -5.2921, -6.0348, -5.6047, -5.276, -4.465, -5.4432, -5.4435, -4.131, -5.1393, -5.5045, -5.2969, -5.4583, -4.3701, -4.9708, -4.8371, -4.5595, -4.3801, -5.1921, -4.1733, -4.8146, -4.7504, -4.7196, -5.0451, -4.6574, -5.3892, -5.3654, -4.5794, -4.7602, -4.6969, -4.7641, -4.6251, -4.6413, -4.9609, -5.0091, -4.7342, -4.8216, -4.8553, -4.7674, -4.9854, -5.0762, -4.9724, -5.0439], \"loglift\": [30.0, 29.0, 28.0, 27.0, 26.0, 25.0, 24.0, 23.0, 22.0, 21.0, 20.0, 19.0, 18.0, 17.0, 16.0, 15.0, 14.0, 13.0, 12.0, 11.0, 10.0, 9.0, 8.0, 7.0, 6.0, 5.0, 4.0, 3.0, 2.0, 1.0, 1.1897, 1.1896, 1.1885, 1.1884, 1.1883, 1.1866, 1.1859, 1.1848, 1.1829, 1.1818, 1.1815, 1.1788, 1.1787, 1.1783, 1.1782, 1.1778, 1.1774, 1.177, 1.1768, 1.1763, 1.175, 1.1743, 1.1738, 1.1718, 1.1715, 1.171, 1.1709, 1.1707, 1.1698, 1.1693, 1.1641, 1.1662, 1.1677, 1.1634, 1.1314, 1.1005, 1.1624, 1.1378, 1.101, 1.072, 1.0758, 1.0154, 1.0905, 1.0398, 1.0449, 1.085, 0.8684, 1.0167, 1.0039, 0.9551, 0.9769, 0.9642, 0.9191, 0.8907, 0.9372, 0.6253, 0.402, 0.3944, 0.308, 0.228, 0.9529, 0.4293, 0.4238, 0.3872, 0.3279, 0.4194, 0.2199, 0.1227, 0.0819, 0.1175, -0.1809, -0.1119, 0.3607, 0.2276, 0.2967, 0.0198, 0.0148, 0.1714, -0.211, 1.3524, 1.3521, 1.3515, 1.3491, 1.3485, 1.3484, 1.3483, 1.346, 1.3453, 1.3453, 1.3433, 1.3422, 1.342, 1.3405, 1.3404, 1.3398, 1.3394, 1.3391, 1.3366, 1.3361, 1.3347, 1.3344, 1.3344, 1.3336, 1.3329, 1.3323, 1.3322, 1.3318, 1.3316, 1.3315, 1.3252, 1.3219, 1.3288, 1.3211, 1.3213, 1.3272, 1.301, 1.2798, 1.3101, 1.2985, 1.265, 1.3087, 1.2019, 1.2601, 1.2302, 0.9265, 1.0531, 0.832, 0.8034, 1.1444, 0.9524, 0.9743, 0.603, 0.4803, 0.2517, 0.2957, 0.4302, 0.4048, 0.6815, 0.0214, -0.1281, 0.0389, -0.1435, 0.8501, 0.3475, -0.1374, 0.0562, -0.1125, 0.0488, 0.0918, 0.225, -0.1034, -0.0687, 0.1092, -0.0824, -0.2567, -0.1855, -0.2647, -0.1114, 0.1942, -0.1813, -0.3874, 1.3635, 1.3628, 1.3617, 1.3608, 1.3601, 1.357, 1.3561, 1.3538, 1.3516, 1.3513, 1.3512, 1.3491, 1.3484, 1.3468, 1.3449, 1.3442, 1.3435, 1.3432, 1.343, 1.3427, 1.3411, 1.3407, 1.3404, 1.34, 1.3388, 1.3369, 1.3366, 1.3363, 1.3357, 1.3355, 1.335, 1.3285, 1.3312, 1.3215, 1.3153, 1.3099, 1.2308, 1.3229, 1.3354, 1.2362, 1.1967, 1.1907, 0.9756, 0.9611, 1.1023, 1.1293, 1.045, 1.0826, 0.7038, 0.8121, 0.9228, 0.948, 0.7997, 0.7599, 0.9749, 0.6817, 0.8892, 0.8903, 0.908, 0.99, 0.4422, 0.8993, 0.5547, 0.6678, 0.419, 0.3871, 0.454, 0.3051, 0.3374, 0.4662, 0.3606, 0.5626, 0.6875, 0.0401, 0.2489, -0.0015, 0.3043, -0.0673, 0.2146, 0.2592, 0.3065, 0.152, 0.1178, -0.1104, -0.1666, 1.6189, 1.6129, 1.6126, 1.6121, 1.6119, 1.6118, 1.6118, 1.6112, 1.6098, 1.6095, 1.609, 1.6087, 1.6085, 1.6084, 1.6076, 1.6071, 1.6034, 1.6005, 1.5972, 1.5925, 1.5923, 1.5922, 1.5904, 1.5831, 1.5807, 1.5802, 1.5801, 1.5799, 1.5788, 1.577, 1.5556, 1.5448, 1.5586, 1.5497, 1.483, 1.5282, 1.4749, 1.4129, 1.3015, 1.4249, 1.4245, 1.1973, 1.2806, 1.3561, 1.2633, 1.251, 0.6772, 0.973, 0.8359, 0.6134, 0.4821, 1.0, 0.3072, 0.7339, 0.6868, 0.6389, 0.829, 0.3982, 1.022, 0.9846, 0.2257, 0.381, 0.2755, 0.3215, 0.0588, 0.0443, 0.5268, 0.5332, -0.1342, 0.0276, 0.1062, -0.2475, 0.3264, 0.5239, -0.1388, 0.317]}, \"token.table\": {\"Topic\": [1, 2, 3, 4, 1, 2, 3, 1, 1, 2, 3, 4, 1, 1, 2, 3, 4, 1, 2, 3, 4, 3, 2, 3, 1, 2, 3, 4, 3, 1, 2, 3, 4, 2, 2, 4, 2, 4, 1, 3, 1, 2, 3, 4, 1, 2, 1, 1, 2, 3, 4, 1, 2, 3, 4, 2, 3, 1, 2, 3, 4, 2, 3, 2, 3, 2, 3, 1, 2, 3, 4, 3, 1, 2, 3, 4, 1, 2, 3, 4, 1, 2, 3, 4, 1, 4, 4, 1, 1, 2, 3, 4, 1, 2, 3, 4, 1, 2, 3, 4, 1, 2, 1, 3, 1, 2, 3, 4, 1, 3, 2, 1, 1, 3, 1, 1, 2, 3, 4, 3, 4, 2, 1, 2, 3, 1, 2, 3, 4, 1, 2, 3, 4, 1, 2, 3, 4, 1, 4, 1, 3, 4, 1, 2, 3, 4, 2, 3, 2, 1, 2, 3, 4, 1, 2, 3, 4, 1, 2, 3, 4, 3, 4, 2, 1, 3, 1, 2, 3, 4, 1, 3, 1, 2, 1, 2, 3, 4, 1, 2, 3, 1, 2, 3, 4, 1, 1, 1, 2, 3, 3, 1, 2, 3, 3, 2, 1, 3, 1, 2, 3, 4, 1, 1, 2, 1, 2, 3, 4, 1, 4, 1, 2, 3, 4, 1, 2, 3, 4, 3, 1, 2, 3, 4, 1, 2, 3, 4, 1, 2, 3, 4, 1, 2, 3, 4, 1, 2, 3, 4, 1, 2, 3, 4, 1, 2, 3, 4, 1, 2, 3, 4, 1, 2, 3, 4, 3, 1, 2, 3, 4, 1, 2, 3, 1, 3, 4, 1, 2, 3, 4, 1, 4, 1, 2, 3, 4, 1, 2, 3, 4, 2, 4, 1, 2, 3, 4, 3, 2, 3, 2, 3, 1, 2, 3, 4, 1, 2, 3, 4, 3, 1, 2, 3, 4, 2, 3, 1, 2, 3, 4, 1, 2, 3, 4, 1, 3, 4, 1, 2, 3, 3, 4, 1, 2, 3, 4, 2, 3, 1, 2, 3, 4, 4, 1, 2, 3, 4, 1, 2, 3, 4, 1, 2, 3, 4, 1, 2, 3, 4, 1, 2, 3, 4, 1, 2, 3, 4, 1, 1, 1, 4, 3, 1, 2, 3, 4, 1, 2, 3, 4, 1, 2, 3, 4, 1, 3, 4, 1, 2, 3, 4, 1, 2, 3, 4, 1, 2, 3, 4, 1, 2, 3, 4, 1, 2, 3, 4, 1, 2, 3, 4, 1, 2, 3, 4, 1, 2, 3, 4, 2, 1, 2, 3, 4, 1, 2, 1, 2, 3, 4, 1, 2, 3, 4, 1, 3, 1, 2, 3, 4, 2, 3, 1, 2, 3, 4, 1, 2, 3, 4, 3, 4, 1, 2, 3, 1, 2, 3, 4, 2, 3, 2, 2, 1, 2, 3, 4, 1, 2, 3, 4, 3, 4, 4, 1, 2, 3, 4, 1, 2, 3, 4, 1, 2, 3, 4, 1, 3, 4, 2, 1, 3, 4, 3, 4, 3, 1, 2, 1, 1, 2, 3, 4, 1, 2, 3, 4, 1, 2, 3, 4, 2, 4, 1, 2, 3, 4, 3, 4, 1, 2, 3, 4, 1, 2, 4, 1, 1, 2, 1, 1, 3, 1, 2, 3, 3, 1, 2, 3, 4, 1, 3, 4, 1, 2, 3, 4, 1, 2, 3, 4, 1, 3, 4, 2, 3, 4, 1, 2, 3, 4, 1, 2, 3, 4, 1, 2, 3, 4, 1, 2, 3, 4, 1, 2, 3, 4, 3, 4, 3, 3, 1, 4, 1, 2, 3, 4, 1, 2, 3, 4, 1, 3, 4, 1, 2, 3, 4, 1, 2, 3, 4, 2, 1, 2, 3, 4, 3, 4, 3, 1, 2, 3, 4, 4, 1, 2, 3, 4, 1, 2, 3, 1, 2, 3, 4, 3, 3, 1, 2, 1, 2, 3, 4, 2, 1, 2, 3, 1, 2, 3, 4, 1, 4, 1, 2, 3, 4, 1, 2, 3, 4, 1, 2, 3, 4, 1, 2, 3, 4, 1, 2, 3, 4, 1, 2, 1, 2, 3, 4, 1, 2, 3, 4, 1, 2, 3, 4, 2, 2, 3, 2, 1, 1, 2, 3, 4, 1, 2, 3, 4, 1, 3, 4, 1, 2, 3, 4, 3, 4, 1, 2, 3, 4, 1, 2, 3, 4, 1, 2, 3, 4, 3, 4, 1, 2, 3, 4, 1, 2, 3, 4, 1, 2, 3, 4, 4, 1, 3, 4, 1, 2, 3, 4, 1, 2, 3, 4, 1, 2, 3, 1, 2, 3, 4, 1, 2, 3, 1, 2, 4, 1, 2, 3, 4, 1, 2, 3, 4, 1, 2, 3, 4, 2, 1, 2, 3, 4, 1, 3, 4, 1, 2, 3, 4, 1, 1, 1, 2, 3, 4], \"Freq\": [0.07471517850465328, 0.08965821420558394, 0.6660324483843378, 0.1686428314819317, 0.008661514155201847, 0.9787510995378087, 0.017323028310403693, 0.983579386410879, 0.8296658377183467, 0.00408702383112486, 0.13078476259599553, 0.03678321448012375, 0.9519843096907072, 0.20151443964066773, 0.41043749838577176, 0.3407964788040704, 0.0474151622683924, 0.13904159867519764, 0.21452132367030494, 0.5581527032532934, 0.08739757631012424, 0.9742328816078648, 0.04411582547148955, 0.9264323349012806, 0.34255594460509464, 0.12502041773908565, 0.5000816709563426, 0.035005716966943975, 0.9708258736122218, 0.07451485938626629, 0.031374677636322644, 0.6569073130105054, 0.23727099962469, 0.9715625602659895, 0.03132213018788834, 0.9709860358245386, 0.027927868036409304, 0.9495475132379163, 0.04059720624037089, 0.9743329497689014, 0.24829890157231058, 0.19398351685336765, 0.15130714314562677, 0.4054255502235384, 0.9694965403497624, 0.017627209824541135, 0.9850048156140653, 0.016936505935590776, 0.11855554154913542, 0.7790792730371756, 0.08468252967795388, 0.007573345168413154, 0.01136001775261973, 0.01136001775261973, 0.9693881815568837, 0.02601810372181494, 0.9626698377071528, 0.2506809833011107, 0.22334608884540452, 0.26134825918626436, 0.2646817829003749, 0.9526151456709423, 0.0405368147094018, 0.9557388701778131, 0.028961783944782216, 0.9319738120928377, 0.058248363255802356, 0.013004301197961062, 0.9103010838572744, 0.03251075299490266, 0.04551505419286372, 0.9820221415055284, 0.44602765364282515, 0.1727170914106259, 0.21257488173615496, 0.16892111137962312, 0.8215638102733173, 0.08015256685593339, 0.04809154011356003, 0.052099168456356704, 0.24632811625450596, 0.28493177626454047, 0.4411846858289659, 0.02573577334002301, 0.9543768747186925, 0.9118851760305564, 0.9246941339131474, 0.9585627536613246, 0.009225573802790871, 0.07380459042232697, 0.6642413138009428, 0.24909049267535355, 0.004694266189528405, 0.06571972665339766, 0.00938853237905681, 0.9200761731475673, 0.00896876515939025, 0.00896876515939025, 0.13453147739085375, 0.8520326901420737, 0.9565142504363014, 0.984634668230142, 0.01317628805595165, 0.9882216041963738, 0.10893264214538698, 0.30768693658609303, 0.3000425406460659, 0.28093155079599796, 0.9846231106577576, 0.9687753793369444, 0.9677002505252358, 0.9700162142188601, 0.0338341230267813, 0.9473554447498764, 0.9656627786886981, 0.9032053185259689, 0.06340464039205013, 0.01243228242981375, 0.020513266009192687, 0.015665086462085913, 0.9712353606493266, 0.9820134392409801, 0.012359739740121448, 0.9764194394695943, 0.012359739740121448, 0.456758400399828, 0.2308888617405724, 0.1706569847647709, 0.14054104627687017, 0.3261271911156044, 0.26414395303807725, 0.3699922519089313, 0.0400507076808637, 0.2353577356714338, 0.38067929058265465, 0.31275725948284494, 0.07108119533701021, 0.9556169906806863, 0.03353042072563812, 0.9757407201486926, 0.00780592576118954, 0.01561185152237908, 0.8547115902724197, 0.06183020014736654, 0.04000777656594305, 0.043644847162846966, 0.9831794662192161, 0.015125837941834095, 0.948296212757806, 0.030226665605162652, 0.10075555201720884, 0.7153644193221828, 0.15617110562667372, 0.22675310856863512, 0.26676836302192364, 0.3116339513483381, 0.19522593839331687, 0.029513472640038438, 0.029513472640038438, 0.014756736320019219, 0.9149176518411916, 0.017231967881619053, 0.982222169252286, 0.9715471750013873, 0.016363970636510915, 0.981838238190655, 0.37453434023381227, 0.17986755549222597, 0.3608735132344027, 0.08538016874630978, 0.06344406213904386, 0.9305129113726431, 0.06053672245232811, 0.9231850173980036, 0.3136628786033808, 0.22717969808310712, 0.17425715477965603, 0.28526541634299246, 0.012169563958218927, 0.36103039742716153, 0.6247042831885716, 0.7985338717277989, 0.12358262300549269, 0.01901271123161426, 0.061791311502746346, 0.9700302164361251, 0.9565352493747298, 0.045103046333290694, 0.007517174388881782, 0.9471639729991045, 0.9615428019767726, 0.009384059565884017, 0.9008697183248656, 0.09384059565884018, 0.9759124730130861, 0.9715162780123204, 0.03273932914152949, 0.9494405451043552, 0.5615338548015572, 0.15822224638054927, 0.1799390252955266, 0.09927670361132503, 0.985969386824038, 0.015835745875596774, 0.9818162442870001, 0.9620459675505948, 0.02405114918876487, 0.006012787297191217, 0.006012787297191217, 0.9799281899508995, 0.010651393369031516, 0.11233760523036337, 0.09217444531722123, 0.28228423878399, 0.5156008034932063, 0.7801654199940703, 0.06826447424948115, 0.14303032699891288, 0.006501378499950586, 0.9687475347668421, 0.4314092448855954, 0.11065887694091481, 0.2630153017146381, 0.19565772444625518, 0.2689715200985782, 0.32607161933738255, 0.2351622508124441, 0.1697976635259181, 0.022982284239256252, 0.312559065653885, 0.12410433489198378, 0.5423819080464476, 0.15414962395755458, 0.22632372534808592, 0.5078918246000353, 0.11137978609649898, 0.2417726110576463, 0.13932658942305043, 0.6187739706729593, 0.004097840865383836, 0.04616989406703373, 0.6694634639719891, 0.19622204978489335, 0.08656855137568825, 0.023743766329302814, 0.36011378932775934, 0.37396431968651933, 0.24337360487535384, 0.7547360595050043, 0.223231792247959, 0.007086723563427271, 0.014173447126854541, 0.013677249621334153, 0.05470899848533661, 0.02051587443200123, 0.9095370998187212, 0.9725559273170914, 0.026450842684991305, 0.011336075436424845, 0.49122993557841, 0.4723364765177019, 0.10503406184707637, 0.03501135394902546, 0.8636133974092945, 0.9765214375003893, 0.011488487500004581, 0.011488487500004581, 0.19568727978989875, 0.08122868217693911, 0.19199506696367424, 0.5279864341501042, 0.9820942270971071, 0.0134533455766727, 0.33090163725794347, 0.21651588610704944, 0.12255616194738647, 0.3288590345588204, 0.00725783179030299, 0.00725783179030299, 0.17418796296727176, 0.8056193287236318, 0.03827406451203956, 0.956851612800989, 0.905046881008231, 0.04170722953954981, 0.0458779524935048, 0.012512168861864945, 0.9820213126513007, 0.9675444765618675, 0.023036773251473033, 0.9827330495927735, 0.015355203899887086, 0.1006901862920401, 0.5824236265912123, 0.20335468996235548, 0.11253609056169188, 0.3771824303068667, 0.2075860138019806, 0.32562511968938135, 0.08954690791457987, 0.9797910020909912, 0.03891048359578757, 0.38910483595787565, 0.051880644794383424, 0.5188064479438342, 0.9810439424060254, 0.010780702663802478, 0.35824605281759153, 0.38952150187309553, 0.12652340754272082, 0.1251017962220161, 0.06474711884855971, 0.01618677971213993, 0.6744491546724971, 0.24280169568209894, 0.9792041013492346, 0.019506499122339104, 0.9753249561169552, 0.044083095016126665, 0.9477865428467233, 0.022041547508063333, 0.009847546711214359, 0.9847546711214359, 0.018438955810243927, 0.9403867463224403, 0.018438955810243927, 0.036877911620487855, 0.9660278410344438, 0.01894172237322439, 0.7899464444242267, 0.08875802746339626, 0.11982333707558494, 0.004437901373169813, 0.9352464192669311, 0.715634283373629, 0.039309488805030324, 0.09474594737622694, 0.15018240594742355, 0.4174711451288752, 0.21174328974836318, 0.17324450979411535, 0.1985093341390905, 0.9309797662117281, 0.03799917413109094, 0.011399752239327283, 0.01899958706554547, 0.039682090217100424, 0.08597786213705091, 0.019841045108550212, 0.8597786213705092, 0.25210572041631235, 0.17596640888118445, 0.5363591501474564, 0.0338396940156124, 0.15789129433346824, 0.7274277488934786, 0.10714052115485344, 0.005638974797623865, 0.98941094073979, 0.9686374543075378, 0.9577628020434316, 0.03246653566248921, 0.983010164467441, 0.40521826314531906, 0.22672926628369042, 0.09969655680559436, 0.26692949080207523, 0.040469306759291654, 0.21479862818393264, 0.09961675509979484, 0.6443958845517979, 0.12054240952663256, 0.09272493040510196, 0.08345243736459178, 0.7000732245585198, 0.09365552858778803, 0.15128970002642683, 0.756448500132134, 0.4419444350062808, 0.10125042783425628, 0.24218007738734273, 0.21481509689159778, 0.2434998606501871, 0.12174993032509356, 0.39107553377151266, 0.2434998606501871, 0.2278399284875249, 0.07194945110132366, 0.3410936941099788, 0.3597472555066183, 0.8289292228969211, 0.12427724481213209, 0.01242772448121321, 0.034797628547396986, 0.46162254028010596, 0.11846950148781481, 0.2519179054625947, 0.16749136417242783, 0.8947984078950638, 0.02033632745216054, 0.07117714608256188, 0.015252245589120405, 0.9387097728980455, 0.041720434351024245, 0.0069534057251707075, 0.013906811450341415, 0.05763976225463892, 0.8645964338195837, 0.046111809803711136, 0.023055904901855568, 0.9787169237169842, 0.11086148534630852, 0.2744276112670916, 0.5652118351262614, 0.049069837776234915, 0.9865398380817839, 0.9721654939851719, 0.3054016610967857, 0.1900017967892216, 0.39515711111377994, 0.10957158833243455, 0.06343135573992051, 0.6587102326837899, 0.2439667528458481, 0.039034680455335695, 0.013176379051399173, 0.9750520498035388, 0.06535540579743572, 0.27295493009517274, 0.6497096223392139, 0.015377742540573112, 0.03689820097298584, 0.9409041248111389, 0.014542277188871, 0.014542277188871, 0.072711385944355, 0.901621185710002, 0.18253796246015855, 0.17158568471254904, 0.3176160546806759, 0.3285683324282854, 0.019506540723234635, 0.9753270361617318, 0.08085004249116381, 0.08085004249116381, 0.8354504390753594, 0.006529654291547695, 0.16324135728869238, 0.6105226762597095, 0.21874341876684777, 0.9697408586947379, 0.974310858671439, 0.9748907921676214, 0.9787135120936716, 0.33745537784515534, 0.19504301655270445, 0.38183024404497695, 0.08565381150198131, 0.36859836331486917, 0.5032785345260713, 0.109870665988086, 0.02126529019124245, 0.01667578542185992, 0.9671955544678754, 0.972830393928114, 0.306399155119276, 0.21044497130968065, 0.22680079809540712, 0.25624128630971477, 0.2315114731409764, 0.23738739885521437, 0.14924851314164467, 0.38311035656831627, 0.8925798466775852, 0.061031100627527195, 0.007628887578440899, 0.038144437892204494, 0.015906169943640445, 0.015906169943640445, 0.9702763665620672, 0.9652670727231135, 0.01846197271909006, 0.01846197271909006, 0.978484554111773, 0.019145684573010815, 0.9764299132235517, 0.9687516947421627, 0.02252470848170018, 0.9685624647131077, 0.9859057635918956, 0.26875119741367676, 0.26875119741367676, 0.2831485829894094, 0.17996731969665855, 0.10371621438259089, 0.01037162143825909, 0.8297297150607271, 0.051858107191295445, 0.34934406493722725, 0.06371684203257605, 0.13841934648456175, 0.4482150267119142, 0.0279279135813218, 0.9495490617649411, 0.9749481901216869, 0.013522166298497737, 0.005408866519399095, 0.005408866519399095, 0.017523069444767465, 0.981291888906978, 0.3508310595784515, 0.1966196048186926, 0.12144152062331012, 0.3315546277334816, 0.9687615285824691, 0.010764016984249657, 0.021528033968499314, 0.9759750872908429, 0.9830829709742004, 0.019661659419484008, 0.9859636252469585, 0.012682058190939625, 0.976518480702351, 0.03902899768493903, 0.007805799536987807, 0.9523075435125125, 0.9707899165507308, 0.044466512744045845, 0.844863742136871, 0.03705542728670487, 0.07411085457340974, 0.9770413492526356, 0.011360945921542274, 0.011360945921542274, 0.8801359359570607, 0.040532575998022534, 0.04921812799759879, 0.028951839998587522, 0.40416703155006206, 0.2832231092301571, 0.04286620031591567, 0.2694446877000414, 0.15394620010154786, 0.7563443744119526, 0.08701306962261401, 0.017228414587392236, 0.017228414587392236, 0.9647912168939652, 0.017180445284577052, 0.9621049359363149, 0.017180445284577052, 0.017180445284577052, 0.8509781156698983, 0.08040738100817937, 0.03350307542007474, 0.036853382962082216, 0.009851313926798246, 0.009851313926798246, 0.9752800787530264, 0.009851313926798246, 0.20272489917750858, 0.10136244958875429, 0.010669731535658346, 0.6881976840499633, 0.041144773526929454, 0.8914700930834715, 0.013714924508976484, 0.054859698035905936, 0.01782602477544727, 0.9804313626495998, 0.9743032371188642, 0.9742927529831373, 0.01988294554976214, 0.9742643319383449, 0.018220634414873184, 0.5668641817960546, 0.19232891882366138, 0.22269664284845, 0.1794371211532333, 0.18620833327222325, 0.633108333125559, 0.003385606059494968, 0.010353205206218763, 0.9835544945907826, 0.010353205206218763, 0.17575672433615439, 0.32085820605553766, 0.4904838818683378, 0.01430577988782652, 0.18365472655935836, 0.23341923311092644, 0.29266269329136463, 0.2891080856805383, 0.9775062613604889, 0.014515968328814665, 0.007257984164407333, 0.17419161994577598, 0.8056362422492139, 0.01566494240705444, 0.9712264292373752, 0.9642021931009606, 0.23099204027645318, 0.1331412454371223, 0.2662824908742446, 0.36894561988600155, 0.9598931252168359, 0.35704634351167797, 0.18682657509331987, 0.2407986967869456, 0.21588848677450295, 0.027236509125346486, 0.10894603650138594, 0.8579500374484142, 0.9616644748730993, 0.00404060703728193, 0.02424364222369158, 0.00808121407456386, 0.9583665792682736, 0.9726900094255987, 0.04313822884555445, 0.9490410346021978, 0.8782104423675533, 0.03449164879389182, 0.08224931635466512, 0.005306407506752588, 0.9854462092529233, 0.019874068747656157, 0.9539552998874955, 0.019874068747656157, 0.011937560887769342, 0.011937560887769342, 0.9669424319093166, 0.011937560887769342, 0.031328964314612184, 0.9711978937529776, 0.15092394888076555, 0.2780178005698313, 0.496460358160413, 0.07413808015195501, 0.006451763450414588, 0.006451763450414588, 0.7419527967976776, 0.2451670111157543, 0.40923205363690823, 0.22098530896393045, 0.16696667788385855, 0.20297909860390648, 0.37727406403745567, 0.21984536452182618, 0.2510536970249245, 0.15188055151507865, 0.2329616881955082, 0.22864758285855433, 0.3224793739373007, 0.21678379318193122, 0.033235750874109925, 0.9638367753491878, 0.2641109158644305, 0.17704138316187096, 0.43824998126954945, 0.12189734578358329, 0.340169445139609, 0.3411330979587014, 0.2245311068485238, 0.09443797627105292, 0.13672358514262878, 0.1962960043833456, 0.3515749332239026, 0.31544084286477925, 0.9838087051231836, 0.9799310570158121, 0.9651814593242439, 0.965286201623127, 0.9792089038166353, 0.018578299548628475, 0.12385533032418983, 0.17959022897007526, 0.681204316783044, 0.44920199591970494, 0.14362896436059236, 0.20724984790286816, 0.1995382256553196, 0.019878906681473532, 0.019878906681473532, 0.9541875207107295, 0.1516991136180864, 0.024271858178893827, 0.024271858178893827, 0.8009713199034962, 0.018462836922723748, 0.9785303569043586, 0.1936517307595029, 0.25901940358971487, 0.3407289946274798, 0.20590816941516765, 0.779233966719992, 0.05119055255824765, 0.011375678346277255, 0.15925949684788157, 0.18091761944024629, 0.05065693344326896, 0.055481403295008856, 0.7140215380575053, 0.0159061880826228, 0.9702774730399908, 0.05904837390244172, 0.01476209347561043, 0.01476209347561043, 0.930011888963457, 0.13846510702233278, 0.6410421621404295, 0.015385011891370308, 0.20513349188493746, 0.0746223244495894, 0.4633525727451249, 0.0746223244495894, 0.386994845401359, 0.947518410037776, 0.02520685362120939, 0.02520685362120939, 0.9578604376059567, 0.11388473228917505, 0.7971931260242253, 0.08282525984667276, 0.010353157480834095, 0.040292795112591824, 0.14505406240533056, 0.36800752869500536, 0.44590693257934955, 0.007917087936990058, 0.9579676403757971, 0.03958543968495029, 0.10747354661538329, 0.5911045063846081, 0.24718915721538157, 0.04836309597692248, 0.010248103436693563, 0.030744310310080687, 0.9530736196125014, 0.01810721068645681, 0.9506285610389825, 0.027160816029685213, 0.7324321328819663, 0.2550433319856847, 0.003269786307508778, 0.009809358922526334, 0.7669821326503254, 0.10816414691222538, 0.014749656397121643, 0.10816414691222538, 0.45913677927094376, 0.09352786244408114, 0.40103613744962063, 0.04676393122204057, 0.9677028907283566, 0.30279763840869517, 0.18192277468909507, 0.24663356031675976, 0.26861080826577793, 0.02360991965492237, 0.9443967861968948, 0.02360991965492237, 0.29085723208933073, 0.31778845728278726, 0.30881138221830173, 0.08258909059326675, 0.988900621783132, 0.9623247687831399, 0.04253432990509695, 0.20912712203339334, 0.6132032561318144, 0.13823657219156507], \"Term\": [\"about\", \"about\", \"about\", \"about\", \"acne\", \"acne\", \"acne\", \"active\", \"advice\", \"advice\", \"advice\", \"advice\", \"advise\", \"advised\", \"advised\", \"advised\", \"advised\", \"affect\", \"affect\", \"affect\", \"affect\", \"aggravated\", \"air\", \"air\", \"alcohol\", \"alcohol\", \"alcohol\", \"alcohol\", \"alex\", \"all\", \"all\", \"all\", \"all\", \"alleviates\", \"alright\", \"alright\", \"alternative\", \"alternative\", \"ambrodil\", \"ambrodil\", \"an\", \"an\", \"an\", \"an\", \"angina\", \"angina\", \"ankle\", \"another\", \"another\", \"another\", \"another\", \"antibiotic\", \"antibiotic\", \"antibiotic\", \"antibiotic\", \"antihistamine\", \"antihistamine\", \"any\", \"any\", \"any\", \"any\", \"application\", \"application\", \"applied\", \"applied\", \"applying\", \"applying\", \"area\", \"area\", \"area\", \"area\", \"ascoril\", \"at\", \"at\", \"at\", \"at\", \"attack\", \"attack\", \"attack\", \"attack\", \"avoid\", \"avoid\", \"avoid\", \"avoid\", \"avoided\", \"azee\", \"azithral\", \"azulix\", \"back\", \"back\", \"back\", \"back\", \"bacteria\", \"bacteria\", \"bacteria\", \"bacteria\", \"bacterial\", \"bacterial\", \"bacterial\", \"bacterial\", \"beating\", \"behavior\", \"beneficial\", \"beneficial\", \"better\", \"better\", \"better\", \"better\", \"big\", \"bite\", \"blackhead\", \"blindness\", \"bloating\", \"bloating\", \"blocker\", \"blood\", \"blood\", \"blood\", \"blood\", \"broad\", \"broad\", \"broken\", \"burning\", \"burning\", \"burning\", \"but\", \"but\", \"but\", \"but\", \"can\", \"can\", \"can\", \"can\", \"cause\", \"cause\", \"cause\", \"cause\", \"cessation\", \"cessation\", \"checked\", \"checked\", \"checked\", \"cholesterol\", \"cholesterol\", \"cholesterol\", \"cholesterol\", \"clean\", \"clean\", \"clear\", \"come\", \"come\", \"come\", \"come\", \"common\", \"common\", \"common\", \"common\", \"commonly\", \"commonly\", \"commonly\", \"commonly\", \"completion\", \"completion\", \"component\", \"concerned\", \"concerned\", \"condition\", \"condition\", \"condition\", \"condition\", \"congestion\", \"congestion\", \"consistent\", \"consistent\", \"consult\", \"consult\", \"consult\", \"consult\", \"contact\", \"contact\", \"contact\", \"control\", \"control\", \"control\", \"control\", \"controlled\", \"controlling\", \"cough\", \"cough\", \"cough\", \"couple\", \"cream\", \"cream\", \"cream\", \"cutting\", \"damaged\", \"dark\", \"dark\", \"day\", \"day\", \"day\", \"day\", \"deal\", \"depression\", \"depression\", \"diabetes\", \"diabetes\", \"diabetes\", \"diabetes\", \"diabetic\", \"diabetic\", \"diarrhea\", \"diarrhea\", \"diarrhea\", \"diarrhea\", \"diet\", \"diet\", \"diet\", \"diet\", \"discontinuation\", \"disease\", \"disease\", \"disease\", \"disease\", \"do\", \"do\", \"do\", \"do\", \"dos\", \"dos\", \"dos\", \"dos\", \"dose\", \"dose\", \"dose\", \"dose\", \"drinking\", \"drinking\", \"drinking\", \"drinking\", \"dry\", \"dry\", \"dry\", \"dry\", \"duration\", \"duration\", \"duration\", \"duration\", \"each\", \"each\", \"each\", \"each\", \"ear\", \"ear\", \"ear\", \"ear\", \"earlier\", \"early\", \"early\", \"early\", \"early\", \"easier\", \"easier\", \"easier\", \"eating\", \"eating\", \"eating\", \"effective\", \"effective\", \"effective\", \"effective\", \"especially\", \"especially\", \"even\", \"even\", \"even\", \"even\", \"evenly\", \"evenly\", \"evenly\", \"evenly\", \"everybody\", \"everybody\", \"exercise\", \"exercise\", \"exercise\", \"exercise\", \"expectorant\", \"exposure\", \"exposure\", \"external\", \"external\", \"eye\", \"eye\", \"eye\", \"eye\", \"food\", \"food\", \"food\", \"food\", \"free\", \"full\", \"full\", \"full\", \"full\", \"gel\", \"gel\", \"get\", \"get\", \"get\", \"get\", \"given\", \"given\", \"given\", \"given\", \"glucose\", \"gonorrhea\", \"gonorrhea\", \"gradually\", \"gradually\", \"gradually\", \"gram\", \"gram\", \"hair\", \"hair\", \"hair\", \"hair\", \"hand\", \"hand\", \"healthy\", \"healthy\", \"healthy\", \"healthy\", \"hearing\", \"heart\", \"heart\", \"heart\", \"heart\", \"help\", \"help\", \"help\", \"help\", \"high\", \"high\", \"high\", \"high\", \"hour\", \"hour\", \"hour\", \"hour\", \"how\", \"how\", \"how\", \"how\", \"however\", \"however\", \"however\", \"however\", \"hypertension\", \"hypoglycemia\", \"ill\", \"ill\", \"impair\", \"include\", \"include\", \"include\", \"include\", \"infection\", \"infection\", \"infection\", \"infection\", \"injection\", \"injection\", \"injection\", \"injection\", \"interval\", \"interval\", \"interval\", \"kidney\", \"kidney\", \"kidney\", \"kidney\", \"know\", \"know\", \"know\", \"know\", \"let\", \"let\", \"let\", \"let\", \"level\", \"level\", \"level\", \"level\", \"liver\", \"liver\", \"liver\", \"liver\", \"low\", \"low\", \"low\", \"low\", \"lower\", \"lower\", \"lower\", \"lower\", \"maintain\", \"maintain\", \"maintain\", \"maintain\", \"meant\", \"medication\", \"medication\", \"medication\", \"medication\", \"mellitus\", \"mood\", \"most\", \"most\", \"most\", \"most\", \"mouth\", \"mouth\", \"mouth\", \"mouth\", \"mucus\", \"mucus\", \"must\", \"must\", \"must\", \"must\", \"nail\", \"nail\", \"nasal\", \"nasal\", \"nasal\", \"nasal\", \"nausea\", \"nausea\", \"nausea\", \"nausea\", \"negative\", \"negative\", \"never\", \"never\", \"never\", \"nose\", \"nose\", \"nose\", \"nose\", \"number\", \"object\", \"observed\", \"oil\", \"on\", \"on\", \"on\", \"on\", \"only\", \"only\", \"only\", \"only\", \"orally\", \"orally\", \"osteoporosis\", \"other\", \"other\", \"other\", \"other\", \"pain\", \"pain\", \"pain\", \"pain\", \"part\", \"part\", \"part\", \"part\", \"penicillin\", \"penicillin\", \"penicillin\", \"pimple\", \"pneumonia\", \"pneumonia\", \"pneumonia\", \"positive\", \"positive\", \"potency\", \"potential\", \"potential\", \"pr\", \"pregnant\", \"pregnant\", \"pregnant\", \"pregnant\", \"prescribe\", \"prescribe\", \"prescribe\", \"prescribe\", \"prescribed\", \"prescribed\", \"prescribed\", \"prescribed\", \"prescribing\", \"prescribing\", \"pressure\", \"pressure\", \"pressure\", \"pressure\", \"previous\", \"previous\", \"problem\", \"problem\", \"problem\", \"problem\", \"program\", \"program\", \"program\", \"properly\", \"put\", \"put\", \"recognize\", \"recommend\", \"recommend\", \"recommends\", \"recommends\", \"recommends\", \"recovery\", \"redness\", \"redness\", \"redness\", \"redness\", \"reduction\", \"reduction\", \"reduction\", \"regular\", \"regular\", \"regular\", \"regular\", \"regularly\", \"regularly\", \"regularly\", \"regularly\", \"respond\", \"respond\", \"respond\", \"return\", \"return\", \"return\", \"rinse\", \"rinse\", \"rinse\", \"rinse\", \"risk\", \"risk\", \"risk\", \"risk\", \"runny\", \"runny\", \"runny\", \"runny\", \"seen\", \"seen\", \"seen\", \"seen\", \"several\", \"several\", \"several\", \"several\", \"sexually\", \"sexually\", \"sharp\", \"shaving\", \"sinus\", \"sinus\", \"skin\", \"skin\", \"skin\", \"skin\", \"sleepiness\", \"sleepiness\", \"sleepiness\", \"sleepiness\", \"sneezing\", \"sneezing\", \"sneezing\", \"so\", \"so\", \"so\", \"so\", \"some\", \"some\", \"some\", \"some\", \"sp\", \"spaced\", \"spaced\", \"spaced\", \"spaced\", \"spectrum\", \"spectrum\", \"sting\", \"stomach\", \"stomach\", \"stomach\", \"stomach\", \"stone\", \"stop\", \"stop\", \"stop\", \"stop\", \"straight\", \"straight\", \"straight\", \"stroke\", \"stroke\", \"stroke\", \"stroke\", \"stuffiness\", \"stuffy\", \"suddenly\", \"suddenly\", \"sugar\", \"sugar\", \"sugar\", \"sugar\", \"suicidal\", \"sun\", \"sun\", \"sun\", \"support\", \"support\", \"support\", \"support\", \"survive\", \"survive\", \"symptom\", \"symptom\", \"symptom\", \"symptom\", \"syrup\", \"syrup\", \"syrup\", \"syrup\", \"tablet\", \"tablet\", \"tablet\", \"tablet\", \"take\", \"take\", \"take\", \"take\", \"taken\", \"taken\", \"taken\", \"taken\", \"talking\", \"talking\", \"tell\", \"tell\", \"tell\", \"tell\", \"that\", \"that\", \"that\", \"that\", \"these\", \"these\", \"these\", \"these\", \"thin\", \"think\", \"thins\", \"thoroughly\", \"those\", \"throat\", \"throat\", \"throat\", \"throat\", \"time\", \"time\", \"time\", \"time\", \"tissue\", \"tissue\", \"tissue\", \"tract\", \"tract\", \"tract\", \"tract\", \"transmitted\", \"transmitted\", \"treatment\", \"treatment\", \"treatment\", \"treatment\", \"try\", \"try\", \"try\", \"try\", \"type\", \"type\", \"type\", \"type\", \"typhoid\", \"typhoid\", \"urinary\", \"urinary\", \"urinary\", \"urinary\", \"use\", \"use\", \"use\", \"use\", \"using\", \"using\", \"using\", \"using\", \"variety\", \"viral\", \"viral\", \"viral\", \"vision\", \"vision\", \"vision\", \"vision\", \"vomiting\", \"vomiting\", \"vomiting\", \"vomiting\", \"wash\", \"wash\", \"wash\", \"water\", \"water\", \"water\", \"water\", \"watery\", \"watery\", \"watery\", \"week\", \"week\", \"week\", \"weight\", \"weight\", \"weight\", \"weight\", \"well\", \"well\", \"well\", \"well\", \"while\", \"while\", \"while\", \"while\", \"whitehead\", \"will\", \"will\", \"will\", \"will\", \"windpipe\", \"windpipe\", \"windpipe\", \"without\", \"without\", \"without\", \"without\", \"working\", \"workload\", \"worsen\", \"worsen\", \"worsen\", \"worsen\"]}, \"R\": 30, \"lambda.step\": 0.01, \"plot.opts\": {\"xlab\": \"PC1\", \"ylab\": \"PC2\"}, \"topic.order\": [1, 2, 3, 4]};\n",
       "\n",
       "function LDAvis_load_lib(url, callback){\n",
       "  var s = document.createElement('script');\n",
       "  s.src = url;\n",
       "  s.async = true;\n",
       "  s.onreadystatechange = s.onload = callback;\n",
       "  s.onerror = function(){console.warn(\"failed to load library \" + url);};\n",
       "  document.getElementsByTagName(\"head\")[0].appendChild(s);\n",
       "}\n",
       "\n",
       "if(typeof(LDAvis) !== \"undefined\"){\n",
       "   // already loaded: just create the visualization\n",
       "   !function(LDAvis){\n",
       "       new LDAvis(\"#\" + \"ldavis_el282731401825475596961419197943\", ldavis_el282731401825475596961419197943_data);\n",
       "   }(LDAvis);\n",
       "}else if(typeof define === \"function\" && define.amd){\n",
       "   // require.js is available: use it to load d3/LDAvis\n",
       "   require.config({paths: {d3: \"https://d3js.org/d3.v5\"}});\n",
       "   require([\"d3\"], function(d3){\n",
       "      window.d3 = d3;\n",
       "      LDAvis_load_lib(\"https://cdn.jsdelivr.net/gh/bmabey/pyLDAvis@3.4.0/pyLDAvis/js/ldavis.v3.0.0.js\", function(){\n",
       "        new LDAvis(\"#\" + \"ldavis_el282731401825475596961419197943\", ldavis_el282731401825475596961419197943_data);\n",
       "      });\n",
       "    });\n",
       "}else{\n",
       "    // require.js not available: dynamically load d3 & LDAvis\n",
       "    LDAvis_load_lib(\"https://d3js.org/d3.v5.js\", function(){\n",
       "         LDAvis_load_lib(\"https://cdn.jsdelivr.net/gh/bmabey/pyLDAvis@3.4.0/pyLDAvis/js/ldavis.v3.0.0.js\", function(){\n",
       "                 new LDAvis(\"#\" + \"ldavis_el282731401825475596961419197943\", ldavis_el282731401825475596961419197943_data);\n",
       "            })\n",
       "         });\n",
       "}\n",
       "</script>"
      ],
      "text/plain": [
       "PreparedData(topic_coordinates=              x         y  topics  cluster       Freq\n",
       "topic                                                \n",
       "0     -0.157570 -0.038054       1        1  30.048211\n",
       "1      0.014442  0.080241       2        1  25.374814\n",
       "2      0.051017  0.079554       3        1  25.124725\n",
       "3      0.092111 -0.121740       4        1  19.452251, topic_info=          Term         Freq        Total Category  logprob  loglift\n",
       "419      blood  1608.000000  1608.000000  Default  30.0000  30.0000\n",
       "420   pressure   739.000000   739.000000  Default  29.0000  29.0000\n",
       "679      level   804.000000   804.000000  Default  28.0000  28.0000\n",
       "418       high   526.000000   526.000000  Default  27.0000  27.0000\n",
       "171  infection   642.000000   642.000000  Default  26.0000  26.0000\n",
       "..         ...          ...          ...      ...      ...      ...\n",
       "49        take   218.992574  1441.922602   Topic4  -4.7674  -0.2475\n",
       "57   regularly   176.098118   653.195287   Topic4  -4.9854   0.3264\n",
       "202       even   160.816175   489.571467   Topic4  -5.0762   0.5239\n",
       "122         at   178.411316  1053.746323   Topic4  -4.9724  -0.1388\n",
       "141    include   166.089489   621.887074   Topic4  -5.0439   0.3170\n",
       "\n",
       "[352 rows x 6 columns], token_table=      Topic      Freq      Term\n",
       "term                           \n",
       "98        1  0.074715     about\n",
       "98        2  0.089658     about\n",
       "98        3  0.666032     about\n",
       "98        4  0.168643     about\n",
       "8         1  0.008662      acne\n",
       "...     ...       ...       ...\n",
       "885       1  0.962325  workload\n",
       "207       1  0.042534    worsen\n",
       "207       2  0.209127    worsen\n",
       "207       3  0.613203    worsen\n",
       "207       4  0.138237    worsen\n",
       "\n",
       "[772 rows x 3 columns], R=30, lambda_step=0.01, plot_opts={'xlab': 'PC1', 'ylab': 'PC2'}, topic_order=[1, 2, 3, 4])"
      ]
     },
     "execution_count": 65,
     "metadata": {},
     "output_type": "execute_result"
    }
   ],
   "source": [
    "vis4 = pyLDAvis.gensim_models.prepare(Lda4, Corpus, D, sort_topics = False)\n",
    "vis4"
   ]
  },
  {
   "cell_type": "markdown",
   "metadata": {},
   "source": [
    "# Save model\n",
    "- best coherence score (and visually best separations) with LDA model with 4 topics\n",
    "- to show on streamlit\n",
    "    - good instr: https://medium.com/@lelwonger/incorporating-functions-with-html-output-in-streamlit-pyldavis-lime-25b13717d913\n",
    "    "
   ]
  },
  {
   "cell_type": "code",
   "execution_count": 79,
   "metadata": {},
   "outputs": [],
   "source": [
    "Lda3.save('../models/lda3.model')"
   ]
  },
  {
   "cell_type": "code",
   "execution_count": 80,
   "metadata": {},
   "outputs": [],
   "source": [
    "pyLDAvis.save_html(vis3, '../models/vis3.html')"
   ]
  },
  {
   "cell_type": "code",
   "execution_count": 81,
   "metadata": {},
   "outputs": [],
   "source": [
    "tempfile = datapath('/Users/carmen/Documents/Carmen job application exercises/streamlit_app/models/lda3.model')"
   ]
  },
  {
   "cell_type": "code",
   "execution_count": 82,
   "metadata": {},
   "outputs": [],
   "source": [
    "Lda3.save(tempfile)"
   ]
  },
  {
   "cell_type": "code",
   "execution_count": null,
   "metadata": {},
   "outputs": [],
   "source": []
  },
  {
   "cell_type": "code",
   "execution_count": null,
   "metadata": {},
   "outputs": [],
   "source": []
  },
  {
   "cell_type": "markdown",
   "metadata": {},
   "source": [
    "## from model, get topic-term matrix"
   ]
  },
  {
   "cell_type": "code",
   "execution_count": 83,
   "metadata": {},
   "outputs": [],
   "source": [
    "lda_fromload = models.LdaModel.load(tempfile)"
   ]
  },
  {
   "cell_type": "code",
   "execution_count": 84,
   "metadata": {},
   "outputs": [
    {
     "data": {
      "text/plain": [
       "<gensim.models.ldamodel.LdaModel at 0x7f7ecb54a670>"
      ]
     },
     "execution_count": 84,
     "metadata": {},
     "output_type": "execute_result"
    }
   ],
   "source": [
    "lda_fromload"
   ]
  },
  {
   "cell_type": "code",
   "execution_count": 85,
   "metadata": {},
   "outputs": [],
   "source": [
    "# topics-term matrix\n",
    "#https://stackoverflow.com/questions/47424335/access-term-topic-matrix-generated-by-gensim-lda\n",
    "\n",
    "df_topic_term_matrix = pd.DataFrame(lda_fromload.get_topics(), \n",
    "                                     columns = lda_fromload.id2word.values(), \n",
    "                                     index=[f'topic {i}' for i in range(lda_fromload.num_topics)])"
   ]
  },
  {
   "cell_type": "code",
   "execution_count": 86,
   "metadata": {},
   "outputs": [
    {
     "data": {
      "text/html": [
       "<div>\n",
       "<style scoped>\n",
       "    .dataframe tbody tr th:only-of-type {\n",
       "        vertical-align: middle;\n",
       "    }\n",
       "\n",
       "    .dataframe tbody tr th {\n",
       "        vertical-align: top;\n",
       "    }\n",
       "\n",
       "    .dataframe thead th {\n",
       "        text-align: right;\n",
       "    }\n",
       "</style>\n",
       "<table border=\"1\" class=\"dataframe\">\n",
       "  <thead>\n",
       "    <tr style=\"text-align: right;\">\n",
       "      <th></th>\n",
       "      <th>2</th>\n",
       "      <th>3d</th>\n",
       "      <th>3l</th>\n",
       "      <th>6l</th>\n",
       "      <th>ab</th>\n",
       "      <th>abd</th>\n",
       "      <th>abdomen</th>\n",
       "      <th>abdominal</th>\n",
       "      <th>abel</th>\n",
       "      <th>abhayrab</th>\n",
       "      <th>...</th>\n",
       "      <th>xl</th>\n",
       "      <th>xp</th>\n",
       "      <th>xps</th>\n",
       "      <th>xr</th>\n",
       "      <th>year</th>\n",
       "      <th>yellow</th>\n",
       "      <th>yellowing</th>\n",
       "      <th>yellowness</th>\n",
       "      <th>yourself</th>\n",
       "      <th>zone</th>\n",
       "    </tr>\n",
       "  </thead>\n",
       "  <tbody>\n",
       "    <tr>\n",
       "      <th>topic 0</th>\n",
       "      <td>0.000049</td>\n",
       "      <td>0.000007</td>\n",
       "      <td>0.000007</td>\n",
       "      <td>0.000007</td>\n",
       "      <td>0.000183</td>\n",
       "      <td>0.000058</td>\n",
       "      <td>0.000207</td>\n",
       "      <td>0.000474</td>\n",
       "      <td>0.000007</td>\n",
       "      <td>0.000007</td>\n",
       "      <td>...</td>\n",
       "      <td>0.000007</td>\n",
       "      <td>0.000010</td>\n",
       "      <td>0.000008</td>\n",
       "      <td>0.000007</td>\n",
       "      <td>0.000060</td>\n",
       "      <td>0.000008</td>\n",
       "      <td>0.000011</td>\n",
       "      <td>0.000007</td>\n",
       "      <td>0.000092</td>\n",
       "      <td>0.000007</td>\n",
       "    </tr>\n",
       "    <tr>\n",
       "      <th>topic 1</th>\n",
       "      <td>0.000007</td>\n",
       "      <td>0.000048</td>\n",
       "      <td>0.000008</td>\n",
       "      <td>0.000008</td>\n",
       "      <td>0.000008</td>\n",
       "      <td>0.000007</td>\n",
       "      <td>0.000014</td>\n",
       "      <td>0.001282</td>\n",
       "      <td>0.000088</td>\n",
       "      <td>0.000007</td>\n",
       "      <td>...</td>\n",
       "      <td>0.000007</td>\n",
       "      <td>0.000007</td>\n",
       "      <td>0.000007</td>\n",
       "      <td>0.000068</td>\n",
       "      <td>0.000294</td>\n",
       "      <td>0.000168</td>\n",
       "      <td>0.001387</td>\n",
       "      <td>0.000129</td>\n",
       "      <td>0.000699</td>\n",
       "      <td>0.000044</td>\n",
       "    </tr>\n",
       "    <tr>\n",
       "      <th>topic 2</th>\n",
       "      <td>0.000009</td>\n",
       "      <td>0.000085</td>\n",
       "      <td>0.000084</td>\n",
       "      <td>0.000084</td>\n",
       "      <td>0.000154</td>\n",
       "      <td>0.000049</td>\n",
       "      <td>0.000193</td>\n",
       "      <td>0.000304</td>\n",
       "      <td>0.000009</td>\n",
       "      <td>0.000059</td>\n",
       "      <td>...</td>\n",
       "      <td>0.000212</td>\n",
       "      <td>0.000158</td>\n",
       "      <td>0.000084</td>\n",
       "      <td>0.000009</td>\n",
       "      <td>0.000020</td>\n",
       "      <td>0.000010</td>\n",
       "      <td>0.000015</td>\n",
       "      <td>0.000009</td>\n",
       "      <td>0.000139</td>\n",
       "      <td>0.000012</td>\n",
       "    </tr>\n",
       "  </tbody>\n",
       "</table>\n",
       "<p>3 rows × 2719 columns</p>\n",
       "</div>"
      ],
      "text/plain": [
       "                2        3d        3l        6l        ab       abd   abdomen  \\\n",
       "topic 0  0.000049  0.000007  0.000007  0.000007  0.000183  0.000058  0.000207   \n",
       "topic 1  0.000007  0.000048  0.000008  0.000008  0.000008  0.000007  0.000014   \n",
       "topic 2  0.000009  0.000085  0.000084  0.000084  0.000154  0.000049  0.000193   \n",
       "\n",
       "         abdominal      abel  abhayrab  ...        xl        xp       xps  \\\n",
       "topic 0   0.000474  0.000007  0.000007  ...  0.000007  0.000010  0.000008   \n",
       "topic 1   0.001282  0.000088  0.000007  ...  0.000007  0.000007  0.000007   \n",
       "topic 2   0.000304  0.000009  0.000059  ...  0.000212  0.000158  0.000084   \n",
       "\n",
       "               xr      year    yellow  yellowing  yellowness  yourself  \\\n",
       "topic 0  0.000007  0.000060  0.000008   0.000011    0.000007  0.000092   \n",
       "topic 1  0.000068  0.000294  0.000168   0.001387    0.000129  0.000699   \n",
       "topic 2  0.000009  0.000020  0.000010   0.000015    0.000009  0.000139   \n",
       "\n",
       "             zone  \n",
       "topic 0  0.000007  \n",
       "topic 1  0.000044  \n",
       "topic 2  0.000012  \n",
       "\n",
       "[3 rows x 2719 columns]"
      ]
     },
     "execution_count": 86,
     "metadata": {},
     "output_type": "execute_result"
    }
   ],
   "source": [
    "df_topic_term_matrix"
   ]
  },
  {
   "cell_type": "code",
   "execution_count": 74,
   "metadata": {},
   "outputs": [
    {
     "data": {
      "text/plain": [
       "Index(['2', '3d', '3l', '6l', 'ab', 'abd', 'abdomen', 'abdominal', 'abel',\n",
       "       'abhayrab', 'ability', 'abirapro', 'abiways', 'abixim', 'able',\n",
       "       'abnormal', 'abnormality', 'abortab', 'abortion', 'about', 'above',\n",
       "       'abruptly', 'absorb', 'absorbed', 'absorption', 'abstinence',\n",
       "       'abundant', 'abuse', 'abz', 'abzorb', 'acamprol', 'acamptas',\n",
       "       'acceclowoc', 'accentrix', 'accident', 'accidental', 'accidentally',\n",
       "       'according', 'accurate', 'ace', 'aceclo', 'aceclobest', 'aceclomax',\n",
       "       'acecloren', 'aceclorite', 'aceflam', 'aceloflam', 'acemiz',\n",
       "       'acemyoset', 'acenac'],\n",
       "      dtype='object')"
      ]
     },
     "execution_count": 74,
     "metadata": {},
     "output_type": "execute_result"
    }
   ],
   "source": [
    "df_topic_term_matrix.columns[:50]"
   ]
  },
  {
   "cell_type": "markdown",
   "metadata": {},
   "source": [
    "## from model, get topic probability for each entry"
   ]
  },
  {
   "cell_type": "code",
   "execution_count": 87,
   "metadata": {},
   "outputs": [
    {
     "data": {
      "text/plain": [
       "[(0, 0.872969), (2, 0.123992905)]"
      ]
     },
     "execution_count": 87,
     "metadata": {},
     "output_type": "execute_result"
    }
   ],
   "source": [
    "lda_fromload.get_document_topics(Corpus[0])"
   ]
  },
  {
   "cell_type": "code",
   "execution_count": 88,
   "metadata": {},
   "outputs": [
    {
     "data": {
      "text/plain": [
       "'Acnesol Gel is an antibiotic that fights bacteria. It is used to treat acne, which appears as spots or pimples on your face, chest or back. This medicine works by attacking the bacteria that cause these pimples.Acnesol Gel is only meant for external use and should be used as advised by your doctor. You should normally wash and dry the affected area before applying a thin layer of the medicine. It should not be applied to broken or damaged skin. Avoid any contact with your eyes, nose, or mouth. Rinse it off with water if you accidentally get it in these areas. It may take several weeks for your symptoms to improve, but you should keep using this medicine regularly. Do not stop using it as soon as your acne starts to get better. Ask your doctor when you should stop treatment.Common side effects like minor itching, burning, or redness of the skin and oily skin may be seen in some people. These are usually temporary and resolve on their own. Consult your doctor if they bother you or do not go away.It is a safe medicine, but you should inform your doctor if you have any problems with your bowels (intestines). Also, inform the doctor if you have ever had bloody diarrhea caused by taking antibiotics or if you are using any other medicines to treat skin conditions. Consult your doctor about using this medicine if you are pregnant or breastfeeding.'"
      ]
     },
     "execution_count": 88,
     "metadata": {},
     "output_type": "execute_result"
    }
   ],
   "source": [
    "df.iloc[0]['Introduction']"
   ]
  },
  {
   "cell_type": "markdown",
   "metadata": {},
   "source": [
    "## How to load corpus and dictionary from saved files"
   ]
  },
  {
   "cell_type": "code",
   "execution_count": 89,
   "metadata": {},
   "outputs": [
    {
     "ename": "AttributeError",
     "evalue": "'Series' object has no attribute 'endswith'",
     "output_type": "error",
     "traceback": [
      "\u001b[0;31m---------------------------------------------------------------------------\u001b[0m",
      "\u001b[0;31mAttributeError\u001b[0m                            Traceback (most recent call last)",
      "\u001b[0;32m/var/folders/dm/y6ht2kzd14df5y7dtcr1ls240000gp/T/ipykernel_28273/1385096079.py\u001b[0m in \u001b[0;36m?\u001b[0;34m()\u001b[0m\n\u001b[0;32m----> 1\u001b[0;31m \u001b[0mdictionary_load_again\u001b[0m \u001b[0;34m=\u001b[0m \u001b[0mcorpora\u001b[0m\u001b[0;34m.\u001b[0m\u001b[0mDictionary\u001b[0m\u001b[0;34m.\u001b[0m\u001b[0mload\u001b[0m\u001b[0;34m(\u001b[0m\u001b[0mdf\u001b[0m\u001b[0;34m[\u001b[0m\u001b[0;34m'Introduction'\u001b[0m\u001b[0;34m]\u001b[0m\u001b[0;34m)\u001b[0m\u001b[0;34m\u001b[0m\u001b[0;34m\u001b[0m\u001b[0m\n\u001b[0m",
      "\u001b[0;32m~/anaconda3/envs/streamlit_conda391/lib/python3.9/site-packages/gensim/utils.py\u001b[0m in \u001b[0;36m?\u001b[0;34m(cls, fname, mmap)\u001b[0m\n\u001b[1;32m    480\u001b[0m \u001b[0;34m\u001b[0m\u001b[0m\n\u001b[1;32m    481\u001b[0m         \"\"\"\n\u001b[1;32m    482\u001b[0m         \u001b[0mlogger\u001b[0m\u001b[0;34m.\u001b[0m\u001b[0minfo\u001b[0m\u001b[0;34m(\u001b[0m\u001b[0;34m\"loading %s object from %s\"\u001b[0m\u001b[0;34m,\u001b[0m \u001b[0mcls\u001b[0m\u001b[0;34m.\u001b[0m\u001b[0m__name__\u001b[0m\u001b[0;34m,\u001b[0m \u001b[0mfname\u001b[0m\u001b[0;34m)\u001b[0m\u001b[0;34m\u001b[0m\u001b[0;34m\u001b[0m\u001b[0m\n\u001b[1;32m    483\u001b[0m \u001b[0;34m\u001b[0m\u001b[0m\n\u001b[0;32m--> 484\u001b[0;31m         \u001b[0mcompress\u001b[0m\u001b[0;34m,\u001b[0m \u001b[0msubname\u001b[0m \u001b[0;34m=\u001b[0m \u001b[0mSaveLoad\u001b[0m\u001b[0;34m.\u001b[0m\u001b[0m_adapt_by_suffix\u001b[0m\u001b[0;34m(\u001b[0m\u001b[0mfname\u001b[0m\u001b[0;34m)\u001b[0m\u001b[0;34m\u001b[0m\u001b[0;34m\u001b[0m\u001b[0m\n\u001b[0m\u001b[1;32m    485\u001b[0m \u001b[0;34m\u001b[0m\u001b[0m\n\u001b[1;32m    486\u001b[0m         \u001b[0mobj\u001b[0m \u001b[0;34m=\u001b[0m \u001b[0munpickle\u001b[0m\u001b[0;34m(\u001b[0m\u001b[0mfname\u001b[0m\u001b[0;34m)\u001b[0m\u001b[0;34m\u001b[0m\u001b[0;34m\u001b[0m\u001b[0m\n\u001b[1;32m    487\u001b[0m         \u001b[0mobj\u001b[0m\u001b[0;34m.\u001b[0m\u001b[0m_load_specials\u001b[0m\u001b[0;34m(\u001b[0m\u001b[0mfname\u001b[0m\u001b[0;34m,\u001b[0m \u001b[0mmmap\u001b[0m\u001b[0;34m,\u001b[0m \u001b[0mcompress\u001b[0m\u001b[0;34m,\u001b[0m \u001b[0msubname\u001b[0m\u001b[0;34m)\u001b[0m\u001b[0;34m\u001b[0m\u001b[0;34m\u001b[0m\u001b[0m\n",
      "\u001b[0;32m~/anaconda3/envs/streamlit_conda391/lib/python3.9/site-packages/gensim/utils.py\u001b[0m in \u001b[0;36m?\u001b[0;34m(fname)\u001b[0m\n\u001b[1;32m    569\u001b[0m         \u001b[0;34m(\u001b[0m\u001b[0mbool\u001b[0m\u001b[0;34m,\u001b[0m \u001b[0mfunction\u001b[0m\u001b[0;34m)\u001b[0m\u001b[0;34m\u001b[0m\u001b[0;34m\u001b[0m\u001b[0m\n\u001b[1;32m    570\u001b[0m             \u001b[0mFirst\u001b[0m \u001b[0margument\u001b[0m \u001b[0mwill\u001b[0m \u001b[0mbe\u001b[0m \u001b[0;32mTrue\u001b[0m \u001b[0;32mif\u001b[0m\u001b[0;31m \u001b[0m\u001b[0;31m`\u001b[0m\u001b[0mfname\u001b[0m\u001b[0;31m`\u001b[0m \u001b[0mcompressed\u001b[0m\u001b[0;34m.\u001b[0m\u001b[0;34m\u001b[0m\u001b[0;34m\u001b[0m\u001b[0m\n\u001b[1;32m    571\u001b[0m \u001b[0;34m\u001b[0m\u001b[0m\n\u001b[1;32m    572\u001b[0m         \"\"\"\n\u001b[0;32m--> 573\u001b[0;31m         \u001b[0mcompress\u001b[0m\u001b[0;34m,\u001b[0m \u001b[0msuffix\u001b[0m \u001b[0;34m=\u001b[0m \u001b[0;34m(\u001b[0m\u001b[0;32mTrue\u001b[0m\u001b[0;34m,\u001b[0m \u001b[0;34m'npz'\u001b[0m\u001b[0;34m)\u001b[0m \u001b[0;32mif\u001b[0m \u001b[0mfname\u001b[0m\u001b[0;34m.\u001b[0m\u001b[0mendswith\u001b[0m\u001b[0;34m(\u001b[0m\u001b[0;34m'.gz'\u001b[0m\u001b[0;34m)\u001b[0m \u001b[0;32mor\u001b[0m \u001b[0mfname\u001b[0m\u001b[0;34m.\u001b[0m\u001b[0mendswith\u001b[0m\u001b[0;34m(\u001b[0m\u001b[0;34m'.bz2'\u001b[0m\u001b[0;34m)\u001b[0m \u001b[0;32melse\u001b[0m \u001b[0;34m(\u001b[0m\u001b[0;32mFalse\u001b[0m\u001b[0;34m,\u001b[0m \u001b[0;34m'npy'\u001b[0m\u001b[0;34m)\u001b[0m\u001b[0;34m\u001b[0m\u001b[0;34m\u001b[0m\u001b[0m\n\u001b[0m\u001b[1;32m    574\u001b[0m         \u001b[0;32mreturn\u001b[0m \u001b[0mcompress\u001b[0m\u001b[0;34m,\u001b[0m \u001b[0;32mlambda\u001b[0m \u001b[0;34m*\u001b[0m\u001b[0margs\u001b[0m\u001b[0;34m:\u001b[0m \u001b[0;34m'.'\u001b[0m\u001b[0;34m.\u001b[0m\u001b[0mjoin\u001b[0m\u001b[0;34m(\u001b[0m\u001b[0margs\u001b[0m \u001b[0;34m+\u001b[0m \u001b[0;34m(\u001b[0m\u001b[0msuffix\u001b[0m\u001b[0;34m,\u001b[0m\u001b[0;34m)\u001b[0m\u001b[0;34m)\u001b[0m\u001b[0;34m\u001b[0m\u001b[0;34m\u001b[0m\u001b[0m\n",
      "\u001b[0;32m~/anaconda3/envs/streamlit_conda391/lib/python3.9/site-packages/pandas/core/generic.py\u001b[0m in \u001b[0;36m?\u001b[0;34m(self, name)\u001b[0m\n\u001b[1;32m   6200\u001b[0m             \u001b[0;32mand\u001b[0m \u001b[0mname\u001b[0m \u001b[0;32mnot\u001b[0m \u001b[0;32min\u001b[0m \u001b[0mself\u001b[0m\u001b[0;34m.\u001b[0m\u001b[0m_accessors\u001b[0m\u001b[0;34m\u001b[0m\u001b[0;34m\u001b[0m\u001b[0m\n\u001b[1;32m   6201\u001b[0m             \u001b[0;32mand\u001b[0m \u001b[0mself\u001b[0m\u001b[0;34m.\u001b[0m\u001b[0m_info_axis\u001b[0m\u001b[0;34m.\u001b[0m\u001b[0m_can_hold_identifiers_and_holds_name\u001b[0m\u001b[0;34m(\u001b[0m\u001b[0mname\u001b[0m\u001b[0;34m)\u001b[0m\u001b[0;34m\u001b[0m\u001b[0;34m\u001b[0m\u001b[0m\n\u001b[1;32m   6202\u001b[0m         ):\n\u001b[1;32m   6203\u001b[0m             \u001b[0;32mreturn\u001b[0m \u001b[0mself\u001b[0m\u001b[0;34m[\u001b[0m\u001b[0mname\u001b[0m\u001b[0;34m]\u001b[0m\u001b[0;34m\u001b[0m\u001b[0;34m\u001b[0m\u001b[0m\n\u001b[0;32m-> 6204\u001b[0;31m         \u001b[0;32mreturn\u001b[0m \u001b[0mobject\u001b[0m\u001b[0;34m.\u001b[0m\u001b[0m__getattribute__\u001b[0m\u001b[0;34m(\u001b[0m\u001b[0mself\u001b[0m\u001b[0;34m,\u001b[0m \u001b[0mname\u001b[0m\u001b[0;34m)\u001b[0m\u001b[0;34m\u001b[0m\u001b[0;34m\u001b[0m\u001b[0m\n\u001b[0m",
      "\u001b[0;31mAttributeError\u001b[0m: 'Series' object has no attribute 'endswith'"
     ]
    }
   ],
   "source": [
    "# https://stackoverflow.com/questions/60840809/gensim-how-to-load-corpus-from-saved-lda-model\n",
    "# dictionary_load_again = corpora.Dictionary.load(df['Introduction'])"
   ]
  },
  {
   "cell_type": "code",
   "execution_count": null,
   "metadata": {},
   "outputs": [],
   "source": [
    "corpus_load_again = "
   ]
  },
  {
   "cell_type": "code",
   "execution_count": null,
   "metadata": {},
   "outputs": [],
   "source": [
    "# here"
   ]
  },
  {
   "cell_type": "code",
   "execution_count": null,
   "metadata": {},
   "outputs": [],
   "source": []
  },
  {
   "cell_type": "markdown",
   "metadata": {},
   "source": [
    "### function to show original text, tokens, most likely topics and topic terms"
   ]
  },
  {
   "cell_type": "code",
   "execution_count": null,
   "metadata": {},
   "outputs": [],
   "source": [
    "def show_prediction(index):\n",
    "    \n",
    "    print(df.iloc[index]['Introduction'])\n",
    "    \n",
    "    df = (pd.DataFrame(corpus_transformed[index], columns = ['topic', 'probability'])\n",
    "                       .sort_values(by = ['probability'], ascending = False)\n",
    "                       .reset_index(drop = True))\n",
    "    print()\n",
    "    \n",
    "    print(df)\n",
    "    \n",
    "    list_topics = []\n",
    "    for i in range(len(df)):\n",
    "        if (float(df.iloc[i]['probability']) > 0.1):\n",
    "            list_topics.append(int(df.iloc[i]['topic']))\n",
    "    print('most likely topics: ', list_topics)\n",
    "    print()\n",
    "    \n",
    "    for t in list_topics:\n",
    "        print(lda4.print_topics()[t])\n",
    "    \n",
    "    return()\n",
    "    "
   ]
  },
  {
   "cell_type": "code",
   "execution_count": null,
   "metadata": {},
   "outputs": [],
   "source": [
    "# pd.set_option('display.max_colwidth', 500)\n",
    "# df['Introduction'][0]\n",
    "df.iloc[13]['Introduction']"
   ]
  },
  {
   "cell_type": "code",
   "execution_count": null,
   "metadata": {},
   "outputs": [],
   "source": [
    "show_prediction(1)"
   ]
  },
  {
   "cell_type": "markdown",
   "metadata": {},
   "source": [
    "### transform inf corpus into inf topic distribution matrix"
   ]
  },
  {
   "cell_type": "code",
   "execution_count": null,
   "metadata": {},
   "outputs": [],
   "source": [
    "inf_count_matrix_T = inf_count_matrix.transpose()\n",
    "\n",
    "inf_corpus = matutils.Sparse2Corpus(inf_count_matrix_T)"
   ]
  },
  {
   "cell_type": "code",
   "execution_count": null,
   "metadata": {},
   "outputs": [],
   "source": [
    "inf_corpus_transformed = lda4[inf_corpus]"
   ]
  },
  {
   "cell_type": "markdown",
   "metadata": {},
   "source": [
    "### function to show inf text, tokens, most likely topics and topic terms¶"
   ]
  },
  {
   "cell_type": "code",
   "execution_count": null,
   "metadata": {},
   "outputs": [],
   "source": [
    "def show_inf_prediction(index):\n",
    "    \n",
    "    print(df_inf.iloc[index])\n",
    "    \n",
    "    df = (pd.DataFrame(inf_corpus_transformed[index], columns = ['topic', 'probability'])\n",
    "                       .sort_values(by = ['probability'], ascending = False)\n",
    "                       .reset_index(drop = True))\n",
    "    print()\n",
    "    \n",
    "    print(df)\n",
    "    \n",
    "    list_topics = []\n",
    "    for i in range(len(df)):\n",
    "        if (float(df.iloc[i]['probability']) > 0.1):\n",
    "            list_topics.append(int(df.iloc[i]['topic']))\n",
    "    print('most likely topics: ', list_topics)\n",
    "    print()\n",
    "    \n",
    "    for t in list_topics:\n",
    "        print(lda4.print_topics()[t]) \n",
    "    \n",
    "    return()"
   ]
  },
  {
   "cell_type": "markdown",
   "metadata": {},
   "source": [
    "## 4. Calculate distance between each piece of text"
   ]
  },
  {
   "cell_type": "markdown",
   "metadata": {},
   "source": [
    "### tabelog topic probabilities"
   ]
  },
  {
   "cell_type": "code",
   "execution_count": null,
   "metadata": {},
   "outputs": [],
   "source": [
    "df_tabelog_topic_prob = pd.DataFrame(columns = range(4))\n",
    "\n",
    "for i in range(len(df_tabelog)):\n",
    "    list_probabilities = corpus_transformed[i]\n",
    "    dict_probabailites = {item[0]: item[1:] for item in list_probabilities}\n",
    "    df_probabilities = pd.DataFrame(dict_probabailites)\n",
    "    df_tabelog_topic_prob = pd.concat([df_tabelog_topic_prob, df_probabilities],\n",
    "                                     axis = 0)"
   ]
  },
  {
   "cell_type": "code",
   "execution_count": null,
   "metadata": {},
   "outputs": [],
   "source": [
    "df_tabelog_topic_prob.fillna(0, inplace = True)"
   ]
  },
  {
   "cell_type": "code",
   "execution_count": null,
   "metadata": {},
   "outputs": [],
   "source": [
    "df_tabelog_topic_prob.head()"
   ]
  },
  {
   "cell_type": "markdown",
   "metadata": {},
   "source": [
    "### inf topic probabilities"
   ]
  },
  {
   "cell_type": "code",
   "execution_count": null,
   "metadata": {},
   "outputs": [],
   "source": [
    "df_inf_topic_prob = pd.DataFrame(columns = range(4))\n",
    "\n",
    "for i in range(len(df_inf)):\n",
    "    list_probabilities = inf_corpus_transformed[i]\n",
    "    dict_probabailites = {item[0]: item[1:] for item in list_probabilities}\n",
    "    df_probabilities = pd.DataFrame(dict_probabailites)\n",
    "    df_inf_topic_prob = pd.concat([df_inf_topic_prob, df_probabilities],\n",
    "                                     axis = 0)"
   ]
  },
  {
   "cell_type": "code",
   "execution_count": null,
   "metadata": {},
   "outputs": [],
   "source": [
    "df_inf_topic_prob"
   ]
  },
  {
   "cell_type": "markdown",
   "metadata": {
    "collapsed": true
   },
   "source": [
    "### find Jensen-Shannon distance"
   ]
  },
  {
   "cell_type": "code",
   "execution_count": null,
   "metadata": {},
   "outputs": [],
   "source": [
    "# e.g. tabelog entry 0, inf 0\n",
    "tabelog_inf_distance = distance.jensenshannon(list(df_tabelog_topic_prob.iloc[0]), list(df_inf_topic_prob.iloc[0]))"
   ]
  },
  {
   "cell_type": "code",
   "execution_count": null,
   "metadata": {},
   "outputs": [],
   "source": [
    "tabelog_inf_distance"
   ]
  },
  {
   "cell_type": "code",
   "execution_count": null,
   "metadata": {},
   "outputs": [],
   "source": []
  },
  {
   "cell_type": "markdown",
   "metadata": {
    "collapsed": true
   },
   "source": [
    "# Part 2. Clustering\n",
    "1. Get average text vectors using pre-trained model vectors\n",
    "2. kMeans clustering"
   ]
  },
  {
   "cell_type": "code",
   "execution_count": null,
   "metadata": {},
   "outputs": [],
   "source": [
    "from sklearn.cluster import KMeans\n",
    "from sklearn.manifold import TSNE\n",
    "from sklearn.metrics.pairwise import cosine_similarity"
   ]
  },
  {
   "cell_type": "markdown",
   "metadata": {},
   "source": [
    "## 1. Get text vectors"
   ]
  },
  {
   "cell_type": "markdown",
   "metadata": {},
   "source": [
    "- to get pretrained word vectors (English)\n",
    "    - https://radimrehurek.com/gensim/auto_examples/howtos/run_downloader_api.html"
   ]
  },
  {
   "cell_type": "code",
   "execution_count": null,
   "metadata": {},
   "outputs": [],
   "source": [
    "import gensim.downloader as api"
   ]
  },
  {
   "cell_type": "code",
   "execution_count": null,
   "metadata": {},
   "outputs": [],
   "source": [
    "gensim_corpus = api.load('text8')"
   ]
  },
  {
   "cell_type": "code",
   "execution_count": null,
   "metadata": {},
   "outputs": [],
   "source": [
    "import inspect\n",
    "print(inspect.getsource(gensim_corpus.__class__))"
   ]
  },
  {
   "cell_type": "code",
   "execution_count": null,
   "metadata": {},
   "outputs": [],
   "source": [
    "from gensim.models.word2vec import Word2Vec\n",
    "model = Word2Vec(gensim_corpus)"
   ]
  },
  {
   "cell_type": "code",
   "execution_count": null,
   "metadata": {},
   "outputs": [],
   "source": [
    "print(model.wv.most_similar('tree'))"
   ]
  },
  {
   "cell_type": "markdown",
   "metadata": {},
   "source": [
    "- Japanese pretrained models, word vectors\n",
    "    - https://qiita.com/Hironsan/items/8f7d35f0a36e0f99752c\n",
    "    - https://qiita.com/Hironsan/items/513b9f93752ecee9e670\n",
    "        - download Word vectors (NEologd)"
   ]
  },
  {
   "cell_type": "code",
   "execution_count": null,
   "metadata": {},
   "outputs": [],
   "source": [
    "local_path = '/Users/carmen/Downloads/'\n",
    "model = gensim.models.KeyedVectors.load_word2vec_format(local_path + 'model.vec', binary = False)"
   ]
  },
  {
   "cell_type": "code",
   "execution_count": null,
   "metadata": {},
   "outputs": [],
   "source": [
    "# testing\n",
    "model.most_similar('日本人')"
   ]
  },
  {
   "cell_type": "code",
   "execution_count": null,
   "metadata": {},
   "outputs": [],
   "source": [
    "def get_average_vector_from_tokens(list_tokens):\n",
    "    list_vectors = []\n",
    "    \n",
    "    for i in list_tokens:\n",
    "        try:\n",
    "            vector = model[i]\n",
    "            list_vectors.append(vector)\n",
    "        except:\n",
    "            continue\n",
    "            \n",
    "    average_vector = np.mean(list_vectors, axis = 0)\n",
    "    \n",
    "    return average_vector"
   ]
  },
  {
   "cell_type": "code",
   "execution_count": null,
   "metadata": {},
   "outputs": [],
   "source": [
    "df_tabelog['tabelog_vector'] = df_tabelog['tokens'].apply(lambda x: get_average_vector_from_tokens(x))"
   ]
  },
  {
   "cell_type": "markdown",
   "metadata": {},
   "source": [
    "## 2. kMeans clustering"
   ]
  },
  {
   "cell_type": "code",
   "execution_count": null,
   "metadata": {},
   "outputs": [],
   "source": [
    "modelkmeans = KMeans(n_clusters = 4, init = 'k-means++', n_init = 100)"
   ]
  },
  {
   "cell_type": "code",
   "execution_count": null,
   "metadata": {},
   "outputs": [],
   "source": [
    "modelkmeans.fit(list(df_tabelog['tabelog_vector']))"
   ]
  },
  {
   "cell_type": "code",
   "execution_count": null,
   "metadata": {},
   "outputs": [],
   "source": [
    "df_tabelog['kmeans_cluster'] = modelkmeans.predict(list(df_tabelog['tabelog_vector']))"
   ]
  },
  {
   "cell_type": "code",
   "execution_count": null,
   "metadata": {},
   "outputs": [],
   "source": [
    "df_tabelog.head(2)"
   ]
  },
  {
   "cell_type": "markdown",
   "metadata": {
    "collapsed": true
   },
   "source": [
    "### visualize using TSNE"
   ]
  },
  {
   "cell_type": "code",
   "execution_count": null,
   "metadata": {},
   "outputs": [],
   "source": [
    "tsne = TSNE(n_components = 2,\n",
    "           init = 'random',\n",
    "           random_state = 10,\n",
    "           perplexity = 10)"
   ]
  },
  {
   "cell_type": "code",
   "execution_count": null,
   "metadata": {},
   "outputs": [],
   "source": [
    "embedding = tsne.fit_transform(list(df_tabelog['tabelog_vector']))\n",
    "\n",
    "df_embedding = pd.DataFrame(embedding)\n",
    "df_embedding.rename(columns = {0:'x',\n",
    "                              1:'y'},\n",
    "                   inplace = True)"
   ]
  },
  {
   "cell_type": "code",
   "execution_count": null,
   "metadata": {},
   "outputs": [],
   "source": [
    "df_embedding.head()"
   ]
  },
  {
   "cell_type": "code",
   "execution_count": null,
   "metadata": {},
   "outputs": [],
   "source": [
    "df_tabelog = pd.concat([df_tabelog, df_embedding],\n",
    "                      axis = 1)"
   ]
  },
  {
   "cell_type": "code",
   "execution_count": null,
   "metadata": {},
   "outputs": [],
   "source": [
    "df_tabelog.head(2)"
   ]
  },
  {
   "cell_type": "code",
   "execution_count": null,
   "metadata": {},
   "outputs": [],
   "source": [
    "plt.figure(figsize = (8, 8))\n",
    "sns.scatterplot(df_tabelog['x'],\n",
    "               df_tabelog['y'],\n",
    "               hue = df_tabelog['kmeans_cluster'],\n",
    "               legend = 'full',\n",
    "               palette = 'Accent')\n",
    "plt.show()"
   ]
  },
  {
   "cell_type": "code",
   "execution_count": null,
   "metadata": {},
   "outputs": [],
   "source": []
  },
  {
   "cell_type": "code",
   "execution_count": null,
   "metadata": {},
   "outputs": [],
   "source": []
  },
  {
   "cell_type": "code",
   "execution_count": null,
   "metadata": {},
   "outputs": [],
   "source": []
  },
  {
   "cell_type": "code",
   "execution_count": null,
   "metadata": {},
   "outputs": [],
   "source": []
  },
  {
   "cell_type": "code",
   "execution_count": null,
   "metadata": {},
   "outputs": [],
   "source": []
  },
  {
   "cell_type": "code",
   "execution_count": null,
   "metadata": {},
   "outputs": [],
   "source": []
  },
  {
   "cell_type": "code",
   "execution_count": null,
   "metadata": {},
   "outputs": [],
   "source": []
  },
  {
   "cell_type": "code",
   "execution_count": null,
   "metadata": {},
   "outputs": [],
   "source": []
  },
  {
   "cell_type": "code",
   "execution_count": null,
   "metadata": {},
   "outputs": [],
   "source": []
  },
  {
   "cell_type": "code",
   "execution_count": null,
   "metadata": {},
   "outputs": [],
   "source": []
  }
 ],
 "metadata": {
  "kernelspec": {
   "display_name": "streamlit_conda391",
   "language": "python",
   "name": "streamlit_conda391"
  },
  "language_info": {
   "codemirror_mode": {
    "name": "ipython",
    "version": 3
   },
   "file_extension": ".py",
   "mimetype": "text/x-python",
   "name": "python",
   "nbconvert_exporter": "python",
   "pygments_lexer": "ipython3",
   "version": "3.9.18"
  }
 },
 "nbformat": 4,
 "nbformat_minor": 2
}
