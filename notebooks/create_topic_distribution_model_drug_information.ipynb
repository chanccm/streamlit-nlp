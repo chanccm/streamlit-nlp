{
 "cells": [
  {
   "cell_type": "markdown",
   "metadata": {},
   "source": [
    "# Topic Estimation Steps:\n",
    "\n",
    "\n",
    "1. Text preprocessing and tokenization\n",
    "\n",
    "2. Train topic estimation model\n",
    "    - Make document-term matrix\n",
    "        - input: tokens \n",
    "        - tool: CountVectorizer\n",
    "    - Make topic distribution matrix\n",
    "        - input:\n",
    "            i) document-term matrix -> term-document matrix -> corpus\n",
    "            ii) dictionary (from gensim, Not pandas dict)\n",
    "        - tool: Latent Dirichlet Allocation\n",
    "    - Evaluate coherence\n",
    "3. Visualization model\n",
    "    - tool: pyLDAvis\n",
    "    - also, each piece of text is expressed in terms of a list of topics, and the probability for each topic\n"
   ]
  },
  {
   "cell_type": "markdown",
   "metadata": {},
   "source": [
    "# Import libraries"
   ]
  },
  {
   "cell_type": "code",
   "execution_count": 1,
   "metadata": {},
   "outputs": [],
   "source": [
    "import pandas as pd\n",
    "import numpy as np\n",
    "import matplotlib.pyplot as plt\n",
    "from collections import Counter\n",
    "import time\n",
    "\n",
    "from sklearn.feature_extraction.text import CountVectorizer\n",
    "from nltk.tokenize import RegexpTokenizer\n",
    "from nltk.corpus import wordnet \n",
    "from nltk.stem.wordnet import WordNetLemmatizer\n",
    "from nltk.corpus import stopwords\n",
    "\n",
    "import gensim\n",
    "from gensim import corpora\n",
    "from gensim import matutils, models\n",
    "from gensim.models import CoherenceModel\n",
    "\n",
    "import pyLDAvis\n",
    "import pyLDAvis.gensim_models\n"
   ]
  },
  {
   "cell_type": "code",
   "execution_count": 2,
   "metadata": {},
   "outputs": [
    {
     "name": "stdout",
     "output_type": "stream",
     "text": [
      "/Users/carmen/nltk_data/corpora/wordnet.zip\n"
     ]
    },
    {
     "name": "stderr",
     "output_type": "stream",
     "text": [
      "[nltk_data] Downloading package wordnet to /Users/carmen/nltk_data...\n",
      "[nltk_data]   Package wordnet is already up-to-date!\n"
     ]
    }
   ],
   "source": [
    "# in order to use NLTK's lemmatizer, need to download library\n",
    "\n",
    "import nltk\n",
    "nltk.download('wordnet')\n",
    "\n",
    "# to see where it is downloaded to\n",
    "print(nltk.find('corpora/wordnet.zip'))"
   ]
  },
  {
   "cell_type": "code",
   "execution_count": null,
   "metadata": {},
   "outputs": [],
   "source": []
  },
  {
   "cell_type": "markdown",
   "metadata": {
    "collapsed": true
   },
   "source": [
    "# Text to be grouped into different topics"
   ]
  },
  {
   "cell_type": "code",
   "execution_count": 3,
   "metadata": {},
   "outputs": [],
   "source": [
    "pd.set_option('display.max_colwidth', None)"
   ]
  },
  {
   "cell_type": "code",
   "execution_count": 4,
   "metadata": {},
   "outputs": [],
   "source": [
    "df = pd.read_excel('../data/drug_names_kaggle_TASK.xlsx',\n",
    "                  header = 1,\n",
    "                  usecols = [1])"
   ]
  },
  {
   "cell_type": "code",
   "execution_count": 5,
   "metadata": {},
   "outputs": [
    {
     "data": {
      "text/html": [
       "<div>\n",
       "<style scoped>\n",
       "    .dataframe tbody tr th:only-of-type {\n",
       "        vertical-align: middle;\n",
       "    }\n",
       "\n",
       "    .dataframe tbody tr th {\n",
       "        vertical-align: top;\n",
       "    }\n",
       "\n",
       "    .dataframe thead th {\n",
       "        text-align: right;\n",
       "    }\n",
       "</style>\n",
       "<table border=\"1\" class=\"dataframe\">\n",
       "  <thead>\n",
       "    <tr style=\"text-align: right;\">\n",
       "      <th></th>\n",
       "      <th>Introduction</th>\n",
       "    </tr>\n",
       "  </thead>\n",
       "  <tbody>\n",
       "    <tr>\n",
       "      <th>0</th>\n",
       "      <td>Acnesol Gel is an antibiotic that fights bacteria. It is used to treat acne, which appears as spots or pimples on your face, chest or back. This medicine works by attacking the bacteria that cause these pimples.Acnesol Gel is only meant for external use and should be used as advised by your doctor. You should normally wash and dry the affected area before applying a thin layer of the medicine. It should not be applied to broken or damaged skin. Avoid any contact with your eyes, nose, or mouth. Rinse it off with water if you accidentally get it in these areas. It may take several weeks for your symptoms to improve, but you should keep using this medicine regularly. Do not stop using it as soon as your acne starts to get better. Ask your doctor when you should stop treatment.Common side effects like minor itching, burning, or redness of the skin and oily skin may be seen in some people. These are usually temporary and resolve on their own. Consult your doctor if they bother you or do not go away.It is a safe medicine, but you should inform your doctor if you have any problems with your bowels (intestines). Also, inform the doctor if you have ever had bloody diarrhea caused by taking antibiotics or if you are using any other medicines to treat skin conditions. Consult your doctor about using this medicine if you are pregnant or breastfeeding.</td>\n",
       "    </tr>\n",
       "    <tr>\n",
       "      <th>1</th>\n",
       "      <td>Ambrodil Syrup is used for treating various respiratory tract disorders associated with excessive mucus. It works by thinning and loosens mucus in the nose, windpipe and lungs and make it easier to cough out.Ambrodil Syrup should be taken with food. For better results, it is suggested to take it at the same time every day.  The dose and how often you take it depends on what you are taking it for. Your doctor will decide how much you need to improve your symptoms.  It is advised not to use it for more than 14 days without doctor consultation.The most common side effects of this medicine include vomiting, nausea, and stomach upset. Talk to your doctor if you are worried about side effects or they would not go away. Generally, it is advised not to take alcohol while on treatment.Before taking this medicine, tell your doctor if you have liver or kidney disease or if you have stomach problems. Your doctor should also know about all other medicines you are taking as many of these may make this medicine less effective or change the way it works. You must take doctor's advice before using this medicine if you are pregnant or breastfeeding.</td>\n",
       "    </tr>\n",
       "  </tbody>\n",
       "</table>\n",
       "</div>"
      ],
      "text/plain": [
       "                                                                                                                                                                                                                                                                                                                                                                                                                                                                                                                                                                                                                                                                                                                                                                                                                                                                                                                                                                                                                                                                                                                                                                                                                                                                                                                                                                                                        Introduction\n",
       "0  Acnesol Gel is an antibiotic that fights bacteria. It is used to treat acne, which appears as spots or pimples on your face, chest or back. This medicine works by attacking the bacteria that cause these pimples.Acnesol Gel is only meant for external use and should be used as advised by your doctor. You should normally wash and dry the affected area before applying a thin layer of the medicine. It should not be applied to broken or damaged skin. Avoid any contact with your eyes, nose, or mouth. Rinse it off with water if you accidentally get it in these areas. It may take several weeks for your symptoms to improve, but you should keep using this medicine regularly. Do not stop using it as soon as your acne starts to get better. Ask your doctor when you should stop treatment.Common side effects like minor itching, burning, or redness of the skin and oily skin may be seen in some people. These are usually temporary and resolve on their own. Consult your doctor if they bother you or do not go away.It is a safe medicine, but you should inform your doctor if you have any problems with your bowels (intestines). Also, inform the doctor if you have ever had bloody diarrhea caused by taking antibiotics or if you are using any other medicines to treat skin conditions. Consult your doctor about using this medicine if you are pregnant or breastfeeding.\n",
       "1                                                                                                                                                                                                                      Ambrodil Syrup is used for treating various respiratory tract disorders associated with excessive mucus. It works by thinning and loosens mucus in the nose, windpipe and lungs and make it easier to cough out.Ambrodil Syrup should be taken with food. For better results, it is suggested to take it at the same time every day.  The dose and how often you take it depends on what you are taking it for. Your doctor will decide how much you need to improve your symptoms.  It is advised not to use it for more than 14 days without doctor consultation.The most common side effects of this medicine include vomiting, nausea, and stomach upset. Talk to your doctor if you are worried about side effects or they would not go away. Generally, it is advised not to take alcohol while on treatment.Before taking this medicine, tell your doctor if you have liver or kidney disease or if you have stomach problems. Your doctor should also know about all other medicines you are taking as many of these may make this medicine less effective or change the way it works. You must take doctor's advice before using this medicine if you are pregnant or breastfeeding."
      ]
     },
     "execution_count": 5,
     "metadata": {},
     "output_type": "execute_result"
    }
   ],
   "source": [
    "df.head(2)"
   ]
  },
  {
   "cell_type": "markdown",
   "metadata": {},
   "source": [
    "# Topic Estimation"
   ]
  },
  {
   "cell_type": "markdown",
   "metadata": {
    "collapsed": true
   },
   "source": [
    "## 1. Text preprocessing and tokenization"
   ]
  },
  {
   "cell_type": "code",
   "execution_count": 6,
   "metadata": {},
   "outputs": [],
   "source": [
    "def tokenize(text):\n",
    "    \n",
    "    list_str_exclude = ['mg', 'ml', 'gm', 'iu']\n",
    "    # need to add words to this list manually\n",
    "    \n",
    "    tokenizer = RegexpTokenizer(r'\\w+')\n",
    "    text = text.lower()\n",
    "#     print(text)\n",
    "    tokenized_text = tokenizer.tokenize(text)\n",
    "#     print(tokenized_text)\n",
    "\n",
    "    # Remove numbers, but not words that contain numbers.\n",
    "    tokenized_text = [token for token in tokenized_text if not token.isnumeric()]\n",
    "\n",
    "    # Remove words that are only one character.\n",
    "    tokenized_text = [token for token in tokenized_text if len(token) > 1]\n",
    "    \n",
    "    # Remove words that are dosage\n",
    "    tokenized_text = [token for token in tokenized_text if not any(unimportant in token for unimportant in list_str_exclude)]\n",
    "    \n",
    "    return tokenized_text"
   ]
  },
  {
   "cell_type": "code",
   "execution_count": 7,
   "metadata": {},
   "outputs": [],
   "source": [
    "def lemmatize_tokens(tokens):\n",
    "    \n",
    "    lemmatizer = WordNetLemmatizer()\n",
    "    lemmatized_tokens = [lemmatizer.lemmatize(token) for token in tokens]\n",
    "    \n",
    "    return lemmatized_tokens"
   ]
  },
  {
   "cell_type": "code",
   "execution_count": 8,
   "metadata": {},
   "outputs": [],
   "source": [
    "df['tokens'] = df['Introduction'].apply(lambda x: lemmatize_tokens(tokenize(x)))"
   ]
  },
  {
   "cell_type": "code",
   "execution_count": 9,
   "metadata": {},
   "outputs": [
    {
     "data": {
      "text/html": [
       "<div>\n",
       "<style scoped>\n",
       "    .dataframe tbody tr th:only-of-type {\n",
       "        vertical-align: middle;\n",
       "    }\n",
       "\n",
       "    .dataframe tbody tr th {\n",
       "        vertical-align: top;\n",
       "    }\n",
       "\n",
       "    .dataframe thead th {\n",
       "        text-align: right;\n",
       "    }\n",
       "</style>\n",
       "<table border=\"1\" class=\"dataframe\">\n",
       "  <thead>\n",
       "    <tr style=\"text-align: right;\">\n",
       "      <th></th>\n",
       "      <th>Introduction</th>\n",
       "      <th>tokens</th>\n",
       "    </tr>\n",
       "  </thead>\n",
       "  <tbody>\n",
       "    <tr>\n",
       "      <th>0</th>\n",
       "      <td>Acnesol Gel is an antibiotic that fights bacteria. It is used to treat acne, which appears as spots or pimples on your face, chest or back. This medicine works by attacking the bacteria that cause these pimples.Acnesol Gel is only meant for external use and should be used as advised by your doctor. You should normally wash and dry the affected area before applying a thin layer of the medicine. It should not be applied to broken or damaged skin. Avoid any contact with your eyes, nose, or mouth. Rinse it off with water if you accidentally get it in these areas. It may take several weeks for your symptoms to improve, but you should keep using this medicine regularly. Do not stop using it as soon as your acne starts to get better. Ask your doctor when you should stop treatment.Common side effects like minor itching, burning, or redness of the skin and oily skin may be seen in some people. These are usually temporary and resolve on their own. Consult your doctor if they bother you or do not go away.It is a safe medicine, but you should inform your doctor if you have any problems with your bowels (intestines). Also, inform the doctor if you have ever had bloody diarrhea caused by taking antibiotics or if you are using any other medicines to treat skin conditions. Consult your doctor about using this medicine if you are pregnant or breastfeeding.</td>\n",
       "      <td>[acnesol, gel, is, an, antibiotic, that, fight, bacteria, it, is, used, to, treat, acne, which, appears, a, spot, or, pimple, on, your, face, chest, or, back, this, medicine, work, by, attacking, the, bacteria, that, cause, these, pimple, acnesol, gel, is, only, meant, for, external, use, and, should, be, used, a, advised, by, your, doctor, you, should, normally, wash, and, dry, the, affected, area, before, applying, thin, layer, of, the, medicine, it, should, not, be, applied, to, broken, or, damaged, skin, avoid, any, contact, with, your, eye, nose, or, mouth, rinse, it, off, with, water, if, you, accidentally, get, it, in, ...]</td>\n",
       "    </tr>\n",
       "    <tr>\n",
       "      <th>1</th>\n",
       "      <td>Ambrodil Syrup is used for treating various respiratory tract disorders associated with excessive mucus. It works by thinning and loosens mucus in the nose, windpipe and lungs and make it easier to cough out.Ambrodil Syrup should be taken with food. For better results, it is suggested to take it at the same time every day.  The dose and how often you take it depends on what you are taking it for. Your doctor will decide how much you need to improve your symptoms.  It is advised not to use it for more than 14 days without doctor consultation.The most common side effects of this medicine include vomiting, nausea, and stomach upset. Talk to your doctor if you are worried about side effects or they would not go away. Generally, it is advised not to take alcohol while on treatment.Before taking this medicine, tell your doctor if you have liver or kidney disease or if you have stomach problems. Your doctor should also know about all other medicines you are taking as many of these may make this medicine less effective or change the way it works. You must take doctor's advice before using this medicine if you are pregnant or breastfeeding.</td>\n",
       "      <td>[ambrodil, syrup, is, used, for, treating, various, respiratory, tract, disorder, associated, with, excessive, mucus, it, work, by, thinning, and, loosens, mucus, in, the, nose, windpipe, and, lung, and, make, it, easier, to, cough, out, ambrodil, syrup, should, be, taken, with, food, for, better, result, it, is, suggested, to, take, it, at, the, same, time, every, day, the, dose, and, how, often, you, take, it, depends, on, what, you, are, taking, it, for, your, doctor, will, decide, how, much, you, need, to, improve, your, symptom, it, is, advised, not, to, use, it, for, more, than, day, without, doctor, consultation, the, most, ...]</td>\n",
       "    </tr>\n",
       "  </tbody>\n",
       "</table>\n",
       "</div>"
      ],
      "text/plain": [
       "                                                                                                                                                                                                                                                                                                                                                                                                                                                                                                                                                                                                                                                                                                                                                                                                                                                                                                                                                                                                                                                                                                                                                                                                                                                                                                                                                                                                        Introduction  \\\n",
       "0  Acnesol Gel is an antibiotic that fights bacteria. It is used to treat acne, which appears as spots or pimples on your face, chest or back. This medicine works by attacking the bacteria that cause these pimples.Acnesol Gel is only meant for external use and should be used as advised by your doctor. You should normally wash and dry the affected area before applying a thin layer of the medicine. It should not be applied to broken or damaged skin. Avoid any contact with your eyes, nose, or mouth. Rinse it off with water if you accidentally get it in these areas. It may take several weeks for your symptoms to improve, but you should keep using this medicine regularly. Do not stop using it as soon as your acne starts to get better. Ask your doctor when you should stop treatment.Common side effects like minor itching, burning, or redness of the skin and oily skin may be seen in some people. These are usually temporary and resolve on their own. Consult your doctor if they bother you or do not go away.It is a safe medicine, but you should inform your doctor if you have any problems with your bowels (intestines). Also, inform the doctor if you have ever had bloody diarrhea caused by taking antibiotics or if you are using any other medicines to treat skin conditions. Consult your doctor about using this medicine if you are pregnant or breastfeeding.   \n",
       "1                                                                                                                                                                                                                      Ambrodil Syrup is used for treating various respiratory tract disorders associated with excessive mucus. It works by thinning and loosens mucus in the nose, windpipe and lungs and make it easier to cough out.Ambrodil Syrup should be taken with food. For better results, it is suggested to take it at the same time every day.  The dose and how often you take it depends on what you are taking it for. Your doctor will decide how much you need to improve your symptoms.  It is advised not to use it for more than 14 days without doctor consultation.The most common side effects of this medicine include vomiting, nausea, and stomach upset. Talk to your doctor if you are worried about side effects or they would not go away. Generally, it is advised not to take alcohol while on treatment.Before taking this medicine, tell your doctor if you have liver or kidney disease or if you have stomach problems. Your doctor should also know about all other medicines you are taking as many of these may make this medicine less effective or change the way it works. You must take doctor's advice before using this medicine if you are pregnant or breastfeeding.   \n",
       "\n",
       "                                                                                                                                                                                                                                                                                                                                                                                                                                                                                                                                                                                                                                                                tokens  \n",
       "0       [acnesol, gel, is, an, antibiotic, that, fight, bacteria, it, is, used, to, treat, acne, which, appears, a, spot, or, pimple, on, your, face, chest, or, back, this, medicine, work, by, attacking, the, bacteria, that, cause, these, pimple, acnesol, gel, is, only, meant, for, external, use, and, should, be, used, a, advised, by, your, doctor, you, should, normally, wash, and, dry, the, affected, area, before, applying, thin, layer, of, the, medicine, it, should, not, be, applied, to, broken, or, damaged, skin, avoid, any, contact, with, your, eye, nose, or, mouth, rinse, it, off, with, water, if, you, accidentally, get, it, in, ...]  \n",
       "1  [ambrodil, syrup, is, used, for, treating, various, respiratory, tract, disorder, associated, with, excessive, mucus, it, work, by, thinning, and, loosens, mucus, in, the, nose, windpipe, and, lung, and, make, it, easier, to, cough, out, ambrodil, syrup, should, be, taken, with, food, for, better, result, it, is, suggested, to, take, it, at, the, same, time, every, day, the, dose, and, how, often, you, take, it, depends, on, what, you, are, taking, it, for, your, doctor, will, decide, how, much, you, need, to, improve, your, symptom, it, is, advised, not, to, use, it, for, more, than, day, without, doctor, consultation, the, most, ...]  "
      ]
     },
     "execution_count": 9,
     "metadata": {},
     "output_type": "execute_result"
    }
   ],
   "source": [
    "df.head(2)"
   ]
  },
  {
   "cell_type": "markdown",
   "metadata": {},
   "source": [
    "## 2. Train topic estimation model"
   ]
  },
  {
   "cell_type": "code",
   "execution_count": 10,
   "metadata": {},
   "outputs": [],
   "source": [
    "def create_corpus_dictonary(text_data, max_term_freq, min_term_count):\n",
    "\n",
    "    def identity_tokenizer(text):\n",
    "        return text\n",
    "    \n",
    "    # create document-term matrix\n",
    "    count_vectorizer = CountVectorizer(tokenizer = identity_tokenizer,\n",
    "                                      lowercase = False,\n",
    "                                      max_df = max_term_freq, # ignoring terms that have a document frequency > x% of the number of document (by percentage)\n",
    "                                      min_df = min_term_count) # ignoring terms that have a document frequency < x (count) \n",
    "\n",
    "    count_matrix = count_vectorizer.fit_transform(text_data)\n",
    "    print('count_matrix.shape: ', count_matrix.shape)\n",
    "    \n",
    "    # create dictionary of index: term\n",
    "    dictionary = count_vectorizer.get_feature_names_out()\n",
    "    print('length of dictionary: ', len(dictionary))\n",
    "    id2word = {v: k for v, k in enumerate(dictionary)}    \n",
    "    # for coherence evaluation, create dictionary of term: index\n",
    "    word2id = dict((k, v) for k, v in count_vectorizer.vocabulary_.items())\n",
    "\n",
    "    d = corpora.Dictionary()\n",
    "    d.id2token = id2word\n",
    "    d.token2id = word2id\n",
    "\n",
    "    \n",
    "    # create term-document matrix\n",
    "    count_matrix_T = count_matrix.transpose()\n",
    "    # convert from sparse to proper format for LDA\n",
    "    corpus = matutils.Sparse2Corpus(count_matrix_T)\n",
    "    \n",
    "    return corpus, d, id2word, word2id\n"
   ]
  },
  {
   "cell_type": "code",
   "execution_count": 11,
   "metadata": {},
   "outputs": [],
   "source": [
    "def train_model_get_coherence_score(corpus, id2word, topic_count, word2id):\n",
    "    \n",
    "    passes = 10\n",
    "    iterations = 50 # 50 is the default\n",
    "    \n",
    "    lda = models.LdaModel(corpus = corpus,\n",
    "                          id2word = id2word,\n",
    "                          num_topics = topic_count,\n",
    "                          passes = passes,\n",
    "                          iterations = iterations)\n",
    "    \n",
    "    # evaluation coherence\n",
    "    coherence_model_lda = CoherenceModel(model = lda, \n",
    "                                         corpus = corpus, \n",
    "                                         dictionary = word2id, \n",
    "                                         coherence = 'u_mass'\n",
    "                                        )\n",
    "    coherence_lda = coherence_model_lda.get_coherence()\n",
    "    \n",
    "    return lda, coherence_lda\n",
    "    "
   ]
  },
  {
   "cell_type": "markdown",
   "metadata": {},
   "source": [
    "### fix max_term_freq and min_term_freq, vary topic_count"
   ]
  },
  {
   "cell_type": "code",
   "execution_count": 22,
   "metadata": {},
   "outputs": [
    {
     "name": "stdout",
     "output_type": "stream",
     "text": [
      "count_matrix.shape:  (1000, 2724)\n",
      "length of dictionary:  2724\n",
      "max_term_freq = 0.8, min_term_count = 1\n",
      "time taken to calculate: 0.08510589599609375\n"
     ]
    },
    {
     "name": "stderr",
     "output_type": "stream",
     "text": [
      "/Users/carmen/anaconda3/envs/streamlit/lib/python3.11/site-packages/sklearn/feature_extraction/text.py:525: UserWarning: The parameter 'token_pattern' will not be used since 'tokenizer' is not None'\n",
      "  warnings.warn(\n"
     ]
    }
   ],
   "source": [
    "starttime = time.time()\n",
    "\n",
    "max_term_freq = 0.8\n",
    "min_term_count = 1\n",
    "\n",
    "Corpus, D, Id2word, Word2id = create_corpus_dictonary(df['tokens'], max_term_freq, min_term_count)\n",
    "print('max_term_freq = {}, min_term_count = {}'.format(max_term_freq, min_term_count))\n",
    "\n",
    "elapsedtime = time.time() - starttime\n",
    "print('time taken to calculate: {}'.format(elapsedtime))"
   ]
  },
  {
   "cell_type": "code",
   "execution_count": 23,
   "metadata": {},
   "outputs": [],
   "source": [
    "dict_coherence_score_topic_count = {}\n",
    "for i in range(3, 10):\n",
    "    Lda, Coherence_score = train_model_get_coherence_score(Corpus, Id2word, i, Word2id)\n",
    "    dict_coherence_score_topic_count[i] = Coherence_score"
   ]
  },
  {
   "cell_type": "code",
   "execution_count": 24,
   "metadata": {},
   "outputs": [],
   "source": [
    "dict_coherence_score_topic_count = dict(sorted(dict_coherence_score_topic_count.items()))"
   ]
  },
  {
   "cell_type": "code",
   "execution_count": 25,
   "metadata": {},
   "outputs": [
    {
     "data": {
      "text/plain": [
       "Text(0.5, 1.0, 'Max_term_freq = 0.8, min_term_count = 1')"
      ]
     },
     "execution_count": 25,
     "metadata": {},
     "output_type": "execute_result"
    },
    {
     "data": {
      "image/png": "[encoded data removed]",
      "text/plain": [
       "<Figure size 600x300 with 1 Axes>"
      ]
     },
     "metadata": {},
     "output_type": "display_data"
    }
   ],
   "source": [
    "plt.figure(figsize = (6,3))\n",
    "plt.plot(dict_coherence_score_topic_count.keys(),\n",
    "        dict_coherence_score_topic_count.values())\n",
    "plt.title('Max_term_freq = {}, min_term_count = {}'.format(max_term_freq, min_term_count))"
   ]
  },
  {
   "cell_type": "code",
   "execution_count": null,
   "metadata": {},
   "outputs": [],
   "source": []
  },
  {
   "cell_type": "markdown",
   "metadata": {},
   "source": [
    "# Visualize model"
   ]
  },
  {
   "cell_type": "markdown",
   "metadata": {},
   "source": [
    "## pyLDAvis"
   ]
  },
  {
   "cell_type": "code",
   "execution_count": 26,
   "metadata": {},
   "outputs": [],
   "source": [
    "pyLDAvis.enable_notebook()"
   ]
  },
  {
   "cell_type": "code",
   "execution_count": 27,
   "metadata": {},
   "outputs": [],
   "source": [
    "Lda5, Coherence_score = train_model_get_coherence_score(Corpus, Id2word, 5, Word2id)"
   ]
  },
  {
   "cell_type": "code",
   "execution_count": 28,
   "metadata": {},
   "outputs": [
    {
     "data": {
      "text/html": [
       "\n",
       "<link rel=\"stylesheet\" type=\"text/css\" href=\"https://cdn.jsdelivr.net/gh/bmabey/pyLDAvis@3.4.0/pyLDAvis/js/ldavis.v1.0.0.css\">\n",
       "\n",
       "\n",
       "<div id=\"ldavis_el1872451415165126758800388\" style=\"background-color:white;\"></div>\n",
       "<script type=\"text/javascript\">\n",
       "\n",
       "var ldavis_el1872451415165126758800388_data = {\"mdsDat\": {\"x\": [0.11406180829897462, -0.05084242579062211, 0.020194502266660856, -0.17104308612564184, 0.08762920135062832], \"y\": [-0.03810765369281899, 0.05962853057049194, -0.10863221425170949, -0.0074942840763818405, 0.09460562145041829], \"topics\": [1, 2, 3, 4, 5], \"cluster\": [1, 1, 1, 1, 1], \"Freq\": [23.381772962747707, 18.410562933536713, 13.656049701478493, 16.69610438077705, 27.855510021460038]}, \"tinfo\": {\"Term\": [\"blood\", \"pressure\", \"level\", \"infection\", \"high\", \"sugar\", \"cholesterol\", \"heart\", \"risk\", \"diabetes\", \"injection\", \"medication\", \"so\", \"increase\", \"antibiotic\", \"stroke\", \"symptom\", \"weight\", \"about\", \"advice\", \"regular\", \"affect\", \"bacteria\", \"all\", \"course\", \"monitor\", \"important\", \"low\", \"type\", \"disease\", \"sneezing\", \"concerned\", \"recommend\", \"mucus\", \"beneficial\", \"runny\", \"support\", \"watery\", \"thins\", \"antihistamine\", \"stuffiness\", \"recommends\", \"expectorant\", \"ambrodil\", \"sp\", \"earlier\", \"ascoril\", \"free\", \"alleviates\", \"evening\", \"sting\", \"l\", \"component\", \"adjusts\", \"couple\", \"windpipe\", \"hay\", \"stuffy\", \"asthakind\", \"conjunctivitis\", \"cough\", \"congestion\", \"milk\", \"air\", \"straight\", \"come\", \"easier\", \"prescribe\", \"syrup\", \"about\", \"never\", \"back\", \"all\", \"relief\", \"respond\", \"another\", \"worsen\", \"nose\", \"fluid\", \"sleepiness\", \"symptom\", \"dose\", \"medication\", \"how\", \"affect\", \"depend\", \"most\", \"so\", \"know\", \"these\", \"condition\", \"can\", \"keep\", \"tell\", \"stomach\", \"on\", \"treatment\", \"long\", \"let\", \"taken\", \"common\", \"while\", \"any\", \"do\", \"advised\", \"tablet\", \"pain\", \"other\", \"food\", \"that\", \"some\", \"ankle\", \"those\", \"especially\", \"active\", \"blocker\", \"workload\", \"hypertension\", \"meant\", \"beating\", \"testosterone\", \"channel\", \"men\", \"safely\", \"amtas\", \"wait\", \"male\", \"minimizes\", \"electrolyte\", \"accidentally\", \"blister\", \"pressure\", \"properly\", \"asomex\", \"eating\", \"oily\", \"whitehead\", \"scratch\", \"limiting\", \"unnecessary\", \"ct\", \"blackhead\", \"no\", \"touch\", \"thin\", \"applied\", \"asked\", \"keeping\", \"rich\", \"layer\", \"advice\", \"flushing\", \"raise\", \"because\", \"high\", \"blood\", \"follow\", \"often\", \"own\", \"heart\", \"control\", \"well\", \"depends\", \"reducing\", \"ha\", \"chest\", \"treat\", \"regular\", \"help\", \"do\", \"on\", \"condition\", \"day\", \"what\", \"at\", \"other\", \"take\", \"get\", \"any\", \"stop\", \"consult\", \"tablet\", \"kidney\", \"know\", \"time\", \"while\", \"using\", \"tell\", \"symptom\", \"that\", \"will\", \"these\", \"most\", \"mood\", \"depression\", \"suicidal\", \"behavior\", \"habit\", \"forming\", \"suddenly\", \"hearing\", \"schizophrenia\", \"behave\", \"stopped\", \"adversely\", \"delusion\", \"modifying\", \"snacking\", \"portion\", \"calorie\", \"dietitian\", \"neuropathic\", \"withdrawal\", \"calm\", \"bipolar\", \"bedtime\", \"mania\", \"consistent\", \"antipsychotic\", \"tend\", \"talking\", \"panic\", \"hallucination\", \"anxiety\", \"maintain\", \"balance\", \"sleep\", \"injection\", \"gain\", \"thought\", \"balanced\", \"brain\", \"gradually\", \"difficulty\", \"however\", \"disorder\", \"new\", \"nerve\", \"finish\", \"better\", \"so\", \"important\", \"remember\", \"without\", \"that\", \"take\", \"do\", \"course\", \"full\", \"soon\", \"medication\", \"even\", \"cause\", \"can\", \"treatment\", \"help\", \"feel\", \"dose\", \"tablet\", \"food\", \"some\", \"common\", \"affect\", \"blood\", \"any\", \"know\", \"level\", \"at\", \"time\", \"taken\", \"will\", \"advised\", \"diabetic\", \"moderation\", \"widely\", \"reduction\", \"mellitus\", \"ill\", \"repeated\", \"build\", \"cessation\", \"statin\", \"narrowing\", \"program\", \"thereafter\", \"dyspepsia\", \"blindness\", \"hypoglycemia\", \"azulix\", \"deal\", \"recognize\", \"lipid\", \"big\", \"play\", \"amaryl\", \"juice\", \"fruit\", \"shaking\", \"limb\", \"source\", \"ketoacidosis\", \"sugary\", \"diabetes\", \"unexplained\", \"acting\", \"glucose\", \"controlled\", \"controlling\", \"fat\", \"cholesterol\", \"yellowing\", \"part\", \"sugar\", \"substance\", \"smoking\", \"monitor\", \"level\", \"risk\", \"intake\", \"try\", \"put\", \"low\", \"increase\", \"blood\", \"people\", \"stroke\", \"disease\", \"exercise\", \"function\", \"regularly\", \"weight\", \"time\", \"regular\", \"heart\", \"liver\", \"but\", \"can\", \"tablet\", \"take\", \"at\", \"day\", \"that\", \"include\", \"pain\", \"high\", \"taken\", \"while\", \"treatment\", \"most\", \"get\", \"thoroughly\", \"prescribing\", \"alternative\", \"everybody\", \"stone\", \"toothache\", \"aggravated\", \"adjusting\", \"laboratory\", \"between\", \"recovery\", \"potency\", \"discontinuation\", \"adequate\", \"bacterial\", \"scalp\", \"herpes\", \"penicillin\", \"anal\", \"killing\", \"accidental\", \"hiv\", \"spectrum\", \"af\", \"broad\", \"aziderm\", \"fight\", \"typhoid\", \"immediate\", \"completion\", \"bacteria\", \"gram\", \"seek\", \"return\", \"antibiotic\", \"infection\", \"orally\", \"commonly\", \"longer\", \"previous\", \"transmitted\", \"sexually\", \"negative\", \"hour\", \"ear\", \"gonorrhea\", \"positive\", \"cream\", \"growth\", \"type\", \"more\", \"microorganism\", \"tract\", \"throat\", \"must\", \"spaced\", \"evenly\", \"skin\", \"than\", \"seen\", \"any\", \"use\", \"consult\", \"an\", \"persist\", \"course\", \"duration\", \"treatment\", \"these\", \"using\", \"after\", \"better\", \"some\", \"diarrhea\", \"prescribed\", \"take\", \"pain\", \"do\", \"let\", \"pregnant\", \"taken\", \"include\", \"tablet\", \"dose\", \"help\", \"other\", \"know\", \"time\", \"will\", \"at\", \"get\"], \"Freq\": [1595.0, 731.0, 799.0, 652.0, 521.0, 373.0, 273.0, 987.0, 296.0, 164.0, 219.0, 549.0, 487.0, 332.0, 270.0, 244.0, 752.0, 304.0, 467.0, 242.0, 342.0, 502.0, 217.0, 510.0, 294.0, 172.0, 316.0, 194.0, 421.0, 622.0, 94.59936735154047, 119.62570665915713, 77.1606819462577, 74.24170800138869, 74.15790563592718, 99.19230508158462, 81.39733706285185, 94.77038935029117, 39.12689475220691, 37.19410897621521, 34.29300359318348, 123.48252596822327, 29.404744351870246, 23.547850091138372, 26.361764678584105, 22.594468414349222, 29.113368198868454, 27.186070598264536, 22.482596149548023, 19.66279326358279, 18.7067170639021, 19.630073284604197, 22.430641422543683, 17.749662184669504, 17.74430918601541, 40.108360747187334, 16.77853630863808, 22.370170561316918, 17.702184511084948, 16.76575219434398, 120.25507511236256, 43.80469463330472, 30.32612879461693, 41.668015481641994, 126.17262227232257, 164.45199134671412, 73.82104521557363, 80.41291880800765, 122.99441900407953, 330.099017113499, 90.47125014031651, 161.29323910927076, 332.00576604822567, 133.15526837121828, 111.58780248753827, 91.08028801277509, 190.50294866741774, 202.59611159315853, 104.59798300997477, 183.98310444811912, 385.8531115127313, 517.6859693289018, 294.9082237258452, 308.45361012753017, 268.85699244696127, 154.6812007528832, 362.9733643172479, 242.72781285636285, 409.99929528137653, 365.26405843220675, 327.5431891554385, 361.4457446663211, 184.26908795062494, 272.04110744435764, 250.388779409624, 313.22313553304014, 344.03893213248585, 200.61604279807878, 264.7976531578384, 285.1109889581917, 267.45519169503956, 248.64199321447578, 331.282228075263, 309.69634210867224, 235.34044401208868, 278.97527736419596, 247.33576061091586, 247.10546271326422, 231.37554820090335, 248.17499544906494, 233.50270370108856, 78.19757654749527, 67.64347939761774, 72.08335047905405, 74.65694551490162, 33.886700171875326, 31.996258728126595, 86.76101709292016, 26.96435809827557, 28.7805521083307, 17.488913609772002, 31.976935492200678, 18.225113855489738, 12.710181997970922, 11.775882395519874, 13.508827971304125, 13.48863195408455, 18.876310879831546, 45.84912573213786, 11.67277996076401, 12.53793612614363, 676.9851883089932, 39.3026188943093, 9.816427367526332, 79.4006750489356, 12.465635775271, 19.592552107477744, 9.78968478102604, 9.783710131845067, 9.783427010108346, 9.774704164219784, 19.46229340207996, 82.81156678743794, 18.320786295996914, 29.112745441105872, 29.897760415535696, 33.90572822323363, 83.21640106866376, 32.02601276487915, 29.666400995731163, 180.58031726776437, 37.02803163388587, 29.14882040124371, 86.40510965377585, 320.6046818353354, 715.5187180039578, 79.95792106969577, 137.71554441224416, 80.40104419531652, 440.30806393195934, 120.9554982661666, 115.84862359445555, 62.265557173324225, 120.63403091878567, 105.903390028286, 59.6341627284879, 219.6185898668386, 143.92209513083202, 253.75375597187414, 333.67999579018846, 270.839265810248, 252.5907968950026, 207.55180804698614, 136.81453893262213, 271.8879203399385, 247.98780228020343, 315.58145792878423, 211.06482229262926, 312.93431084596483, 207.69301980283018, 203.5771251375995, 246.8061557495516, 183.30817462332016, 202.9736997618871, 193.56966439392704, 166.55260165876714, 151.57403979123208, 154.96930945415625, 154.83521618769268, 163.97913718532448, 155.45375274261622, 149.44612236284036, 146.74298103819567, 47.29185171702032, 61.705144806479446, 34.50791500044616, 33.50988124691352, 25.627679287845158, 24.645275437690895, 89.03253608562261, 19.88483719625944, 18.832580899419973, 17.88107684612513, 64.88542171169651, 16.918627228759142, 16.901341490385207, 16.881105144577973, 15.92769577574468, 14.947615147354698, 18.674974461272328, 14.936818008416664, 16.78659412524741, 22.36621488747992, 14.85325465847828, 12.990680295063868, 22.25438444463883, 12.943631633190467, 61.92187076466589, 12.011797594343912, 14.765186974181326, 56.16381772858816, 11.034960213011361, 22.04302284445456, 55.007074348684505, 73.90167800585324, 23.65182075741364, 16.265131368245576, 142.18137408488934, 52.5364843224574, 37.251348317099804, 19.291286141631154, 39.369852874390354, 33.96820121537494, 41.473114907373336, 94.33714507676052, 83.08449887916986, 29.55436408157878, 47.970501953283446, 77.33814300677346, 156.74201017244096, 148.72083807704408, 112.02702929823542, 89.17506631982461, 153.27106001293538, 220.1866680644221, 268.41076435789114, 251.48287161124838, 101.51555716106346, 88.32161969914708, 58.172256102066584, 132.50793761840438, 124.35746512620176, 138.1415240747772, 177.76606605629243, 187.68133653965057, 148.4260762893018, 125.12892212441604, 167.99378897776438, 171.96804560564908, 136.97682679199593, 138.9371922649165, 134.30246274260176, 113.19406769800979, 156.58318475341292, 151.654611363328, 130.18814331677035, 118.72774403925278, 122.22218116024666, 118.43115483285041, 116.08379766820055, 112.04660036259497, 108.69084494894754, 91.55308145109109, 48.32492854515217, 47.36839958760491, 85.25649790237634, 53.95629291168067, 59.54628281650283, 41.58810105852881, 35.854034127481036, 57.53055322487839, 35.83512295601429, 36.774020019652845, 89.53720771551643, 32.961940206614806, 32.94981667080313, 36.68332258698615, 35.717905610509455, 29.993807778017647, 26.15213727120232, 26.141092241018058, 29.864019020855864, 25.189415271794584, 25.18373445575714, 23.2606199261369, 22.327048466658503, 22.302670121080507, 23.22944879690561, 22.29854142650685, 22.298284026595773, 22.297807836760285, 22.295568457533925, 157.06063810014837, 41.61376382966307, 38.72719628488764, 64.6341369747982, 35.74131355842269, 28.604038734142158, 102.29047755763513, 234.22389077850394, 61.56011279678354, 114.81994332507158, 300.14382267709766, 38.83538661551105, 95.1276043121981, 138.43067088825654, 527.9863990041589, 216.13652257916004, 83.08758962367064, 132.17255833025118, 45.9908724835002, 139.46369909937553, 203.29269944832487, 671.6526561556736, 148.11789594960393, 140.60566924885828, 250.86135616674682, 124.3731762887093, 122.4111197265424, 236.52928793405673, 140.46022800310396, 277.4683937267944, 145.39181467538518, 257.4370384390411, 218.2305841117231, 182.38700814262907, 239.25107577775873, 247.0395234710781, 263.1617977893044, 230.1401691173102, 185.0213829765297, 219.79687286661618, 179.73611853043383, 190.65438440649265, 153.0829754983143, 174.11261000919134, 154.7557248564284, 153.04793822241868, 149.6719736527156, 147.81178567935606, 40.50859610816721, 35.57710502167693, 35.57128393752242, 25.871277090403463, 26.74911848243617, 25.7568974032673, 23.799915903451105, 24.748756915053253, 22.821668861787767, 20.912507858174045, 21.843026733630722, 20.86685174885012, 20.859974237766803, 23.647217120844182, 108.6827030848682, 18.8845202971608, 18.861375529141114, 61.30025903228912, 16.003025666034052, 65.83619123905153, 17.86272033758974, 17.84340833800081, 61.96514236258841, 17.8283488862422, 61.93158148271572, 15.003302237903238, 59.08122138506012, 60.88551698552462, 47.725954581180005, 56.17136212033655, 204.78980307517654, 97.8383346503667, 45.80176311313194, 55.97566117898297, 250.68332502647095, 585.2821624317328, 57.67357974101799, 64.88600392727791, 178.75587059308302, 54.51595400614027, 51.61251489693938, 53.24682882790666, 48.824578465288816, 136.7989818762064, 132.4784619912986, 48.66613589805877, 49.40543291056329, 93.59510570799874, 95.26263696536591, 308.8313134636394, 169.06893380839432, 89.1989868814046, 130.85669205650638, 124.25986416045632, 175.4050389739478, 106.63540781868443, 106.34255424964564, 273.90226624093214, 144.4039932046546, 131.16786561448143, 584.5274441627186, 283.95354148350935, 344.3784477392342, 258.1034788200504, 139.5988825575467, 171.56871476474643, 242.12197248466788, 430.7257003090921, 365.220806272684, 248.73505045998067, 179.44474683903792, 232.29847319454714, 299.9119782031943, 182.03093149379546, 210.81119608198532, 390.8254343351853, 278.47085749970114, 333.4066896770241, 244.01254724540394, 252.81998713976293, 262.90544595288225, 221.88244722991402, 276.7934061358073, 264.9596724103795, 239.66250752834708, 246.0078542823185, 256.98651776933167, 248.71210108799863, 231.6823272187808, 242.05334767847907, 213.34792621433544], \"Total\": [1595.0, 731.0, 799.0, 652.0, 521.0, 373.0, 273.0, 987.0, 296.0, 164.0, 219.0, 549.0, 487.0, 332.0, 270.0, 244.0, 752.0, 304.0, 467.0, 242.0, 342.0, 502.0, 217.0, 510.0, 294.0, 172.0, 316.0, 194.0, 421.0, 622.0, 95.96544145048057, 121.42923376716152, 78.33853624253655, 75.40047749584261, 75.39985424066685, 100.86303659888426, 83.23895253898971, 96.93565078830603, 40.146044513050064, 38.18788410020401, 35.25062327808933, 127.28557582880752, 30.353356261094657, 24.4775287710656, 27.413956798901914, 23.49947255499509, 30.34869984571202, 28.390343391317053, 23.497206317680057, 20.56031055803138, 19.581384059344593, 20.560319880088073, 23.49693175461957, 18.602616226671923, 18.602829908729984, 42.107993003923475, 17.623450149161414, 23.50032262253075, 18.601828091288315, 17.62332348134582, 132.14691476803796, 46.97546123347756, 32.304745951376695, 45.038326718311694, 146.0871165154805, 197.99052600386992, 85.10007006297994, 95.8939044971933, 155.06245776039916, 467.70546334845767, 110.70192728312463, 216.95686658018613, 510.43013381409065, 182.67465326096692, 148.7360279120147, 117.72830131610479, 281.71037552103274, 306.24464720868866, 141.75498398820525, 293.8987696977392, 752.4278218373346, 1121.486963100417, 549.2190421612904, 588.1070645789272, 502.68664922181324, 239.3529284880611, 854.6494445788203, 487.78753259586057, 1085.1309446181278, 1026.9345979213922, 873.7745719704996, 1044.0638206446806, 340.0682366670886, 686.7586786100854, 625.7100775488361, 964.5301280858408, 1226.425278151324, 417.4477227404102, 753.027925143044, 927.8411122723697, 825.0474576648232, 701.8099149679556, 1503.6394582311646, 1330.4641452086316, 672.6956258238852, 1221.5824083262821, 854.2567987108582, 917.2297521695643, 735.0694569215374, 1035.3956234649484, 847.3756659351784, 79.28316588091288, 68.6483766089235, 73.49027626216927, 76.38867531933914, 34.81279462664035, 32.8789409822906, 89.92163340410964, 28.049655361691002, 29.98510876923918, 18.379127439264735, 33.86735600131213, 19.34938356181711, 13.543239299843442, 12.577114838514667, 14.513817605026647, 14.513702492558577, 20.322312888665977, 49.36179471510981, 12.578867252912145, 13.529872413231416, 731.6057237888937, 42.54951385165159, 10.643648999490368, 86.17272682414662, 13.548703459578634, 21.296024084487264, 10.64418986659899, 10.644264234142145, 10.644008021623083, 10.642353142780298, 21.299322993181374, 94.99832628976868, 20.335677720051113, 32.94928638935043, 33.92021706922722, 38.719187840554625, 99.9322909537015, 36.79112504283725, 33.92541852173438, 242.16763954364038, 43.65075650392677, 33.870914720004365, 117.49943587369305, 521.5301737686128, 1595.4790099026645, 114.71714202766424, 222.94281504534055, 119.58555744619002, 987.8560719620833, 208.89936800058047, 202.1683902575308, 90.26456843266378, 226.162369401883, 195.3753536549265, 87.14575523904293, 632.5837659680351, 342.70534236248056, 831.5416764691647, 1330.4641452086316, 964.5301280858408, 873.7745719704996, 641.4344040041003, 333.2359905997375, 1051.9813703718796, 917.2297521695643, 1441.4313825218053, 701.085045763291, 1503.6394582311646, 721.8586934113798, 776.6134987005787, 1221.5824083262821, 729.8730562937999, 1085.1309446181278, 1036.834086006676, 701.8099149679556, 578.1847869092257, 686.7586786100854, 752.4278218373346, 1035.3956234649484, 820.7271645314343, 1026.9345979213922, 854.6494445788203, 48.561357276260374, 63.42986581131863, 35.673174273088804, 34.68193909662523, 26.75006179610268, 25.75633335118833, 93.14683197008792, 20.80578214241543, 19.811061904220622, 18.820986944193358, 68.37280149001074, 17.829855077028522, 17.829371679003835, 17.828946533704187, 16.83865277469102, 15.847424423926977, 19.806780114083306, 15.84730132282853, 17.829246529893414, 23.77064101438997, 15.844893788524374, 13.864775176885063, 23.770932375627726, 13.863517657197029, 66.32741926668, 12.873656797044776, 15.84580872394848, 60.43959185084, 11.882247871655947, 23.769689733618318, 63.3334723966113, 87.09172916548198, 26.746390986763362, 17.82070589506648, 219.7977091815595, 70.94211568713904, 48.43407574159135, 21.78963316677987, 53.395811984655204, 45.35079786918669, 59.26884740915026, 177.3326906327888, 155.87601535477197, 39.55797477990402, 82.47359773650997, 171.38991516056106, 526.7471459554735, 487.78753259586057, 316.8593070466488, 222.70313521952994, 556.4131405797696, 1035.3956234649484, 1441.4313825218053, 1330.4641452086316, 294.93099174070676, 234.52914771276363, 117.4010459667119, 549.2190421612904, 492.49309383223897, 631.4750734021093, 1044.0638206446806, 1226.425278151324, 831.5416764691647, 579.7685904148211, 1121.486963100417, 1221.5824083262821, 735.0694569215374, 847.3756659351784, 825.0474576648232, 502.68664922181324, 1595.4790099026645, 1503.6394582311646, 1085.1309446181278, 799.1957200016826, 1051.9813703718796, 1036.834086006676, 927.8411122723697, 820.7271645314343, 672.6956258238852, 92.98743521919741, 49.402848689977056, 48.4342331748276, 87.18267948219817, 55.21547748701418, 61.02439426201776, 42.624418103721624, 36.81199333316863, 59.08588992215027, 36.81244023897479, 37.78080458509676, 92.03026556064874, 33.90661315456718, 33.90627197860509, 37.781213583867476, 36.81270814489963, 31.001369583559175, 27.12747479487302, 27.12735003251188, 31.001388686743603, 26.158530370599017, 26.15889252636636, 24.221735066861047, 23.253079007874728, 23.253117838539904, 24.222216233837308, 23.253303736403172, 23.25330941379511, 23.253692159968395, 23.253453601161752, 164.7275017094753, 43.609661580726986, 40.70174338245262, 68.76725035383193, 37.78242336125538, 30.03632685363474, 113.45997612169128, 273.00690196438563, 66.92679364546306, 130.03681496556024, 373.92870990633276, 41.690941036018735, 110.5557574457239, 172.08412684725818, 799.1957200016826, 296.1806688091681, 99.08754525040281, 174.87778548665446, 50.44492171155634, 194.88757968421115, 332.7876887764664, 1595.4790099026645, 245.85341531016695, 244.90319383611285, 622.9241602515606, 237.8706318794417, 232.36893094021292, 653.5073959545784, 304.08533216905187, 1036.834086006676, 342.70534236248056, 987.8560719620833, 732.817447043097, 595.9641428503533, 1044.0638206446806, 1221.5824083262821, 1441.4313825218053, 1051.9813703718796, 641.4344040041003, 1035.3956234649484, 623.4521586828968, 854.2567987108582, 521.5301737686128, 927.8411122723697, 701.8099149679556, 1226.425278151324, 854.6494445788203, 701.085045763291, 41.60399516509029, 36.64821536993167, 36.64806737037555, 26.741725715021296, 27.729794172349898, 26.737953345367526, 24.757984629059873, 25.7471987627804, 23.766715804342365, 21.785488059139837, 22.77636499440701, 21.785544442008927, 21.78517770927799, 24.75220655092855, 113.91988928797805, 19.802536062460444, 19.803253213502217, 64.37612574950589, 16.83161416731263, 69.32568389581304, 18.81075147054799, 18.811936423367985, 65.36351077903481, 18.810451270657307, 65.36276963931645, 15.840645460849291, 62.38783813976091, 64.37172130190343, 50.48188686691618, 59.41783980804997, 217.88253466877052, 103.98179299712643, 48.50110200288939, 59.41533611614361, 270.34746494261964, 652.9542680166667, 61.39378372680504, 69.31677323148031, 195.02890630072955, 58.418930050621974, 55.44641003307255, 57.42352058891947, 52.4754032812165, 154.30292033868065, 149.47648073650151, 52.47369038393196, 53.46187817777039, 106.7172264315818, 108.83460689228396, 421.02807764980673, 219.1516743507543, 105.66743637633542, 167.81324661295395, 164.0598322266722, 260.42984849761854, 140.64264332834364, 140.61794863598234, 494.4768872261962, 216.2619867506559, 189.95705108098332, 1503.6394582311646, 584.8151497392175, 776.6134987005787, 518.7047296654998, 216.6410319881088, 294.93099174070676, 507.91643324958204, 1226.425278151324, 1026.9345979213922, 578.1847869092257, 337.3332831205596, 526.7471459554735, 847.3756659351784, 350.4844280079826, 457.7183357224459, 1441.4313825218053, 854.2567987108582, 1330.4641452086316, 753.027925143044, 833.3143592053088, 927.8411122723697, 623.4521586828968, 1221.5824083262821, 1121.486963100417, 831.5416764691647, 917.2297521695643, 1085.1309446181278, 1036.834086006676, 820.7271645314343, 1051.9813703718796, 701.085045763291], \"Category\": [\"Default\", \"Default\", \"Default\", \"Default\", \"Default\", \"Default\", \"Default\", \"Default\", \"Default\", \"Default\", \"Default\", \"Default\", \"Default\", \"Default\", \"Default\", \"Default\", \"Default\", \"Default\", \"Default\", \"Default\", \"Default\", \"Default\", \"Default\", \"Default\", \"Default\", \"Default\", \"Default\", \"Default\", \"Default\", \"Default\", \"Topic1\", \"Topic1\", \"Topic1\", \"Topic1\", \"Topic1\", \"Topic1\", \"Topic1\", \"Topic1\", \"Topic1\", \"Topic1\", \"Topic1\", \"Topic1\", \"Topic1\", \"Topic1\", \"Topic1\", \"Topic1\", \"Topic1\", \"Topic1\", \"Topic1\", \"Topic1\", \"Topic1\", \"Topic1\", \"Topic1\", \"Topic1\", \"Topic1\", \"Topic1\", \"Topic1\", \"Topic1\", \"Topic1\", \"Topic1\", \"Topic1\", \"Topic1\", \"Topic1\", \"Topic1\", \"Topic1\", \"Topic1\", \"Topic1\", \"Topic1\", \"Topic1\", \"Topic1\", \"Topic1\", \"Topic1\", \"Topic1\", \"Topic1\", \"Topic1\", \"Topic1\", \"Topic1\", \"Topic1\", \"Topic1\", \"Topic1\", \"Topic1\", \"Topic1\", \"Topic1\", \"Topic1\", \"Topic1\", \"Topic1\", \"Topic1\", \"Topic1\", \"Topic1\", \"Topic1\", \"Topic1\", \"Topic1\", \"Topic1\", \"Topic1\", \"Topic1\", \"Topic1\", \"Topic1\", \"Topic1\", \"Topic1\", \"Topic1\", \"Topic1\", \"Topic1\", \"Topic1\", \"Topic1\", \"Topic1\", \"Topic1\", \"Topic1\", \"Topic1\", \"Topic1\", \"Topic1\", \"Topic1\", \"Topic2\", \"Topic2\", \"Topic2\", \"Topic2\", \"Topic2\", \"Topic2\", \"Topic2\", \"Topic2\", \"Topic2\", \"Topic2\", \"Topic2\", \"Topic2\", \"Topic2\", \"Topic2\", \"Topic2\", \"Topic2\", \"Topic2\", \"Topic2\", \"Topic2\", \"Topic2\", \"Topic2\", \"Topic2\", \"Topic2\", \"Topic2\", \"Topic2\", \"Topic2\", \"Topic2\", \"Topic2\", \"Topic2\", \"Topic2\", \"Topic2\", \"Topic2\", \"Topic2\", \"Topic2\", \"Topic2\", \"Topic2\", \"Topic2\", \"Topic2\", \"Topic2\", \"Topic2\", \"Topic2\", \"Topic2\", \"Topic2\", \"Topic2\", \"Topic2\", \"Topic2\", \"Topic2\", \"Topic2\", \"Topic2\", \"Topic2\", \"Topic2\", \"Topic2\", \"Topic2\", \"Topic2\", \"Topic2\", \"Topic2\", \"Topic2\", \"Topic2\", \"Topic2\", \"Topic2\", \"Topic2\", \"Topic2\", \"Topic2\", \"Topic2\", \"Topic2\", \"Topic2\", \"Topic2\", \"Topic2\", \"Topic2\", \"Topic2\", \"Topic2\", \"Topic2\", \"Topic2\", \"Topic2\", \"Topic2\", \"Topic2\", \"Topic2\", \"Topic2\", \"Topic2\", \"Topic2\", \"Topic2\", \"Topic2\", \"Topic3\", \"Topic3\", \"Topic3\", \"Topic3\", \"Topic3\", \"Topic3\", \"Topic3\", \"Topic3\", \"Topic3\", \"Topic3\", \"Topic3\", \"Topic3\", \"Topic3\", \"Topic3\", \"Topic3\", \"Topic3\", \"Topic3\", \"Topic3\", \"Topic3\", \"Topic3\", \"Topic3\", \"Topic3\", \"Topic3\", \"Topic3\", \"Topic3\", \"Topic3\", \"Topic3\", \"Topic3\", \"Topic3\", \"Topic3\", \"Topic3\", \"Topic3\", \"Topic3\", \"Topic3\", \"Topic3\", \"Topic3\", \"Topic3\", \"Topic3\", \"Topic3\", \"Topic3\", \"Topic3\", \"Topic3\", \"Topic3\", \"Topic3\", \"Topic3\", \"Topic3\", \"Topic3\", \"Topic3\", \"Topic3\", \"Topic3\", \"Topic3\", \"Topic3\", \"Topic3\", \"Topic3\", \"Topic3\", \"Topic3\", \"Topic3\", \"Topic3\", \"Topic3\", \"Topic3\", \"Topic3\", \"Topic3\", \"Topic3\", \"Topic3\", \"Topic3\", \"Topic3\", \"Topic3\", \"Topic3\", \"Topic3\", \"Topic3\", \"Topic3\", \"Topic3\", \"Topic3\", \"Topic3\", \"Topic3\", \"Topic3\", \"Topic3\", \"Topic3\", \"Topic3\", \"Topic4\", \"Topic4\", \"Topic4\", \"Topic4\", \"Topic4\", \"Topic4\", \"Topic4\", \"Topic4\", \"Topic4\", \"Topic4\", \"Topic4\", \"Topic4\", \"Topic4\", \"Topic4\", \"Topic4\", \"Topic4\", \"Topic4\", \"Topic4\", \"Topic4\", \"Topic4\", \"Topic4\", \"Topic4\", \"Topic4\", \"Topic4\", \"Topic4\", \"Topic4\", \"Topic4\", \"Topic4\", \"Topic4\", \"Topic4\", \"Topic4\", \"Topic4\", \"Topic4\", \"Topic4\", \"Topic4\", \"Topic4\", \"Topic4\", \"Topic4\", \"Topic4\", \"Topic4\", \"Topic4\", \"Topic4\", \"Topic4\", \"Topic4\", \"Topic4\", \"Topic4\", \"Topic4\", \"Topic4\", \"Topic4\", \"Topic4\", \"Topic4\", \"Topic4\", \"Topic4\", \"Topic4\", \"Topic4\", \"Topic4\", \"Topic4\", \"Topic4\", \"Topic4\", \"Topic4\", \"Topic4\", \"Topic4\", \"Topic4\", \"Topic4\", \"Topic4\", \"Topic4\", \"Topic4\", \"Topic4\", \"Topic4\", \"Topic4\", \"Topic4\", \"Topic4\", \"Topic4\", \"Topic4\", \"Topic4\", \"Topic4\", \"Topic4\", \"Topic4\", \"Topic5\", \"Topic5\", \"Topic5\", \"Topic5\", \"Topic5\", \"Topic5\", \"Topic5\", \"Topic5\", \"Topic5\", \"Topic5\", \"Topic5\", \"Topic5\", \"Topic5\", \"Topic5\", \"Topic5\", \"Topic5\", \"Topic5\", \"Topic5\", \"Topic5\", \"Topic5\", \"Topic5\", \"Topic5\", \"Topic5\", \"Topic5\", \"Topic5\", \"Topic5\", \"Topic5\", \"Topic5\", \"Topic5\", \"Topic5\", \"Topic5\", \"Topic5\", \"Topic5\", \"Topic5\", \"Topic5\", \"Topic5\", \"Topic5\", \"Topic5\", \"Topic5\", \"Topic5\", \"Topic5\", \"Topic5\", \"Topic5\", \"Topic5\", \"Topic5\", \"Topic5\", \"Topic5\", \"Topic5\", \"Topic5\", \"Topic5\", \"Topic5\", \"Topic5\", \"Topic5\", \"Topic5\", \"Topic5\", \"Topic5\", \"Topic5\", \"Topic5\", \"Topic5\", \"Topic5\", \"Topic5\", \"Topic5\", \"Topic5\", \"Topic5\", \"Topic5\", \"Topic5\", \"Topic5\", \"Topic5\", \"Topic5\", \"Topic5\", \"Topic5\", \"Topic5\", \"Topic5\", \"Topic5\", \"Topic5\", \"Topic5\", \"Topic5\", \"Topic5\", \"Topic5\", \"Topic5\", \"Topic5\", \"Topic5\", \"Topic5\", \"Topic5\", \"Topic5\", \"Topic5\", \"Topic5\", \"Topic5\", \"Topic5\", \"Topic5\", \"Topic5\"], \"logprob\": [30.0, 29.0, 28.0, 27.0, 26.0, 25.0, 24.0, 23.0, 22.0, 21.0, 20.0, 19.0, 18.0, 17.0, 16.0, 15.0, 14.0, 13.0, 12.0, 11.0, 10.0, 9.0, 8.0, 7.0, 6.0, 5.0, 4.0, 3.0, 2.0, 1.0, -5.7909, -5.5562, -5.9947, -6.0333, -6.0344, -5.7435, -5.9412, -5.7891, -6.6738, -6.7244, -6.8056, -5.5245, -6.9594, -7.1816, -7.0687, -7.2229, -6.9694, -7.0379, -7.2278, -7.3619, -7.4117, -7.3635, -7.2302, -7.4642, -7.4645, -6.649, -7.5205, -7.2329, -7.4669, -7.5213, -5.551, -6.5608, -6.9286, -6.6109, -5.5029, -5.238, -6.0389, -5.9534, -5.5284, -4.5412, -5.8356, -5.2574, -4.5354, -5.4491, -5.6258, -5.8288, -5.0909, -5.0294, -5.6905, -5.1257, -4.3851, -4.0912, -4.6539, -4.609, -4.7464, -5.2992, -4.4463, -4.8486, -4.3244, -4.44, -4.549, -4.4505, -5.1242, -4.7346, -4.8176, -4.5937, -4.4998, -5.0392, -4.7616, -4.6877, -4.7516, -4.8246, -4.5376, -4.605, -4.8796, -4.7095, -4.8298, -4.8308, -4.8965, -4.8265, -4.8874, -5.7423, -5.8873, -5.8237, -5.7887, -6.5785, -6.6359, -5.6384, -6.807, -6.7419, -7.24, -6.6365, -7.1988, -7.5592, -7.6355, -7.4982, -7.4997, -7.1636, -6.2762, -7.6443, -7.5728, -3.5839, -6.4303, -7.8175, -5.727, -7.5786, -7.1264, -7.8202, -7.8208, -7.8209, -7.8218, -7.1331, -5.685, -7.1935, -6.7304, -6.7038, -6.578, -5.6801, -6.635, -6.7115, -4.9054, -6.4899, -6.7291, -5.6425, -4.3313, -3.5285, -5.7201, -5.1764, -5.7145, -4.0141, -5.3061, -5.3493, -5.9701, -5.3088, -5.439, -6.0133, -4.7097, -5.1323, -4.5652, -4.2914, -4.5, -4.5698, -4.7662, -5.1829, -4.4962, -4.5882, -4.3471, -4.7494, -4.3556, -4.7655, -4.7855, -4.593, -4.8904, -4.7885, -4.8359, -4.9862, -5.0805, -5.0583, -5.0592, -5.0018, -5.0552, -5.0946, -5.1129, -5.9465, -5.6804, -6.2616, -6.291, -6.5591, -6.5982, -5.3138, -6.8129, -6.8672, -6.9191, -5.6302, -6.9744, -6.9754, -6.9766, -7.0348, -7.0983, -6.8756, -7.099, -6.9822, -6.6953, -7.1046, -7.2386, -6.7003, -7.2422, -5.6769, -7.3169, -7.1105, -5.7745, -7.4017, -6.7098, -5.7954, -5.5001, -6.6394, -7.0138, -4.8457, -5.8413, -6.1851, -6.8432, -6.1298, -6.2774, -6.0778, -5.2559, -5.383, -6.4166, -5.9322, -5.4546, -4.7482, -4.8007, -5.0841, -5.3122, -4.7706, -4.4083, -4.2103, -4.2754, -5.1826, -5.3218, -5.7394, -4.9162, -4.9797, -4.8745, -4.6223, -4.5681, -4.8027, -4.9735, -4.6789, -4.6555, -4.883, -4.8688, -4.9027, -5.0737, -4.7492, -4.7812, -4.9338, -5.026, -4.997, -5.0285, -5.0485, -5.0839, -5.1143, -5.4869, -6.1259, -6.1459, -5.5581, -6.0156, -5.9171, -6.276, -6.4244, -5.9515, -6.4249, -6.399, -5.5092, -6.5085, -6.5088, -6.4015, -6.4282, -6.6028, -6.7399, -6.7403, -6.6072, -6.7774, -6.7776, -6.857, -6.898, -6.8991, -6.8584, -6.8993, -6.8993, -6.8993, -6.8994, -4.9472, -6.2754, -6.3473, -5.8351, -6.4275, -6.6503, -5.376, -4.5475, -5.8838, -5.2604, -4.2995, -6.3445, -5.4486, -5.0734, -3.7347, -4.6279, -5.5839, -5.1197, -6.1754, -5.066, -4.6892, -3.4941, -5.0058, -5.0578, -4.4789, -5.1805, -5.1964, -4.5377, -5.0589, -4.3781, -5.0244, -4.453, -4.6183, -4.7977, -4.5263, -4.4943, -4.431, -4.5651, -4.7833, -4.6111, -4.8123, -4.7533, -4.9728, -4.8441, -4.962, -4.9731, -4.9954, -5.0079, -6.8141, -6.944, -6.9441, -7.2625, -7.2292, -7.267, -7.346, -7.3069, -7.388, -7.4753, -7.4318, -7.4775, -7.4778, -7.3524, -5.8272, -7.5773, -7.5785, -6.3999, -7.7429, -6.3285, -7.6329, -7.634, -6.3891, -7.6349, -6.3896, -7.8074, -6.4367, -6.4067, -6.6502, -6.4873, -5.1937, -5.9323, -6.6913, -6.4907, -4.9915, -4.1436, -6.4609, -6.343, -5.3296, -6.5172, -6.5719, -6.5407, -6.6274, -5.5971, -5.6292, -6.6307, -6.6156, -5.9767, -5.959, -4.7829, -5.3854, -6.0248, -5.6416, -5.6933, -5.3486, -5.8462, -5.849, -4.9029, -5.543, -5.6392, -4.1449, -4.8669, -4.6739, -4.9623, -5.5769, -5.3707, -5.0262, -4.4502, -4.6152, -4.9993, -5.3258, -5.0676, -4.8122, -5.3115, -5.1647, -4.5474, -4.8863, -4.7063, -5.0184, -4.983, -4.9439, -5.1135, -4.8924, -4.9361, -5.0364, -5.0103, -4.9666, -4.9994, -5.0703, -5.0265, -5.1527], \"loglift\": [30.0, 29.0, 28.0, 27.0, 26.0, 25.0, 24.0, 23.0, 22.0, 21.0, 20.0, 19.0, 18.0, 17.0, 16.0, 15.0, 14.0, 13.0, 12.0, 11.0, 10.0, 9.0, 8.0, 7.0, 6.0, 5.0, 4.0, 3.0, 2.0, 1.0, 1.4389, 1.4382, 1.4381, 1.4377, 1.4366, 1.4365, 1.4308, 1.4306, 1.4275, 1.4268, 1.4257, 1.4229, 1.4215, 1.4145, 1.4141, 1.4139, 1.4117, 1.4099, 1.4091, 1.4086, 1.4075, 1.4069, 1.4068, 1.4063, 1.406, 1.4046, 1.4041, 1.4039, 1.4036, 1.4033, 1.3589, 1.3833, 1.39, 1.3754, 1.3067, 1.2676, 1.311, 1.2771, 1.2215, 1.1048, 1.2514, 1.1567, 1.0231, 1.137, 1.1659, 1.1966, 1.062, 1.04, 1.1492, 0.9848, 0.7854, 0.6802, 0.8314, 0.8079, 0.8274, 1.0166, 0.5969, 0.7553, 0.4799, 0.4195, 0.472, 0.3924, 0.8405, 0.5272, 0.5373, 0.3285, 0.1821, 0.7204, 0.4081, 0.2732, 0.3267, 0.4156, -0.0595, -0.0045, 0.403, -0.0236, 0.2137, 0.1417, 0.2973, 0.0248, 0.1643, 1.6785, 1.6775, 1.6729, 1.6693, 1.6653, 1.665, 1.6565, 1.6528, 1.6512, 1.6426, 1.6348, 1.6324, 1.6288, 1.6264, 1.6205, 1.619, 1.6184, 1.6184, 1.6175, 1.6161, 1.6147, 1.6129, 1.6113, 1.6104, 1.6089, 1.6089, 1.6086, 1.6079, 1.6079, 1.6072, 1.602, 1.555, 1.5879, 1.5685, 1.566, 1.5595, 1.5092, 1.5535, 1.5581, 1.3988, 1.5277, 1.5421, 1.3849, 1.2057, 0.8903, 1.3313, 1.2105, 1.2952, 0.8842, 1.1458, 1.1354, 1.3209, 1.0638, 1.0799, 1.3129, 0.6343, 0.8246, 0.5053, 0.3091, 0.4221, 0.4512, 0.5639, 0.802, 0.3392, 0.3843, 0.1733, 0.4918, 0.1226, 0.4465, 0.3533, 0.0929, 0.3105, 0.0159, 0.014, 0.2539, 0.3534, 0.2035, 0.1113, -0.1506, 0.0284, -0.2352, -0.0698, 1.9645, 1.9634, 1.9578, 1.9566, 1.9481, 1.9469, 1.9458, 1.9457, 1.9403, 1.9398, 1.9386, 1.9385, 1.9375, 1.9364, 1.9354, 1.9325, 1.9321, 1.9318, 1.9307, 1.9301, 1.9264, 1.9259, 1.9251, 1.9223, 1.9223, 1.9217, 1.9204, 1.9176, 1.917, 1.9156, 1.85, 1.8268, 1.868, 1.8997, 1.5554, 1.6906, 1.7285, 1.8692, 1.6863, 1.702, 1.6339, 1.3598, 1.3618, 1.6995, 1.4491, 1.1952, 0.7789, 0.8032, 0.9513, 1.0757, 0.7017, 0.4429, 0.3101, 0.3251, 0.9245, 1.0144, 1.2888, 0.5691, 0.6147, 0.4712, 0.2206, 0.1139, 0.2678, 0.4577, 0.0925, 0.0304, 0.3108, 0.1829, 0.1756, 0.5001, -0.3304, -0.3031, -0.1295, 0.0842, -0.1616, -0.1786, -0.0876, -0.0003, 0.1682, 1.7744, 1.7679, 1.7677, 1.7677, 1.7669, 1.7655, 1.7654, 1.7636, 1.7633, 1.7631, 1.763, 1.7625, 1.7617, 1.7614, 1.7605, 1.7598, 1.757, 1.7534, 1.753, 1.7526, 1.7522, 1.752, 1.7495, 1.7494, 1.7483, 1.7481, 1.7481, 1.7481, 1.748, 1.7479, 1.7423, 1.7431, 1.7403, 1.728, 1.7345, 1.7411, 1.6864, 1.6368, 1.7064, 1.6655, 1.5702, 1.719, 1.6397, 1.5724, 1.3755, 1.4749, 1.6139, 1.51, 1.6976, 1.4554, 1.2971, 0.9248, 1.2833, 1.2351, 0.8805, 1.1416, 1.1491, 0.7737, 1.0176, 0.4718, 0.9326, 0.4452, 0.5787, 0.6059, 0.3166, 0.1916, 0.0894, 0.2703, 0.5468, 0.2402, 0.5462, 0.2902, 0.5642, 0.1168, 0.2782, -0.2911, 0.0477, 0.2333, 1.2515, 1.2485, 1.2483, 1.245, 1.2421, 1.2408, 1.2387, 1.2386, 1.2376, 1.2372, 1.2363, 1.2351, 1.2347, 1.2325, 1.2311, 1.2307, 1.2294, 1.2292, 1.2277, 1.2265, 1.2264, 1.2253, 1.2247, 1.2245, 1.2242, 1.2238, 1.2237, 1.2225, 1.222, 1.222, 1.2162, 1.2172, 1.2209, 1.2185, 1.2026, 1.1687, 1.2156, 1.2121, 1.191, 1.209, 1.2065, 1.2026, 1.206, 1.1577, 1.1574, 1.2028, 1.1992, 1.1469, 1.1449, 0.9682, 1.0187, 1.1087, 1.0294, 1.0003, 0.8829, 1.0013, 0.9988, 0.6874, 0.8743, 0.9078, 0.3333, 0.5557, 0.4649, 0.5802, 0.8387, 0.7364, 0.5373, 0.2318, 0.2443, 0.4346, 0.6469, 0.4594, 0.2395, 0.623, 0.5028, -0.027, 0.1572, -0.1058, 0.1513, 0.0854, 0.0171, 0.245, -0.2065, -0.1647, 0.0341, -0.0379, -0.1623, -0.1495, 0.0133, -0.1911, 0.0884]}, \"token.table\": {\"Topic\": [1, 2, 3, 4, 5, 5, 2, 4, 5, 2, 4, 5, 5, 5, 1, 3, 1, 2, 4, 5, 1, 2, 3, 4, 5, 5, 1, 2, 3, 4, 5, 1, 2, 3, 4, 5, 5, 1, 3, 4, 1, 2, 3, 4, 5, 1, 5, 4, 1, 2, 1, 2, 3, 4, 5, 5, 2, 1, 2, 3, 4, 5, 1, 2, 3, 5, 1, 3, 1, 2, 3, 1, 2, 3, 4, 5, 2, 5, 1, 2, 2, 4, 5, 2, 1, 1, 2, 3, 4, 5, 5, 4, 1, 2, 3, 5, 1, 2, 3, 5, 1, 3, 5, 3, 5, 3, 5, 2, 3, 1, 2, 3, 4, 5, 1, 3, 5, 3, 3, 1, 1, 2, 3, 4, 5, 5, 4, 3, 2, 5, 4, 2, 2, 1, 2, 3, 4, 5, 1, 3, 4, 5, 1, 5, 4, 1, 2, 3, 4, 5, 3, 3, 1, 2, 3, 4, 5, 1, 2, 3, 4, 5, 2, 4, 2, 3, 1, 2, 3, 4, 5, 1, 2, 3, 4, 5, 1, 2, 3, 5, 1, 2, 3, 4, 5, 1, 3, 5, 1, 5, 1, 1, 2, 3, 1, 2, 3, 4, 5, 1, 2, 4, 5, 1, 1, 2, 3, 1, 2, 3, 4, 5, 1, 2, 3, 4, 5, 2, 4, 4, 5, 1, 2, 3, 5, 1, 1, 2, 3, 4, 5, 1, 2, 5, 2, 1, 2, 3, 4, 5, 4, 3, 1, 2, 3, 4, 5, 1, 2, 3, 4, 5, 3, 5, 1, 2, 3, 4, 5, 4, 1, 2, 3, 4, 5, 3, 1, 2, 3, 5, 5, 1, 2, 3, 4, 5, 1, 2, 3, 4, 5, 1, 2, 3, 4, 5, 1, 2, 3, 4, 5, 1, 2, 3, 4, 5, 4, 1, 2, 3, 5, 1, 1, 2, 3, 4, 2, 3, 4, 5, 1, 2, 5, 2, 5, 1, 2, 3, 4, 5, 1, 1, 3, 4, 5, 5, 1, 2, 3, 4, 5, 1, 1, 2, 3, 4, 5, 1, 2, 3, 4, 5, 1, 5, 1, 2, 3, 5, 1, 2, 3, 4, 5, 2, 3, 1, 2, 3, 5, 1, 2, 3, 4, 5, 3, 1, 2, 4, 1, 2, 3, 5, 1, 2, 3, 4, 5, 2, 3, 4, 1, 2, 3, 4, 5, 2, 4, 1, 5, 1, 2, 3, 4, 5, 1, 5, 1, 2, 3, 5, 1, 2, 3, 4, 5, 3, 1, 3, 5, 1, 3, 1, 2, 3, 4, 5, 1, 2, 3, 4, 5, 5, 1, 2, 3, 4, 5, 5, 1, 2, 3, 4, 5, 1, 2, 3, 4, 5, 1, 2, 3, 4, 5, 2, 4, 4, 2, 4, 2, 5, 1, 2, 3, 4, 5, 1, 2, 3, 4, 5, 1, 2, 3, 4, 5, 1, 2, 3, 4, 5, 1, 2, 3, 4, 5, 2, 3, 4, 5, 4, 1, 2, 3, 4, 5, 2, 4, 5, 4, 1, 2, 3, 4, 5, 1, 5, 1, 2, 3, 4, 5, 1, 5, 2, 5, 1, 2, 3, 4, 5, 1, 2, 3, 4, 5, 4, 2, 4, 1, 2, 3, 4, 5, 1, 2, 3, 4, 5, 1, 2, 3, 5, 1, 2, 3, 4, 5, 1, 2, 3, 5, 2, 3, 2, 1, 2, 3, 4, 5, 4, 2, 1, 2, 5, 1, 4, 2, 5, 4, 3, 1, 2, 3, 4, 5, 3, 1, 2, 3, 4, 5, 1, 2, 3, 4, 5, 1, 1, 2, 3, 4, 5, 4, 1, 5, 1, 2, 3, 4, 3, 1, 2, 3, 4, 5, 1, 2, 3, 5, 2, 4, 5, 1, 2, 3, 5, 1, 2, 3, 4, 5, 2, 1, 2, 3, 4, 5, 1, 5, 1, 2, 3, 4, 5, 1, 2, 3, 4, 5, 1, 2, 3, 4, 5, 3, 2, 3, 4, 5, 1, 5, 1, 2, 3, 4, 5, 1, 2, 3, 4, 5, 4, 3, 1, 5, 5, 1, 2, 3, 4, 5, 1, 2, 3, 4, 5, 1, 2, 3, 4, 5, 5, 1, 2, 3, 4, 5, 1, 5, 1, 2, 3, 4, 2, 4, 3, 4, 2, 3, 4, 4, 1, 1, 2, 3, 4, 5, 5, 1, 2, 3, 4, 5, 2, 4, 5, 1, 2, 3, 4, 5, 1, 2, 3, 4, 5, 1, 2, 3, 4, 5, 1, 2, 3, 4, 5, 4, 1, 2, 3, 4, 5, 1, 5, 1, 2, 1, 2, 3, 4, 5, 1, 2, 3, 2, 5, 3, 2, 2, 5, 1, 2, 3, 4, 5, 1, 5, 4, 1, 2, 3, 4, 5, 1, 3, 1, 2, 3, 5, 1, 2, 3, 4, 5, 3, 1, 1, 2, 3, 4, 5, 1, 2, 3, 4, 5, 1, 2, 3, 5, 4, 1, 1, 2, 3, 4, 5, 1, 5, 4, 1, 1, 2, 3, 4, 5, 5, 1, 2, 3, 4, 5, 1, 2, 3, 5, 1, 2, 3, 4, 5, 1, 2, 3, 4, 5, 1, 1, 4, 5, 1, 2, 3, 5, 1, 2, 3, 4, 5, 4, 3, 1, 3, 5, 1, 2, 3, 4, 5, 1, 2, 5, 1, 2, 3, 4, 5, 1, 2, 3, 4, 5, 1, 2, 3, 4, 5, 2, 3, 5, 1, 2, 3, 4, 5, 3, 2, 1, 2, 3, 4, 5, 1, 2, 3, 4, 5, 4, 1, 2, 3, 4, 5, 2, 5, 1, 5, 2, 1, 3, 1, 2, 3, 4, 5, 1, 2, 3, 4, 5, 5, 2, 5, 1, 2, 3, 4, 5, 1, 5, 1, 2, 3, 4, 5, 1, 2, 3, 4, 5, 1, 2, 3, 4, 5, 1, 2, 3, 4, 5, 1, 5, 4, 5, 2, 1, 2, 3, 4, 5, 1, 2, 3, 4, 5, 2, 1, 2, 1, 2, 3, 4, 5, 1, 2, 3, 4, 5, 1, 2, 3, 4, 5, 1, 2, 3, 4, 5, 2, 5, 4, 1, 2, 3, 4, 5, 1, 3, 3, 1, 2, 3, 4, 5, 2, 1, 2, 3, 4, 5, 1, 3, 4], \"Freq\": [0.7055722583127876, 0.07697151908866774, 0.07483342133620474, 0.014966684267240949, 0.12828586514777957, 0.9568995703431952, 0.9539809713169418, 0.9581899142141839, 0.024568972159338048, 0.9818209268123337, 0.013090945690831116, 0.013090945690831116, 0.9696105254543325, 0.9709794152884493, 0.9676058346133105, 0.953456992586682, 0.07845804681337723, 0.747416130169541, 0.1445279809720107, 0.02890559619440214, 0.34934075825479516, 0.1843329958450834, 0.16203464957350072, 0.08027404657769761, 0.2244700191339322, 0.9569148417017755, 0.5351246157351243, 0.11736933951067781, 0.22479212482553546, 0.003978621678328061, 0.11736933951067781, 0.14822136593657878, 0.03853755514351048, 0.06818182833082624, 0.21343876694867345, 0.5306324900529521, 0.9693842354126764, 0.9325390852703156, 0.02220331155405513, 0.04440662310811026, 0.6504318181984948, 0.047019167580614085, 0.12538444688163755, 0.027427847755358215, 0.1488940306719446, 0.9362815180052485, 0.9823164653179115, 0.9495603818847576, 0.980491136358909, 0.9541138928979658, 0.09446607520158708, 0.0848266797728537, 0.08289880068710702, 0.2390570066325877, 0.49739280412264214, 0.9505921322194015, 0.983815405620403, 0.7729662195300149, 0.01698826856109923, 0.06795307424439692, 0.01698826856109923, 0.12741201420824422, 0.0554841526003719, 0.0036989435066914597, 0.01109683052007438, 0.9284348201795565, 0.9688936915937256, 0.9321360813933358, 0.11052607310339958, 0.01578943901477137, 0.8684191458124253, 0.22013255783363006, 0.2081616030269674, 0.10108806281181804, 0.08180152451219486, 0.38905603121653654, 0.8844283024124959, 0.0884428302412496, 0.9555598805692305, 0.03295034070928381, 0.8781175922390674, 0.05165397601406278, 0.05165397601406278, 0.9395274121195478, 0.9676468308203447, 0.1768092147242572, 0.25855971185482773, 0.11597163546429773, 0.21863505046547932, 0.23004209657672173, 0.9469311106717857, 0.967699182422888, 0.7420829888345352, 0.01843684444309404, 0.00460921111077351, 0.2304605555386755, 0.0458962900133423, 0.00458962900133423, 0.00917925800266846, 0.9408739452735172, 0.026334295255644964, 0.01755619683709664, 0.9568127276217671, 0.8973173244897775, 0.07477644370748146, 0.8719742941320876, 0.09178676780337763, 0.9671467335062739, 0.03334988736228531, 0.042553395791404394, 0.7319184076121555, 0.08510679158280879, 0.06808543326624703, 0.0765961124245279, 0.042068185807692476, 0.9255000877692345, 0.042068185807692476, 0.9563791767866536, 0.9803373423058809, 0.9814342580000394, 0.12909419732432326, 0.10251598022813907, 0.2980557202929228, 0.030375105252781944, 0.4404390261653382, 0.9639444359930098, 0.9557111827696119, 0.9376278976144676, 0.8920471324878512, 0.04694984907830796, 0.979322697452973, 0.9608368507072371, 0.9766524165796687, 0.01065510727153792, 0.44876804743653825, 0.09840304950773254, 0.4211901227337342, 0.021936985559048657, 0.14982448440523813, 0.7303943614755358, 0.018728060550654766, 0.09364030275327383, 0.0458976878818713, 0.9485522162253401, 0.9779421525528474, 0.10403310458154227, 0.23826936855772585, 0.05201655229077114, 0.30538750054581765, 0.29867568734700845, 0.9466772198159961, 0.9592674776295589, 0.3457643037348928, 0.13409141973098337, 0.17048766222939313, 0.22891320939789303, 0.11972448190266372, 0.3373054756578908, 0.18369687876204382, 0.21853594197553491, 0.0902648455985905, 0.16944453472016113, 0.016924514487597103, 0.981621840280632, 0.9448626576801631, 0.029526958052505096, 0.011475028212871363, 0.6885016927722818, 0.022950056425742726, 0.26392564889604136, 0.022950056425742726, 0.003662911057576311, 0.003662911057576311, 0.1355277091303235, 0.8571211874728567, 0.003662911057576311, 0.8283224622414229, 0.04040597376787429, 0.005050746720984286, 0.12121792130362287, 0.3236177477059376, 0.12605335491167607, 0.16241489959773647, 0.13696181831749418, 0.24968260684428145, 0.04327956799116474, 0.014426522663721578, 0.9377239731419026, 0.033659924468156764, 0.9424778851083894, 0.9362924585110876, 0.9882299037651671, 0.00823524919804306, 0.00823524919804306, 0.37538286249313507, 0.28954836649622917, 0.019455819092632002, 0.1430574933281765, 0.17281345194043718, 0.9366592438829091, 0.021287710088247935, 0.021287710088247935, 0.021287710088247935, 0.9646307643387693, 0.015076721076382305, 0.045230163229146914, 0.9347567067357029, 0.10558662724405578, 0.26267892631448025, 0.06695737337427927, 0.1223259705876256, 0.4429487777067706, 0.06223092067929989, 0.5792262617073297, 0.1531838047490459, 0.2010537437331227, 0.009573987796815368, 0.026467333512160754, 0.9528240064377872, 0.9654975503934052, 0.03329301897908294, 0.9080802242764437, 0.05297134641612588, 0.007567335202303698, 0.03026934080921479, 0.9675947201749618, 0.027124989316257838, 0.04407810763891899, 0.34584361378228745, 0.0033906236645322298, 0.5831872702995435, 0.00937055837598175, 0.11244670051178102, 0.8808324873422846, 0.939641812843237, 0.15122356922934857, 0.32427322061551034, 0.13719251641425437, 0.28841608564360294, 0.09977637557400318, 0.958437900932596, 0.9534828431458122, 0.6475792921319171, 0.06684689467168177, 0.13369378934336354, 0.037601378252821, 0.1169820656754431, 0.27696360193257535, 0.686869732792787, 0.011078544077303016, 0.011078544077303016, 0.011078544077303016, 0.977457530564987, 0.015765444041370757, 0.006070631738006132, 0.018211895214018396, 0.012141263476012264, 0.9530891828669626, 0.012141263476012264, 0.9893809823136884, 0.348089644648125, 0.017119162851547128, 0.02853193808591188, 0.08559581425773564, 0.5192812731635963, 0.9465333998787563, 0.08436135033103531, 0.08436135033103531, 0.6917630727144896, 0.11810589046344944, 0.963958168266693, 0.24882643809706317, 0.04334396018464971, 0.11076789824966038, 0.40293829653137325, 0.19263982304288763, 0.3271831133476475, 0.02566142065471745, 0.5324744785853871, 0.006415355163679363, 0.10906103778254916, 0.23300139362371808, 0.2510402111945866, 0.18865596709533303, 0.07666497467619111, 0.2502885937958004, 0.4618867780397183, 0.07757557855107237, 0.1498011172020708, 0.0749005586010354, 0.2362934289199331, 0.3563578339885283, 0.011812966872547901, 0.1397867746584835, 0.015750622496730534, 0.4764563305260987, 0.9732712585100199, 0.06690015680545817, 0.013380031361091636, 0.03345007840272909, 0.883082069832048, 0.9787453716747816, 0.8695645014773182, 0.09400697313268305, 0.023501743283170763, 0.011750871641585382, 0.9167633764359799, 0.034813799105163794, 0.011604599701721266, 0.023209199403442533, 0.020258582690752463, 0.9318948037746133, 0.040517165381504926, 0.9797214497214181, 0.013607242357241919, 0.06700601574575785, 0.21726192984230575, 0.25178018037799915, 0.08528038367641907, 0.37767027056699876, 0.9727479525929384, 0.03555733850835428, 0.19200962794511314, 0.014222935403341715, 0.7538155763771108, 0.9722633564144046, 0.01681586317905479, 0.3321132977863321, 0.11771104225338352, 0.5212917585506984, 0.008407931589527394, 0.9554132910557467, 0.008813680684433178, 0.03525472273773271, 0.052882084106599066, 0.898995429812184, 0.008813680684433178, 0.05864408759307432, 0.1983550021530455, 0.21560326320983206, 0.20007982825872417, 0.3294417861846234, 0.03205753011539862, 0.9456971384042593, 0.03500789410146504, 0.005834649016910841, 0.4492679743021347, 0.513449113488154, 0.7407146969078459, 0.17636064212091568, 0.04938097979385639, 0.014108851369673254, 0.021163277054509884, 0.8476370849763285, 0.1374546624285938, 0.1394734885928519, 0.6973674429642596, 0.06973674429642596, 0.08717093037053245, 0.3142560173394027, 0.17957486705108727, 0.18637694534847696, 0.1836561140295211, 0.13468115028831545, 0.9706350534885652, 0.9510275951173497, 0.03522324426360555, 0.946109685280011, 0.08954110908943166, 0.02131931168795992, 0.37521988570809456, 0.511663480511038, 0.11619453552052934, 0.22378206840990836, 0.11619453552052934, 0.5250271605001696, 0.017214005262300644, 0.08457599469489362, 0.7470879531382268, 0.16915198938978723, 0.08986071002471624, 0.30096206055897023, 0.09271343097788183, 0.21110135053425402, 0.3038147815121358, 0.04362541739801918, 0.9452173769570823, 0.05717150781753734, 0.9338012943531099, 0.022050328703906743, 0.022050328703906743, 0.7497111759328292, 0.19845295833516066, 0.022050328703906743, 0.04808534124948371, 0.9424726884898807, 0.036753015554683716, 0.045941269443354645, 0.036753015554683716, 0.8728841194237383, 0.040946822873726765, 0.5425454030768796, 0.12284046862118028, 0.015355058577647535, 0.27639105439765566, 0.9719603714630686, 0.04207038506630839, 0.9255484714587846, 0.04207038506630839, 0.9646238310952365, 0.9612712400379924, 0.08402033692534287, 0.44540901502591407, 0.06883593868582308, 0.26015935650377253, 0.14070875701955013, 0.09500425803724522, 0.305456728372915, 0.17798266062673787, 0.1334869954700534, 0.2886205307460614, 0.9594383203182726, 0.003834869199509326, 0.6154965065212469, 0.08244968778945051, 0.29336749376246346, 0.0057523037992639895, 0.9568392958016056, 0.06480758742641374, 0.03240379371320687, 0.006480758742641373, 0.012961517485282747, 0.8878639477418682, 0.5237141645637632, 0.16663632508847012, 0.1717374370809743, 0.10032186918591568, 0.03570778394752931, 0.045112945455533515, 0.19736913636795914, 0.5300771091025188, 0.022556472727766758, 0.19736913636795914, 0.9675091155097265, 0.022241588862292563, 0.977923163335316, 0.016386889408624754, 0.9832133645174852, 0.039618170479097534, 0.9508360914983408, 0.13570691800341986, 0.10414716963053151, 0.3534691817763494, 0.39765282949839303, 0.009467924511866501, 0.08661450481474031, 0.12992175722211047, 0.13794161877903086, 0.28871501604913435, 0.3560818531272657, 0.06610821476264829, 0.021034431969933546, 0.20132956314079253, 0.6099985271280729, 0.09916232214397244, 0.02909851567049566, 0.02909851567049566, 0.015315008247629295, 0.03063001649525859, 0.8959279824863138, 0.00454963795447918, 0.00909927590895836, 0.6460485895360435, 0.04094674159031262, 0.30027610499562585, 0.020184171430887975, 0.07064460000810792, 0.837643114381851, 0.06055251429266393, 0.9461112652027558, 0.5410678803858052, 0.3175833210960161, 0.0029405863064445935, 0.10880169333844995, 0.029405863064445936, 0.830562365856836, 0.02001355098450207, 0.1400948568915145, 0.946086318192229, 0.29868207645172645, 0.25072853206727497, 0.06439475960197773, 0.18907397500155163, 0.19592448134218754, 0.0432740051220928, 0.9520281126860416, 0.37783458487978566, 0.18707419690389387, 0.11980120983993203, 0.07833156027995557, 0.23683777637586564, 0.9727475115486544, 0.9677399346777951, 0.8842927016738333, 0.11790569355651112, 0.35191258006754667, 0.1912279680367046, 0.0584307680112153, 0.07436643201427401, 0.32402516806219395, 0.008758805665257144, 0.1539047281180898, 0.14889969630937144, 0.6606641987508246, 0.027527674947951025, 0.9461021216335329, 0.9394731077723881, 0.9676985861226338, 0.2879298259769613, 0.15556398180745779, 0.08733416522523946, 0.2974820002984719, 0.17057454145554582, 0.48149741644414673, 0.29464767274940323, 0.08623834324372778, 0.12456649579649567, 0.01197754767273997, 0.06665678563542952, 0.010254890097758389, 0.0051274450488791945, 0.9178126637493758, 0.005131163317951632, 0.21550885935396855, 0.06157395981541959, 0.7132317011952769, 0.005131163317951632, 0.02296429315578088, 0.04592858631156176, 0.8496788467638926, 0.06889287946734264, 0.8957052831050741, 0.9377129471358413, 0.96257867171072, 0.537126314555872, 0.09103835839930034, 0.2421620333421389, 0.0018207671679860067, 0.12927446892700648, 0.977986652613843, 0.9302621937538155, 0.028390960383627328, 0.12302749499571843, 0.8422651580476107, 0.928656118984942, 0.030955203966164732, 0.9349329529611048, 0.04920699752426867, 0.971603890723377, 0.9535055796966394, 0.04067777852755239, 0.0058111112182217695, 0.14527778045554424, 0.8019333481146043, 0.0058111112182217695, 0.9678477422412644, 0.11407624456469936, 0.06844574673881962, 0.00912609956517595, 0.031941348478115826, 0.7711554132573677, 0.4247355477764219, 0.17200034579375764, 0.06084365973656733, 0.17551055693240575, 0.16732006427556015, 0.981426145531773, 0.04223786199415075, 0.13823300288994791, 0.1151941690749566, 0.03071844508665509, 0.6719659862705801, 0.9793332991800614, 0.057169641630440714, 0.9337708132971982, 0.012125092483473814, 0.012125092483473814, 0.582004439206743, 0.40012805195463585, 0.9534895359429206, 0.8129939758846418, 0.04516633199359121, 0.09033266398718243, 0.02709979919615473, 0.018066532797436485, 0.1516761167219329, 0.025279352786988816, 0.7583805836096644, 0.10111741114795526, 0.8736996033680553, 0.010526501245398256, 0.10526501245398256, 0.6628687288097049, 0.06857262711824534, 0.003265363196106921, 0.2677597820807675, 0.14802002026075023, 0.618992811999501, 0.13007819962308353, 0.02691273095650004, 0.07625273771008345, 0.8856936042478858, 0.32451034020177727, 0.280965821708248, 0.051838712492296685, 0.13685420097966325, 0.2063180757193408, 0.048864882043264175, 0.9447210528364407, 0.2692891278502032, 0.27037936723421213, 0.08830939010472251, 0.10357274148084739, 0.2681988884661943, 0.016724427620784736, 0.6689771048313894, 0.12543320715588552, 0.09198435191431605, 0.09198435191431605, 0.2891402215033497, 0.07257770742189346, 0.08896622200103069, 0.2235861631868008, 0.3254290752142965, 0.9257507601940815, 0.02307038972612901, 0.0076901299087096696, 0.884364939501612, 0.08459142899580636, 0.031067417877587187, 0.9475562452664091, 0.016269857365835767, 0.06101196512188413, 0.07321435814626095, 0.6019847225359234, 0.24811532482899545, 0.11078233785978887, 0.00923186148831574, 0.02769558446494722, 0.20771688348710415, 0.6462303041821018, 0.9556979514634163, 0.9465260473085136, 0.056114751337849725, 0.9165409385182122, 0.9639419412216219, 0.2724062024041909, 0.16680379794794067, 0.10920248642634965, 0.14880338809744348, 0.30360691281171936, 0.8342553201840008, 0.03128457450690003, 0.01042819150230001, 0.08342553201840008, 0.04171276600920004, 0.10268323624356651, 0.24687671692602162, 0.030586495902338962, 0.1594867286336246, 0.46098218824239434, 0.9823124983470954, 0.004100569340085776, 0.92536181441269, 0.032804554720686205, 0.032804554720686205, 0.005467425786781034, 0.051353217140409774, 0.9414756475741792, 0.01086599059459403, 0.01086599059459403, 0.01086599059459403, 0.9779391535134626, 0.916579214887697, 0.07050609345289977, 0.05947080297108946, 0.911885645556705, 0.8561918164811896, 0.029523855740730676, 0.08857156722219203, 0.9584423089184619, 0.9829134381782111, 0.9663310174707352, 0.007856349735534432, 0.007856349735534432, 0.015712699471068865, 0.007856349735534432, 0.9659135689739053, 0.2255017054113662, 0.5350138500936334, 0.07516723513712206, 0.022108010334447665, 0.14591286820735458, 0.011470168225377726, 0.9749642991571067, 0.011470168225377726, 0.03209754456749981, 0.42018603797454296, 0.1108824266877266, 0.42310399657158837, 0.014589792985227185, 0.10252370579851369, 0.13465800164580904, 0.10099350123435677, 0.3626584817051902, 0.2999200945747565, 0.7280703569202769, 0.010948426419853788, 0.13685533024817234, 0.005474213209926894, 0.12043269061839165, 0.13919875878461122, 0.022451412707195355, 0.39963514618807733, 0.1526696064089284, 0.2828878001106615, 0.985350694941989, 0.7530119068814584, 0.0941264883601823, 0.006723320597155878, 0.053786564777247026, 0.0941264883601823, 0.05049201428627241, 0.9425176000104183, 0.10872187233585964, 0.8697749786868771, 0.013505270334092049, 0.13505270334092048, 0.04051581100227615, 0.7292845980409707, 0.0810316220045523, 0.9815290451120041, 0.009914434799111154, 0.009914434799111154, 0.9598885253508205, 0.9594730664835497, 0.9590601499232189, 0.9394796715698928, 0.04123617644565793, 0.9484320582501323, 0.03685043519135138, 0.10002260980509661, 0.005264347884478769, 0.1684591323033206, 0.6896295728667188, 0.05224340077433156, 0.9229667470131909, 0.949541519155876, 0.14560842348747421, 0.2366136881671456, 0.044491462732283785, 0.020223392151038085, 0.5541209449384435, 0.05611449994676372, 0.8978319991482195, 0.626065907622666, 0.16332154111895636, 0.20415192639869545, 0.003402532106644924, 0.03618083845125619, 0.05427125767688428, 0.04522604806407024, 0.8592949132173345, 0.009045209612814048, 0.9501947818562101, 0.9899396966669637, 0.498167713936488, 0.1332547382957684, 0.30546086163183833, 0.02255080186543773, 0.04100145793715951, 0.2761467073069104, 0.05310513602055969, 0.16403586459683994, 0.15341483739272802, 0.35403424013706464, 0.14480279847609032, 0.11073155177583377, 0.4940330771537199, 0.23849872690179583, 0.9461018906387758, 0.9484220096619342, 0.03555109518474439, 0.007110219036948878, 0.19908613303456857, 0.007110219036948878, 0.76079343695353, 0.0458971674600172, 0.9485414608403554, 0.9779302802612193, 0.9703093480224578, 0.3995460660939854, 0.06232918631066172, 0.027169132494391006, 0.1773984533457295, 0.33242232699019586, 0.9736819477341236, 0.2936862878219621, 0.28814503710834016, 0.08727469873954534, 0.1052837635588166, 0.22580596658009353, 0.01462569878968759, 0.01462569878968759, 0.9506704213296934, 0.02925139757937518, 0.8624990553951285, 0.006845230598374036, 0.08214276718048844, 0.013690461196748072, 0.04107138359024422, 0.004083246054639824, 0.4124078515186223, 0.008166492109279649, 0.5757376937042152, 0.004083246054639824, 0.9645219527546148, 0.9361573606188569, 0.9354550180651018, 0.04797205220846676, 0.010735738176486006, 0.010735738176486006, 0.9554806977072545, 0.021471476352972012, 0.08022919664958288, 0.029417372104847055, 0.08557780975955508, 0.8022919664958288, 0.002674306554986096, 0.9460960241579286, 0.9811293980194906, 0.9731021057966706, 0.01201360624440334, 0.01201360624440334, 0.5130060170521556, 0.20599982550021795, 0.14353536228402283, 0.011961280190335235, 0.1262579575646497, 0.7932287529587483, 0.00644901425169714, 0.1934704275509142, 0.2283922870027772, 0.20219675587701064, 0.14080097980099526, 0.20219675587701064, 0.2267550663074168, 0.14083223278020252, 0.2192265298450443, 0.18592629746351858, 0.18245752325710965, 0.2712581429411782, 0.30716466023154365, 0.09699936638890852, 0.12502140556792654, 0.1875321083518898, 0.2834537040031438, 0.016545445946556336, 0.9265449730071548, 0.049636337839669004, 0.3960634331560168, 0.22569791227640662, 0.10338420497822498, 0.11357701391974011, 0.1616288275011686, 0.946622558767217, 0.9249623006411937, 0.26819322651868727, 0.009248042293747837, 0.050864232615613104, 0.004624021146873918, 0.6658590451498443, 0.23952197051989532, 0.15839356115025335, 0.21247916739668132, 0.21247916739668132, 0.17674403469814856, 0.9732614652358735, 0.35542672409595777, 0.14509200517889784, 0.076927975900221, 0.06621648558500036, 0.35542672409595777, 0.8801404575903992, 0.09104901285417921, 0.9714531150714605, 0.9854822797018999, 0.9905551064576927, 0.20646620890120118, 0.7639249729344444, 0.2133368023419802, 0.006095337209770863, 0.024381348839083453, 0.006095337209770863, 0.755821814011587, 0.19193041845917735, 0.18710804613608245, 0.11380798682503983, 0.2671594266994579, 0.24015414169012644, 0.9724005298447654, 0.8851438465830859, 0.049174658143504774, 0.06554905659724529, 0.005959005145204118, 0.01787701543561235, 0.13109811319449058, 0.7806296740217393, 0.05410629828352397, 0.9378425035810822, 0.12646546481884022, 0.3477800282518106, 0.12962710143931122, 0.07904091551177514, 0.31774448035733605, 0.2804899785811127, 0.09050694076309158, 0.15329103480595693, 0.12475281024101814, 0.35142785107110336, 0.10292902526132253, 0.04574623344947668, 0.06861935017421503, 0.7548128519163653, 0.02287311672473834, 0.04750277015167419, 0.014250831045502255, 0.023751385075837093, 0.17813538806877818, 0.7339177988433662, 0.04660431536279723, 0.9476210790435436, 0.9630893356567948, 0.022930698468018925, 0.9394957218826974, 0.116276057537707, 0.20861292675882728, 0.0444584925879468, 0.14534507192213378, 0.4856235344221881, 0.17641418852484242, 0.26289173191937304, 0.09166619599820244, 0.03805011909359347, 0.43065816610476243, 0.964598038985367, 0.9800315903120801, 0.010316122003285053, 0.0032885505948838873, 0.24335274402140766, 0.2861039017548982, 0.46039708328374424, 0.0032885505948838873, 0.00989274335840689, 0.5737791147875996, 0.06924920350884822, 0.21764035388495157, 0.12860566365928958, 0.2760806233277027, 0.41112005865103557, 0.06601927949140717, 0.15004381702592537, 0.09902891923711075, 0.354796925334646, 0.23795617080677062, 0.14533849953467426, 0.22085752380269127, 0.042746617510198315, 0.9391424390137062, 0.04695712195068531, 0.9703880276239616, 0.27902086088589456, 0.18885691457342207, 0.13646435117563402, 0.11331414874405324, 0.28267615600667045, 0.9499384118419736, 0.02374846029604934, 0.9255114317986595, 0.2839616617166296, 0.17433089358552578, 0.27497553318129325, 0.09345573676749835, 0.17073644217139122, 0.9732673572800286, 0.678001297065254, 0.060345665183818425, 0.18103699555145528, 0.0035497450108128484, 0.08164413524869552, 0.01494169891504715, 0.0597667956601886, 0.9263853327329233], \"Term\": [\"about\", \"about\", \"about\", \"about\", \"about\", \"accidental\", \"accidentally\", \"acting\", \"acting\", \"active\", \"active\", \"active\", \"adequate\", \"adjusting\", \"adjusts\", \"adversely\", \"advice\", \"advice\", \"advice\", \"advice\", \"advised\", \"advised\", \"advised\", \"advised\", \"advised\", \"af\", \"affect\", \"affect\", \"affect\", \"affect\", \"affect\", \"after\", \"after\", \"after\", \"after\", \"after\", \"aggravated\", \"air\", \"air\", \"air\", \"all\", \"all\", \"all\", \"all\", \"all\", \"alleviates\", \"alternative\", \"amaryl\", \"ambrodil\", \"amtas\", \"an\", \"an\", \"an\", \"an\", \"an\", \"anal\", \"ankle\", \"another\", \"another\", \"another\", \"another\", \"another\", \"antibiotic\", \"antibiotic\", \"antibiotic\", \"antibiotic\", \"antihistamine\", \"antipsychotic\", \"anxiety\", \"anxiety\", \"anxiety\", \"any\", \"any\", \"any\", \"any\", \"any\", \"applied\", \"applied\", \"ascoril\", \"ascoril\", \"asked\", \"asked\", \"asked\", \"asomex\", \"asthakind\", \"at\", \"at\", \"at\", \"at\", \"at\", \"aziderm\", \"azulix\", \"back\", \"back\", \"back\", \"back\", \"bacteria\", \"bacteria\", \"bacteria\", \"bacteria\", \"bacterial\", \"bacterial\", \"bacterial\", \"balance\", \"balance\", \"balanced\", \"balanced\", \"beating\", \"beating\", \"because\", \"because\", \"because\", \"because\", \"because\", \"bedtime\", \"bedtime\", \"bedtime\", \"behave\", \"behavior\", \"beneficial\", \"better\", \"better\", \"better\", \"better\", \"better\", \"between\", \"big\", \"bipolar\", \"blackhead\", \"blackhead\", \"blindness\", \"blister\", \"blocker\", \"blood\", \"blood\", \"blood\", \"blood\", \"blood\", \"brain\", \"brain\", \"brain\", \"brain\", \"broad\", \"broad\", \"build\", \"but\", \"but\", \"but\", \"but\", \"but\", \"calm\", \"calorie\", \"can\", \"can\", \"can\", \"can\", \"can\", \"cause\", \"cause\", \"cause\", \"cause\", \"cause\", \"cessation\", \"cessation\", \"channel\", \"channel\", \"chest\", \"chest\", \"chest\", \"chest\", \"chest\", \"cholesterol\", \"cholesterol\", \"cholesterol\", \"cholesterol\", \"cholesterol\", \"come\", \"come\", \"come\", \"come\", \"common\", \"common\", \"common\", \"common\", \"common\", \"commonly\", \"commonly\", \"commonly\", \"completion\", \"completion\", \"component\", \"concerned\", \"concerned\", \"concerned\", \"condition\", \"condition\", \"condition\", \"condition\", \"condition\", \"congestion\", \"congestion\", \"congestion\", \"congestion\", \"conjunctivitis\", \"consistent\", \"consistent\", \"consistent\", \"consult\", \"consult\", \"consult\", \"consult\", \"consult\", \"control\", \"control\", \"control\", \"control\", \"control\", \"controlled\", \"controlled\", \"controlling\", \"controlling\", \"cough\", \"cough\", \"cough\", \"cough\", \"couple\", \"course\", \"course\", \"course\", \"course\", \"course\", \"cream\", \"cream\", \"cream\", \"ct\", \"day\", \"day\", \"day\", \"day\", \"day\", \"deal\", \"delusion\", \"depend\", \"depend\", \"depend\", \"depend\", \"depend\", \"depends\", \"depends\", \"depends\", \"depends\", \"depends\", \"depression\", \"depression\", \"diabetes\", \"diabetes\", \"diabetes\", \"diabetes\", \"diabetes\", \"diabetic\", \"diarrhea\", \"diarrhea\", \"diarrhea\", \"diarrhea\", \"diarrhea\", \"dietitian\", \"difficulty\", \"difficulty\", \"difficulty\", \"difficulty\", \"discontinuation\", \"disease\", \"disease\", \"disease\", \"disease\", \"disease\", \"disorder\", \"disorder\", \"disorder\", \"disorder\", \"disorder\", \"do\", \"do\", \"do\", \"do\", \"do\", \"dose\", \"dose\", \"dose\", \"dose\", \"dose\", \"duration\", \"duration\", \"duration\", \"duration\", \"duration\", \"dyspepsia\", \"ear\", \"ear\", \"ear\", \"ear\", \"earlier\", \"easier\", \"easier\", \"easier\", \"easier\", \"eating\", \"eating\", \"eating\", \"eating\", \"electrolyte\", \"electrolyte\", \"electrolyte\", \"especially\", \"especially\", \"even\", \"even\", \"even\", \"even\", \"even\", \"evening\", \"evenly\", \"evenly\", \"evenly\", \"evenly\", \"everybody\", \"exercise\", \"exercise\", \"exercise\", \"exercise\", \"exercise\", \"expectorant\", \"fat\", \"fat\", \"fat\", \"fat\", \"fat\", \"feel\", \"feel\", \"feel\", \"feel\", \"feel\", \"fight\", \"fight\", \"finish\", \"finish\", \"finish\", \"finish\", \"fluid\", \"fluid\", \"fluid\", \"fluid\", \"fluid\", \"flushing\", \"flushing\", \"follow\", \"follow\", \"follow\", \"follow\", \"food\", \"food\", \"food\", \"food\", \"food\", \"forming\", \"free\", \"free\", \"fruit\", \"full\", \"full\", \"full\", \"full\", \"function\", \"function\", \"function\", \"function\", \"function\", \"gain\", \"gain\", \"gain\", \"get\", \"get\", \"get\", \"get\", \"get\", \"glucose\", \"glucose\", \"gonorrhea\", \"gonorrhea\", \"gradually\", \"gradually\", \"gradually\", \"gradually\", \"gradually\", \"gram\", \"gram\", \"growth\", \"growth\", \"growth\", \"growth\", \"ha\", \"ha\", \"ha\", \"ha\", \"ha\", \"habit\", \"hallucination\", \"hallucination\", \"hallucination\", \"hay\", \"hearing\", \"heart\", \"heart\", \"heart\", \"heart\", \"heart\", \"help\", \"help\", \"help\", \"help\", \"help\", \"herpes\", \"high\", \"high\", \"high\", \"high\", \"high\", \"hiv\", \"hour\", \"hour\", \"hour\", \"hour\", \"hour\", \"how\", \"how\", \"how\", \"how\", \"how\", \"however\", \"however\", \"however\", \"however\", \"however\", \"hypertension\", \"hypertension\", \"hypoglycemia\", \"ill\", \"ill\", \"immediate\", \"immediate\", \"important\", \"important\", \"important\", \"important\", \"important\", \"include\", \"include\", \"include\", \"include\", \"include\", \"increase\", \"increase\", \"increase\", \"increase\", \"increase\", \"infection\", \"infection\", \"infection\", \"infection\", \"infection\", \"injection\", \"injection\", \"injection\", \"injection\", \"injection\", \"intake\", \"intake\", \"intake\", \"intake\", \"juice\", \"keep\", \"keep\", \"keep\", \"keep\", \"keep\", \"keeping\", \"keeping\", \"keeping\", \"ketoacidosis\", \"kidney\", \"kidney\", \"kidney\", \"kidney\", \"kidney\", \"killing\", \"killing\", \"know\", \"know\", \"know\", \"know\", \"know\", \"l\", \"laboratory\", \"layer\", \"layer\", \"let\", \"let\", \"let\", \"let\", \"let\", \"level\", \"level\", \"level\", \"level\", \"level\", \"limb\", \"limiting\", \"lipid\", \"liver\", \"liver\", \"liver\", \"liver\", \"liver\", \"long\", \"long\", \"long\", \"long\", \"long\", \"longer\", \"longer\", \"longer\", \"longer\", \"low\", \"low\", \"low\", \"low\", \"low\", \"maintain\", \"maintain\", \"maintain\", \"maintain\", \"male\", \"mania\", \"meant\", \"medication\", \"medication\", \"medication\", \"medication\", \"medication\", \"mellitus\", \"men\", \"microorganism\", \"microorganism\", \"microorganism\", \"milk\", \"milk\", \"minimizes\", \"minimizes\", \"moderation\", \"modifying\", \"monitor\", \"monitor\", \"monitor\", \"monitor\", \"monitor\", \"mood\", \"more\", \"more\", \"more\", \"more\", \"more\", \"most\", \"most\", \"most\", \"most\", \"most\", \"mucus\", \"must\", \"must\", \"must\", \"must\", \"must\", \"narrowing\", \"negative\", \"negative\", \"nerve\", \"nerve\", \"nerve\", \"nerve\", \"neuropathic\", \"never\", \"never\", \"never\", \"never\", \"never\", \"new\", \"new\", \"new\", \"new\", \"no\", \"no\", \"no\", \"nose\", \"nose\", \"nose\", \"nose\", \"often\", \"often\", \"often\", \"often\", \"often\", \"oily\", \"on\", \"on\", \"on\", \"on\", \"on\", \"orally\", \"orally\", \"other\", \"other\", \"other\", \"other\", \"other\", \"own\", \"own\", \"own\", \"own\", \"own\", \"pain\", \"pain\", \"pain\", \"pain\", \"pain\", \"panic\", \"part\", \"part\", \"part\", \"part\", \"penicillin\", \"penicillin\", \"people\", \"people\", \"people\", \"people\", \"people\", \"persist\", \"persist\", \"persist\", \"persist\", \"persist\", \"play\", \"portion\", \"positive\", \"positive\", \"potency\", \"pregnant\", \"pregnant\", \"pregnant\", \"pregnant\", \"pregnant\", \"prescribe\", \"prescribe\", \"prescribe\", \"prescribe\", \"prescribe\", \"prescribed\", \"prescribed\", \"prescribed\", \"prescribed\", \"prescribed\", \"prescribing\", \"pressure\", \"pressure\", \"pressure\", \"pressure\", \"pressure\", \"previous\", \"previous\", \"program\", \"program\", \"program\", \"program\", \"properly\", \"properly\", \"put\", \"put\", \"raise\", \"raise\", \"raise\", \"recognize\", \"recommend\", \"recommends\", \"recommends\", \"recommends\", \"recommends\", \"recommends\", \"recovery\", \"reducing\", \"reducing\", \"reducing\", \"reducing\", \"reducing\", \"reduction\", \"reduction\", \"reduction\", \"regular\", \"regular\", \"regular\", \"regular\", \"regular\", \"regularly\", \"regularly\", \"regularly\", \"regularly\", \"regularly\", \"relief\", \"relief\", \"relief\", \"relief\", \"relief\", \"remember\", \"remember\", \"remember\", \"remember\", \"remember\", \"repeated\", \"respond\", \"respond\", \"respond\", \"respond\", \"respond\", \"return\", \"return\", \"rich\", \"rich\", \"risk\", \"risk\", \"risk\", \"risk\", \"risk\", \"runny\", \"runny\", \"runny\", \"safely\", \"scalp\", \"schizophrenia\", \"scratch\", \"seek\", \"seek\", \"seen\", \"seen\", \"seen\", \"seen\", \"seen\", \"sexually\", \"sexually\", \"shaking\", \"skin\", \"skin\", \"skin\", \"skin\", \"skin\", \"sleep\", \"sleep\", \"sleepiness\", \"sleepiness\", \"sleepiness\", \"sleepiness\", \"smoking\", \"smoking\", \"smoking\", \"smoking\", \"smoking\", \"snacking\", \"sneezing\", \"so\", \"so\", \"so\", \"so\", \"so\", \"some\", \"some\", \"some\", \"some\", \"some\", \"soon\", \"soon\", \"soon\", \"soon\", \"source\", \"sp\", \"spaced\", \"spaced\", \"spaced\", \"spaced\", \"spaced\", \"spectrum\", \"spectrum\", \"statin\", \"sting\", \"stomach\", \"stomach\", \"stomach\", \"stomach\", \"stomach\", \"stone\", \"stop\", \"stop\", \"stop\", \"stop\", \"stop\", \"stopped\", \"stopped\", \"stopped\", \"stopped\", \"straight\", \"straight\", \"straight\", \"straight\", \"straight\", \"stroke\", \"stroke\", \"stroke\", \"stroke\", \"stroke\", \"stuffiness\", \"stuffy\", \"substance\", \"substance\", \"suddenly\", \"suddenly\", \"suddenly\", \"suddenly\", \"sugar\", \"sugar\", \"sugar\", \"sugar\", \"sugar\", \"sugary\", \"suicidal\", \"support\", \"support\", \"support\", \"symptom\", \"symptom\", \"symptom\", \"symptom\", \"symptom\", \"syrup\", \"syrup\", \"syrup\", \"tablet\", \"tablet\", \"tablet\", \"tablet\", \"tablet\", \"take\", \"take\", \"take\", \"take\", \"take\", \"taken\", \"taken\", \"taken\", \"taken\", \"taken\", \"talking\", \"talking\", \"talking\", \"tell\", \"tell\", \"tell\", \"tell\", \"tell\", \"tend\", \"testosterone\", \"than\", \"than\", \"than\", \"than\", \"than\", \"that\", \"that\", \"that\", \"that\", \"that\", \"thereafter\", \"these\", \"these\", \"these\", \"these\", \"these\", \"thin\", \"thin\", \"thins\", \"thoroughly\", \"those\", \"thought\", \"thought\", \"throat\", \"throat\", \"throat\", \"throat\", \"throat\", \"time\", \"time\", \"time\", \"time\", \"time\", \"toothache\", \"touch\", \"touch\", \"tract\", \"tract\", \"tract\", \"tract\", \"tract\", \"transmitted\", \"transmitted\", \"treat\", \"treat\", \"treat\", \"treat\", \"treat\", \"treatment\", \"treatment\", \"treatment\", \"treatment\", \"treatment\", \"try\", \"try\", \"try\", \"try\", \"try\", \"type\", \"type\", \"type\", \"type\", \"type\", \"typhoid\", \"typhoid\", \"unexplained\", \"unexplained\", \"unnecessary\", \"use\", \"use\", \"use\", \"use\", \"use\", \"using\", \"using\", \"using\", \"using\", \"using\", \"wait\", \"watery\", \"watery\", \"weight\", \"weight\", \"weight\", \"weight\", \"weight\", \"well\", \"well\", \"well\", \"well\", \"well\", \"what\", \"what\", \"what\", \"what\", \"what\", \"while\", \"while\", \"while\", \"while\", \"while\", \"whitehead\", \"whitehead\", \"widely\", \"will\", \"will\", \"will\", \"will\", \"will\", \"windpipe\", \"windpipe\", \"withdrawal\", \"without\", \"without\", \"without\", \"without\", \"without\", \"workload\", \"worsen\", \"worsen\", \"worsen\", \"worsen\", \"worsen\", \"yellowing\", \"yellowing\", \"yellowing\"]}, \"R\": 30, \"lambda.step\": 0.01, \"plot.opts\": {\"xlab\": \"PC1\", \"ylab\": \"PC2\"}, \"topic.order\": [1, 2, 3, 4, 5]};\n",
       "\n",
       "function LDAvis_load_lib(url, callback){\n",
       "  var s = document.createElement('script');\n",
       "  s.src = url;\n",
       "  s.async = true;\n",
       "  s.onreadystatechange = s.onload = callback;\n",
       "  s.onerror = function(){console.warn(\"failed to load library \" + url);};\n",
       "  document.getElementsByTagName(\"head\")[0].appendChild(s);\n",
       "}\n",
       "\n",
       "if(typeof(LDAvis) !== \"undefined\"){\n",
       "   // already loaded: just create the visualization\n",
       "   !function(LDAvis){\n",
       "       new LDAvis(\"#\" + \"ldavis_el1872451415165126758800388\", ldavis_el1872451415165126758800388_data);\n",
       "   }(LDAvis);\n",
       "}else if(typeof define === \"function\" && define.amd){\n",
       "   // require.js is available: use it to load d3/LDAvis\n",
       "   require.config({paths: {d3: \"https://d3js.org/d3.v5\"}});\n",
       "   require([\"d3\"], function(d3){\n",
       "      window.d3 = d3;\n",
       "      LDAvis_load_lib(\"https://cdn.jsdelivr.net/gh/bmabey/pyLDAvis@3.4.0/pyLDAvis/js/ldavis.v3.0.0.js\", function(){\n",
       "        new LDAvis(\"#\" + \"ldavis_el1872451415165126758800388\", ldavis_el1872451415165126758800388_data);\n",
       "      });\n",
       "    });\n",
       "}else{\n",
       "    // require.js not available: dynamically load d3 & LDAvis\n",
       "    LDAvis_load_lib(\"https://d3js.org/d3.v5.js\", function(){\n",
       "         LDAvis_load_lib(\"https://cdn.jsdelivr.net/gh/bmabey/pyLDAvis@3.4.0/pyLDAvis/js/ldavis.v3.0.0.js\", function(){\n",
       "                 new LDAvis(\"#\" + \"ldavis_el1872451415165126758800388\", ldavis_el1872451415165126758800388_data);\n",
       "            })\n",
       "         });\n",
       "}\n",
       "</script>"
      ],
      "text/plain": [
       "PreparedData(topic_coordinates=              x         y  topics  cluster       Freq\n",
       "topic                                                \n",
       "0      0.114062 -0.038108       1        1  23.381773\n",
       "1     -0.050842  0.059629       2        1  18.410563\n",
       "2      0.020195 -0.108632       3        1  13.656050\n",
       "3     -0.171043 -0.007494       4        1  16.696104\n",
       "4      0.087629  0.094606       5        1  27.855510, topic_info=          Term         Freq        Total Category  logprob  loglift\n",
       "419      blood  1595.000000  1595.000000  Default  30.0000  30.0000\n",
       "420   pressure   731.000000   731.000000  Default  29.0000  29.0000\n",
       "679      level   799.000000   799.000000  Default  28.0000  28.0000\n",
       "171  infection   652.000000   652.000000  Default  27.0000  27.0000\n",
       "418       high   521.000000   521.000000  Default  26.0000  26.0000\n",
       "..         ...          ...          ...      ...      ...      ...\n",
       "156       know   256.986518  1085.130945   Topic5  -4.9666  -0.1623\n",
       "124       time   248.712101  1036.834086   Topic5  -4.9994  -0.1495\n",
       "132       will   231.682327   820.727165   Topic5  -5.0703   0.0133\n",
       "122         at   242.053348  1051.981370   Topic5  -5.0265  -0.1911\n",
       "48         get   213.347926   701.085046   Topic5  -5.1527   0.0884\n",
       "\n",
       "[441 rows x 6 columns], token_table=      Topic      Freq       Term\n",
       "term                            \n",
       "98        1  0.705572      about\n",
       "98        2  0.076972      about\n",
       "98        3  0.074833      about\n",
       "98        4  0.014967      about\n",
       "98        5  0.128286      about\n",
       "...     ...       ...        ...\n",
       "207       4  0.003550     worsen\n",
       "207       5  0.081644     worsen\n",
       "876       1  0.014942  yellowing\n",
       "876       3  0.059767  yellowing\n",
       "876       4  0.926385  yellowing\n",
       "\n",
       "[1003 rows x 3 columns], R=30, lambda_step=0.01, plot_opts={'xlab': 'PC1', 'ylab': 'PC2'}, topic_order=[1, 2, 3, 4, 5])"
      ]
     },
     "execution_count": 28,
     "metadata": {},
     "output_type": "execute_result"
    }
   ],
   "source": [
    "vis5 = pyLDAvis.gensim_models.prepare(Lda5, Corpus, D, sort_topics = False)\n",
    "vis5"
   ]
  },
  {
   "cell_type": "code",
   "execution_count": 29,
   "metadata": {},
   "outputs": [],
   "source": [
    "Lda4, Coherence_score = train_model_get_coherence_score(Corpus, Id2word, 4, Word2id)"
   ]
  },
  {
   "cell_type": "code",
   "execution_count": 31,
   "metadata": {},
   "outputs": [
    {
     "name": "stdout",
     "output_type": "stream",
     "text": [
      "This model has coherence score = -0.47604294061306635\n"
     ]
    }
   ],
   "source": [
    "print('This model has coherence score = {}'.format(Coherence_score))"
   ]
  },
  {
   "cell_type": "code",
   "execution_count": 30,
   "metadata": {},
   "outputs": [
    {
     "data": {
      "text/html": [
       "\n",
       "<link rel=\"stylesheet\" type=\"text/css\" href=\"https://cdn.jsdelivr.net/gh/bmabey/pyLDAvis@3.4.0/pyLDAvis/js/ldavis.v1.0.0.css\">\n",
       "\n",
       "\n",
       "<div id=\"ldavis_el1872451415166245547589409\" style=\"background-color:white;\"></div>\n",
       "<script type=\"text/javascript\">\n",
       "\n",
       "var ldavis_el1872451415166245547589409_data = {\"mdsDat\": {\"x\": [-0.1615015810399507, 0.08687768493946606, 0.045614097190737064, 0.02900979890974765], \"y\": [0.011925057179671595, 0.07861325649042612, -0.13715267150687394, 0.0466143578367762], \"topics\": [1, 2, 3, 4], \"cluster\": [1, 1, 1, 1], \"Freq\": [27.28426085138853, 22.078247522300817, 24.11783203925186, 26.519659587058797]}, \"tinfo\": {\"Term\": [\"pressure\", \"blood\", \"level\", \"eye\", \"infection\", \"high\", \"all\", \"heart\", \"sugar\", \"advice\", \"about\", \"pain\", \"know\", \"skin\", \"persist\", \"often\", \"let\", \"nose\", \"day\", \"how\", \"type\", \"condition\", \"diabetes\", \"regular\", \"duration\", \"weight\", \"what\", \"concerned\", \"reducing\", \"take\", \"wash\", \"gram\", \"microorganism\", \"clean\", \"killing\", \"faster\", \"immediate\", \"negative\", \"gonorrhea\", \"direct\", \"seek\", \"positive\", \"applying\", \"application\", \"external\", \"pimple\", \"transmitted\", \"gel\", \"acne\", \"completion\", \"thoroughly\", \"ointment\", \"broken\", \"impair\", \"statin\", \"sexually\", \"meant\", \"oil\", \"thin\", \"narrowing\", \"broad\", \"hand\", \"typhoid\", \"previous\", \"bacterial\", \"spectrum\", \"orally\", \"persist\", \"redness\", \"area\", \"cream\", \"growth\", \"eye\", \"burning\", \"site\", \"reaction\", \"skin\", \"infection\", \"hour\", \"stopping\", \"seen\", \"type\", \"after\", \"use\", \"longer\", \"consult\", \"lead\", \"must\", \"bacteria\", \"using\", \"any\", \"an\", \"usually\", \"treatment\", \"only\", \"but\", \"antibiotic\", \"these\", \"some\", \"duration\", \"on\", \"do\", \"pregnant\", \"take\", \"include\", \"treat\", \"inform\", \"condition\", \"taken\", \"at\", \"disease\", \"advised\", \"get\", \"that\", \"time\", \"active\", \"those\", \"especially\", \"ankle\", \"hypertension\", \"depends\", \"blocker\", \"single\", \"workload\", \"angina\", \"properly\", \"beating\", \"pressure\", \"eating\", \"much\", \"men\", \"testosterone\", \"appear\", \"seeking\", \"tr\", \"erection\", \"salt\", \"dosing\", \"channel\", \"anemia\", \"arbitel\", \"specific\", \"amtas\", \"flushing\", \"male\", \"asked\", \"electrolyte\", \"supplement\", \"often\", \"no\", \"advice\", \"hence\", \"related\", \"keeping\", \"high\", \"future\", \"blood\", \"heart\", \"reducing\", \"follow\", \"well\", \"chest\", \"what\", \"because\", \"preventing\", \"le\", \"control\", \"need\", \"regular\", \"take\", \"day\", \"treat\", \"on\", \"tablet\", \"other\", \"at\", \"kidney\", \"help\", \"condition\", \"do\", \"know\", \"get\", \"dizziness\", \"time\", \"symptom\", \"while\", \"most\", \"any\", \"will\", \"stop\", \"let\", \"dose\", \"food\", \"recommend\", \"beneficial\", \"osteoarthritis\", \"concerned\", \"spondylitis\", \"ankylosing\", \"mucus\", \"prescribing\", \"alternative\", \"thins\", \"expectorant\", \"stuffiness\", \"sp\", \"everybody\", \"alleviates\", \"toothache\", \"component\", \"alright\", \"support\", \"observed\", \"object\", \"cutting\", \"shaving\", \"sharp\", \"l\", \"asthakind\", \"prevention\", \"windpipe\", \"postoperative\", \"aceclo\", \"heartburn\", \"milk\", \"recommends\", \"relieving\", \"stone\", \"sneezing\", \"runny\", \"cough\", \"watery\", \"straight\", \"all\", \"respond\", \"prescribe\", \"syrup\", \"about\", \"appetite\", \"pain\", \"back\", \"given\", \"worsen\", \"medication\", \"stomach\", \"resolve\", \"never\", \"let\", \"tell\", \"affect\", \"know\", \"sleepiness\", \"dose\", \"depend\", \"these\", \"so\", \"condition\", \"nose\", \"how\", \"symptom\", \"duration\", \"kidney\", \"treatment\", \"can\", \"any\", \"that\", \"stop\", \"while\", \"most\", \"do\", \"common\", \"food\", \"taken\", \"other\", \"tablet\", \"pregnant\", \"time\", \"nerve\", \"mellitus\", \"put\", \"blindness\", \"acting\", \"hypoglycemia\", \"azulix\", \"survive\", \"recognize\", \"deal\", \"big\", \"play\", \"mood\", \"amaryl\", \"insulin\", \"juice\", \"shaking\", \"source\", \"sugary\", \"limb\", \"fruit\", \"ketoacidosis\", \"forming\", \"depression\", \"suicidal\", \"habit\", \"category\", \"mv\", \"correct\", \"behavior\", \"immune\", \"glucose\", \"diabetes\", \"advise\", \"consistent\", \"sugar\", \"part\", \"suddenly\", \"level\", \"diabetic\", \"anxiety\", \"talking\", \"fast\", \"sign\", \"stopped\", \"program\", \"weight\", \"reduction\", \"remember\", \"low\", \"risk\", \"increase\", \"blood\", \"gain\", \"important\", \"take\", \"they\", \"tablet\", \"will\", \"that\", \"same\", \"liver\", \"can\", \"day\", \"include\", \"time\", \"each\", \"feel\", \"common\", \"at\", \"help\", \"do\", \"food\", \"taken\", \"without\", \"know\", \"treatment\", \"some\", \"regularly\", \"dose\", \"most\", \"any\", \"infection\", \"stop\"], \"Freq\": [739.0, 1626.0, 821.0, 496.0, 645.0, 529.0, 506.0, 994.0, 387.0, 243.0, 465.0, 849.0, 1085.0, 487.0, 212.0, 224.0, 751.0, 301.0, 649.0, 590.0, 417.0, 869.0, 171.0, 349.0, 499.0, 311.0, 337.0, 120.0, 226.0, 1449.0, 121.85059007833847, 99.7358127728184, 101.60218722366086, 63.37773186377207, 66.10210923488106, 52.86102747780091, 48.101895453581236, 49.981595622155034, 49.97450371555938, 46.203073216570985, 46.17814217837853, 50.85837569013392, 81.86074211911493, 94.01088589569854, 62.04369207438493, 39.44692170772797, 52.57965208758535, 88.23140265526567, 109.77117187559794, 56.260810102914526, 39.381576055910905, 32.801502370374116, 29.930119366015784, 29.890074911217045, 35.49452560639174, 54.14557955597932, 27.060477790679162, 27.047173104699286, 31.69533950498848, 36.335980744601734, 61.27305504972447, 98.95882415921403, 60.2809452693851, 54.770193130184076, 105.64228572862667, 61.16390867229614, 57.520750825522825, 197.96120928207256, 125.01129216544255, 140.1242965494029, 98.34187034889462, 98.48238768681549, 405.1874266740842, 74.3420423972268, 88.30765537339504, 141.6772137763376, 352.91618839640415, 428.10318561528555, 124.03741270727731, 143.9584689693764, 144.34047287767498, 266.36526474708853, 219.788028259167, 332.37328213224345, 141.14617046442254, 400.2897879473842, 184.16602920711603, 174.0110751527779, 152.26742413369615, 305.0539118936701, 571.3982963178993, 254.31996004523225, 244.78710837397335, 415.597201429232, 174.0132961057331, 257.0760953610608, 164.8210410304788, 323.71752179888523, 294.31570530756795, 213.75629019160382, 274.5415011469325, 308.4295921315992, 251.82596447972483, 286.50555598651016, 214.40617131202455, 210.5453979327919, 172.09799338827102, 222.52442737941618, 225.86729808505217, 233.4318975013483, 199.39527187510038, 195.51824515833178, 194.39070772392725, 201.8923296636218, 200.85559891936384, 75.99007901063955, 68.27755940183272, 73.03982977228009, 78.79055637685586, 89.31276390335437, 88.86941165949875, 34.238880627871, 37.08181979366427, 32.293466475709224, 55.07537071487536, 41.6214712030269, 29.279383282298333, 713.1993185445356, 83.89228288131616, 62.911545210802984, 18.69874355432985, 17.73556357861096, 47.4147957572384, 16.689493745240913, 14.825185884960488, 14.824037118839668, 35.20680202938634, 17.56305294477851, 32.30046799248115, 12.886118878350707, 13.806322237082924, 11.904050634791936, 11.902265367146395, 41.061618757638534, 13.66657186020265, 36.364843372959506, 45.85060517336684, 46.62188504500957, 182.3907849118344, 81.3175423125303, 195.62342696318575, 44.25088282790938, 78.56605173745723, 81.51438125998813, 355.18255500063026, 54.14917930637114, 872.0100841689788, 533.1344395465873, 154.61312316269533, 87.405192660026, 135.78585735664387, 69.5032571133571, 194.40557830254912, 84.95226554881614, 105.05656444604888, 70.9011438042001, 126.0476835585428, 193.23472864219775, 179.12277505132602, 479.67163353146225, 260.81455303038047, 246.33902432258583, 312.1213956349684, 352.2605568994643, 289.9195417024082, 313.6640847208097, 244.67104995267005, 261.6293294420468, 264.11589242527424, 328.26871091432423, 287.9506484726126, 227.05743938544532, 164.85283293226476, 259.3862299939008, 222.90133630662632, 216.20407407101553, 231.94153682847457, 293.7803761487861, 220.98521483960758, 204.8412624667032, 205.11691187567646, 221.41461850994284, 196.1252624647834, 76.19641693138598, 73.31603970103495, 47.4645135110745, 117.69089769054573, 44.56597664362152, 44.54416202632482, 72.96155495860562, 34.98303872836484, 34.97222251535715, 38.738874811001544, 29.12832933933988, 33.77259331894112, 26.263525745352784, 25.288209339048226, 22.445079071160063, 25.249867369802686, 22.41529823304213, 30.80146066225865, 79.28421707643172, 24.21624975347388, 23.272528661721683, 24.174594877459743, 23.231942765164305, 23.180932924582503, 19.45636867401907, 17.568145670737565, 19.329768042634146, 39.53351881635628, 14.713203644625901, 14.704792170622243, 79.69594706309147, 30.162612511573943, 116.39193334572359, 50.64343904229843, 25.545186423168815, 82.08933815302696, 85.71227499141006, 110.18164978477077, 81.67284888391623, 119.0315131931926, 369.276027122111, 119.6119002517082, 80.26999089046542, 120.54824445566142, 315.5030066403126, 78.23745751961626, 478.218798503003, 149.47527473827282, 130.2679410957843, 180.02122700122973, 305.5380210444946, 336.8330992379901, 158.09653642509318, 84.50969355259866, 363.1590106244393, 333.25349417904727, 263.9785686435004, 466.4465943784946, 176.90447703340027, 464.5597768508119, 148.4321738798415, 381.1712586979767, 235.46832508515294, 337.31818910180414, 168.83181188559888, 249.92524044024736, 287.6222376771351, 223.9373570898775, 272.3163853148509, 357.4065254169958, 320.3554817907645, 383.5211544081377, 309.59322714786487, 258.8250093869948, 254.95288693040985, 279.2367091992138, 340.75314171975316, 270.45351292699957, 256.5469490963279, 281.06796210428155, 269.35676603169134, 275.5036470267428, 246.28485042075116, 253.70057098998592, 83.59203004836664, 56.67766612974984, 51.69095089354839, 38.527014697190545, 41.48559358399115, 37.5308417710706, 31.527251623099843, 32.42061374994428, 27.443575930555717, 27.443056694419155, 26.43854123808937, 26.432150953983527, 47.973579941452826, 24.442213212644678, 24.437311132898735, 23.447555065962487, 24.424174867491136, 23.42576350212106, 23.42109446536554, 23.419072715211772, 23.418412426738904, 23.41610652767576, 25.366451491483577, 62.451097705362, 34.88632715436511, 26.1571152520742, 18.39406688029421, 18.37523741551528, 17.376047195940366, 33.77857365327737, 20.253672262883143, 67.55068751839913, 157.5508969211909, 27.86152422422435, 62.90468522267149, 332.358717229717, 116.96206911824645, 84.1875898085267, 583.5870743151806, 81.8119986258238, 55.543846565759466, 53.06447765979447, 36.791858359961694, 51.11205983991393, 58.37228525206541, 74.83579538037029, 198.99246582235943, 70.57437943441897, 149.46811561078556, 136.0621417822678, 183.91365216994694, 195.9303790515488, 628.5744127580222, 58.360862057061105, 175.1898636277753, 515.1456351602772, 159.06767153402464, 428.0219980424977, 321.48589617627, 376.5705213082146, 194.1817389286635, 282.3878893562783, 350.503624356986, 255.2057058915083, 243.70252399133122, 327.82090412017544, 146.71330215555963, 224.25578148092296, 274.25378952629745, 312.15004679482684, 271.5368026280435, 353.05421038312994, 241.39513672382583, 263.55410714931514, 201.6757309910516, 265.28850303047, 276.6118575115098, 233.86076689699158, 210.7903612474794, 248.3638907705328, 224.56087972859703, 244.92286792034528, 198.6082964968818, 197.05825806352013], \"Total\": [739.0, 1626.0, 821.0, 496.0, 645.0, 529.0, 506.0, 994.0, 387.0, 243.0, 465.0, 849.0, 1085.0, 487.0, 212.0, 224.0, 751.0, 301.0, 649.0, 590.0, 417.0, 869.0, 171.0, 349.0, 499.0, 311.0, 337.0, 120.0, 226.0, 1449.0, 123.31481107723266, 101.161652578105, 103.08879522850297, 64.55440157396606, 67.44681164089882, 53.95922399633497, 49.14365652988496, 51.067520613682056, 51.06802741214714, 47.21615414566917, 47.21635683080684, 52.03595953915398, 83.82684911152175, 96.35728876340008, 63.596023675986004, 40.47175939307991, 53.96704322830951, 90.57776777148064, 112.7403514494843, 57.81425107596148, 40.47269280562936, 33.728514324433554, 30.837449928997646, 30.839953132151294, 36.62416215508037, 55.89681739600122, 27.94741577969279, 27.948260977517798, 32.76459159047973, 37.59222516357686, 63.597735952331924, 103.2234546295756, 62.63251505551519, 56.85513187091082, 110.8383795648583, 63.59701500114218, 59.742600577663566, 212.10831735101647, 132.19225350918362, 150.61605285001403, 104.2625481634413, 106.19786290775939, 496.68401599910055, 79.14668771659954, 96.5734050150761, 169.13572635470973, 487.9486274365468, 645.2861984932562, 150.88936466878803, 181.452740232591, 187.47893948043216, 417.4687417079978, 333.83979560856335, 579.7226523660652, 190.304313052209, 770.7054108046893, 273.3567448821175, 255.12205564354707, 214.68980190272302, 571.8588583365681, 1493.6226947951682, 514.6657155611799, 483.0129614033096, 1219.6356523952368, 280.2821608057369, 597.6411116203469, 267.6208501761853, 1018.4808651306003, 843.9227212970183, 499.81250512026975, 964.5136955281132, 1330.5056551488065, 830.1443847579167, 1449.3552109669063, 626.3698617706068, 632.9527014208134, 336.5356356475405, 869.8930526281523, 927.5349474512188, 1056.925785296342, 623.8942916232222, 670.6339998926934, 703.2310940942413, 1039.9186841802436, 1041.763304023426, 77.22501953280886, 69.4058757956735, 74.29411353455225, 80.15735411844209, 90.90907220920214, 90.92380353591551, 35.19150466288267, 38.126936944836054, 33.23564409628451, 56.710333740547725, 43.01514197005275, 30.30584400312403, 739.5229754825339, 87.0567622110727, 65.51255888285982, 19.550021218938817, 18.571884573035472, 49.87342898892755, 17.59327387393676, 15.639501249623676, 15.639256615702177, 37.14347830583196, 18.579181336724403, 34.243897101999295, 13.684138083182729, 14.663982259252924, 12.706828819413438, 12.707070133414172, 43.965109206665595, 14.657684866900974, 39.09591719553772, 49.8549804567891, 52.84971475351402, 224.80239874713706, 95.60964380697966, 243.80021987574946, 51.00250341767151, 95.29157751108944, 100.49222661539706, 529.1381891779981, 64.7716213008057, 1626.5380113468548, 994.595229711457, 226.95806044681265, 115.15017326546663, 204.51867169327127, 88.17155367075713, 337.1437535192486, 118.80456275520952, 159.84079655823587, 94.39551068083182, 212.40639336226468, 388.1263558880186, 349.12145848927446, 1449.3552109669063, 649.8694386137619, 632.9527014208134, 964.5136955281132, 1229.1033807515857, 917.0143919191155, 1056.925785296342, 732.4387912317877, 835.411539657146, 869.8930526281523, 1330.5056551488065, 1085.5943924473868, 703.2310940942413, 391.4695771418009, 1041.763304023426, 749.503753741436, 703.6079820989415, 857.412628487247, 1493.6226947951682, 825.9675470377381, 724.600520798714, 751.1958365118021, 1117.510455716342, 739.0994577066685, 77.48272547971762, 74.57570793128265, 48.42729292515633, 120.11930555241307, 45.52244412943935, 45.52219397886479, 74.58347900894029, 35.83921310300932, 35.83922632982897, 39.71363563620333, 30.028968216505138, 34.87130237377423, 27.120459194771108, 26.156006043416117, 23.247397743281226, 26.156644409774696, 23.24718785402073, 31.9697157311934, 82.3538601581424, 25.186372159443316, 24.22129092402611, 25.192236134093275, 24.22334621457705, 24.225069942674676, 20.34145556819941, 18.407349337822257, 20.350001480651514, 41.642643495957316, 15.500786784683925, 15.50154469235797, 84.31173206632226, 31.999101072103933, 126.24249813551609, 54.22470956725254, 27.153983712057098, 94.86417176698716, 99.70150075896188, 131.03994671579278, 95.82532015822757, 145.2618377771273, 506.8144416070558, 147.71929354112086, 95.33755463873969, 153.30291635632278, 465.5040959783318, 98.39985245310122, 849.2762369587264, 215.22351461565228, 183.444940427329, 281.3548097539396, 545.8523160071294, 622.608937532686, 239.4221140611627, 109.72218278087531, 751.1958365118021, 685.6012960287247, 501.63613912764396, 1085.5943924473868, 293.5003996493471, 1117.510455716342, 239.2877400432243, 1018.4808651306003, 488.53071876878334, 869.8930526281523, 301.4803835578689, 590.4080578819143, 749.503753741436, 499.81250512026975, 732.4387912317877, 1219.6356523952368, 1048.8307983578197, 1493.6226947951682, 1039.9186841802436, 724.600520798714, 703.6079820989415, 857.412628487247, 1330.5056551488065, 826.6677101371956, 739.0994577066685, 927.5349474512188, 917.0143919191155, 1229.1033807515857, 830.1443847579167, 1041.763304023426, 84.90193114441952, 57.60941215642395, 52.5551712758443, 39.40523242904364, 42.43561398308484, 38.394411351322155, 32.328509533965445, 33.33440951699815, 28.28088583802697, 28.280832287968355, 27.26970068207002, 27.269366125602705, 49.496699301162785, 25.247839022146028, 25.247440906268448, 24.237169424152118, 25.246996142495703, 24.236194382712245, 24.235890387203078, 24.23578883079827, 24.23585065491163, 24.23567078795853, 26.255200630190384, 64.64456536296863, 36.3499003493167, 27.258794149074376, 19.17985498670148, 19.179044242234976, 18.167158653845252, 35.33488185675193, 21.194526435923233, 71.65588194408545, 171.44240330654748, 29.26604337670714, 67.59046554805704, 387.03697957528306, 134.69132898955093, 94.64877052019314, 821.9478428069472, 96.37327054119778, 64.4068206274694, 61.34801125211306, 40.29485376258292, 59.26610305788561, 69.37091217197381, 95.11259146407286, 311.43972063905215, 90.08535622430924, 225.37447029142194, 200.9350963294855, 303.5916424416159, 338.67881429626914, 1626.5380113468548, 72.32466808900904, 321.44644394779664, 1449.3552109669063, 296.18287119599813, 1229.1033807515857, 825.9675470377381, 1039.9186841802436, 399.6935679529576, 739.4766045536496, 1048.8307983578197, 649.8694386137619, 626.3698617706068, 1041.763304023426, 286.1933344079756, 582.2544244729208, 826.6677101371956, 1056.925785296342, 835.411539657146, 1330.5056551488065, 739.0994577066685, 927.5349474512188, 558.6632531962167, 1085.5943924473868, 1219.6356523952368, 843.9227212970183, 655.6789588290827, 1117.510455716342, 857.412628487247, 1493.6226947951682, 645.2861984932562, 724.600520798714], \"Category\": [\"Default\", \"Default\", \"Default\", \"Default\", \"Default\", \"Default\", \"Default\", \"Default\", \"Default\", \"Default\", \"Default\", \"Default\", \"Default\", \"Default\", \"Default\", \"Default\", \"Default\", \"Default\", \"Default\", \"Default\", \"Default\", \"Default\", \"Default\", \"Default\", \"Default\", \"Default\", \"Default\", \"Default\", \"Default\", \"Default\", \"Topic1\", \"Topic1\", \"Topic1\", \"Topic1\", \"Topic1\", \"Topic1\", \"Topic1\", \"Topic1\", \"Topic1\", \"Topic1\", \"Topic1\", \"Topic1\", \"Topic1\", \"Topic1\", \"Topic1\", \"Topic1\", \"Topic1\", \"Topic1\", \"Topic1\", \"Topic1\", \"Topic1\", \"Topic1\", \"Topic1\", \"Topic1\", \"Topic1\", \"Topic1\", \"Topic1\", \"Topic1\", \"Topic1\", \"Topic1\", \"Topic1\", \"Topic1\", \"Topic1\", \"Topic1\", \"Topic1\", \"Topic1\", \"Topic1\", \"Topic1\", \"Topic1\", \"Topic1\", \"Topic1\", \"Topic1\", \"Topic1\", \"Topic1\", \"Topic1\", \"Topic1\", \"Topic1\", \"Topic1\", \"Topic1\", \"Topic1\", \"Topic1\", \"Topic1\", \"Topic1\", \"Topic1\", \"Topic1\", \"Topic1\", \"Topic1\", \"Topic1\", \"Topic1\", \"Topic1\", \"Topic1\", \"Topic1\", \"Topic1\", \"Topic1\", \"Topic1\", \"Topic1\", \"Topic1\", \"Topic1\", \"Topic1\", \"Topic1\", \"Topic1\", \"Topic1\", \"Topic1\", \"Topic1\", \"Topic1\", \"Topic1\", \"Topic1\", \"Topic1\", \"Topic1\", \"Topic1\", \"Topic1\", \"Topic1\", \"Topic1\", \"Topic1\", \"Topic1\", \"Topic2\", \"Topic2\", \"Topic2\", \"Topic2\", \"Topic2\", \"Topic2\", \"Topic2\", \"Topic2\", \"Topic2\", \"Topic2\", \"Topic2\", \"Topic2\", \"Topic2\", \"Topic2\", \"Topic2\", \"Topic2\", \"Topic2\", \"Topic2\", \"Topic2\", \"Topic2\", \"Topic2\", \"Topic2\", \"Topic2\", \"Topic2\", \"Topic2\", \"Topic2\", \"Topic2\", \"Topic2\", \"Topic2\", \"Topic2\", \"Topic2\", \"Topic2\", \"Topic2\", \"Topic2\", \"Topic2\", \"Topic2\", \"Topic2\", \"Topic2\", \"Topic2\", \"Topic2\", \"Topic2\", \"Topic2\", \"Topic2\", \"Topic2\", \"Topic2\", \"Topic2\", \"Topic2\", \"Topic2\", \"Topic2\", \"Topic2\", \"Topic2\", \"Topic2\", \"Topic2\", \"Topic2\", \"Topic2\", \"Topic2\", \"Topic2\", \"Topic2\", \"Topic2\", \"Topic2\", \"Topic2\", \"Topic2\", \"Topic2\", \"Topic2\", \"Topic2\", \"Topic2\", \"Topic2\", \"Topic2\", \"Topic2\", \"Topic2\", \"Topic2\", \"Topic2\", \"Topic2\", \"Topic2\", \"Topic2\", \"Topic2\", \"Topic2\", \"Topic2\", \"Topic3\", \"Topic3\", \"Topic3\", \"Topic3\", \"Topic3\", \"Topic3\", \"Topic3\", \"Topic3\", \"Topic3\", \"Topic3\", \"Topic3\", \"Topic3\", \"Topic3\", \"Topic3\", \"Topic3\", \"Topic3\", \"Topic3\", \"Topic3\", \"Topic3\", \"Topic3\", \"Topic3\", \"Topic3\", \"Topic3\", \"Topic3\", \"Topic3\", \"Topic3\", \"Topic3\", \"Topic3\", \"Topic3\", \"Topic3\", \"Topic3\", \"Topic3\", \"Topic3\", \"Topic3\", \"Topic3\", \"Topic3\", \"Topic3\", \"Topic3\", \"Topic3\", \"Topic3\", \"Topic3\", \"Topic3\", \"Topic3\", \"Topic3\", \"Topic3\", \"Topic3\", \"Topic3\", \"Topic3\", \"Topic3\", \"Topic3\", \"Topic3\", \"Topic3\", \"Topic3\", \"Topic3\", \"Topic3\", \"Topic3\", \"Topic3\", \"Topic3\", \"Topic3\", \"Topic3\", \"Topic3\", \"Topic3\", \"Topic3\", \"Topic3\", \"Topic3\", \"Topic3\", \"Topic3\", \"Topic3\", \"Topic3\", \"Topic3\", \"Topic3\", \"Topic3\", \"Topic3\", \"Topic3\", \"Topic3\", \"Topic3\", \"Topic3\", \"Topic3\", \"Topic3\", \"Topic3\", \"Topic3\", \"Topic3\", \"Topic3\", \"Topic3\", \"Topic4\", \"Topic4\", \"Topic4\", \"Topic4\", \"Topic4\", \"Topic4\", \"Topic4\", \"Topic4\", \"Topic4\", \"Topic4\", \"Topic4\", \"Topic4\", \"Topic4\", \"Topic4\", \"Topic4\", \"Topic4\", \"Topic4\", \"Topic4\", \"Topic4\", \"Topic4\", \"Topic4\", \"Topic4\", \"Topic4\", \"Topic4\", \"Topic4\", \"Topic4\", \"Topic4\", \"Topic4\", \"Topic4\", \"Topic4\", \"Topic4\", \"Topic4\", \"Topic4\", \"Topic4\", \"Topic4\", \"Topic4\", \"Topic4\", \"Topic4\", \"Topic4\", \"Topic4\", \"Topic4\", \"Topic4\", \"Topic4\", \"Topic4\", \"Topic4\", \"Topic4\", \"Topic4\", \"Topic4\", \"Topic4\", \"Topic4\", \"Topic4\", \"Topic4\", \"Topic4\", \"Topic4\", \"Topic4\", \"Topic4\", \"Topic4\", \"Topic4\", \"Topic4\", \"Topic4\", \"Topic4\", \"Topic4\", \"Topic4\", \"Topic4\", \"Topic4\", \"Topic4\", \"Topic4\", \"Topic4\", \"Topic4\", \"Topic4\", \"Topic4\", \"Topic4\", \"Topic4\", \"Topic4\", \"Topic4\", \"Topic4\", \"Topic4\", \"Topic4\", \"Topic4\", \"Topic4\", \"Topic4\", \"Topic4\", \"Topic4\", \"Topic4\"], \"logprob\": [30.0, 29.0, 28.0, 27.0, 26.0, 25.0, 24.0, 23.0, 22.0, 21.0, 20.0, 19.0, 18.0, 17.0, 16.0, 15.0, 14.0, 13.0, 12.0, 11.0, 10.0, 9.0, 8.0, 7.0, 6.0, 5.0, 4.0, 3.0, 2.0, 1.0, -5.6921, -5.8924, -5.8739, -6.3458, -6.3037, -6.5273, -6.6216, -6.5833, -6.5834, -6.6619, -6.6624, -6.5659, -6.0899, -5.9515, -6.3671, -6.82, -6.5326, -6.015, -5.7965, -6.4649, -6.8216, -7.0045, -7.0961, -7.0974, -6.9256, -6.5033, -7.1969, -7.1974, -7.0388, -6.9021, -6.3796, -5.9002, -6.3959, -6.4918, -5.8349, -6.3814, -6.4428, -5.2069, -5.6665, -5.5524, -5.9065, -5.9051, -4.4906, -6.1863, -6.0141, -5.5414, -4.6287, -4.4356, -5.6744, -5.5254, -5.5228, -4.9101, -5.1023, -4.6887, -5.5451, -4.5028, -5.2791, -5.3358, -5.4693, -4.7745, -4.1469, -4.9563, -4.9946, -4.4652, -5.3358, -4.9456, -5.3901, -4.7151, -4.8103, -5.1301, -4.8798, -4.7634, -4.9662, -4.8372, -5.1271, -5.1452, -5.3469, -5.0899, -5.075, -5.0421, -5.1997, -5.2193, -5.2251, -5.1872, -5.1924, -5.9526, -6.0596, -5.9922, -5.9164, -5.7911, -5.7961, -6.7499, -6.6701, -6.8084, -6.2745, -6.5546, -6.9063, -3.7135, -5.8537, -6.1415, -7.3548, -7.4077, -6.4243, -7.4684, -7.5869, -7.587, -6.722, -7.4174, -6.8081, -7.7271, -7.6581, -7.8063, -7.8065, -6.5682, -7.6683, -6.6896, -6.4578, -6.4412, -5.0771, -5.8849, -5.007, -6.4933, -5.9193, -5.8824, -4.4106, -6.2915, -3.5124, -4.0045, -5.2423, -5.8127, -5.3721, -6.0419, -5.0133, -5.8411, -5.6287, -6.0219, -5.4466, -5.0193, -5.0952, -4.1101, -4.7194, -4.7765, -4.5398, -4.4189, -4.6136, -4.5349, -4.7833, -4.7163, -4.7068, -4.4894, -4.6204, -4.858, -5.1782, -4.7249, -4.8765, -4.907, -4.8367, -4.6004, -4.8851, -4.961, -4.9596, -4.8832, -5.0045, -6.0383, -6.0768, -6.5116, -5.6035, -6.5746, -6.5751, -6.0817, -6.8167, -6.817, -6.7147, -6.9999, -6.8519, -7.1034, -7.1412, -7.2605, -7.1428, -7.2618, -6.944, -5.9985, -7.1846, -7.2243, -7.1863, -7.2261, -7.2283, -7.4034, -7.5055, -7.4099, -6.6944, -7.6828, -7.6834, -5.9934, -6.965, -5.6146, -6.4468, -7.1311, -5.9638, -5.9206, -5.6695, -5.9689, -5.5922, -4.46, -5.5873, -5.9862, -5.5795, -4.6174, -6.0118, -4.2015, -5.3645, -5.502, -5.1785, -4.6495, -4.552, -5.3084, -5.9347, -4.4767, -4.5627, -4.7957, -4.2264, -5.196, -4.2305, -5.3715, -4.4283, -4.91, -4.5506, -5.2427, -4.8504, -4.7099, -4.9602, -4.7646, -4.4927, -4.6022, -4.4222, -4.6363, -4.8154, -4.8305, -4.7395, -4.5404, -4.7715, -4.8243, -4.733, -4.7755, -4.753, -4.8651, -4.8354, -6.0406, -6.4291, -6.5212, -6.8152, -6.7412, -6.8414, -7.0157, -6.9877, -7.1544, -7.1544, -7.1917, -7.1919, -6.5959, -7.2702, -7.2704, -7.3118, -7.2709, -7.3127, -7.3129, -7.313, -7.313, -7.3131, -7.2331, -6.3321, -6.9144, -7.2024, -7.5545, -7.5555, -7.6114, -6.9467, -7.4582, -6.2536, -5.4068, -7.1393, -6.3249, -4.6603, -5.7047, -6.0335, -4.0973, -6.0621, -6.4493, -6.495, -6.8612, -6.5325, -6.3997, -6.1512, -5.1733, -6.2099, -5.4594, -5.5534, -5.2521, -5.1888, -4.0231, -6.3999, -5.3006, -4.2221, -5.3972, -4.4073, -4.6936, -4.5354, -5.1977, -4.8232, -4.6071, -4.9244, -4.9706, -4.6741, -5.478, -5.0537, -4.8525, -4.723, -4.8624, -4.5999, -4.9801, -4.8923, -5.1599, -4.8857, -4.8439, -5.0118, -5.1157, -4.9516, -5.0524, -4.9656, -5.1752, -5.183], \"loglift\": [30.0, 29.0, 28.0, 27.0, 26.0, 25.0, 24.0, 23.0, 22.0, 21.0, 20.0, 19.0, 18.0, 17.0, 16.0, 15.0, 14.0, 13.0, 12.0, 11.0, 10.0, 9.0, 8.0, 7.0, 6.0, 5.0, 4.0, 3.0, 2.0, 1.0, 1.2869, 1.2847, 1.2843, 1.2805, 1.2787, 1.2783, 1.2774, 1.2774, 1.2772, 1.2772, 1.2766, 1.276, 1.2751, 1.2742, 1.2741, 1.2732, 1.2728, 1.2726, 1.2722, 1.2716, 1.2715, 1.271, 1.269, 1.2676, 1.2675, 1.267, 1.2666, 1.2661, 1.2657, 1.2649, 1.2616, 1.2567, 1.2606, 1.2615, 1.2508, 1.2599, 1.261, 1.2298, 1.243, 1.2267, 1.2404, 1.2234, 1.0953, 1.2362, 1.2094, 1.1217, 0.9749, 0.8885, 1.1029, 1.0674, 1.0374, 0.8495, 0.8809, 0.7426, 1.0, 0.6437, 0.9039, 0.9162, 0.9553, 0.6705, 0.338, 0.5939, 0.6192, 0.2223, 0.8222, 0.4552, 0.8141, 0.1527, 0.2455, 0.4495, 0.0423, -0.163, 0.106, -0.3223, 0.2268, 0.1982, 0.6282, -0.0645, -0.1137, -0.2114, 0.1582, 0.0663, 0.013, -0.3403, -0.3472, 1.4945, 1.4942, 1.4936, 1.4934, 1.4929, 1.4877, 1.4831, 1.4828, 1.4818, 1.4813, 1.4776, 1.4761, 1.4743, 1.4736, 1.4701, 1.4661, 1.4645, 1.46, 1.4578, 1.4571, 1.457, 1.457, 1.4543, 1.4522, 1.4505, 1.4503, 1.4453, 1.4451, 1.4423, 1.4406, 1.4382, 1.4268, 1.3852, 1.3015, 1.3487, 1.2904, 1.3686, 1.3176, 1.3013, 1.112, 1.3315, 0.8872, 0.887, 1.1267, 1.2349, 1.101, 1.2727, 0.96, 1.1752, 1.0909, 1.2244, 0.9887, 0.8132, 0.8432, 0.4048, 0.5976, 0.5669, 0.3823, 0.2609, 0.3591, 0.2958, 0.4141, 0.3496, 0.3186, 0.1111, 0.1835, 0.3801, 0.6457, 0.1202, 0.2979, 0.3306, 0.2031, -0.1155, 0.1921, 0.2472, 0.2125, -0.1082, 0.1839, 1.4055, 1.4052, 1.4021, 1.4018, 1.401, 1.4005, 1.4002, 1.398, 1.3977, 1.3974, 1.3918, 1.3902, 1.3901, 1.3885, 1.3871, 1.3869, 1.3858, 1.385, 1.3842, 1.3829, 1.3823, 1.381, 1.3804, 1.3782, 1.3777, 1.3756, 1.3708, 1.3702, 1.3701, 1.3695, 1.3659, 1.3631, 1.341, 1.3539, 1.3611, 1.2776, 1.271, 1.2488, 1.2624, 1.2231, 1.1056, 1.2112, 1.2502, 1.1819, 1.0333, 1.1929, 0.8479, 1.0577, 1.0799, 0.9757, 0.8419, 0.8079, 1.0072, 1.1611, 0.6954, 0.7008, 0.7802, 0.5775, 0.9159, 0.5445, 0.9447, 0.4394, 0.6924, 0.4749, 0.8424, 0.5626, 0.4645, 0.6194, 0.4328, 0.1948, 0.2362, 0.0627, 0.2106, 0.3928, 0.4071, 0.3004, 0.0601, 0.3049, 0.3641, 0.2283, 0.1971, -0.0732, 0.2071, 0.0097, 1.3117, 1.311, 1.3107, 1.3047, 1.3046, 1.3045, 1.3022, 1.2995, 1.2972, 1.2972, 1.2963, 1.2961, 1.296, 1.2949, 1.2947, 1.2942, 1.2942, 1.2933, 1.2931, 1.293, 1.293, 1.2929, 1.2928, 1.2928, 1.2862, 1.286, 1.2855, 1.2845, 1.2828, 1.2822, 1.2819, 1.2683, 1.2428, 1.2781, 1.2554, 1.175, 1.1861, 1.2102, 0.9848, 1.1635, 1.1792, 1.1822, 1.2363, 1.1793, 1.1547, 1.0875, 0.8793, 1.0832, 0.9166, 0.9374, 0.8261, 0.78, 0.3765, 1.1128, 0.7203, 0.2929, 0.7056, 0.2724, 0.3837, 0.3115, 0.6054, 0.3646, 0.2312, 0.3926, 0.3833, 0.1711, 0.6591, 0.3732, 0.2239, 0.1076, 0.2035, 0.0006, 0.2083, 0.069, 0.3084, -0.0818, -0.1564, 0.0439, 0.1925, -0.1767, -0.0125, -0.4807, 0.1489, 0.0252]}, \"token.table\": {\"Topic\": [1, 2, 3, 4, 3, 1, 2, 4, 2, 1, 2, 3, 4, 2, 4, 1, 2, 3, 4, 1, 2, 3, 4, 1, 2, 3, 4, 1, 2, 3, 4, 3, 2, 3, 3, 4, 2, 1, 2, 3, 4, 2, 2, 4, 2, 3, 3, 1, 2, 3, 4, 2, 4, 1, 2, 3, 4, 2, 3, 4, 1, 2, 3, 4, 1, 2, 1, 2, 3, 2, 1, 2, 3, 4, 2, 3, 4, 3, 1, 2, 3, 4, 4, 1, 2, 3, 4, 1, 2, 3, 4, 1, 3, 4, 2, 1, 2, 3, 4, 2, 4, 2, 3, 4, 4, 2, 1, 2, 3, 4, 1, 3, 1, 1, 2, 4, 1, 2, 3, 4, 1, 2, 3, 4, 4, 2, 4, 1, 2, 3, 4, 1, 1, 2, 3, 4, 1, 3, 3, 2, 3, 4, 1, 2, 3, 4, 2, 4, 1, 2, 3, 4, 1, 2, 3, 4, 4, 2, 3, 4, 1, 4, 3, 1, 2, 3, 4, 4, 1, 2, 3, 4, 2, 3, 4, 2, 4, 1, 2, 3, 4, 1, 4, 1, 1, 2, 3, 4, 1, 2, 3, 4, 1, 2, 3, 4, 1, 2, 3, 4, 2, 1, 2, 3, 4, 1, 2, 3, 4, 2, 3, 4, 2, 3, 4, 2, 2, 3, 3, 1, 2, 1, 2, 3, 4, 3, 4, 1, 1, 2, 3, 4, 1, 2, 3, 1, 2, 3, 4, 1, 2, 3, 4, 4, 4, 2, 3, 4, 2, 4, 1, 2, 1, 2, 3, 4, 1, 2, 3, 4, 2, 4, 1, 1, 3, 1, 2, 3, 4, 2, 4, 1, 4, 1, 2, 3, 4, 2, 3, 4, 1, 2, 3, 4, 1, 2, 4, 1, 2, 3, 4, 1, 2, 3, 4, 1, 2, 3, 4, 1, 2, 3, 4, 1, 4, 1, 1, 2, 3, 4, 1, 2, 3, 4, 1, 2, 3, 4, 1, 2, 3, 4, 1, 2, 3, 4, 4, 4, 1, 2, 4, 4, 1, 2, 3, 4, 1, 3, 1, 2, 3, 4, 3, 1, 2, 3, 4, 1, 2, 3, 4, 1, 2, 3, 4, 1, 2, 3, 4, 4, 1, 2, 3, 4, 1, 2, 3, 4, 1, 2, 3, 4, 2, 1, 1, 2, 3, 4, 4, 2, 1, 3, 3, 4, 2, 4, 1, 2, 3, 4, 2, 3, 4, 2, 3, 4, 1, 2, 3, 4, 4, 1, 4, 1, 2, 3, 4, 1, 4, 1, 2, 3, 4, 1, 2, 3, 4, 1, 2, 3, 4, 3, 3, 1, 2, 3, 4, 1, 1, 1, 2, 3, 4, 1, 2, 3, 4, 1, 3, 3, 1, 2, 3, 4, 1, 2, 3, 4, 1, 2, 3, 4, 1, 2, 3, 4, 1, 4, 1, 3, 1, 2, 3, 4, 2, 3, 4, 3, 1, 2, 3, 4, 1, 2, 3, 4, 3, 1, 3, 4, 1, 2, 3, 4, 2, 3, 4, 4, 1, 2, 3, 4, 4, 2, 3, 2, 3, 4, 1, 2, 3, 4, 1, 2, 3, 4, 1, 2, 3, 4, 1, 2, 3, 4, 1, 2, 3, 4, 1, 2, 3, 4, 1, 3, 1, 2, 3, 4, 1, 2, 3, 4, 1, 2, 3, 4, 1, 2, 3, 4, 1, 2, 3, 1, 2, 4, 1, 2, 3, 4, 1, 2, 1, 2, 3, 4, 1, 2, 3, 4, 4, 3, 4, 3, 1, 4, 2, 1, 2, 3, 4, 1, 2, 3, 4, 1, 2, 3, 4, 1, 2, 3, 1, 2, 3, 4, 1, 2, 3, 4, 4, 3, 2, 1, 3, 3, 1, 1, 2, 3, 4, 3, 4, 1, 2, 3, 4, 2, 3, 4, 1, 2, 3, 4, 2, 3, 4, 2, 3, 1, 2, 3, 4, 1, 2, 3, 4, 4, 2, 4, 1, 2, 3, 4, 2, 3, 4, 4, 1, 2, 3, 4, 1, 2, 3, 4, 1, 2, 3, 4, 1, 2, 3, 4, 1, 2, 3, 4, 1, 2, 4, 1, 2, 3, 4, 2, 1, 2, 3, 4, 1, 2, 3, 4, 1, 2, 3, 4, 1, 3, 1, 2, 1, 2, 3, 4, 3, 2, 1, 3, 4, 1, 2, 3, 4, 1, 2, 3, 4, 1, 2, 3, 4, 1, 3, 1, 2, 3, 4, 1, 2, 3, 4, 1, 2, 3, 4, 1, 2, 3, 1, 2, 3, 1, 2, 3, 4, 1, 2, 3, 4, 1, 2, 3, 4, 1, 2, 3, 4, 1, 2, 3, 4, 1, 2, 3, 1, 2, 3, 4, 2, 1, 2, 3, 4], \"Freq\": [0.03222313214768838, 0.1331889462104453, 0.6788339839113018, 0.15681924311875012, 0.9676455022830581, 0.9756932507815343, 0.01773987728693699, 0.9661695955746725, 0.9841370123281301, 0.176373918046155, 0.8039369287685204, 0.008203438048658371, 0.012305157072987558, 0.03416929262108251, 0.9567401933903102, 0.292260756286382, 0.20428430413895068, 0.2907696299787984, 0.21472218829203576, 0.08571950193775497, 0.13356294487975776, 0.5262778723620305, 0.25516502902401483, 0.6589987260175424, 0.08087711637488021, 0.07488621886562982, 0.18571782278676197, 0.015784869852233954, 0.12825206754940086, 0.7280771219342911, 0.12627895881787163, 0.946342478540776, 0.031279602496567804, 0.9696676773936018, 0.9765835812942625, 0.9505764029526848, 0.944356163459358, 0.49352422809637536, 0.13018158772620925, 0.1865288421151655, 0.18847185088719845, 0.9500050292518235, 0.9698408803522022, 0.01763347055185822, 0.9855614730404904, 0.012475461684056841, 0.9885288046725683, 0.6165438899524235, 0.003736629636075294, 0.01868314818037647, 0.3624530746993035, 0.12421044731073115, 0.869473131175118, 0.3822919951536392, 0.19683685915091056, 0.2570930405236383, 0.16403071595909213, 0.9423855738981677, 0.020050756891450375, 0.020050756891450375, 0.040650467457829347, 0.020325233728914673, 0.7926841154276723, 0.15243925296686003, 0.975535957957594, 0.0207560842118637, 0.9782068736820664, 0.01192935211807398, 0.01192935211807398, 0.954720194861532, 0.9295157943052347, 0.01991819559225503, 0.0066393985307516765, 0.046475789715261735, 0.9208122633354902, 0.051156236851971675, 0.025578118425985837, 0.9778702880927423, 0.22045067235697274, 0.2970880305583238, 0.18733576449219144, 0.2951957501089077, 0.9898383953141947, 0.14868263840568646, 0.004646332450177702, 0.6923035350764776, 0.15332897085586414, 0.7079982311822708, 0.00465788309988336, 0.01863153239953344, 0.27015721979323487, 0.9563474350324017, 0.036088582454052894, 0.009022145613513223, 0.9569111487873619, 0.09258903652265373, 0.7154607367659606, 0.008417185138423065, 0.17676088790688438, 0.02830064648451389, 0.9622219804734722, 0.013409192185227986, 0.978871029521643, 0.9534391412332276, 0.9897162786750887, 0.9661422643249642, 0.04611020429697567, 0.536107975292837, 0.03135493892194345, 0.38671091337063596, 0.9591536410308853, 0.03144766036166837, 0.9728430875145042, 0.9349727971557283, 0.012634767529131464, 0.03790430258739439, 0.430023964220286, 0.28947138447513415, 0.01673244996966093, 0.26269946452367665, 0.1849678711797466, 0.17543344483027515, 0.3051016431830872, 0.3346583648664488, 0.938484676369058, 0.9344730801136449, 0.029202283753551404, 0.07939068450737316, 0.7939068450737317, 0.022683052716392333, 0.11341526358196166, 0.9759210598182831, 0.166935273154793, 0.17419332850934924, 0.3266124909550298, 0.3314511945247339, 0.9686193102531457, 0.017296773397377604, 0.9463510226762751, 0.008325056454506876, 0.9823566616318113, 0.008325056454506876, 0.2563533520888164, 0.30348558274191717, 0.38740394463646244, 0.052880063659576475, 0.05917994450202428, 0.9320841259068825, 0.5190050496497257, 0.21668460822876046, 0.13104877503655574, 0.13234628766068005, 0.004707956216244743, 0.5932024832468376, 0.0659113870274264, 0.3342648913533767, 0.9357544745392417, 0.12210017174916707, 0.8394386807755236, 0.030525042937291767, 0.9399348253639057, 0.047955858436933965, 0.9526744617767459, 0.1784973921030044, 0.4016191322317599, 0.027697871188397234, 0.3923865085022942, 0.9547102335982783, 0.012537207294690853, 0.08776045106283596, 0.6185022265380821, 0.27999762958142904, 0.9788415853593763, 0.01099822006021771, 0.01099822006021771, 0.030938408956272315, 0.9590906776444418, 0.0058328627032365535, 0.0758272151420752, 0.0058328627032365535, 0.9215923071113755, 0.14526849531390823, 0.8508583296957482, 0.9742428376966674, 0.3189642903804266, 0.11219849410366764, 0.2869075777793787, 0.2820990708892215, 0.04853506149500267, 0.4214886919302864, 0.2528932151581718, 0.278437984366068, 0.23149093640308704, 0.24652281539030046, 0.25629353673198924, 0.26531266412431725, 0.16375685709597598, 0.19776101321426606, 0.416103489342234, 0.2219218609825248, 0.9688263262935289, 0.4281605558238389, 0.02200825286944966, 0.44816805843242946, 0.10203826330381206, 0.05241212214473567, 0.4262852601105168, 0.006988282952631423, 0.5136387970184095, 0.9648877108057218, 0.011486758461972878, 0.022973516923945756, 0.9226761213931207, 0.04011635310404873, 0.020058176552024364, 0.9591248720185109, 0.9825812103680274, 0.9558034188592375, 0.9657341468049649, 0.9749037190734196, 0.015724253533442253, 0.8154077581605392, 0.022146877382138105, 0.15905484665353728, 0.004026704978570564, 0.07445119462837575, 0.9182314004166343, 0.982223169176782, 0.3108606691376337, 0.2524669522830506, 0.04980640555243856, 0.3847115463360771, 0.02274530913364339, 0.932557674479379, 0.04549061826728678, 0.19105485798342056, 0.7555351202071632, 0.017368623453038235, 0.043421558632595586, 0.06088490463736676, 0.265187584642753, 0.34772045537340573, 0.3260724892801197, 0.9521923047601072, 0.9490073332886637, 0.8336984456390053, 0.030877720208852048, 0.1389497409398342, 0.17974503504117112, 0.8019393871067635, 0.9715408335300986, 0.022080473489320424, 0.27586948533592814, 0.32279573799616335, 0.13935675032433484, 0.26164940877222054, 0.1471831271939383, 0.0817684039966324, 0.7086595013041475, 0.05996349626419709, 0.0418667654155867, 0.9489800160866319, 0.9790861823675395, 0.9885168683142249, 0.009885168683142249, 0.9228057638515774, 0.00941638534542426, 0.01883277069084852, 0.0470819267271213, 0.03668540855223256, 0.9538206223580465, 0.9590843510834649, 0.029063162154044392, 0.1669020673346266, 0.5358963969238312, 0.11763579444669464, 0.1799727111620371, 0.03558223661732041, 0.9488596431285444, 0.011860745539106805, 0.16279401653443112, 0.3136178847942717, 0.19870446135820272, 0.32558803306886225, 0.019606880701732707, 0.862702750876239, 0.11764128421039624, 0.09638313968460134, 0.6709022468241858, 0.0056695964520353725, 0.2267838580814149, 0.8217941686757583, 0.09278321259242432, 0.033136861640151546, 0.05964635095227278, 0.00846871910579519, 0.2964051687028317, 0.4234359552897595, 0.2709990113854461, 0.011000002262687008, 0.9790002013791436, 0.011000002262687008, 0.9897273760049827, 0.9767282980014016, 0.943639861945743, 0.9727641242335214, 0.09021720583945748, 0.13377033969298868, 0.23020942179723633, 0.54441417316914, 0.34165117618378077, 0.21712411196726256, 0.052684527168526944, 0.38954620088244163, 0.1476324998476611, 0.12696394986898857, 0.1476324998476611, 0.5787193994028316, 0.6632715855373637, 0.0015496999662087936, 0.026344899425549493, 0.30839029327554995, 0.511090005874262, 0.14857267612623898, 0.13668686203613986, 0.20503029305420978, 0.950591392177148, 0.9489556968265738, 0.16916731345860458, 0.8159835119767985, 0.01990203687748289, 0.9490143764218619, 0.06826508999600076, 0.3344989409804037, 0.3713620895782441, 0.22664009878672253, 0.9785488504838161, 0.014826497734603273, 0.060796187286126464, 0.26529245361218823, 0.42925792841416566, 0.24410590349732594, 0.9340531180916787, 0.021187448275610896, 0.7521544137841868, 0.021187448275610896, 0.2012807586183035, 0.6731130782207267, 0.03658223251199602, 0.10243025103358885, 0.1865693858111797, 0.06123569615827775, 0.27289821114015084, 0.4832295153359744, 0.18237587768878374, 0.0510981327678533, 0.17154373143493606, 0.06691422148171265, 0.7105073699149126, 0.9490097541521794, 0.08384308525544684, 0.22042617575222317, 0.3150877236212761, 0.38135080712961306, 0.7409185726721673, 0.01050948330031443, 0.21544440765644582, 0.036783191551100505, 0.004976731383751095, 0.27372022610631025, 0.04479058245375986, 0.676835468190149, 0.9551303720285245, 0.9661000577956406, 0.1465597885252082, 0.10075985461108064, 0.5605911911089213, 0.19235972243933575, 0.9894216563993181, 0.9718659528407063, 0.9894382776897374, 0.009700375271468014, 0.9375263365180373, 0.031250877883934575, 0.02020336737840836, 0.9697616341636012, 0.14228855039754595, 0.27058150567402184, 0.3253975865648797, 0.2624174085200643, 0.9616476760226628, 0.015264248825756553, 0.015264248825756553, 0.013407795041045624, 0.9787690379963305, 0.013407795041045624, 0.6820264894820005, 0.14110892885834492, 0.16854677613635644, 0.007839384936574718, 0.9385243483802725, 0.9576448279757706, 0.026601245221549184, 0.19838900098352474, 0.49726074272493864, 0.10563570182239629, 0.19838900098352474, 0.9790958989029899, 0.9893767888166722, 0.00911392732677481, 0.2005064011890458, 0.7746838227758588, 0.02734178198032443, 0.1359695474469593, 0.8471948725541311, 0.010459195957458409, 0.010459195957458409, 0.4278885361549189, 0.009950896189649276, 0.5605671520169092, 0.003316965396549759, 0.9495777938567815, 0.9528962666027112, 0.017793404440044666, 0.8095999020220322, 0.031138457770078166, 0.14234723552035733, 0.966070841463782, 0.9784006399621994, 0.28511777621719053, 0.3234790770173216, 0.2135791341845136, 0.1783282091249337, 0.6208029776129744, 0.09276366332147895, 0.0321104988420504, 0.2568839907364032, 0.9708315245601297, 0.016738474561381545, 0.9705270966237532, 0.18865570870479786, 0.31624367355139527, 0.2933432696045701, 0.20174165381726938, 0.1848632908442368, 0.08595554287661966, 0.5628321848633452, 0.1660237198027859, 0.10394136062824126, 0.0222731487060517, 0.007424382902017234, 0.8686527995360163, 0.9334853176565032, 0.004714572311396481, 0.04714572311396481, 0.014143716934189443, 0.9636349045568907, 0.9534508385799654, 0.9800914685089168, 0.9676928151041505, 0.3035616509933838, 0.20839748262641028, 0.2963339926363984, 0.19153294646011118, 0.05244523020279238, 0.8391236832446781, 0.10489046040558477, 0.9765839417121897, 0.00811333819085883, 0.9641350216803909, 0.00270444606361961, 0.02434001457257649, 0.02502490031412383, 0.6569036332457505, 0.1626618520418049, 0.15640562696327395, 0.9336608657284337, 0.9673708984595641, 0.017588561790173894, 0.017588561790173894, 0.17873553583514182, 0.03154156514737797, 0.01051385504912599, 0.7885391286844492, 0.9764003575587523, 0.023247627560922673, 0.023247627560922673, 0.9894364101121392, 0.839562421615165, 0.02956205709912553, 0.07686134845772638, 0.053211702778425955, 0.9547084258476561, 0.012906102538452478, 0.9808637929223883, 0.007921262766255951, 0.9188664808856905, 0.06337010213004761, 0.9455924737020694, 0.01512947957923311, 0.007564739789616555, 0.03025895915846622, 0.004406100395955528, 0.6829455613731069, 0.22471112019373196, 0.08812200791911057, 0.1887099159342904, 0.022201166580504753, 0.011100583290252377, 0.7881414136079187, 0.08592998015595092, 0.5127155482638406, 0.014321663359325155, 0.3895492433736442, 0.28215027721855623, 0.13726229702524356, 0.25927322771434896, 0.3218038296925155, 0.010494106888760723, 0.829034444212097, 0.010494106888760723, 0.15741160333141083, 0.05532533090434041, 0.940530625373787, 0.12423767414203754, 0.15086003288675987, 0.06211883707101877, 0.6611219088272712, 0.1879525630974268, 0.012530170873161788, 0.6599223326531874, 0.14200860322916692, 0.006769596415119792, 0.12862233188727604, 0.8123515698143751, 0.060926367736078124, 0.12187423771757985, 0.21739728890162893, 0.05599627138375291, 0.6060772902712079, 0.12035927151198227, 0.020059878585330378, 0.8625747791692063, 0.026922626679337897, 0.9422919337768264, 0.026922626679337897, 0.10257858341324508, 0.3727855836237443, 0.037528750029236, 0.4853718337114523, 0.9742386555751118, 0.9662783698936414, 0.7680862735786372, 0.06400718946488644, 0.010667864910814407, 0.1600179736622161, 0.9660657353250864, 0.017890106209723824, 0.017890106209723824, 0.017890106209723824, 0.9506081382728632, 0.9494296633374584, 0.041279550579889496, 0.9494972245477437, 0.11811135942518529, 0.8605256186692071, 0.9704424998402951, 0.9112239543201598, 0.031064452988187267, 0.01035481766272909, 0.051774088313645446, 0.7234368131221035, 0.02254335678284175, 0.12501316034121335, 0.1291119524835482, 0.003407150386148459, 0.1976147223966106, 0.6030656183482772, 0.1976147223966106, 0.1159552631421172, 0.02108277511674858, 0.8643937797866917, 0.020469541864639423, 0.18422587678175484, 0.4810342338190265, 0.31113703634251927, 0.3483731301228076, 0.10545989313241454, 0.2689819746186303, 0.27727657295488767, 0.9489938740714992, 0.9586858324660249, 0.9443740976242988, 0.9591645142292364, 0.03144801685997496, 0.9885233726037683, 0.9556532611393794, 0.16703904125137967, 0.11403626854661496, 0.5412707394395668, 0.17828205364329944, 0.9575022315585798, 0.036827008906099225, 0.0883245293964928, 0.28291450822314096, 0.35743832990143176, 0.27187394204857934, 0.11532211051467245, 0.028830527628668112, 0.8360853012313753, 0.7935950695228793, 0.05511076871686661, 0.016533230615059985, 0.13777692179216652, 0.020652361596876168, 0.8192103433427547, 0.1583347722427173, 0.0286768755947605, 0.975013770221857, 0.03169613280248533, 0.0739576432057991, 0.010565377600828442, 0.8874917184695892, 0.036172254174169534, 0.03875598661518164, 0.06459331102530273, 0.8577991704160203, 0.9490057774871087, 0.02751039178622667, 0.9628637125179333, 0.037843156000515944, 0.8893141660121247, 0.018921578000257972, 0.05676473400077391, 0.02428544328291888, 0.9592750096752958, 0.01214272164145944, 0.959969006911081, 0.1787849618245239, 0.29753019766320027, 0.3842542463094245, 0.14009269396697768, 0.09132246360832252, 0.07827639737856217, 0.7892870069005019, 0.04566123180416126, 0.14075300964041937, 0.28638762655160477, 0.22455393445523555, 0.34822131864797395, 0.19801909002592546, 0.33118175335346417, 0.11591361367371246, 0.35533042286882094, 0.24365658741056315, 0.1692658593958337, 0.3029535445237533, 0.2846253941433127, 0.04890134070803589, 0.08150223451339314, 0.8639236858419673, 0.11085159908568175, 0.24212322958188381, 0.4857050328359476, 0.16044310393980252, 0.9692069713880415, 0.1942459569896413, 0.14616527456646278, 0.298100231023707, 0.36252834547076623, 0.31812085144913677, 0.17771566084041285, 0.37408655679667013, 0.12960479133112981, 0.2768559831595958, 0.11479394423690559, 0.07427843450623303, 0.5368305039314114, 0.9766640890862838, 0.9820304632207288, 0.9636126804632945, 0.979744138669004, 0.1929421004019932, 0.24861693534386187, 0.2438173806074939, 0.3148507907057401, 0.9557800919852525, 0.959109869335567, 0.982080855824945, 0.018529827468395186, 0.018529827468395186, 0.3333582422926076, 0.38865463319422494, 0.047396906487100605, 0.2306649449038896, 0.3410854702246688, 0.13938588927450407, 0.2927103674764585, 0.2271170078178684, 0.637173453781735, 0.023953889239914847, 0.03832622278386376, 0.2994236154989356, 0.957968875221092, 0.03193229584070307, 0.5726876440742547, 0.10004784143465895, 0.1707713155522627, 0.155246650502057, 0.5333483875500131, 0.11366441046147821, 0.24831301977738318, 0.10492099427213374, 0.5072327651171004, 0.039336418519285335, 0.3126210103374782, 0.14078297154270542, 0.9893377683852657, 0.00810932597037103, 0.00810932597037103, 0.12522786232475405, 0.020871310387459006, 0.8557237258858192, 0.022476259565210557, 0.30182405701854176, 0.0385307306832181, 0.6389679504967002, 0.048895291159516185, 0.6649759597694201, 0.06845340762332267, 0.22002881021782283, 0.07118625141198046, 0.5754221989135087, 0.05635578236781786, 0.2966093808832519, 0.13501836593241076, 0.30698912675158657, 0.3624177190817341, 0.1961319420912914, 0.06779927395554367, 0.2675649918602705, 0.2760399011047135, 0.38863512392374133, 0.0240138453289374, 0.0240138453289374, 0.960553813157496, 0.08054941817373275, 0.24164825452119826, 0.3168277114833488, 0.3615773882465337, 0.9628217195759824, 0.046205003608679095, 0.02487961732775028, 0.6397615884278645, 0.287892714792539], \"Term\": [\"about\", \"about\", \"about\", \"about\", \"aceclo\", \"acne\", \"acne\", \"acting\", \"active\", \"advice\", \"advice\", \"advice\", \"advice\", \"advise\", \"advise\", \"advised\", \"advised\", \"advised\", \"advised\", \"affect\", \"affect\", \"affect\", \"affect\", \"after\", \"after\", \"after\", \"after\", \"all\", \"all\", \"all\", \"all\", \"alleviates\", \"alright\", \"alright\", \"alternative\", \"amaryl\", \"amtas\", \"an\", \"an\", \"an\", \"an\", \"anemia\", \"angina\", \"angina\", \"ankle\", \"ankle\", \"ankylosing\", \"antibiotic\", \"antibiotic\", \"antibiotic\", \"antibiotic\", \"anxiety\", \"anxiety\", \"any\", \"any\", \"any\", \"any\", \"appear\", \"appear\", \"appear\", \"appetite\", \"appetite\", \"appetite\", \"appetite\", \"application\", \"application\", \"applying\", \"applying\", \"applying\", \"arbitel\", \"area\", \"area\", \"area\", \"area\", \"asked\", \"asked\", \"asked\", \"asthakind\", \"at\", \"at\", \"at\", \"at\", \"azulix\", \"back\", \"back\", \"back\", \"back\", \"bacteria\", \"bacteria\", \"bacteria\", \"bacteria\", \"bacterial\", \"bacterial\", \"bacterial\", \"beating\", \"because\", \"because\", \"because\", \"because\", \"behavior\", \"behavior\", \"beneficial\", \"beneficial\", \"big\", \"blindness\", \"blocker\", \"blood\", \"blood\", \"blood\", \"blood\", \"broad\", \"broad\", \"broken\", \"burning\", \"burning\", \"burning\", \"but\", \"but\", \"but\", \"but\", \"can\", \"can\", \"can\", \"can\", \"category\", \"channel\", \"channel\", \"chest\", \"chest\", \"chest\", \"chest\", \"clean\", \"common\", \"common\", \"common\", \"common\", \"completion\", \"completion\", \"component\", \"concerned\", \"concerned\", \"concerned\", \"condition\", \"condition\", \"condition\", \"condition\", \"consistent\", \"consistent\", \"consult\", \"consult\", \"consult\", \"consult\", \"control\", \"control\", \"control\", \"control\", \"correct\", \"cough\", \"cough\", \"cough\", \"cream\", \"cream\", \"cutting\", \"day\", \"day\", \"day\", \"day\", \"deal\", \"depend\", \"depend\", \"depend\", \"depend\", \"depends\", \"depends\", \"depends\", \"depression\", \"depression\", \"diabetes\", \"diabetes\", \"diabetes\", \"diabetes\", \"diabetic\", \"diabetic\", \"direct\", \"disease\", \"disease\", \"disease\", \"disease\", \"dizziness\", \"dizziness\", \"dizziness\", \"dizziness\", \"do\", \"do\", \"do\", \"do\", \"dose\", \"dose\", \"dose\", \"dose\", \"dosing\", \"duration\", \"duration\", \"duration\", \"duration\", \"each\", \"each\", \"each\", \"each\", \"eating\", \"eating\", \"eating\", \"electrolyte\", \"electrolyte\", \"electrolyte\", \"erection\", \"especially\", \"everybody\", \"expectorant\", \"external\", \"external\", \"eye\", \"eye\", \"eye\", \"eye\", \"fast\", \"fast\", \"faster\", \"feel\", \"feel\", \"feel\", \"feel\", \"flushing\", \"flushing\", \"flushing\", \"follow\", \"follow\", \"follow\", \"follow\", \"food\", \"food\", \"food\", \"food\", \"forming\", \"fruit\", \"future\", \"future\", \"future\", \"gain\", \"gain\", \"gel\", \"gel\", \"get\", \"get\", \"get\", \"get\", \"given\", \"given\", \"given\", \"given\", \"glucose\", \"glucose\", \"gonorrhea\", \"gram\", \"gram\", \"growth\", \"growth\", \"growth\", \"growth\", \"habit\", \"habit\", \"hand\", \"hand\", \"heart\", \"heart\", \"heart\", \"heart\", \"heartburn\", \"heartburn\", \"heartburn\", \"help\", \"help\", \"help\", \"help\", \"hence\", \"hence\", \"hence\", \"high\", \"high\", \"high\", \"high\", \"hour\", \"hour\", \"hour\", \"hour\", \"how\", \"how\", \"how\", \"how\", \"hypertension\", \"hypertension\", \"hypertension\", \"hypoglycemia\", \"immediate\", \"immune\", \"impair\", \"important\", \"important\", \"important\", \"important\", \"include\", \"include\", \"include\", \"include\", \"increase\", \"increase\", \"increase\", \"increase\", \"infection\", \"infection\", \"infection\", \"infection\", \"inform\", \"inform\", \"inform\", \"inform\", \"insulin\", \"juice\", \"keeping\", \"keeping\", \"keeping\", \"ketoacidosis\", \"kidney\", \"kidney\", \"kidney\", \"kidney\", \"killing\", \"killing\", \"know\", \"know\", \"know\", \"know\", \"l\", \"le\", \"le\", \"le\", \"le\", \"lead\", \"lead\", \"lead\", \"lead\", \"let\", \"let\", \"let\", \"let\", \"level\", \"level\", \"level\", \"level\", \"limb\", \"liver\", \"liver\", \"liver\", \"liver\", \"longer\", \"longer\", \"longer\", \"longer\", \"low\", \"low\", \"low\", \"low\", \"male\", \"meant\", \"medication\", \"medication\", \"medication\", \"medication\", \"mellitus\", \"men\", \"microorganism\", \"microorganism\", \"milk\", \"milk\", \"mood\", \"mood\", \"most\", \"most\", \"most\", \"most\", \"much\", \"much\", \"much\", \"mucus\", \"mucus\", \"mucus\", \"must\", \"must\", \"must\", \"must\", \"mv\", \"narrowing\", \"narrowing\", \"need\", \"need\", \"need\", \"need\", \"negative\", \"nerve\", \"never\", \"never\", \"never\", \"never\", \"no\", \"no\", \"no\", \"no\", \"nose\", \"nose\", \"nose\", \"nose\", \"object\", \"observed\", \"often\", \"often\", \"often\", \"often\", \"oil\", \"ointment\", \"on\", \"on\", \"on\", \"on\", \"only\", \"only\", \"only\", \"only\", \"orally\", \"orally\", \"osteoarthritis\", \"other\", \"other\", \"other\", \"other\", \"pain\", \"pain\", \"pain\", \"pain\", \"part\", \"part\", \"part\", \"part\", \"persist\", \"persist\", \"persist\", \"persist\", \"pimple\", \"play\", \"positive\", \"postoperative\", \"pregnant\", \"pregnant\", \"pregnant\", \"pregnant\", \"prescribe\", \"prescribe\", \"prescribe\", \"prescribing\", \"pressure\", \"pressure\", \"pressure\", \"pressure\", \"preventing\", \"preventing\", \"preventing\", \"preventing\", \"prevention\", \"previous\", \"previous\", \"previous\", \"program\", \"program\", \"program\", \"program\", \"properly\", \"properly\", \"properly\", \"put\", \"reaction\", \"reaction\", \"reaction\", \"reaction\", \"recognize\", \"recommend\", \"recommend\", \"recommends\", \"recommends\", \"recommends\", \"redness\", \"redness\", \"redness\", \"redness\", \"reducing\", \"reducing\", \"reducing\", \"reducing\", \"reduction\", \"reduction\", \"reduction\", \"reduction\", \"regular\", \"regular\", \"regular\", \"regular\", \"regularly\", \"regularly\", \"regularly\", \"regularly\", \"related\", \"related\", \"related\", \"related\", \"relieving\", \"relieving\", \"remember\", \"remember\", \"remember\", \"remember\", \"resolve\", \"resolve\", \"resolve\", \"resolve\", \"respond\", \"respond\", \"respond\", \"respond\", \"risk\", \"risk\", \"risk\", \"risk\", \"runny\", \"runny\", \"runny\", \"salt\", \"salt\", \"salt\", \"same\", \"same\", \"same\", \"same\", \"seek\", \"seeking\", \"seen\", \"seen\", \"seen\", \"seen\", \"sexually\", \"sexually\", \"sexually\", \"sexually\", \"shaking\", \"sharp\", \"sharp\", \"shaving\", \"sign\", \"sign\", \"single\", \"site\", \"site\", \"site\", \"site\", \"skin\", \"skin\", \"skin\", \"skin\", \"sleepiness\", \"sleepiness\", \"sleepiness\", \"sleepiness\", \"sneezing\", \"sneezing\", \"sneezing\", \"so\", \"so\", \"so\", \"so\", \"some\", \"some\", \"some\", \"some\", \"source\", \"sp\", \"specific\", \"spectrum\", \"spectrum\", \"spondylitis\", \"statin\", \"stomach\", \"stomach\", \"stomach\", \"stomach\", \"stone\", \"stone\", \"stop\", \"stop\", \"stop\", \"stop\", \"stopped\", \"stopped\", \"stopped\", \"stopping\", \"stopping\", \"stopping\", \"stopping\", \"straight\", \"straight\", \"straight\", \"stuffiness\", \"stuffiness\", \"suddenly\", \"suddenly\", \"suddenly\", \"suddenly\", \"sugar\", \"sugar\", \"sugar\", \"sugar\", \"sugary\", \"suicidal\", \"suicidal\", \"supplement\", \"supplement\", \"supplement\", \"supplement\", \"support\", \"support\", \"support\", \"survive\", \"symptom\", \"symptom\", \"symptom\", \"symptom\", \"syrup\", \"syrup\", \"syrup\", \"syrup\", \"tablet\", \"tablet\", \"tablet\", \"tablet\", \"take\", \"take\", \"take\", \"take\", \"taken\", \"taken\", \"taken\", \"taken\", \"talking\", \"talking\", \"talking\", \"tell\", \"tell\", \"tell\", \"tell\", \"testosterone\", \"that\", \"that\", \"that\", \"that\", \"these\", \"these\", \"these\", \"these\", \"they\", \"they\", \"they\", \"they\", \"thin\", \"thins\", \"thoroughly\", \"those\", \"time\", \"time\", \"time\", \"time\", \"toothache\", \"tr\", \"transmitted\", \"transmitted\", \"transmitted\", \"treat\", \"treat\", \"treat\", \"treat\", \"treatment\", \"treatment\", \"treatment\", \"treatment\", \"type\", \"type\", \"type\", \"type\", \"typhoid\", \"typhoid\", \"use\", \"use\", \"use\", \"use\", \"using\", \"using\", \"using\", \"using\", \"usually\", \"usually\", \"usually\", \"usually\", \"wash\", \"wash\", \"wash\", \"watery\", \"watery\", \"watery\", \"weight\", \"weight\", \"weight\", \"weight\", \"well\", \"well\", \"well\", \"well\", \"what\", \"what\", \"what\", \"what\", \"while\", \"while\", \"while\", \"while\", \"will\", \"will\", \"will\", \"will\", \"windpipe\", \"windpipe\", \"windpipe\", \"without\", \"without\", \"without\", \"without\", \"workload\", \"worsen\", \"worsen\", \"worsen\", \"worsen\"]}, \"R\": 30, \"lambda.step\": 0.01, \"plot.opts\": {\"xlab\": \"PC1\", \"ylab\": \"PC2\"}, \"topic.order\": [1, 2, 3, 4]};\n",
       "\n",
       "function LDAvis_load_lib(url, callback){\n",
       "  var s = document.createElement('script');\n",
       "  s.src = url;\n",
       "  s.async = true;\n",
       "  s.onreadystatechange = s.onload = callback;\n",
       "  s.onerror = function(){console.warn(\"failed to load library \" + url);};\n",
       "  document.getElementsByTagName(\"head\")[0].appendChild(s);\n",
       "}\n",
       "\n",
       "if(typeof(LDAvis) !== \"undefined\"){\n",
       "   // already loaded: just create the visualization\n",
       "   !function(LDAvis){\n",
       "       new LDAvis(\"#\" + \"ldavis_el1872451415166245547589409\", ldavis_el1872451415166245547589409_data);\n",
       "   }(LDAvis);\n",
       "}else if(typeof define === \"function\" && define.amd){\n",
       "   // require.js is available: use it to load d3/LDAvis\n",
       "   require.config({paths: {d3: \"https://d3js.org/d3.v5\"}});\n",
       "   require([\"d3\"], function(d3){\n",
       "      window.d3 = d3;\n",
       "      LDAvis_load_lib(\"https://cdn.jsdelivr.net/gh/bmabey/pyLDAvis@3.4.0/pyLDAvis/js/ldavis.v3.0.0.js\", function(){\n",
       "        new LDAvis(\"#\" + \"ldavis_el1872451415166245547589409\", ldavis_el1872451415166245547589409_data);\n",
       "      });\n",
       "    });\n",
       "}else{\n",
       "    // require.js not available: dynamically load d3 & LDAvis\n",
       "    LDAvis_load_lib(\"https://d3js.org/d3.v5.js\", function(){\n",
       "         LDAvis_load_lib(\"https://cdn.jsdelivr.net/gh/bmabey/pyLDAvis@3.4.0/pyLDAvis/js/ldavis.v3.0.0.js\", function(){\n",
       "                 new LDAvis(\"#\" + \"ldavis_el1872451415166245547589409\", ldavis_el1872451415166245547589409_data);\n",
       "            })\n",
       "         });\n",
       "}\n",
       "</script>"
      ],
      "text/plain": [
       "PreparedData(topic_coordinates=              x         y  topics  cluster       Freq\n",
       "topic                                                \n",
       "0     -0.161502  0.011925       1        1  27.284261\n",
       "1      0.086878  0.078613       2        1  22.078248\n",
       "2      0.045614 -0.137153       3        1  24.117832\n",
       "3      0.029010  0.046614       4        1  26.519660, topic_info=          Term         Freq        Total Category  logprob  loglift\n",
       "420   pressure   739.000000   739.000000  Default  30.0000  30.0000\n",
       "419      blood  1626.000000  1626.000000  Default  29.0000  29.0000\n",
       "679      level   821.000000   821.000000  Default  28.0000  28.0000\n",
       "41         eye   496.000000   496.000000  Default  27.0000  27.0000\n",
       "171  infection   645.000000   645.000000  Default  26.0000  26.0000\n",
       "..         ...          ...          ...      ...      ...      ...\n",
       "127       dose   248.363891  1117.510456   Topic4  -4.9516  -0.1767\n",
       "140       most   224.560880   857.412628   Topic4  -5.0524  -0.0125\n",
       "39         any   244.922868  1493.622695   Topic4  -4.9656  -0.4807\n",
       "171  infection   198.608296   645.286198   Topic4  -5.1752   0.1489\n",
       "59        stop   197.058258   724.600521   Topic4  -5.1830   0.0252\n",
       "\n",
       "[361 rows x 6 columns], token_table=      Topic      Freq      Term\n",
       "term                           \n",
       "98        1  0.032223     about\n",
       "98        2  0.133189     about\n",
       "98        3  0.678834     about\n",
       "98        4  0.156819     about\n",
       "1027      3  0.967646    aceclo\n",
       "...     ...       ...       ...\n",
       "885       2  0.962822  workload\n",
       "207       1  0.046205    worsen\n",
       "207       2  0.024880    worsen\n",
       "207       3  0.639762    worsen\n",
       "207       4  0.287893    worsen\n",
       "\n",
       "[755 rows x 3 columns], R=30, lambda_step=0.01, plot_opts={'xlab': 'PC1', 'ylab': 'PC2'}, topic_order=[1, 2, 3, 4])"
      ]
     },
     "execution_count": 30,
     "metadata": {},
     "output_type": "execute_result"
    }
   ],
   "source": [
    "vis4 = pyLDAvis.gensim_models.prepare(Lda4, Corpus, D, sort_topics = False)\n",
    "vis4"
   ]
  },
  {
   "cell_type": "markdown",
   "metadata": {},
   "source": [
    "# Save model\n",
    "- best coherence score (and visually best separations) with LDA model with 5 topics"
   ]
  },
  {
   "cell_type": "code",
   "execution_count": 32,
   "metadata": {},
   "outputs": [],
   "source": [
    "Lda4.save('../models/lda4.model')"
   ]
  },
  {
   "cell_type": "code",
   "execution_count": 33,
   "metadata": {},
   "outputs": [],
   "source": [
    "pyLDAvis.save_html(vis4, '../models/vis4.html')"
   ]
  },
  {
   "cell_type": "code",
   "execution_count": null,
   "metadata": {},
   "outputs": [],
   "source": []
  },
  {
   "cell_type": "code",
   "execution_count": null,
   "metadata": {},
   "outputs": [],
   "source": []
  },
  {
   "cell_type": "code",
   "execution_count": null,
   "metadata": {},
   "outputs": [],
   "source": []
  },
  {
   "cell_type": "code",
   "execution_count": null,
   "metadata": {},
   "outputs": [],
   "source": []
  },
  {
   "cell_type": "markdown",
   "metadata": {},
   "source": [
    "## transform corpus into topic distribution matrices "
   ]
  },
  {
   "cell_type": "code",
   "execution_count": null,
   "metadata": {},
   "outputs": [],
   "source": [
    "corpus_transformed = lda4[corpus]"
   ]
  },
  {
   "cell_type": "markdown",
   "metadata": {},
   "source": [
    "### function to show original text, tokens, most likely topics and topic terms"
   ]
  },
  {
   "cell_type": "code",
   "execution_count": null,
   "metadata": {},
   "outputs": [],
   "source": [
    "def show_prediction(index):\n",
    "    \n",
    "    print(df.iloc[index]['Introduction'])\n",
    "    \n",
    "    df = (pd.DataFrame(corpus_transformed[index], columns = ['topic', 'probability'])\n",
    "                       .sort_values(by = ['probability'], ascending = False)\n",
    "                       .reset_index(drop = True))\n",
    "    print()\n",
    "    \n",
    "    print(df)\n",
    "    \n",
    "    list_topics = []\n",
    "    for i in range(len(df)):\n",
    "        if (float(df.iloc[i]['probability']) > 0.1):\n",
    "            list_topics.append(int(df.iloc[i]['topic']))\n",
    "    print('most likely topics: ', list_topics)\n",
    "    print()\n",
    "    \n",
    "    for t in list_topics:\n",
    "        print(lda4.print_topics()[t])\n",
    "    \n",
    "    return()\n",
    "    "
   ]
  },
  {
   "cell_type": "code",
   "execution_count": null,
   "metadata": {},
   "outputs": [],
   "source": [
    "# pd.set_option('display.max_colwidth', 500)\n",
    "# df['Introduction'][0]\n",
    "df.iloc[13]['Introduction']"
   ]
  },
  {
   "cell_type": "code",
   "execution_count": null,
   "metadata": {},
   "outputs": [],
   "source": [
    "show_prediction(1)"
   ]
  },
  {
   "cell_type": "markdown",
   "metadata": {},
   "source": [
    "### transform inf corpus into inf topic distribution matrix"
   ]
  },
  {
   "cell_type": "code",
   "execution_count": null,
   "metadata": {},
   "outputs": [],
   "source": [
    "inf_count_matrix_T = inf_count_matrix.transpose()\n",
    "\n",
    "inf_corpus = matutils.Sparse2Corpus(inf_count_matrix_T)"
   ]
  },
  {
   "cell_type": "code",
   "execution_count": null,
   "metadata": {},
   "outputs": [],
   "source": [
    "inf_corpus_transformed = lda4[inf_corpus]"
   ]
  },
  {
   "cell_type": "markdown",
   "metadata": {},
   "source": [
    "### function to show inf text, tokens, most likely topics and topic terms¶"
   ]
  },
  {
   "cell_type": "code",
   "execution_count": null,
   "metadata": {},
   "outputs": [],
   "source": [
    "def show_inf_prediction(index):\n",
    "    \n",
    "    print(df_inf.iloc[index])\n",
    "    \n",
    "    df = (pd.DataFrame(inf_corpus_transformed[index], columns = ['topic', 'probability'])\n",
    "                       .sort_values(by = ['probability'], ascending = False)\n",
    "                       .reset_index(drop = True))\n",
    "    print()\n",
    "    \n",
    "    print(df)\n",
    "    \n",
    "    list_topics = []\n",
    "    for i in range(len(df)):\n",
    "        if (float(df.iloc[i]['probability']) > 0.1):\n",
    "            list_topics.append(int(df.iloc[i]['topic']))\n",
    "    print('most likely topics: ', list_topics)\n",
    "    print()\n",
    "    \n",
    "    for t in list_topics:\n",
    "        print(lda4.print_topics()[t]) \n",
    "    \n",
    "    return()"
   ]
  },
  {
   "cell_type": "markdown",
   "metadata": {},
   "source": [
    "## 4. Calculate distance between each piece of text"
   ]
  },
  {
   "cell_type": "markdown",
   "metadata": {},
   "source": [
    "### tabelog topic probabilities"
   ]
  },
  {
   "cell_type": "code",
   "execution_count": null,
   "metadata": {},
   "outputs": [],
   "source": [
    "df_tabelog_topic_prob = pd.DataFrame(columns = range(4))\n",
    "\n",
    "for i in range(len(df_tabelog)):\n",
    "    list_probabilities = corpus_transformed[i]\n",
    "    dict_probabailites = {item[0]: item[1:] for item in list_probabilities}\n",
    "    df_probabilities = pd.DataFrame(dict_probabailites)\n",
    "    df_tabelog_topic_prob = pd.concat([df_tabelog_topic_prob, df_probabilities],\n",
    "                                     axis = 0)"
   ]
  },
  {
   "cell_type": "code",
   "execution_count": null,
   "metadata": {},
   "outputs": [],
   "source": [
    "df_tabelog_topic_prob.fillna(0, inplace = True)"
   ]
  },
  {
   "cell_type": "code",
   "execution_count": null,
   "metadata": {},
   "outputs": [],
   "source": [
    "df_tabelog_topic_prob.head()"
   ]
  },
  {
   "cell_type": "markdown",
   "metadata": {},
   "source": [
    "### inf topic probabilities"
   ]
  },
  {
   "cell_type": "code",
   "execution_count": null,
   "metadata": {},
   "outputs": [],
   "source": [
    "df_inf_topic_prob = pd.DataFrame(columns = range(4))\n",
    "\n",
    "for i in range(len(df_inf)):\n",
    "    list_probabilities = inf_corpus_transformed[i]\n",
    "    dict_probabailites = {item[0]: item[1:] for item in list_probabilities}\n",
    "    df_probabilities = pd.DataFrame(dict_probabailites)\n",
    "    df_inf_topic_prob = pd.concat([df_inf_topic_prob, df_probabilities],\n",
    "                                     axis = 0)"
   ]
  },
  {
   "cell_type": "code",
   "execution_count": null,
   "metadata": {},
   "outputs": [],
   "source": [
    "df_inf_topic_prob"
   ]
  },
  {
   "cell_type": "markdown",
   "metadata": {
    "collapsed": true
   },
   "source": [
    "### find Jensen-Shannon distance"
   ]
  },
  {
   "cell_type": "code",
   "execution_count": null,
   "metadata": {},
   "outputs": [],
   "source": [
    "# e.g. tabelog entry 0, inf 0\n",
    "tabelog_inf_distance = distance.jensenshannon(list(df_tabelog_topic_prob.iloc[0]), list(df_inf_topic_prob.iloc[0]))"
   ]
  },
  {
   "cell_type": "code",
   "execution_count": null,
   "metadata": {},
   "outputs": [],
   "source": [
    "tabelog_inf_distance"
   ]
  },
  {
   "cell_type": "code",
   "execution_count": null,
   "metadata": {},
   "outputs": [],
   "source": []
  },
  {
   "cell_type": "markdown",
   "metadata": {
    "collapsed": true
   },
   "source": [
    "# Part 2. Clustering\n",
    "1. Get average text vectors using pre-trained model vectors\n",
    "2. kMeans clustering"
   ]
  },
  {
   "cell_type": "code",
   "execution_count": null,
   "metadata": {},
   "outputs": [],
   "source": [
    "from sklearn.cluster import KMeans\n",
    "from sklearn.manifold import TSNE\n",
    "from sklearn.metrics.pairwise import cosine_similarity"
   ]
  },
  {
   "cell_type": "markdown",
   "metadata": {},
   "source": [
    "## 1. Get text vectors"
   ]
  },
  {
   "cell_type": "markdown",
   "metadata": {},
   "source": [
    "- to get pretrained word vectors (English)\n",
    "    - https://radimrehurek.com/gensim/auto_examples/howtos/run_downloader_api.html"
   ]
  },
  {
   "cell_type": "code",
   "execution_count": null,
   "metadata": {},
   "outputs": [],
   "source": [
    "import gensim.downloader as api"
   ]
  },
  {
   "cell_type": "code",
   "execution_count": null,
   "metadata": {},
   "outputs": [],
   "source": [
    "gensim_corpus = api.load('text8')"
   ]
  },
  {
   "cell_type": "code",
   "execution_count": null,
   "metadata": {},
   "outputs": [],
   "source": [
    "import inspect\n",
    "print(inspect.getsource(gensim_corpus.__class__))"
   ]
  },
  {
   "cell_type": "code",
   "execution_count": null,
   "metadata": {},
   "outputs": [],
   "source": [
    "from gensim.models.word2vec import Word2Vec\n",
    "model = Word2Vec(gensim_corpus)"
   ]
  },
  {
   "cell_type": "code",
   "execution_count": null,
   "metadata": {},
   "outputs": [],
   "source": [
    "print(model.wv.most_similar('tree'))"
   ]
  },
  {
   "cell_type": "markdown",
   "metadata": {},
   "source": [
    "- Japanese pretrained models, word vectors\n",
    "    - https://qiita.com/Hironsan/items/8f7d35f0a36e0f99752c\n",
    "    - https://qiita.com/Hironsan/items/513b9f93752ecee9e670\n",
    "        - download Word vectors (NEologd)"
   ]
  },
  {
   "cell_type": "code",
   "execution_count": null,
   "metadata": {},
   "outputs": [],
   "source": [
    "local_path = '/Users/carmen/Downloads/'\n",
    "model = gensim.models.KeyedVectors.load_word2vec_format(local_path + 'model.vec', binary = False)"
   ]
  },
  {
   "cell_type": "code",
   "execution_count": null,
   "metadata": {},
   "outputs": [],
   "source": [
    "# testing\n",
    "model.most_similar('日本人')"
   ]
  },
  {
   "cell_type": "code",
   "execution_count": null,
   "metadata": {},
   "outputs": [],
   "source": [
    "def get_average_vector_from_tokens(list_tokens):\n",
    "    list_vectors = []\n",
    "    \n",
    "    for i in list_tokens:\n",
    "        try:\n",
    "            vector = model[i]\n",
    "            list_vectors.append(vector)\n",
    "        except:\n",
    "            continue\n",
    "            \n",
    "    average_vector = np.mean(list_vectors, axis = 0)\n",
    "    \n",
    "    return average_vector"
   ]
  },
  {
   "cell_type": "code",
   "execution_count": null,
   "metadata": {},
   "outputs": [],
   "source": [
    "df_tabelog['tabelog_vector'] = df_tabelog['tokens'].apply(lambda x: get_average_vector_from_tokens(x))"
   ]
  },
  {
   "cell_type": "markdown",
   "metadata": {},
   "source": [
    "## 2. kMeans clustering"
   ]
  },
  {
   "cell_type": "code",
   "execution_count": null,
   "metadata": {},
   "outputs": [],
   "source": [
    "modelkmeans = KMeans(n_clusters = 4, init = 'k-means++', n_init = 100)"
   ]
  },
  {
   "cell_type": "code",
   "execution_count": null,
   "metadata": {},
   "outputs": [],
   "source": [
    "modelkmeans.fit(list(df_tabelog['tabelog_vector']))"
   ]
  },
  {
   "cell_type": "code",
   "execution_count": null,
   "metadata": {},
   "outputs": [],
   "source": [
    "df_tabelog['kmeans_cluster'] = modelkmeans.predict(list(df_tabelog['tabelog_vector']))"
   ]
  },
  {
   "cell_type": "code",
   "execution_count": null,
   "metadata": {},
   "outputs": [],
   "source": [
    "df_tabelog.head(2)"
   ]
  },
  {
   "cell_type": "markdown",
   "metadata": {
    "collapsed": true
   },
   "source": [
    "### visualize using TSNE"
   ]
  },
  {
   "cell_type": "code",
   "execution_count": null,
   "metadata": {},
   "outputs": [],
   "source": [
    "tsne = TSNE(n_components = 2,\n",
    "           init = 'random',\n",
    "           random_state = 10,\n",
    "           perplexity = 10)"
   ]
  },
  {
   "cell_type": "code",
   "execution_count": null,
   "metadata": {},
   "outputs": [],
   "source": [
    "embedding = tsne.fit_transform(list(df_tabelog['tabelog_vector']))\n",
    "\n",
    "df_embedding = pd.DataFrame(embedding)\n",
    "df_embedding.rename(columns = {0:'x',\n",
    "                              1:'y'},\n",
    "                   inplace = True)"
   ]
  },
  {
   "cell_type": "code",
   "execution_count": null,
   "metadata": {},
   "outputs": [],
   "source": [
    "df_embedding.head()"
   ]
  },
  {
   "cell_type": "code",
   "execution_count": null,
   "metadata": {},
   "outputs": [],
   "source": [
    "df_tabelog = pd.concat([df_tabelog, df_embedding],\n",
    "                      axis = 1)"
   ]
  },
  {
   "cell_type": "code",
   "execution_count": null,
   "metadata": {},
   "outputs": [],
   "source": [
    "df_tabelog.head(2)"
   ]
  },
  {
   "cell_type": "code",
   "execution_count": null,
   "metadata": {},
   "outputs": [],
   "source": [
    "plt.figure(figsize = (8, 8))\n",
    "sns.scatterplot(df_tabelog['x'],\n",
    "               df_tabelog['y'],\n",
    "               hue = df_tabelog['kmeans_cluster'],\n",
    "               legend = 'full',\n",
    "               palette = 'Accent')\n",
    "plt.show()"
   ]
  },
  {
   "cell_type": "code",
   "execution_count": null,
   "metadata": {},
   "outputs": [],
   "source": []
  },
  {
   "cell_type": "code",
   "execution_count": null,
   "metadata": {},
   "outputs": [],
   "source": []
  },
  {
   "cell_type": "code",
   "execution_count": null,
   "metadata": {},
   "outputs": [],
   "source": []
  },
  {
   "cell_type": "code",
   "execution_count": null,
   "metadata": {},
   "outputs": [],
   "source": []
  },
  {
   "cell_type": "code",
   "execution_count": null,
   "metadata": {},
   "outputs": [],
   "source": []
  },
  {
   "cell_type": "code",
   "execution_count": null,
   "metadata": {},
   "outputs": [],
   "source": []
  },
  {
   "cell_type": "code",
   "execution_count": null,
   "metadata": {},
   "outputs": [],
   "source": []
  },
  {
   "cell_type": "code",
   "execution_count": null,
   "metadata": {},
   "outputs": [],
   "source": []
  },
  {
   "cell_type": "code",
   "execution_count": null,
   "metadata": {},
   "outputs": [],
   "source": []
  },
  {
   "cell_type": "code",
   "execution_count": null,
   "metadata": {},
   "outputs": [],
   "source": []
  }
 ],
 "metadata": {
  "kernelspec": {
   "display_name": "streamlit",
   "language": "python",
   "name": "streamlit"
  },
  "language_info": {
   "codemirror_mode": {
    "name": "ipython",
    "version": 3
   },
   "file_extension": ".py",
   "mimetype": "text/x-python",
   "name": "python",
   "nbconvert_exporter": "python",
   "pygments_lexer": "ipython3",
   "version": "3.11.5"
  }
 },
 "nbformat": 4,
 "nbformat_minor": 2
}
